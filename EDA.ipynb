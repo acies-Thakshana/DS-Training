{
 "cells": [
  {
   "cell_type": "code",
   "execution_count": 1,
   "metadata": {},
   "outputs": [],
   "source": [
    "import pandas as pd\n",
    "import numpy as np\n",
    "import plotly.graph_objects as go\n",
    "import plotly.express as px\n",
    "import seaborn as sns\n",
    "from sklearn.preprocessing import LabelEncoder\n",
    "import matplotlib.pyplot as plt"
   ]
  },
  {
   "cell_type": "code",
   "execution_count": 2,
   "metadata": {},
   "outputs": [
    {
     "data": {
      "text/html": [
       "<div>\n",
       "<style scoped>\n",
       "    .dataframe tbody tr th:only-of-type {\n",
       "        vertical-align: middle;\n",
       "    }\n",
       "\n",
       "    .dataframe tbody tr th {\n",
       "        vertical-align: top;\n",
       "    }\n",
       "\n",
       "    .dataframe thead th {\n",
       "        text-align: right;\n",
       "    }\n",
       "</style>\n",
       "<table border=\"1\" class=\"dataframe\">\n",
       "  <thead>\n",
       "    <tr style=\"text-align: right;\">\n",
       "      <th></th>\n",
       "      <th>Booking_ID</th>\n",
       "      <th>no_of_adults</th>\n",
       "      <th>no_of_children</th>\n",
       "      <th>no_of_weekend_nights</th>\n",
       "      <th>no_of_week_nights</th>\n",
       "      <th>type_of_meal_plan</th>\n",
       "      <th>required_car_parking_space</th>\n",
       "      <th>room_type_reserved</th>\n",
       "      <th>lead_time</th>\n",
       "      <th>arrival_year</th>\n",
       "      <th>arrival_month</th>\n",
       "      <th>arrival_date</th>\n",
       "      <th>market_segment_type</th>\n",
       "      <th>repeated_guest</th>\n",
       "      <th>no_of_previous_cancellations</th>\n",
       "      <th>no_of_previous_bookings_not_canceled</th>\n",
       "      <th>avg_price_per_room</th>\n",
       "      <th>no_of_special_requests</th>\n",
       "      <th>booking_status</th>\n",
       "    </tr>\n",
       "  </thead>\n",
       "  <tbody>\n",
       "    <tr>\n",
       "      <th>0</th>\n",
       "      <td>INN00001</td>\n",
       "      <td>2</td>\n",
       "      <td>0</td>\n",
       "      <td>1</td>\n",
       "      <td>2</td>\n",
       "      <td>Meal Plan 1</td>\n",
       "      <td>0</td>\n",
       "      <td>Room_Type 1</td>\n",
       "      <td>224</td>\n",
       "      <td>2017</td>\n",
       "      <td>10</td>\n",
       "      <td>2</td>\n",
       "      <td>Offline</td>\n",
       "      <td>0</td>\n",
       "      <td>0</td>\n",
       "      <td>0</td>\n",
       "      <td>65.00</td>\n",
       "      <td>0</td>\n",
       "      <td>Not_Canceled</td>\n",
       "    </tr>\n",
       "    <tr>\n",
       "      <th>1</th>\n",
       "      <td>INN00002</td>\n",
       "      <td>2</td>\n",
       "      <td>0</td>\n",
       "      <td>2</td>\n",
       "      <td>3</td>\n",
       "      <td>Not Selected</td>\n",
       "      <td>0</td>\n",
       "      <td>Room_Type 1</td>\n",
       "      <td>5</td>\n",
       "      <td>2018</td>\n",
       "      <td>11</td>\n",
       "      <td>6</td>\n",
       "      <td>Online</td>\n",
       "      <td>0</td>\n",
       "      <td>0</td>\n",
       "      <td>0</td>\n",
       "      <td>106.68</td>\n",
       "      <td>1</td>\n",
       "      <td>Not_Canceled</td>\n",
       "    </tr>\n",
       "    <tr>\n",
       "      <th>2</th>\n",
       "      <td>INN00003</td>\n",
       "      <td>1</td>\n",
       "      <td>0</td>\n",
       "      <td>2</td>\n",
       "      <td>1</td>\n",
       "      <td>Meal Plan 1</td>\n",
       "      <td>0</td>\n",
       "      <td>Room_Type 1</td>\n",
       "      <td>1</td>\n",
       "      <td>2018</td>\n",
       "      <td>2</td>\n",
       "      <td>28</td>\n",
       "      <td>Online</td>\n",
       "      <td>0</td>\n",
       "      <td>0</td>\n",
       "      <td>0</td>\n",
       "      <td>60.00</td>\n",
       "      <td>0</td>\n",
       "      <td>Canceled</td>\n",
       "    </tr>\n",
       "    <tr>\n",
       "      <th>3</th>\n",
       "      <td>INN00004</td>\n",
       "      <td>2</td>\n",
       "      <td>0</td>\n",
       "      <td>0</td>\n",
       "      <td>2</td>\n",
       "      <td>Meal Plan 1</td>\n",
       "      <td>0</td>\n",
       "      <td>Room_Type 1</td>\n",
       "      <td>211</td>\n",
       "      <td>2018</td>\n",
       "      <td>5</td>\n",
       "      <td>20</td>\n",
       "      <td>Online</td>\n",
       "      <td>0</td>\n",
       "      <td>0</td>\n",
       "      <td>0</td>\n",
       "      <td>100.00</td>\n",
       "      <td>0</td>\n",
       "      <td>Canceled</td>\n",
       "    </tr>\n",
       "    <tr>\n",
       "      <th>4</th>\n",
       "      <td>INN00005</td>\n",
       "      <td>2</td>\n",
       "      <td>0</td>\n",
       "      <td>1</td>\n",
       "      <td>1</td>\n",
       "      <td>Not Selected</td>\n",
       "      <td>0</td>\n",
       "      <td>Room_Type 1</td>\n",
       "      <td>48</td>\n",
       "      <td>2018</td>\n",
       "      <td>4</td>\n",
       "      <td>11</td>\n",
       "      <td>Online</td>\n",
       "      <td>0</td>\n",
       "      <td>0</td>\n",
       "      <td>0</td>\n",
       "      <td>94.50</td>\n",
       "      <td>0</td>\n",
       "      <td>Canceled</td>\n",
       "    </tr>\n",
       "    <tr>\n",
       "      <th>...</th>\n",
       "      <td>...</td>\n",
       "      <td>...</td>\n",
       "      <td>...</td>\n",
       "      <td>...</td>\n",
       "      <td>...</td>\n",
       "      <td>...</td>\n",
       "      <td>...</td>\n",
       "      <td>...</td>\n",
       "      <td>...</td>\n",
       "      <td>...</td>\n",
       "      <td>...</td>\n",
       "      <td>...</td>\n",
       "      <td>...</td>\n",
       "      <td>...</td>\n",
       "      <td>...</td>\n",
       "      <td>...</td>\n",
       "      <td>...</td>\n",
       "      <td>...</td>\n",
       "      <td>...</td>\n",
       "    </tr>\n",
       "    <tr>\n",
       "      <th>36270</th>\n",
       "      <td>INN36271</td>\n",
       "      <td>3</td>\n",
       "      <td>0</td>\n",
       "      <td>2</td>\n",
       "      <td>6</td>\n",
       "      <td>Meal Plan 1</td>\n",
       "      <td>0</td>\n",
       "      <td>Room_Type 4</td>\n",
       "      <td>85</td>\n",
       "      <td>2018</td>\n",
       "      <td>8</td>\n",
       "      <td>3</td>\n",
       "      <td>Online</td>\n",
       "      <td>0</td>\n",
       "      <td>0</td>\n",
       "      <td>0</td>\n",
       "      <td>167.80</td>\n",
       "      <td>1</td>\n",
       "      <td>Not_Canceled</td>\n",
       "    </tr>\n",
       "    <tr>\n",
       "      <th>36271</th>\n",
       "      <td>INN36272</td>\n",
       "      <td>2</td>\n",
       "      <td>0</td>\n",
       "      <td>1</td>\n",
       "      <td>3</td>\n",
       "      <td>Meal Plan 1</td>\n",
       "      <td>0</td>\n",
       "      <td>Room_Type 1</td>\n",
       "      <td>228</td>\n",
       "      <td>2018</td>\n",
       "      <td>10</td>\n",
       "      <td>17</td>\n",
       "      <td>Online</td>\n",
       "      <td>0</td>\n",
       "      <td>0</td>\n",
       "      <td>0</td>\n",
       "      <td>90.95</td>\n",
       "      <td>2</td>\n",
       "      <td>Canceled</td>\n",
       "    </tr>\n",
       "    <tr>\n",
       "      <th>36272</th>\n",
       "      <td>INN36273</td>\n",
       "      <td>2</td>\n",
       "      <td>0</td>\n",
       "      <td>2</td>\n",
       "      <td>6</td>\n",
       "      <td>Meal Plan 1</td>\n",
       "      <td>0</td>\n",
       "      <td>Room_Type 1</td>\n",
       "      <td>148</td>\n",
       "      <td>2018</td>\n",
       "      <td>7</td>\n",
       "      <td>1</td>\n",
       "      <td>Online</td>\n",
       "      <td>0</td>\n",
       "      <td>0</td>\n",
       "      <td>0</td>\n",
       "      <td>98.39</td>\n",
       "      <td>2</td>\n",
       "      <td>Not_Canceled</td>\n",
       "    </tr>\n",
       "    <tr>\n",
       "      <th>36273</th>\n",
       "      <td>INN36274</td>\n",
       "      <td>2</td>\n",
       "      <td>0</td>\n",
       "      <td>0</td>\n",
       "      <td>3</td>\n",
       "      <td>Not Selected</td>\n",
       "      <td>0</td>\n",
       "      <td>Room_Type 1</td>\n",
       "      <td>63</td>\n",
       "      <td>2018</td>\n",
       "      <td>4</td>\n",
       "      <td>21</td>\n",
       "      <td>Online</td>\n",
       "      <td>0</td>\n",
       "      <td>0</td>\n",
       "      <td>0</td>\n",
       "      <td>94.50</td>\n",
       "      <td>0</td>\n",
       "      <td>Canceled</td>\n",
       "    </tr>\n",
       "    <tr>\n",
       "      <th>36274</th>\n",
       "      <td>INN36275</td>\n",
       "      <td>2</td>\n",
       "      <td>0</td>\n",
       "      <td>1</td>\n",
       "      <td>2</td>\n",
       "      <td>Meal Plan 1</td>\n",
       "      <td>0</td>\n",
       "      <td>Room_Type 1</td>\n",
       "      <td>207</td>\n",
       "      <td>2018</td>\n",
       "      <td>12</td>\n",
       "      <td>30</td>\n",
       "      <td>Offline</td>\n",
       "      <td>0</td>\n",
       "      <td>0</td>\n",
       "      <td>0</td>\n",
       "      <td>161.67</td>\n",
       "      <td>0</td>\n",
       "      <td>Not_Canceled</td>\n",
       "    </tr>\n",
       "  </tbody>\n",
       "</table>\n",
       "<p>36275 rows × 19 columns</p>\n",
       "</div>"
      ],
      "text/plain": [
       "      Booking_ID  no_of_adults  no_of_children  no_of_weekend_nights  \\\n",
       "0       INN00001             2               0                     1   \n",
       "1       INN00002             2               0                     2   \n",
       "2       INN00003             1               0                     2   \n",
       "3       INN00004             2               0                     0   \n",
       "4       INN00005             2               0                     1   \n",
       "...          ...           ...             ...                   ...   \n",
       "36270   INN36271             3               0                     2   \n",
       "36271   INN36272             2               0                     1   \n",
       "36272   INN36273             2               0                     2   \n",
       "36273   INN36274             2               0                     0   \n",
       "36274   INN36275             2               0                     1   \n",
       "\n",
       "       no_of_week_nights type_of_meal_plan  required_car_parking_space  \\\n",
       "0                      2       Meal Plan 1                           0   \n",
       "1                      3      Not Selected                           0   \n",
       "2                      1       Meal Plan 1                           0   \n",
       "3                      2       Meal Plan 1                           0   \n",
       "4                      1      Not Selected                           0   \n",
       "...                  ...               ...                         ...   \n",
       "36270                  6       Meal Plan 1                           0   \n",
       "36271                  3       Meal Plan 1                           0   \n",
       "36272                  6       Meal Plan 1                           0   \n",
       "36273                  3      Not Selected                           0   \n",
       "36274                  2       Meal Plan 1                           0   \n",
       "\n",
       "      room_type_reserved  lead_time  arrival_year  arrival_month  \\\n",
       "0            Room_Type 1        224          2017             10   \n",
       "1            Room_Type 1          5          2018             11   \n",
       "2            Room_Type 1          1          2018              2   \n",
       "3            Room_Type 1        211          2018              5   \n",
       "4            Room_Type 1         48          2018              4   \n",
       "...                  ...        ...           ...            ...   \n",
       "36270        Room_Type 4         85          2018              8   \n",
       "36271        Room_Type 1        228          2018             10   \n",
       "36272        Room_Type 1        148          2018              7   \n",
       "36273        Room_Type 1         63          2018              4   \n",
       "36274        Room_Type 1        207          2018             12   \n",
       "\n",
       "       arrival_date market_segment_type  repeated_guest  \\\n",
       "0                 2             Offline               0   \n",
       "1                 6              Online               0   \n",
       "2                28              Online               0   \n",
       "3                20              Online               0   \n",
       "4                11              Online               0   \n",
       "...             ...                 ...             ...   \n",
       "36270             3              Online               0   \n",
       "36271            17              Online               0   \n",
       "36272             1              Online               0   \n",
       "36273            21              Online               0   \n",
       "36274            30             Offline               0   \n",
       "\n",
       "       no_of_previous_cancellations  no_of_previous_bookings_not_canceled  \\\n",
       "0                                 0                                     0   \n",
       "1                                 0                                     0   \n",
       "2                                 0                                     0   \n",
       "3                                 0                                     0   \n",
       "4                                 0                                     0   \n",
       "...                             ...                                   ...   \n",
       "36270                             0                                     0   \n",
       "36271                             0                                     0   \n",
       "36272                             0                                     0   \n",
       "36273                             0                                     0   \n",
       "36274                             0                                     0   \n",
       "\n",
       "       avg_price_per_room  no_of_special_requests booking_status  \n",
       "0                   65.00                       0   Not_Canceled  \n",
       "1                  106.68                       1   Not_Canceled  \n",
       "2                   60.00                       0       Canceled  \n",
       "3                  100.00                       0       Canceled  \n",
       "4                   94.50                       0       Canceled  \n",
       "...                   ...                     ...            ...  \n",
       "36270              167.80                       1   Not_Canceled  \n",
       "36271               90.95                       2       Canceled  \n",
       "36272               98.39                       2   Not_Canceled  \n",
       "36273               94.50                       0       Canceled  \n",
       "36274              161.67                       0   Not_Canceled  \n",
       "\n",
       "[36275 rows x 19 columns]"
      ]
     },
     "execution_count": 2,
     "metadata": {},
     "output_type": "execute_result"
    }
   ],
   "source": [
    "df = pd.read_csv(r\"C:\\Users\\DYNABOOK\\Downloads\\Hotel Reservations (1).csv\")\n",
    "df"
   ]
  },
  {
   "cell_type": "code",
   "execution_count": 3,
   "metadata": {},
   "outputs": [
    {
     "data": {
      "text/html": [
       "<div>\n",
       "<style scoped>\n",
       "    .dataframe tbody tr th:only-of-type {\n",
       "        vertical-align: middle;\n",
       "    }\n",
       "\n",
       "    .dataframe tbody tr th {\n",
       "        vertical-align: top;\n",
       "    }\n",
       "\n",
       "    .dataframe thead th {\n",
       "        text-align: right;\n",
       "    }\n",
       "</style>\n",
       "<table border=\"1\" class=\"dataframe\">\n",
       "  <thead>\n",
       "    <tr style=\"text-align: right;\">\n",
       "      <th></th>\n",
       "      <th>no_of_adults</th>\n",
       "      <th>no_of_children</th>\n",
       "      <th>no_of_weekend_nights</th>\n",
       "      <th>no_of_week_nights</th>\n",
       "      <th>required_car_parking_space</th>\n",
       "      <th>lead_time</th>\n",
       "      <th>arrival_year</th>\n",
       "      <th>arrival_month</th>\n",
       "      <th>arrival_date</th>\n",
       "      <th>repeated_guest</th>\n",
       "      <th>no_of_previous_cancellations</th>\n",
       "      <th>no_of_previous_bookings_not_canceled</th>\n",
       "      <th>avg_price_per_room</th>\n",
       "      <th>no_of_special_requests</th>\n",
       "    </tr>\n",
       "  </thead>\n",
       "  <tbody>\n",
       "    <tr>\n",
       "      <th>count</th>\n",
       "      <td>36275.000000</td>\n",
       "      <td>36275.000000</td>\n",
       "      <td>36275.000000</td>\n",
       "      <td>36275.000000</td>\n",
       "      <td>36275.000000</td>\n",
       "      <td>36275.000000</td>\n",
       "      <td>36275.000000</td>\n",
       "      <td>36275.000000</td>\n",
       "      <td>36275.000000</td>\n",
       "      <td>36275.000000</td>\n",
       "      <td>36275.000000</td>\n",
       "      <td>36275.000000</td>\n",
       "      <td>36275.000000</td>\n",
       "      <td>36275.000000</td>\n",
       "    </tr>\n",
       "    <tr>\n",
       "      <th>mean</th>\n",
       "      <td>1.844962</td>\n",
       "      <td>0.105279</td>\n",
       "      <td>0.810724</td>\n",
       "      <td>2.204300</td>\n",
       "      <td>0.030986</td>\n",
       "      <td>85.232557</td>\n",
       "      <td>2017.820427</td>\n",
       "      <td>7.423653</td>\n",
       "      <td>15.596995</td>\n",
       "      <td>0.025637</td>\n",
       "      <td>0.023349</td>\n",
       "      <td>0.153411</td>\n",
       "      <td>103.423539</td>\n",
       "      <td>0.619655</td>\n",
       "    </tr>\n",
       "    <tr>\n",
       "      <th>std</th>\n",
       "      <td>0.518715</td>\n",
       "      <td>0.402648</td>\n",
       "      <td>0.870644</td>\n",
       "      <td>1.410905</td>\n",
       "      <td>0.173281</td>\n",
       "      <td>85.930817</td>\n",
       "      <td>0.383836</td>\n",
       "      <td>3.069894</td>\n",
       "      <td>8.740447</td>\n",
       "      <td>0.158053</td>\n",
       "      <td>0.368331</td>\n",
       "      <td>1.754171</td>\n",
       "      <td>35.089424</td>\n",
       "      <td>0.786236</td>\n",
       "    </tr>\n",
       "    <tr>\n",
       "      <th>min</th>\n",
       "      <td>0.000000</td>\n",
       "      <td>0.000000</td>\n",
       "      <td>0.000000</td>\n",
       "      <td>0.000000</td>\n",
       "      <td>0.000000</td>\n",
       "      <td>0.000000</td>\n",
       "      <td>2017.000000</td>\n",
       "      <td>1.000000</td>\n",
       "      <td>1.000000</td>\n",
       "      <td>0.000000</td>\n",
       "      <td>0.000000</td>\n",
       "      <td>0.000000</td>\n",
       "      <td>0.000000</td>\n",
       "      <td>0.000000</td>\n",
       "    </tr>\n",
       "    <tr>\n",
       "      <th>25%</th>\n",
       "      <td>2.000000</td>\n",
       "      <td>0.000000</td>\n",
       "      <td>0.000000</td>\n",
       "      <td>1.000000</td>\n",
       "      <td>0.000000</td>\n",
       "      <td>17.000000</td>\n",
       "      <td>2018.000000</td>\n",
       "      <td>5.000000</td>\n",
       "      <td>8.000000</td>\n",
       "      <td>0.000000</td>\n",
       "      <td>0.000000</td>\n",
       "      <td>0.000000</td>\n",
       "      <td>80.300000</td>\n",
       "      <td>0.000000</td>\n",
       "    </tr>\n",
       "    <tr>\n",
       "      <th>50%</th>\n",
       "      <td>2.000000</td>\n",
       "      <td>0.000000</td>\n",
       "      <td>1.000000</td>\n",
       "      <td>2.000000</td>\n",
       "      <td>0.000000</td>\n",
       "      <td>57.000000</td>\n",
       "      <td>2018.000000</td>\n",
       "      <td>8.000000</td>\n",
       "      <td>16.000000</td>\n",
       "      <td>0.000000</td>\n",
       "      <td>0.000000</td>\n",
       "      <td>0.000000</td>\n",
       "      <td>99.450000</td>\n",
       "      <td>0.000000</td>\n",
       "    </tr>\n",
       "    <tr>\n",
       "      <th>75%</th>\n",
       "      <td>2.000000</td>\n",
       "      <td>0.000000</td>\n",
       "      <td>2.000000</td>\n",
       "      <td>3.000000</td>\n",
       "      <td>0.000000</td>\n",
       "      <td>126.000000</td>\n",
       "      <td>2018.000000</td>\n",
       "      <td>10.000000</td>\n",
       "      <td>23.000000</td>\n",
       "      <td>0.000000</td>\n",
       "      <td>0.000000</td>\n",
       "      <td>0.000000</td>\n",
       "      <td>120.000000</td>\n",
       "      <td>1.000000</td>\n",
       "    </tr>\n",
       "    <tr>\n",
       "      <th>max</th>\n",
       "      <td>4.000000</td>\n",
       "      <td>10.000000</td>\n",
       "      <td>7.000000</td>\n",
       "      <td>17.000000</td>\n",
       "      <td>1.000000</td>\n",
       "      <td>443.000000</td>\n",
       "      <td>2018.000000</td>\n",
       "      <td>12.000000</td>\n",
       "      <td>31.000000</td>\n",
       "      <td>1.000000</td>\n",
       "      <td>13.000000</td>\n",
       "      <td>58.000000</td>\n",
       "      <td>540.000000</td>\n",
       "      <td>5.000000</td>\n",
       "    </tr>\n",
       "  </tbody>\n",
       "</table>\n",
       "</div>"
      ],
      "text/plain": [
       "       no_of_adults  no_of_children  no_of_weekend_nights  no_of_week_nights  \\\n",
       "count  36275.000000    36275.000000          36275.000000       36275.000000   \n",
       "mean       1.844962        0.105279              0.810724           2.204300   \n",
       "std        0.518715        0.402648              0.870644           1.410905   \n",
       "min        0.000000        0.000000              0.000000           0.000000   \n",
       "25%        2.000000        0.000000              0.000000           1.000000   \n",
       "50%        2.000000        0.000000              1.000000           2.000000   \n",
       "75%        2.000000        0.000000              2.000000           3.000000   \n",
       "max        4.000000       10.000000              7.000000          17.000000   \n",
       "\n",
       "       required_car_parking_space     lead_time  arrival_year  arrival_month  \\\n",
       "count                36275.000000  36275.000000  36275.000000   36275.000000   \n",
       "mean                     0.030986     85.232557   2017.820427       7.423653   \n",
       "std                      0.173281     85.930817      0.383836       3.069894   \n",
       "min                      0.000000      0.000000   2017.000000       1.000000   \n",
       "25%                      0.000000     17.000000   2018.000000       5.000000   \n",
       "50%                      0.000000     57.000000   2018.000000       8.000000   \n",
       "75%                      0.000000    126.000000   2018.000000      10.000000   \n",
       "max                      1.000000    443.000000   2018.000000      12.000000   \n",
       "\n",
       "       arrival_date  repeated_guest  no_of_previous_cancellations  \\\n",
       "count  36275.000000    36275.000000                  36275.000000   \n",
       "mean      15.596995        0.025637                      0.023349   \n",
       "std        8.740447        0.158053                      0.368331   \n",
       "min        1.000000        0.000000                      0.000000   \n",
       "25%        8.000000        0.000000                      0.000000   \n",
       "50%       16.000000        0.000000                      0.000000   \n",
       "75%       23.000000        0.000000                      0.000000   \n",
       "max       31.000000        1.000000                     13.000000   \n",
       "\n",
       "       no_of_previous_bookings_not_canceled  avg_price_per_room  \\\n",
       "count                          36275.000000        36275.000000   \n",
       "mean                               0.153411          103.423539   \n",
       "std                                1.754171           35.089424   \n",
       "min                                0.000000            0.000000   \n",
       "25%                                0.000000           80.300000   \n",
       "50%                                0.000000           99.450000   \n",
       "75%                                0.000000          120.000000   \n",
       "max                               58.000000          540.000000   \n",
       "\n",
       "       no_of_special_requests  \n",
       "count            36275.000000  \n",
       "mean                 0.619655  \n",
       "std                  0.786236  \n",
       "min                  0.000000  \n",
       "25%                  0.000000  \n",
       "50%                  0.000000  \n",
       "75%                  1.000000  \n",
       "max                  5.000000  "
      ]
     },
     "execution_count": 3,
     "metadata": {},
     "output_type": "execute_result"
    }
   ],
   "source": [
    "df.describe()"
   ]
  },
  {
   "cell_type": "code",
   "execution_count": 4,
   "metadata": {},
   "outputs": [
    {
     "data": {
      "text/plain": [
       "(36275, 19)"
      ]
     },
     "execution_count": 4,
     "metadata": {},
     "output_type": "execute_result"
    }
   ],
   "source": [
    "df.shape"
   ]
  },
  {
   "cell_type": "code",
   "execution_count": 5,
   "metadata": {},
   "outputs": [
    {
     "data": {
      "text/plain": [
       "Booking_ID                              0\n",
       "no_of_adults                            0\n",
       "no_of_children                          0\n",
       "no_of_weekend_nights                    0\n",
       "no_of_week_nights                       0\n",
       "type_of_meal_plan                       0\n",
       "required_car_parking_space              0\n",
       "room_type_reserved                      0\n",
       "lead_time                               0\n",
       "arrival_year                            0\n",
       "arrival_month                           0\n",
       "arrival_date                            0\n",
       "market_segment_type                     0\n",
       "repeated_guest                          0\n",
       "no_of_previous_cancellations            0\n",
       "no_of_previous_bookings_not_canceled    0\n",
       "avg_price_per_room                      0\n",
       "no_of_special_requests                  0\n",
       "booking_status                          0\n",
       "dtype: int64"
      ]
     },
     "execution_count": 5,
     "metadata": {},
     "output_type": "execute_result"
    }
   ],
   "source": [
    "df.isnull().sum()"
   ]
  },
  {
   "cell_type": "code",
   "execution_count": 6,
   "metadata": {},
   "outputs": [
    {
     "name": "stdout",
     "output_type": "stream",
     "text": [
      "<class 'pandas.core.frame.DataFrame'>\n",
      "RangeIndex: 36275 entries, 0 to 36274\n",
      "Data columns (total 19 columns):\n",
      " #   Column                                Non-Null Count  Dtype  \n",
      "---  ------                                --------------  -----  \n",
      " 0   Booking_ID                            36275 non-null  object \n",
      " 1   no_of_adults                          36275 non-null  int64  \n",
      " 2   no_of_children                        36275 non-null  int64  \n",
      " 3   no_of_weekend_nights                  36275 non-null  int64  \n",
      " 4   no_of_week_nights                     36275 non-null  int64  \n",
      " 5   type_of_meal_plan                     36275 non-null  object \n",
      " 6   required_car_parking_space            36275 non-null  int64  \n",
      " 7   room_type_reserved                    36275 non-null  object \n",
      " 8   lead_time                             36275 non-null  int64  \n",
      " 9   arrival_year                          36275 non-null  int64  \n",
      " 10  arrival_month                         36275 non-null  int64  \n",
      " 11  arrival_date                          36275 non-null  int64  \n",
      " 12  market_segment_type                   36275 non-null  object \n",
      " 13  repeated_guest                        36275 non-null  int64  \n",
      " 14  no_of_previous_cancellations          36275 non-null  int64  \n",
      " 15  no_of_previous_bookings_not_canceled  36275 non-null  int64  \n",
      " 16  avg_price_per_room                    36275 non-null  float64\n",
      " 17  no_of_special_requests                36275 non-null  int64  \n",
      " 18  booking_status                        36275 non-null  object \n",
      "dtypes: float64(1), int64(13), object(5)\n",
      "memory usage: 5.3+ MB\n"
     ]
    }
   ],
   "source": [
    "df.info()"
   ]
  },
  {
   "cell_type": "code",
   "execution_count": 7,
   "metadata": {},
   "outputs": [
    {
     "data": {
      "application/vnd.plotly.v1+json": {
       "config": {
        "plotlyServerURL": "https://plot.ly"
       },
       "data": [
        {
         "hovertemplate": "room_type_reserved=%{x}<br>Booking_ID=%{y}<extra></extra>",
         "legendgroup": "",
         "marker": {
          "color": "#636efa",
          "pattern": {
           "shape": ""
          }
         },
         "name": "",
         "orientation": "v",
         "showlegend": false,
         "textposition": "auto",
         "type": "bar",
         "x": [
          "Room_Type 1",
          "Room_Type 2",
          "Room_Type 3",
          "Room_Type 4",
          "Room_Type 5",
          "Room_Type 6",
          "Room_Type 7"
         ],
         "xaxis": "x",
         "y": {
          "bdata": "cCPkAAIAFQhIAJYBJAA=",
          "dtype": "i2"
         },
         "yaxis": "y"
        }
       ],
       "layout": {
        "barmode": "relative",
        "legend": {
         "tracegroupgap": 0
        },
        "margin": {
         "t": 60
        },
        "template": {
         "data": {
          "bar": [
           {
            "error_x": {
             "color": "#2a3f5f"
            },
            "error_y": {
             "color": "#2a3f5f"
            },
            "marker": {
             "line": {
              "color": "#E5ECF6",
              "width": 0.5
             },
             "pattern": {
              "fillmode": "overlay",
              "size": 10,
              "solidity": 0.2
             }
            },
            "type": "bar"
           }
          ],
          "barpolar": [
           {
            "marker": {
             "line": {
              "color": "#E5ECF6",
              "width": 0.5
             },
             "pattern": {
              "fillmode": "overlay",
              "size": 10,
              "solidity": 0.2
             }
            },
            "type": "barpolar"
           }
          ],
          "carpet": [
           {
            "aaxis": {
             "endlinecolor": "#2a3f5f",
             "gridcolor": "white",
             "linecolor": "white",
             "minorgridcolor": "white",
             "startlinecolor": "#2a3f5f"
            },
            "baxis": {
             "endlinecolor": "#2a3f5f",
             "gridcolor": "white",
             "linecolor": "white",
             "minorgridcolor": "white",
             "startlinecolor": "#2a3f5f"
            },
            "type": "carpet"
           }
          ],
          "choropleth": [
           {
            "colorbar": {
             "outlinewidth": 0,
             "ticks": ""
            },
            "type": "choropleth"
           }
          ],
          "contour": [
           {
            "colorbar": {
             "outlinewidth": 0,
             "ticks": ""
            },
            "colorscale": [
             [
              0,
              "#0d0887"
             ],
             [
              0.1111111111111111,
              "#46039f"
             ],
             [
              0.2222222222222222,
              "#7201a8"
             ],
             [
              0.3333333333333333,
              "#9c179e"
             ],
             [
              0.4444444444444444,
              "#bd3786"
             ],
             [
              0.5555555555555556,
              "#d8576b"
             ],
             [
              0.6666666666666666,
              "#ed7953"
             ],
             [
              0.7777777777777778,
              "#fb9f3a"
             ],
             [
              0.8888888888888888,
              "#fdca26"
             ],
             [
              1,
              "#f0f921"
             ]
            ],
            "type": "contour"
           }
          ],
          "contourcarpet": [
           {
            "colorbar": {
             "outlinewidth": 0,
             "ticks": ""
            },
            "type": "contourcarpet"
           }
          ],
          "heatmap": [
           {
            "colorbar": {
             "outlinewidth": 0,
             "ticks": ""
            },
            "colorscale": [
             [
              0,
              "#0d0887"
             ],
             [
              0.1111111111111111,
              "#46039f"
             ],
             [
              0.2222222222222222,
              "#7201a8"
             ],
             [
              0.3333333333333333,
              "#9c179e"
             ],
             [
              0.4444444444444444,
              "#bd3786"
             ],
             [
              0.5555555555555556,
              "#d8576b"
             ],
             [
              0.6666666666666666,
              "#ed7953"
             ],
             [
              0.7777777777777778,
              "#fb9f3a"
             ],
             [
              0.8888888888888888,
              "#fdca26"
             ],
             [
              1,
              "#f0f921"
             ]
            ],
            "type": "heatmap"
           }
          ],
          "histogram": [
           {
            "marker": {
             "pattern": {
              "fillmode": "overlay",
              "size": 10,
              "solidity": 0.2
             }
            },
            "type": "histogram"
           }
          ],
          "histogram2d": [
           {
            "colorbar": {
             "outlinewidth": 0,
             "ticks": ""
            },
            "colorscale": [
             [
              0,
              "#0d0887"
             ],
             [
              0.1111111111111111,
              "#46039f"
             ],
             [
              0.2222222222222222,
              "#7201a8"
             ],
             [
              0.3333333333333333,
              "#9c179e"
             ],
             [
              0.4444444444444444,
              "#bd3786"
             ],
             [
              0.5555555555555556,
              "#d8576b"
             ],
             [
              0.6666666666666666,
              "#ed7953"
             ],
             [
              0.7777777777777778,
              "#fb9f3a"
             ],
             [
              0.8888888888888888,
              "#fdca26"
             ],
             [
              1,
              "#f0f921"
             ]
            ],
            "type": "histogram2d"
           }
          ],
          "histogram2dcontour": [
           {
            "colorbar": {
             "outlinewidth": 0,
             "ticks": ""
            },
            "colorscale": [
             [
              0,
              "#0d0887"
             ],
             [
              0.1111111111111111,
              "#46039f"
             ],
             [
              0.2222222222222222,
              "#7201a8"
             ],
             [
              0.3333333333333333,
              "#9c179e"
             ],
             [
              0.4444444444444444,
              "#bd3786"
             ],
             [
              0.5555555555555556,
              "#d8576b"
             ],
             [
              0.6666666666666666,
              "#ed7953"
             ],
             [
              0.7777777777777778,
              "#fb9f3a"
             ],
             [
              0.8888888888888888,
              "#fdca26"
             ],
             [
              1,
              "#f0f921"
             ]
            ],
            "type": "histogram2dcontour"
           }
          ],
          "mesh3d": [
           {
            "colorbar": {
             "outlinewidth": 0,
             "ticks": ""
            },
            "type": "mesh3d"
           }
          ],
          "parcoords": [
           {
            "line": {
             "colorbar": {
              "outlinewidth": 0,
              "ticks": ""
             }
            },
            "type": "parcoords"
           }
          ],
          "pie": [
           {
            "automargin": true,
            "type": "pie"
           }
          ],
          "scatter": [
           {
            "fillpattern": {
             "fillmode": "overlay",
             "size": 10,
             "solidity": 0.2
            },
            "type": "scatter"
           }
          ],
          "scatter3d": [
           {
            "line": {
             "colorbar": {
              "outlinewidth": 0,
              "ticks": ""
             }
            },
            "marker": {
             "colorbar": {
              "outlinewidth": 0,
              "ticks": ""
             }
            },
            "type": "scatter3d"
           }
          ],
          "scattercarpet": [
           {
            "marker": {
             "colorbar": {
              "outlinewidth": 0,
              "ticks": ""
             }
            },
            "type": "scattercarpet"
           }
          ],
          "scattergeo": [
           {
            "marker": {
             "colorbar": {
              "outlinewidth": 0,
              "ticks": ""
             }
            },
            "type": "scattergeo"
           }
          ],
          "scattergl": [
           {
            "marker": {
             "colorbar": {
              "outlinewidth": 0,
              "ticks": ""
             }
            },
            "type": "scattergl"
           }
          ],
          "scattermap": [
           {
            "marker": {
             "colorbar": {
              "outlinewidth": 0,
              "ticks": ""
             }
            },
            "type": "scattermap"
           }
          ],
          "scattermapbox": [
           {
            "marker": {
             "colorbar": {
              "outlinewidth": 0,
              "ticks": ""
             }
            },
            "type": "scattermapbox"
           }
          ],
          "scatterpolar": [
           {
            "marker": {
             "colorbar": {
              "outlinewidth": 0,
              "ticks": ""
             }
            },
            "type": "scatterpolar"
           }
          ],
          "scatterpolargl": [
           {
            "marker": {
             "colorbar": {
              "outlinewidth": 0,
              "ticks": ""
             }
            },
            "type": "scatterpolargl"
           }
          ],
          "scatterternary": [
           {
            "marker": {
             "colorbar": {
              "outlinewidth": 0,
              "ticks": ""
             }
            },
            "type": "scatterternary"
           }
          ],
          "surface": [
           {
            "colorbar": {
             "outlinewidth": 0,
             "ticks": ""
            },
            "colorscale": [
             [
              0,
              "#0d0887"
             ],
             [
              0.1111111111111111,
              "#46039f"
             ],
             [
              0.2222222222222222,
              "#7201a8"
             ],
             [
              0.3333333333333333,
              "#9c179e"
             ],
             [
              0.4444444444444444,
              "#bd3786"
             ],
             [
              0.5555555555555556,
              "#d8576b"
             ],
             [
              0.6666666666666666,
              "#ed7953"
             ],
             [
              0.7777777777777778,
              "#fb9f3a"
             ],
             [
              0.8888888888888888,
              "#fdca26"
             ],
             [
              1,
              "#f0f921"
             ]
            ],
            "type": "surface"
           }
          ],
          "table": [
           {
            "cells": {
             "fill": {
              "color": "#EBF0F8"
             },
             "line": {
              "color": "white"
             }
            },
            "header": {
             "fill": {
              "color": "#C8D4E3"
             },
             "line": {
              "color": "white"
             }
            },
            "type": "table"
           }
          ]
         },
         "layout": {
          "annotationdefaults": {
           "arrowcolor": "#2a3f5f",
           "arrowhead": 0,
           "arrowwidth": 1
          },
          "autotypenumbers": "strict",
          "coloraxis": {
           "colorbar": {
            "outlinewidth": 0,
            "ticks": ""
           }
          },
          "colorscale": {
           "diverging": [
            [
             0,
             "#8e0152"
            ],
            [
             0.1,
             "#c51b7d"
            ],
            [
             0.2,
             "#de77ae"
            ],
            [
             0.3,
             "#f1b6da"
            ],
            [
             0.4,
             "#fde0ef"
            ],
            [
             0.5,
             "#f7f7f7"
            ],
            [
             0.6,
             "#e6f5d0"
            ],
            [
             0.7,
             "#b8e186"
            ],
            [
             0.8,
             "#7fbc41"
            ],
            [
             0.9,
             "#4d9221"
            ],
            [
             1,
             "#276419"
            ]
           ],
           "sequential": [
            [
             0,
             "#0d0887"
            ],
            [
             0.1111111111111111,
             "#46039f"
            ],
            [
             0.2222222222222222,
             "#7201a8"
            ],
            [
             0.3333333333333333,
             "#9c179e"
            ],
            [
             0.4444444444444444,
             "#bd3786"
            ],
            [
             0.5555555555555556,
             "#d8576b"
            ],
            [
             0.6666666666666666,
             "#ed7953"
            ],
            [
             0.7777777777777778,
             "#fb9f3a"
            ],
            [
             0.8888888888888888,
             "#fdca26"
            ],
            [
             1,
             "#f0f921"
            ]
           ],
           "sequentialminus": [
            [
             0,
             "#0d0887"
            ],
            [
             0.1111111111111111,
             "#46039f"
            ],
            [
             0.2222222222222222,
             "#7201a8"
            ],
            [
             0.3333333333333333,
             "#9c179e"
            ],
            [
             0.4444444444444444,
             "#bd3786"
            ],
            [
             0.5555555555555556,
             "#d8576b"
            ],
            [
             0.6666666666666666,
             "#ed7953"
            ],
            [
             0.7777777777777778,
             "#fb9f3a"
            ],
            [
             0.8888888888888888,
             "#fdca26"
            ],
            [
             1,
             "#f0f921"
            ]
           ]
          },
          "colorway": [
           "#636efa",
           "#EF553B",
           "#00cc96",
           "#ab63fa",
           "#FFA15A",
           "#19d3f3",
           "#FF6692",
           "#B6E880",
           "#FF97FF",
           "#FECB52"
          ],
          "font": {
           "color": "#2a3f5f"
          },
          "geo": {
           "bgcolor": "white",
           "lakecolor": "white",
           "landcolor": "#E5ECF6",
           "showlakes": true,
           "showland": true,
           "subunitcolor": "white"
          },
          "hoverlabel": {
           "align": "left"
          },
          "hovermode": "closest",
          "mapbox": {
           "style": "light"
          },
          "paper_bgcolor": "white",
          "plot_bgcolor": "#E5ECF6",
          "polar": {
           "angularaxis": {
            "gridcolor": "white",
            "linecolor": "white",
            "ticks": ""
           },
           "bgcolor": "#E5ECF6",
           "radialaxis": {
            "gridcolor": "white",
            "linecolor": "white",
            "ticks": ""
           }
          },
          "scene": {
           "xaxis": {
            "backgroundcolor": "#E5ECF6",
            "gridcolor": "white",
            "gridwidth": 2,
            "linecolor": "white",
            "showbackground": true,
            "ticks": "",
            "zerolinecolor": "white"
           },
           "yaxis": {
            "backgroundcolor": "#E5ECF6",
            "gridcolor": "white",
            "gridwidth": 2,
            "linecolor": "white",
            "showbackground": true,
            "ticks": "",
            "zerolinecolor": "white"
           },
           "zaxis": {
            "backgroundcolor": "#E5ECF6",
            "gridcolor": "white",
            "gridwidth": 2,
            "linecolor": "white",
            "showbackground": true,
            "ticks": "",
            "zerolinecolor": "white"
           }
          },
          "shapedefaults": {
           "line": {
            "color": "#2a3f5f"
           }
          },
          "ternary": {
           "aaxis": {
            "gridcolor": "white",
            "linecolor": "white",
            "ticks": ""
           },
           "baxis": {
            "gridcolor": "white",
            "linecolor": "white",
            "ticks": ""
           },
           "bgcolor": "#E5ECF6",
           "caxis": {
            "gridcolor": "white",
            "linecolor": "white",
            "ticks": ""
           }
          },
          "title": {
           "x": 0.05
          },
          "xaxis": {
           "automargin": true,
           "gridcolor": "white",
           "linecolor": "white",
           "ticks": "",
           "title": {
            "standoff": 15
           },
           "zerolinecolor": "white",
           "zerolinewidth": 2
          },
          "yaxis": {
           "automargin": true,
           "gridcolor": "white",
           "linecolor": "white",
           "ticks": "",
           "title": {
            "standoff": 15
           },
           "zerolinecolor": "white",
           "zerolinewidth": 2
          }
         }
        },
        "xaxis": {
         "anchor": "y",
         "domain": [
          0,
          1
         ],
         "title": {
          "text": "room_type_reserved"
         }
        },
        "yaxis": {
         "anchor": "x",
         "domain": [
          0,
          1
         ],
         "title": {
          "text": "Booking_ID"
         }
        }
       }
      }
     },
     "metadata": {},
     "output_type": "display_data"
    }
   ],
   "source": [
    "room_type = df.query(\"booking_status == 'Canceled'\").groupby('room_type_reserved')['Booking_ID'].count().reset_index()\n",
    "fig = px.bar(room_type, x='room_type_reserved', y='Booking_ID')\n",
    "fig.show()"
   ]
  },
  {
   "cell_type": "code",
   "execution_count": 8,
   "metadata": {},
   "outputs": [
    {
     "data": {
      "application/vnd.plotly.v1+json": {
       "config": {
        "plotlyServerURL": "https://plot.ly"
       },
       "data": [
        {
         "hovertemplate": "room_type_reserved=%{x}<br>repeated_guest=%{y}<extra></extra>",
         "legendgroup": "",
         "marker": {
          "color": "#636efa",
          "pattern": {
           "shape": ""
          }
         },
         "name": "",
         "orientation": "v",
         "showlegend": false,
         "textposition": "auto",
         "type": "bar",
         "x": [
          "Room_Type 1",
          "Room_Type 5"
         ],
         "xaxis": "x",
         "y": {
          "bdata": "DwE=",
          "dtype": "i1"
         },
         "yaxis": "y"
        }
       ],
       "layout": {
        "barmode": "relative",
        "legend": {
         "tracegroupgap": 0
        },
        "margin": {
         "t": 60
        },
        "template": {
         "data": {
          "bar": [
           {
            "error_x": {
             "color": "#2a3f5f"
            },
            "error_y": {
             "color": "#2a3f5f"
            },
            "marker": {
             "line": {
              "color": "#E5ECF6",
              "width": 0.5
             },
             "pattern": {
              "fillmode": "overlay",
              "size": 10,
              "solidity": 0.2
             }
            },
            "type": "bar"
           }
          ],
          "barpolar": [
           {
            "marker": {
             "line": {
              "color": "#E5ECF6",
              "width": 0.5
             },
             "pattern": {
              "fillmode": "overlay",
              "size": 10,
              "solidity": 0.2
             }
            },
            "type": "barpolar"
           }
          ],
          "carpet": [
           {
            "aaxis": {
             "endlinecolor": "#2a3f5f",
             "gridcolor": "white",
             "linecolor": "white",
             "minorgridcolor": "white",
             "startlinecolor": "#2a3f5f"
            },
            "baxis": {
             "endlinecolor": "#2a3f5f",
             "gridcolor": "white",
             "linecolor": "white",
             "minorgridcolor": "white",
             "startlinecolor": "#2a3f5f"
            },
            "type": "carpet"
           }
          ],
          "choropleth": [
           {
            "colorbar": {
             "outlinewidth": 0,
             "ticks": ""
            },
            "type": "choropleth"
           }
          ],
          "contour": [
           {
            "colorbar": {
             "outlinewidth": 0,
             "ticks": ""
            },
            "colorscale": [
             [
              0,
              "#0d0887"
             ],
             [
              0.1111111111111111,
              "#46039f"
             ],
             [
              0.2222222222222222,
              "#7201a8"
             ],
             [
              0.3333333333333333,
              "#9c179e"
             ],
             [
              0.4444444444444444,
              "#bd3786"
             ],
             [
              0.5555555555555556,
              "#d8576b"
             ],
             [
              0.6666666666666666,
              "#ed7953"
             ],
             [
              0.7777777777777778,
              "#fb9f3a"
             ],
             [
              0.8888888888888888,
              "#fdca26"
             ],
             [
              1,
              "#f0f921"
             ]
            ],
            "type": "contour"
           }
          ],
          "contourcarpet": [
           {
            "colorbar": {
             "outlinewidth": 0,
             "ticks": ""
            },
            "type": "contourcarpet"
           }
          ],
          "heatmap": [
           {
            "colorbar": {
             "outlinewidth": 0,
             "ticks": ""
            },
            "colorscale": [
             [
              0,
              "#0d0887"
             ],
             [
              0.1111111111111111,
              "#46039f"
             ],
             [
              0.2222222222222222,
              "#7201a8"
             ],
             [
              0.3333333333333333,
              "#9c179e"
             ],
             [
              0.4444444444444444,
              "#bd3786"
             ],
             [
              0.5555555555555556,
              "#d8576b"
             ],
             [
              0.6666666666666666,
              "#ed7953"
             ],
             [
              0.7777777777777778,
              "#fb9f3a"
             ],
             [
              0.8888888888888888,
              "#fdca26"
             ],
             [
              1,
              "#f0f921"
             ]
            ],
            "type": "heatmap"
           }
          ],
          "histogram": [
           {
            "marker": {
             "pattern": {
              "fillmode": "overlay",
              "size": 10,
              "solidity": 0.2
             }
            },
            "type": "histogram"
           }
          ],
          "histogram2d": [
           {
            "colorbar": {
             "outlinewidth": 0,
             "ticks": ""
            },
            "colorscale": [
             [
              0,
              "#0d0887"
             ],
             [
              0.1111111111111111,
              "#46039f"
             ],
             [
              0.2222222222222222,
              "#7201a8"
             ],
             [
              0.3333333333333333,
              "#9c179e"
             ],
             [
              0.4444444444444444,
              "#bd3786"
             ],
             [
              0.5555555555555556,
              "#d8576b"
             ],
             [
              0.6666666666666666,
              "#ed7953"
             ],
             [
              0.7777777777777778,
              "#fb9f3a"
             ],
             [
              0.8888888888888888,
              "#fdca26"
             ],
             [
              1,
              "#f0f921"
             ]
            ],
            "type": "histogram2d"
           }
          ],
          "histogram2dcontour": [
           {
            "colorbar": {
             "outlinewidth": 0,
             "ticks": ""
            },
            "colorscale": [
             [
              0,
              "#0d0887"
             ],
             [
              0.1111111111111111,
              "#46039f"
             ],
             [
              0.2222222222222222,
              "#7201a8"
             ],
             [
              0.3333333333333333,
              "#9c179e"
             ],
             [
              0.4444444444444444,
              "#bd3786"
             ],
             [
              0.5555555555555556,
              "#d8576b"
             ],
             [
              0.6666666666666666,
              "#ed7953"
             ],
             [
              0.7777777777777778,
              "#fb9f3a"
             ],
             [
              0.8888888888888888,
              "#fdca26"
             ],
             [
              1,
              "#f0f921"
             ]
            ],
            "type": "histogram2dcontour"
           }
          ],
          "mesh3d": [
           {
            "colorbar": {
             "outlinewidth": 0,
             "ticks": ""
            },
            "type": "mesh3d"
           }
          ],
          "parcoords": [
           {
            "line": {
             "colorbar": {
              "outlinewidth": 0,
              "ticks": ""
             }
            },
            "type": "parcoords"
           }
          ],
          "pie": [
           {
            "automargin": true,
            "type": "pie"
           }
          ],
          "scatter": [
           {
            "fillpattern": {
             "fillmode": "overlay",
             "size": 10,
             "solidity": 0.2
            },
            "type": "scatter"
           }
          ],
          "scatter3d": [
           {
            "line": {
             "colorbar": {
              "outlinewidth": 0,
              "ticks": ""
             }
            },
            "marker": {
             "colorbar": {
              "outlinewidth": 0,
              "ticks": ""
             }
            },
            "type": "scatter3d"
           }
          ],
          "scattercarpet": [
           {
            "marker": {
             "colorbar": {
              "outlinewidth": 0,
              "ticks": ""
             }
            },
            "type": "scattercarpet"
           }
          ],
          "scattergeo": [
           {
            "marker": {
             "colorbar": {
              "outlinewidth": 0,
              "ticks": ""
             }
            },
            "type": "scattergeo"
           }
          ],
          "scattergl": [
           {
            "marker": {
             "colorbar": {
              "outlinewidth": 0,
              "ticks": ""
             }
            },
            "type": "scattergl"
           }
          ],
          "scattermap": [
           {
            "marker": {
             "colorbar": {
              "outlinewidth": 0,
              "ticks": ""
             }
            },
            "type": "scattermap"
           }
          ],
          "scattermapbox": [
           {
            "marker": {
             "colorbar": {
              "outlinewidth": 0,
              "ticks": ""
             }
            },
            "type": "scattermapbox"
           }
          ],
          "scatterpolar": [
           {
            "marker": {
             "colorbar": {
              "outlinewidth": 0,
              "ticks": ""
             }
            },
            "type": "scatterpolar"
           }
          ],
          "scatterpolargl": [
           {
            "marker": {
             "colorbar": {
              "outlinewidth": 0,
              "ticks": ""
             }
            },
            "type": "scatterpolargl"
           }
          ],
          "scatterternary": [
           {
            "marker": {
             "colorbar": {
              "outlinewidth": 0,
              "ticks": ""
             }
            },
            "type": "scatterternary"
           }
          ],
          "surface": [
           {
            "colorbar": {
             "outlinewidth": 0,
             "ticks": ""
            },
            "colorscale": [
             [
              0,
              "#0d0887"
             ],
             [
              0.1111111111111111,
              "#46039f"
             ],
             [
              0.2222222222222222,
              "#7201a8"
             ],
             [
              0.3333333333333333,
              "#9c179e"
             ],
             [
              0.4444444444444444,
              "#bd3786"
             ],
             [
              0.5555555555555556,
              "#d8576b"
             ],
             [
              0.6666666666666666,
              "#ed7953"
             ],
             [
              0.7777777777777778,
              "#fb9f3a"
             ],
             [
              0.8888888888888888,
              "#fdca26"
             ],
             [
              1,
              "#f0f921"
             ]
            ],
            "type": "surface"
           }
          ],
          "table": [
           {
            "cells": {
             "fill": {
              "color": "#EBF0F8"
             },
             "line": {
              "color": "white"
             }
            },
            "header": {
             "fill": {
              "color": "#C8D4E3"
             },
             "line": {
              "color": "white"
             }
            },
            "type": "table"
           }
          ]
         },
         "layout": {
          "annotationdefaults": {
           "arrowcolor": "#2a3f5f",
           "arrowhead": 0,
           "arrowwidth": 1
          },
          "autotypenumbers": "strict",
          "coloraxis": {
           "colorbar": {
            "outlinewidth": 0,
            "ticks": ""
           }
          },
          "colorscale": {
           "diverging": [
            [
             0,
             "#8e0152"
            ],
            [
             0.1,
             "#c51b7d"
            ],
            [
             0.2,
             "#de77ae"
            ],
            [
             0.3,
             "#f1b6da"
            ],
            [
             0.4,
             "#fde0ef"
            ],
            [
             0.5,
             "#f7f7f7"
            ],
            [
             0.6,
             "#e6f5d0"
            ],
            [
             0.7,
             "#b8e186"
            ],
            [
             0.8,
             "#7fbc41"
            ],
            [
             0.9,
             "#4d9221"
            ],
            [
             1,
             "#276419"
            ]
           ],
           "sequential": [
            [
             0,
             "#0d0887"
            ],
            [
             0.1111111111111111,
             "#46039f"
            ],
            [
             0.2222222222222222,
             "#7201a8"
            ],
            [
             0.3333333333333333,
             "#9c179e"
            ],
            [
             0.4444444444444444,
             "#bd3786"
            ],
            [
             0.5555555555555556,
             "#d8576b"
            ],
            [
             0.6666666666666666,
             "#ed7953"
            ],
            [
             0.7777777777777778,
             "#fb9f3a"
            ],
            [
             0.8888888888888888,
             "#fdca26"
            ],
            [
             1,
             "#f0f921"
            ]
           ],
           "sequentialminus": [
            [
             0,
             "#0d0887"
            ],
            [
             0.1111111111111111,
             "#46039f"
            ],
            [
             0.2222222222222222,
             "#7201a8"
            ],
            [
             0.3333333333333333,
             "#9c179e"
            ],
            [
             0.4444444444444444,
             "#bd3786"
            ],
            [
             0.5555555555555556,
             "#d8576b"
            ],
            [
             0.6666666666666666,
             "#ed7953"
            ],
            [
             0.7777777777777778,
             "#fb9f3a"
            ],
            [
             0.8888888888888888,
             "#fdca26"
            ],
            [
             1,
             "#f0f921"
            ]
           ]
          },
          "colorway": [
           "#636efa",
           "#EF553B",
           "#00cc96",
           "#ab63fa",
           "#FFA15A",
           "#19d3f3",
           "#FF6692",
           "#B6E880",
           "#FF97FF",
           "#FECB52"
          ],
          "font": {
           "color": "#2a3f5f"
          },
          "geo": {
           "bgcolor": "white",
           "lakecolor": "white",
           "landcolor": "#E5ECF6",
           "showlakes": true,
           "showland": true,
           "subunitcolor": "white"
          },
          "hoverlabel": {
           "align": "left"
          },
          "hovermode": "closest",
          "mapbox": {
           "style": "light"
          },
          "paper_bgcolor": "white",
          "plot_bgcolor": "#E5ECF6",
          "polar": {
           "angularaxis": {
            "gridcolor": "white",
            "linecolor": "white",
            "ticks": ""
           },
           "bgcolor": "#E5ECF6",
           "radialaxis": {
            "gridcolor": "white",
            "linecolor": "white",
            "ticks": ""
           }
          },
          "scene": {
           "xaxis": {
            "backgroundcolor": "#E5ECF6",
            "gridcolor": "white",
            "gridwidth": 2,
            "linecolor": "white",
            "showbackground": true,
            "ticks": "",
            "zerolinecolor": "white"
           },
           "yaxis": {
            "backgroundcolor": "#E5ECF6",
            "gridcolor": "white",
            "gridwidth": 2,
            "linecolor": "white",
            "showbackground": true,
            "ticks": "",
            "zerolinecolor": "white"
           },
           "zaxis": {
            "backgroundcolor": "#E5ECF6",
            "gridcolor": "white",
            "gridwidth": 2,
            "linecolor": "white",
            "showbackground": true,
            "ticks": "",
            "zerolinecolor": "white"
           }
          },
          "shapedefaults": {
           "line": {
            "color": "#2a3f5f"
           }
          },
          "ternary": {
           "aaxis": {
            "gridcolor": "white",
            "linecolor": "white",
            "ticks": ""
           },
           "baxis": {
            "gridcolor": "white",
            "linecolor": "white",
            "ticks": ""
           },
           "bgcolor": "#E5ECF6",
           "caxis": {
            "gridcolor": "white",
            "linecolor": "white",
            "ticks": ""
           }
          },
          "title": {
           "x": 0.05
          },
          "xaxis": {
           "automargin": true,
           "gridcolor": "white",
           "linecolor": "white",
           "ticks": "",
           "title": {
            "standoff": 15
           },
           "zerolinecolor": "white",
           "zerolinewidth": 2
          },
          "yaxis": {
           "automargin": true,
           "gridcolor": "white",
           "linecolor": "white",
           "ticks": "",
           "title": {
            "standoff": 15
           },
           "zerolinecolor": "white",
           "zerolinewidth": 2
          }
         }
        },
        "xaxis": {
         "anchor": "y",
         "domain": [
          0,
          1
         ],
         "title": {
          "text": "room_type_reserved"
         }
        },
        "yaxis": {
         "anchor": "x",
         "domain": [
          0,
          1
         ],
         "title": {
          "text": "repeated_guest"
         }
        }
       }
      }
     },
     "metadata": {},
     "output_type": "display_data"
    }
   ],
   "source": [
    "repeated = df.query('repeated_guest == 1 & booking_status == \"Canceled\"').groupby('room_type_reserved')['repeated_guest'].count().reset_index()\n",
    "fig = px.bar(repeated, x='room_type_reserved', y='repeated_guest')\n",
    "fig.show()"
   ]
  },
  {
   "cell_type": "code",
   "execution_count": 9,
   "metadata": {},
   "outputs": [
    {
     "data": {
      "application/vnd.plotly.v1+json": {
       "config": {
        "plotlyServerURL": "https://plot.ly"
       },
       "data": [
        {
         "hovertemplate": "market_segment_type=%{x}<br>Number of Bookings=%{text}<extra></extra>",
         "legendgroup": "Online",
         "marker": {
          "color": "#636efa",
          "pattern": {
           "shape": ""
          }
         },
         "name": "Online",
         "orientation": "v",
         "showlegend": true,
         "text": {
          "bdata": "AAAAAICr1kA=",
          "dtype": "f8"
         },
         "textposition": "outside",
         "type": "bar",
         "x": [
          "Online"
         ],
         "xaxis": "x",
         "y": {
          "bdata": "rlo=",
          "dtype": "i2"
         },
         "yaxis": "y"
        },
        {
         "hovertemplate": "market_segment_type=%{x}<br>Number of Bookings=%{text}<extra></extra>",
         "legendgroup": "Offline",
         "marker": {
          "color": "#EF553B",
          "pattern": {
           "shape": ""
          }
         },
         "name": "Offline",
         "orientation": "v",
         "showlegend": true,
         "text": {
          "bdata": "AAAAAACQxEA=",
          "dtype": "f8"
         },
         "textposition": "outside",
         "type": "bar",
         "x": [
          "Offline"
         ],
         "xaxis": "x",
         "y": {
          "bdata": "ICk=",
          "dtype": "i2"
         },
         "yaxis": "y"
        },
        {
         "hovertemplate": "market_segment_type=%{x}<br>Number of Bookings=%{text}<extra></extra>",
         "legendgroup": "Corporate",
         "marker": {
          "color": "#00cc96",
          "pattern": {
           "shape": ""
          }
         },
         "name": "Corporate",
         "orientation": "v",
         "showlegend": true,
         "text": {
          "bdata": "AAAAAACEn0A=",
          "dtype": "f8"
         },
         "textposition": "outside",
         "type": "bar",
         "x": [
          "Corporate"
         ],
         "xaxis": "x",
         "y": {
          "bdata": "4Qc=",
          "dtype": "i2"
         },
         "yaxis": "y"
        },
        {
         "hovertemplate": "market_segment_type=%{x}<br>Number of Bookings=%{text}<extra></extra>",
         "legendgroup": "Complementary",
         "marker": {
          "color": "#ab63fa",
          "pattern": {
           "shape": ""
          }
         },
         "name": "Complementary",
         "orientation": "v",
         "showlegend": true,
         "text": {
          "bdata": "AAAAAABweEA=",
          "dtype": "f8"
         },
         "textposition": "outside",
         "type": "bar",
         "x": [
          "Complementary"
         ],
         "xaxis": "x",
         "y": {
          "bdata": "hwE=",
          "dtype": "i2"
         },
         "yaxis": "y"
        },
        {
         "hovertemplate": "market_segment_type=%{x}<br>Number of Bookings=%{text}<extra></extra>",
         "legendgroup": "Aviation",
         "marker": {
          "color": "#FFA15A",
          "pattern": {
           "shape": ""
          }
         },
         "name": "Aviation",
         "orientation": "v",
         "showlegend": true,
         "text": {
          "bdata": "AAAAAABAX0A=",
          "dtype": "f8"
         },
         "textposition": "outside",
         "type": "bar",
         "x": [
          "Aviation"
         ],
         "xaxis": "x",
         "y": {
          "bdata": "fQ==",
          "dtype": "i1"
         },
         "yaxis": "y"
        }
       ],
       "layout": {
        "barmode": "relative",
        "legend": {
         "title": {
          "text": "market_segment_type"
         },
         "tracegroupgap": 0
        },
        "template": {
         "data": {
          "bar": [
           {
            "error_x": {
             "color": "#2a3f5f"
            },
            "error_y": {
             "color": "#2a3f5f"
            },
            "marker": {
             "line": {
              "color": "#E5ECF6",
              "width": 0.5
             },
             "pattern": {
              "fillmode": "overlay",
              "size": 10,
              "solidity": 0.2
             }
            },
            "type": "bar"
           }
          ],
          "barpolar": [
           {
            "marker": {
             "line": {
              "color": "#E5ECF6",
              "width": 0.5
             },
             "pattern": {
              "fillmode": "overlay",
              "size": 10,
              "solidity": 0.2
             }
            },
            "type": "barpolar"
           }
          ],
          "carpet": [
           {
            "aaxis": {
             "endlinecolor": "#2a3f5f",
             "gridcolor": "white",
             "linecolor": "white",
             "minorgridcolor": "white",
             "startlinecolor": "#2a3f5f"
            },
            "baxis": {
             "endlinecolor": "#2a3f5f",
             "gridcolor": "white",
             "linecolor": "white",
             "minorgridcolor": "white",
             "startlinecolor": "#2a3f5f"
            },
            "type": "carpet"
           }
          ],
          "choropleth": [
           {
            "colorbar": {
             "outlinewidth": 0,
             "ticks": ""
            },
            "type": "choropleth"
           }
          ],
          "contour": [
           {
            "colorbar": {
             "outlinewidth": 0,
             "ticks": ""
            },
            "colorscale": [
             [
              0,
              "#0d0887"
             ],
             [
              0.1111111111111111,
              "#46039f"
             ],
             [
              0.2222222222222222,
              "#7201a8"
             ],
             [
              0.3333333333333333,
              "#9c179e"
             ],
             [
              0.4444444444444444,
              "#bd3786"
             ],
             [
              0.5555555555555556,
              "#d8576b"
             ],
             [
              0.6666666666666666,
              "#ed7953"
             ],
             [
              0.7777777777777778,
              "#fb9f3a"
             ],
             [
              0.8888888888888888,
              "#fdca26"
             ],
             [
              1,
              "#f0f921"
             ]
            ],
            "type": "contour"
           }
          ],
          "contourcarpet": [
           {
            "colorbar": {
             "outlinewidth": 0,
             "ticks": ""
            },
            "type": "contourcarpet"
           }
          ],
          "heatmap": [
           {
            "colorbar": {
             "outlinewidth": 0,
             "ticks": ""
            },
            "colorscale": [
             [
              0,
              "#0d0887"
             ],
             [
              0.1111111111111111,
              "#46039f"
             ],
             [
              0.2222222222222222,
              "#7201a8"
             ],
             [
              0.3333333333333333,
              "#9c179e"
             ],
             [
              0.4444444444444444,
              "#bd3786"
             ],
             [
              0.5555555555555556,
              "#d8576b"
             ],
             [
              0.6666666666666666,
              "#ed7953"
             ],
             [
              0.7777777777777778,
              "#fb9f3a"
             ],
             [
              0.8888888888888888,
              "#fdca26"
             ],
             [
              1,
              "#f0f921"
             ]
            ],
            "type": "heatmap"
           }
          ],
          "histogram": [
           {
            "marker": {
             "pattern": {
              "fillmode": "overlay",
              "size": 10,
              "solidity": 0.2
             }
            },
            "type": "histogram"
           }
          ],
          "histogram2d": [
           {
            "colorbar": {
             "outlinewidth": 0,
             "ticks": ""
            },
            "colorscale": [
             [
              0,
              "#0d0887"
             ],
             [
              0.1111111111111111,
              "#46039f"
             ],
             [
              0.2222222222222222,
              "#7201a8"
             ],
             [
              0.3333333333333333,
              "#9c179e"
             ],
             [
              0.4444444444444444,
              "#bd3786"
             ],
             [
              0.5555555555555556,
              "#d8576b"
             ],
             [
              0.6666666666666666,
              "#ed7953"
             ],
             [
              0.7777777777777778,
              "#fb9f3a"
             ],
             [
              0.8888888888888888,
              "#fdca26"
             ],
             [
              1,
              "#f0f921"
             ]
            ],
            "type": "histogram2d"
           }
          ],
          "histogram2dcontour": [
           {
            "colorbar": {
             "outlinewidth": 0,
             "ticks": ""
            },
            "colorscale": [
             [
              0,
              "#0d0887"
             ],
             [
              0.1111111111111111,
              "#46039f"
             ],
             [
              0.2222222222222222,
              "#7201a8"
             ],
             [
              0.3333333333333333,
              "#9c179e"
             ],
             [
              0.4444444444444444,
              "#bd3786"
             ],
             [
              0.5555555555555556,
              "#d8576b"
             ],
             [
              0.6666666666666666,
              "#ed7953"
             ],
             [
              0.7777777777777778,
              "#fb9f3a"
             ],
             [
              0.8888888888888888,
              "#fdca26"
             ],
             [
              1,
              "#f0f921"
             ]
            ],
            "type": "histogram2dcontour"
           }
          ],
          "mesh3d": [
           {
            "colorbar": {
             "outlinewidth": 0,
             "ticks": ""
            },
            "type": "mesh3d"
           }
          ],
          "parcoords": [
           {
            "line": {
             "colorbar": {
              "outlinewidth": 0,
              "ticks": ""
             }
            },
            "type": "parcoords"
           }
          ],
          "pie": [
           {
            "automargin": true,
            "type": "pie"
           }
          ],
          "scatter": [
           {
            "fillpattern": {
             "fillmode": "overlay",
             "size": 10,
             "solidity": 0.2
            },
            "type": "scatter"
           }
          ],
          "scatter3d": [
           {
            "line": {
             "colorbar": {
              "outlinewidth": 0,
              "ticks": ""
             }
            },
            "marker": {
             "colorbar": {
              "outlinewidth": 0,
              "ticks": ""
             }
            },
            "type": "scatter3d"
           }
          ],
          "scattercarpet": [
           {
            "marker": {
             "colorbar": {
              "outlinewidth": 0,
              "ticks": ""
             }
            },
            "type": "scattercarpet"
           }
          ],
          "scattergeo": [
           {
            "marker": {
             "colorbar": {
              "outlinewidth": 0,
              "ticks": ""
             }
            },
            "type": "scattergeo"
           }
          ],
          "scattergl": [
           {
            "marker": {
             "colorbar": {
              "outlinewidth": 0,
              "ticks": ""
             }
            },
            "type": "scattergl"
           }
          ],
          "scattermap": [
           {
            "marker": {
             "colorbar": {
              "outlinewidth": 0,
              "ticks": ""
             }
            },
            "type": "scattermap"
           }
          ],
          "scattermapbox": [
           {
            "marker": {
             "colorbar": {
              "outlinewidth": 0,
              "ticks": ""
             }
            },
            "type": "scattermapbox"
           }
          ],
          "scatterpolar": [
           {
            "marker": {
             "colorbar": {
              "outlinewidth": 0,
              "ticks": ""
             }
            },
            "type": "scatterpolar"
           }
          ],
          "scatterpolargl": [
           {
            "marker": {
             "colorbar": {
              "outlinewidth": 0,
              "ticks": ""
             }
            },
            "type": "scatterpolargl"
           }
          ],
          "scatterternary": [
           {
            "marker": {
             "colorbar": {
              "outlinewidth": 0,
              "ticks": ""
             }
            },
            "type": "scatterternary"
           }
          ],
          "surface": [
           {
            "colorbar": {
             "outlinewidth": 0,
             "ticks": ""
            },
            "colorscale": [
             [
              0,
              "#0d0887"
             ],
             [
              0.1111111111111111,
              "#46039f"
             ],
             [
              0.2222222222222222,
              "#7201a8"
             ],
             [
              0.3333333333333333,
              "#9c179e"
             ],
             [
              0.4444444444444444,
              "#bd3786"
             ],
             [
              0.5555555555555556,
              "#d8576b"
             ],
             [
              0.6666666666666666,
              "#ed7953"
             ],
             [
              0.7777777777777778,
              "#fb9f3a"
             ],
             [
              0.8888888888888888,
              "#fdca26"
             ],
             [
              1,
              "#f0f921"
             ]
            ],
            "type": "surface"
           }
          ],
          "table": [
           {
            "cells": {
             "fill": {
              "color": "#EBF0F8"
             },
             "line": {
              "color": "white"
             }
            },
            "header": {
             "fill": {
              "color": "#C8D4E3"
             },
             "line": {
              "color": "white"
             }
            },
            "type": "table"
           }
          ]
         },
         "layout": {
          "annotationdefaults": {
           "arrowcolor": "#2a3f5f",
           "arrowhead": 0,
           "arrowwidth": 1
          },
          "autotypenumbers": "strict",
          "coloraxis": {
           "colorbar": {
            "outlinewidth": 0,
            "ticks": ""
           }
          },
          "colorscale": {
           "diverging": [
            [
             0,
             "#8e0152"
            ],
            [
             0.1,
             "#c51b7d"
            ],
            [
             0.2,
             "#de77ae"
            ],
            [
             0.3,
             "#f1b6da"
            ],
            [
             0.4,
             "#fde0ef"
            ],
            [
             0.5,
             "#f7f7f7"
            ],
            [
             0.6,
             "#e6f5d0"
            ],
            [
             0.7,
             "#b8e186"
            ],
            [
             0.8,
             "#7fbc41"
            ],
            [
             0.9,
             "#4d9221"
            ],
            [
             1,
             "#276419"
            ]
           ],
           "sequential": [
            [
             0,
             "#0d0887"
            ],
            [
             0.1111111111111111,
             "#46039f"
            ],
            [
             0.2222222222222222,
             "#7201a8"
            ],
            [
             0.3333333333333333,
             "#9c179e"
            ],
            [
             0.4444444444444444,
             "#bd3786"
            ],
            [
             0.5555555555555556,
             "#d8576b"
            ],
            [
             0.6666666666666666,
             "#ed7953"
            ],
            [
             0.7777777777777778,
             "#fb9f3a"
            ],
            [
             0.8888888888888888,
             "#fdca26"
            ],
            [
             1,
             "#f0f921"
            ]
           ],
           "sequentialminus": [
            [
             0,
             "#0d0887"
            ],
            [
             0.1111111111111111,
             "#46039f"
            ],
            [
             0.2222222222222222,
             "#7201a8"
            ],
            [
             0.3333333333333333,
             "#9c179e"
            ],
            [
             0.4444444444444444,
             "#bd3786"
            ],
            [
             0.5555555555555556,
             "#d8576b"
            ],
            [
             0.6666666666666666,
             "#ed7953"
            ],
            [
             0.7777777777777778,
             "#fb9f3a"
            ],
            [
             0.8888888888888888,
             "#fdca26"
            ],
            [
             1,
             "#f0f921"
            ]
           ]
          },
          "colorway": [
           "#636efa",
           "#EF553B",
           "#00cc96",
           "#ab63fa",
           "#FFA15A",
           "#19d3f3",
           "#FF6692",
           "#B6E880",
           "#FF97FF",
           "#FECB52"
          ],
          "font": {
           "color": "#2a3f5f"
          },
          "geo": {
           "bgcolor": "white",
           "lakecolor": "white",
           "landcolor": "#E5ECF6",
           "showlakes": true,
           "showland": true,
           "subunitcolor": "white"
          },
          "hoverlabel": {
           "align": "left"
          },
          "hovermode": "closest",
          "mapbox": {
           "style": "light"
          },
          "paper_bgcolor": "white",
          "plot_bgcolor": "#E5ECF6",
          "polar": {
           "angularaxis": {
            "gridcolor": "white",
            "linecolor": "white",
            "ticks": ""
           },
           "bgcolor": "#E5ECF6",
           "radialaxis": {
            "gridcolor": "white",
            "linecolor": "white",
            "ticks": ""
           }
          },
          "scene": {
           "xaxis": {
            "backgroundcolor": "#E5ECF6",
            "gridcolor": "white",
            "gridwidth": 2,
            "linecolor": "white",
            "showbackground": true,
            "ticks": "",
            "zerolinecolor": "white"
           },
           "yaxis": {
            "backgroundcolor": "#E5ECF6",
            "gridcolor": "white",
            "gridwidth": 2,
            "linecolor": "white",
            "showbackground": true,
            "ticks": "",
            "zerolinecolor": "white"
           },
           "zaxis": {
            "backgroundcolor": "#E5ECF6",
            "gridcolor": "white",
            "gridwidth": 2,
            "linecolor": "white",
            "showbackground": true,
            "ticks": "",
            "zerolinecolor": "white"
           }
          },
          "shapedefaults": {
           "line": {
            "color": "#2a3f5f"
           }
          },
          "ternary": {
           "aaxis": {
            "gridcolor": "white",
            "linecolor": "white",
            "ticks": ""
           },
           "baxis": {
            "gridcolor": "white",
            "linecolor": "white",
            "ticks": ""
           },
           "bgcolor": "#E5ECF6",
           "caxis": {
            "gridcolor": "white",
            "linecolor": "white",
            "ticks": ""
           }
          },
          "title": {
           "x": 0.05
          },
          "xaxis": {
           "automargin": true,
           "gridcolor": "white",
           "linecolor": "white",
           "ticks": "",
           "title": {
            "standoff": 15
           },
           "zerolinecolor": "white",
           "zerolinewidth": 2
          },
          "yaxis": {
           "automargin": true,
           "gridcolor": "white",
           "linecolor": "white",
           "ticks": "",
           "title": {
            "standoff": 15
           },
           "zerolinecolor": "white",
           "zerolinewidth": 2
          }
         }
        },
        "title": {
         "text": "Market Segment Analysis"
        },
        "xaxis": {
         "anchor": "y",
         "categoryarray": [
          "Online",
          "Offline",
          "Corporate",
          "Complementary",
          "Aviation"
         ],
         "categoryorder": "array",
         "domain": [
          0,
          1
         ],
         "title": {
          "text": "market_segment_type"
         }
        },
        "yaxis": {
         "anchor": "x",
         "domain": [
          0,
          1
         ],
         "title": {
          "text": "Number of Bookings"
         }
        }
       }
      }
     },
     "metadata": {},
     "output_type": "display_data"
    }
   ],
   "source": [
    "market_segment_counts = df['market_segment_type'].value_counts().reset_index()\n",
    "market_segment_counts.columns = ['market_segment_type', 'count']\n",
    "\n",
    "fig = px.bar(market_segment_counts, \n",
    "             x='market_segment_type', \n",
    "             y='count', \n",
    "             text='count', \n",
    "             title='Market Segment Analysis',\n",
    "             labels={'count': 'Number of Bookings'},\n",
    "             color='market_segment_type')\n",
    "\n",
    "fig.update_traces(textposition='outside')\n",
    "fig.show()"
   ]
  },
  {
   "cell_type": "code",
   "execution_count": 10,
   "metadata": {},
   "outputs": [
    {
     "data": {
      "application/vnd.plotly.v1+json": {
       "config": {
        "plotlyServerURL": "https://plot.ly"
       },
       "data": [
        {
         "branchvalues": "total",
         "domain": {
          "x": [
           0,
           1
          ],
          "y": [
           0,
           1
          ]
         },
         "hovertemplate": "labels=%{label}<br>value=%{value}<br>parent=%{parent}<br>id=%{id}<extra></extra>",
         "ids": [
          "Aviation/Canceled",
          "Complementary/Canceled",
          "Corporate/Canceled",
          "Offline/Canceled",
          "Online/Canceled",
          "Aviation/Not_Canceled",
          "Complementary/Not_Canceled",
          "Corporate/Not_Canceled",
          "Offline/Not_Canceled",
          "Online/Not_Canceled",
          "Aviation",
          "Complementary",
          "Corporate",
          "Offline",
          "Online"
         ],
         "labels": [
          "Canceled",
          "Canceled",
          "Canceled",
          "Canceled",
          "Canceled",
          "Not_Canceled",
          "Not_Canceled",
          "Not_Canceled",
          "Not_Canceled",
          "Not_Canceled",
          "Aviation",
          "Complementary",
          "Corporate",
          "Offline",
          "Online"
         ],
         "name": "",
         "parents": [
          "Aviation",
          "Complementary",
          "Corporate",
          "Offline",
          "Online",
          "Aviation",
          "Complementary",
          "Corporate",
          "Offline",
          "Online",
          "",
          "",
          "",
          "",
          ""
         ],
         "type": "sunburst",
         "values": {
          "bdata": "AAAAAACAQkAAAAAAAAAAAAAAAAAAgGtAAAAAAACiqEAAAAAAgI3AQAAAAAAAAFZAAAAAAABweEAAAAAAABScQAAAAAAAz7xAAAAAAIDJzEAAAAAAAEBfQAAAAAAAcHhAAAAAAACEn0AAAAAAAJDEQAAAAACAq9ZA",
          "dtype": "f8"
         }
        }
       ],
       "layout": {
        "legend": {
         "tracegroupgap": 0
        },
        "template": {
         "data": {
          "bar": [
           {
            "error_x": {
             "color": "#2a3f5f"
            },
            "error_y": {
             "color": "#2a3f5f"
            },
            "marker": {
             "line": {
              "color": "#E5ECF6",
              "width": 0.5
             },
             "pattern": {
              "fillmode": "overlay",
              "size": 10,
              "solidity": 0.2
             }
            },
            "type": "bar"
           }
          ],
          "barpolar": [
           {
            "marker": {
             "line": {
              "color": "#E5ECF6",
              "width": 0.5
             },
             "pattern": {
              "fillmode": "overlay",
              "size": 10,
              "solidity": 0.2
             }
            },
            "type": "barpolar"
           }
          ],
          "carpet": [
           {
            "aaxis": {
             "endlinecolor": "#2a3f5f",
             "gridcolor": "white",
             "linecolor": "white",
             "minorgridcolor": "white",
             "startlinecolor": "#2a3f5f"
            },
            "baxis": {
             "endlinecolor": "#2a3f5f",
             "gridcolor": "white",
             "linecolor": "white",
             "minorgridcolor": "white",
             "startlinecolor": "#2a3f5f"
            },
            "type": "carpet"
           }
          ],
          "choropleth": [
           {
            "colorbar": {
             "outlinewidth": 0,
             "ticks": ""
            },
            "type": "choropleth"
           }
          ],
          "contour": [
           {
            "colorbar": {
             "outlinewidth": 0,
             "ticks": ""
            },
            "colorscale": [
             [
              0,
              "#0d0887"
             ],
             [
              0.1111111111111111,
              "#46039f"
             ],
             [
              0.2222222222222222,
              "#7201a8"
             ],
             [
              0.3333333333333333,
              "#9c179e"
             ],
             [
              0.4444444444444444,
              "#bd3786"
             ],
             [
              0.5555555555555556,
              "#d8576b"
             ],
             [
              0.6666666666666666,
              "#ed7953"
             ],
             [
              0.7777777777777778,
              "#fb9f3a"
             ],
             [
              0.8888888888888888,
              "#fdca26"
             ],
             [
              1,
              "#f0f921"
             ]
            ],
            "type": "contour"
           }
          ],
          "contourcarpet": [
           {
            "colorbar": {
             "outlinewidth": 0,
             "ticks": ""
            },
            "type": "contourcarpet"
           }
          ],
          "heatmap": [
           {
            "colorbar": {
             "outlinewidth": 0,
             "ticks": ""
            },
            "colorscale": [
             [
              0,
              "#0d0887"
             ],
             [
              0.1111111111111111,
              "#46039f"
             ],
             [
              0.2222222222222222,
              "#7201a8"
             ],
             [
              0.3333333333333333,
              "#9c179e"
             ],
             [
              0.4444444444444444,
              "#bd3786"
             ],
             [
              0.5555555555555556,
              "#d8576b"
             ],
             [
              0.6666666666666666,
              "#ed7953"
             ],
             [
              0.7777777777777778,
              "#fb9f3a"
             ],
             [
              0.8888888888888888,
              "#fdca26"
             ],
             [
              1,
              "#f0f921"
             ]
            ],
            "type": "heatmap"
           }
          ],
          "histogram": [
           {
            "marker": {
             "pattern": {
              "fillmode": "overlay",
              "size": 10,
              "solidity": 0.2
             }
            },
            "type": "histogram"
           }
          ],
          "histogram2d": [
           {
            "colorbar": {
             "outlinewidth": 0,
             "ticks": ""
            },
            "colorscale": [
             [
              0,
              "#0d0887"
             ],
             [
              0.1111111111111111,
              "#46039f"
             ],
             [
              0.2222222222222222,
              "#7201a8"
             ],
             [
              0.3333333333333333,
              "#9c179e"
             ],
             [
              0.4444444444444444,
              "#bd3786"
             ],
             [
              0.5555555555555556,
              "#d8576b"
             ],
             [
              0.6666666666666666,
              "#ed7953"
             ],
             [
              0.7777777777777778,
              "#fb9f3a"
             ],
             [
              0.8888888888888888,
              "#fdca26"
             ],
             [
              1,
              "#f0f921"
             ]
            ],
            "type": "histogram2d"
           }
          ],
          "histogram2dcontour": [
           {
            "colorbar": {
             "outlinewidth": 0,
             "ticks": ""
            },
            "colorscale": [
             [
              0,
              "#0d0887"
             ],
             [
              0.1111111111111111,
              "#46039f"
             ],
             [
              0.2222222222222222,
              "#7201a8"
             ],
             [
              0.3333333333333333,
              "#9c179e"
             ],
             [
              0.4444444444444444,
              "#bd3786"
             ],
             [
              0.5555555555555556,
              "#d8576b"
             ],
             [
              0.6666666666666666,
              "#ed7953"
             ],
             [
              0.7777777777777778,
              "#fb9f3a"
             ],
             [
              0.8888888888888888,
              "#fdca26"
             ],
             [
              1,
              "#f0f921"
             ]
            ],
            "type": "histogram2dcontour"
           }
          ],
          "mesh3d": [
           {
            "colorbar": {
             "outlinewidth": 0,
             "ticks": ""
            },
            "type": "mesh3d"
           }
          ],
          "parcoords": [
           {
            "line": {
             "colorbar": {
              "outlinewidth": 0,
              "ticks": ""
             }
            },
            "type": "parcoords"
           }
          ],
          "pie": [
           {
            "automargin": true,
            "type": "pie"
           }
          ],
          "scatter": [
           {
            "fillpattern": {
             "fillmode": "overlay",
             "size": 10,
             "solidity": 0.2
            },
            "type": "scatter"
           }
          ],
          "scatter3d": [
           {
            "line": {
             "colorbar": {
              "outlinewidth": 0,
              "ticks": ""
             }
            },
            "marker": {
             "colorbar": {
              "outlinewidth": 0,
              "ticks": ""
             }
            },
            "type": "scatter3d"
           }
          ],
          "scattercarpet": [
           {
            "marker": {
             "colorbar": {
              "outlinewidth": 0,
              "ticks": ""
             }
            },
            "type": "scattercarpet"
           }
          ],
          "scattergeo": [
           {
            "marker": {
             "colorbar": {
              "outlinewidth": 0,
              "ticks": ""
             }
            },
            "type": "scattergeo"
           }
          ],
          "scattergl": [
           {
            "marker": {
             "colorbar": {
              "outlinewidth": 0,
              "ticks": ""
             }
            },
            "type": "scattergl"
           }
          ],
          "scattermap": [
           {
            "marker": {
             "colorbar": {
              "outlinewidth": 0,
              "ticks": ""
             }
            },
            "type": "scattermap"
           }
          ],
          "scattermapbox": [
           {
            "marker": {
             "colorbar": {
              "outlinewidth": 0,
              "ticks": ""
             }
            },
            "type": "scattermapbox"
           }
          ],
          "scatterpolar": [
           {
            "marker": {
             "colorbar": {
              "outlinewidth": 0,
              "ticks": ""
             }
            },
            "type": "scatterpolar"
           }
          ],
          "scatterpolargl": [
           {
            "marker": {
             "colorbar": {
              "outlinewidth": 0,
              "ticks": ""
             }
            },
            "type": "scatterpolargl"
           }
          ],
          "scatterternary": [
           {
            "marker": {
             "colorbar": {
              "outlinewidth": 0,
              "ticks": ""
             }
            },
            "type": "scatterternary"
           }
          ],
          "surface": [
           {
            "colorbar": {
             "outlinewidth": 0,
             "ticks": ""
            },
            "colorscale": [
             [
              0,
              "#0d0887"
             ],
             [
              0.1111111111111111,
              "#46039f"
             ],
             [
              0.2222222222222222,
              "#7201a8"
             ],
             [
              0.3333333333333333,
              "#9c179e"
             ],
             [
              0.4444444444444444,
              "#bd3786"
             ],
             [
              0.5555555555555556,
              "#d8576b"
             ],
             [
              0.6666666666666666,
              "#ed7953"
             ],
             [
              0.7777777777777778,
              "#fb9f3a"
             ],
             [
              0.8888888888888888,
              "#fdca26"
             ],
             [
              1,
              "#f0f921"
             ]
            ],
            "type": "surface"
           }
          ],
          "table": [
           {
            "cells": {
             "fill": {
              "color": "#EBF0F8"
             },
             "line": {
              "color": "white"
             }
            },
            "header": {
             "fill": {
              "color": "#C8D4E3"
             },
             "line": {
              "color": "white"
             }
            },
            "type": "table"
           }
          ]
         },
         "layout": {
          "annotationdefaults": {
           "arrowcolor": "#2a3f5f",
           "arrowhead": 0,
           "arrowwidth": 1
          },
          "autotypenumbers": "strict",
          "coloraxis": {
           "colorbar": {
            "outlinewidth": 0,
            "ticks": ""
           }
          },
          "colorscale": {
           "diverging": [
            [
             0,
             "#8e0152"
            ],
            [
             0.1,
             "#c51b7d"
            ],
            [
             0.2,
             "#de77ae"
            ],
            [
             0.3,
             "#f1b6da"
            ],
            [
             0.4,
             "#fde0ef"
            ],
            [
             0.5,
             "#f7f7f7"
            ],
            [
             0.6,
             "#e6f5d0"
            ],
            [
             0.7,
             "#b8e186"
            ],
            [
             0.8,
             "#7fbc41"
            ],
            [
             0.9,
             "#4d9221"
            ],
            [
             1,
             "#276419"
            ]
           ],
           "sequential": [
            [
             0,
             "#0d0887"
            ],
            [
             0.1111111111111111,
             "#46039f"
            ],
            [
             0.2222222222222222,
             "#7201a8"
            ],
            [
             0.3333333333333333,
             "#9c179e"
            ],
            [
             0.4444444444444444,
             "#bd3786"
            ],
            [
             0.5555555555555556,
             "#d8576b"
            ],
            [
             0.6666666666666666,
             "#ed7953"
            ],
            [
             0.7777777777777778,
             "#fb9f3a"
            ],
            [
             0.8888888888888888,
             "#fdca26"
            ],
            [
             1,
             "#f0f921"
            ]
           ],
           "sequentialminus": [
            [
             0,
             "#0d0887"
            ],
            [
             0.1111111111111111,
             "#46039f"
            ],
            [
             0.2222222222222222,
             "#7201a8"
            ],
            [
             0.3333333333333333,
             "#9c179e"
            ],
            [
             0.4444444444444444,
             "#bd3786"
            ],
            [
             0.5555555555555556,
             "#d8576b"
            ],
            [
             0.6666666666666666,
             "#ed7953"
            ],
            [
             0.7777777777777778,
             "#fb9f3a"
            ],
            [
             0.8888888888888888,
             "#fdca26"
            ],
            [
             1,
             "#f0f921"
            ]
           ]
          },
          "colorway": [
           "#636efa",
           "#EF553B",
           "#00cc96",
           "#ab63fa",
           "#FFA15A",
           "#19d3f3",
           "#FF6692",
           "#B6E880",
           "#FF97FF",
           "#FECB52"
          ],
          "font": {
           "color": "#2a3f5f"
          },
          "geo": {
           "bgcolor": "white",
           "lakecolor": "white",
           "landcolor": "#E5ECF6",
           "showlakes": true,
           "showland": true,
           "subunitcolor": "white"
          },
          "hoverlabel": {
           "align": "left"
          },
          "hovermode": "closest",
          "mapbox": {
           "style": "light"
          },
          "paper_bgcolor": "white",
          "plot_bgcolor": "#E5ECF6",
          "polar": {
           "angularaxis": {
            "gridcolor": "white",
            "linecolor": "white",
            "ticks": ""
           },
           "bgcolor": "#E5ECF6",
           "radialaxis": {
            "gridcolor": "white",
            "linecolor": "white",
            "ticks": ""
           }
          },
          "scene": {
           "xaxis": {
            "backgroundcolor": "#E5ECF6",
            "gridcolor": "white",
            "gridwidth": 2,
            "linecolor": "white",
            "showbackground": true,
            "ticks": "",
            "zerolinecolor": "white"
           },
           "yaxis": {
            "backgroundcolor": "#E5ECF6",
            "gridcolor": "white",
            "gridwidth": 2,
            "linecolor": "white",
            "showbackground": true,
            "ticks": "",
            "zerolinecolor": "white"
           },
           "zaxis": {
            "backgroundcolor": "#E5ECF6",
            "gridcolor": "white",
            "gridwidth": 2,
            "linecolor": "white",
            "showbackground": true,
            "ticks": "",
            "zerolinecolor": "white"
           }
          },
          "shapedefaults": {
           "line": {
            "color": "#2a3f5f"
           }
          },
          "ternary": {
           "aaxis": {
            "gridcolor": "white",
            "linecolor": "white",
            "ticks": ""
           },
           "baxis": {
            "gridcolor": "white",
            "linecolor": "white",
            "ticks": ""
           },
           "bgcolor": "#E5ECF6",
           "caxis": {
            "gridcolor": "white",
            "linecolor": "white",
            "ticks": ""
           }
          },
          "title": {
           "x": 0.05
          },
          "xaxis": {
           "automargin": true,
           "gridcolor": "white",
           "linecolor": "white",
           "ticks": "",
           "title": {
            "standoff": 15
           },
           "zerolinecolor": "white",
           "zerolinewidth": 2
          },
          "yaxis": {
           "automargin": true,
           "gridcolor": "white",
           "linecolor": "white",
           "ticks": "",
           "title": {
            "standoff": 15
           },
           "zerolinecolor": "white",
           "zerolinewidth": 2
          }
         }
        },
        "title": {
         "text": "Booking Status Distribution by Market Segment"
        }
       }
      }
     },
     "metadata": {},
     "output_type": "display_data"
    }
   ],
   "source": [
    "table = df.pivot_table(index='market_segment_type', columns='booking_status', aggfunc='size', fill_value=0).reset_index()\n",
    "melted_table = table.melt(id_vars='market_segment_type', \n",
    "                          value_vars=['Canceled', 'Not_Canceled'],\n",
    "                          var_name='booking_status', \n",
    "                          value_name='value')\n",
    "\n",
    "fig = px.sunburst(\n",
    "    melted_table,\n",
    "    path=['market_segment_type', 'booking_status'],\n",
    "    values='value',\n",
    "    title='Booking Status Distribution by Market Segment'\n",
    ")\n",
    "fig.show()"
   ]
  },
  {
   "cell_type": "code",
   "execution_count": 11,
   "metadata": {},
   "outputs": [
    {
     "data": {
      "application/vnd.plotly.v1+json": {
       "config": {
        "plotlyServerURL": "https://plot.ly"
       },
       "data": [
        {
         "hovertemplate": "room_type_reserved=%{x}<br>Booking_ID=%{y}<extra></extra>",
         "legendgroup": "",
         "marker": {
          "color": "#636efa",
          "pattern": {
           "shape": ""
          }
         },
         "name": "",
         "orientation": "v",
         "showlegend": false,
         "textposition": "auto",
         "type": "bar",
         "x": [
          "Room_Type 1",
          "Room_Type 2",
          "Room_Type 3",
          "Room_Type 4",
          "Room_Type 5",
          "Room_Type 6",
          "Room_Type 7"
         ],
         "xaxis": "x",
         "y": {
          "bdata": "9wAUAAIANAARAA4AJwA=",
          "dtype": "i2"
         },
         "yaxis": "y"
        }
       ],
       "layout": {
        "barmode": "relative",
        "legend": {
         "tracegroupgap": 0
        },
        "margin": {
         "t": 60
        },
        "template": {
         "data": {
          "bar": [
           {
            "error_x": {
             "color": "#2a3f5f"
            },
            "error_y": {
             "color": "#2a3f5f"
            },
            "marker": {
             "line": {
              "color": "#E5ECF6",
              "width": 0.5
             },
             "pattern": {
              "fillmode": "overlay",
              "size": 10,
              "solidity": 0.2
             }
            },
            "type": "bar"
           }
          ],
          "barpolar": [
           {
            "marker": {
             "line": {
              "color": "#E5ECF6",
              "width": 0.5
             },
             "pattern": {
              "fillmode": "overlay",
              "size": 10,
              "solidity": 0.2
             }
            },
            "type": "barpolar"
           }
          ],
          "carpet": [
           {
            "aaxis": {
             "endlinecolor": "#2a3f5f",
             "gridcolor": "white",
             "linecolor": "white",
             "minorgridcolor": "white",
             "startlinecolor": "#2a3f5f"
            },
            "baxis": {
             "endlinecolor": "#2a3f5f",
             "gridcolor": "white",
             "linecolor": "white",
             "minorgridcolor": "white",
             "startlinecolor": "#2a3f5f"
            },
            "type": "carpet"
           }
          ],
          "choropleth": [
           {
            "colorbar": {
             "outlinewidth": 0,
             "ticks": ""
            },
            "type": "choropleth"
           }
          ],
          "contour": [
           {
            "colorbar": {
             "outlinewidth": 0,
             "ticks": ""
            },
            "colorscale": [
             [
              0,
              "#0d0887"
             ],
             [
              0.1111111111111111,
              "#46039f"
             ],
             [
              0.2222222222222222,
              "#7201a8"
             ],
             [
              0.3333333333333333,
              "#9c179e"
             ],
             [
              0.4444444444444444,
              "#bd3786"
             ],
             [
              0.5555555555555556,
              "#d8576b"
             ],
             [
              0.6666666666666666,
              "#ed7953"
             ],
             [
              0.7777777777777778,
              "#fb9f3a"
             ],
             [
              0.8888888888888888,
              "#fdca26"
             ],
             [
              1,
              "#f0f921"
             ]
            ],
            "type": "contour"
           }
          ],
          "contourcarpet": [
           {
            "colorbar": {
             "outlinewidth": 0,
             "ticks": ""
            },
            "type": "contourcarpet"
           }
          ],
          "heatmap": [
           {
            "colorbar": {
             "outlinewidth": 0,
             "ticks": ""
            },
            "colorscale": [
             [
              0,
              "#0d0887"
             ],
             [
              0.1111111111111111,
              "#46039f"
             ],
             [
              0.2222222222222222,
              "#7201a8"
             ],
             [
              0.3333333333333333,
              "#9c179e"
             ],
             [
              0.4444444444444444,
              "#bd3786"
             ],
             [
              0.5555555555555556,
              "#d8576b"
             ],
             [
              0.6666666666666666,
              "#ed7953"
             ],
             [
              0.7777777777777778,
              "#fb9f3a"
             ],
             [
              0.8888888888888888,
              "#fdca26"
             ],
             [
              1,
              "#f0f921"
             ]
            ],
            "type": "heatmap"
           }
          ],
          "histogram": [
           {
            "marker": {
             "pattern": {
              "fillmode": "overlay",
              "size": 10,
              "solidity": 0.2
             }
            },
            "type": "histogram"
           }
          ],
          "histogram2d": [
           {
            "colorbar": {
             "outlinewidth": 0,
             "ticks": ""
            },
            "colorscale": [
             [
              0,
              "#0d0887"
             ],
             [
              0.1111111111111111,
              "#46039f"
             ],
             [
              0.2222222222222222,
              "#7201a8"
             ],
             [
              0.3333333333333333,
              "#9c179e"
             ],
             [
              0.4444444444444444,
              "#bd3786"
             ],
             [
              0.5555555555555556,
              "#d8576b"
             ],
             [
              0.6666666666666666,
              "#ed7953"
             ],
             [
              0.7777777777777778,
              "#fb9f3a"
             ],
             [
              0.8888888888888888,
              "#fdca26"
             ],
             [
              1,
              "#f0f921"
             ]
            ],
            "type": "histogram2d"
           }
          ],
          "histogram2dcontour": [
           {
            "colorbar": {
             "outlinewidth": 0,
             "ticks": ""
            },
            "colorscale": [
             [
              0,
              "#0d0887"
             ],
             [
              0.1111111111111111,
              "#46039f"
             ],
             [
              0.2222222222222222,
              "#7201a8"
             ],
             [
              0.3333333333333333,
              "#9c179e"
             ],
             [
              0.4444444444444444,
              "#bd3786"
             ],
             [
              0.5555555555555556,
              "#d8576b"
             ],
             [
              0.6666666666666666,
              "#ed7953"
             ],
             [
              0.7777777777777778,
              "#fb9f3a"
             ],
             [
              0.8888888888888888,
              "#fdca26"
             ],
             [
              1,
              "#f0f921"
             ]
            ],
            "type": "histogram2dcontour"
           }
          ],
          "mesh3d": [
           {
            "colorbar": {
             "outlinewidth": 0,
             "ticks": ""
            },
            "type": "mesh3d"
           }
          ],
          "parcoords": [
           {
            "line": {
             "colorbar": {
              "outlinewidth": 0,
              "ticks": ""
             }
            },
            "type": "parcoords"
           }
          ],
          "pie": [
           {
            "automargin": true,
            "type": "pie"
           }
          ],
          "scatter": [
           {
            "fillpattern": {
             "fillmode": "overlay",
             "size": 10,
             "solidity": 0.2
            },
            "type": "scatter"
           }
          ],
          "scatter3d": [
           {
            "line": {
             "colorbar": {
              "outlinewidth": 0,
              "ticks": ""
             }
            },
            "marker": {
             "colorbar": {
              "outlinewidth": 0,
              "ticks": ""
             }
            },
            "type": "scatter3d"
           }
          ],
          "scattercarpet": [
           {
            "marker": {
             "colorbar": {
              "outlinewidth": 0,
              "ticks": ""
             }
            },
            "type": "scattercarpet"
           }
          ],
          "scattergeo": [
           {
            "marker": {
             "colorbar": {
              "outlinewidth": 0,
              "ticks": ""
             }
            },
            "type": "scattergeo"
           }
          ],
          "scattergl": [
           {
            "marker": {
             "colorbar": {
              "outlinewidth": 0,
              "ticks": ""
             }
            },
            "type": "scattergl"
           }
          ],
          "scattermap": [
           {
            "marker": {
             "colorbar": {
              "outlinewidth": 0,
              "ticks": ""
             }
            },
            "type": "scattermap"
           }
          ],
          "scattermapbox": [
           {
            "marker": {
             "colorbar": {
              "outlinewidth": 0,
              "ticks": ""
             }
            },
            "type": "scattermapbox"
           }
          ],
          "scatterpolar": [
           {
            "marker": {
             "colorbar": {
              "outlinewidth": 0,
              "ticks": ""
             }
            },
            "type": "scatterpolar"
           }
          ],
          "scatterpolargl": [
           {
            "marker": {
             "colorbar": {
              "outlinewidth": 0,
              "ticks": ""
             }
            },
            "type": "scatterpolargl"
           }
          ],
          "scatterternary": [
           {
            "marker": {
             "colorbar": {
              "outlinewidth": 0,
              "ticks": ""
             }
            },
            "type": "scatterternary"
           }
          ],
          "surface": [
           {
            "colorbar": {
             "outlinewidth": 0,
             "ticks": ""
            },
            "colorscale": [
             [
              0,
              "#0d0887"
             ],
             [
              0.1111111111111111,
              "#46039f"
             ],
             [
              0.2222222222222222,
              "#7201a8"
             ],
             [
              0.3333333333333333,
              "#9c179e"
             ],
             [
              0.4444444444444444,
              "#bd3786"
             ],
             [
              0.5555555555555556,
              "#d8576b"
             ],
             [
              0.6666666666666666,
              "#ed7953"
             ],
             [
              0.7777777777777778,
              "#fb9f3a"
             ],
             [
              0.8888888888888888,
              "#fdca26"
             ],
             [
              1,
              "#f0f921"
             ]
            ],
            "type": "surface"
           }
          ],
          "table": [
           {
            "cells": {
             "fill": {
              "color": "#EBF0F8"
             },
             "line": {
              "color": "white"
             }
            },
            "header": {
             "fill": {
              "color": "#C8D4E3"
             },
             "line": {
              "color": "white"
             }
            },
            "type": "table"
           }
          ]
         },
         "layout": {
          "annotationdefaults": {
           "arrowcolor": "#2a3f5f",
           "arrowhead": 0,
           "arrowwidth": 1
          },
          "autotypenumbers": "strict",
          "coloraxis": {
           "colorbar": {
            "outlinewidth": 0,
            "ticks": ""
           }
          },
          "colorscale": {
           "diverging": [
            [
             0,
             "#8e0152"
            ],
            [
             0.1,
             "#c51b7d"
            ],
            [
             0.2,
             "#de77ae"
            ],
            [
             0.3,
             "#f1b6da"
            ],
            [
             0.4,
             "#fde0ef"
            ],
            [
             0.5,
             "#f7f7f7"
            ],
            [
             0.6,
             "#e6f5d0"
            ],
            [
             0.7,
             "#b8e186"
            ],
            [
             0.8,
             "#7fbc41"
            ],
            [
             0.9,
             "#4d9221"
            ],
            [
             1,
             "#276419"
            ]
           ],
           "sequential": [
            [
             0,
             "#0d0887"
            ],
            [
             0.1111111111111111,
             "#46039f"
            ],
            [
             0.2222222222222222,
             "#7201a8"
            ],
            [
             0.3333333333333333,
             "#9c179e"
            ],
            [
             0.4444444444444444,
             "#bd3786"
            ],
            [
             0.5555555555555556,
             "#d8576b"
            ],
            [
             0.6666666666666666,
             "#ed7953"
            ],
            [
             0.7777777777777778,
             "#fb9f3a"
            ],
            [
             0.8888888888888888,
             "#fdca26"
            ],
            [
             1,
             "#f0f921"
            ]
           ],
           "sequentialminus": [
            [
             0,
             "#0d0887"
            ],
            [
             0.1111111111111111,
             "#46039f"
            ],
            [
             0.2222222222222222,
             "#7201a8"
            ],
            [
             0.3333333333333333,
             "#9c179e"
            ],
            [
             0.4444444444444444,
             "#bd3786"
            ],
            [
             0.5555555555555556,
             "#d8576b"
            ],
            [
             0.6666666666666666,
             "#ed7953"
            ],
            [
             0.7777777777777778,
             "#fb9f3a"
            ],
            [
             0.8888888888888888,
             "#fdca26"
            ],
            [
             1,
             "#f0f921"
            ]
           ]
          },
          "colorway": [
           "#636efa",
           "#EF553B",
           "#00cc96",
           "#ab63fa",
           "#FFA15A",
           "#19d3f3",
           "#FF6692",
           "#B6E880",
           "#FF97FF",
           "#FECB52"
          ],
          "font": {
           "color": "#2a3f5f"
          },
          "geo": {
           "bgcolor": "white",
           "lakecolor": "white",
           "landcolor": "#E5ECF6",
           "showlakes": true,
           "showland": true,
           "subunitcolor": "white"
          },
          "hoverlabel": {
           "align": "left"
          },
          "hovermode": "closest",
          "mapbox": {
           "style": "light"
          },
          "paper_bgcolor": "white",
          "plot_bgcolor": "#E5ECF6",
          "polar": {
           "angularaxis": {
            "gridcolor": "white",
            "linecolor": "white",
            "ticks": ""
           },
           "bgcolor": "#E5ECF6",
           "radialaxis": {
            "gridcolor": "white",
            "linecolor": "white",
            "ticks": ""
           }
          },
          "scene": {
           "xaxis": {
            "backgroundcolor": "#E5ECF6",
            "gridcolor": "white",
            "gridwidth": 2,
            "linecolor": "white",
            "showbackground": true,
            "ticks": "",
            "zerolinecolor": "white"
           },
           "yaxis": {
            "backgroundcolor": "#E5ECF6",
            "gridcolor": "white",
            "gridwidth": 2,
            "linecolor": "white",
            "showbackground": true,
            "ticks": "",
            "zerolinecolor": "white"
           },
           "zaxis": {
            "backgroundcolor": "#E5ECF6",
            "gridcolor": "white",
            "gridwidth": 2,
            "linecolor": "white",
            "showbackground": true,
            "ticks": "",
            "zerolinecolor": "white"
           }
          },
          "shapedefaults": {
           "line": {
            "color": "#2a3f5f"
           }
          },
          "ternary": {
           "aaxis": {
            "gridcolor": "white",
            "linecolor": "white",
            "ticks": ""
           },
           "baxis": {
            "gridcolor": "white",
            "linecolor": "white",
            "ticks": ""
           },
           "bgcolor": "#E5ECF6",
           "caxis": {
            "gridcolor": "white",
            "linecolor": "white",
            "ticks": ""
           }
          },
          "title": {
           "x": 0.05
          },
          "xaxis": {
           "automargin": true,
           "gridcolor": "white",
           "linecolor": "white",
           "ticks": "",
           "title": {
            "standoff": 15
           },
           "zerolinecolor": "white",
           "zerolinewidth": 2
          },
          "yaxis": {
           "automargin": true,
           "gridcolor": "white",
           "linecolor": "white",
           "ticks": "",
           "title": {
            "standoff": 15
           },
           "zerolinecolor": "white",
           "zerolinewidth": 2
          }
         }
        },
        "xaxis": {
         "anchor": "y",
         "domain": [
          0,
          1
         ],
         "title": {
          "text": "room_type_reserved"
         }
        },
        "yaxis": {
         "anchor": "x",
         "domain": [
          0,
          1
         ],
         "title": {
          "text": "Booking_ID"
         }
        }
       }
      }
     },
     "metadata": {},
     "output_type": "display_data"
    }
   ],
   "source": [
    "complementary = df.query(\"market_segment_type == 'Complementary'\").groupby('room_type_reserved')['Booking_ID'].count().reset_index()\n",
    "fig = px.bar(complementary, x='room_type_reserved', y='Booking_ID')\n",
    "fig.show()"
   ]
  },
  {
   "cell_type": "code",
   "execution_count": 12,
   "metadata": {},
   "outputs": [
    {
     "data": {
      "application/vnd.plotly.v1+json": {
       "config": {
        "plotlyServerURL": "https://plot.ly"
       },
       "data": [
        {
         "domain": {
          "x": [
           0,
           1
          ],
          "y": [
           0,
           1
          ]
         },
         "hovertemplate": "type_of_meal_plan=%{label}<br>booking_status=%{value}<extra></extra>",
         "labels": [
          "Meal Plan 1",
          "Meal Plan 2",
          "Meal Plan 3",
          "Not Selected"
         ],
         "legendgroup": "",
         "name": "",
         "showlegend": true,
         "type": "pie",
         "values": {
          "bdata": "1EoHBwQAZw0=",
          "dtype": "i2"
         }
        }
       ],
       "layout": {
        "legend": {
         "tracegroupgap": 0
        },
        "template": {
         "data": {
          "bar": [
           {
            "error_x": {
             "color": "#2a3f5f"
            },
            "error_y": {
             "color": "#2a3f5f"
            },
            "marker": {
             "line": {
              "color": "#E5ECF6",
              "width": 0.5
             },
             "pattern": {
              "fillmode": "overlay",
              "size": 10,
              "solidity": 0.2
             }
            },
            "type": "bar"
           }
          ],
          "barpolar": [
           {
            "marker": {
             "line": {
              "color": "#E5ECF6",
              "width": 0.5
             },
             "pattern": {
              "fillmode": "overlay",
              "size": 10,
              "solidity": 0.2
             }
            },
            "type": "barpolar"
           }
          ],
          "carpet": [
           {
            "aaxis": {
             "endlinecolor": "#2a3f5f",
             "gridcolor": "white",
             "linecolor": "white",
             "minorgridcolor": "white",
             "startlinecolor": "#2a3f5f"
            },
            "baxis": {
             "endlinecolor": "#2a3f5f",
             "gridcolor": "white",
             "linecolor": "white",
             "minorgridcolor": "white",
             "startlinecolor": "#2a3f5f"
            },
            "type": "carpet"
           }
          ],
          "choropleth": [
           {
            "colorbar": {
             "outlinewidth": 0,
             "ticks": ""
            },
            "type": "choropleth"
           }
          ],
          "contour": [
           {
            "colorbar": {
             "outlinewidth": 0,
             "ticks": ""
            },
            "colorscale": [
             [
              0,
              "#0d0887"
             ],
             [
              0.1111111111111111,
              "#46039f"
             ],
             [
              0.2222222222222222,
              "#7201a8"
             ],
             [
              0.3333333333333333,
              "#9c179e"
             ],
             [
              0.4444444444444444,
              "#bd3786"
             ],
             [
              0.5555555555555556,
              "#d8576b"
             ],
             [
              0.6666666666666666,
              "#ed7953"
             ],
             [
              0.7777777777777778,
              "#fb9f3a"
             ],
             [
              0.8888888888888888,
              "#fdca26"
             ],
             [
              1,
              "#f0f921"
             ]
            ],
            "type": "contour"
           }
          ],
          "contourcarpet": [
           {
            "colorbar": {
             "outlinewidth": 0,
             "ticks": ""
            },
            "type": "contourcarpet"
           }
          ],
          "heatmap": [
           {
            "colorbar": {
             "outlinewidth": 0,
             "ticks": ""
            },
            "colorscale": [
             [
              0,
              "#0d0887"
             ],
             [
              0.1111111111111111,
              "#46039f"
             ],
             [
              0.2222222222222222,
              "#7201a8"
             ],
             [
              0.3333333333333333,
              "#9c179e"
             ],
             [
              0.4444444444444444,
              "#bd3786"
             ],
             [
              0.5555555555555556,
              "#d8576b"
             ],
             [
              0.6666666666666666,
              "#ed7953"
             ],
             [
              0.7777777777777778,
              "#fb9f3a"
             ],
             [
              0.8888888888888888,
              "#fdca26"
             ],
             [
              1,
              "#f0f921"
             ]
            ],
            "type": "heatmap"
           }
          ],
          "histogram": [
           {
            "marker": {
             "pattern": {
              "fillmode": "overlay",
              "size": 10,
              "solidity": 0.2
             }
            },
            "type": "histogram"
           }
          ],
          "histogram2d": [
           {
            "colorbar": {
             "outlinewidth": 0,
             "ticks": ""
            },
            "colorscale": [
             [
              0,
              "#0d0887"
             ],
             [
              0.1111111111111111,
              "#46039f"
             ],
             [
              0.2222222222222222,
              "#7201a8"
             ],
             [
              0.3333333333333333,
              "#9c179e"
             ],
             [
              0.4444444444444444,
              "#bd3786"
             ],
             [
              0.5555555555555556,
              "#d8576b"
             ],
             [
              0.6666666666666666,
              "#ed7953"
             ],
             [
              0.7777777777777778,
              "#fb9f3a"
             ],
             [
              0.8888888888888888,
              "#fdca26"
             ],
             [
              1,
              "#f0f921"
             ]
            ],
            "type": "histogram2d"
           }
          ],
          "histogram2dcontour": [
           {
            "colorbar": {
             "outlinewidth": 0,
             "ticks": ""
            },
            "colorscale": [
             [
              0,
              "#0d0887"
             ],
             [
              0.1111111111111111,
              "#46039f"
             ],
             [
              0.2222222222222222,
              "#7201a8"
             ],
             [
              0.3333333333333333,
              "#9c179e"
             ],
             [
              0.4444444444444444,
              "#bd3786"
             ],
             [
              0.5555555555555556,
              "#d8576b"
             ],
             [
              0.6666666666666666,
              "#ed7953"
             ],
             [
              0.7777777777777778,
              "#fb9f3a"
             ],
             [
              0.8888888888888888,
              "#fdca26"
             ],
             [
              1,
              "#f0f921"
             ]
            ],
            "type": "histogram2dcontour"
           }
          ],
          "mesh3d": [
           {
            "colorbar": {
             "outlinewidth": 0,
             "ticks": ""
            },
            "type": "mesh3d"
           }
          ],
          "parcoords": [
           {
            "line": {
             "colorbar": {
              "outlinewidth": 0,
              "ticks": ""
             }
            },
            "type": "parcoords"
           }
          ],
          "pie": [
           {
            "automargin": true,
            "type": "pie"
           }
          ],
          "scatter": [
           {
            "fillpattern": {
             "fillmode": "overlay",
             "size": 10,
             "solidity": 0.2
            },
            "type": "scatter"
           }
          ],
          "scatter3d": [
           {
            "line": {
             "colorbar": {
              "outlinewidth": 0,
              "ticks": ""
             }
            },
            "marker": {
             "colorbar": {
              "outlinewidth": 0,
              "ticks": ""
             }
            },
            "type": "scatter3d"
           }
          ],
          "scattercarpet": [
           {
            "marker": {
             "colorbar": {
              "outlinewidth": 0,
              "ticks": ""
             }
            },
            "type": "scattercarpet"
           }
          ],
          "scattergeo": [
           {
            "marker": {
             "colorbar": {
              "outlinewidth": 0,
              "ticks": ""
             }
            },
            "type": "scattergeo"
           }
          ],
          "scattergl": [
           {
            "marker": {
             "colorbar": {
              "outlinewidth": 0,
              "ticks": ""
             }
            },
            "type": "scattergl"
           }
          ],
          "scattermap": [
           {
            "marker": {
             "colorbar": {
              "outlinewidth": 0,
              "ticks": ""
             }
            },
            "type": "scattermap"
           }
          ],
          "scattermapbox": [
           {
            "marker": {
             "colorbar": {
              "outlinewidth": 0,
              "ticks": ""
             }
            },
            "type": "scattermapbox"
           }
          ],
          "scatterpolar": [
           {
            "marker": {
             "colorbar": {
              "outlinewidth": 0,
              "ticks": ""
             }
            },
            "type": "scatterpolar"
           }
          ],
          "scatterpolargl": [
           {
            "marker": {
             "colorbar": {
              "outlinewidth": 0,
              "ticks": ""
             }
            },
            "type": "scatterpolargl"
           }
          ],
          "scatterternary": [
           {
            "marker": {
             "colorbar": {
              "outlinewidth": 0,
              "ticks": ""
             }
            },
            "type": "scatterternary"
           }
          ],
          "surface": [
           {
            "colorbar": {
             "outlinewidth": 0,
             "ticks": ""
            },
            "colorscale": [
             [
              0,
              "#0d0887"
             ],
             [
              0.1111111111111111,
              "#46039f"
             ],
             [
              0.2222222222222222,
              "#7201a8"
             ],
             [
              0.3333333333333333,
              "#9c179e"
             ],
             [
              0.4444444444444444,
              "#bd3786"
             ],
             [
              0.5555555555555556,
              "#d8576b"
             ],
             [
              0.6666666666666666,
              "#ed7953"
             ],
             [
              0.7777777777777778,
              "#fb9f3a"
             ],
             [
              0.8888888888888888,
              "#fdca26"
             ],
             [
              1,
              "#f0f921"
             ]
            ],
            "type": "surface"
           }
          ],
          "table": [
           {
            "cells": {
             "fill": {
              "color": "#EBF0F8"
             },
             "line": {
              "color": "white"
             }
            },
            "header": {
             "fill": {
              "color": "#C8D4E3"
             },
             "line": {
              "color": "white"
             }
            },
            "type": "table"
           }
          ]
         },
         "layout": {
          "annotationdefaults": {
           "arrowcolor": "#2a3f5f",
           "arrowhead": 0,
           "arrowwidth": 1
          },
          "autotypenumbers": "strict",
          "coloraxis": {
           "colorbar": {
            "outlinewidth": 0,
            "ticks": ""
           }
          },
          "colorscale": {
           "diverging": [
            [
             0,
             "#8e0152"
            ],
            [
             0.1,
             "#c51b7d"
            ],
            [
             0.2,
             "#de77ae"
            ],
            [
             0.3,
             "#f1b6da"
            ],
            [
             0.4,
             "#fde0ef"
            ],
            [
             0.5,
             "#f7f7f7"
            ],
            [
             0.6,
             "#e6f5d0"
            ],
            [
             0.7,
             "#b8e186"
            ],
            [
             0.8,
             "#7fbc41"
            ],
            [
             0.9,
             "#4d9221"
            ],
            [
             1,
             "#276419"
            ]
           ],
           "sequential": [
            [
             0,
             "#0d0887"
            ],
            [
             0.1111111111111111,
             "#46039f"
            ],
            [
             0.2222222222222222,
             "#7201a8"
            ],
            [
             0.3333333333333333,
             "#9c179e"
            ],
            [
             0.4444444444444444,
             "#bd3786"
            ],
            [
             0.5555555555555556,
             "#d8576b"
            ],
            [
             0.6666666666666666,
             "#ed7953"
            ],
            [
             0.7777777777777778,
             "#fb9f3a"
            ],
            [
             0.8888888888888888,
             "#fdca26"
            ],
            [
             1,
             "#f0f921"
            ]
           ],
           "sequentialminus": [
            [
             0,
             "#0d0887"
            ],
            [
             0.1111111111111111,
             "#46039f"
            ],
            [
             0.2222222222222222,
             "#7201a8"
            ],
            [
             0.3333333333333333,
             "#9c179e"
            ],
            [
             0.4444444444444444,
             "#bd3786"
            ],
            [
             0.5555555555555556,
             "#d8576b"
            ],
            [
             0.6666666666666666,
             "#ed7953"
            ],
            [
             0.7777777777777778,
             "#fb9f3a"
            ],
            [
             0.8888888888888888,
             "#fdca26"
            ],
            [
             1,
             "#f0f921"
            ]
           ]
          },
          "colorway": [
           "#636efa",
           "#EF553B",
           "#00cc96",
           "#ab63fa",
           "#FFA15A",
           "#19d3f3",
           "#FF6692",
           "#B6E880",
           "#FF97FF",
           "#FECB52"
          ],
          "font": {
           "color": "#2a3f5f"
          },
          "geo": {
           "bgcolor": "white",
           "lakecolor": "white",
           "landcolor": "#E5ECF6",
           "showlakes": true,
           "showland": true,
           "subunitcolor": "white"
          },
          "hoverlabel": {
           "align": "left"
          },
          "hovermode": "closest",
          "mapbox": {
           "style": "light"
          },
          "paper_bgcolor": "white",
          "plot_bgcolor": "#E5ECF6",
          "polar": {
           "angularaxis": {
            "gridcolor": "white",
            "linecolor": "white",
            "ticks": ""
           },
           "bgcolor": "#E5ECF6",
           "radialaxis": {
            "gridcolor": "white",
            "linecolor": "white",
            "ticks": ""
           }
          },
          "scene": {
           "xaxis": {
            "backgroundcolor": "#E5ECF6",
            "gridcolor": "white",
            "gridwidth": 2,
            "linecolor": "white",
            "showbackground": true,
            "ticks": "",
            "zerolinecolor": "white"
           },
           "yaxis": {
            "backgroundcolor": "#E5ECF6",
            "gridcolor": "white",
            "gridwidth": 2,
            "linecolor": "white",
            "showbackground": true,
            "ticks": "",
            "zerolinecolor": "white"
           },
           "zaxis": {
            "backgroundcolor": "#E5ECF6",
            "gridcolor": "white",
            "gridwidth": 2,
            "linecolor": "white",
            "showbackground": true,
            "ticks": "",
            "zerolinecolor": "white"
           }
          },
          "shapedefaults": {
           "line": {
            "color": "#2a3f5f"
           }
          },
          "ternary": {
           "aaxis": {
            "gridcolor": "white",
            "linecolor": "white",
            "ticks": ""
           },
           "baxis": {
            "gridcolor": "white",
            "linecolor": "white",
            "ticks": ""
           },
           "bgcolor": "#E5ECF6",
           "caxis": {
            "gridcolor": "white",
            "linecolor": "white",
            "ticks": ""
           }
          },
          "title": {
           "x": 0.05
          },
          "xaxis": {
           "automargin": true,
           "gridcolor": "white",
           "linecolor": "white",
           "ticks": "",
           "title": {
            "standoff": 15
           },
           "zerolinecolor": "white",
           "zerolinewidth": 2
          },
          "yaxis": {
           "automargin": true,
           "gridcolor": "white",
           "linecolor": "white",
           "ticks": "",
           "title": {
            "standoff": 15
           },
           "zerolinecolor": "white",
           "zerolinewidth": 2
          }
         }
        },
        "title": {
         "text": "Meal Plan Influence on Cancellations"
        }
       }
      }
     },
     "metadata": {},
     "output_type": "display_data"
    },
    {
     "data": {
      "text/plain": [
       "<Figure size 800x500 with 0 Axes>"
      ]
     },
     "metadata": {},
     "output_type": "display_data"
    }
   ],
   "source": [
    "meal_plan_table_cancel = df.query(\"booking_status == 'Not_Canceled'\").groupby('type_of_meal_plan').agg({'booking_status':'count'}).reset_index()\n",
    "plt.figure(figsize=(8, 5))\n",
    "fig = px.pie(meal_plan_table_cancel, \n",
    "         names='type_of_meal_plan',\n",
    "         values='booking_status',\n",
    "         title='Meal Plan Influence on Cancellations')\n",
    "meal_plan_table_not = df.query(\"booking_status == 'Not_Canceled'\").groupby('type_of_meal_plan').agg({'booking_status':'count'}).reset_index()\n",
    "fig.show()\n"
   ]
  },
  {
   "cell_type": "code",
   "execution_count": 13,
   "metadata": {},
   "outputs": [
    {
     "data": {
      "application/vnd.plotly.v1+json": {
       "config": {
        "plotlyServerURL": "https://plot.ly"
       },
       "data": [
        {
         "bingroup": "x",
         "hovertemplate": "lead_time=%{x}<br>count=%{y}<extra></extra>",
         "legendgroup": "",
         "marker": {
          "color": "#636efa",
          "pattern": {
           "shape": ""
          }
         },
         "name": "",
         "nbinsx": 50,
         "orientation": "v",
         "showlegend": false,
         "type": "histogram",
         "x": {
          "bdata": "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",
          "dtype": "i2"
         },
         "xaxis": "x",
         "yaxis": "y"
        }
       ],
       "layout": {
        "bargap": 0.1,
        "barmode": "relative",
        "legend": {
         "tracegroupgap": 0
        },
        "template": {
         "data": {
          "bar": [
           {
            "error_x": {
             "color": "#2a3f5f"
            },
            "error_y": {
             "color": "#2a3f5f"
            },
            "marker": {
             "line": {
              "color": "#E5ECF6",
              "width": 0.5
             },
             "pattern": {
              "fillmode": "overlay",
              "size": 10,
              "solidity": 0.2
             }
            },
            "type": "bar"
           }
          ],
          "barpolar": [
           {
            "marker": {
             "line": {
              "color": "#E5ECF6",
              "width": 0.5
             },
             "pattern": {
              "fillmode": "overlay",
              "size": 10,
              "solidity": 0.2
             }
            },
            "type": "barpolar"
           }
          ],
          "carpet": [
           {
            "aaxis": {
             "endlinecolor": "#2a3f5f",
             "gridcolor": "white",
             "linecolor": "white",
             "minorgridcolor": "white",
             "startlinecolor": "#2a3f5f"
            },
            "baxis": {
             "endlinecolor": "#2a3f5f",
             "gridcolor": "white",
             "linecolor": "white",
             "minorgridcolor": "white",
             "startlinecolor": "#2a3f5f"
            },
            "type": "carpet"
           }
          ],
          "choropleth": [
           {
            "colorbar": {
             "outlinewidth": 0,
             "ticks": ""
            },
            "type": "choropleth"
           }
          ],
          "contour": [
           {
            "colorbar": {
             "outlinewidth": 0,
             "ticks": ""
            },
            "colorscale": [
             [
              0,
              "#0d0887"
             ],
             [
              0.1111111111111111,
              "#46039f"
             ],
             [
              0.2222222222222222,
              "#7201a8"
             ],
             [
              0.3333333333333333,
              "#9c179e"
             ],
             [
              0.4444444444444444,
              "#bd3786"
             ],
             [
              0.5555555555555556,
              "#d8576b"
             ],
             [
              0.6666666666666666,
              "#ed7953"
             ],
             [
              0.7777777777777778,
              "#fb9f3a"
             ],
             [
              0.8888888888888888,
              "#fdca26"
             ],
             [
              1,
              "#f0f921"
             ]
            ],
            "type": "contour"
           }
          ],
          "contourcarpet": [
           {
            "colorbar": {
             "outlinewidth": 0,
             "ticks": ""
            },
            "type": "contourcarpet"
           }
          ],
          "heatmap": [
           {
            "colorbar": {
             "outlinewidth": 0,
             "ticks": ""
            },
            "colorscale": [
             [
              0,
              "#0d0887"
             ],
             [
              0.1111111111111111,
              "#46039f"
             ],
             [
              0.2222222222222222,
              "#7201a8"
             ],
             [
              0.3333333333333333,
              "#9c179e"
             ],
             [
              0.4444444444444444,
              "#bd3786"
             ],
             [
              0.5555555555555556,
              "#d8576b"
             ],
             [
              0.6666666666666666,
              "#ed7953"
             ],
             [
              0.7777777777777778,
              "#fb9f3a"
             ],
             [
              0.8888888888888888,
              "#fdca26"
             ],
             [
              1,
              "#f0f921"
             ]
            ],
            "type": "heatmap"
           }
          ],
          "histogram": [
           {
            "marker": {
             "pattern": {
              "fillmode": "overlay",
              "size": 10,
              "solidity": 0.2
             }
            },
            "type": "histogram"
           }
          ],
          "histogram2d": [
           {
            "colorbar": {
             "outlinewidth": 0,
             "ticks": ""
            },
            "colorscale": [
             [
              0,
              "#0d0887"
             ],
             [
              0.1111111111111111,
              "#46039f"
             ],
             [
              0.2222222222222222,
              "#7201a8"
             ],
             [
              0.3333333333333333,
              "#9c179e"
             ],
             [
              0.4444444444444444,
              "#bd3786"
             ],
             [
              0.5555555555555556,
              "#d8576b"
             ],
             [
              0.6666666666666666,
              "#ed7953"
             ],
             [
              0.7777777777777778,
              "#fb9f3a"
             ],
             [
              0.8888888888888888,
              "#fdca26"
             ],
             [
              1,
              "#f0f921"
             ]
            ],
            "type": "histogram2d"
           }
          ],
          "histogram2dcontour": [
           {
            "colorbar": {
             "outlinewidth": 0,
             "ticks": ""
            },
            "colorscale": [
             [
              0,
              "#0d0887"
             ],
             [
              0.1111111111111111,
              "#46039f"
             ],
             [
              0.2222222222222222,
              "#7201a8"
             ],
             [
              0.3333333333333333,
              "#9c179e"
             ],
             [
              0.4444444444444444,
              "#bd3786"
             ],
             [
              0.5555555555555556,
              "#d8576b"
             ],
             [
              0.6666666666666666,
              "#ed7953"
             ],
             [
              0.7777777777777778,
              "#fb9f3a"
             ],
             [
              0.8888888888888888,
              "#fdca26"
             ],
             [
              1,
              "#f0f921"
             ]
            ],
            "type": "histogram2dcontour"
           }
          ],
          "mesh3d": [
           {
            "colorbar": {
             "outlinewidth": 0,
             "ticks": ""
            },
            "type": "mesh3d"
           }
          ],
          "parcoords": [
           {
            "line": {
             "colorbar": {
              "outlinewidth": 0,
              "ticks": ""
             }
            },
            "type": "parcoords"
           }
          ],
          "pie": [
           {
            "automargin": true,
            "type": "pie"
           }
          ],
          "scatter": [
           {
            "fillpattern": {
             "fillmode": "overlay",
             "size": 10,
             "solidity": 0.2
            },
            "type": "scatter"
           }
          ],
          "scatter3d": [
           {
            "line": {
             "colorbar": {
              "outlinewidth": 0,
              "ticks": ""
             }
            },
            "marker": {
             "colorbar": {
              "outlinewidth": 0,
              "ticks": ""
             }
            },
            "type": "scatter3d"
           }
          ],
          "scattercarpet": [
           {
            "marker": {
             "colorbar": {
              "outlinewidth": 0,
              "ticks": ""
             }
            },
            "type": "scattercarpet"
           }
          ],
          "scattergeo": [
           {
            "marker": {
             "colorbar": {
              "outlinewidth": 0,
              "ticks": ""
             }
            },
            "type": "scattergeo"
           }
          ],
          "scattergl": [
           {
            "marker": {
             "colorbar": {
              "outlinewidth": 0,
              "ticks": ""
             }
            },
            "type": "scattergl"
           }
          ],
          "scattermap": [
           {
            "marker": {
             "colorbar": {
              "outlinewidth": 0,
              "ticks": ""
             }
            },
            "type": "scattermap"
           }
          ],
          "scattermapbox": [
           {
            "marker": {
             "colorbar": {
              "outlinewidth": 0,
              "ticks": ""
             }
            },
            "type": "scattermapbox"
           }
          ],
          "scatterpolar": [
           {
            "marker": {
             "colorbar": {
              "outlinewidth": 0,
              "ticks": ""
             }
            },
            "type": "scatterpolar"
           }
          ],
          "scatterpolargl": [
           {
            "marker": {
             "colorbar": {
              "outlinewidth": 0,
              "ticks": ""
             }
            },
            "type": "scatterpolargl"
           }
          ],
          "scatterternary": [
           {
            "marker": {
             "colorbar": {
              "outlinewidth": 0,
              "ticks": ""
             }
            },
            "type": "scatterternary"
           }
          ],
          "surface": [
           {
            "colorbar": {
             "outlinewidth": 0,
             "ticks": ""
            },
            "colorscale": [
             [
              0,
              "#0d0887"
             ],
             [
              0.1111111111111111,
              "#46039f"
             ],
             [
              0.2222222222222222,
              "#7201a8"
             ],
             [
              0.3333333333333333,
              "#9c179e"
             ],
             [
              0.4444444444444444,
              "#bd3786"
             ],
             [
              0.5555555555555556,
              "#d8576b"
             ],
             [
              0.6666666666666666,
              "#ed7953"
             ],
             [
              0.7777777777777778,
              "#fb9f3a"
             ],
             [
              0.8888888888888888,
              "#fdca26"
             ],
             [
              1,
              "#f0f921"
             ]
            ],
            "type": "surface"
           }
          ],
          "table": [
           {
            "cells": {
             "fill": {
              "color": "#EBF0F8"
             },
             "line": {
              "color": "white"
             }
            },
            "header": {
             "fill": {
              "color": "#C8D4E3"
             },
             "line": {
              "color": "white"
             }
            },
            "type": "table"
           }
          ]
         },
         "layout": {
          "annotationdefaults": {
           "arrowcolor": "#2a3f5f",
           "arrowhead": 0,
           "arrowwidth": 1
          },
          "autotypenumbers": "strict",
          "coloraxis": {
           "colorbar": {
            "outlinewidth": 0,
            "ticks": ""
           }
          },
          "colorscale": {
           "diverging": [
            [
             0,
             "#8e0152"
            ],
            [
             0.1,
             "#c51b7d"
            ],
            [
             0.2,
             "#de77ae"
            ],
            [
             0.3,
             "#f1b6da"
            ],
            [
             0.4,
             "#fde0ef"
            ],
            [
             0.5,
             "#f7f7f7"
            ],
            [
             0.6,
             "#e6f5d0"
            ],
            [
             0.7,
             "#b8e186"
            ],
            [
             0.8,
             "#7fbc41"
            ],
            [
             0.9,
             "#4d9221"
            ],
            [
             1,
             "#276419"
            ]
           ],
           "sequential": [
            [
             0,
             "#0d0887"
            ],
            [
             0.1111111111111111,
             "#46039f"
            ],
            [
             0.2222222222222222,
             "#7201a8"
            ],
            [
             0.3333333333333333,
             "#9c179e"
            ],
            [
             0.4444444444444444,
             "#bd3786"
            ],
            [
             0.5555555555555556,
             "#d8576b"
            ],
            [
             0.6666666666666666,
             "#ed7953"
            ],
            [
             0.7777777777777778,
             "#fb9f3a"
            ],
            [
             0.8888888888888888,
             "#fdca26"
            ],
            [
             1,
             "#f0f921"
            ]
           ],
           "sequentialminus": [
            [
             0,
             "#0d0887"
            ],
            [
             0.1111111111111111,
             "#46039f"
            ],
            [
             0.2222222222222222,
             "#7201a8"
            ],
            [
             0.3333333333333333,
             "#9c179e"
            ],
            [
             0.4444444444444444,
             "#bd3786"
            ],
            [
             0.5555555555555556,
             "#d8576b"
            ],
            [
             0.6666666666666666,
             "#ed7953"
            ],
            [
             0.7777777777777778,
             "#fb9f3a"
            ],
            [
             0.8888888888888888,
             "#fdca26"
            ],
            [
             1,
             "#f0f921"
            ]
           ]
          },
          "colorway": [
           "#636efa",
           "#EF553B",
           "#00cc96",
           "#ab63fa",
           "#FFA15A",
           "#19d3f3",
           "#FF6692",
           "#B6E880",
           "#FF97FF",
           "#FECB52"
          ],
          "font": {
           "color": "#2a3f5f"
          },
          "geo": {
           "bgcolor": "white",
           "lakecolor": "white",
           "landcolor": "#E5ECF6",
           "showlakes": true,
           "showland": true,
           "subunitcolor": "white"
          },
          "hoverlabel": {
           "align": "left"
          },
          "hovermode": "closest",
          "mapbox": {
           "style": "light"
          },
          "paper_bgcolor": "white",
          "plot_bgcolor": "#E5ECF6",
          "polar": {
           "angularaxis": {
            "gridcolor": "white",
            "linecolor": "white",
            "ticks": ""
           },
           "bgcolor": "#E5ECF6",
           "radialaxis": {
            "gridcolor": "white",
            "linecolor": "white",
            "ticks": ""
           }
          },
          "scene": {
           "xaxis": {
            "backgroundcolor": "#E5ECF6",
            "gridcolor": "white",
            "gridwidth": 2,
            "linecolor": "white",
            "showbackground": true,
            "ticks": "",
            "zerolinecolor": "white"
           },
           "yaxis": {
            "backgroundcolor": "#E5ECF6",
            "gridcolor": "white",
            "gridwidth": 2,
            "linecolor": "white",
            "showbackground": true,
            "ticks": "",
            "zerolinecolor": "white"
           },
           "zaxis": {
            "backgroundcolor": "#E5ECF6",
            "gridcolor": "white",
            "gridwidth": 2,
            "linecolor": "white",
            "showbackground": true,
            "ticks": "",
            "zerolinecolor": "white"
           }
          },
          "shapedefaults": {
           "line": {
            "color": "#2a3f5f"
           }
          },
          "ternary": {
           "aaxis": {
            "gridcolor": "white",
            "linecolor": "white",
            "ticks": ""
           },
           "baxis": {
            "gridcolor": "white",
            "linecolor": "white",
            "ticks": ""
           },
           "bgcolor": "#E5ECF6",
           "caxis": {
            "gridcolor": "white",
            "linecolor": "white",
            "ticks": ""
           }
          },
          "title": {
           "x": 0.05
          },
          "xaxis": {
           "automargin": true,
           "gridcolor": "white",
           "linecolor": "white",
           "ticks": "",
           "title": {
            "standoff": 15
           },
           "zerolinecolor": "white",
           "zerolinewidth": 2
          },
          "yaxis": {
           "automargin": true,
           "gridcolor": "white",
           "linecolor": "white",
           "ticks": "",
           "title": {
            "standoff": 15
           },
           "zerolinecolor": "white",
           "zerolinewidth": 2
          }
         }
        },
        "title": {
         "text": "Cancellations Based on Lead Time"
        },
        "xaxis": {
         "anchor": "y",
         "domain": [
          0,
          1
         ],
         "title": {
          "text": "lead_time"
         }
        },
        "yaxis": {
         "anchor": "x",
         "domain": [
          0,
          1
         ],
         "title": {
          "text": "count"
         }
        }
       }
      }
     },
     "metadata": {},
     "output_type": "display_data"
    }
   ],
   "source": [
    "fig = px.histogram(df[df['booking_status'] == 'Canceled'], \n",
    "                   x='lead_time', \n",
    "                   nbins=50, \n",
    "                   title='Cancellations Based on Lead Time')\n",
    "\n",
    "fig.update_layout(bargap=0.1)\n",
    "fig.show()"
   ]
  },
  {
   "cell_type": "code",
   "execution_count": 14,
   "metadata": {},
   "outputs": [
    {
     "data": {
      "application/vnd.plotly.v1+json": {
       "config": {
        "plotlyServerURL": "https://plot.ly"
       },
       "data": [
        {
         "hovertemplate": "booking_status=Canceled<br>arrival_year=2017<br>Month=%{x}<br>Number of Bookings=%{y}<extra></extra>",
         "legendgroup": "Canceled",
         "marker": {
          "color": "#636efa",
          "pattern": {
           "shape": ""
          }
         },
         "name": "Canceled",
         "orientation": "v",
         "showlegend": true,
         "textposition": "auto",
         "type": "bar",
         "x": {
          "bdata": "BwgJCgsM",
          "dtype": "i1"
         },
         "xaxis": "x",
         "y": {
          "bdata": "8wC5ALYALgEbABYA",
          "dtype": "i2"
         },
         "yaxis": "y"
        },
        {
         "hovertemplate": "booking_status=Canceled<br>arrival_year=2018<br>Month=%{x}<br>Number of Bookings=%{y}<extra></extra>",
         "legendgroup": "Canceled",
         "marker": {
          "color": "#636efa",
          "pattern": {
           "shape": ""
          }
         },
         "name": "Canceled",
         "orientation": "v",
         "showlegend": false,
         "textposition": "auto",
         "type": "bar",
         "x": {
          "bdata": "AQIDBAUGBwgJCgsM",
          "dtype": "i1"
         },
         "xaxis": "x2",
         "y": {
          "bdata": "GACuAbwC4wO0AwsFLwQXBUwFKgZQA3wB",
          "dtype": "i2"
         },
         "yaxis": "y2"
        },
        {
         "hovertemplate": "booking_status=Not_Canceled<br>arrival_year=2017<br>Month=%{x}<br>Number of Bookings=%{y}<extra></extra>",
         "legendgroup": "Not_Canceled",
         "marker": {
          "color": "#EF553B",
          "pattern": {
           "shape": ""
          }
         },
         "name": "Not_Canceled",
         "orientation": "v",
         "showlegend": true,
         "textposition": "auto",
         "type": "bar",
         "x": {
          "bdata": "BwgJCgsM",
          "dtype": "i1"
         },
         "xaxis": "x",
         "y": {
          "bdata": "eAA9A7sFSwZsAooD",
          "dtype": "i2"
         },
         "yaxis": "y"
        },
        {
         "hovertemplate": "booking_status=Not_Canceled<br>arrival_year=2018<br>Month=%{x}<br>Number of Bookings=%{y}<extra></extra>",
         "legendgroup": "Not_Canceled",
         "marker": {
          "color": "#EF553B",
          "pattern": {
           "shape": ""
          }
         },
         "name": "Not_Canceled",
         "orientation": "v",
         "showlegend": false,
         "textposition": "auto",
         "type": "bar",
         "x": {
          "bdata": "AQIDBAUGBwgJCgsM",
          "dtype": "i1"
         },
         "xaxis": "x2",
         "y": {
          "bdata": "3gP6BHoGzQZyBngHzgXYBUYGIgfNBbEG",
          "dtype": "i2"
         },
         "yaxis": "y2"
        }
       ],
       "layout": {
        "annotations": [
         {
          "font": {},
          "showarrow": false,
          "text": "arrival_year=2017",
          "x": 0.245,
          "xanchor": "center",
          "xref": "paper",
          "y": 1,
          "yanchor": "bottom",
          "yref": "paper"
         },
         {
          "font": {},
          "showarrow": false,
          "text": "arrival_year=2018",
          "x": 0.755,
          "xanchor": "center",
          "xref": "paper",
          "y": 1,
          "yanchor": "bottom",
          "yref": "paper"
         }
        ],
        "barmode": "stack",
        "height": 500,
        "legend": {
         "title": {
          "text": "booking_status"
         },
         "tracegroupgap": 0
        },
        "template": {
         "data": {
          "bar": [
           {
            "error_x": {
             "color": "#2a3f5f"
            },
            "error_y": {
             "color": "#2a3f5f"
            },
            "marker": {
             "line": {
              "color": "#E5ECF6",
              "width": 0.5
             },
             "pattern": {
              "fillmode": "overlay",
              "size": 10,
              "solidity": 0.2
             }
            },
            "type": "bar"
           }
          ],
          "barpolar": [
           {
            "marker": {
             "line": {
              "color": "#E5ECF6",
              "width": 0.5
             },
             "pattern": {
              "fillmode": "overlay",
              "size": 10,
              "solidity": 0.2
             }
            },
            "type": "barpolar"
           }
          ],
          "carpet": [
           {
            "aaxis": {
             "endlinecolor": "#2a3f5f",
             "gridcolor": "white",
             "linecolor": "white",
             "minorgridcolor": "white",
             "startlinecolor": "#2a3f5f"
            },
            "baxis": {
             "endlinecolor": "#2a3f5f",
             "gridcolor": "white",
             "linecolor": "white",
             "minorgridcolor": "white",
             "startlinecolor": "#2a3f5f"
            },
            "type": "carpet"
           }
          ],
          "choropleth": [
           {
            "colorbar": {
             "outlinewidth": 0,
             "ticks": ""
            },
            "type": "choropleth"
           }
          ],
          "contour": [
           {
            "colorbar": {
             "outlinewidth": 0,
             "ticks": ""
            },
            "colorscale": [
             [
              0,
              "#0d0887"
             ],
             [
              0.1111111111111111,
              "#46039f"
             ],
             [
              0.2222222222222222,
              "#7201a8"
             ],
             [
              0.3333333333333333,
              "#9c179e"
             ],
             [
              0.4444444444444444,
              "#bd3786"
             ],
             [
              0.5555555555555556,
              "#d8576b"
             ],
             [
              0.6666666666666666,
              "#ed7953"
             ],
             [
              0.7777777777777778,
              "#fb9f3a"
             ],
             [
              0.8888888888888888,
              "#fdca26"
             ],
             [
              1,
              "#f0f921"
             ]
            ],
            "type": "contour"
           }
          ],
          "contourcarpet": [
           {
            "colorbar": {
             "outlinewidth": 0,
             "ticks": ""
            },
            "type": "contourcarpet"
           }
          ],
          "heatmap": [
           {
            "colorbar": {
             "outlinewidth": 0,
             "ticks": ""
            },
            "colorscale": [
             [
              0,
              "#0d0887"
             ],
             [
              0.1111111111111111,
              "#46039f"
             ],
             [
              0.2222222222222222,
              "#7201a8"
             ],
             [
              0.3333333333333333,
              "#9c179e"
             ],
             [
              0.4444444444444444,
              "#bd3786"
             ],
             [
              0.5555555555555556,
              "#d8576b"
             ],
             [
              0.6666666666666666,
              "#ed7953"
             ],
             [
              0.7777777777777778,
              "#fb9f3a"
             ],
             [
              0.8888888888888888,
              "#fdca26"
             ],
             [
              1,
              "#f0f921"
             ]
            ],
            "type": "heatmap"
           }
          ],
          "histogram": [
           {
            "marker": {
             "pattern": {
              "fillmode": "overlay",
              "size": 10,
              "solidity": 0.2
             }
            },
            "type": "histogram"
           }
          ],
          "histogram2d": [
           {
            "colorbar": {
             "outlinewidth": 0,
             "ticks": ""
            },
            "colorscale": [
             [
              0,
              "#0d0887"
             ],
             [
              0.1111111111111111,
              "#46039f"
             ],
             [
              0.2222222222222222,
              "#7201a8"
             ],
             [
              0.3333333333333333,
              "#9c179e"
             ],
             [
              0.4444444444444444,
              "#bd3786"
             ],
             [
              0.5555555555555556,
              "#d8576b"
             ],
             [
              0.6666666666666666,
              "#ed7953"
             ],
             [
              0.7777777777777778,
              "#fb9f3a"
             ],
             [
              0.8888888888888888,
              "#fdca26"
             ],
             [
              1,
              "#f0f921"
             ]
            ],
            "type": "histogram2d"
           }
          ],
          "histogram2dcontour": [
           {
            "colorbar": {
             "outlinewidth": 0,
             "ticks": ""
            },
            "colorscale": [
             [
              0,
              "#0d0887"
             ],
             [
              0.1111111111111111,
              "#46039f"
             ],
             [
              0.2222222222222222,
              "#7201a8"
             ],
             [
              0.3333333333333333,
              "#9c179e"
             ],
             [
              0.4444444444444444,
              "#bd3786"
             ],
             [
              0.5555555555555556,
              "#d8576b"
             ],
             [
              0.6666666666666666,
              "#ed7953"
             ],
             [
              0.7777777777777778,
              "#fb9f3a"
             ],
             [
              0.8888888888888888,
              "#fdca26"
             ],
             [
              1,
              "#f0f921"
             ]
            ],
            "type": "histogram2dcontour"
           }
          ],
          "mesh3d": [
           {
            "colorbar": {
             "outlinewidth": 0,
             "ticks": ""
            },
            "type": "mesh3d"
           }
          ],
          "parcoords": [
           {
            "line": {
             "colorbar": {
              "outlinewidth": 0,
              "ticks": ""
             }
            },
            "type": "parcoords"
           }
          ],
          "pie": [
           {
            "automargin": true,
            "type": "pie"
           }
          ],
          "scatter": [
           {
            "fillpattern": {
             "fillmode": "overlay",
             "size": 10,
             "solidity": 0.2
            },
            "type": "scatter"
           }
          ],
          "scatter3d": [
           {
            "line": {
             "colorbar": {
              "outlinewidth": 0,
              "ticks": ""
             }
            },
            "marker": {
             "colorbar": {
              "outlinewidth": 0,
              "ticks": ""
             }
            },
            "type": "scatter3d"
           }
          ],
          "scattercarpet": [
           {
            "marker": {
             "colorbar": {
              "outlinewidth": 0,
              "ticks": ""
             }
            },
            "type": "scattercarpet"
           }
          ],
          "scattergeo": [
           {
            "marker": {
             "colorbar": {
              "outlinewidth": 0,
              "ticks": ""
             }
            },
            "type": "scattergeo"
           }
          ],
          "scattergl": [
           {
            "marker": {
             "colorbar": {
              "outlinewidth": 0,
              "ticks": ""
             }
            },
            "type": "scattergl"
           }
          ],
          "scattermap": [
           {
            "marker": {
             "colorbar": {
              "outlinewidth": 0,
              "ticks": ""
             }
            },
            "type": "scattermap"
           }
          ],
          "scattermapbox": [
           {
            "marker": {
             "colorbar": {
              "outlinewidth": 0,
              "ticks": ""
             }
            },
            "type": "scattermapbox"
           }
          ],
          "scatterpolar": [
           {
            "marker": {
             "colorbar": {
              "outlinewidth": 0,
              "ticks": ""
             }
            },
            "type": "scatterpolar"
           }
          ],
          "scatterpolargl": [
           {
            "marker": {
             "colorbar": {
              "outlinewidth": 0,
              "ticks": ""
             }
            },
            "type": "scatterpolargl"
           }
          ],
          "scatterternary": [
           {
            "marker": {
             "colorbar": {
              "outlinewidth": 0,
              "ticks": ""
             }
            },
            "type": "scatterternary"
           }
          ],
          "surface": [
           {
            "colorbar": {
             "outlinewidth": 0,
             "ticks": ""
            },
            "colorscale": [
             [
              0,
              "#0d0887"
             ],
             [
              0.1111111111111111,
              "#46039f"
             ],
             [
              0.2222222222222222,
              "#7201a8"
             ],
             [
              0.3333333333333333,
              "#9c179e"
             ],
             [
              0.4444444444444444,
              "#bd3786"
             ],
             [
              0.5555555555555556,
              "#d8576b"
             ],
             [
              0.6666666666666666,
              "#ed7953"
             ],
             [
              0.7777777777777778,
              "#fb9f3a"
             ],
             [
              0.8888888888888888,
              "#fdca26"
             ],
             [
              1,
              "#f0f921"
             ]
            ],
            "type": "surface"
           }
          ],
          "table": [
           {
            "cells": {
             "fill": {
              "color": "#EBF0F8"
             },
             "line": {
              "color": "white"
             }
            },
            "header": {
             "fill": {
              "color": "#C8D4E3"
             },
             "line": {
              "color": "white"
             }
            },
            "type": "table"
           }
          ]
         },
         "layout": {
          "annotationdefaults": {
           "arrowcolor": "#2a3f5f",
           "arrowhead": 0,
           "arrowwidth": 1
          },
          "autotypenumbers": "strict",
          "coloraxis": {
           "colorbar": {
            "outlinewidth": 0,
            "ticks": ""
           }
          },
          "colorscale": {
           "diverging": [
            [
             0,
             "#8e0152"
            ],
            [
             0.1,
             "#c51b7d"
            ],
            [
             0.2,
             "#de77ae"
            ],
            [
             0.3,
             "#f1b6da"
            ],
            [
             0.4,
             "#fde0ef"
            ],
            [
             0.5,
             "#f7f7f7"
            ],
            [
             0.6,
             "#e6f5d0"
            ],
            [
             0.7,
             "#b8e186"
            ],
            [
             0.8,
             "#7fbc41"
            ],
            [
             0.9,
             "#4d9221"
            ],
            [
             1,
             "#276419"
            ]
           ],
           "sequential": [
            [
             0,
             "#0d0887"
            ],
            [
             0.1111111111111111,
             "#46039f"
            ],
            [
             0.2222222222222222,
             "#7201a8"
            ],
            [
             0.3333333333333333,
             "#9c179e"
            ],
            [
             0.4444444444444444,
             "#bd3786"
            ],
            [
             0.5555555555555556,
             "#d8576b"
            ],
            [
             0.6666666666666666,
             "#ed7953"
            ],
            [
             0.7777777777777778,
             "#fb9f3a"
            ],
            [
             0.8888888888888888,
             "#fdca26"
            ],
            [
             1,
             "#f0f921"
            ]
           ],
           "sequentialminus": [
            [
             0,
             "#0d0887"
            ],
            [
             0.1111111111111111,
             "#46039f"
            ],
            [
             0.2222222222222222,
             "#7201a8"
            ],
            [
             0.3333333333333333,
             "#9c179e"
            ],
            [
             0.4444444444444444,
             "#bd3786"
            ],
            [
             0.5555555555555556,
             "#d8576b"
            ],
            [
             0.6666666666666666,
             "#ed7953"
            ],
            [
             0.7777777777777778,
             "#fb9f3a"
            ],
            [
             0.8888888888888888,
             "#fdca26"
            ],
            [
             1,
             "#f0f921"
            ]
           ]
          },
          "colorway": [
           "#636efa",
           "#EF553B",
           "#00cc96",
           "#ab63fa",
           "#FFA15A",
           "#19d3f3",
           "#FF6692",
           "#B6E880",
           "#FF97FF",
           "#FECB52"
          ],
          "font": {
           "color": "#2a3f5f"
          },
          "geo": {
           "bgcolor": "white",
           "lakecolor": "white",
           "landcolor": "#E5ECF6",
           "showlakes": true,
           "showland": true,
           "subunitcolor": "white"
          },
          "hoverlabel": {
           "align": "left"
          },
          "hovermode": "closest",
          "mapbox": {
           "style": "light"
          },
          "paper_bgcolor": "white",
          "plot_bgcolor": "#E5ECF6",
          "polar": {
           "angularaxis": {
            "gridcolor": "white",
            "linecolor": "white",
            "ticks": ""
           },
           "bgcolor": "#E5ECF6",
           "radialaxis": {
            "gridcolor": "white",
            "linecolor": "white",
            "ticks": ""
           }
          },
          "scene": {
           "xaxis": {
            "backgroundcolor": "#E5ECF6",
            "gridcolor": "white",
            "gridwidth": 2,
            "linecolor": "white",
            "showbackground": true,
            "ticks": "",
            "zerolinecolor": "white"
           },
           "yaxis": {
            "backgroundcolor": "#E5ECF6",
            "gridcolor": "white",
            "gridwidth": 2,
            "linecolor": "white",
            "showbackground": true,
            "ticks": "",
            "zerolinecolor": "white"
           },
           "zaxis": {
            "backgroundcolor": "#E5ECF6",
            "gridcolor": "white",
            "gridwidth": 2,
            "linecolor": "white",
            "showbackground": true,
            "ticks": "",
            "zerolinecolor": "white"
           }
          },
          "shapedefaults": {
           "line": {
            "color": "#2a3f5f"
           }
          },
          "ternary": {
           "aaxis": {
            "gridcolor": "white",
            "linecolor": "white",
            "ticks": ""
           },
           "baxis": {
            "gridcolor": "white",
            "linecolor": "white",
            "ticks": ""
           },
           "bgcolor": "#E5ECF6",
           "caxis": {
            "gridcolor": "white",
            "linecolor": "white",
            "ticks": ""
           }
          },
          "title": {
           "x": 0.05
          },
          "xaxis": {
           "automargin": true,
           "gridcolor": "white",
           "linecolor": "white",
           "ticks": "",
           "title": {
            "standoff": 15
           },
           "zerolinecolor": "white",
           "zerolinewidth": 2
          },
          "yaxis": {
           "automargin": true,
           "gridcolor": "white",
           "linecolor": "white",
           "ticks": "",
           "title": {
            "standoff": 15
           },
           "zerolinecolor": "white",
           "zerolinewidth": 2
          }
         }
        },
        "title": {
         "text": "Seasonal Cancellation Patterns"
        },
        "xaxis": {
         "anchor": "y",
         "categoryarray": [
          1,
          2,
          3,
          4,
          5,
          6,
          7,
          8,
          9,
          10,
          11,
          12
         ],
         "categoryorder": "array",
         "domain": [
          0,
          0.49
         ],
         "tickmode": "linear",
         "title": {
          "text": "Month"
         }
        },
        "xaxis2": {
         "anchor": "y2",
         "categoryarray": [
          1,
          2,
          3,
          4,
          5,
          6,
          7,
          8,
          9,
          10,
          11,
          12
         ],
         "categoryorder": "array",
         "domain": [
          0.51,
          1
         ],
         "matches": "x",
         "title": {
          "text": "Month"
         }
        },
        "yaxis": {
         "anchor": "x",
         "domain": [
          0,
          1
         ],
         "title": {
          "text": "Number of Bookings"
         }
        },
        "yaxis2": {
         "anchor": "x2",
         "domain": [
          0,
          1
         ],
         "matches": "y",
         "showticklabels": false
        }
       }
      }
     },
     "metadata": {},
     "output_type": "display_data"
    }
   ],
   "source": [
    "monthly_trends = df.groupby(['arrival_year', 'arrival_month', 'booking_status']).size().reset_index(name='count')\n",
    "\n",
    "fig = px.bar(monthly_trends, \n",
    "             x='arrival_month', \n",
    "             y='count', \n",
    "             color='booking_status',\n",
    "             facet_col='arrival_year',\n",
    "             title='Seasonal Cancellation Patterns',\n",
    "             labels={'count': 'Number of Bookings', 'arrival_month': 'Month'},\n",
    "             category_orders={'arrival_month': [1, 2, 3, 4, 5, 6, 7, 8, 9, 10, 11, 12]}\n",
    "             )\n",
    "\n",
    "fig.update_layout(barmode='stack', \n",
    "                  xaxis=dict(tickmode='linear'), \n",
    "                  height=500)\n",
    "\n",
    "fig.show()"
   ]
  },
  {
   "cell_type": "code",
   "execution_count": 15,
   "metadata": {},
   "outputs": [
    {
     "data": {
      "image/png": "[encoded data removed]",
      "text/plain": [
       "<Figure size 640x480 with 1 Axes>"
      ]
     },
     "metadata": {},
     "output_type": "display_data"
    }
   ],
   "source": [
    "repeat_guest_stats = df.groupby('repeated_guest')['booking_status'].value_counts(normalize=True).unstack() * 100\n",
    "\n",
    "repeat_guest_stats.plot(kind='bar', stacked=True, color=['#FF9999', '#66B3FF'])\n",
    "plt.title('Cancellation Rates for Repeated vs New Guests')\n",
    "plt.xlabel('Guest Type')\n",
    "plt.ylabel('Percentage')\n",
    "plt.legend(['Not Canceled', 'Canceled'])\n",
    "plt.show()"
   ]
  },
  {
   "cell_type": "code",
   "execution_count": 16,
   "metadata": {},
   "outputs": [
    {
     "name": "stderr",
     "output_type": "stream",
     "text": [
      "C:\\Users\\DYNABOOK\\AppData\\Local\\Temp\\ipykernel_13476\\3941636895.py:6: FutureWarning:\n",
      "\n",
      "\n",
      "\n",
      "Passing `palette` without assigning `hue` is deprecated and will be removed in v0.14.0. Assign the `x` variable to `hue` and set `legend=False` for the same effect.\n",
      "\n",
      "\n"
     ]
    },
    {
     "data": {
      "image/png": "[encoded data removed]",
      "text/plain": [
       "<Figure size 1300x500 with 1 Axes>"
      ]
     },
     "metadata": {},
     "output_type": "display_data"
    }
   ],
   "source": [
    "room_price_analysis = df.groupby('room_type_reserved').agg({\n",
    "    'booking_status': lambda x: (x == 'Canceled').mean() * 100\n",
    "}).reset_index()\n",
    "\n",
    "plt.figure(figsize=(13, 5))\n",
    "sns.barplot(data=room_price_analysis, x='room_type_reserved', y='booking_status', palette='viridis')\n",
    "plt.title('Cancellation Rate by Room Type')\n",
    "plt.ylabel('Cancellation Rate (%)')\n",
    "plt.show()"
   ]
  },
  {
   "cell_type": "code",
   "execution_count": 17,
   "metadata": {},
   "outputs": [
    {
     "data": {
      "application/vnd.plotly.v1+json": {
       "config": {
        "plotlyServerURL": "https://plot.ly"
       },
       "data": [
        {
         "coloraxis": "coloraxis",
         "hovertemplate": "x: %{x}<br>y: %{y}<br>Correlation: %{z}<extra></extra>",
         "name": "0",
         "texttemplate": "%{z}",
         "type": "heatmap",
         "x": [
          "no_of_adults",
          "no_of_children",
          "no_of_weekend_nights",
          "no_of_week_nights",
          "required_car_parking_space",
          "lead_time",
          "arrival_year",
          "arrival_month",
          "arrival_date",
          "repeated_guest",
          "no_of_previous_cancellations",
          "no_of_previous_bookings_not_canceled",
          "avg_price_per_room",
          "no_of_special_requests"
         ],
         "xaxis": "x",
         "y": [
          "no_of_adults",
          "no_of_children",
          "no_of_weekend_nights",
          "no_of_week_nights",
          "required_car_parking_space",
          "lead_time",
          "arrival_year",
          "arrival_month",
          "arrival_date",
          "repeated_guest",
          "no_of_previous_cancellations",
          "no_of_previous_bookings_not_canceled",
          "avg_price_per_room",
          "no_of_special_requests"
         ],
         "yaxis": "y",
         "z": {
          "bdata": "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",
          "dtype": "f8",
          "shape": "14, 14"
         }
        }
       ],
       "layout": {
        "coloraxis": {
         "colorbar": {
          "title": {
           "text": "Correlation"
          }
         },
         "colorscale": [
          [
           0,
           "rgb(5,48,97)"
          ],
          [
           0.1,
           "rgb(33,102,172)"
          ],
          [
           0.2,
           "rgb(67,147,195)"
          ],
          [
           0.3,
           "rgb(146,197,222)"
          ],
          [
           0.4,
           "rgb(209,229,240)"
          ],
          [
           0.5,
           "rgb(247,247,247)"
          ],
          [
           0.6,
           "rgb(253,219,199)"
          ],
          [
           0.7,
           "rgb(244,165,130)"
          ],
          [
           0.8,
           "rgb(214,96,77)"
          ],
          [
           0.9,
           "rgb(178,24,43)"
          ],
          [
           1,
           "rgb(103,0,31)"
          ]
         ]
        },
        "margin": {
         "t": 60
        },
        "template": {
         "data": {
          "bar": [
           {
            "error_x": {
             "color": "#2a3f5f"
            },
            "error_y": {
             "color": "#2a3f5f"
            },
            "marker": {
             "line": {
              "color": "#E5ECF6",
              "width": 0.5
             },
             "pattern": {
              "fillmode": "overlay",
              "size": 10,
              "solidity": 0.2
             }
            },
            "type": "bar"
           }
          ],
          "barpolar": [
           {
            "marker": {
             "line": {
              "color": "#E5ECF6",
              "width": 0.5
             },
             "pattern": {
              "fillmode": "overlay",
              "size": 10,
              "solidity": 0.2
             }
            },
            "type": "barpolar"
           }
          ],
          "carpet": [
           {
            "aaxis": {
             "endlinecolor": "#2a3f5f",
             "gridcolor": "white",
             "linecolor": "white",
             "minorgridcolor": "white",
             "startlinecolor": "#2a3f5f"
            },
            "baxis": {
             "endlinecolor": "#2a3f5f",
             "gridcolor": "white",
             "linecolor": "white",
             "minorgridcolor": "white",
             "startlinecolor": "#2a3f5f"
            },
            "type": "carpet"
           }
          ],
          "choropleth": [
           {
            "colorbar": {
             "outlinewidth": 0,
             "ticks": ""
            },
            "type": "choropleth"
           }
          ],
          "contour": [
           {
            "colorbar": {
             "outlinewidth": 0,
             "ticks": ""
            },
            "colorscale": [
             [
              0,
              "#0d0887"
             ],
             [
              0.1111111111111111,
              "#46039f"
             ],
             [
              0.2222222222222222,
              "#7201a8"
             ],
             [
              0.3333333333333333,
              "#9c179e"
             ],
             [
              0.4444444444444444,
              "#bd3786"
             ],
             [
              0.5555555555555556,
              "#d8576b"
             ],
             [
              0.6666666666666666,
              "#ed7953"
             ],
             [
              0.7777777777777778,
              "#fb9f3a"
             ],
             [
              0.8888888888888888,
              "#fdca26"
             ],
             [
              1,
              "#f0f921"
             ]
            ],
            "type": "contour"
           }
          ],
          "contourcarpet": [
           {
            "colorbar": {
             "outlinewidth": 0,
             "ticks": ""
            },
            "type": "contourcarpet"
           }
          ],
          "heatmap": [
           {
            "colorbar": {
             "outlinewidth": 0,
             "ticks": ""
            },
            "colorscale": [
             [
              0,
              "#0d0887"
             ],
             [
              0.1111111111111111,
              "#46039f"
             ],
             [
              0.2222222222222222,
              "#7201a8"
             ],
             [
              0.3333333333333333,
              "#9c179e"
             ],
             [
              0.4444444444444444,
              "#bd3786"
             ],
             [
              0.5555555555555556,
              "#d8576b"
             ],
             [
              0.6666666666666666,
              "#ed7953"
             ],
             [
              0.7777777777777778,
              "#fb9f3a"
             ],
             [
              0.8888888888888888,
              "#fdca26"
             ],
             [
              1,
              "#f0f921"
             ]
            ],
            "type": "heatmap"
           }
          ],
          "histogram": [
           {
            "marker": {
             "pattern": {
              "fillmode": "overlay",
              "size": 10,
              "solidity": 0.2
             }
            },
            "type": "histogram"
           }
          ],
          "histogram2d": [
           {
            "colorbar": {
             "outlinewidth": 0,
             "ticks": ""
            },
            "colorscale": [
             [
              0,
              "#0d0887"
             ],
             [
              0.1111111111111111,
              "#46039f"
             ],
             [
              0.2222222222222222,
              "#7201a8"
             ],
             [
              0.3333333333333333,
              "#9c179e"
             ],
             [
              0.4444444444444444,
              "#bd3786"
             ],
             [
              0.5555555555555556,
              "#d8576b"
             ],
             [
              0.6666666666666666,
              "#ed7953"
             ],
             [
              0.7777777777777778,
              "#fb9f3a"
             ],
             [
              0.8888888888888888,
              "#fdca26"
             ],
             [
              1,
              "#f0f921"
             ]
            ],
            "type": "histogram2d"
           }
          ],
          "histogram2dcontour": [
           {
            "colorbar": {
             "outlinewidth": 0,
             "ticks": ""
            },
            "colorscale": [
             [
              0,
              "#0d0887"
             ],
             [
              0.1111111111111111,
              "#46039f"
             ],
             [
              0.2222222222222222,
              "#7201a8"
             ],
             [
              0.3333333333333333,
              "#9c179e"
             ],
             [
              0.4444444444444444,
              "#bd3786"
             ],
             [
              0.5555555555555556,
              "#d8576b"
             ],
             [
              0.6666666666666666,
              "#ed7953"
             ],
             [
              0.7777777777777778,
              "#fb9f3a"
             ],
             [
              0.8888888888888888,
              "#fdca26"
             ],
             [
              1,
              "#f0f921"
             ]
            ],
            "type": "histogram2dcontour"
           }
          ],
          "mesh3d": [
           {
            "colorbar": {
             "outlinewidth": 0,
             "ticks": ""
            },
            "type": "mesh3d"
           }
          ],
          "parcoords": [
           {
            "line": {
             "colorbar": {
              "outlinewidth": 0,
              "ticks": ""
             }
            },
            "type": "parcoords"
           }
          ],
          "pie": [
           {
            "automargin": true,
            "type": "pie"
           }
          ],
          "scatter": [
           {
            "fillpattern": {
             "fillmode": "overlay",
             "size": 10,
             "solidity": 0.2
            },
            "type": "scatter"
           }
          ],
          "scatter3d": [
           {
            "line": {
             "colorbar": {
              "outlinewidth": 0,
              "ticks": ""
             }
            },
            "marker": {
             "colorbar": {
              "outlinewidth": 0,
              "ticks": ""
             }
            },
            "type": "scatter3d"
           }
          ],
          "scattercarpet": [
           {
            "marker": {
             "colorbar": {
              "outlinewidth": 0,
              "ticks": ""
             }
            },
            "type": "scattercarpet"
           }
          ],
          "scattergeo": [
           {
            "marker": {
             "colorbar": {
              "outlinewidth": 0,
              "ticks": ""
             }
            },
            "type": "scattergeo"
           }
          ],
          "scattergl": [
           {
            "marker": {
             "colorbar": {
              "outlinewidth": 0,
              "ticks": ""
             }
            },
            "type": "scattergl"
           }
          ],
          "scattermap": [
           {
            "marker": {
             "colorbar": {
              "outlinewidth": 0,
              "ticks": ""
             }
            },
            "type": "scattermap"
           }
          ],
          "scattermapbox": [
           {
            "marker": {
             "colorbar": {
              "outlinewidth": 0,
              "ticks": ""
             }
            },
            "type": "scattermapbox"
           }
          ],
          "scatterpolar": [
           {
            "marker": {
             "colorbar": {
              "outlinewidth": 0,
              "ticks": ""
             }
            },
            "type": "scatterpolar"
           }
          ],
          "scatterpolargl": [
           {
            "marker": {
             "colorbar": {
              "outlinewidth": 0,
              "ticks": ""
             }
            },
            "type": "scatterpolargl"
           }
          ],
          "scatterternary": [
           {
            "marker": {
             "colorbar": {
              "outlinewidth": 0,
              "ticks": ""
             }
            },
            "type": "scatterternary"
           }
          ],
          "surface": [
           {
            "colorbar": {
             "outlinewidth": 0,
             "ticks": ""
            },
            "colorscale": [
             [
              0,
              "#0d0887"
             ],
             [
              0.1111111111111111,
              "#46039f"
             ],
             [
              0.2222222222222222,
              "#7201a8"
             ],
             [
              0.3333333333333333,
              "#9c179e"
             ],
             [
              0.4444444444444444,
              "#bd3786"
             ],
             [
              0.5555555555555556,
              "#d8576b"
             ],
             [
              0.6666666666666666,
              "#ed7953"
             ],
             [
              0.7777777777777778,
              "#fb9f3a"
             ],
             [
              0.8888888888888888,
              "#fdca26"
             ],
             [
              1,
              "#f0f921"
             ]
            ],
            "type": "surface"
           }
          ],
          "table": [
           {
            "cells": {
             "fill": {
              "color": "#EBF0F8"
             },
             "line": {
              "color": "white"
             }
            },
            "header": {
             "fill": {
              "color": "#C8D4E3"
             },
             "line": {
              "color": "white"
             }
            },
            "type": "table"
           }
          ]
         },
         "layout": {
          "annotationdefaults": {
           "arrowcolor": "#2a3f5f",
           "arrowhead": 0,
           "arrowwidth": 1
          },
          "autotypenumbers": "strict",
          "coloraxis": {
           "colorbar": {
            "outlinewidth": 0,
            "ticks": ""
           }
          },
          "colorscale": {
           "diverging": [
            [
             0,
             "#8e0152"
            ],
            [
             0.1,
             "#c51b7d"
            ],
            [
             0.2,
             "#de77ae"
            ],
            [
             0.3,
             "#f1b6da"
            ],
            [
             0.4,
             "#fde0ef"
            ],
            [
             0.5,
             "#f7f7f7"
            ],
            [
             0.6,
             "#e6f5d0"
            ],
            [
             0.7,
             "#b8e186"
            ],
            [
             0.8,
             "#7fbc41"
            ],
            [
             0.9,
             "#4d9221"
            ],
            [
             1,
             "#276419"
            ]
           ],
           "sequential": [
            [
             0,
             "#0d0887"
            ],
            [
             0.1111111111111111,
             "#46039f"
            ],
            [
             0.2222222222222222,
             "#7201a8"
            ],
            [
             0.3333333333333333,
             "#9c179e"
            ],
            [
             0.4444444444444444,
             "#bd3786"
            ],
            [
             0.5555555555555556,
             "#d8576b"
            ],
            [
             0.6666666666666666,
             "#ed7953"
            ],
            [
             0.7777777777777778,
             "#fb9f3a"
            ],
            [
             0.8888888888888888,
             "#fdca26"
            ],
            [
             1,
             "#f0f921"
            ]
           ],
           "sequentialminus": [
            [
             0,
             "#0d0887"
            ],
            [
             0.1111111111111111,
             "#46039f"
            ],
            [
             0.2222222222222222,
             "#7201a8"
            ],
            [
             0.3333333333333333,
             "#9c179e"
            ],
            [
             0.4444444444444444,
             "#bd3786"
            ],
            [
             0.5555555555555556,
             "#d8576b"
            ],
            [
             0.6666666666666666,
             "#ed7953"
            ],
            [
             0.7777777777777778,
             "#fb9f3a"
            ],
            [
             0.8888888888888888,
             "#fdca26"
            ],
            [
             1,
             "#f0f921"
            ]
           ]
          },
          "colorway": [
           "#636efa",
           "#EF553B",
           "#00cc96",
           "#ab63fa",
           "#FFA15A",
           "#19d3f3",
           "#FF6692",
           "#B6E880",
           "#FF97FF",
           "#FECB52"
          ],
          "font": {
           "color": "#2a3f5f"
          },
          "geo": {
           "bgcolor": "white",
           "lakecolor": "white",
           "landcolor": "#E5ECF6",
           "showlakes": true,
           "showland": true,
           "subunitcolor": "white"
          },
          "hoverlabel": {
           "align": "left"
          },
          "hovermode": "closest",
          "mapbox": {
           "style": "light"
          },
          "paper_bgcolor": "white",
          "plot_bgcolor": "#E5ECF6",
          "polar": {
           "angularaxis": {
            "gridcolor": "white",
            "linecolor": "white",
            "ticks": ""
           },
           "bgcolor": "#E5ECF6",
           "radialaxis": {
            "gridcolor": "white",
            "linecolor": "white",
            "ticks": ""
           }
          },
          "scene": {
           "xaxis": {
            "backgroundcolor": "#E5ECF6",
            "gridcolor": "white",
            "gridwidth": 2,
            "linecolor": "white",
            "showbackground": true,
            "ticks": "",
            "zerolinecolor": "white"
           },
           "yaxis": {
            "backgroundcolor": "#E5ECF6",
            "gridcolor": "white",
            "gridwidth": 2,
            "linecolor": "white",
            "showbackground": true,
            "ticks": "",
            "zerolinecolor": "white"
           },
           "zaxis": {
            "backgroundcolor": "#E5ECF6",
            "gridcolor": "white",
            "gridwidth": 2,
            "linecolor": "white",
            "showbackground": true,
            "ticks": "",
            "zerolinecolor": "white"
           }
          },
          "shapedefaults": {
           "line": {
            "color": "#2a3f5f"
           }
          },
          "ternary": {
           "aaxis": {
            "gridcolor": "white",
            "linecolor": "white",
            "ticks": ""
           },
           "baxis": {
            "gridcolor": "white",
            "linecolor": "white",
            "ticks": ""
           },
           "bgcolor": "#E5ECF6",
           "caxis": {
            "gridcolor": "white",
            "linecolor": "white",
            "ticks": ""
           }
          },
          "title": {
           "x": 0.05
          },
          "xaxis": {
           "automargin": true,
           "gridcolor": "white",
           "linecolor": "white",
           "ticks": "",
           "title": {
            "standoff": 15
           },
           "zerolinecolor": "white",
           "zerolinewidth": 2
          },
          "yaxis": {
           "automargin": true,
           "gridcolor": "white",
           "linecolor": "white",
           "ticks": "",
           "title": {
            "standoff": 15
           },
           "zerolinecolor": "white",
           "zerolinewidth": 2
          }
         }
        },
        "title": {
         "text": "Correlation Heatmap"
        },
        "xaxis": {
         "anchor": "y",
         "constrain": "domain",
         "domain": [
          0,
          1
         ],
         "scaleanchor": "y",
         "title": {
          "text": "Features"
         }
        },
        "yaxis": {
         "anchor": "x",
         "autorange": "reversed",
         "constrain": "domain",
         "domain": [
          0,
          1
         ],
         "title": {
          "text": "Features"
         }
        }
       }
      }
     },
     "metadata": {},
     "output_type": "display_data"
    }
   ],
   "source": [
    "correlation_matrix = df.corr(numeric_only=True)\n",
    "\n",
    "fig = px.imshow(correlation_matrix,\n",
    "                 text_auto=True,         \n",
    "                 color_continuous_scale='RdBu_r',  \n",
    "                 labels=dict(color='Correlation')) \n",
    "\n",
    "fig.update_layout(\n",
    "    title='Correlation Heatmap',\n",
    "    xaxis_title='Features',\n",
    "    yaxis_title='Features',\n",
    ")\n",
    "\n",
    "fig.show()"
   ]
  },
  {
   "cell_type": "code",
   "execution_count": 18,
   "metadata": {},
   "outputs": [],
   "source": [
    "label_encoders = {}\n",
    "categorical_features =  [\"type_of_meal_plan\", \"room_type_reserved\", \"market_segment_type\", \"booking_status\"]\n",
    "for col in categorical_features:\n",
    "    le = LabelEncoder()\n",
    "    df[col] = le.fit_transform(df[col])\n",
    "    label_encoders[col] = le"
   ]
  },
  {
   "cell_type": "code",
   "execution_count": 19,
   "metadata": {},
   "outputs": [],
   "source": [
    "from sklearn.model_selection import train_test_split, cross_val_score\n",
    "X = df.drop('booking_status', axis=1)  \n",
    "y = df['booking_status']              \n",
    "\n",
    "X_train, X_test, y_train, y_test = train_test_split(X, y, test_size=0.2, random_state=42)"
   ]
  },
  {
   "cell_type": "code",
   "execution_count": 20,
   "metadata": {},
   "outputs": [],
   "source": [
    "from sklearn.feature_selection import SequentialFeatureSelector\n",
    "from sklearn.ensemble import RandomForestRegressor\n",
    "from sklearn.linear_model import LogisticRegression\n",
    "from sklearn.metrics import mean_squared_error, r2_score\n",
    "rf_reg = RandomForestRegressor(n_estimators=100, random_state=42)\n",
    "\n",
    "def forward_selection(X_train, y_train):\n",
    "    remaining_features = list(X_train.columns)\n",
    "    selected_features = []\n",
    "    best_score = 0  # Start with a baseline score\n",
    "\n",
    "    while remaining_features:\n",
    "        scores_with_candidates = []\n",
    "\n",
    "        # Try adding each remaining feature and evaluate its score\n",
    "        for feature in remaining_features:\n",
    "            X_train_temp = X_train[selected_features + [feature]]  # Add feature to selected set\n",
    "            model = LogisticRegression(max_iter=1000)  # Logistic Regression model\n",
    "            model.fit(X_train_temp, y_train)\n",
    "            score = model.score(X_train_temp, y_train)  # Evaluate the model's score\n",
    "            scores_with_candidates.append((score, feature))\n",
    "\n",
    "        # Sort scores by the model score (descending)\n",
    "        scores_with_candidates.sort(reverse=True, key=lambda x: x[0])\n",
    "\n",
    "        # Select the feature with the best score\n",
    "        best_score, best_feature = scores_with_candidates[0]  # Top feature after sorting\n",
    "\n",
    "        # Add the feature with the best score to the selected set\n",
    "        selected_features.append(best_feature)\n",
    "        remaining_features.remove(best_feature)  # Remove the feature from remaining ones\n",
    "\n",
    "    return selected_features"
   ]
  }
 ],
 "metadata": {
  "kernelspec": {
   "display_name": "Python 3",
   "language": "python",
   "name": "python3"
  },
  "language_info": {
   "codemirror_mode": {
    "name": "ipython",
    "version": 3
   },
   "file_extension": ".py",
   "mimetype": "text/x-python",
   "name": "python",
   "nbconvert_exporter": "python",
   "pygments_lexer": "ipython3",
   "version": "3.10.11"
  }
 },
 "nbformat": 4,
 "nbformat_minor": 2
}
