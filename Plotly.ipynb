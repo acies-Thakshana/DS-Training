{
 "cells": [
  {
   "cell_type": "code",
   "execution_count": 16,
   "metadata": {},
   "outputs": [
    {
     "data": {
      "text/html": [
       "<div>\n",
       "<style scoped>\n",
       "    .dataframe tbody tr th:only-of-type {\n",
       "        vertical-align: middle;\n",
       "    }\n",
       "\n",
       "    .dataframe tbody tr th {\n",
       "        vertical-align: top;\n",
       "    }\n",
       "\n",
       "    .dataframe thead th {\n",
       "        text-align: right;\n",
       "    }\n",
       "</style>\n",
       "<table border=\"1\" class=\"dataframe\">\n",
       "  <thead>\n",
       "    <tr style=\"text-align: right;\">\n",
       "      <th></th>\n",
       "      <th>Sales Person</th>\n",
       "      <th>Country</th>\n",
       "      <th>Product</th>\n",
       "      <th>Date</th>\n",
       "      <th>Amount</th>\n",
       "      <th>Boxes Shipped</th>\n",
       "    </tr>\n",
       "  </thead>\n",
       "  <tbody>\n",
       "    <tr>\n",
       "      <th>0</th>\n",
       "      <td>Jehu Rudeforth</td>\n",
       "      <td>UK</td>\n",
       "      <td>Mint Chip Choco</td>\n",
       "      <td>2022-01-04</td>\n",
       "      <td>5320</td>\n",
       "      <td>180</td>\n",
       "    </tr>\n",
       "    <tr>\n",
       "      <th>1</th>\n",
       "      <td>Van Tuxwell</td>\n",
       "      <td>India</td>\n",
       "      <td>85% Dark Bars</td>\n",
       "      <td>2022-08-01</td>\n",
       "      <td>7896</td>\n",
       "      <td>94</td>\n",
       "    </tr>\n",
       "    <tr>\n",
       "      <th>2</th>\n",
       "      <td>Gigi Bohling</td>\n",
       "      <td>India</td>\n",
       "      <td>Peanut Butter Cubes</td>\n",
       "      <td>2022-07-07</td>\n",
       "      <td>4501</td>\n",
       "      <td>91</td>\n",
       "    </tr>\n",
       "    <tr>\n",
       "      <th>3</th>\n",
       "      <td>Jan Morforth</td>\n",
       "      <td>Australia</td>\n",
       "      <td>Peanut Butter Cubes</td>\n",
       "      <td>2022-04-27</td>\n",
       "      <td>12726</td>\n",
       "      <td>342</td>\n",
       "    </tr>\n",
       "    <tr>\n",
       "      <th>4</th>\n",
       "      <td>Jehu Rudeforth</td>\n",
       "      <td>UK</td>\n",
       "      <td>Peanut Butter Cubes</td>\n",
       "      <td>2022-02-24</td>\n",
       "      <td>13685</td>\n",
       "      <td>184</td>\n",
       "    </tr>\n",
       "  </tbody>\n",
       "</table>\n",
       "</div>"
      ],
      "text/plain": [
       "     Sales Person    Country              Product       Date  Amount  \\\n",
       "0  Jehu Rudeforth         UK      Mint Chip Choco 2022-01-04    5320   \n",
       "1     Van Tuxwell      India        85% Dark Bars 2022-08-01    7896   \n",
       "2    Gigi Bohling      India  Peanut Butter Cubes 2022-07-07    4501   \n",
       "3    Jan Morforth  Australia  Peanut Butter Cubes 2022-04-27   12726   \n",
       "4  Jehu Rudeforth         UK  Peanut Butter Cubes 2022-02-24   13685   \n",
       "\n",
       "   Boxes Shipped  \n",
       "0            180  \n",
       "1             94  \n",
       "2             91  \n",
       "3            342  \n",
       "4            184  "
      ]
     },
     "execution_count": 16,
     "metadata": {},
     "output_type": "execute_result"
    }
   ],
   "source": [
    "import plotly.express as px\n",
    "import pandas as pd \n",
    "\n",
    "df = pd.read_excel(r\"D:\\DS\\Chocolate Sales.xlsx\")\n",
    "df.head()"
   ]
  },
  {
   "cell_type": "code",
   "execution_count": 19,
   "metadata": {},
   "outputs": [
    {
     "data": {
      "application/vnd.plotly.v1+json": {
       "config": {
        "plotlyServerURL": "https://plot.ly"
       },
       "data": [
        {
         "domain": {
          "x": [
           0,
           1
          ],
          "y": [
           0,
           1
          ]
         },
         "hovertemplate": "Country=%{label}<br>Amount=%{value}<extra></extra>",
         "labels": [
          "Australia",
          "Canada",
          "India",
          "New Zealand",
          "UK",
          "USA"
         ],
         "legendgroup": "",
         "name": "",
         "showlegend": true,
         "type": "pie",
         "values": [
          1137367,
          962899,
          1045800,
          950418,
          1051792,
          1035349
         ]
        }
       ],
       "layout": {
        "legend": {
         "tracegroupgap": 0
        },
        "template": {
         "data": {
          "bar": [
           {
            "error_x": {
             "color": "#2a3f5f"
            },
            "error_y": {
             "color": "#2a3f5f"
            },
            "marker": {
             "line": {
              "color": "#E5ECF6",
              "width": 0.5
             },
             "pattern": {
              "fillmode": "overlay",
              "size": 10,
              "solidity": 0.2
             }
            },
            "type": "bar"
           }
          ],
          "barpolar": [
           {
            "marker": {
             "line": {
              "color": "#E5ECF6",
              "width": 0.5
             },
             "pattern": {
              "fillmode": "overlay",
              "size": 10,
              "solidity": 0.2
             }
            },
            "type": "barpolar"
           }
          ],
          "carpet": [
           {
            "aaxis": {
             "endlinecolor": "#2a3f5f",
             "gridcolor": "white",
             "linecolor": "white",
             "minorgridcolor": "white",
             "startlinecolor": "#2a3f5f"
            },
            "baxis": {
             "endlinecolor": "#2a3f5f",
             "gridcolor": "white",
             "linecolor": "white",
             "minorgridcolor": "white",
             "startlinecolor": "#2a3f5f"
            },
            "type": "carpet"
           }
          ],
          "choropleth": [
           {
            "colorbar": {
             "outlinewidth": 0,
             "ticks": ""
            },
            "type": "choropleth"
           }
          ],
          "contour": [
           {
            "colorbar": {
             "outlinewidth": 0,
             "ticks": ""
            },
            "colorscale": [
             [
              0,
              "#0d0887"
             ],
             [
              0.1111111111111111,
              "#46039f"
             ],
             [
              0.2222222222222222,
              "#7201a8"
             ],
             [
              0.3333333333333333,
              "#9c179e"
             ],
             [
              0.4444444444444444,
              "#bd3786"
             ],
             [
              0.5555555555555556,
              "#d8576b"
             ],
             [
              0.6666666666666666,
              "#ed7953"
             ],
             [
              0.7777777777777778,
              "#fb9f3a"
             ],
             [
              0.8888888888888888,
              "#fdca26"
             ],
             [
              1,
              "#f0f921"
             ]
            ],
            "type": "contour"
           }
          ],
          "contourcarpet": [
           {
            "colorbar": {
             "outlinewidth": 0,
             "ticks": ""
            },
            "type": "contourcarpet"
           }
          ],
          "heatmap": [
           {
            "colorbar": {
             "outlinewidth": 0,
             "ticks": ""
            },
            "colorscale": [
             [
              0,
              "#0d0887"
             ],
             [
              0.1111111111111111,
              "#46039f"
             ],
             [
              0.2222222222222222,
              "#7201a8"
             ],
             [
              0.3333333333333333,
              "#9c179e"
             ],
             [
              0.4444444444444444,
              "#bd3786"
             ],
             [
              0.5555555555555556,
              "#d8576b"
             ],
             [
              0.6666666666666666,
              "#ed7953"
             ],
             [
              0.7777777777777778,
              "#fb9f3a"
             ],
             [
              0.8888888888888888,
              "#fdca26"
             ],
             [
              1,
              "#f0f921"
             ]
            ],
            "type": "heatmap"
           }
          ],
          "heatmapgl": [
           {
            "colorbar": {
             "outlinewidth": 0,
             "ticks": ""
            },
            "colorscale": [
             [
              0,
              "#0d0887"
             ],
             [
              0.1111111111111111,
              "#46039f"
             ],
             [
              0.2222222222222222,
              "#7201a8"
             ],
             [
              0.3333333333333333,
              "#9c179e"
             ],
             [
              0.4444444444444444,
              "#bd3786"
             ],
             [
              0.5555555555555556,
              "#d8576b"
             ],
             [
              0.6666666666666666,
              "#ed7953"
             ],
             [
              0.7777777777777778,
              "#fb9f3a"
             ],
             [
              0.8888888888888888,
              "#fdca26"
             ],
             [
              1,
              "#f0f921"
             ]
            ],
            "type": "heatmapgl"
           }
          ],
          "histogram": [
           {
            "marker": {
             "pattern": {
              "fillmode": "overlay",
              "size": 10,
              "solidity": 0.2
             }
            },
            "type": "histogram"
           }
          ],
          "histogram2d": [
           {
            "colorbar": {
             "outlinewidth": 0,
             "ticks": ""
            },
            "colorscale": [
             [
              0,
              "#0d0887"
             ],
             [
              0.1111111111111111,
              "#46039f"
             ],
             [
              0.2222222222222222,
              "#7201a8"
             ],
             [
              0.3333333333333333,
              "#9c179e"
             ],
             [
              0.4444444444444444,
              "#bd3786"
             ],
             [
              0.5555555555555556,
              "#d8576b"
             ],
             [
              0.6666666666666666,
              "#ed7953"
             ],
             [
              0.7777777777777778,
              "#fb9f3a"
             ],
             [
              0.8888888888888888,
              "#fdca26"
             ],
             [
              1,
              "#f0f921"
             ]
            ],
            "type": "histogram2d"
           }
          ],
          "histogram2dcontour": [
           {
            "colorbar": {
             "outlinewidth": 0,
             "ticks": ""
            },
            "colorscale": [
             [
              0,
              "#0d0887"
             ],
             [
              0.1111111111111111,
              "#46039f"
             ],
             [
              0.2222222222222222,
              "#7201a8"
             ],
             [
              0.3333333333333333,
              "#9c179e"
             ],
             [
              0.4444444444444444,
              "#bd3786"
             ],
             [
              0.5555555555555556,
              "#d8576b"
             ],
             [
              0.6666666666666666,
              "#ed7953"
             ],
             [
              0.7777777777777778,
              "#fb9f3a"
             ],
             [
              0.8888888888888888,
              "#fdca26"
             ],
             [
              1,
              "#f0f921"
             ]
            ],
            "type": "histogram2dcontour"
           }
          ],
          "mesh3d": [
           {
            "colorbar": {
             "outlinewidth": 0,
             "ticks": ""
            },
            "type": "mesh3d"
           }
          ],
          "parcoords": [
           {
            "line": {
             "colorbar": {
              "outlinewidth": 0,
              "ticks": ""
             }
            },
            "type": "parcoords"
           }
          ],
          "pie": [
           {
            "automargin": true,
            "type": "pie"
           }
          ],
          "scatter": [
           {
            "fillpattern": {
             "fillmode": "overlay",
             "size": 10,
             "solidity": 0.2
            },
            "type": "scatter"
           }
          ],
          "scatter3d": [
           {
            "line": {
             "colorbar": {
              "outlinewidth": 0,
              "ticks": ""
             }
            },
            "marker": {
             "colorbar": {
              "outlinewidth": 0,
              "ticks": ""
             }
            },
            "type": "scatter3d"
           }
          ],
          "scattercarpet": [
           {
            "marker": {
             "colorbar": {
              "outlinewidth": 0,
              "ticks": ""
             }
            },
            "type": "scattercarpet"
           }
          ],
          "scattergeo": [
           {
            "marker": {
             "colorbar": {
              "outlinewidth": 0,
              "ticks": ""
             }
            },
            "type": "scattergeo"
           }
          ],
          "scattergl": [
           {
            "marker": {
             "colorbar": {
              "outlinewidth": 0,
              "ticks": ""
             }
            },
            "type": "scattergl"
           }
          ],
          "scattermapbox": [
           {
            "marker": {
             "colorbar": {
              "outlinewidth": 0,
              "ticks": ""
             }
            },
            "type": "scattermapbox"
           }
          ],
          "scatterpolar": [
           {
            "marker": {
             "colorbar": {
              "outlinewidth": 0,
              "ticks": ""
             }
            },
            "type": "scatterpolar"
           }
          ],
          "scatterpolargl": [
           {
            "marker": {
             "colorbar": {
              "outlinewidth": 0,
              "ticks": ""
             }
            },
            "type": "scatterpolargl"
           }
          ],
          "scatterternary": [
           {
            "marker": {
             "colorbar": {
              "outlinewidth": 0,
              "ticks": ""
             }
            },
            "type": "scatterternary"
           }
          ],
          "surface": [
           {
            "colorbar": {
             "outlinewidth": 0,
             "ticks": ""
            },
            "colorscale": [
             [
              0,
              "#0d0887"
             ],
             [
              0.1111111111111111,
              "#46039f"
             ],
             [
              0.2222222222222222,
              "#7201a8"
             ],
             [
              0.3333333333333333,
              "#9c179e"
             ],
             [
              0.4444444444444444,
              "#bd3786"
             ],
             [
              0.5555555555555556,
              "#d8576b"
             ],
             [
              0.6666666666666666,
              "#ed7953"
             ],
             [
              0.7777777777777778,
              "#fb9f3a"
             ],
             [
              0.8888888888888888,
              "#fdca26"
             ],
             [
              1,
              "#f0f921"
             ]
            ],
            "type": "surface"
           }
          ],
          "table": [
           {
            "cells": {
             "fill": {
              "color": "#EBF0F8"
             },
             "line": {
              "color": "white"
             }
            },
            "header": {
             "fill": {
              "color": "#C8D4E3"
             },
             "line": {
              "color": "white"
             }
            },
            "type": "table"
           }
          ]
         },
         "layout": {
          "annotationdefaults": {
           "arrowcolor": "#2a3f5f",
           "arrowhead": 0,
           "arrowwidth": 1
          },
          "autotypenumbers": "strict",
          "coloraxis": {
           "colorbar": {
            "outlinewidth": 0,
            "ticks": ""
           }
          },
          "colorscale": {
           "diverging": [
            [
             0,
             "#8e0152"
            ],
            [
             0.1,
             "#c51b7d"
            ],
            [
             0.2,
             "#de77ae"
            ],
            [
             0.3,
             "#f1b6da"
            ],
            [
             0.4,
             "#fde0ef"
            ],
            [
             0.5,
             "#f7f7f7"
            ],
            [
             0.6,
             "#e6f5d0"
            ],
            [
             0.7,
             "#b8e186"
            ],
            [
             0.8,
             "#7fbc41"
            ],
            [
             0.9,
             "#4d9221"
            ],
            [
             1,
             "#276419"
            ]
           ],
           "sequential": [
            [
             0,
             "#0d0887"
            ],
            [
             0.1111111111111111,
             "#46039f"
            ],
            [
             0.2222222222222222,
             "#7201a8"
            ],
            [
             0.3333333333333333,
             "#9c179e"
            ],
            [
             0.4444444444444444,
             "#bd3786"
            ],
            [
             0.5555555555555556,
             "#d8576b"
            ],
            [
             0.6666666666666666,
             "#ed7953"
            ],
            [
             0.7777777777777778,
             "#fb9f3a"
            ],
            [
             0.8888888888888888,
             "#fdca26"
            ],
            [
             1,
             "#f0f921"
            ]
           ],
           "sequentialminus": [
            [
             0,
             "#0d0887"
            ],
            [
             0.1111111111111111,
             "#46039f"
            ],
            [
             0.2222222222222222,
             "#7201a8"
            ],
            [
             0.3333333333333333,
             "#9c179e"
            ],
            [
             0.4444444444444444,
             "#bd3786"
            ],
            [
             0.5555555555555556,
             "#d8576b"
            ],
            [
             0.6666666666666666,
             "#ed7953"
            ],
            [
             0.7777777777777778,
             "#fb9f3a"
            ],
            [
             0.8888888888888888,
             "#fdca26"
            ],
            [
             1,
             "#f0f921"
            ]
           ]
          },
          "colorway": [
           "#636efa",
           "#EF553B",
           "#00cc96",
           "#ab63fa",
           "#FFA15A",
           "#19d3f3",
           "#FF6692",
           "#B6E880",
           "#FF97FF",
           "#FECB52"
          ],
          "font": {
           "color": "#2a3f5f"
          },
          "geo": {
           "bgcolor": "white",
           "lakecolor": "white",
           "landcolor": "#E5ECF6",
           "showlakes": true,
           "showland": true,
           "subunitcolor": "white"
          },
          "hoverlabel": {
           "align": "left"
          },
          "hovermode": "closest",
          "mapbox": {
           "style": "light"
          },
          "paper_bgcolor": "white",
          "plot_bgcolor": "#E5ECF6",
          "polar": {
           "angularaxis": {
            "gridcolor": "white",
            "linecolor": "white",
            "ticks": ""
           },
           "bgcolor": "#E5ECF6",
           "radialaxis": {
            "gridcolor": "white",
            "linecolor": "white",
            "ticks": ""
           }
          },
          "scene": {
           "xaxis": {
            "backgroundcolor": "#E5ECF6",
            "gridcolor": "white",
            "gridwidth": 2,
            "linecolor": "white",
            "showbackground": true,
            "ticks": "",
            "zerolinecolor": "white"
           },
           "yaxis": {
            "backgroundcolor": "#E5ECF6",
            "gridcolor": "white",
            "gridwidth": 2,
            "linecolor": "white",
            "showbackground": true,
            "ticks": "",
            "zerolinecolor": "white"
           },
           "zaxis": {
            "backgroundcolor": "#E5ECF6",
            "gridcolor": "white",
            "gridwidth": 2,
            "linecolor": "white",
            "showbackground": true,
            "ticks": "",
            "zerolinecolor": "white"
           }
          },
          "shapedefaults": {
           "line": {
            "color": "#2a3f5f"
           }
          },
          "ternary": {
           "aaxis": {
            "gridcolor": "white",
            "linecolor": "white",
            "ticks": ""
           },
           "baxis": {
            "gridcolor": "white",
            "linecolor": "white",
            "ticks": ""
           },
           "bgcolor": "#E5ECF6",
           "caxis": {
            "gridcolor": "white",
            "linecolor": "white",
            "ticks": ""
           }
          },
          "title": {
           "x": 0.05
          },
          "xaxis": {
           "automargin": true,
           "gridcolor": "white",
           "linecolor": "white",
           "ticks": "",
           "title": {
            "standoff": 15
           },
           "zerolinecolor": "white",
           "zerolinewidth": 2
          },
          "yaxis": {
           "automargin": true,
           "gridcolor": "white",
           "linecolor": "white",
           "ticks": "",
           "title": {
            "standoff": 15
           },
           "zerolinecolor": "white",
           "zerolinewidth": 2
          }
         }
        },
        "title": {
         "text": "Sales Distribution by Country"
        }
       }
      }
     },
     "metadata": {},
     "output_type": "display_data"
    }
   ],
   "source": [
    "country_sales = df.groupby(\"Country\")[\"Amount\"].sum().reset_index()\n",
    "country_sales.head()\n",
    "\n",
    "fig = px.pie(country_sales, values='Amount', names='Country', title=\"Sales Distribution by Country\")\n",
    "fig.show()"
   ]
  },
  {
   "cell_type": "code",
   "execution_count": 20,
   "metadata": {},
   "outputs": [
    {
     "data": {
      "application/vnd.plotly.v1+json": {
       "config": {
        "plotlyServerURL": "https://plot.ly"
       },
       "data": [
        {
         "domain": {
          "x": [
           0,
           1
          ],
          "y": [
           0,
           1
          ]
         },
         "hovertemplate": "Product=%{label}<br>Amount=%{value}<extra></extra>",
         "labels": [
          "50% Dark Bites",
          "70% Dark Bites",
          "85% Dark Bars",
          "99% Dark & Pure",
          "After Nines",
          "Almond Choco",
          "Baker's Choco Chips",
          "Caramel Stuffed Bars",
          "Choco Coated Almonds",
          "Drinking Coco",
          "Eclairs",
          "Fruit & Nut Bars",
          "Manuka Honey Choco",
          "Milk Bars",
          "Mint Chip Choco",
          "Orange Choco",
          "Organic Choco Syrup",
          "Peanut Butter Cubes",
          "Raspberry Choco",
          "Smooth Sliky Salty",
          "Spicy Special Slims",
          "White Choc"
         ],
         "legendgroup": "",
         "name": "",
         "showlegend": true,
         "type": "pie",
         "values": [
          341712,
          211610,
          299229,
          299796,
          261331,
          277536,
          249613,
          231588,
          241486,
          256655,
          312445,
          259147,
          275541,
          269248,
          283969,
          256144,
          294700,
          324842,
          264740,
          349692,
          293454,
          329147
         ]
        }
       ],
       "layout": {
        "legend": {
         "tracegroupgap": 0
        },
        "template": {
         "data": {
          "bar": [
           {
            "error_x": {
             "color": "#2a3f5f"
            },
            "error_y": {
             "color": "#2a3f5f"
            },
            "marker": {
             "line": {
              "color": "#E5ECF6",
              "width": 0.5
             },
             "pattern": {
              "fillmode": "overlay",
              "size": 10,
              "solidity": 0.2
             }
            },
            "type": "bar"
           }
          ],
          "barpolar": [
           {
            "marker": {
             "line": {
              "color": "#E5ECF6",
              "width": 0.5
             },
             "pattern": {
              "fillmode": "overlay",
              "size": 10,
              "solidity": 0.2
             }
            },
            "type": "barpolar"
           }
          ],
          "carpet": [
           {
            "aaxis": {
             "endlinecolor": "#2a3f5f",
             "gridcolor": "white",
             "linecolor": "white",
             "minorgridcolor": "white",
             "startlinecolor": "#2a3f5f"
            },
            "baxis": {
             "endlinecolor": "#2a3f5f",
             "gridcolor": "white",
             "linecolor": "white",
             "minorgridcolor": "white",
             "startlinecolor": "#2a3f5f"
            },
            "type": "carpet"
           }
          ],
          "choropleth": [
           {
            "colorbar": {
             "outlinewidth": 0,
             "ticks": ""
            },
            "type": "choropleth"
           }
          ],
          "contour": [
           {
            "colorbar": {
             "outlinewidth": 0,
             "ticks": ""
            },
            "colorscale": [
             [
              0,
              "#0d0887"
             ],
             [
              0.1111111111111111,
              "#46039f"
             ],
             [
              0.2222222222222222,
              "#7201a8"
             ],
             [
              0.3333333333333333,
              "#9c179e"
             ],
             [
              0.4444444444444444,
              "#bd3786"
             ],
             [
              0.5555555555555556,
              "#d8576b"
             ],
             [
              0.6666666666666666,
              "#ed7953"
             ],
             [
              0.7777777777777778,
              "#fb9f3a"
             ],
             [
              0.8888888888888888,
              "#fdca26"
             ],
             [
              1,
              "#f0f921"
             ]
            ],
            "type": "contour"
           }
          ],
          "contourcarpet": [
           {
            "colorbar": {
             "outlinewidth": 0,
             "ticks": ""
            },
            "type": "contourcarpet"
           }
          ],
          "heatmap": [
           {
            "colorbar": {
             "outlinewidth": 0,
             "ticks": ""
            },
            "colorscale": [
             [
              0,
              "#0d0887"
             ],
             [
              0.1111111111111111,
              "#46039f"
             ],
             [
              0.2222222222222222,
              "#7201a8"
             ],
             [
              0.3333333333333333,
              "#9c179e"
             ],
             [
              0.4444444444444444,
              "#bd3786"
             ],
             [
              0.5555555555555556,
              "#d8576b"
             ],
             [
              0.6666666666666666,
              "#ed7953"
             ],
             [
              0.7777777777777778,
              "#fb9f3a"
             ],
             [
              0.8888888888888888,
              "#fdca26"
             ],
             [
              1,
              "#f0f921"
             ]
            ],
            "type": "heatmap"
           }
          ],
          "heatmapgl": [
           {
            "colorbar": {
             "outlinewidth": 0,
             "ticks": ""
            },
            "colorscale": [
             [
              0,
              "#0d0887"
             ],
             [
              0.1111111111111111,
              "#46039f"
             ],
             [
              0.2222222222222222,
              "#7201a8"
             ],
             [
              0.3333333333333333,
              "#9c179e"
             ],
             [
              0.4444444444444444,
              "#bd3786"
             ],
             [
              0.5555555555555556,
              "#d8576b"
             ],
             [
              0.6666666666666666,
              "#ed7953"
             ],
             [
              0.7777777777777778,
              "#fb9f3a"
             ],
             [
              0.8888888888888888,
              "#fdca26"
             ],
             [
              1,
              "#f0f921"
             ]
            ],
            "type": "heatmapgl"
           }
          ],
          "histogram": [
           {
            "marker": {
             "pattern": {
              "fillmode": "overlay",
              "size": 10,
              "solidity": 0.2
             }
            },
            "type": "histogram"
           }
          ],
          "histogram2d": [
           {
            "colorbar": {
             "outlinewidth": 0,
             "ticks": ""
            },
            "colorscale": [
             [
              0,
              "#0d0887"
             ],
             [
              0.1111111111111111,
              "#46039f"
             ],
             [
              0.2222222222222222,
              "#7201a8"
             ],
             [
              0.3333333333333333,
              "#9c179e"
             ],
             [
              0.4444444444444444,
              "#bd3786"
             ],
             [
              0.5555555555555556,
              "#d8576b"
             ],
             [
              0.6666666666666666,
              "#ed7953"
             ],
             [
              0.7777777777777778,
              "#fb9f3a"
             ],
             [
              0.8888888888888888,
              "#fdca26"
             ],
             [
              1,
              "#f0f921"
             ]
            ],
            "type": "histogram2d"
           }
          ],
          "histogram2dcontour": [
           {
            "colorbar": {
             "outlinewidth": 0,
             "ticks": ""
            },
            "colorscale": [
             [
              0,
              "#0d0887"
             ],
             [
              0.1111111111111111,
              "#46039f"
             ],
             [
              0.2222222222222222,
              "#7201a8"
             ],
             [
              0.3333333333333333,
              "#9c179e"
             ],
             [
              0.4444444444444444,
              "#bd3786"
             ],
             [
              0.5555555555555556,
              "#d8576b"
             ],
             [
              0.6666666666666666,
              "#ed7953"
             ],
             [
              0.7777777777777778,
              "#fb9f3a"
             ],
             [
              0.8888888888888888,
              "#fdca26"
             ],
             [
              1,
              "#f0f921"
             ]
            ],
            "type": "histogram2dcontour"
           }
          ],
          "mesh3d": [
           {
            "colorbar": {
             "outlinewidth": 0,
             "ticks": ""
            },
            "type": "mesh3d"
           }
          ],
          "parcoords": [
           {
            "line": {
             "colorbar": {
              "outlinewidth": 0,
              "ticks": ""
             }
            },
            "type": "parcoords"
           }
          ],
          "pie": [
           {
            "automargin": true,
            "type": "pie"
           }
          ],
          "scatter": [
           {
            "fillpattern": {
             "fillmode": "overlay",
             "size": 10,
             "solidity": 0.2
            },
            "type": "scatter"
           }
          ],
          "scatter3d": [
           {
            "line": {
             "colorbar": {
              "outlinewidth": 0,
              "ticks": ""
             }
            },
            "marker": {
             "colorbar": {
              "outlinewidth": 0,
              "ticks": ""
             }
            },
            "type": "scatter3d"
           }
          ],
          "scattercarpet": [
           {
            "marker": {
             "colorbar": {
              "outlinewidth": 0,
              "ticks": ""
             }
            },
            "type": "scattercarpet"
           }
          ],
          "scattergeo": [
           {
            "marker": {
             "colorbar": {
              "outlinewidth": 0,
              "ticks": ""
             }
            },
            "type": "scattergeo"
           }
          ],
          "scattergl": [
           {
            "marker": {
             "colorbar": {
              "outlinewidth": 0,
              "ticks": ""
             }
            },
            "type": "scattergl"
           }
          ],
          "scattermapbox": [
           {
            "marker": {
             "colorbar": {
              "outlinewidth": 0,
              "ticks": ""
             }
            },
            "type": "scattermapbox"
           }
          ],
          "scatterpolar": [
           {
            "marker": {
             "colorbar": {
              "outlinewidth": 0,
              "ticks": ""
             }
            },
            "type": "scatterpolar"
           }
          ],
          "scatterpolargl": [
           {
            "marker": {
             "colorbar": {
              "outlinewidth": 0,
              "ticks": ""
             }
            },
            "type": "scatterpolargl"
           }
          ],
          "scatterternary": [
           {
            "marker": {
             "colorbar": {
              "outlinewidth": 0,
              "ticks": ""
             }
            },
            "type": "scatterternary"
           }
          ],
          "surface": [
           {
            "colorbar": {
             "outlinewidth": 0,
             "ticks": ""
            },
            "colorscale": [
             [
              0,
              "#0d0887"
             ],
             [
              0.1111111111111111,
              "#46039f"
             ],
             [
              0.2222222222222222,
              "#7201a8"
             ],
             [
              0.3333333333333333,
              "#9c179e"
             ],
             [
              0.4444444444444444,
              "#bd3786"
             ],
             [
              0.5555555555555556,
              "#d8576b"
             ],
             [
              0.6666666666666666,
              "#ed7953"
             ],
             [
              0.7777777777777778,
              "#fb9f3a"
             ],
             [
              0.8888888888888888,
              "#fdca26"
             ],
             [
              1,
              "#f0f921"
             ]
            ],
            "type": "surface"
           }
          ],
          "table": [
           {
            "cells": {
             "fill": {
              "color": "#EBF0F8"
             },
             "line": {
              "color": "white"
             }
            },
            "header": {
             "fill": {
              "color": "#C8D4E3"
             },
             "line": {
              "color": "white"
             }
            },
            "type": "table"
           }
          ]
         },
         "layout": {
          "annotationdefaults": {
           "arrowcolor": "#2a3f5f",
           "arrowhead": 0,
           "arrowwidth": 1
          },
          "autotypenumbers": "strict",
          "coloraxis": {
           "colorbar": {
            "outlinewidth": 0,
            "ticks": ""
           }
          },
          "colorscale": {
           "diverging": [
            [
             0,
             "#8e0152"
            ],
            [
             0.1,
             "#c51b7d"
            ],
            [
             0.2,
             "#de77ae"
            ],
            [
             0.3,
             "#f1b6da"
            ],
            [
             0.4,
             "#fde0ef"
            ],
            [
             0.5,
             "#f7f7f7"
            ],
            [
             0.6,
             "#e6f5d0"
            ],
            [
             0.7,
             "#b8e186"
            ],
            [
             0.8,
             "#7fbc41"
            ],
            [
             0.9,
             "#4d9221"
            ],
            [
             1,
             "#276419"
            ]
           ],
           "sequential": [
            [
             0,
             "#0d0887"
            ],
            [
             0.1111111111111111,
             "#46039f"
            ],
            [
             0.2222222222222222,
             "#7201a8"
            ],
            [
             0.3333333333333333,
             "#9c179e"
            ],
            [
             0.4444444444444444,
             "#bd3786"
            ],
            [
             0.5555555555555556,
             "#d8576b"
            ],
            [
             0.6666666666666666,
             "#ed7953"
            ],
            [
             0.7777777777777778,
             "#fb9f3a"
            ],
            [
             0.8888888888888888,
             "#fdca26"
            ],
            [
             1,
             "#f0f921"
            ]
           ],
           "sequentialminus": [
            [
             0,
             "#0d0887"
            ],
            [
             0.1111111111111111,
             "#46039f"
            ],
            [
             0.2222222222222222,
             "#7201a8"
            ],
            [
             0.3333333333333333,
             "#9c179e"
            ],
            [
             0.4444444444444444,
             "#bd3786"
            ],
            [
             0.5555555555555556,
             "#d8576b"
            ],
            [
             0.6666666666666666,
             "#ed7953"
            ],
            [
             0.7777777777777778,
             "#fb9f3a"
            ],
            [
             0.8888888888888888,
             "#fdca26"
            ],
            [
             1,
             "#f0f921"
            ]
           ]
          },
          "colorway": [
           "#636efa",
           "#EF553B",
           "#00cc96",
           "#ab63fa",
           "#FFA15A",
           "#19d3f3",
           "#FF6692",
           "#B6E880",
           "#FF97FF",
           "#FECB52"
          ],
          "font": {
           "color": "#2a3f5f"
          },
          "geo": {
           "bgcolor": "white",
           "lakecolor": "white",
           "landcolor": "#E5ECF6",
           "showlakes": true,
           "showland": true,
           "subunitcolor": "white"
          },
          "hoverlabel": {
           "align": "left"
          },
          "hovermode": "closest",
          "mapbox": {
           "style": "light"
          },
          "paper_bgcolor": "white",
          "plot_bgcolor": "#E5ECF6",
          "polar": {
           "angularaxis": {
            "gridcolor": "white",
            "linecolor": "white",
            "ticks": ""
           },
           "bgcolor": "#E5ECF6",
           "radialaxis": {
            "gridcolor": "white",
            "linecolor": "white",
            "ticks": ""
           }
          },
          "scene": {
           "xaxis": {
            "backgroundcolor": "#E5ECF6",
            "gridcolor": "white",
            "gridwidth": 2,
            "linecolor": "white",
            "showbackground": true,
            "ticks": "",
            "zerolinecolor": "white"
           },
           "yaxis": {
            "backgroundcolor": "#E5ECF6",
            "gridcolor": "white",
            "gridwidth": 2,
            "linecolor": "white",
            "showbackground": true,
            "ticks": "",
            "zerolinecolor": "white"
           },
           "zaxis": {
            "backgroundcolor": "#E5ECF6",
            "gridcolor": "white",
            "gridwidth": 2,
            "linecolor": "white",
            "showbackground": true,
            "ticks": "",
            "zerolinecolor": "white"
           }
          },
          "shapedefaults": {
           "line": {
            "color": "#2a3f5f"
           }
          },
          "ternary": {
           "aaxis": {
            "gridcolor": "white",
            "linecolor": "white",
            "ticks": ""
           },
           "baxis": {
            "gridcolor": "white",
            "linecolor": "white",
            "ticks": ""
           },
           "bgcolor": "#E5ECF6",
           "caxis": {
            "gridcolor": "white",
            "linecolor": "white",
            "ticks": ""
           }
          },
          "title": {
           "x": 0.05
          },
          "xaxis": {
           "automargin": true,
           "gridcolor": "white",
           "linecolor": "white",
           "ticks": "",
           "title": {
            "standoff": 15
           },
           "zerolinecolor": "white",
           "zerolinewidth": 2
          },
          "yaxis": {
           "automargin": true,
           "gridcolor": "white",
           "linecolor": "white",
           "ticks": "",
           "title": {
            "standoff": 15
           },
           "zerolinecolor": "white",
           "zerolinewidth": 2
          }
         }
        },
        "title": {
         "text": "Sales Distribution by Product"
        }
       }
      }
     },
     "metadata": {},
     "output_type": "display_data"
    }
   ],
   "source": [
    "product_sales = df.groupby(\"Product\")[\"Amount\"].sum().reset_index()\n",
    "fig1 = px.pie(product_sales, values=\"Amount\", names=\"Product\", title=\"Sales Distribution by Product\")\n",
    "fig1.show()"
   ]
  },
  {
   "cell_type": "code",
   "execution_count": 34,
   "metadata": {},
   "outputs": [
    {
     "data": {
      "text/html": [
       "<div>\n",
       "<style scoped>\n",
       "    .dataframe tbody tr th:only-of-type {\n",
       "        vertical-align: middle;\n",
       "    }\n",
       "\n",
       "    .dataframe tbody tr th {\n",
       "        vertical-align: top;\n",
       "    }\n",
       "\n",
       "    .dataframe thead th {\n",
       "        text-align: right;\n",
       "    }\n",
       "</style>\n",
       "<table border=\"1\" class=\"dataframe\">\n",
       "  <thead>\n",
       "    <tr style=\"text-align: right;\">\n",
       "      <th></th>\n",
       "      <th>Sales Person</th>\n",
       "      <th>Country</th>\n",
       "      <th>Product</th>\n",
       "      <th>Date</th>\n",
       "      <th>Amount</th>\n",
       "      <th>Boxes Shipped</th>\n",
       "      <th>Year</th>\n",
       "      <th>Day</th>\n",
       "      <th>Order Day</th>\n",
       "    </tr>\n",
       "  </thead>\n",
       "  <tbody>\n",
       "    <tr>\n",
       "      <th>0</th>\n",
       "      <td>Jehu Rudeforth</td>\n",
       "      <td>UK</td>\n",
       "      <td>Mint Chip Choco</td>\n",
       "      <td>2022-01-04</td>\n",
       "      <td>5320</td>\n",
       "      <td>180</td>\n",
       "      <td>2022</td>\n",
       "      <td>&lt;bound method PandasDelegate._add_delegate_acc...</td>\n",
       "      <td>Tuesday</td>\n",
       "    </tr>\n",
       "    <tr>\n",
       "      <th>1</th>\n",
       "      <td>Van Tuxwell</td>\n",
       "      <td>India</td>\n",
       "      <td>85% Dark Bars</td>\n",
       "      <td>2022-08-01</td>\n",
       "      <td>7896</td>\n",
       "      <td>94</td>\n",
       "      <td>2022</td>\n",
       "      <td>&lt;bound method PandasDelegate._add_delegate_acc...</td>\n",
       "      <td>Monday</td>\n",
       "    </tr>\n",
       "    <tr>\n",
       "      <th>2</th>\n",
       "      <td>Gigi Bohling</td>\n",
       "      <td>India</td>\n",
       "      <td>Peanut Butter Cubes</td>\n",
       "      <td>2022-07-07</td>\n",
       "      <td>4501</td>\n",
       "      <td>91</td>\n",
       "      <td>2022</td>\n",
       "      <td>&lt;bound method PandasDelegate._add_delegate_acc...</td>\n",
       "      <td>Thursday</td>\n",
       "    </tr>\n",
       "    <tr>\n",
       "      <th>3</th>\n",
       "      <td>Jan Morforth</td>\n",
       "      <td>Australia</td>\n",
       "      <td>Peanut Butter Cubes</td>\n",
       "      <td>2022-04-27</td>\n",
       "      <td>12726</td>\n",
       "      <td>342</td>\n",
       "      <td>2022</td>\n",
       "      <td>&lt;bound method PandasDelegate._add_delegate_acc...</td>\n",
       "      <td>Wednesday</td>\n",
       "    </tr>\n",
       "    <tr>\n",
       "      <th>4</th>\n",
       "      <td>Jehu Rudeforth</td>\n",
       "      <td>UK</td>\n",
       "      <td>Peanut Butter Cubes</td>\n",
       "      <td>2022-02-24</td>\n",
       "      <td>13685</td>\n",
       "      <td>184</td>\n",
       "      <td>2022</td>\n",
       "      <td>&lt;bound method PandasDelegate._add_delegate_acc...</td>\n",
       "      <td>Thursday</td>\n",
       "    </tr>\n",
       "  </tbody>\n",
       "</table>\n",
       "</div>"
      ],
      "text/plain": [
       "     Sales Person    Country              Product       Date  Amount  \\\n",
       "0  Jehu Rudeforth         UK      Mint Chip Choco 2022-01-04    5320   \n",
       "1     Van Tuxwell      India        85% Dark Bars 2022-08-01    7896   \n",
       "2    Gigi Bohling      India  Peanut Butter Cubes 2022-07-07    4501   \n",
       "3    Jan Morforth  Australia  Peanut Butter Cubes 2022-04-27   12726   \n",
       "4  Jehu Rudeforth         UK  Peanut Butter Cubes 2022-02-24   13685   \n",
       "\n",
       "   Boxes Shipped  Year                                                Day  \\\n",
       "0            180  2022  <bound method PandasDelegate._add_delegate_acc...   \n",
       "1             94  2022  <bound method PandasDelegate._add_delegate_acc...   \n",
       "2             91  2022  <bound method PandasDelegate._add_delegate_acc...   \n",
       "3            342  2022  <bound method PandasDelegate._add_delegate_acc...   \n",
       "4            184  2022  <bound method PandasDelegate._add_delegate_acc...   \n",
       "\n",
       "   Order Day  \n",
       "0    Tuesday  \n",
       "1     Monday  \n",
       "2   Thursday  \n",
       "3  Wednesday  \n",
       "4   Thursday  "
      ]
     },
     "execution_count": 34,
     "metadata": {},
     "output_type": "execute_result"
    }
   ],
   "source": [
    "df[\"Order Day\"] = df[\"Date\"].dt.day_name()\n",
    "\n",
    "df.head()"
   ]
  },
  {
   "cell_type": "code",
   "execution_count": 36,
   "metadata": {},
   "outputs": [
    {
     "data": {
      "application/vnd.plotly.v1+json": {
       "config": {
        "plotlyServerURL": "https://plot.ly"
       },
       "data": [
        {
         "alignmentgroup": "True",
         "hovertemplate": "Order Day=%{x}<br>Boxes Shipped=%{y}<extra></extra>",
         "legendgroup": "",
         "marker": {
          "color": "#636efa",
          "pattern": {
           "shape": ""
          }
         },
         "name": "",
         "offsetgroup": "",
         "orientation": "v",
         "showlegend": false,
         "textposition": "auto",
         "type": "bar",
         "x": [
          "Friday",
          "Monday",
          "Thursday",
          "Tuesday",
          "Wednesday"
         ],
         "xaxis": "x",
         "y": [
          32589,
          40987,
          32643,
          34068,
          36720
         ],
         "yaxis": "y"
        }
       ],
       "layout": {
        "barmode": "relative",
        "legend": {
         "tracegroupgap": 0
        },
        "margin": {
         "t": 60
        },
        "template": {
         "data": {
          "bar": [
           {
            "error_x": {
             "color": "#2a3f5f"
            },
            "error_y": {
             "color": "#2a3f5f"
            },
            "marker": {
             "line": {
              "color": "#E5ECF6",
              "width": 0.5
             },
             "pattern": {
              "fillmode": "overlay",
              "size": 10,
              "solidity": 0.2
             }
            },
            "type": "bar"
           }
          ],
          "barpolar": [
           {
            "marker": {
             "line": {
              "color": "#E5ECF6",
              "width": 0.5
             },
             "pattern": {
              "fillmode": "overlay",
              "size": 10,
              "solidity": 0.2
             }
            },
            "type": "barpolar"
           }
          ],
          "carpet": [
           {
            "aaxis": {
             "endlinecolor": "#2a3f5f",
             "gridcolor": "white",
             "linecolor": "white",
             "minorgridcolor": "white",
             "startlinecolor": "#2a3f5f"
            },
            "baxis": {
             "endlinecolor": "#2a3f5f",
             "gridcolor": "white",
             "linecolor": "white",
             "minorgridcolor": "white",
             "startlinecolor": "#2a3f5f"
            },
            "type": "carpet"
           }
          ],
          "choropleth": [
           {
            "colorbar": {
             "outlinewidth": 0,
             "ticks": ""
            },
            "type": "choropleth"
           }
          ],
          "contour": [
           {
            "colorbar": {
             "outlinewidth": 0,
             "ticks": ""
            },
            "colorscale": [
             [
              0,
              "#0d0887"
             ],
             [
              0.1111111111111111,
              "#46039f"
             ],
             [
              0.2222222222222222,
              "#7201a8"
             ],
             [
              0.3333333333333333,
              "#9c179e"
             ],
             [
              0.4444444444444444,
              "#bd3786"
             ],
             [
              0.5555555555555556,
              "#d8576b"
             ],
             [
              0.6666666666666666,
              "#ed7953"
             ],
             [
              0.7777777777777778,
              "#fb9f3a"
             ],
             [
              0.8888888888888888,
              "#fdca26"
             ],
             [
              1,
              "#f0f921"
             ]
            ],
            "type": "contour"
           }
          ],
          "contourcarpet": [
           {
            "colorbar": {
             "outlinewidth": 0,
             "ticks": ""
            },
            "type": "contourcarpet"
           }
          ],
          "heatmap": [
           {
            "colorbar": {
             "outlinewidth": 0,
             "ticks": ""
            },
            "colorscale": [
             [
              0,
              "#0d0887"
             ],
             [
              0.1111111111111111,
              "#46039f"
             ],
             [
              0.2222222222222222,
              "#7201a8"
             ],
             [
              0.3333333333333333,
              "#9c179e"
             ],
             [
              0.4444444444444444,
              "#bd3786"
             ],
             [
              0.5555555555555556,
              "#d8576b"
             ],
             [
              0.6666666666666666,
              "#ed7953"
             ],
             [
              0.7777777777777778,
              "#fb9f3a"
             ],
             [
              0.8888888888888888,
              "#fdca26"
             ],
             [
              1,
              "#f0f921"
             ]
            ],
            "type": "heatmap"
           }
          ],
          "heatmapgl": [
           {
            "colorbar": {
             "outlinewidth": 0,
             "ticks": ""
            },
            "colorscale": [
             [
              0,
              "#0d0887"
             ],
             [
              0.1111111111111111,
              "#46039f"
             ],
             [
              0.2222222222222222,
              "#7201a8"
             ],
             [
              0.3333333333333333,
              "#9c179e"
             ],
             [
              0.4444444444444444,
              "#bd3786"
             ],
             [
              0.5555555555555556,
              "#d8576b"
             ],
             [
              0.6666666666666666,
              "#ed7953"
             ],
             [
              0.7777777777777778,
              "#fb9f3a"
             ],
             [
              0.8888888888888888,
              "#fdca26"
             ],
             [
              1,
              "#f0f921"
             ]
            ],
            "type": "heatmapgl"
           }
          ],
          "histogram": [
           {
            "marker": {
             "pattern": {
              "fillmode": "overlay",
              "size": 10,
              "solidity": 0.2
             }
            },
            "type": "histogram"
           }
          ],
          "histogram2d": [
           {
            "colorbar": {
             "outlinewidth": 0,
             "ticks": ""
            },
            "colorscale": [
             [
              0,
              "#0d0887"
             ],
             [
              0.1111111111111111,
              "#46039f"
             ],
             [
              0.2222222222222222,
              "#7201a8"
             ],
             [
              0.3333333333333333,
              "#9c179e"
             ],
             [
              0.4444444444444444,
              "#bd3786"
             ],
             [
              0.5555555555555556,
              "#d8576b"
             ],
             [
              0.6666666666666666,
              "#ed7953"
             ],
             [
              0.7777777777777778,
              "#fb9f3a"
             ],
             [
              0.8888888888888888,
              "#fdca26"
             ],
             [
              1,
              "#f0f921"
             ]
            ],
            "type": "histogram2d"
           }
          ],
          "histogram2dcontour": [
           {
            "colorbar": {
             "outlinewidth": 0,
             "ticks": ""
            },
            "colorscale": [
             [
              0,
              "#0d0887"
             ],
             [
              0.1111111111111111,
              "#46039f"
             ],
             [
              0.2222222222222222,
              "#7201a8"
             ],
             [
              0.3333333333333333,
              "#9c179e"
             ],
             [
              0.4444444444444444,
              "#bd3786"
             ],
             [
              0.5555555555555556,
              "#d8576b"
             ],
             [
              0.6666666666666666,
              "#ed7953"
             ],
             [
              0.7777777777777778,
              "#fb9f3a"
             ],
             [
              0.8888888888888888,
              "#fdca26"
             ],
             [
              1,
              "#f0f921"
             ]
            ],
            "type": "histogram2dcontour"
           }
          ],
          "mesh3d": [
           {
            "colorbar": {
             "outlinewidth": 0,
             "ticks": ""
            },
            "type": "mesh3d"
           }
          ],
          "parcoords": [
           {
            "line": {
             "colorbar": {
              "outlinewidth": 0,
              "ticks": ""
             }
            },
            "type": "parcoords"
           }
          ],
          "pie": [
           {
            "automargin": true,
            "type": "pie"
           }
          ],
          "scatter": [
           {
            "fillpattern": {
             "fillmode": "overlay",
             "size": 10,
             "solidity": 0.2
            },
            "type": "scatter"
           }
          ],
          "scatter3d": [
           {
            "line": {
             "colorbar": {
              "outlinewidth": 0,
              "ticks": ""
             }
            },
            "marker": {
             "colorbar": {
              "outlinewidth": 0,
              "ticks": ""
             }
            },
            "type": "scatter3d"
           }
          ],
          "scattercarpet": [
           {
            "marker": {
             "colorbar": {
              "outlinewidth": 0,
              "ticks": ""
             }
            },
            "type": "scattercarpet"
           }
          ],
          "scattergeo": [
           {
            "marker": {
             "colorbar": {
              "outlinewidth": 0,
              "ticks": ""
             }
            },
            "type": "scattergeo"
           }
          ],
          "scattergl": [
           {
            "marker": {
             "colorbar": {
              "outlinewidth": 0,
              "ticks": ""
             }
            },
            "type": "scattergl"
           }
          ],
          "scattermapbox": [
           {
            "marker": {
             "colorbar": {
              "outlinewidth": 0,
              "ticks": ""
             }
            },
            "type": "scattermapbox"
           }
          ],
          "scatterpolar": [
           {
            "marker": {
             "colorbar": {
              "outlinewidth": 0,
              "ticks": ""
             }
            },
            "type": "scatterpolar"
           }
          ],
          "scatterpolargl": [
           {
            "marker": {
             "colorbar": {
              "outlinewidth": 0,
              "ticks": ""
             }
            },
            "type": "scatterpolargl"
           }
          ],
          "scatterternary": [
           {
            "marker": {
             "colorbar": {
              "outlinewidth": 0,
              "ticks": ""
             }
            },
            "type": "scatterternary"
           }
          ],
          "surface": [
           {
            "colorbar": {
             "outlinewidth": 0,
             "ticks": ""
            },
            "colorscale": [
             [
              0,
              "#0d0887"
             ],
             [
              0.1111111111111111,
              "#46039f"
             ],
             [
              0.2222222222222222,
              "#7201a8"
             ],
             [
              0.3333333333333333,
              "#9c179e"
             ],
             [
              0.4444444444444444,
              "#bd3786"
             ],
             [
              0.5555555555555556,
              "#d8576b"
             ],
             [
              0.6666666666666666,
              "#ed7953"
             ],
             [
              0.7777777777777778,
              "#fb9f3a"
             ],
             [
              0.8888888888888888,
              "#fdca26"
             ],
             [
              1,
              "#f0f921"
             ]
            ],
            "type": "surface"
           }
          ],
          "table": [
           {
            "cells": {
             "fill": {
              "color": "#EBF0F8"
             },
             "line": {
              "color": "white"
             }
            },
            "header": {
             "fill": {
              "color": "#C8D4E3"
             },
             "line": {
              "color": "white"
             }
            },
            "type": "table"
           }
          ]
         },
         "layout": {
          "annotationdefaults": {
           "arrowcolor": "#2a3f5f",
           "arrowhead": 0,
           "arrowwidth": 1
          },
          "autotypenumbers": "strict",
          "coloraxis": {
           "colorbar": {
            "outlinewidth": 0,
            "ticks": ""
           }
          },
          "colorscale": {
           "diverging": [
            [
             0,
             "#8e0152"
            ],
            [
             0.1,
             "#c51b7d"
            ],
            [
             0.2,
             "#de77ae"
            ],
            [
             0.3,
             "#f1b6da"
            ],
            [
             0.4,
             "#fde0ef"
            ],
            [
             0.5,
             "#f7f7f7"
            ],
            [
             0.6,
             "#e6f5d0"
            ],
            [
             0.7,
             "#b8e186"
            ],
            [
             0.8,
             "#7fbc41"
            ],
            [
             0.9,
             "#4d9221"
            ],
            [
             1,
             "#276419"
            ]
           ],
           "sequential": [
            [
             0,
             "#0d0887"
            ],
            [
             0.1111111111111111,
             "#46039f"
            ],
            [
             0.2222222222222222,
             "#7201a8"
            ],
            [
             0.3333333333333333,
             "#9c179e"
            ],
            [
             0.4444444444444444,
             "#bd3786"
            ],
            [
             0.5555555555555556,
             "#d8576b"
            ],
            [
             0.6666666666666666,
             "#ed7953"
            ],
            [
             0.7777777777777778,
             "#fb9f3a"
            ],
            [
             0.8888888888888888,
             "#fdca26"
            ],
            [
             1,
             "#f0f921"
            ]
           ],
           "sequentialminus": [
            [
             0,
             "#0d0887"
            ],
            [
             0.1111111111111111,
             "#46039f"
            ],
            [
             0.2222222222222222,
             "#7201a8"
            ],
            [
             0.3333333333333333,
             "#9c179e"
            ],
            [
             0.4444444444444444,
             "#bd3786"
            ],
            [
             0.5555555555555556,
             "#d8576b"
            ],
            [
             0.6666666666666666,
             "#ed7953"
            ],
            [
             0.7777777777777778,
             "#fb9f3a"
            ],
            [
             0.8888888888888888,
             "#fdca26"
            ],
            [
             1,
             "#f0f921"
            ]
           ]
          },
          "colorway": [
           "#636efa",
           "#EF553B",
           "#00cc96",
           "#ab63fa",
           "#FFA15A",
           "#19d3f3",
           "#FF6692",
           "#B6E880",
           "#FF97FF",
           "#FECB52"
          ],
          "font": {
           "color": "#2a3f5f"
          },
          "geo": {
           "bgcolor": "white",
           "lakecolor": "white",
           "landcolor": "#E5ECF6",
           "showlakes": true,
           "showland": true,
           "subunitcolor": "white"
          },
          "hoverlabel": {
           "align": "left"
          },
          "hovermode": "closest",
          "mapbox": {
           "style": "light"
          },
          "paper_bgcolor": "white",
          "plot_bgcolor": "#E5ECF6",
          "polar": {
           "angularaxis": {
            "gridcolor": "white",
            "linecolor": "white",
            "ticks": ""
           },
           "bgcolor": "#E5ECF6",
           "radialaxis": {
            "gridcolor": "white",
            "linecolor": "white",
            "ticks": ""
           }
          },
          "scene": {
           "xaxis": {
            "backgroundcolor": "#E5ECF6",
            "gridcolor": "white",
            "gridwidth": 2,
            "linecolor": "white",
            "showbackground": true,
            "ticks": "",
            "zerolinecolor": "white"
           },
           "yaxis": {
            "backgroundcolor": "#E5ECF6",
            "gridcolor": "white",
            "gridwidth": 2,
            "linecolor": "white",
            "showbackground": true,
            "ticks": "",
            "zerolinecolor": "white"
           },
           "zaxis": {
            "backgroundcolor": "#E5ECF6",
            "gridcolor": "white",
            "gridwidth": 2,
            "linecolor": "white",
            "showbackground": true,
            "ticks": "",
            "zerolinecolor": "white"
           }
          },
          "shapedefaults": {
           "line": {
            "color": "#2a3f5f"
           }
          },
          "ternary": {
           "aaxis": {
            "gridcolor": "white",
            "linecolor": "white",
            "ticks": ""
           },
           "baxis": {
            "gridcolor": "white",
            "linecolor": "white",
            "ticks": ""
           },
           "bgcolor": "#E5ECF6",
           "caxis": {
            "gridcolor": "white",
            "linecolor": "white",
            "ticks": ""
           }
          },
          "title": {
           "x": 0.05
          },
          "xaxis": {
           "automargin": true,
           "gridcolor": "white",
           "linecolor": "white",
           "ticks": "",
           "title": {
            "standoff": 15
           },
           "zerolinecolor": "white",
           "zerolinewidth": 2
          },
          "yaxis": {
           "automargin": true,
           "gridcolor": "white",
           "linecolor": "white",
           "ticks": "",
           "title": {
            "standoff": 15
           },
           "zerolinecolor": "white",
           "zerolinewidth": 2
          }
         }
        },
        "xaxis": {
         "anchor": "y",
         "domain": [
          0,
          1
         ],
         "title": {
          "text": "Order Day"
         }
        },
        "yaxis": {
         "anchor": "x",
         "domain": [
          0,
          1
         ],
         "title": {
          "text": "Boxes Shipped"
         }
        }
       }
      }
     },
     "metadata": {},
     "output_type": "display_data"
    }
   ],
   "source": [
    "box_shipped = df.groupby(\"Order Day\")[\"Boxes Shipped\"].sum().reset_index()\n",
    "box_shipped.head()\n",
    "\n",
    "fig2 = px.bar(box_shipped,x=\"Order Day\",y=\"Boxes Shipped\")\n",
    "fig2.show()"
   ]
  },
  {
   "cell_type": "code",
   "execution_count": 38,
   "metadata": {},
   "outputs": [
    {
     "data": {
      "application/vnd.plotly.v1+json": {
       "config": {
        "plotlyServerURL": "https://plot.ly"
       },
       "data": [
        {
         "alignmentgroup": "True",
         "hovertemplate": "Country=%{x}<br>Boxes Shipped=%{y}<extra></extra>",
         "legendgroup": "",
         "marker": {
          "color": "#636efa",
          "pattern": {
           "shape": ""
          }
         },
         "name": "",
         "offsetgroup": "",
         "orientation": "v",
         "showlegend": false,
         "textposition": "auto",
         "type": "bar",
         "x": [
          "Australia",
          "Canada",
          "India",
          "New Zealand",
          "UK",
          "USA"
         ],
         "xaxis": "x",
         "y": [
          32647,
          31221,
          29470,
          26580,
          30265,
          26824
         ],
         "yaxis": "y"
        }
       ],
       "layout": {
        "barmode": "relative",
        "legend": {
         "tracegroupgap": 0
        },
        "margin": {
         "t": 60
        },
        "template": {
         "data": {
          "bar": [
           {
            "error_x": {
             "color": "#2a3f5f"
            },
            "error_y": {
             "color": "#2a3f5f"
            },
            "marker": {
             "line": {
              "color": "#E5ECF6",
              "width": 0.5
             },
             "pattern": {
              "fillmode": "overlay",
              "size": 10,
              "solidity": 0.2
             }
            },
            "type": "bar"
           }
          ],
          "barpolar": [
           {
            "marker": {
             "line": {
              "color": "#E5ECF6",
              "width": 0.5
             },
             "pattern": {
              "fillmode": "overlay",
              "size": 10,
              "solidity": 0.2
             }
            },
            "type": "barpolar"
           }
          ],
          "carpet": [
           {
            "aaxis": {
             "endlinecolor": "#2a3f5f",
             "gridcolor": "white",
             "linecolor": "white",
             "minorgridcolor": "white",
             "startlinecolor": "#2a3f5f"
            },
            "baxis": {
             "endlinecolor": "#2a3f5f",
             "gridcolor": "white",
             "linecolor": "white",
             "minorgridcolor": "white",
             "startlinecolor": "#2a3f5f"
            },
            "type": "carpet"
           }
          ],
          "choropleth": [
           {
            "colorbar": {
             "outlinewidth": 0,
             "ticks": ""
            },
            "type": "choropleth"
           }
          ],
          "contour": [
           {
            "colorbar": {
             "outlinewidth": 0,
             "ticks": ""
            },
            "colorscale": [
             [
              0,
              "#0d0887"
             ],
             [
              0.1111111111111111,
              "#46039f"
             ],
             [
              0.2222222222222222,
              "#7201a8"
             ],
             [
              0.3333333333333333,
              "#9c179e"
             ],
             [
              0.4444444444444444,
              "#bd3786"
             ],
             [
              0.5555555555555556,
              "#d8576b"
             ],
             [
              0.6666666666666666,
              "#ed7953"
             ],
             [
              0.7777777777777778,
              "#fb9f3a"
             ],
             [
              0.8888888888888888,
              "#fdca26"
             ],
             [
              1,
              "#f0f921"
             ]
            ],
            "type": "contour"
           }
          ],
          "contourcarpet": [
           {
            "colorbar": {
             "outlinewidth": 0,
             "ticks": ""
            },
            "type": "contourcarpet"
           }
          ],
          "heatmap": [
           {
            "colorbar": {
             "outlinewidth": 0,
             "ticks": ""
            },
            "colorscale": [
             [
              0,
              "#0d0887"
             ],
             [
              0.1111111111111111,
              "#46039f"
             ],
             [
              0.2222222222222222,
              "#7201a8"
             ],
             [
              0.3333333333333333,
              "#9c179e"
             ],
             [
              0.4444444444444444,
              "#bd3786"
             ],
             [
              0.5555555555555556,
              "#d8576b"
             ],
             [
              0.6666666666666666,
              "#ed7953"
             ],
             [
              0.7777777777777778,
              "#fb9f3a"
             ],
             [
              0.8888888888888888,
              "#fdca26"
             ],
             [
              1,
              "#f0f921"
             ]
            ],
            "type": "heatmap"
           }
          ],
          "heatmapgl": [
           {
            "colorbar": {
             "outlinewidth": 0,
             "ticks": ""
            },
            "colorscale": [
             [
              0,
              "#0d0887"
             ],
             [
              0.1111111111111111,
              "#46039f"
             ],
             [
              0.2222222222222222,
              "#7201a8"
             ],
             [
              0.3333333333333333,
              "#9c179e"
             ],
             [
              0.4444444444444444,
              "#bd3786"
             ],
             [
              0.5555555555555556,
              "#d8576b"
             ],
             [
              0.6666666666666666,
              "#ed7953"
             ],
             [
              0.7777777777777778,
              "#fb9f3a"
             ],
             [
              0.8888888888888888,
              "#fdca26"
             ],
             [
              1,
              "#f0f921"
             ]
            ],
            "type": "heatmapgl"
           }
          ],
          "histogram": [
           {
            "marker": {
             "pattern": {
              "fillmode": "overlay",
              "size": 10,
              "solidity": 0.2
             }
            },
            "type": "histogram"
           }
          ],
          "histogram2d": [
           {
            "colorbar": {
             "outlinewidth": 0,
             "ticks": ""
            },
            "colorscale": [
             [
              0,
              "#0d0887"
             ],
             [
              0.1111111111111111,
              "#46039f"
             ],
             [
              0.2222222222222222,
              "#7201a8"
             ],
             [
              0.3333333333333333,
              "#9c179e"
             ],
             [
              0.4444444444444444,
              "#bd3786"
             ],
             [
              0.5555555555555556,
              "#d8576b"
             ],
             [
              0.6666666666666666,
              "#ed7953"
             ],
             [
              0.7777777777777778,
              "#fb9f3a"
             ],
             [
              0.8888888888888888,
              "#fdca26"
             ],
             [
              1,
              "#f0f921"
             ]
            ],
            "type": "histogram2d"
           }
          ],
          "histogram2dcontour": [
           {
            "colorbar": {
             "outlinewidth": 0,
             "ticks": ""
            },
            "colorscale": [
             [
              0,
              "#0d0887"
             ],
             [
              0.1111111111111111,
              "#46039f"
             ],
             [
              0.2222222222222222,
              "#7201a8"
             ],
             [
              0.3333333333333333,
              "#9c179e"
             ],
             [
              0.4444444444444444,
              "#bd3786"
             ],
             [
              0.5555555555555556,
              "#d8576b"
             ],
             [
              0.6666666666666666,
              "#ed7953"
             ],
             [
              0.7777777777777778,
              "#fb9f3a"
             ],
             [
              0.8888888888888888,
              "#fdca26"
             ],
             [
              1,
              "#f0f921"
             ]
            ],
            "type": "histogram2dcontour"
           }
          ],
          "mesh3d": [
           {
            "colorbar": {
             "outlinewidth": 0,
             "ticks": ""
            },
            "type": "mesh3d"
           }
          ],
          "parcoords": [
           {
            "line": {
             "colorbar": {
              "outlinewidth": 0,
              "ticks": ""
             }
            },
            "type": "parcoords"
           }
          ],
          "pie": [
           {
            "automargin": true,
            "type": "pie"
           }
          ],
          "scatter": [
           {
            "fillpattern": {
             "fillmode": "overlay",
             "size": 10,
             "solidity": 0.2
            },
            "type": "scatter"
           }
          ],
          "scatter3d": [
           {
            "line": {
             "colorbar": {
              "outlinewidth": 0,
              "ticks": ""
             }
            },
            "marker": {
             "colorbar": {
              "outlinewidth": 0,
              "ticks": ""
             }
            },
            "type": "scatter3d"
           }
          ],
          "scattercarpet": [
           {
            "marker": {
             "colorbar": {
              "outlinewidth": 0,
              "ticks": ""
             }
            },
            "type": "scattercarpet"
           }
          ],
          "scattergeo": [
           {
            "marker": {
             "colorbar": {
              "outlinewidth": 0,
              "ticks": ""
             }
            },
            "type": "scattergeo"
           }
          ],
          "scattergl": [
           {
            "marker": {
             "colorbar": {
              "outlinewidth": 0,
              "ticks": ""
             }
            },
            "type": "scattergl"
           }
          ],
          "scattermapbox": [
           {
            "marker": {
             "colorbar": {
              "outlinewidth": 0,
              "ticks": ""
             }
            },
            "type": "scattermapbox"
           }
          ],
          "scatterpolar": [
           {
            "marker": {
             "colorbar": {
              "outlinewidth": 0,
              "ticks": ""
             }
            },
            "type": "scatterpolar"
           }
          ],
          "scatterpolargl": [
           {
            "marker": {
             "colorbar": {
              "outlinewidth": 0,
              "ticks": ""
             }
            },
            "type": "scatterpolargl"
           }
          ],
          "scatterternary": [
           {
            "marker": {
             "colorbar": {
              "outlinewidth": 0,
              "ticks": ""
             }
            },
            "type": "scatterternary"
           }
          ],
          "surface": [
           {
            "colorbar": {
             "outlinewidth": 0,
             "ticks": ""
            },
            "colorscale": [
             [
              0,
              "#0d0887"
             ],
             [
              0.1111111111111111,
              "#46039f"
             ],
             [
              0.2222222222222222,
              "#7201a8"
             ],
             [
              0.3333333333333333,
              "#9c179e"
             ],
             [
              0.4444444444444444,
              "#bd3786"
             ],
             [
              0.5555555555555556,
              "#d8576b"
             ],
             [
              0.6666666666666666,
              "#ed7953"
             ],
             [
              0.7777777777777778,
              "#fb9f3a"
             ],
             [
              0.8888888888888888,
              "#fdca26"
             ],
             [
              1,
              "#f0f921"
             ]
            ],
            "type": "surface"
           }
          ],
          "table": [
           {
            "cells": {
             "fill": {
              "color": "#EBF0F8"
             },
             "line": {
              "color": "white"
             }
            },
            "header": {
             "fill": {
              "color": "#C8D4E3"
             },
             "line": {
              "color": "white"
             }
            },
            "type": "table"
           }
          ]
         },
         "layout": {
          "annotationdefaults": {
           "arrowcolor": "#2a3f5f",
           "arrowhead": 0,
           "arrowwidth": 1
          },
          "autotypenumbers": "strict",
          "coloraxis": {
           "colorbar": {
            "outlinewidth": 0,
            "ticks": ""
           }
          },
          "colorscale": {
           "diverging": [
            [
             0,
             "#8e0152"
            ],
            [
             0.1,
             "#c51b7d"
            ],
            [
             0.2,
             "#de77ae"
            ],
            [
             0.3,
             "#f1b6da"
            ],
            [
             0.4,
             "#fde0ef"
            ],
            [
             0.5,
             "#f7f7f7"
            ],
            [
             0.6,
             "#e6f5d0"
            ],
            [
             0.7,
             "#b8e186"
            ],
            [
             0.8,
             "#7fbc41"
            ],
            [
             0.9,
             "#4d9221"
            ],
            [
             1,
             "#276419"
            ]
           ],
           "sequential": [
            [
             0,
             "#0d0887"
            ],
            [
             0.1111111111111111,
             "#46039f"
            ],
            [
             0.2222222222222222,
             "#7201a8"
            ],
            [
             0.3333333333333333,
             "#9c179e"
            ],
            [
             0.4444444444444444,
             "#bd3786"
            ],
            [
             0.5555555555555556,
             "#d8576b"
            ],
            [
             0.6666666666666666,
             "#ed7953"
            ],
            [
             0.7777777777777778,
             "#fb9f3a"
            ],
            [
             0.8888888888888888,
             "#fdca26"
            ],
            [
             1,
             "#f0f921"
            ]
           ],
           "sequentialminus": [
            [
             0,
             "#0d0887"
            ],
            [
             0.1111111111111111,
             "#46039f"
            ],
            [
             0.2222222222222222,
             "#7201a8"
            ],
            [
             0.3333333333333333,
             "#9c179e"
            ],
            [
             0.4444444444444444,
             "#bd3786"
            ],
            [
             0.5555555555555556,
             "#d8576b"
            ],
            [
             0.6666666666666666,
             "#ed7953"
            ],
            [
             0.7777777777777778,
             "#fb9f3a"
            ],
            [
             0.8888888888888888,
             "#fdca26"
            ],
            [
             1,
             "#f0f921"
            ]
           ]
          },
          "colorway": [
           "#636efa",
           "#EF553B",
           "#00cc96",
           "#ab63fa",
           "#FFA15A",
           "#19d3f3",
           "#FF6692",
           "#B6E880",
           "#FF97FF",
           "#FECB52"
          ],
          "font": {
           "color": "#2a3f5f"
          },
          "geo": {
           "bgcolor": "white",
           "lakecolor": "white",
           "landcolor": "#E5ECF6",
           "showlakes": true,
           "showland": true,
           "subunitcolor": "white"
          },
          "hoverlabel": {
           "align": "left"
          },
          "hovermode": "closest",
          "mapbox": {
           "style": "light"
          },
          "paper_bgcolor": "white",
          "plot_bgcolor": "#E5ECF6",
          "polar": {
           "angularaxis": {
            "gridcolor": "white",
            "linecolor": "white",
            "ticks": ""
           },
           "bgcolor": "#E5ECF6",
           "radialaxis": {
            "gridcolor": "white",
            "linecolor": "white",
            "ticks": ""
           }
          },
          "scene": {
           "xaxis": {
            "backgroundcolor": "#E5ECF6",
            "gridcolor": "white",
            "gridwidth": 2,
            "linecolor": "white",
            "showbackground": true,
            "ticks": "",
            "zerolinecolor": "white"
           },
           "yaxis": {
            "backgroundcolor": "#E5ECF6",
            "gridcolor": "white",
            "gridwidth": 2,
            "linecolor": "white",
            "showbackground": true,
            "ticks": "",
            "zerolinecolor": "white"
           },
           "zaxis": {
            "backgroundcolor": "#E5ECF6",
            "gridcolor": "white",
            "gridwidth": 2,
            "linecolor": "white",
            "showbackground": true,
            "ticks": "",
            "zerolinecolor": "white"
           }
          },
          "shapedefaults": {
           "line": {
            "color": "#2a3f5f"
           }
          },
          "ternary": {
           "aaxis": {
            "gridcolor": "white",
            "linecolor": "white",
            "ticks": ""
           },
           "baxis": {
            "gridcolor": "white",
            "linecolor": "white",
            "ticks": ""
           },
           "bgcolor": "#E5ECF6",
           "caxis": {
            "gridcolor": "white",
            "linecolor": "white",
            "ticks": ""
           }
          },
          "title": {
           "x": 0.05
          },
          "xaxis": {
           "automargin": true,
           "gridcolor": "white",
           "linecolor": "white",
           "ticks": "",
           "title": {
            "standoff": 15
           },
           "zerolinecolor": "white",
           "zerolinewidth": 2
          },
          "yaxis": {
           "automargin": true,
           "gridcolor": "white",
           "linecolor": "white",
           "ticks": "",
           "title": {
            "standoff": 15
           },
           "zerolinecolor": "white",
           "zerolinewidth": 2
          }
         }
        },
        "xaxis": {
         "anchor": "y",
         "domain": [
          0,
          1
         ],
         "title": {
          "text": "Country"
         }
        },
        "yaxis": {
         "anchor": "x",
         "domain": [
          0,
          1
         ],
         "title": {
          "text": "Boxes Shipped"
         }
        }
       }
      }
     },
     "metadata": {},
     "output_type": "display_data"
    }
   ],
   "source": [
    "country_box_shipped = df.groupby(\"Country\")[\"Boxes Shipped\"].sum().reset_index()\n",
    "box_shipped.head()\n",
    "\n",
    "fig3 = px.bar(country_box_shipped,x=\"Country\",y=\"Boxes Shipped\")\n",
    "fig3.show()"
   ]
  },
  {
   "cell_type": "code",
   "execution_count": 39,
   "metadata": {},
   "outputs": [
    {
     "data": {
      "text/html": [
       "<div>\n",
       "<style scoped>\n",
       "    .dataframe tbody tr th:only-of-type {\n",
       "        vertical-align: middle;\n",
       "    }\n",
       "\n",
       "    .dataframe tbody tr th {\n",
       "        vertical-align: top;\n",
       "    }\n",
       "\n",
       "    .dataframe thead th {\n",
       "        text-align: right;\n",
       "    }\n",
       "</style>\n",
       "<table border=\"1\" class=\"dataframe\">\n",
       "  <thead>\n",
       "    <tr style=\"text-align: right;\">\n",
       "      <th></th>\n",
       "      <th>Sales Person</th>\n",
       "      <th>Country</th>\n",
       "      <th>Product</th>\n",
       "      <th>Date</th>\n",
       "      <th>Amount</th>\n",
       "      <th>Boxes Shipped</th>\n",
       "      <th>Year</th>\n",
       "      <th>Day</th>\n",
       "      <th>Order Day</th>\n",
       "      <th>Order Month</th>\n",
       "    </tr>\n",
       "  </thead>\n",
       "  <tbody>\n",
       "    <tr>\n",
       "      <th>0</th>\n",
       "      <td>Jehu Rudeforth</td>\n",
       "      <td>UK</td>\n",
       "      <td>Mint Chip Choco</td>\n",
       "      <td>2022-01-04</td>\n",
       "      <td>5320</td>\n",
       "      <td>180</td>\n",
       "      <td>2022</td>\n",
       "      <td>&lt;bound method PandasDelegate._add_delegate_acc...</td>\n",
       "      <td>Tuesday</td>\n",
       "      <td>January</td>\n",
       "    </tr>\n",
       "    <tr>\n",
       "      <th>1</th>\n",
       "      <td>Van Tuxwell</td>\n",
       "      <td>India</td>\n",
       "      <td>85% Dark Bars</td>\n",
       "      <td>2022-08-01</td>\n",
       "      <td>7896</td>\n",
       "      <td>94</td>\n",
       "      <td>2022</td>\n",
       "      <td>&lt;bound method PandasDelegate._add_delegate_acc...</td>\n",
       "      <td>Monday</td>\n",
       "      <td>August</td>\n",
       "    </tr>\n",
       "    <tr>\n",
       "      <th>2</th>\n",
       "      <td>Gigi Bohling</td>\n",
       "      <td>India</td>\n",
       "      <td>Peanut Butter Cubes</td>\n",
       "      <td>2022-07-07</td>\n",
       "      <td>4501</td>\n",
       "      <td>91</td>\n",
       "      <td>2022</td>\n",
       "      <td>&lt;bound method PandasDelegate._add_delegate_acc...</td>\n",
       "      <td>Thursday</td>\n",
       "      <td>July</td>\n",
       "    </tr>\n",
       "    <tr>\n",
       "      <th>3</th>\n",
       "      <td>Jan Morforth</td>\n",
       "      <td>Australia</td>\n",
       "      <td>Peanut Butter Cubes</td>\n",
       "      <td>2022-04-27</td>\n",
       "      <td>12726</td>\n",
       "      <td>342</td>\n",
       "      <td>2022</td>\n",
       "      <td>&lt;bound method PandasDelegate._add_delegate_acc...</td>\n",
       "      <td>Wednesday</td>\n",
       "      <td>April</td>\n",
       "    </tr>\n",
       "    <tr>\n",
       "      <th>4</th>\n",
       "      <td>Jehu Rudeforth</td>\n",
       "      <td>UK</td>\n",
       "      <td>Peanut Butter Cubes</td>\n",
       "      <td>2022-02-24</td>\n",
       "      <td>13685</td>\n",
       "      <td>184</td>\n",
       "      <td>2022</td>\n",
       "      <td>&lt;bound method PandasDelegate._add_delegate_acc...</td>\n",
       "      <td>Thursday</td>\n",
       "      <td>February</td>\n",
       "    </tr>\n",
       "  </tbody>\n",
       "</table>\n",
       "</div>"
      ],
      "text/plain": [
       "     Sales Person    Country              Product       Date  Amount  \\\n",
       "0  Jehu Rudeforth         UK      Mint Chip Choco 2022-01-04    5320   \n",
       "1     Van Tuxwell      India        85% Dark Bars 2022-08-01    7896   \n",
       "2    Gigi Bohling      India  Peanut Butter Cubes 2022-07-07    4501   \n",
       "3    Jan Morforth  Australia  Peanut Butter Cubes 2022-04-27   12726   \n",
       "4  Jehu Rudeforth         UK  Peanut Butter Cubes 2022-02-24   13685   \n",
       "\n",
       "   Boxes Shipped  Year                                                Day  \\\n",
       "0            180  2022  <bound method PandasDelegate._add_delegate_acc...   \n",
       "1             94  2022  <bound method PandasDelegate._add_delegate_acc...   \n",
       "2             91  2022  <bound method PandasDelegate._add_delegate_acc...   \n",
       "3            342  2022  <bound method PandasDelegate._add_delegate_acc...   \n",
       "4            184  2022  <bound method PandasDelegate._add_delegate_acc...   \n",
       "\n",
       "   Order Day Order Month  \n",
       "0    Tuesday     January  \n",
       "1     Monday      August  \n",
       "2   Thursday        July  \n",
       "3  Wednesday       April  \n",
       "4   Thursday    February  "
      ]
     },
     "execution_count": 39,
     "metadata": {},
     "output_type": "execute_result"
    }
   ],
   "source": [
    "df[\"Order Month\"] = df[\"Date\"].dt.month_name()\n",
    "\n",
    "df.head()"
   ]
  },
  {
   "cell_type": "code",
   "execution_count": 43,
   "metadata": {},
   "outputs": [
    {
     "data": {
      "application/vnd.plotly.v1+json": {
       "config": {
        "plotlyServerURL": "https://plot.ly"
       },
       "data": [
        {
         "hovertemplate": "Order Month=%{x}<br>Boxes Shipped=%{y}<extra></extra>",
         "legendgroup": "",
         "line": {
          "color": "#636efa",
          "dash": "solid"
         },
         "marker": {
          "symbol": "circle"
         },
         "mode": "lines",
         "name": "",
         "orientation": "v",
         "showlegend": false,
         "type": "scatter",
         "x": [
          "April",
          "August",
          "February",
          "January",
          "July",
          "June",
          "March",
          "May"
         ],
         "xaxis": "x",
         "y": [
          21003,
          19901,
          18015,
          27535,
          22876,
          26260,
          19561,
          21856
         ],
         "yaxis": "y"
        }
       ],
       "layout": {
        "legend": {
         "tracegroupgap": 0
        },
        "margin": {
         "t": 60
        },
        "template": {
         "data": {
          "bar": [
           {
            "error_x": {
             "color": "#2a3f5f"
            },
            "error_y": {
             "color": "#2a3f5f"
            },
            "marker": {
             "line": {
              "color": "#E5ECF6",
              "width": 0.5
             },
             "pattern": {
              "fillmode": "overlay",
              "size": 10,
              "solidity": 0.2
             }
            },
            "type": "bar"
           }
          ],
          "barpolar": [
           {
            "marker": {
             "line": {
              "color": "#E5ECF6",
              "width": 0.5
             },
             "pattern": {
              "fillmode": "overlay",
              "size": 10,
              "solidity": 0.2
             }
            },
            "type": "barpolar"
           }
          ],
          "carpet": [
           {
            "aaxis": {
             "endlinecolor": "#2a3f5f",
             "gridcolor": "white",
             "linecolor": "white",
             "minorgridcolor": "white",
             "startlinecolor": "#2a3f5f"
            },
            "baxis": {
             "endlinecolor": "#2a3f5f",
             "gridcolor": "white",
             "linecolor": "white",
             "minorgridcolor": "white",
             "startlinecolor": "#2a3f5f"
            },
            "type": "carpet"
           }
          ],
          "choropleth": [
           {
            "colorbar": {
             "outlinewidth": 0,
             "ticks": ""
            },
            "type": "choropleth"
           }
          ],
          "contour": [
           {
            "colorbar": {
             "outlinewidth": 0,
             "ticks": ""
            },
            "colorscale": [
             [
              0,
              "#0d0887"
             ],
             [
              0.1111111111111111,
              "#46039f"
             ],
             [
              0.2222222222222222,
              "#7201a8"
             ],
             [
              0.3333333333333333,
              "#9c179e"
             ],
             [
              0.4444444444444444,
              "#bd3786"
             ],
             [
              0.5555555555555556,
              "#d8576b"
             ],
             [
              0.6666666666666666,
              "#ed7953"
             ],
             [
              0.7777777777777778,
              "#fb9f3a"
             ],
             [
              0.8888888888888888,
              "#fdca26"
             ],
             [
              1,
              "#f0f921"
             ]
            ],
            "type": "contour"
           }
          ],
          "contourcarpet": [
           {
            "colorbar": {
             "outlinewidth": 0,
             "ticks": ""
            },
            "type": "contourcarpet"
           }
          ],
          "heatmap": [
           {
            "colorbar": {
             "outlinewidth": 0,
             "ticks": ""
            },
            "colorscale": [
             [
              0,
              "#0d0887"
             ],
             [
              0.1111111111111111,
              "#46039f"
             ],
             [
              0.2222222222222222,
              "#7201a8"
             ],
             [
              0.3333333333333333,
              "#9c179e"
             ],
             [
              0.4444444444444444,
              "#bd3786"
             ],
             [
              0.5555555555555556,
              "#d8576b"
             ],
             [
              0.6666666666666666,
              "#ed7953"
             ],
             [
              0.7777777777777778,
              "#fb9f3a"
             ],
             [
              0.8888888888888888,
              "#fdca26"
             ],
             [
              1,
              "#f0f921"
             ]
            ],
            "type": "heatmap"
           }
          ],
          "heatmapgl": [
           {
            "colorbar": {
             "outlinewidth": 0,
             "ticks": ""
            },
            "colorscale": [
             [
              0,
              "#0d0887"
             ],
             [
              0.1111111111111111,
              "#46039f"
             ],
             [
              0.2222222222222222,
              "#7201a8"
             ],
             [
              0.3333333333333333,
              "#9c179e"
             ],
             [
              0.4444444444444444,
              "#bd3786"
             ],
             [
              0.5555555555555556,
              "#d8576b"
             ],
             [
              0.6666666666666666,
              "#ed7953"
             ],
             [
              0.7777777777777778,
              "#fb9f3a"
             ],
             [
              0.8888888888888888,
              "#fdca26"
             ],
             [
              1,
              "#f0f921"
             ]
            ],
            "type": "heatmapgl"
           }
          ],
          "histogram": [
           {
            "marker": {
             "pattern": {
              "fillmode": "overlay",
              "size": 10,
              "solidity": 0.2
             }
            },
            "type": "histogram"
           }
          ],
          "histogram2d": [
           {
            "colorbar": {
             "outlinewidth": 0,
             "ticks": ""
            },
            "colorscale": [
             [
              0,
              "#0d0887"
             ],
             [
              0.1111111111111111,
              "#46039f"
             ],
             [
              0.2222222222222222,
              "#7201a8"
             ],
             [
              0.3333333333333333,
              "#9c179e"
             ],
             [
              0.4444444444444444,
              "#bd3786"
             ],
             [
              0.5555555555555556,
              "#d8576b"
             ],
             [
              0.6666666666666666,
              "#ed7953"
             ],
             [
              0.7777777777777778,
              "#fb9f3a"
             ],
             [
              0.8888888888888888,
              "#fdca26"
             ],
             [
              1,
              "#f0f921"
             ]
            ],
            "type": "histogram2d"
           }
          ],
          "histogram2dcontour": [
           {
            "colorbar": {
             "outlinewidth": 0,
             "ticks": ""
            },
            "colorscale": [
             [
              0,
              "#0d0887"
             ],
             [
              0.1111111111111111,
              "#46039f"
             ],
             [
              0.2222222222222222,
              "#7201a8"
             ],
             [
              0.3333333333333333,
              "#9c179e"
             ],
             [
              0.4444444444444444,
              "#bd3786"
             ],
             [
              0.5555555555555556,
              "#d8576b"
             ],
             [
              0.6666666666666666,
              "#ed7953"
             ],
             [
              0.7777777777777778,
              "#fb9f3a"
             ],
             [
              0.8888888888888888,
              "#fdca26"
             ],
             [
              1,
              "#f0f921"
             ]
            ],
            "type": "histogram2dcontour"
           }
          ],
          "mesh3d": [
           {
            "colorbar": {
             "outlinewidth": 0,
             "ticks": ""
            },
            "type": "mesh3d"
           }
          ],
          "parcoords": [
           {
            "line": {
             "colorbar": {
              "outlinewidth": 0,
              "ticks": ""
             }
            },
            "type": "parcoords"
           }
          ],
          "pie": [
           {
            "automargin": true,
            "type": "pie"
           }
          ],
          "scatter": [
           {
            "fillpattern": {
             "fillmode": "overlay",
             "size": 10,
             "solidity": 0.2
            },
            "type": "scatter"
           }
          ],
          "scatter3d": [
           {
            "line": {
             "colorbar": {
              "outlinewidth": 0,
              "ticks": ""
             }
            },
            "marker": {
             "colorbar": {
              "outlinewidth": 0,
              "ticks": ""
             }
            },
            "type": "scatter3d"
           }
          ],
          "scattercarpet": [
           {
            "marker": {
             "colorbar": {
              "outlinewidth": 0,
              "ticks": ""
             }
            },
            "type": "scattercarpet"
           }
          ],
          "scattergeo": [
           {
            "marker": {
             "colorbar": {
              "outlinewidth": 0,
              "ticks": ""
             }
            },
            "type": "scattergeo"
           }
          ],
          "scattergl": [
           {
            "marker": {
             "colorbar": {
              "outlinewidth": 0,
              "ticks": ""
             }
            },
            "type": "scattergl"
           }
          ],
          "scattermapbox": [
           {
            "marker": {
             "colorbar": {
              "outlinewidth": 0,
              "ticks": ""
             }
            },
            "type": "scattermapbox"
           }
          ],
          "scatterpolar": [
           {
            "marker": {
             "colorbar": {
              "outlinewidth": 0,
              "ticks": ""
             }
            },
            "type": "scatterpolar"
           }
          ],
          "scatterpolargl": [
           {
            "marker": {
             "colorbar": {
              "outlinewidth": 0,
              "ticks": ""
             }
            },
            "type": "scatterpolargl"
           }
          ],
          "scatterternary": [
           {
            "marker": {
             "colorbar": {
              "outlinewidth": 0,
              "ticks": ""
             }
            },
            "type": "scatterternary"
           }
          ],
          "surface": [
           {
            "colorbar": {
             "outlinewidth": 0,
             "ticks": ""
            },
            "colorscale": [
             [
              0,
              "#0d0887"
             ],
             [
              0.1111111111111111,
              "#46039f"
             ],
             [
              0.2222222222222222,
              "#7201a8"
             ],
             [
              0.3333333333333333,
              "#9c179e"
             ],
             [
              0.4444444444444444,
              "#bd3786"
             ],
             [
              0.5555555555555556,
              "#d8576b"
             ],
             [
              0.6666666666666666,
              "#ed7953"
             ],
             [
              0.7777777777777778,
              "#fb9f3a"
             ],
             [
              0.8888888888888888,
              "#fdca26"
             ],
             [
              1,
              "#f0f921"
             ]
            ],
            "type": "surface"
           }
          ],
          "table": [
           {
            "cells": {
             "fill": {
              "color": "#EBF0F8"
             },
             "line": {
              "color": "white"
             }
            },
            "header": {
             "fill": {
              "color": "#C8D4E3"
             },
             "line": {
              "color": "white"
             }
            },
            "type": "table"
           }
          ]
         },
         "layout": {
          "annotationdefaults": {
           "arrowcolor": "#2a3f5f",
           "arrowhead": 0,
           "arrowwidth": 1
          },
          "autotypenumbers": "strict",
          "coloraxis": {
           "colorbar": {
            "outlinewidth": 0,
            "ticks": ""
           }
          },
          "colorscale": {
           "diverging": [
            [
             0,
             "#8e0152"
            ],
            [
             0.1,
             "#c51b7d"
            ],
            [
             0.2,
             "#de77ae"
            ],
            [
             0.3,
             "#f1b6da"
            ],
            [
             0.4,
             "#fde0ef"
            ],
            [
             0.5,
             "#f7f7f7"
            ],
            [
             0.6,
             "#e6f5d0"
            ],
            [
             0.7,
             "#b8e186"
            ],
            [
             0.8,
             "#7fbc41"
            ],
            [
             0.9,
             "#4d9221"
            ],
            [
             1,
             "#276419"
            ]
           ],
           "sequential": [
            [
             0,
             "#0d0887"
            ],
            [
             0.1111111111111111,
             "#46039f"
            ],
            [
             0.2222222222222222,
             "#7201a8"
            ],
            [
             0.3333333333333333,
             "#9c179e"
            ],
            [
             0.4444444444444444,
             "#bd3786"
            ],
            [
             0.5555555555555556,
             "#d8576b"
            ],
            [
             0.6666666666666666,
             "#ed7953"
            ],
            [
             0.7777777777777778,
             "#fb9f3a"
            ],
            [
             0.8888888888888888,
             "#fdca26"
            ],
            [
             1,
             "#f0f921"
            ]
           ],
           "sequentialminus": [
            [
             0,
             "#0d0887"
            ],
            [
             0.1111111111111111,
             "#46039f"
            ],
            [
             0.2222222222222222,
             "#7201a8"
            ],
            [
             0.3333333333333333,
             "#9c179e"
            ],
            [
             0.4444444444444444,
             "#bd3786"
            ],
            [
             0.5555555555555556,
             "#d8576b"
            ],
            [
             0.6666666666666666,
             "#ed7953"
            ],
            [
             0.7777777777777778,
             "#fb9f3a"
            ],
            [
             0.8888888888888888,
             "#fdca26"
            ],
            [
             1,
             "#f0f921"
            ]
           ]
          },
          "colorway": [
           "#636efa",
           "#EF553B",
           "#00cc96",
           "#ab63fa",
           "#FFA15A",
           "#19d3f3",
           "#FF6692",
           "#B6E880",
           "#FF97FF",
           "#FECB52"
          ],
          "font": {
           "color": "#2a3f5f"
          },
          "geo": {
           "bgcolor": "white",
           "lakecolor": "white",
           "landcolor": "#E5ECF6",
           "showlakes": true,
           "showland": true,
           "subunitcolor": "white"
          },
          "hoverlabel": {
           "align": "left"
          },
          "hovermode": "closest",
          "mapbox": {
           "style": "light"
          },
          "paper_bgcolor": "white",
          "plot_bgcolor": "#E5ECF6",
          "polar": {
           "angularaxis": {
            "gridcolor": "white",
            "linecolor": "white",
            "ticks": ""
           },
           "bgcolor": "#E5ECF6",
           "radialaxis": {
            "gridcolor": "white",
            "linecolor": "white",
            "ticks": ""
           }
          },
          "scene": {
           "xaxis": {
            "backgroundcolor": "#E5ECF6",
            "gridcolor": "white",
            "gridwidth": 2,
            "linecolor": "white",
            "showbackground": true,
            "ticks": "",
            "zerolinecolor": "white"
           },
           "yaxis": {
            "backgroundcolor": "#E5ECF6",
            "gridcolor": "white",
            "gridwidth": 2,
            "linecolor": "white",
            "showbackground": true,
            "ticks": "",
            "zerolinecolor": "white"
           },
           "zaxis": {
            "backgroundcolor": "#E5ECF6",
            "gridcolor": "white",
            "gridwidth": 2,
            "linecolor": "white",
            "showbackground": true,
            "ticks": "",
            "zerolinecolor": "white"
           }
          },
          "shapedefaults": {
           "line": {
            "color": "#2a3f5f"
           }
          },
          "ternary": {
           "aaxis": {
            "gridcolor": "white",
            "linecolor": "white",
            "ticks": ""
           },
           "baxis": {
            "gridcolor": "white",
            "linecolor": "white",
            "ticks": ""
           },
           "bgcolor": "#E5ECF6",
           "caxis": {
            "gridcolor": "white",
            "linecolor": "white",
            "ticks": ""
           }
          },
          "title": {
           "x": 0.05
          },
          "xaxis": {
           "automargin": true,
           "gridcolor": "white",
           "linecolor": "white",
           "ticks": "",
           "title": {
            "standoff": 15
           },
           "zerolinecolor": "white",
           "zerolinewidth": 2
          },
          "yaxis": {
           "automargin": true,
           "gridcolor": "white",
           "linecolor": "white",
           "ticks": "",
           "title": {
            "standoff": 15
           },
           "zerolinecolor": "white",
           "zerolinewidth": 2
          }
         }
        },
        "xaxis": {
         "anchor": "y",
         "domain": [
          0,
          1
         ],
         "title": {
          "text": "Order Month"
         }
        },
        "yaxis": {
         "anchor": "x",
         "domain": [
          0,
          1
         ],
         "title": {
          "text": "Boxes Shipped"
         }
        }
       }
      }
     },
     "metadata": {},
     "output_type": "display_data"
    }
   ],
   "source": [
    "monthly_sales = df.groupby(\"Order Month\")[\"Boxes Shipped\"].sum().reset_index()\n",
    "monthly_sales.head()\n",
    "\n",
    "fig3 = px.line(monthly_sales,x=\"Order Month\",y=\"Boxes Shipped\")\n",
    "fig3.show()"
   ]
  },
  {
   "cell_type": "code",
   "execution_count": 52,
   "metadata": {},
   "outputs": [
    {
     "data": {
      "application/vnd.plotly.v1+json": {
       "config": {
        "plotlyServerURL": "https://plot.ly"
       },
       "data": [
        {
         "alignmentgroup": "True",
         "hovertemplate": "Country=UK<br>Date=%{x}<br>Boxes Shipped=%{y}<extra></extra>",
         "legendgroup": "UK",
         "marker": {
          "color": "#636efa",
          "pattern": {
           "shape": ""
          }
         },
         "name": "UK",
         "offsetgroup": "UK",
         "orientation": "v",
         "showlegend": true,
         "textposition": "auto",
         "type": "bar",
         "x": [
          "2022-01-04T00:00:00",
          "2022-02-24T00:00:00",
          "2022-01-25T00:00:00",
          "2022-01-13T00:00:00",
          "2022-06-08T00:00:00",
          "2022-03-14T00:00:00",
          "2022-06-29T00:00:00",
          "2022-06-30T00:00:00",
          "2022-08-24T00:00:00",
          "2022-01-10T00:00:00",
          "2022-08-26T00:00:00",
          "2022-01-31T00:00:00",
          "2022-03-24T00:00:00",
          "2022-06-29T00:00:00",
          "2022-08-25T00:00:00",
          "2022-01-19T00:00:00",
          "2022-01-25T00:00:00",
          "2022-07-28T00:00:00",
          "2022-07-25T00:00:00",
          "2022-07-11T00:00:00",
          "2022-03-31T00:00:00",
          "2022-01-25T00:00:00",
          "2022-03-29T00:00:00",
          "2022-07-19T00:00:00",
          "2022-04-12T00:00:00",
          "2022-02-07T00:00:00",
          "2022-03-17T00:00:00",
          "2022-01-03T00:00:00",
          "2022-01-03T00:00:00",
          "2022-01-28T00:00:00",
          "2022-03-02T00:00:00",
          "2022-08-03T00:00:00",
          "2022-06-30T00:00:00",
          "2022-04-27T00:00:00",
          "2022-05-13T00:00:00",
          "2022-03-16T00:00:00",
          "2022-08-22T00:00:00",
          "2022-06-10T00:00:00",
          "2022-04-15T00:00:00",
          "2022-04-14T00:00:00",
          "2022-05-18T00:00:00",
          "2022-06-20T00:00:00",
          "2022-05-04T00:00:00",
          "2022-04-22T00:00:00",
          "2022-06-27T00:00:00",
          "2022-04-15T00:00:00",
          "2022-07-05T00:00:00",
          "2022-05-11T00:00:00",
          "2022-02-07T00:00:00",
          "2022-04-08T00:00:00",
          "2022-08-01T00:00:00",
          "2022-02-01T00:00:00",
          "2022-04-06T00:00:00",
          "2022-06-24T00:00:00",
          "2022-07-18T00:00:00",
          "2022-05-30T00:00:00",
          "2022-06-21T00:00:00",
          "2022-06-08T00:00:00",
          "2022-02-21T00:00:00",
          "2022-04-04T00:00:00",
          "2022-01-13T00:00:00",
          "2022-07-18T00:00:00",
          "2022-04-13T00:00:00",
          "2022-01-10T00:00:00",
          "2022-01-14T00:00:00",
          "2022-07-11T00:00:00",
          "2022-06-06T00:00:00",
          "2022-06-29T00:00:00",
          "2022-03-04T00:00:00",
          "2022-05-23T00:00:00",
          "2022-05-16T00:00:00",
          "2022-01-03T00:00:00",
          "2022-05-16T00:00:00",
          "2022-06-29T00:00:00",
          "2022-05-17T00:00:00",
          "2022-07-21T00:00:00",
          "2022-03-08T00:00:00",
          "2022-06-30T00:00:00",
          "2022-07-07T00:00:00",
          "2022-04-15T00:00:00",
          "2022-03-24T00:00:00",
          "2022-01-26T00:00:00",
          "2022-01-13T00:00:00",
          "2022-03-07T00:00:00",
          "2022-07-12T00:00:00",
          "2022-06-10T00:00:00",
          "2022-05-24T00:00:00",
          "2022-08-10T00:00:00",
          "2022-05-16T00:00:00",
          "2022-03-07T00:00:00",
          "2022-03-04T00:00:00",
          "2022-05-03T00:00:00",
          "2022-02-11T00:00:00",
          "2022-05-25T00:00:00",
          "2022-04-27T00:00:00",
          "2022-06-02T00:00:00",
          "2022-01-05T00:00:00",
          "2022-02-17T00:00:00",
          "2022-08-11T00:00:00",
          "2022-01-17T00:00:00",
          "2022-08-24T00:00:00",
          "2022-06-07T00:00:00",
          "2022-06-22T00:00:00",
          "2022-05-24T00:00:00",
          "2022-01-13T00:00:00",
          "2022-06-29T00:00:00",
          "2022-06-15T00:00:00",
          "2022-05-12T00:00:00",
          "2022-07-25T00:00:00",
          "2022-06-14T00:00:00",
          "2022-08-26T00:00:00",
          "2022-01-10T00:00:00",
          "2022-04-04T00:00:00",
          "2022-04-12T00:00:00",
          "2022-06-07T00:00:00",
          "2022-06-28T00:00:00",
          "2022-03-24T00:00:00",
          "2022-04-22T00:00:00",
          "2022-08-30T00:00:00",
          "2022-05-31T00:00:00",
          "2022-04-08T00:00:00",
          "2022-05-17T00:00:00",
          "2022-08-17T00:00:00",
          "2022-06-30T00:00:00",
          "2022-05-27T00:00:00",
          "2022-07-11T00:00:00",
          "2022-06-23T00:00:00",
          "2022-06-29T00:00:00",
          "2022-06-27T00:00:00",
          "2022-04-06T00:00:00",
          "2022-05-26T00:00:00",
          "2022-08-02T00:00:00",
          "2022-01-12T00:00:00",
          "2022-04-29T00:00:00",
          "2022-02-16T00:00:00",
          "2022-06-23T00:00:00",
          "2022-01-28T00:00:00",
          "2022-07-14T00:00:00",
          "2022-04-15T00:00:00",
          "2022-08-03T00:00:00",
          "2022-05-20T00:00:00",
          "2022-02-03T00:00:00",
          "2022-06-30T00:00:00",
          "2022-03-22T00:00:00",
          "2022-07-07T00:00:00",
          "2022-03-16T00:00:00",
          "2022-08-12T00:00:00",
          "2022-06-28T00:00:00",
          "2022-06-15T00:00:00",
          "2022-07-12T00:00:00",
          "2022-02-21T00:00:00",
          "2022-06-27T00:00:00",
          "2022-08-18T00:00:00",
          "2022-08-26T00:00:00",
          "2022-08-03T00:00:00",
          "2022-03-01T00:00:00",
          "2022-01-27T00:00:00",
          "2022-05-25T00:00:00",
          "2022-04-20T00:00:00",
          "2022-05-30T00:00:00",
          "2022-03-04T00:00:00",
          "2022-02-16T00:00:00",
          "2022-01-21T00:00:00",
          "2022-01-27T00:00:00",
          "2022-02-16T00:00:00",
          "2022-04-26T00:00:00",
          "2022-02-09T00:00:00",
          "2022-06-06T00:00:00",
          "2022-08-10T00:00:00",
          "2022-03-02T00:00:00",
          "2022-07-05T00:00:00",
          "2022-02-07T00:00:00",
          "2022-07-06T00:00:00",
          "2022-03-29T00:00:00",
          "2022-07-19T00:00:00",
          "2022-08-12T00:00:00",
          "2022-03-11T00:00:00",
          "2022-05-13T00:00:00"
         ],
         "xaxis": "x",
         "y": [
          180,
          184,
          176,
          62,
          172,
          113,
          150,
          133,
          314,
          9,
          214,
          137,
          270,
          482,
          42,
          175,
          57,
          96,
          90,
          110,
          178,
          196,
          175,
          112,
          167,
          389,
          41,
          187,
          282,
          65,
          43,
          265,
          76,
          54,
          88,
          79,
          69,
          154,
          433,
          258,
          55,
          216,
          76,
          185,
          46,
          145,
          72,
          86,
          158,
          209,
          3,
          73,
          86,
          136,
          69,
          395,
          81,
          554,
          99,
          136,
          145,
          104,
          164,
          284,
          118,
          134,
          12,
          2,
          84,
          65,
          100,
          226,
          409,
          191,
          232,
          163,
          142,
          42,
          316,
          260,
          284,
          45,
          194,
          407,
          52,
          179,
          134,
          121,
          97,
          84,
          69,
          227,
          293,
          125,
          70,
          300,
          189,
          252,
          344,
          275,
          113,
          275,
          47,
          212,
          121,
          284,
          201,
          101,
          66,
          124,
          341,
          30,
          351,
          356,
          236,
          103,
          20,
          155,
          252,
          313,
          323,
          166,
          171,
          157,
          100,
          223,
          228,
          109,
          164,
          310,
          317,
          468,
          293,
          135,
          239,
          94,
          194,
          216,
          237,
          123,
          67,
          438,
          135,
          148,
          64,
          181,
          114,
          12,
          43,
          174,
          67,
          286,
          212,
          65,
          133,
          165,
          133,
          58,
          23,
          27,
          149,
          200,
          176,
          224,
          68,
          142,
          271,
          204,
          235,
          430,
          380,
          106,
          157,
          28,
          126,
          85,
          251,
          229
         ],
         "yaxis": "y"
        },
        {
         "alignmentgroup": "True",
         "hovertemplate": "Country=India<br>Date=%{x}<br>Boxes Shipped=%{y}<extra></extra>",
         "legendgroup": "India",
         "marker": {
          "color": "#EF553B",
          "pattern": {
           "shape": ""
          }
         },
         "name": "India",
         "offsetgroup": "India",
         "orientation": "v",
         "showlegend": true,
         "textposition": "auto",
         "type": "bar",
         "x": [
          "2022-08-01T00:00:00",
          "2022-07-07T00:00:00",
          "2022-06-06T00:00:00",
          "2022-01-26T00:00:00",
          "2022-07-04T00:00:00",
          "2022-02-23T00:00:00",
          "2022-06-10T00:00:00",
          "2022-07-07T00:00:00",
          "2022-07-19T00:00:00",
          "2022-07-06T00:00:00",
          "2022-05-27T00:00:00",
          "2022-07-04T00:00:00",
          "2022-07-08T00:00:00",
          "2022-07-07T00:00:00",
          "2022-04-19T00:00:00",
          "2022-06-07T00:00:00",
          "2022-04-12T00:00:00",
          "2022-07-06T00:00:00",
          "2022-03-16T00:00:00",
          "2022-04-14T00:00:00",
          "2022-03-11T00:00:00",
          "2022-05-16T00:00:00",
          "2022-08-10T00:00:00",
          "2022-01-05T00:00:00",
          "2022-03-14T00:00:00",
          "2022-02-07T00:00:00",
          "2022-03-16T00:00:00",
          "2022-06-20T00:00:00",
          "2022-02-11T00:00:00",
          "2022-01-07T00:00:00",
          "2022-01-10T00:00:00",
          "2022-02-22T00:00:00",
          "2022-05-31T00:00:00",
          "2022-08-18T00:00:00",
          "2022-01-04T00:00:00",
          "2022-07-15T00:00:00",
          "2022-07-05T00:00:00",
          "2022-07-27T00:00:00",
          "2022-06-27T00:00:00",
          "2022-04-29T00:00:00",
          "2022-07-15T00:00:00",
          "2022-07-05T00:00:00",
          "2022-06-01T00:00:00",
          "2022-07-11T00:00:00",
          "2022-03-08T00:00:00",
          "2022-05-09T00:00:00",
          "2022-01-26T00:00:00",
          "2022-06-27T00:00:00",
          "2022-08-03T00:00:00",
          "2022-04-21T00:00:00",
          "2022-05-04T00:00:00",
          "2022-07-15T00:00:00",
          "2022-06-23T00:00:00",
          "2022-01-13T00:00:00",
          "2022-05-25T00:00:00",
          "2022-04-13T00:00:00",
          "2022-01-13T00:00:00",
          "2022-06-20T00:00:00",
          "2022-06-22T00:00:00",
          "2022-02-25T00:00:00",
          "2022-05-06T00:00:00",
          "2022-05-02T00:00:00",
          "2022-01-04T00:00:00",
          "2022-02-25T00:00:00",
          "2022-08-09T00:00:00",
          "2022-01-28T00:00:00",
          "2022-08-31T00:00:00",
          "2022-02-24T00:00:00",
          "2022-06-21T00:00:00",
          "2022-04-15T00:00:00",
          "2022-03-07T00:00:00",
          "2022-08-15T00:00:00",
          "2022-05-12T00:00:00",
          "2022-04-11T00:00:00",
          "2022-06-16T00:00:00",
          "2022-08-25T00:00:00",
          "2022-05-30T00:00:00",
          "2022-05-31T00:00:00",
          "2022-05-13T00:00:00",
          "2022-06-30T00:00:00",
          "2022-07-28T00:00:00",
          "2022-08-24T00:00:00",
          "2022-02-24T00:00:00",
          "2022-03-02T00:00:00",
          "2022-04-13T00:00:00",
          "2022-05-13T00:00:00",
          "2022-01-27T00:00:00",
          "2022-08-12T00:00:00",
          "2022-03-02T00:00:00",
          "2022-07-07T00:00:00",
          "2022-01-18T00:00:00",
          "2022-08-03T00:00:00",
          "2022-06-14T00:00:00",
          "2022-04-19T00:00:00",
          "2022-05-30T00:00:00",
          "2022-08-12T00:00:00",
          "2022-06-06T00:00:00",
          "2022-01-31T00:00:00",
          "2022-02-01T00:00:00",
          "2022-03-30T00:00:00",
          "2022-04-04T00:00:00",
          "2022-02-11T00:00:00",
          "2022-01-18T00:00:00",
          "2022-08-08T00:00:00",
          "2022-03-23T00:00:00",
          "2022-01-04T00:00:00",
          "2022-02-22T00:00:00",
          "2022-03-15T00:00:00",
          "2022-01-24T00:00:00",
          "2022-08-22T00:00:00",
          "2022-04-05T00:00:00",
          "2022-04-15T00:00:00",
          "2022-05-23T00:00:00",
          "2022-05-04T00:00:00",
          "2022-05-23T00:00:00",
          "2022-07-04T00:00:00",
          "2022-01-17T00:00:00",
          "2022-08-22T00:00:00",
          "2022-04-05T00:00:00",
          "2022-06-15T00:00:00",
          "2022-04-21T00:00:00",
          "2022-08-01T00:00:00",
          "2022-03-18T00:00:00",
          "2022-08-02T00:00:00",
          "2022-03-18T00:00:00",
          "2022-07-04T00:00:00",
          "2022-06-06T00:00:00",
          "2022-07-04T00:00:00",
          "2022-03-02T00:00:00",
          "2022-08-09T00:00:00",
          "2022-07-29T00:00:00",
          "2022-05-27T00:00:00",
          "2022-01-28T00:00:00",
          "2022-01-13T00:00:00",
          "2022-06-03T00:00:00",
          "2022-04-12T00:00:00",
          "2022-07-21T00:00:00",
          "2022-05-09T00:00:00",
          "2022-04-14T00:00:00",
          "2022-01-27T00:00:00",
          "2022-07-22T00:00:00",
          "2022-07-05T00:00:00",
          "2022-06-09T00:00:00",
          "2022-05-16T00:00:00",
          "2022-04-13T00:00:00",
          "2022-08-22T00:00:00",
          "2022-05-06T00:00:00",
          "2022-03-14T00:00:00",
          "2022-02-16T00:00:00",
          "2022-02-25T00:00:00",
          "2022-08-04T00:00:00",
          "2022-06-28T00:00:00",
          "2022-06-16T00:00:00",
          "2022-04-15T00:00:00",
          "2022-07-29T00:00:00",
          "2022-01-26T00:00:00",
          "2022-06-08T00:00:00",
          "2022-07-26T00:00:00",
          "2022-04-14T00:00:00",
          "2022-02-09T00:00:00",
          "2022-07-04T00:00:00",
          "2022-04-13T00:00:00",
          "2022-06-27T00:00:00",
          "2022-06-30T00:00:00",
          "2022-08-30T00:00:00",
          "2022-02-16T00:00:00",
          "2022-02-14T00:00:00",
          "2022-06-23T00:00:00",
          "2022-01-12T00:00:00",
          "2022-03-03T00:00:00",
          "2022-07-28T00:00:00",
          "2022-05-30T00:00:00",
          "2022-06-15T00:00:00",
          "2022-04-14T00:00:00",
          "2022-08-08T00:00:00",
          "2022-02-16T00:00:00",
          "2022-07-21T00:00:00",
          "2022-05-31T00:00:00",
          "2022-01-17T00:00:00",
          "2022-03-22T00:00:00",
          "2022-03-14T00:00:00",
          "2022-05-24T00:00:00",
          "2022-07-28T00:00:00",
          "2022-05-23T00:00:00"
         ],
         "xaxis": "x",
         "y": [
          94,
          91,
          38,
          321,
          581,
          142,
          303,
          176,
          179,
          149,
          11,
          411,
          56,
          9,
          80,
          138,
          520,
          94,
          125,
          46,
          22,
          174,
          140,
          27,
          149,
          108,
          81,
          447,
          21,
          520,
          146,
          159,
          233,
          141,
          134,
          46,
          135,
          99,
          19,
          61,
          277,
          44,
          146,
          179,
          99,
          157,
          38,
          149,
          18,
          96,
          55,
          184,
          311,
          218,
          418,
          151,
          96,
          134,
          112,
          242,
          81,
          91,
          178,
          100,
          83,
          142,
          137,
          261,
          68,
          107,
          142,
          330,
          73,
          4,
          45,
          322,
          543,
          139,
          129,
          22,
          120,
          71,
          127,
          70,
          114,
          170,
          208,
          134,
          204,
          9,
          402,
          89,
          390,
          135,
          164,
          204,
          74,
          15,
          8,
          83,
          226,
          145,
          134,
          67,
          138,
          99,
          251,
          44,
          301,
          33,
          201,
          323,
          170,
          51,
          187,
          153,
          232,
          51,
          78,
          56,
          171,
          79,
          524,
          207,
          129,
          342,
          106,
          234,
          2,
          205,
          24,
          26,
          33,
          276,
          160,
          46,
          130,
          5,
          413,
          216,
          157,
          130,
          147,
          84,
          172,
          233,
          167,
          168,
          256,
          76,
          262,
          244,
          254,
          313,
          109,
          85,
          88,
          213,
          446,
          58,
          296,
          73,
          207,
          40,
          100,
          73,
          363,
          20,
          465,
          96,
          202,
          421,
          154,
          239,
          163,
          96,
          106,
          11,
          68,
          173,
          12,
          96,
          384,
          344
         ],
         "yaxis": "y"
        },
        {
         "alignmentgroup": "True",
         "hovertemplate": "Country=Australia<br>Date=%{x}<br>Boxes Shipped=%{y}<extra></extra>",
         "legendgroup": "Australia",
         "marker": {
          "color": "#00cc96",
          "pattern": {
           "shape": ""
          }
         },
         "name": "Australia",
         "offsetgroup": "Australia",
         "orientation": "v",
         "showlegend": true,
         "textposition": "auto",
         "type": "bar",
         "x": [
          "2022-04-27T00:00:00",
          "2022-03-24T00:00:00",
          "2022-07-04T00:00:00",
          "2022-01-26T00:00:00",
          "2022-06-27T00:00:00",
          "2022-02-28T00:00:00",
          "2022-05-11T00:00:00",
          "2022-05-19T00:00:00",
          "2022-02-14T00:00:00",
          "2022-06-06T00:00:00",
          "2022-07-19T00:00:00",
          "2022-06-30T00:00:00",
          "2022-06-02T00:00:00",
          "2022-06-28T00:00:00",
          "2022-05-16T00:00:00",
          "2022-04-14T00:00:00",
          "2022-08-10T00:00:00",
          "2022-08-23T00:00:00",
          "2022-02-07T00:00:00",
          "2022-03-07T00:00:00",
          "2022-04-05T00:00:00",
          "2022-07-07T00:00:00",
          "2022-06-20T00:00:00",
          "2022-03-14T00:00:00",
          "2022-01-05T00:00:00",
          "2022-04-06T00:00:00",
          "2022-06-15T00:00:00",
          "2022-02-21T00:00:00",
          "2022-03-23T00:00:00",
          "2022-06-28T00:00:00",
          "2022-07-28T00:00:00",
          "2022-01-12T00:00:00",
          "2022-07-05T00:00:00",
          "2022-01-04T00:00:00",
          "2022-01-31T00:00:00",
          "2022-04-29T00:00:00",
          "2022-07-12T00:00:00",
          "2022-07-29T00:00:00",
          "2022-03-02T00:00:00",
          "2022-01-14T00:00:00",
          "2022-03-23T00:00:00",
          "2022-07-04T00:00:00",
          "2022-04-01T00:00:00",
          "2022-06-28T00:00:00",
          "2022-05-27T00:00:00",
          "2022-07-27T00:00:00",
          "2022-02-21T00:00:00",
          "2022-01-05T00:00:00",
          "2022-05-25T00:00:00",
          "2022-05-25T00:00:00",
          "2022-07-04T00:00:00",
          "2022-01-12T00:00:00",
          "2022-03-25T00:00:00",
          "2022-03-15T00:00:00",
          "2022-06-20T00:00:00",
          "2022-05-12T00:00:00",
          "2022-07-25T00:00:00",
          "2022-01-25T00:00:00",
          "2022-08-04T00:00:00",
          "2022-01-03T00:00:00",
          "2022-03-07T00:00:00",
          "2022-07-27T00:00:00",
          "2022-06-27T00:00:00",
          "2022-01-26T00:00:00",
          "2022-06-15T00:00:00",
          "2022-07-08T00:00:00",
          "2022-08-19T00:00:00",
          "2022-04-08T00:00:00",
          "2022-08-26T00:00:00",
          "2022-05-11T00:00:00",
          "2022-08-01T00:00:00",
          "2022-07-27T00:00:00",
          "2022-03-22T00:00:00",
          "2022-03-02T00:00:00",
          "2022-03-17T00:00:00",
          "2022-05-17T00:00:00",
          "2022-07-13T00:00:00",
          "2022-06-16T00:00:00",
          "2022-06-24T00:00:00",
          "2022-05-02T00:00:00",
          "2022-01-07T00:00:00",
          "2022-01-14T00:00:00",
          "2022-08-01T00:00:00",
          "2022-05-05T00:00:00",
          "2022-06-24T00:00:00",
          "2022-01-18T00:00:00",
          "2022-05-16T00:00:00",
          "2022-07-04T00:00:00",
          "2022-03-17T00:00:00",
          "2022-02-15T00:00:00",
          "2022-05-10T00:00:00",
          "2022-06-23T00:00:00",
          "2022-01-26T00:00:00",
          "2022-02-17T00:00:00",
          "2022-06-14T00:00:00",
          "2022-01-25T00:00:00",
          "2022-06-24T00:00:00",
          "2022-06-21T00:00:00",
          "2022-08-23T00:00:00",
          "2022-03-03T00:00:00",
          "2022-01-14T00:00:00",
          "2022-07-08T00:00:00",
          "2022-04-20T00:00:00",
          "2022-03-04T00:00:00",
          "2022-02-08T00:00:00",
          "2022-06-20T00:00:00",
          "2022-05-02T00:00:00",
          "2022-08-22T00:00:00",
          "2022-08-11T00:00:00",
          "2022-03-02T00:00:00",
          "2022-07-27T00:00:00",
          "2022-08-23T00:00:00",
          "2022-06-30T00:00:00",
          "2022-01-17T00:00:00",
          "2022-02-22T00:00:00",
          "2022-04-29T00:00:00",
          "2022-04-05T00:00:00",
          "2022-08-24T00:00:00",
          "2022-06-09T00:00:00",
          "2022-08-03T00:00:00",
          "2022-06-29T00:00:00",
          "2022-04-22T00:00:00",
          "2022-06-07T00:00:00",
          "2022-02-25T00:00:00",
          "2022-02-22T00:00:00",
          "2022-01-17T00:00:00",
          "2022-06-09T00:00:00",
          "2022-05-12T00:00:00",
          "2022-06-29T00:00:00",
          "2022-01-25T00:00:00",
          "2022-07-27T00:00:00",
          "2022-01-28T00:00:00",
          "2022-07-05T00:00:00",
          "2022-06-30T00:00:00",
          "2022-05-11T00:00:00",
          "2022-01-17T00:00:00",
          "2022-05-09T00:00:00",
          "2022-05-30T00:00:00",
          "2022-01-13T00:00:00",
          "2022-05-17T00:00:00",
          "2022-03-25T00:00:00",
          "2022-04-15T00:00:00",
          "2022-08-03T00:00:00",
          "2022-01-17T00:00:00",
          "2022-07-29T00:00:00",
          "2022-03-30T00:00:00",
          "2022-03-18T00:00:00",
          "2022-08-17T00:00:00",
          "2022-03-18T00:00:00",
          "2022-08-26T00:00:00",
          "2022-06-07T00:00:00",
          "2022-02-10T00:00:00",
          "2022-05-16T00:00:00",
          "2022-07-13T00:00:00",
          "2022-02-24T00:00:00",
          "2022-05-13T00:00:00",
          "2022-03-30T00:00:00",
          "2022-08-11T00:00:00",
          "2022-02-18T00:00:00",
          "2022-01-19T00:00:00",
          "2022-08-02T00:00:00",
          "2022-04-12T00:00:00",
          "2022-08-09T00:00:00",
          "2022-04-25T00:00:00",
          "2022-08-01T00:00:00",
          "2022-08-22T00:00:00",
          "2022-05-30T00:00:00",
          "2022-08-18T00:00:00",
          "2022-01-13T00:00:00",
          "2022-01-07T00:00:00",
          "2022-05-11T00:00:00",
          "2022-05-06T00:00:00",
          "2022-02-14T00:00:00",
          "2022-07-13T00:00:00",
          "2022-05-27T00:00:00",
          "2022-04-13T00:00:00",
          "2022-01-10T00:00:00",
          "2022-07-08T00:00:00",
          "2022-04-08T00:00:00",
          "2022-07-13T00:00:00",
          "2022-01-26T00:00:00",
          "2022-01-25T00:00:00",
          "2022-08-23T00:00:00",
          "2022-03-09T00:00:00",
          "2022-02-08T00:00:00",
          "2022-08-25T00:00:00",
          "2022-03-14T00:00:00",
          "2022-04-26T00:00:00",
          "2022-01-26T00:00:00",
          "2022-02-11T00:00:00",
          "2022-07-15T00:00:00",
          "2022-01-11T00:00:00",
          "2022-01-04T00:00:00",
          "2022-02-14T00:00:00",
          "2022-04-25T00:00:00",
          "2022-05-04T00:00:00",
          "2022-07-04T00:00:00",
          "2022-08-18T00:00:00",
          "2022-04-08T00:00:00",
          "2022-01-13T00:00:00",
          "2022-03-21T00:00:00",
          "2022-04-15T00:00:00",
          "2022-07-05T00:00:00",
          "2022-08-19T00:00:00",
          "2022-05-17T00:00:00"
         ],
         "xaxis": "x",
         "y": [
          342,
          73,
          102,
          356,
          88,
          115,
          94,
          14,
          18,
          23,
          135,
          55,
          227,
          48,
          174,
          11,
          14,
          311,
          108,
          408,
          420,
          111,
          6,
          31,
          92,
          283,
          21,
          396,
          547,
          188,
          387,
          264,
          128,
          212,
          18,
          477,
          136,
          104,
          202,
          418,
          26,
          370,
          12,
          311,
          26,
          32,
          92,
          48,
          62,
          390,
          122,
          125,
          286,
          92,
          87,
          252,
          6,
          424,
          109,
          170,
          275,
          139,
          166,
          3,
          102,
          128,
          52,
          72,
          53,
          87,
          125,
          156,
          40,
          288,
          72,
          59,
          75,
          329,
          38,
          16,
          84,
          195,
          25,
          252,
          74,
          101,
          54,
          31,
          169,
          223,
          41,
          275,
          105,
          120,
          182,
          467,
          317,
          254,
          233,
          118,
          65,
          151,
          148,
          384,
          223,
          85,
          153,
          51,
          67,
          116,
          41,
          178,
          34,
          91,
          392,
          432,
          236,
          168,
          89,
          131,
          287,
          258,
          56,
          198,
          103,
          162,
          286,
          102,
          232,
          154,
          52,
          53,
          50,
          27,
          220,
          128,
          256,
          243,
          101,
          159,
          55,
          398,
          114,
          708,
          55,
          303,
          92,
          117,
          29,
          128,
          68,
          44,
          457,
          137,
          125,
          91,
          377,
          105,
          24,
          259,
          78,
          136,
          109,
          175,
          154,
          222,
          350,
          105,
          384,
          33,
          32,
          151,
          140,
          194,
          100,
          284,
          104,
          80,
          306,
          88,
          76,
          119,
          57,
          156,
          158,
          22,
          68,
          26,
          168,
          109,
          264,
          421,
          46,
          47,
          27,
          60,
          76,
          235,
          167,
          295,
          102,
          260,
          93,
          205,
          323
         ],
         "yaxis": "y"
        },
        {
         "alignmentgroup": "True",
         "hovertemplate": "Country=New Zealand<br>Date=%{x}<br>Boxes Shipped=%{y}<extra></extra>",
         "legendgroup": "New Zealand",
         "marker": {
          "color": "#ab63fa",
          "pattern": {
           "shape": ""
          }
         },
         "name": "New Zealand",
         "offsetgroup": "New Zealand",
         "orientation": "v",
         "showlegend": true,
         "textposition": "auto",
         "type": "bar",
         "x": [
          "2022-04-20T00:00:00",
          "2022-07-28T00:00:00",
          "2022-08-03T00:00:00",
          "2022-07-05T00:00:00",
          "2022-06-15T00:00:00",
          "2022-05-24T00:00:00",
          "2022-07-07T00:00:00",
          "2022-02-14T00:00:00",
          "2022-03-11T00:00:00",
          "2022-06-20T00:00:00",
          "2022-08-01T00:00:00",
          "2022-05-25T00:00:00",
          "2022-04-01T00:00:00",
          "2022-08-02T00:00:00",
          "2022-03-09T00:00:00",
          "2022-03-24T00:00:00",
          "2022-04-04T00:00:00",
          "2022-08-02T00:00:00",
          "2022-06-28T00:00:00",
          "2022-06-07T00:00:00",
          "2022-01-18T00:00:00",
          "2022-05-20T00:00:00",
          "2022-04-13T00:00:00",
          "2022-03-02T00:00:00",
          "2022-01-27T00:00:00",
          "2022-07-29T00:00:00",
          "2022-06-14T00:00:00",
          "2022-06-13T00:00:00",
          "2022-08-03T00:00:00",
          "2022-02-25T00:00:00",
          "2022-07-01T00:00:00",
          "2022-07-01T00:00:00",
          "2022-08-17T00:00:00",
          "2022-05-23T00:00:00",
          "2022-04-05T00:00:00",
          "2022-06-14T00:00:00",
          "2022-08-19T00:00:00",
          "2022-01-14T00:00:00",
          "2022-01-13T00:00:00",
          "2022-08-30T00:00:00",
          "2022-07-07T00:00:00",
          "2022-03-02T00:00:00",
          "2022-03-04T00:00:00",
          "2022-06-28T00:00:00",
          "2022-02-07T00:00:00",
          "2022-01-11T00:00:00",
          "2022-05-18T00:00:00",
          "2022-01-04T00:00:00",
          "2022-05-09T00:00:00",
          "2022-07-11T00:00:00",
          "2022-03-15T00:00:00",
          "2022-04-25T00:00:00",
          "2022-02-22T00:00:00",
          "2022-08-24T00:00:00",
          "2022-05-06T00:00:00",
          "2022-07-12T00:00:00",
          "2022-06-10T00:00:00",
          "2022-01-31T00:00:00",
          "2022-03-04T00:00:00",
          "2022-04-19T00:00:00",
          "2022-02-01T00:00:00",
          "2022-03-16T00:00:00",
          "2022-06-30T00:00:00",
          "2022-06-15T00:00:00",
          "2022-05-13T00:00:00",
          "2022-07-15T00:00:00",
          "2022-01-25T00:00:00",
          "2022-01-10T00:00:00",
          "2022-04-26T00:00:00",
          "2022-06-27T00:00:00",
          "2022-03-28T00:00:00",
          "2022-02-21T00:00:00",
          "2022-05-19T00:00:00",
          "2022-08-25T00:00:00",
          "2022-06-14T00:00:00",
          "2022-04-14T00:00:00",
          "2022-02-17T00:00:00",
          "2022-03-10T00:00:00",
          "2022-05-30T00:00:00",
          "2022-06-09T00:00:00",
          "2022-01-31T00:00:00",
          "2022-06-15T00:00:00",
          "2022-06-17T00:00:00",
          "2022-01-28T00:00:00",
          "2022-03-28T00:00:00",
          "2022-01-18T00:00:00",
          "2022-01-17T00:00:00",
          "2022-02-15T00:00:00",
          "2022-01-05T00:00:00",
          "2022-04-05T00:00:00",
          "2022-01-12T00:00:00",
          "2022-01-26T00:00:00",
          "2022-01-18T00:00:00",
          "2022-03-02T00:00:00",
          "2022-08-09T00:00:00",
          "2022-08-11T00:00:00",
          "2022-02-24T00:00:00",
          "2022-06-28T00:00:00",
          "2022-06-23T00:00:00",
          "2022-02-11T00:00:00",
          "2022-08-04T00:00:00",
          "2022-06-14T00:00:00",
          "2022-08-09T00:00:00",
          "2022-07-28T00:00:00",
          "2022-08-24T00:00:00",
          "2022-06-06T00:00:00",
          "2022-05-24T00:00:00",
          "2022-03-11T00:00:00",
          "2022-03-11T00:00:00",
          "2022-04-05T00:00:00",
          "2022-07-11T00:00:00",
          "2022-07-21T00:00:00",
          "2022-06-23T00:00:00",
          "2022-04-04T00:00:00",
          "2022-03-11T00:00:00",
          "2022-07-08T00:00:00",
          "2022-06-23T00:00:00",
          "2022-02-07T00:00:00",
          "2022-01-18T00:00:00",
          "2022-06-10T00:00:00",
          "2022-04-08T00:00:00",
          "2022-02-22T00:00:00",
          "2022-02-01T00:00:00",
          "2022-06-03T00:00:00",
          "2022-02-23T00:00:00",
          "2022-05-09T00:00:00",
          "2022-06-06T00:00:00",
          "2022-01-31T00:00:00",
          "2022-06-30T00:00:00",
          "2022-01-10T00:00:00",
          "2022-04-14T00:00:00",
          "2022-03-24T00:00:00",
          "2022-04-04T00:00:00",
          "2022-01-17T00:00:00",
          "2022-05-16T00:00:00",
          "2022-03-01T00:00:00",
          "2022-03-02T00:00:00",
          "2022-03-22T00:00:00",
          "2022-02-10T00:00:00",
          "2022-06-15T00:00:00",
          "2022-04-12T00:00:00",
          "2022-07-07T00:00:00",
          "2022-03-11T00:00:00",
          "2022-01-12T00:00:00",
          "2022-04-22T00:00:00",
          "2022-01-04T00:00:00",
          "2022-02-16T00:00:00",
          "2022-01-21T00:00:00",
          "2022-03-25T00:00:00",
          "2022-05-12T00:00:00",
          "2022-01-25T00:00:00",
          "2022-01-20T00:00:00",
          "2022-02-16T00:00:00",
          "2022-07-11T00:00:00",
          "2022-04-13T00:00:00",
          "2022-08-22T00:00:00",
          "2022-08-26T00:00:00",
          "2022-06-29T00:00:00",
          "2022-03-15T00:00:00",
          "2022-01-27T00:00:00",
          "2022-07-11T00:00:00",
          "2022-08-01T00:00:00",
          "2022-02-14T00:00:00",
          "2022-04-18T00:00:00",
          "2022-02-01T00:00:00",
          "2022-08-04T00:00:00",
          "2022-04-05T00:00:00",
          "2022-05-18T00:00:00",
          "2022-06-07T00:00:00",
          "2022-08-08T00:00:00",
          "2022-05-04T00:00:00",
          "2022-03-29T00:00:00",
          "2022-05-24T00:00:00"
         ],
         "xaxis": "x",
         "y": [
          59,
          156,
          173,
          151,
          301,
          121,
          72,
          18,
          241,
          265,
          181,
          10,
          97,
          40,
          44,
          7,
          121,
          117,
          272,
          45,
          27,
          14,
          11,
          116,
          475,
          66,
          42,
          190,
          144,
          246,
          256,
          37,
          126,
          157,
          417,
          57,
          242,
          315,
          127,
          22,
          60,
          202,
          273,
          183,
          135,
          197,
          415,
          348,
          211,
          234,
          144,
          47,
          215,
          280,
          177,
          24,
          40,
          227,
          39,
          84,
          151,
          140,
          285,
          60,
          281,
          85,
          24,
          469,
          147,
          103,
          31,
          145,
          59,
          4,
          42,
          73,
          270,
          111,
          149,
          97,
          107,
          321,
          347,
          333,
          67,
          229,
          88,
          211,
          129,
          189,
          187,
          265,
          21,
          207,
          176,
          65,
          239,
          55,
          350,
          84,
          7,
          88,
          145,
          271,
          52,
          106,
          226,
          89,
          277,
          30,
          98,
          62,
          308,
          137,
          22,
          50,
          110,
          51,
          31,
          419,
          106,
          93,
          23,
          13,
          30,
          203,
          100,
          277,
          42,
          97,
          275,
          38,
          49,
          313,
          307,
          182,
          61,
          24,
          91,
          130,
          518,
          92,
          4,
          518,
          59,
          229,
          236,
          181,
          84,
          187,
          169,
          48,
          131,
          10,
          150,
          51,
          42,
          64,
          434,
          85,
          299,
          62,
          352,
          183,
          417,
          146,
          158,
          188,
          60,
          55,
          228,
          403,
          195
         ],
         "yaxis": "y"
        },
        {
         "alignmentgroup": "True",
         "hovertemplate": "Country=USA<br>Date=%{x}<br>Boxes Shipped=%{y}<extra></extra>",
         "legendgroup": "USA",
         "marker": {
          "color": "#FFA15A",
          "pattern": {
           "shape": ""
          }
         },
         "name": "USA",
         "offsetgroup": "USA",
         "orientation": "v",
         "showlegend": true,
         "textposition": "auto",
         "type": "bar",
         "x": [
          "2022-03-10T00:00:00",
          "2022-04-05T00:00:00",
          "2022-02-17T00:00:00",
          "2022-05-30T00:00:00",
          "2022-07-07T00:00:00",
          "2022-07-22T00:00:00",
          "2022-06-02T00:00:00",
          "2022-04-15T00:00:00",
          "2022-02-16T00:00:00",
          "2022-01-13T00:00:00",
          "2022-04-19T00:00:00",
          "2022-07-22T00:00:00",
          "2022-03-02T00:00:00",
          "2022-02-11T00:00:00",
          "2022-01-27T00:00:00",
          "2022-08-18T00:00:00",
          "2022-06-30T00:00:00",
          "2022-05-12T00:00:00",
          "2022-07-26T00:00:00",
          "2022-06-15T00:00:00",
          "2022-04-08T00:00:00",
          "2022-07-15T00:00:00",
          "2022-03-28T00:00:00",
          "2022-02-25T00:00:00",
          "2022-02-16T00:00:00",
          "2022-04-25T00:00:00",
          "2022-04-12T00:00:00",
          "2022-04-05T00:00:00",
          "2022-01-28T00:00:00",
          "2022-07-28T00:00:00",
          "2022-01-21T00:00:00",
          "2022-08-10T00:00:00",
          "2022-06-30T00:00:00",
          "2022-05-12T00:00:00",
          "2022-06-02T00:00:00",
          "2022-03-15T00:00:00",
          "2022-03-18T00:00:00",
          "2022-03-02T00:00:00",
          "2022-08-08T00:00:00",
          "2022-07-04T00:00:00",
          "2022-04-13T00:00:00",
          "2022-08-03T00:00:00",
          "2022-06-10T00:00:00",
          "2022-01-18T00:00:00",
          "2022-05-11T00:00:00",
          "2022-04-14T00:00:00",
          "2022-03-07T00:00:00",
          "2022-01-27T00:00:00",
          "2022-05-11T00:00:00",
          "2022-03-22T00:00:00",
          "2022-05-04T00:00:00",
          "2022-08-18T00:00:00",
          "2022-07-21T00:00:00",
          "2022-02-23T00:00:00",
          "2022-07-11T00:00:00",
          "2022-07-26T00:00:00",
          "2022-06-09T00:00:00",
          "2022-07-21T00:00:00",
          "2022-02-14T00:00:00",
          "2022-01-28T00:00:00",
          "2022-04-15T00:00:00",
          "2022-03-24T00:00:00",
          "2022-06-29T00:00:00",
          "2022-05-24T00:00:00",
          "2022-03-15T00:00:00",
          "2022-05-03T00:00:00",
          "2022-06-14T00:00:00",
          "2022-05-25T00:00:00",
          "2022-07-28T00:00:00",
          "2022-05-25T00:00:00",
          "2022-01-28T00:00:00",
          "2022-04-19T00:00:00",
          "2022-01-18T00:00:00",
          "2022-02-11T00:00:00",
          "2022-06-15T00:00:00",
          "2022-05-10T00:00:00",
          "2022-07-28T00:00:00",
          "2022-02-25T00:00:00",
          "2022-06-29T00:00:00",
          "2022-02-15T00:00:00",
          "2022-05-04T00:00:00",
          "2022-05-23T00:00:00",
          "2022-02-21T00:00:00",
          "2022-02-03T00:00:00",
          "2022-05-31T00:00:00",
          "2022-02-28T00:00:00",
          "2022-01-14T00:00:00",
          "2022-07-13T00:00:00",
          "2022-03-09T00:00:00",
          "2022-08-25T00:00:00",
          "2022-03-11T00:00:00",
          "2022-05-20T00:00:00",
          "2022-07-07T00:00:00",
          "2022-06-20T00:00:00",
          "2022-08-23T00:00:00",
          "2022-04-25T00:00:00",
          "2022-05-16T00:00:00",
          "2022-07-25T00:00:00",
          "2022-05-12T00:00:00",
          "2022-05-09T00:00:00",
          "2022-05-02T00:00:00",
          "2022-08-09T00:00:00",
          "2022-02-01T00:00:00",
          "2022-06-23T00:00:00",
          "2022-07-07T00:00:00",
          "2022-08-18T00:00:00",
          "2022-01-26T00:00:00",
          "2022-04-29T00:00:00",
          "2022-03-04T00:00:00",
          "2022-08-12T00:00:00",
          "2022-08-22T00:00:00",
          "2022-02-11T00:00:00",
          "2022-03-23T00:00:00",
          "2022-03-21T00:00:00",
          "2022-01-04T00:00:00",
          "2022-08-10T00:00:00",
          "2022-04-18T00:00:00",
          "2022-08-22T00:00:00",
          "2022-07-22T00:00:00",
          "2022-08-24T00:00:00",
          "2022-02-17T00:00:00",
          "2022-07-05T00:00:00",
          "2022-07-15T00:00:00",
          "2022-02-03T00:00:00",
          "2022-06-27T00:00:00",
          "2022-03-11T00:00:00",
          "2022-07-13T00:00:00",
          "2022-02-07T00:00:00",
          "2022-06-06T00:00:00",
          "2022-05-23T00:00:00",
          "2022-04-25T00:00:00",
          "2022-05-23T00:00:00",
          "2022-07-27T00:00:00",
          "2022-08-16T00:00:00",
          "2022-01-04T00:00:00",
          "2022-02-21T00:00:00",
          "2022-05-25T00:00:00",
          "2022-07-18T00:00:00",
          "2022-07-25T00:00:00",
          "2022-05-09T00:00:00",
          "2022-01-18T00:00:00",
          "2022-08-22T00:00:00",
          "2022-02-21T00:00:00",
          "2022-07-28T00:00:00",
          "2022-03-04T00:00:00",
          "2022-01-27T00:00:00",
          "2022-08-15T00:00:00",
          "2022-06-30T00:00:00",
          "2022-04-14T00:00:00",
          "2022-04-28T00:00:00",
          "2022-07-21T00:00:00",
          "2022-06-14T00:00:00",
          "2022-05-05T00:00:00",
          "2022-05-16T00:00:00",
          "2022-08-15T00:00:00",
          "2022-06-14T00:00:00",
          "2022-06-27T00:00:00",
          "2022-08-11T00:00:00",
          "2022-05-31T00:00:00",
          "2022-05-19T00:00:00",
          "2022-04-25T00:00:00",
          "2022-06-10T00:00:00",
          "2022-06-16T00:00:00",
          "2022-03-29T00:00:00",
          "2022-03-11T00:00:00",
          "2022-04-13T00:00:00",
          "2022-06-13T00:00:00",
          "2022-01-03T00:00:00",
          "2022-08-24T00:00:00",
          "2022-02-07T00:00:00",
          "2022-06-15T00:00:00",
          "2022-07-11T00:00:00",
          "2022-06-22T00:00:00",
          "2022-06-07T00:00:00",
          "2022-03-15T00:00:00",
          "2022-01-14T00:00:00",
          "2022-05-12T00:00:00",
          "2022-01-12T00:00:00",
          "2022-06-07T00:00:00"
         ],
         "xaxis": "x",
         "y": [
          11,
          140,
          157,
          163,
          112,
          315,
          16,
          354,
          188,
          160,
          83,
          102,
          103,
          244,
          181,
          24,
          21,
          401,
          264,
          106,
          180,
          359,
          296,
          167,
          87,
          30,
          101,
          82,
          46,
          6,
          54,
          210,
          84,
          100,
          249,
          430,
          200,
          56,
          54,
          96,
          59,
          27,
          69,
          65,
          122,
          117,
          22,
          7,
          108,
          51,
          318,
          238,
          122,
          107,
          264,
          160,
          58,
          152,
          21,
          368,
          76,
          352,
          146,
          112,
          139,
          42,
          24,
          138,
          352,
          150,
          147,
          13,
          257,
          341,
          58,
          138,
          14,
          137,
          223,
          53,
          213,
          5,
          248,
          138,
          102,
          37,
          227,
          60,
          93,
          47,
          22,
          18,
          154,
          73,
          334,
          155,
          138,
          353,
          60,
          5,
          46,
          320,
          67,
          301,
          130,
          339,
          9,
          69,
          158,
          120,
          10,
          316,
          223,
          179,
          219,
          321,
          131,
          140,
          126,
          296,
          145,
          235,
          93,
          78,
          361,
          134,
          276,
          142,
          6,
          151,
          508,
          18,
          212,
          126,
          92,
          111,
          90,
          126,
          86,
          75,
          87,
          8,
          155,
          170,
          133,
          233,
          125,
          135,
          21,
          27,
          157,
          79,
          163,
          252,
          261,
          98,
          115,
          271,
          24,
          141,
          78,
          392,
          133,
          299,
          44,
          235,
          175,
          46,
          2,
          417,
          350,
          464,
          259,
          132,
          77,
          196,
          91,
          194,
          119
         ],
         "yaxis": "y"
        },
        {
         "alignmentgroup": "True",
         "hovertemplate": "Country=Canada<br>Date=%{x}<br>Boxes Shipped=%{y}<extra></extra>",
         "legendgroup": "Canada",
         "marker": {
          "color": "#19d3f3",
          "pattern": {
           "shape": ""
          }
         },
         "name": "Canada",
         "offsetgroup": "Canada",
         "orientation": "v",
         "showlegend": true,
         "textposition": "auto",
         "type": "bar",
         "x": [
          "2022-01-13T00:00:00",
          "2022-02-14T00:00:00",
          "2022-02-16T00:00:00",
          "2022-02-09T00:00:00",
          "2022-05-11T00:00:00",
          "2022-07-11T00:00:00",
          "2022-08-22T00:00:00",
          "2022-03-24T00:00:00",
          "2022-07-15T00:00:00",
          "2022-05-18T00:00:00",
          "2022-05-26T00:00:00",
          "2022-07-13T00:00:00",
          "2022-01-10T00:00:00",
          "2022-01-03T00:00:00",
          "2022-07-15T00:00:00",
          "2022-03-04T00:00:00",
          "2022-01-24T00:00:00",
          "2022-01-28T00:00:00",
          "2022-01-13T00:00:00",
          "2022-06-16T00:00:00",
          "2022-08-15T00:00:00",
          "2022-08-01T00:00:00",
          "2022-07-11T00:00:00",
          "2022-01-19T00:00:00",
          "2022-02-21T00:00:00",
          "2022-06-27T00:00:00",
          "2022-07-04T00:00:00",
          "2022-06-07T00:00:00",
          "2022-04-20T00:00:00",
          "2022-04-20T00:00:00",
          "2022-07-15T00:00:00",
          "2022-08-22T00:00:00",
          "2022-04-13T00:00:00",
          "2022-01-11T00:00:00",
          "2022-03-04T00:00:00",
          "2022-07-15T00:00:00",
          "2022-08-10T00:00:00",
          "2022-08-03T00:00:00",
          "2022-03-15T00:00:00",
          "2022-01-10T00:00:00",
          "2022-02-17T00:00:00",
          "2022-07-19T00:00:00",
          "2022-06-23T00:00:00",
          "2022-03-22T00:00:00",
          "2022-07-07T00:00:00",
          "2022-01-13T00:00:00",
          "2022-04-04T00:00:00",
          "2022-08-02T00:00:00",
          "2022-03-21T00:00:00",
          "2022-03-24T00:00:00",
          "2022-06-24T00:00:00",
          "2022-02-08T00:00:00",
          "2022-02-24T00:00:00",
          "2022-02-28T00:00:00",
          "2022-01-03T00:00:00",
          "2022-08-05T00:00:00",
          "2022-02-09T00:00:00",
          "2022-03-23T00:00:00",
          "2022-08-01T00:00:00",
          "2022-01-28T00:00:00",
          "2022-07-01T00:00:00",
          "2022-08-01T00:00:00",
          "2022-01-04T00:00:00",
          "2022-07-05T00:00:00",
          "2022-08-01T00:00:00",
          "2022-06-16T00:00:00",
          "2022-08-12T00:00:00",
          "2022-01-17T00:00:00",
          "2022-05-09T00:00:00",
          "2022-03-07T00:00:00",
          "2022-07-07T00:00:00",
          "2022-08-09T00:00:00",
          "2022-04-01T00:00:00",
          "2022-07-27T00:00:00",
          "2022-02-01T00:00:00",
          "2022-03-03T00:00:00",
          "2022-08-02T00:00:00",
          "2022-01-18T00:00:00",
          "2022-04-22T00:00:00",
          "2022-07-25T00:00:00",
          "2022-01-19T00:00:00",
          "2022-02-17T00:00:00",
          "2022-03-17T00:00:00",
          "2022-08-24T00:00:00",
          "2022-07-04T00:00:00",
          "2022-02-10T00:00:00",
          "2022-04-08T00:00:00",
          "2022-07-06T00:00:00",
          "2022-08-11T00:00:00",
          "2022-06-14T00:00:00",
          "2022-03-17T00:00:00",
          "2022-08-04T00:00:00",
          "2022-07-13T00:00:00",
          "2022-08-18T00:00:00",
          "2022-01-04T00:00:00",
          "2022-07-21T00:00:00",
          "2022-07-08T00:00:00",
          "2022-06-23T00:00:00",
          "2022-04-06T00:00:00",
          "2022-06-24T00:00:00",
          "2022-03-07T00:00:00",
          "2022-02-22T00:00:00",
          "2022-07-12T00:00:00",
          "2022-03-08T00:00:00",
          "2022-07-11T00:00:00",
          "2022-08-24T00:00:00",
          "2022-07-28T00:00:00",
          "2022-04-08T00:00:00",
          "2022-05-10T00:00:00",
          "2022-05-12T00:00:00",
          "2022-03-17T00:00:00",
          "2022-06-14T00:00:00",
          "2022-01-31T00:00:00",
          "2022-08-19T00:00:00",
          "2022-06-24T00:00:00",
          "2022-06-20T00:00:00",
          "2022-02-14T00:00:00",
          "2022-08-25T00:00:00",
          "2022-05-18T00:00:00",
          "2022-02-14T00:00:00",
          "2022-03-16T00:00:00",
          "2022-01-31T00:00:00",
          "2022-03-10T00:00:00",
          "2022-01-14T00:00:00",
          "2022-05-13T00:00:00",
          "2022-02-03T00:00:00",
          "2022-03-29T00:00:00",
          "2022-03-21T00:00:00",
          "2022-07-20T00:00:00",
          "2022-01-25T00:00:00",
          "2022-01-17T00:00:00",
          "2022-06-02T00:00:00",
          "2022-02-23T00:00:00",
          "2022-08-11T00:00:00",
          "2022-04-18T00:00:00",
          "2022-05-19T00:00:00",
          "2022-08-15T00:00:00",
          "2022-01-13T00:00:00",
          "2022-02-17T00:00:00",
          "2022-06-24T00:00:00",
          "2022-04-05T00:00:00",
          "2022-07-05T00:00:00",
          "2022-05-11T00:00:00",
          "2022-06-07T00:00:00",
          "2022-06-02T00:00:00",
          "2022-03-02T00:00:00",
          "2022-06-30T00:00:00",
          "2022-08-08T00:00:00",
          "2022-01-14T00:00:00",
          "2022-03-02T00:00:00",
          "2022-02-14T00:00:00",
          "2022-06-10T00:00:00",
          "2022-07-05T00:00:00",
          "2022-05-12T00:00:00",
          "2022-04-05T00:00:00",
          "2022-03-03T00:00:00",
          "2022-08-22T00:00:00",
          "2022-03-29T00:00:00",
          "2022-04-08T00:00:00",
          "2022-06-15T00:00:00",
          "2022-02-16T00:00:00",
          "2022-06-02T00:00:00",
          "2022-05-02T00:00:00",
          "2022-03-08T00:00:00",
          "2022-05-06T00:00:00",
          "2022-02-16T00:00:00",
          "2022-05-17T00:00:00",
          "2022-04-26T00:00:00",
          "2022-05-19T00:00:00",
          "2022-01-10T00:00:00",
          "2022-04-05T00:00:00",
          "2022-04-27T00:00:00",
          "2022-08-12T00:00:00",
          "2022-01-28T00:00:00",
          "2022-07-26T00:00:00"
         ],
         "xaxis": "x",
         "y": [
          286,
          42,
          250,
          186,
          70,
          241,
          102,
          70,
          24,
          416,
          302,
          32,
          82,
          348,
          65,
          101,
          141,
          47,
          27,
          118,
          50,
          403,
          138,
          184,
          12,
          72,
          176,
          78,
          424,
          358,
          173,
          406,
          125,
          95,
          100,
          312,
          216,
          238,
          45,
          172,
          259,
          303,
          126,
          3,
          28,
          118,
          195,
          47,
          371,
          203,
          409,
          309,
          46,
          370,
          336,
          183,
          85,
          178,
          101,
          178,
          410,
          12,
          204,
          74,
          90,
          208,
          159,
          233,
          224,
          112,
          7,
          182,
          211,
          151,
          49,
          72,
          114,
          135,
          111,
          199,
          301,
          101,
          479,
          269,
          277,
          116,
          44,
          82,
          125,
          45,
          130,
          200,
          172,
          7,
          23,
          488,
          79,
          512,
          31,
          282,
          11,
          22,
          200,
          88,
          4,
          185,
          30,
          289,
          109,
          58,
          118,
          103,
          7,
          296,
          597,
          149,
          305,
          249,
          164,
          29,
          121,
          285,
          205,
          425,
          495,
          170,
          1,
          98,
          294,
          136,
          237,
          16,
          614,
          15,
          247,
          63,
          408,
          198,
          54,
          137,
          12,
          113,
          249,
          167,
          166,
          142,
          18,
          181,
          158,
          304,
          180,
          539,
          118,
          35,
          200,
          264,
          172,
          81,
          15,
          709,
          45,
          77,
          156,
          91,
          203,
          319,
          312,
          82,
          591,
          24,
          268,
          338,
          73,
          75,
          217
         ],
         "yaxis": "y"
        }
       ],
       "layout": {
        "barmode": "relative",
        "legend": {
         "title": {
          "text": "Country"
         },
         "tracegroupgap": 0
        },
        "margin": {
         "t": 60
        },
        "template": {
         "data": {
          "bar": [
           {
            "error_x": {
             "color": "#2a3f5f"
            },
            "error_y": {
             "color": "#2a3f5f"
            },
            "marker": {
             "line": {
              "color": "#E5ECF6",
              "width": 0.5
             },
             "pattern": {
              "fillmode": "overlay",
              "size": 10,
              "solidity": 0.2
             }
            },
            "type": "bar"
           }
          ],
          "barpolar": [
           {
            "marker": {
             "line": {
              "color": "#E5ECF6",
              "width": 0.5
             },
             "pattern": {
              "fillmode": "overlay",
              "size": 10,
              "solidity": 0.2
             }
            },
            "type": "barpolar"
           }
          ],
          "carpet": [
           {
            "aaxis": {
             "endlinecolor": "#2a3f5f",
             "gridcolor": "white",
             "linecolor": "white",
             "minorgridcolor": "white",
             "startlinecolor": "#2a3f5f"
            },
            "baxis": {
             "endlinecolor": "#2a3f5f",
             "gridcolor": "white",
             "linecolor": "white",
             "minorgridcolor": "white",
             "startlinecolor": "#2a3f5f"
            },
            "type": "carpet"
           }
          ],
          "choropleth": [
           {
            "colorbar": {
             "outlinewidth": 0,
             "ticks": ""
            },
            "type": "choropleth"
           }
          ],
          "contour": [
           {
            "colorbar": {
             "outlinewidth": 0,
             "ticks": ""
            },
            "colorscale": [
             [
              0,
              "#0d0887"
             ],
             [
              0.1111111111111111,
              "#46039f"
             ],
             [
              0.2222222222222222,
              "#7201a8"
             ],
             [
              0.3333333333333333,
              "#9c179e"
             ],
             [
              0.4444444444444444,
              "#bd3786"
             ],
             [
              0.5555555555555556,
              "#d8576b"
             ],
             [
              0.6666666666666666,
              "#ed7953"
             ],
             [
              0.7777777777777778,
              "#fb9f3a"
             ],
             [
              0.8888888888888888,
              "#fdca26"
             ],
             [
              1,
              "#f0f921"
             ]
            ],
            "type": "contour"
           }
          ],
          "contourcarpet": [
           {
            "colorbar": {
             "outlinewidth": 0,
             "ticks": ""
            },
            "type": "contourcarpet"
           }
          ],
          "heatmap": [
           {
            "colorbar": {
             "outlinewidth": 0,
             "ticks": ""
            },
            "colorscale": [
             [
              0,
              "#0d0887"
             ],
             [
              0.1111111111111111,
              "#46039f"
             ],
             [
              0.2222222222222222,
              "#7201a8"
             ],
             [
              0.3333333333333333,
              "#9c179e"
             ],
             [
              0.4444444444444444,
              "#bd3786"
             ],
             [
              0.5555555555555556,
              "#d8576b"
             ],
             [
              0.6666666666666666,
              "#ed7953"
             ],
             [
              0.7777777777777778,
              "#fb9f3a"
             ],
             [
              0.8888888888888888,
              "#fdca26"
             ],
             [
              1,
              "#f0f921"
             ]
            ],
            "type": "heatmap"
           }
          ],
          "heatmapgl": [
           {
            "colorbar": {
             "outlinewidth": 0,
             "ticks": ""
            },
            "colorscale": [
             [
              0,
              "#0d0887"
             ],
             [
              0.1111111111111111,
              "#46039f"
             ],
             [
              0.2222222222222222,
              "#7201a8"
             ],
             [
              0.3333333333333333,
              "#9c179e"
             ],
             [
              0.4444444444444444,
              "#bd3786"
             ],
             [
              0.5555555555555556,
              "#d8576b"
             ],
             [
              0.6666666666666666,
              "#ed7953"
             ],
             [
              0.7777777777777778,
              "#fb9f3a"
             ],
             [
              0.8888888888888888,
              "#fdca26"
             ],
             [
              1,
              "#f0f921"
             ]
            ],
            "type": "heatmapgl"
           }
          ],
          "histogram": [
           {
            "marker": {
             "pattern": {
              "fillmode": "overlay",
              "size": 10,
              "solidity": 0.2
             }
            },
            "type": "histogram"
           }
          ],
          "histogram2d": [
           {
            "colorbar": {
             "outlinewidth": 0,
             "ticks": ""
            },
            "colorscale": [
             [
              0,
              "#0d0887"
             ],
             [
              0.1111111111111111,
              "#46039f"
             ],
             [
              0.2222222222222222,
              "#7201a8"
             ],
             [
              0.3333333333333333,
              "#9c179e"
             ],
             [
              0.4444444444444444,
              "#bd3786"
             ],
             [
              0.5555555555555556,
              "#d8576b"
             ],
             [
              0.6666666666666666,
              "#ed7953"
             ],
             [
              0.7777777777777778,
              "#fb9f3a"
             ],
             [
              0.8888888888888888,
              "#fdca26"
             ],
             [
              1,
              "#f0f921"
             ]
            ],
            "type": "histogram2d"
           }
          ],
          "histogram2dcontour": [
           {
            "colorbar": {
             "outlinewidth": 0,
             "ticks": ""
            },
            "colorscale": [
             [
              0,
              "#0d0887"
             ],
             [
              0.1111111111111111,
              "#46039f"
             ],
             [
              0.2222222222222222,
              "#7201a8"
             ],
             [
              0.3333333333333333,
              "#9c179e"
             ],
             [
              0.4444444444444444,
              "#bd3786"
             ],
             [
              0.5555555555555556,
              "#d8576b"
             ],
             [
              0.6666666666666666,
              "#ed7953"
             ],
             [
              0.7777777777777778,
              "#fb9f3a"
             ],
             [
              0.8888888888888888,
              "#fdca26"
             ],
             [
              1,
              "#f0f921"
             ]
            ],
            "type": "histogram2dcontour"
           }
          ],
          "mesh3d": [
           {
            "colorbar": {
             "outlinewidth": 0,
             "ticks": ""
            },
            "type": "mesh3d"
           }
          ],
          "parcoords": [
           {
            "line": {
             "colorbar": {
              "outlinewidth": 0,
              "ticks": ""
             }
            },
            "type": "parcoords"
           }
          ],
          "pie": [
           {
            "automargin": true,
            "type": "pie"
           }
          ],
          "scatter": [
           {
            "fillpattern": {
             "fillmode": "overlay",
             "size": 10,
             "solidity": 0.2
            },
            "type": "scatter"
           }
          ],
          "scatter3d": [
           {
            "line": {
             "colorbar": {
              "outlinewidth": 0,
              "ticks": ""
             }
            },
            "marker": {
             "colorbar": {
              "outlinewidth": 0,
              "ticks": ""
             }
            },
            "type": "scatter3d"
           }
          ],
          "scattercarpet": [
           {
            "marker": {
             "colorbar": {
              "outlinewidth": 0,
              "ticks": ""
             }
            },
            "type": "scattercarpet"
           }
          ],
          "scattergeo": [
           {
            "marker": {
             "colorbar": {
              "outlinewidth": 0,
              "ticks": ""
             }
            },
            "type": "scattergeo"
           }
          ],
          "scattergl": [
           {
            "marker": {
             "colorbar": {
              "outlinewidth": 0,
              "ticks": ""
             }
            },
            "type": "scattergl"
           }
          ],
          "scattermapbox": [
           {
            "marker": {
             "colorbar": {
              "outlinewidth": 0,
              "ticks": ""
             }
            },
            "type": "scattermapbox"
           }
          ],
          "scatterpolar": [
           {
            "marker": {
             "colorbar": {
              "outlinewidth": 0,
              "ticks": ""
             }
            },
            "type": "scatterpolar"
           }
          ],
          "scatterpolargl": [
           {
            "marker": {
             "colorbar": {
              "outlinewidth": 0,
              "ticks": ""
             }
            },
            "type": "scatterpolargl"
           }
          ],
          "scatterternary": [
           {
            "marker": {
             "colorbar": {
              "outlinewidth": 0,
              "ticks": ""
             }
            },
            "type": "scatterternary"
           }
          ],
          "surface": [
           {
            "colorbar": {
             "outlinewidth": 0,
             "ticks": ""
            },
            "colorscale": [
             [
              0,
              "#0d0887"
             ],
             [
              0.1111111111111111,
              "#46039f"
             ],
             [
              0.2222222222222222,
              "#7201a8"
             ],
             [
              0.3333333333333333,
              "#9c179e"
             ],
             [
              0.4444444444444444,
              "#bd3786"
             ],
             [
              0.5555555555555556,
              "#d8576b"
             ],
             [
              0.6666666666666666,
              "#ed7953"
             ],
             [
              0.7777777777777778,
              "#fb9f3a"
             ],
             [
              0.8888888888888888,
              "#fdca26"
             ],
             [
              1,
              "#f0f921"
             ]
            ],
            "type": "surface"
           }
          ],
          "table": [
           {
            "cells": {
             "fill": {
              "color": "#EBF0F8"
             },
             "line": {
              "color": "white"
             }
            },
            "header": {
             "fill": {
              "color": "#C8D4E3"
             },
             "line": {
              "color": "white"
             }
            },
            "type": "table"
           }
          ]
         },
         "layout": {
          "annotationdefaults": {
           "arrowcolor": "#2a3f5f",
           "arrowhead": 0,
           "arrowwidth": 1
          },
          "autotypenumbers": "strict",
          "coloraxis": {
           "colorbar": {
            "outlinewidth": 0,
            "ticks": ""
           }
          },
          "colorscale": {
           "diverging": [
            [
             0,
             "#8e0152"
            ],
            [
             0.1,
             "#c51b7d"
            ],
            [
             0.2,
             "#de77ae"
            ],
            [
             0.3,
             "#f1b6da"
            ],
            [
             0.4,
             "#fde0ef"
            ],
            [
             0.5,
             "#f7f7f7"
            ],
            [
             0.6,
             "#e6f5d0"
            ],
            [
             0.7,
             "#b8e186"
            ],
            [
             0.8,
             "#7fbc41"
            ],
            [
             0.9,
             "#4d9221"
            ],
            [
             1,
             "#276419"
            ]
           ],
           "sequential": [
            [
             0,
             "#0d0887"
            ],
            [
             0.1111111111111111,
             "#46039f"
            ],
            [
             0.2222222222222222,
             "#7201a8"
            ],
            [
             0.3333333333333333,
             "#9c179e"
            ],
            [
             0.4444444444444444,
             "#bd3786"
            ],
            [
             0.5555555555555556,
             "#d8576b"
            ],
            [
             0.6666666666666666,
             "#ed7953"
            ],
            [
             0.7777777777777778,
             "#fb9f3a"
            ],
            [
             0.8888888888888888,
             "#fdca26"
            ],
            [
             1,
             "#f0f921"
            ]
           ],
           "sequentialminus": [
            [
             0,
             "#0d0887"
            ],
            [
             0.1111111111111111,
             "#46039f"
            ],
            [
             0.2222222222222222,
             "#7201a8"
            ],
            [
             0.3333333333333333,
             "#9c179e"
            ],
            [
             0.4444444444444444,
             "#bd3786"
            ],
            [
             0.5555555555555556,
             "#d8576b"
            ],
            [
             0.6666666666666666,
             "#ed7953"
            ],
            [
             0.7777777777777778,
             "#fb9f3a"
            ],
            [
             0.8888888888888888,
             "#fdca26"
            ],
            [
             1,
             "#f0f921"
            ]
           ]
          },
          "colorway": [
           "#636efa",
           "#EF553B",
           "#00cc96",
           "#ab63fa",
           "#FFA15A",
           "#19d3f3",
           "#FF6692",
           "#B6E880",
           "#FF97FF",
           "#FECB52"
          ],
          "font": {
           "color": "#2a3f5f"
          },
          "geo": {
           "bgcolor": "white",
           "lakecolor": "white",
           "landcolor": "#E5ECF6",
           "showlakes": true,
           "showland": true,
           "subunitcolor": "white"
          },
          "hoverlabel": {
           "align": "left"
          },
          "hovermode": "closest",
          "mapbox": {
           "style": "light"
          },
          "paper_bgcolor": "white",
          "plot_bgcolor": "#E5ECF6",
          "polar": {
           "angularaxis": {
            "gridcolor": "white",
            "linecolor": "white",
            "ticks": ""
           },
           "bgcolor": "#E5ECF6",
           "radialaxis": {
            "gridcolor": "white",
            "linecolor": "white",
            "ticks": ""
           }
          },
          "scene": {
           "xaxis": {
            "backgroundcolor": "#E5ECF6",
            "gridcolor": "white",
            "gridwidth": 2,
            "linecolor": "white",
            "showbackground": true,
            "ticks": "",
            "zerolinecolor": "white"
           },
           "yaxis": {
            "backgroundcolor": "#E5ECF6",
            "gridcolor": "white",
            "gridwidth": 2,
            "linecolor": "white",
            "showbackground": true,
            "ticks": "",
            "zerolinecolor": "white"
           },
           "zaxis": {
            "backgroundcolor": "#E5ECF6",
            "gridcolor": "white",
            "gridwidth": 2,
            "linecolor": "white",
            "showbackground": true,
            "ticks": "",
            "zerolinecolor": "white"
           }
          },
          "shapedefaults": {
           "line": {
            "color": "#2a3f5f"
           }
          },
          "ternary": {
           "aaxis": {
            "gridcolor": "white",
            "linecolor": "white",
            "ticks": ""
           },
           "baxis": {
            "gridcolor": "white",
            "linecolor": "white",
            "ticks": ""
           },
           "bgcolor": "#E5ECF6",
           "caxis": {
            "gridcolor": "white",
            "linecolor": "white",
            "ticks": ""
           }
          },
          "title": {
           "x": 0.05
          },
          "xaxis": {
           "automargin": true,
           "gridcolor": "white",
           "linecolor": "white",
           "ticks": "",
           "title": {
            "standoff": 15
           },
           "zerolinecolor": "white",
           "zerolinewidth": 2
          },
          "yaxis": {
           "automargin": true,
           "gridcolor": "white",
           "linecolor": "white",
           "ticks": "",
           "title": {
            "standoff": 15
           },
           "zerolinecolor": "white",
           "zerolinewidth": 2
          }
         }
        },
        "xaxis": {
         "anchor": "y",
         "domain": [
          0,
          1
         ],
         "title": {
          "text": "Date"
         }
        },
        "yaxis": {
         "anchor": "x",
         "domain": [
          0,
          1
         ],
         "title": {
          "text": "Boxes Shipped"
         }
        }
       }
      }
     },
     "metadata": {},
     "output_type": "display_data"
    }
   ],
   "source": [
    "fig3 = px.bar(df,x=\"Date\",y=\"Boxes Shipped\",color=\"Country\")\n",
    "fig3.show()"
   ]
  },
  {
   "cell_type": "code",
   "execution_count": 54,
   "metadata": {},
   "outputs": [
    {
     "data": {
      "application/vnd.plotly.v1+json": {
       "config": {
        "plotlyServerURL": "https://plot.ly"
       },
       "data": [
        {
         "domain": {
          "x": [
           0,
           1
          ],
          "y": [
           0,
           1
          ]
         },
         "hovertemplate": "Order Month=%{label}<br>Boxes Shipped=%{value}<br>Order Day=%{parent}<extra></extra>",
         "labels": [
          "January",
          "August",
          "July",
          "April",
          "February",
          "June",
          "January",
          "March",
          "April",
          "July",
          "January",
          "March",
          "January",
          "July",
          "August",
          "January",
          "February",
          "April",
          "February",
          "June",
          "June",
          "February",
          "May",
          "March",
          "February",
          "January",
          "February",
          "July",
          "July",
          "June",
          "May",
          "June",
          "May",
          "June",
          "May",
          "July",
          "August",
          "July",
          "May",
          "July",
          "June",
          "April",
          "July",
          "February",
          "August",
          "February",
          "January",
          "February",
          "June",
          "July",
          "March",
          "June",
          "July",
          "April",
          "July",
          "July",
          "February",
          "May",
          "June",
          "June",
          "June",
          "May",
          "May",
          "July",
          "May",
          "April",
          "August",
          "July",
          "July",
          "July",
          "March",
          "January",
          "March",
          "June",
          "August",
          "July",
          "February",
          "January",
          "January",
          "August",
          "June",
          "August",
          "August",
          "May",
          "January",
          "February",
          "May",
          "March",
          "April",
          "January",
          "March",
          "July",
          "July",
          "July",
          "July",
          "April",
          "June",
          "June",
          "June",
          "April",
          "March",
          "July",
          "April",
          "March",
          "March",
          "August",
          "August",
          "February",
          "June",
          "April",
          "July",
          "January",
          "January",
          "January",
          "April",
          "June",
          "January",
          "March",
          "February",
          "February",
          "January",
          "March",
          "June",
          "April",
          "January",
          "March",
          "July",
          "March",
          "June",
          "July",
          "August",
          "January",
          "March",
          "July",
          "August",
          "May",
          "August",
          "January",
          "July",
          "April",
          "April",
          "April",
          "August",
          "June",
          "July",
          "June",
          "January",
          "January",
          "January",
          "March",
          "April",
          "February",
          "March",
          "March",
          "January",
          "June",
          "March",
          "July",
          "July",
          "January",
          "April",
          "February",
          "May",
          "July",
          "January",
          "July",
          "April",
          "February",
          "March",
          "March",
          "July",
          "January",
          "April",
          "June",
          "January",
          "February",
          "March",
          "January",
          "March",
          "January",
          "July",
          "July",
          "August",
          "April",
          "February",
          "January",
          "May",
          "January",
          "January",
          "January",
          "June",
          "March",
          "May",
          "June",
          "June",
          "May",
          "July",
          "August",
          "August",
          "June",
          "June",
          "June",
          "April",
          "July",
          "April",
          "January",
          "February",
          "January",
          "July",
          "May",
          "April",
          "June",
          "May",
          "August",
          "May",
          "March",
          "July",
          "July",
          "March",
          "August",
          "January",
          "June",
          "March",
          "July",
          "April",
          "June",
          "April",
          "March",
          "March",
          "April",
          "February",
          "March",
          "June",
          "July",
          "May",
          "July",
          "August",
          "July",
          "May",
          "July",
          "July",
          "July",
          "June",
          "January",
          "July",
          "April",
          "May",
          "August",
          "June",
          "April",
          "August",
          "June",
          "June",
          "January",
          "July",
          "August",
          "January",
          "March",
          "March",
          "May",
          "May",
          "April",
          "July",
          "August",
          "May",
          "January",
          "April",
          "April",
          "June",
          "April",
          "June",
          "January",
          "July",
          "January",
          "March",
          "March",
          "July",
          "May",
          "January",
          "June",
          "August",
          "August",
          "June",
          "February",
          "July",
          "April",
          "April",
          "August",
          "May",
          "May",
          "March",
          "August",
          "May",
          "August",
          "August",
          "January",
          "April",
          "August",
          "March",
          "July",
          "January",
          "August",
          "January",
          "May",
          "August",
          "July",
          "August",
          "February",
          "July",
          "February",
          "March",
          "June",
          "February",
          "March",
          "April",
          "March",
          "June",
          "July",
          "July",
          "January",
          "July",
          "May",
          "April",
          "March",
          "June",
          "July",
          "March",
          "June",
          "May",
          "March",
          "July",
          "January",
          "July",
          "June",
          "July",
          "May",
          "June",
          "June",
          "January",
          "April",
          "June",
          "August",
          "July",
          "June",
          "June",
          "May",
          "January",
          "February",
          "March",
          "April",
          "March",
          "June",
          "January",
          "February",
          "January",
          "February",
          "August",
          "May",
          "May",
          "January",
          "May",
          "May",
          "January",
          "June",
          "February",
          "January",
          "May",
          "May",
          "January",
          "June",
          "July",
          "April",
          "April",
          "January",
          "July",
          "March",
          "March",
          "February",
          "June",
          "May",
          "January",
          "March",
          "February",
          "February",
          "May",
          "June",
          "August",
          "July",
          "January",
          "February",
          "March",
          "April",
          "May",
          "June",
          "February",
          "May",
          "February",
          "July",
          "January",
          "August",
          "July",
          "May",
          "May",
          "January",
          "June",
          "July",
          "August",
          "January",
          "August",
          "April",
          "June",
          "February",
          "March",
          "June",
          "January",
          "June",
          "May",
          "April",
          "January",
          "March",
          "April",
          "May",
          "February",
          "January",
          "February",
          "March",
          "February",
          "March",
          "January",
          "February",
          "March",
          "August",
          "May",
          "April",
          "June",
          "June",
          "August",
          "June",
          "June",
          "May",
          "May",
          "August",
          "July",
          "May",
          "June",
          "January",
          "July",
          "January",
          "June",
          "June",
          "July",
          "February",
          "August",
          "June",
          "January",
          "May",
          "August",
          "March",
          "May",
          "June",
          "January",
          "January",
          "February",
          "January",
          "May",
          "May",
          "April",
          "July",
          "July",
          "February",
          "February",
          "July",
          "May",
          "June",
          "May",
          "May",
          "February",
          "March",
          "January",
          "February",
          "August",
          "May",
          "July",
          "April",
          "June",
          "March",
          "March",
          "June",
          "June",
          "July",
          "August",
          "July",
          "August",
          "January",
          "March",
          "August",
          "April",
          "March",
          "May",
          "June",
          "April",
          "July",
          "August",
          "February",
          "May",
          "February",
          "March",
          "June",
          "March",
          "June",
          "February",
          "January",
          "May",
          "July",
          "August",
          "August",
          "January",
          "March",
          "July",
          "March",
          "August",
          "April",
          "March",
          "July",
          "May",
          "March",
          "May",
          "June",
          "July",
          "June",
          "May",
          "May",
          "August",
          "April",
          "May",
          "August",
          "August",
          "May",
          "February",
          "June",
          "May",
          "April",
          "July",
          "January",
          "August",
          "February",
          "March",
          "June",
          "January",
          "July",
          "January",
          "August",
          "August",
          "June",
          "January",
          "April",
          "March",
          "February",
          "March",
          "July",
          "June",
          "August",
          "August",
          "January",
          "April",
          "April",
          "January",
          "May",
          "August",
          "January",
          "August",
          "March",
          "March",
          "April",
          "June",
          "July",
          "August",
          "August",
          "May",
          "January",
          "February",
          "June",
          "March",
          "February",
          "March",
          "June",
          "August",
          "July",
          "March",
          "April",
          "January",
          "January",
          "February",
          "February",
          "March",
          "January",
          "May",
          "January",
          "April",
          "February",
          "August",
          "August",
          "June",
          "June",
          "April",
          "April",
          "January",
          "August",
          "February",
          "February",
          "January",
          "May",
          "February",
          "April",
          "July",
          "January",
          "August",
          "January",
          "March",
          "January",
          "February",
          "April",
          "July",
          "April",
          "March",
          "August",
          "June",
          "June",
          "July",
          "August",
          "February",
          "August",
          "May",
          "July",
          "January",
          "January",
          "June",
          "June",
          "August",
          "March",
          "January",
          "February",
          "February",
          "February",
          "March",
          "January",
          "July",
          "January",
          "July",
          "March",
          "August",
          "June",
          "July",
          "February",
          "June",
          "June",
          "August",
          "January",
          "March",
          "June",
          "August",
          "January",
          "April",
          "April",
          "May",
          "July",
          "February",
          "July",
          "August",
          "August",
          "June",
          "January",
          "June",
          "August",
          "June",
          "June",
          "July",
          "May",
          "August",
          "April",
          "July",
          "August",
          "January",
          "February",
          "May",
          "June",
          "June",
          "May",
          "January",
          "May",
          "June",
          "March",
          "April",
          "May",
          "May",
          "May",
          "June",
          "March",
          "July",
          "August",
          "March",
          "April",
          "May",
          "January",
          "January",
          "July",
          "May",
          "July",
          "February",
          "May",
          "July",
          "June",
          "June",
          "March",
          "July",
          "May",
          "April",
          "April",
          "March",
          "January",
          "August",
          "July",
          "June",
          "April",
          "August",
          "August",
          "July",
          "March",
          "January",
          "April",
          "January",
          "July",
          "April",
          "August",
          "June",
          "July",
          "February",
          "April",
          "June",
          "March",
          "July",
          "May",
          "March",
          "July",
          "May",
          "March",
          "June",
          "May",
          "June",
          "April",
          "August",
          "February",
          "March",
          "August",
          "March",
          "June",
          "April",
          "January",
          "August",
          "June",
          "January",
          "April",
          "June",
          "February",
          "May",
          "March",
          "July",
          "July",
          "August",
          "June",
          "June",
          "August",
          "February",
          "February",
          "February",
          "February",
          "March",
          "August",
          "May",
          "January",
          "July",
          "June",
          "February",
          "May",
          "June",
          "July",
          "June",
          "May",
          "January",
          "June",
          "August",
          "January",
          "August",
          "April",
          "May",
          "April",
          "February",
          "March",
          "March",
          "July",
          "March",
          "August",
          "May",
          "May",
          "August",
          "April",
          "August",
          "January",
          "February",
          "May",
          "March",
          "January",
          "March",
          "June",
          "March",
          "May",
          "July",
          "March",
          "March",
          "June",
          "January",
          "January",
          "July",
          "May",
          "February",
          "May",
          "February",
          "January",
          "June",
          "January",
          "June",
          "March",
          "June",
          "March",
          "April",
          "January",
          "April",
          "August",
          "April",
          "July",
          "March",
          "May",
          "August",
          "July",
          "April",
          "January",
          "April",
          "January",
          "August",
          "June",
          "June",
          "February",
          "February",
          "January",
          "May",
          "April",
          "August",
          "August",
          "July",
          "April",
          "May",
          "July",
          "August",
          "June",
          "July",
          "April",
          "August",
          "January",
          "August",
          "January",
          "April",
          "July",
          "March",
          "February",
          "January",
          "January",
          "June",
          "May",
          "June",
          "January",
          "July",
          "April",
          "June",
          "April",
          "May",
          "April",
          "August",
          "August",
          "April",
          "August",
          "January",
          "January",
          "May",
          "February",
          "May",
          "February",
          "May",
          "June",
          "March",
          "February",
          "July",
          "March",
          "August",
          "January",
          "May",
          "June",
          "May",
          "March",
          "February",
          "May",
          "January",
          "June",
          "July",
          "May",
          "March",
          "August",
          "February",
          "June",
          "May",
          "June",
          "February",
          "August",
          "June",
          "April",
          "July",
          "January",
          "February",
          "July",
          "June",
          "April",
          "February",
          "May",
          "April",
          "June",
          "June",
          "July",
          "June",
          "January",
          "March",
          "January",
          "June",
          "June",
          "July",
          "June",
          "August",
          "April",
          "August",
          "August",
          "January",
          "August",
          "May",
          "July",
          "March",
          "July",
          "August",
          "March",
          "April",
          "February",
          "July",
          "January",
          "April",
          "May",
          "February",
          "May",
          "January",
          "July",
          "April",
          "January",
          "April",
          "June",
          "August",
          "June",
          "June",
          "August",
          "August",
          "August",
          "March",
          "April",
          "June",
          "February",
          "August",
          "February",
          "May",
          "June",
          "June",
          "March",
          "March",
          "January",
          "July",
          "March",
          "May",
          "March",
          "July",
          "August",
          "February",
          "April",
          "February",
          "March",
          "April",
          "April",
          "March",
          "June",
          "February",
          "April",
          "February",
          "August",
          "April",
          "January",
          "January",
          "August",
          "January",
          "February",
          "January",
          "August",
          "February",
          "February",
          "March",
          "June",
          "April",
          "July",
          "June",
          "January",
          "February",
          "June",
          "August",
          "January",
          "April",
          "March",
          "June",
          "February",
          "July",
          "January",
          "March",
          "May",
          "July",
          "February",
          "May",
          "April",
          "February",
          "May",
          "June",
          "July",
          "June",
          "July",
          "June",
          "April",
          "August",
          "March",
          "July",
          "February",
          "May",
          "July",
          "August",
          "June",
          "July",
          "August",
          "June",
          "March",
          "April",
          "May",
          "May",
          "January",
          "March",
          "February",
          "January",
          "March",
          "May",
          "August",
          "April",
          "April",
          "May",
          "January",
          "May",
          "April",
          "January",
          "March",
          "July",
          "April",
          "August",
          "March",
          "May",
          "May",
          "January",
          "March",
          "March",
          "May",
          "January",
          "May",
          "August",
          "May",
          "June",
          "July",
          "July",
          "May"
         ],
         "name": "",
         "parents": [
          "Tuesday",
          "Monday",
          "Thursday",
          "Wednesday",
          "Thursday",
          "Monday",
          "Tuesday",
          "Thursday",
          "Wednesday",
          "Monday",
          "Thursday",
          "Thursday",
          "Thursday",
          "Thursday",
          "Wednesday",
          "Wednesday",
          "Monday",
          "Tuesday",
          "Wednesday",
          "Wednesday",
          "Monday",
          "Thursday",
          "Monday",
          "Monday",
          "Monday",
          "Wednesday",
          "Wednesday",
          "Thursday",
          "Tuesday",
          "Wednesday",
          "Tuesday",
          "Wednesday",
          "Wednesday",
          "Thursday",
          "Wednesday",
          "Friday",
          "Wednesday",
          "Thursday",
          "Thursday",
          "Monday",
          "Thursday",
          "Friday",
          "Monday",
          "Wednesday",
          "Monday",
          "Wednesday",
          "Thursday",
          "Monday",
          "Friday",
          "Thursday",
          "Thursday",
          "Monday",
          "Tuesday",
          "Tuesday",
          "Tuesday",
          "Friday",
          "Monday",
          "Wednesday",
          "Thursday",
          "Thursday",
          "Tuesday",
          "Monday",
          "Thursday",
          "Wednesday",
          "Friday",
          "Thursday",
          "Wednesday",
          "Monday",
          "Friday",
          "Friday",
          "Wednesday",
          "Monday",
          "Friday",
          "Monday",
          "Friday",
          "Wednesday",
          "Friday",
          "Thursday",
          "Monday",
          "Thursday",
          "Thursday",
          "Tuesday",
          "Monday",
          "Wednesday",
          "Monday",
          "Monday",
          "Thursday",
          "Monday",
          "Tuesday",
          "Monday",
          "Thursday",
          "Thursday",
          "Tuesday",
          "Thursday",
          "Friday",
          "Friday",
          "Monday",
          "Wednesday",
          "Wednesday",
          "Friday",
          "Monday",
          "Friday",
          "Tuesday",
          "Monday",
          "Friday",
          "Tuesday",
          "Thursday",
          "Friday",
          "Tuesday",
          "Tuesday",
          "Wednesday",
          "Wednesday",
          "Wednesday",
          "Monday",
          "Wednesday",
          "Wednesday",
          "Friday",
          "Wednesday",
          "Monday",
          "Wednesday",
          "Thursday",
          "Wednesday",
          "Thursday",
          "Thursday",
          "Tuesday",
          "Friday",
          "Thursday",
          "Wednesday",
          "Tuesday",
          "Thursday",
          "Monday",
          "Wednesday",
          "Thursday",
          "Monday",
          "Monday",
          "Monday",
          "Wednesday",
          "Wednesday",
          "Monday",
          "Monday",
          "Monday",
          "Tuesday",
          "Tuesday",
          "Tuesday",
          "Tuesday",
          "Tuesday",
          "Tuesday",
          "Tuesday",
          "Monday",
          "Monday",
          "Friday",
          "Monday",
          "Thursday",
          "Wednesday",
          "Tuesday",
          "Monday",
          "Tuesday",
          "Tuesday",
          "Monday",
          "Wednesday",
          "Tuesday",
          "Monday",
          "Friday",
          "Friday",
          "Friday",
          "Tuesday",
          "Wednesday",
          "Friday",
          "Wednesday",
          "Wednesday",
          "Thursday",
          "Friday",
          "Tuesday",
          "Monday",
          "Friday",
          "Monday",
          "Wednesday",
          "Monday",
          "Thursday",
          "Friday",
          "Monday",
          "Monday",
          "Wednesday",
          "Friday",
          "Tuesday",
          "Monday",
          "Tuesday",
          "Monday",
          "Thursday",
          "Friday",
          "Tuesday",
          "Wednesday",
          "Friday",
          "Thursday",
          "Tuesday",
          "Thursday",
          "Friday",
          "Wednesday",
          "Thursday",
          "Tuesday",
          "Thursday",
          "Monday",
          "Wednesday",
          "Wednesday",
          "Wednesday",
          "Tuesday",
          "Monday",
          "Wednesday",
          "Friday",
          "Wednesday",
          "Wednesday",
          "Thursday",
          "Friday",
          "Wednesday",
          "Wednesday",
          "Wednesday",
          "Monday",
          "Tuesday",
          "Tuesday",
          "Monday",
          "Wednesday",
          "Friday",
          "Friday",
          "Wednesday",
          "Friday",
          "Monday",
          "Thursday",
          "Tuesday",
          "Friday",
          "Friday",
          "Friday",
          "Wednesday",
          "Monday",
          "Friday",
          "Thursday",
          "Friday",
          "Monday",
          "Monday",
          "Wednesday",
          "Friday",
          "Tuesday",
          "Monday",
          "Monday",
          "Tuesday",
          "Friday",
          "Wednesday",
          "Wednesday",
          "Thursday",
          "Wednesday",
          "Friday",
          "Wednesday",
          "Friday",
          "Monday",
          "Monday",
          "Monday",
          "Wednesday",
          "Tuesday",
          "Tuesday",
          "Monday",
          "Monday",
          "Monday",
          "Friday",
          "Wednesday",
          "Monday",
          "Wednesday",
          "Wednesday",
          "Thursday",
          "Tuesday",
          "Tuesday",
          "Wednesday",
          "Monday",
          "Wednesday",
          "Tuesday",
          "Tuesday",
          "Monday",
          "Friday",
          "Friday",
          "Wednesday",
          "Thursday",
          "Monday",
          "Wednesday",
          "Friday",
          "Wednesday",
          "Monday",
          "Friday",
          "Thursday",
          "Friday",
          "Friday",
          "Wednesday",
          "Wednesday",
          "Tuesday",
          "Wednesday",
          "Wednesday",
          "Thursday",
          "Wednesday",
          "Friday",
          "Friday",
          "Monday",
          "Tuesday",
          "Friday",
          "Thursday",
          "Friday",
          "Monday",
          "Wednesday",
          "Tuesday",
          "Thursday",
          "Monday",
          "Thursday",
          "Wednesday",
          "Wednesday",
          "Tuesday",
          "Thursday",
          "Tuesday",
          "Wednesday",
          "Wednesday",
          "Thursday",
          "Friday",
          "Tuesday",
          "Monday",
          "Thursday",
          "Thursday",
          "Wednesday",
          "Wednesday",
          "Wednesday",
          "Thursday",
          "Tuesday",
          "Tuesday",
          "Thursday",
          "Tuesday",
          "Friday",
          "Thursday",
          "Thursday",
          "Wednesday",
          "Thursday",
          "Monday",
          "Monday",
          "Tuesday",
          "Friday",
          "Thursday",
          "Monday",
          "Wednesday",
          "Tuesday",
          "Thursday",
          "Monday",
          "Wednesday",
          "Monday",
          "Friday",
          "Monday",
          "Monday",
          "Monday",
          "Thursday",
          "Tuesday",
          "Friday",
          "Monday",
          "Tuesday",
          "Friday",
          "Monday",
          "Thursday",
          "Wednesday",
          "Tuesday",
          "Monday",
          "Friday",
          "Thursday",
          "Friday",
          "Monday",
          "Tuesday",
          "Monday",
          "Monday",
          "Friday",
          "Friday",
          "Monday",
          "Wednesday",
          "Friday",
          "Tuesday",
          "Monday",
          "Thursday",
          "Thursday",
          "Tuesday",
          "Wednesday",
          "Tuesday",
          "Monday",
          "Tuesday",
          "Tuesday",
          "Friday",
          "Tuesday",
          "Tuesday",
          "Tuesday",
          "Monday",
          "Friday",
          "Thursday",
          "Tuesday",
          "Monday",
          "Tuesday",
          "Thursday",
          "Monday",
          "Wednesday",
          "Tuesday",
          "Monday",
          "Monday",
          "Wednesday",
          "Thursday",
          "Wednesday",
          "Friday",
          "Friday",
          "Monday",
          "Tuesday",
          "Friday",
          "Friday",
          "Wednesday",
          "Tuesday",
          "Wednesday",
          "Thursday",
          "Friday",
          "Tuesday",
          "Wednesday",
          "Friday",
          "Monday",
          "Friday",
          "Monday",
          "Friday",
          "Tuesday",
          "Monday",
          "Thursday",
          "Tuesday",
          "Wednesday",
          "Wednesday",
          "Tuesday",
          "Monday",
          "Monday",
          "Friday",
          "Wednesday",
          "Monday",
          "Thursday",
          "Monday",
          "Thursday",
          "Wednesday",
          "Monday",
          "Wednesday",
          "Thursday",
          "Friday",
          "Tuesday",
          "Thursday",
          "Friday",
          "Monday",
          "Tuesday",
          "Tuesday",
          "Thursday",
          "Friday",
          "Wednesday",
          "Friday",
          "Friday",
          "Friday",
          "Monday",
          "Tuesday",
          "Tuesday",
          "Tuesday",
          "Tuesday",
          "Thursday",
          "Monday",
          "Wednesday",
          "Tuesday",
          "Friday",
          "Tuesday",
          "Monday",
          "Wednesday",
          "Monday",
          "Tuesday",
          "Tuesday",
          "Thursday",
          "Monday",
          "Thursday",
          "Friday",
          "Tuesday",
          "Monday",
          "Friday",
          "Tuesday",
          "Monday",
          "Monday",
          "Friday",
          "Monday",
          "Monday",
          "Thursday",
          "Wednesday",
          "Wednesday",
          "Thursday",
          "Tuesday",
          "Wednesday",
          "Thursday",
          "Thursday",
          "Thursday",
          "Friday",
          "Thursday",
          "Thursday",
          "Monday",
          "Friday",
          "Thursday",
          "Friday",
          "Friday",
          "Friday",
          "Tuesday",
          "Thursday",
          "Thursday",
          "Wednesday",
          "Thursday",
          "Monday",
          "Tuesday",
          "Thursday",
          "Monday",
          "Monday",
          "Monday",
          "Thursday",
          "Wednesday",
          "Monday",
          "Thursday",
          "Monday",
          "Thursday",
          "Thursday",
          "Wednesday",
          "Wednesday",
          "Thursday",
          "Tuesday",
          "Monday",
          "Monday",
          "Tuesday",
          "Monday",
          "Wednesday",
          "Monday",
          "Friday",
          "Monday",
          "Thursday",
          "Thursday",
          "Monday",
          "Tuesday",
          "Wednesday",
          "Monday",
          "Tuesday",
          "Tuesday",
          "Friday",
          "Tuesday",
          "Thursday",
          "Tuesday",
          "Friday",
          "Wednesday",
          "Thursday",
          "Friday",
          "Tuesday",
          "Wednesday",
          "Thursday",
          "Monday",
          "Thursday",
          "Monday",
          "Wednesday",
          "Thursday",
          "Wednesday",
          "Wednesday",
          "Friday",
          "Thursday",
          "Tuesday",
          "Friday",
          "Thursday",
          "Friday",
          "Tuesday",
          "Friday",
          "Friday",
          "Friday",
          "Tuesday",
          "Tuesday",
          "Monday",
          "Wednesday",
          "Tuesday",
          "Monday",
          "Monday",
          "Friday",
          "Friday",
          "Thursday",
          "Monday",
          "Wednesday",
          "Wednesday",
          "Tuesday",
          "Wednesday",
          "Friday",
          "Tuesday",
          "Wednesday",
          "Thursday",
          "Thursday",
          "Wednesday",
          "Wednesday",
          "Monday",
          "Monday",
          "Tuesday",
          "Tuesday",
          "Monday",
          "Tuesday",
          "Friday",
          "Monday",
          "Wednesday",
          "Monday",
          "Tuesday",
          "Friday",
          "Thursday",
          "Friday",
          "Wednesday",
          "Tuesday",
          "Monday",
          "Tuesday",
          "Monday",
          "Monday",
          "Monday",
          "Friday",
          "Tuesday",
          "Wednesday",
          "Wednesday",
          "Tuesday",
          "Wednesday",
          "Friday",
          "Wednesday",
          "Wednesday",
          "Tuesday",
          "Wednesday",
          "Monday",
          "Thursday",
          "Friday",
          "Wednesday",
          "Monday",
          "Wednesday",
          "Tuesday",
          "Thursday",
          "Thursday",
          "Tuesday",
          "Thursday",
          "Friday",
          "Thursday",
          "Thursday",
          "Friday",
          "Tuesday",
          "Wednesday",
          "Wednesday",
          "Tuesday",
          "Monday",
          "Wednesday",
          "Tuesday",
          "Tuesday",
          "Thursday",
          "Thursday",
          "Thursday",
          "Tuesday",
          "Wednesday",
          "Friday",
          "Tuesday",
          "Tuesday",
          "Thursday",
          "Monday",
          "Wednesday",
          "Thursday",
          "Tuesday",
          "Thursday",
          "Thursday",
          "Monday",
          "Friday",
          "Thursday",
          "Monday",
          "Tuesday",
          "Tuesday",
          "Friday",
          "Wednesday",
          "Thursday",
          "Friday",
          "Friday",
          "Thursday",
          "Thursday",
          "Tuesday",
          "Monday",
          "Thursday",
          "Wednesday",
          "Tuesday",
          "Wednesday",
          "Wednesday",
          "Tuesday",
          "Tuesday",
          "Wednesday",
          "Thursday",
          "Wednesday",
          "Monday",
          "Monday",
          "Monday",
          "Monday",
          "Monday",
          "Tuesday",
          "Thursday",
          "Monday",
          "Wednesday",
          "Friday",
          "Monday",
          "Monday",
          "Monday",
          "Monday",
          "Friday",
          "Friday",
          "Wednesday",
          "Tuesday",
          "Monday",
          "Tuesday",
          "Wednesday",
          "Tuesday",
          "Thursday",
          "Monday",
          "Tuesday",
          "Thursday",
          "Tuesday",
          "Monday",
          "Tuesday",
          "Wednesday",
          "Thursday",
          "Friday",
          "Monday",
          "Thursday",
          "Monday",
          "Friday",
          "Tuesday",
          "Monday",
          "Monday",
          "Monday",
          "Tuesday",
          "Tuesday",
          "Friday",
          "Wednesday",
          "Monday",
          "Friday",
          "Monday",
          "Monday",
          "Monday",
          "Friday",
          "Tuesday",
          "Wednesday",
          "Tuesday",
          "Thursday",
          "Monday",
          "Friday",
          "Tuesday",
          "Thursday",
          "Friday",
          "Wednesday",
          "Wednesday",
          "Monday",
          "Tuesday",
          "Friday",
          "Wednesday",
          "Thursday",
          "Thursday",
          "Thursday",
          "Wednesday",
          "Monday",
          "Thursday",
          "Monday",
          "Friday",
          "Tuesday",
          "Friday",
          "Tuesday",
          "Friday",
          "Friday",
          "Monday",
          "Friday",
          "Tuesday",
          "Thursday",
          "Monday",
          "Friday",
          "Wednesday",
          "Monday",
          "Friday",
          "Friday",
          "Monday",
          "Tuesday",
          "Tuesday",
          "Tuesday",
          "Monday",
          "Thursday",
          "Friday",
          "Tuesday",
          "Monday",
          "Tuesday",
          "Monday",
          "Friday",
          "Wednesday",
          "Monday",
          "Monday",
          "Monday",
          "Monday",
          "Friday",
          "Monday",
          "Thursday",
          "Thursday",
          "Monday",
          "Monday",
          "Thursday",
          "Tuesday",
          "Friday",
          "Monday",
          "Wednesday",
          "Wednesday",
          "Thursday",
          "Thursday",
          "Thursday",
          "Tuesday",
          "Wednesday",
          "Wednesday",
          "Monday",
          "Tuesday",
          "Monday",
          "Monday",
          "Monday",
          "Wednesday",
          "Monday",
          "Thursday",
          "Thursday",
          "Tuesday",
          "Friday",
          "Monday",
          "Wednesday",
          "Friday",
          "Thursday",
          "Thursday",
          "Friday",
          "Friday",
          "Friday",
          "Thursday",
          "Friday",
          "Friday",
          "Friday",
          "Wednesday",
          "Thursday",
          "Monday",
          "Tuesday",
          "Friday",
          "Monday",
          "Tuesday",
          "Wednesday",
          "Wednesday",
          "Tuesday",
          "Tuesday",
          "Thursday",
          "Tuesday",
          "Monday",
          "Tuesday",
          "Wednesday",
          "Thursday",
          "Tuesday",
          "Monday",
          "Monday",
          "Monday",
          "Thursday",
          "Thursday",
          "Thursday",
          "Wednesday",
          "Thursday",
          "Thursday",
          "Thursday",
          "Monday",
          "Monday",
          "Friday",
          "Thursday",
          "Monday",
          "Thursday",
          "Tuesday",
          "Wednesday",
          "Tuesday",
          "Tuesday",
          "Thursday",
          "Wednesday",
          "Thursday",
          "Thursday",
          "Friday",
          "Thursday",
          "Friday",
          "Wednesday",
          "Friday",
          "Wednesday",
          "Thursday",
          "Monday",
          "Thursday",
          "Friday",
          "Thursday",
          "Monday",
          "Tuesday",
          "Friday",
          "Thursday",
          "Wednesday",
          "Monday",
          "Monday",
          "Friday",
          "Wednesday",
          "Tuesday",
          "Thursday",
          "Wednesday",
          "Wednesday",
          "Friday",
          "Thursday",
          "Friday",
          "Thursday",
          "Tuesday",
          "Thursday",
          "Thursday",
          "Wednesday",
          "Friday",
          "Friday",
          "Friday",
          "Friday",
          "Thursday",
          "Friday",
          "Monday",
          "Thursday",
          "Tuesday",
          "Tuesday",
          "Wednesday",
          "Monday",
          "Monday",
          "Monday",
          "Wednesday",
          "Wednesday",
          "Friday",
          "Tuesday",
          "Friday",
          "Thursday",
          "Tuesday",
          "Tuesday",
          "Tuesday",
          "Thursday",
          "Wednesday",
          "Tuesday",
          "Thursday",
          "Wednesday",
          "Monday",
          "Wednesday",
          "Friday",
          "Tuesday",
          "Monday",
          "Friday",
          "Thursday",
          "Wednesday",
          "Wednesday",
          "Monday",
          "Monday",
          "Thursday",
          "Friday",
          "Wednesday",
          "Thursday",
          "Friday",
          "Monday",
          "Friday",
          "Friday",
          "Thursday",
          "Tuesday",
          "Monday",
          "Wednesday",
          "Wednesday",
          "Wednesday",
          "Tuesday",
          "Wednesday",
          "Monday",
          "Tuesday",
          "Thursday",
          "Thursday",
          "Thursday",
          "Wednesday",
          "Wednesday",
          "Wednesday",
          "Monday",
          "Wednesday",
          "Tuesday",
          "Monday",
          "Friday",
          "Monday",
          "Monday",
          "Thursday",
          "Tuesday",
          "Tuesday",
          "Friday",
          "Wednesday",
          "Wednesday",
          "Friday",
          "Tuesday",
          "Thursday",
          "Wednesday",
          "Monday",
          "Wednesday",
          "Thursday",
          "Friday",
          "Tuesday",
          "Thursday",
          "Tuesday",
          "Tuesday",
          "Thursday",
          "Friday",
          "Monday",
          "Monday",
          "Wednesday",
          "Wednesday",
          "Monday",
          "Monday",
          "Tuesday",
          "Tuesday",
          "Thursday",
          "Monday",
          "Monday",
          "Monday",
          "Tuesday",
          "Thursday",
          "Tuesday",
          "Wednesday",
          "Friday",
          "Monday",
          "Thursday",
          "Wednesday",
          "Monday",
          "Wednesday",
          "Monday",
          "Friday",
          "Tuesday",
          "Wednesday",
          "Tuesday",
          "Friday",
          "Thursday",
          "Tuesday",
          "Wednesday",
          "Monday",
          "Wednesday",
          "Tuesday",
          "Friday",
          "Wednesday",
          "Wednesday",
          "Monday",
          "Tuesday",
          "Wednesday",
          "Thursday",
          "Wednesday",
          "Thursday",
          "Monday",
          "Monday",
          "Monday",
          "Wednesday",
          "Wednesday",
          "Thursday",
          "Monday",
          "Tuesday",
          "Wednesday",
          "Wednesday",
          "Thursday",
          "Monday",
          "Tuesday",
          "Monday",
          "Wednesday",
          "Monday",
          "Thursday",
          "Thursday",
          "Wednesday",
          "Tuesday",
          "Friday",
          "Tuesday",
          "Tuesday",
          "Friday",
          "Friday",
          "Tuesday",
          "Thursday",
          "Tuesday",
          "Wednesday",
          "Friday",
          "Monday",
          "Tuesday",
          "Monday",
          "Tuesday",
          "Friday",
          "Thursday",
          "Monday",
          "Wednesday",
          "Tuesday",
          "Monday",
          "Tuesday",
          "Tuesday",
          "Wednesday",
          "Friday",
          "Friday",
          "Friday",
          "Thursday",
          "Wednesday",
          "Tuesday",
          "Monday",
          "Tuesday",
          "Friday",
          "Tuesday",
          "Friday",
          "Tuesday",
          "Tuesday",
          "Tuesday",
          "Thursday",
          "Monday"
         ],
         "type": "sunburst",
         "values": [
          180,
          94,
          91,
          342,
          184,
          38,
          176,
          73,
          59,
          102,
          62,
          11,
          286,
          156,
          173,
          356,
          42,
          140,
          250,
          172,
          88,
          157,
          163,
          113,
          115,
          321,
          186,
          112,
          151,
          301,
          121,
          150,
          94,
          133,
          70,
          315,
          314,
          72,
          14,
          581,
          16,
          354,
          241,
          142,
          102,
          188,
          160,
          18,
          303,
          176,
          70,
          23,
          135,
          83,
          179,
          24,
          18,
          416,
          55,
          227,
          48,
          174,
          302,
          149,
          11,
          11,
          14,
          411,
          56,
          102,
          103,
          9,
          241,
          265,
          214,
          32,
          244,
          181,
          137,
          24,
          21,
          311,
          181,
          10,
          82,
          108,
          401,
          408,
          420,
          348,
          270,
          9,
          264,
          111,
          65,
          97,
          6,
          482,
          106,
          180,
          31,
          359,
          80,
          296,
          101,
          40,
          42,
          167,
          138,
          520,
          94,
          175,
          92,
          141,
          283,
          21,
          47,
          125,
          396,
          87,
          27,
          547,
          118,
          46,
          57,
          22,
          96,
          44,
          188,
          387,
          50,
          264,
          7,
          90,
          403,
          174,
          140,
          27,
          110,
          30,
          121,
          101,
          117,
          272,
          128,
          45,
          27,
          212,
          18,
          149,
          477,
          108,
          178,
          81,
          196,
          447,
          175,
          136,
          138,
          184,
          82,
          12,
          14,
          104,
          46,
          112,
          11,
          21,
          116,
          202,
          6,
          520,
          167,
          72,
          418,
          389,
          26,
          146,
          41,
          54,
          370,
          176,
          210,
          12,
          159,
          187,
          233,
          282,
          475,
          65,
          311,
          43,
          26,
          84,
          78,
          100,
          66,
          265,
          141,
          42,
          76,
          190,
          54,
          32,
          424,
          134,
          92,
          48,
          46,
          62,
          358,
          249,
          88,
          144,
          390,
          79,
          122,
          135,
          430,
          69,
          125,
          154,
          286,
          99,
          433,
          19,
          258,
          92,
          200,
          61,
          246,
          56,
          87,
          173,
          252,
          256,
          54,
          6,
          55,
          277,
          44,
          96,
          216,
          424,
          37,
          59,
          76,
          109,
          146,
          185,
          27,
          69,
          46,
          170,
          179,
          126,
          65,
          99,
          275,
          157,
          157,
          145,
          139,
          406,
          122,
          38,
          117,
          417,
          57,
          125,
          166,
          3,
          72,
          95,
          22,
          100,
          312,
          86,
          7,
          149,
          18,
          242,
          102,
          158,
          128,
          96,
          209,
          52,
          55,
          108,
          51,
          216,
          318,
          238,
          238,
          315,
          72,
          3,
          45,
          184,
          127,
          53,
          172,
          87,
          22,
          122,
          125,
          259,
          156,
          107,
          40,
          311,
          73,
          288,
          86,
          72,
          136,
          303,
          264,
          218,
          60,
          418,
          151,
          202,
          126,
          160,
          3,
          58,
          59,
          273,
          28,
          118,
          75,
          329,
          69,
          395,
          81,
          38,
          96,
          195,
          554,
          47,
          152,
          134,
          112,
          16,
          84,
          99,
          371,
          136,
          203,
          183,
          195,
          135,
          197,
          242,
          25,
          252,
          415,
          348,
          211,
          81,
          145,
          74,
          21,
          101,
          91,
          54,
          368,
          409,
          104,
          164,
          76,
          178,
          31,
          352,
          169,
          223,
          146,
          112,
          284,
          139,
          309,
          100,
          42,
          24,
          83,
          234,
          118,
          46,
          144,
          47,
          41,
          275,
          370,
          138,
          215,
          134,
          336,
          280,
          352,
          150,
          177,
          142,
          12,
          24,
          183,
          147,
          137,
          13,
          2,
          261,
          84,
          68,
          105,
          40,
          65,
          107,
          227,
          39,
          84,
          100,
          120,
          257,
          85,
          178,
          151,
          142,
          226,
          341,
          140,
          330,
          73,
          4,
          285,
          60,
          101,
          58,
          45,
          281,
          138,
          322,
          85,
          409,
          182,
          467,
          14,
          178,
          191,
          317,
          410,
          137,
          12,
          254,
          24,
          232,
          233,
          118,
          543,
          223,
          204,
          65,
          53,
          469,
          213,
          5,
          147,
          74,
          163,
          248,
          138,
          151,
          139,
          103,
          129,
          102,
          37,
          31,
          227,
          145,
          90,
          59,
          60,
          148,
          22,
          142,
          93,
          208,
          42,
          120,
          159,
          316,
          47,
          233,
          384,
          4,
          260,
          22,
          18,
          42,
          73,
          154,
          71,
          127,
          224,
          223,
          284,
          73,
          112,
          85,
          270,
          45,
          153,
          7,
          51,
          67,
          194,
          116,
          41,
          111,
          334,
          155,
          407,
          52,
          138,
          70,
          149,
          179,
          353,
          97,
          60,
          5,
          182,
          114,
          46,
          320,
          178,
          170,
          67,
          301,
          134,
          211,
          151,
          208,
          134,
          49,
          204,
          34,
          91,
          130,
          107,
          121,
          339,
          321,
          9,
          69,
          72,
          392,
          158,
          9,
          347,
          114,
          120,
          333,
          432,
          236,
          135,
          97,
          168,
          402,
          10,
          84,
          69,
          111,
          89,
          199,
          89,
          131,
          227,
          301,
          316,
          390,
          223,
          101,
          479,
          287,
          269,
          277,
          67,
          135,
          229,
          88,
          211,
          293,
          179,
          129,
          164,
          219,
          258,
          116,
          204,
          321,
          56,
          74,
          189,
          131,
          15,
          140,
          198,
          103,
          187,
          125,
          8,
          70,
          126,
          265,
          296,
          21,
          83,
          162,
          145,
          44,
          82,
          226,
          207,
          176,
          286,
          300,
          235,
          125,
          145,
          65,
          102,
          93,
          134,
          189,
          232,
          45,
          67,
          138,
          99,
          251,
          252,
          78,
          130,
          154,
          52,
          53,
          50,
          44,
          200,
          361,
          172,
          239,
          55,
          27,
          7,
          301,
          134,
          350,
          33,
          23,
          201,
          323,
          220,
          488,
          84,
          79,
          344,
          7,
          88,
          275,
          512,
          113,
          275,
          47,
          276,
          212,
          145,
          31,
          271,
          52,
          128,
          142,
          256,
          106,
          6,
          226,
          121,
          151,
          284,
          89,
          508,
          243,
          170,
          18,
          282,
          277,
          212,
          126,
          11,
          30,
          51,
          92,
          101,
          98,
          159,
          62,
          22,
          187,
          200,
          201,
          308,
          55,
          153,
          101,
          137,
          398,
          88,
          232,
          51,
          66,
          124,
          78,
          341,
          114,
          4,
          22,
          30,
          351,
          708,
          50,
          356,
          185,
          236,
          30,
          111,
          289,
          103,
          20,
          55,
          90,
          303,
          126,
          109,
          92,
          56,
          58,
          110,
          171,
          117,
          51,
          118,
          79,
          29,
          103,
          155,
          31,
          128,
          419,
          7,
          106,
          68,
          44,
          457,
          524,
          137,
          86,
          296,
          597,
          149,
          207,
          93,
          23,
          305,
          125,
          129,
          252,
          75,
          87,
          342,
          13,
          30,
          203,
          106,
          234,
          100,
          91,
          277,
          42,
          249,
          97,
          8,
          275,
          313,
          323,
          155,
          377,
          2,
          170,
          38,
          105,
          166,
          164,
          171,
          49,
          205,
          313,
          29,
          307,
          121,
          285,
          205,
          157,
          182,
          100,
          223,
          61,
          133,
          228,
          233,
          425,
          24,
          495,
          170,
          26,
          24,
          33,
          109,
          276,
          164,
          1,
          160,
          98,
          46,
          259,
          310,
          78,
          136,
          130,
          24,
          5,
          109,
          294,
          413,
          136,
          175,
          237,
          125,
          16,
          135,
          91,
          614,
          216,
          317,
          21,
          154,
          222,
          157,
          27,
          350,
          157,
          468,
          130,
          130,
          518,
          105,
          293,
          15,
          384,
          135,
          92,
          4,
          239,
          33,
          518,
          147,
          84,
          94,
          194,
          216,
          247,
          79,
          237,
          63,
          172,
          408,
          233,
          59,
          123,
          229,
          198,
          32,
          236,
          67,
          438,
          167,
          135,
          148,
          54,
          64,
          181,
          114,
          181,
          151,
          137,
          163,
          84,
          140,
          187,
          169,
          12,
          194,
          252,
          168,
          261,
          256,
          43,
          100,
          98,
          76,
          262,
          244,
          12,
          113,
          48,
          131,
          174,
          254,
          284,
          67,
          249,
          313,
          167,
          286,
          109,
          166,
          85,
          142,
          104,
          115,
          18,
          80,
          88,
          212,
          306,
          181,
          65,
          158,
          271,
          24,
          10,
          304,
          88,
          133,
          165,
          150,
          180,
          213,
          133,
          446,
          141,
          58,
          58,
          76,
          296,
          73,
          119,
          78,
          392,
          51,
          207,
          40,
          100,
          57,
          42,
          156,
          23,
          539,
          158,
          22,
          73,
          27,
          64,
          133,
          149,
          434,
          85,
          118,
          299,
          35,
          44,
          299,
          62,
          200,
          235,
          363,
          68,
          26,
          200,
          264,
          175,
          352,
          183,
          417,
          146,
          158,
          168,
          176,
          172,
          224,
          68,
          46,
          2,
          417,
          109,
          81,
          350,
          142,
          264,
          20,
          421,
          271,
          204,
          235,
          46,
          15,
          430,
          709,
          47,
          380,
          465,
          96,
          188,
          202,
          106,
          421,
          27,
          45,
          60,
          77,
          464,
          60,
          157,
          154,
          239,
          163,
          28,
          76,
          96,
          156,
          106,
          235,
          259,
          126,
          85,
          132,
          91,
          167,
          203,
          11,
          295,
          77,
          319,
          196,
          102,
          312,
          55,
          82,
          260,
          591,
          24,
          228,
          268,
          68,
          173,
          93,
          338,
          73,
          251,
          229,
          91,
          194,
          403,
          12,
          195,
          75,
          96,
          205,
          323,
          119,
          217,
          384,
          344
         ]
        }
       ],
       "layout": {
        "legend": {
         "tracegroupgap": 0
        },
        "margin": {
         "t": 60
        },
        "template": {
         "data": {
          "bar": [
           {
            "error_x": {
             "color": "#2a3f5f"
            },
            "error_y": {
             "color": "#2a3f5f"
            },
            "marker": {
             "line": {
              "color": "#E5ECF6",
              "width": 0.5
             },
             "pattern": {
              "fillmode": "overlay",
              "size": 10,
              "solidity": 0.2
             }
            },
            "type": "bar"
           }
          ],
          "barpolar": [
           {
            "marker": {
             "line": {
              "color": "#E5ECF6",
              "width": 0.5
             },
             "pattern": {
              "fillmode": "overlay",
              "size": 10,
              "solidity": 0.2
             }
            },
            "type": "barpolar"
           }
          ],
          "carpet": [
           {
            "aaxis": {
             "endlinecolor": "#2a3f5f",
             "gridcolor": "white",
             "linecolor": "white",
             "minorgridcolor": "white",
             "startlinecolor": "#2a3f5f"
            },
            "baxis": {
             "endlinecolor": "#2a3f5f",
             "gridcolor": "white",
             "linecolor": "white",
             "minorgridcolor": "white",
             "startlinecolor": "#2a3f5f"
            },
            "type": "carpet"
           }
          ],
          "choropleth": [
           {
            "colorbar": {
             "outlinewidth": 0,
             "ticks": ""
            },
            "type": "choropleth"
           }
          ],
          "contour": [
           {
            "colorbar": {
             "outlinewidth": 0,
             "ticks": ""
            },
            "colorscale": [
             [
              0,
              "#0d0887"
             ],
             [
              0.1111111111111111,
              "#46039f"
             ],
             [
              0.2222222222222222,
              "#7201a8"
             ],
             [
              0.3333333333333333,
              "#9c179e"
             ],
             [
              0.4444444444444444,
              "#bd3786"
             ],
             [
              0.5555555555555556,
              "#d8576b"
             ],
             [
              0.6666666666666666,
              "#ed7953"
             ],
             [
              0.7777777777777778,
              "#fb9f3a"
             ],
             [
              0.8888888888888888,
              "#fdca26"
             ],
             [
              1,
              "#f0f921"
             ]
            ],
            "type": "contour"
           }
          ],
          "contourcarpet": [
           {
            "colorbar": {
             "outlinewidth": 0,
             "ticks": ""
            },
            "type": "contourcarpet"
           }
          ],
          "heatmap": [
           {
            "colorbar": {
             "outlinewidth": 0,
             "ticks": ""
            },
            "colorscale": [
             [
              0,
              "#0d0887"
             ],
             [
              0.1111111111111111,
              "#46039f"
             ],
             [
              0.2222222222222222,
              "#7201a8"
             ],
             [
              0.3333333333333333,
              "#9c179e"
             ],
             [
              0.4444444444444444,
              "#bd3786"
             ],
             [
              0.5555555555555556,
              "#d8576b"
             ],
             [
              0.6666666666666666,
              "#ed7953"
             ],
             [
              0.7777777777777778,
              "#fb9f3a"
             ],
             [
              0.8888888888888888,
              "#fdca26"
             ],
             [
              1,
              "#f0f921"
             ]
            ],
            "type": "heatmap"
           }
          ],
          "heatmapgl": [
           {
            "colorbar": {
             "outlinewidth": 0,
             "ticks": ""
            },
            "colorscale": [
             [
              0,
              "#0d0887"
             ],
             [
              0.1111111111111111,
              "#46039f"
             ],
             [
              0.2222222222222222,
              "#7201a8"
             ],
             [
              0.3333333333333333,
              "#9c179e"
             ],
             [
              0.4444444444444444,
              "#bd3786"
             ],
             [
              0.5555555555555556,
              "#d8576b"
             ],
             [
              0.6666666666666666,
              "#ed7953"
             ],
             [
              0.7777777777777778,
              "#fb9f3a"
             ],
             [
              0.8888888888888888,
              "#fdca26"
             ],
             [
              1,
              "#f0f921"
             ]
            ],
            "type": "heatmapgl"
           }
          ],
          "histogram": [
           {
            "marker": {
             "pattern": {
              "fillmode": "overlay",
              "size": 10,
              "solidity": 0.2
             }
            },
            "type": "histogram"
           }
          ],
          "histogram2d": [
           {
            "colorbar": {
             "outlinewidth": 0,
             "ticks": ""
            },
            "colorscale": [
             [
              0,
              "#0d0887"
             ],
             [
              0.1111111111111111,
              "#46039f"
             ],
             [
              0.2222222222222222,
              "#7201a8"
             ],
             [
              0.3333333333333333,
              "#9c179e"
             ],
             [
              0.4444444444444444,
              "#bd3786"
             ],
             [
              0.5555555555555556,
              "#d8576b"
             ],
             [
              0.6666666666666666,
              "#ed7953"
             ],
             [
              0.7777777777777778,
              "#fb9f3a"
             ],
             [
              0.8888888888888888,
              "#fdca26"
             ],
             [
              1,
              "#f0f921"
             ]
            ],
            "type": "histogram2d"
           }
          ],
          "histogram2dcontour": [
           {
            "colorbar": {
             "outlinewidth": 0,
             "ticks": ""
            },
            "colorscale": [
             [
              0,
              "#0d0887"
             ],
             [
              0.1111111111111111,
              "#46039f"
             ],
             [
              0.2222222222222222,
              "#7201a8"
             ],
             [
              0.3333333333333333,
              "#9c179e"
             ],
             [
              0.4444444444444444,
              "#bd3786"
             ],
             [
              0.5555555555555556,
              "#d8576b"
             ],
             [
              0.6666666666666666,
              "#ed7953"
             ],
             [
              0.7777777777777778,
              "#fb9f3a"
             ],
             [
              0.8888888888888888,
              "#fdca26"
             ],
             [
              1,
              "#f0f921"
             ]
            ],
            "type": "histogram2dcontour"
           }
          ],
          "mesh3d": [
           {
            "colorbar": {
             "outlinewidth": 0,
             "ticks": ""
            },
            "type": "mesh3d"
           }
          ],
          "parcoords": [
           {
            "line": {
             "colorbar": {
              "outlinewidth": 0,
              "ticks": ""
             }
            },
            "type": "parcoords"
           }
          ],
          "pie": [
           {
            "automargin": true,
            "type": "pie"
           }
          ],
          "scatter": [
           {
            "fillpattern": {
             "fillmode": "overlay",
             "size": 10,
             "solidity": 0.2
            },
            "type": "scatter"
           }
          ],
          "scatter3d": [
           {
            "line": {
             "colorbar": {
              "outlinewidth": 0,
              "ticks": ""
             }
            },
            "marker": {
             "colorbar": {
              "outlinewidth": 0,
              "ticks": ""
             }
            },
            "type": "scatter3d"
           }
          ],
          "scattercarpet": [
           {
            "marker": {
             "colorbar": {
              "outlinewidth": 0,
              "ticks": ""
             }
            },
            "type": "scattercarpet"
           }
          ],
          "scattergeo": [
           {
            "marker": {
             "colorbar": {
              "outlinewidth": 0,
              "ticks": ""
             }
            },
            "type": "scattergeo"
           }
          ],
          "scattergl": [
           {
            "marker": {
             "colorbar": {
              "outlinewidth": 0,
              "ticks": ""
             }
            },
            "type": "scattergl"
           }
          ],
          "scattermapbox": [
           {
            "marker": {
             "colorbar": {
              "outlinewidth": 0,
              "ticks": ""
             }
            },
            "type": "scattermapbox"
           }
          ],
          "scatterpolar": [
           {
            "marker": {
             "colorbar": {
              "outlinewidth": 0,
              "ticks": ""
             }
            },
            "type": "scatterpolar"
           }
          ],
          "scatterpolargl": [
           {
            "marker": {
             "colorbar": {
              "outlinewidth": 0,
              "ticks": ""
             }
            },
            "type": "scatterpolargl"
           }
          ],
          "scatterternary": [
           {
            "marker": {
             "colorbar": {
              "outlinewidth": 0,
              "ticks": ""
             }
            },
            "type": "scatterternary"
           }
          ],
          "surface": [
           {
            "colorbar": {
             "outlinewidth": 0,
             "ticks": ""
            },
            "colorscale": [
             [
              0,
              "#0d0887"
             ],
             [
              0.1111111111111111,
              "#46039f"
             ],
             [
              0.2222222222222222,
              "#7201a8"
             ],
             [
              0.3333333333333333,
              "#9c179e"
             ],
             [
              0.4444444444444444,
              "#bd3786"
             ],
             [
              0.5555555555555556,
              "#d8576b"
             ],
             [
              0.6666666666666666,
              "#ed7953"
             ],
             [
              0.7777777777777778,
              "#fb9f3a"
             ],
             [
              0.8888888888888888,
              "#fdca26"
             ],
             [
              1,
              "#f0f921"
             ]
            ],
            "type": "surface"
           }
          ],
          "table": [
           {
            "cells": {
             "fill": {
              "color": "#EBF0F8"
             },
             "line": {
              "color": "white"
             }
            },
            "header": {
             "fill": {
              "color": "#C8D4E3"
             },
             "line": {
              "color": "white"
             }
            },
            "type": "table"
           }
          ]
         },
         "layout": {
          "annotationdefaults": {
           "arrowcolor": "#2a3f5f",
           "arrowhead": 0,
           "arrowwidth": 1
          },
          "autotypenumbers": "strict",
          "coloraxis": {
           "colorbar": {
            "outlinewidth": 0,
            "ticks": ""
           }
          },
          "colorscale": {
           "diverging": [
            [
             0,
             "#8e0152"
            ],
            [
             0.1,
             "#c51b7d"
            ],
            [
             0.2,
             "#de77ae"
            ],
            [
             0.3,
             "#f1b6da"
            ],
            [
             0.4,
             "#fde0ef"
            ],
            [
             0.5,
             "#f7f7f7"
            ],
            [
             0.6,
             "#e6f5d0"
            ],
            [
             0.7,
             "#b8e186"
            ],
            [
             0.8,
             "#7fbc41"
            ],
            [
             0.9,
             "#4d9221"
            ],
            [
             1,
             "#276419"
            ]
           ],
           "sequential": [
            [
             0,
             "#0d0887"
            ],
            [
             0.1111111111111111,
             "#46039f"
            ],
            [
             0.2222222222222222,
             "#7201a8"
            ],
            [
             0.3333333333333333,
             "#9c179e"
            ],
            [
             0.4444444444444444,
             "#bd3786"
            ],
            [
             0.5555555555555556,
             "#d8576b"
            ],
            [
             0.6666666666666666,
             "#ed7953"
            ],
            [
             0.7777777777777778,
             "#fb9f3a"
            ],
            [
             0.8888888888888888,
             "#fdca26"
            ],
            [
             1,
             "#f0f921"
            ]
           ],
           "sequentialminus": [
            [
             0,
             "#0d0887"
            ],
            [
             0.1111111111111111,
             "#46039f"
            ],
            [
             0.2222222222222222,
             "#7201a8"
            ],
            [
             0.3333333333333333,
             "#9c179e"
            ],
            [
             0.4444444444444444,
             "#bd3786"
            ],
            [
             0.5555555555555556,
             "#d8576b"
            ],
            [
             0.6666666666666666,
             "#ed7953"
            ],
            [
             0.7777777777777778,
             "#fb9f3a"
            ],
            [
             0.8888888888888888,
             "#fdca26"
            ],
            [
             1,
             "#f0f921"
            ]
           ]
          },
          "colorway": [
           "#636efa",
           "#EF553B",
           "#00cc96",
           "#ab63fa",
           "#FFA15A",
           "#19d3f3",
           "#FF6692",
           "#B6E880",
           "#FF97FF",
           "#FECB52"
          ],
          "font": {
           "color": "#2a3f5f"
          },
          "geo": {
           "bgcolor": "white",
           "lakecolor": "white",
           "landcolor": "#E5ECF6",
           "showlakes": true,
           "showland": true,
           "subunitcolor": "white"
          },
          "hoverlabel": {
           "align": "left"
          },
          "hovermode": "closest",
          "mapbox": {
           "style": "light"
          },
          "paper_bgcolor": "white",
          "plot_bgcolor": "#E5ECF6",
          "polar": {
           "angularaxis": {
            "gridcolor": "white",
            "linecolor": "white",
            "ticks": ""
           },
           "bgcolor": "#E5ECF6",
           "radialaxis": {
            "gridcolor": "white",
            "linecolor": "white",
            "ticks": ""
           }
          },
          "scene": {
           "xaxis": {
            "backgroundcolor": "#E5ECF6",
            "gridcolor": "white",
            "gridwidth": 2,
            "linecolor": "white",
            "showbackground": true,
            "ticks": "",
            "zerolinecolor": "white"
           },
           "yaxis": {
            "backgroundcolor": "#E5ECF6",
            "gridcolor": "white",
            "gridwidth": 2,
            "linecolor": "white",
            "showbackground": true,
            "ticks": "",
            "zerolinecolor": "white"
           },
           "zaxis": {
            "backgroundcolor": "#E5ECF6",
            "gridcolor": "white",
            "gridwidth": 2,
            "linecolor": "white",
            "showbackground": true,
            "ticks": "",
            "zerolinecolor": "white"
           }
          },
          "shapedefaults": {
           "line": {
            "color": "#2a3f5f"
           }
          },
          "ternary": {
           "aaxis": {
            "gridcolor": "white",
            "linecolor": "white",
            "ticks": ""
           },
           "baxis": {
            "gridcolor": "white",
            "linecolor": "white",
            "ticks": ""
           },
           "bgcolor": "#E5ECF6",
           "caxis": {
            "gridcolor": "white",
            "linecolor": "white",
            "ticks": ""
           }
          },
          "title": {
           "x": 0.05
          },
          "xaxis": {
           "automargin": true,
           "gridcolor": "white",
           "linecolor": "white",
           "ticks": "",
           "title": {
            "standoff": 15
           },
           "zerolinecolor": "white",
           "zerolinewidth": 2
          },
          "yaxis": {
           "automargin": true,
           "gridcolor": "white",
           "linecolor": "white",
           "ticks": "",
           "title": {
            "standoff": 15
           },
           "zerolinecolor": "white",
           "zerolinewidth": 2
          }
         }
        }
       }
      }
     },
     "metadata": {},
     "output_type": "display_data"
    }
   ],
   "source": [
    "fig4 = px.sunburst(\n",
    "    df,\n",
    "    names='Order Month',\n",
    "    parents='Order Day',\n",
    "    values='Boxes Shipped',\n",
    ")\n",
    "fig4.show()"
   ]
  }
 ],
 "metadata": {
  "kernelspec": {
   "display_name": "base",
   "language": "python",
   "name": "python3"
  },
  "language_info": {
   "codemirror_mode": {
    "name": "ipython",
    "version": 3
   },
   "file_extension": ".py",
   "mimetype": "text/x-python",
   "name": "python",
   "nbconvert_exporter": "python",
   "pygments_lexer": "ipython3",
   "version": "3.12.7"
  }
 },
 "nbformat": 4,
 "nbformat_minor": 2
}
