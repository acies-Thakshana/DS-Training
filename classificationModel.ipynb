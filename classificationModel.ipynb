{
 "cells": [
  {
   "cell_type": "code",
   "execution_count": 37,
   "metadata": {},
   "outputs": [
    {
     "data": {
      "text/html": [
       "<div>\n",
       "<style scoped>\n",
       "    .dataframe tbody tr th:only-of-type {\n",
       "        vertical-align: middle;\n",
       "    }\n",
       "\n",
       "    .dataframe tbody tr th {\n",
       "        vertical-align: top;\n",
       "    }\n",
       "\n",
       "    .dataframe thead th {\n",
       "        text-align: right;\n",
       "    }\n",
       "</style>\n",
       "<table border=\"1\" class=\"dataframe\">\n",
       "  <thead>\n",
       "    <tr style=\"text-align: right;\">\n",
       "      <th></th>\n",
       "      <th>id</th>\n",
       "      <th>age</th>\n",
       "      <th>bp</th>\n",
       "      <th>sg</th>\n",
       "      <th>al</th>\n",
       "      <th>su</th>\n",
       "      <th>rbc</th>\n",
       "      <th>pc</th>\n",
       "      <th>pcc</th>\n",
       "      <th>ba</th>\n",
       "      <th>...</th>\n",
       "      <th>pcv</th>\n",
       "      <th>wc</th>\n",
       "      <th>rc</th>\n",
       "      <th>htn</th>\n",
       "      <th>dm</th>\n",
       "      <th>cad</th>\n",
       "      <th>appet</th>\n",
       "      <th>pe</th>\n",
       "      <th>ane</th>\n",
       "      <th>classification</th>\n",
       "    </tr>\n",
       "  </thead>\n",
       "  <tbody>\n",
       "    <tr>\n",
       "      <th>0</th>\n",
       "      <td>0</td>\n",
       "      <td>48.0</td>\n",
       "      <td>80.0</td>\n",
       "      <td>1.020</td>\n",
       "      <td>1.0</td>\n",
       "      <td>0.0</td>\n",
       "      <td>NaN</td>\n",
       "      <td>normal</td>\n",
       "      <td>notpresent</td>\n",
       "      <td>notpresent</td>\n",
       "      <td>...</td>\n",
       "      <td>44</td>\n",
       "      <td>7800</td>\n",
       "      <td>5.2</td>\n",
       "      <td>yes</td>\n",
       "      <td>yes</td>\n",
       "      <td>no</td>\n",
       "      <td>good</td>\n",
       "      <td>no</td>\n",
       "      <td>no</td>\n",
       "      <td>ckd</td>\n",
       "    </tr>\n",
       "    <tr>\n",
       "      <th>1</th>\n",
       "      <td>1</td>\n",
       "      <td>7.0</td>\n",
       "      <td>50.0</td>\n",
       "      <td>1.020</td>\n",
       "      <td>4.0</td>\n",
       "      <td>0.0</td>\n",
       "      <td>NaN</td>\n",
       "      <td>normal</td>\n",
       "      <td>notpresent</td>\n",
       "      <td>notpresent</td>\n",
       "      <td>...</td>\n",
       "      <td>38</td>\n",
       "      <td>6000</td>\n",
       "      <td>NaN</td>\n",
       "      <td>no</td>\n",
       "      <td>no</td>\n",
       "      <td>no</td>\n",
       "      <td>good</td>\n",
       "      <td>no</td>\n",
       "      <td>no</td>\n",
       "      <td>ckd</td>\n",
       "    </tr>\n",
       "    <tr>\n",
       "      <th>2</th>\n",
       "      <td>2</td>\n",
       "      <td>62.0</td>\n",
       "      <td>80.0</td>\n",
       "      <td>1.010</td>\n",
       "      <td>2.0</td>\n",
       "      <td>3.0</td>\n",
       "      <td>normal</td>\n",
       "      <td>normal</td>\n",
       "      <td>notpresent</td>\n",
       "      <td>notpresent</td>\n",
       "      <td>...</td>\n",
       "      <td>31</td>\n",
       "      <td>7500</td>\n",
       "      <td>NaN</td>\n",
       "      <td>no</td>\n",
       "      <td>yes</td>\n",
       "      <td>no</td>\n",
       "      <td>poor</td>\n",
       "      <td>no</td>\n",
       "      <td>yes</td>\n",
       "      <td>ckd</td>\n",
       "    </tr>\n",
       "    <tr>\n",
       "      <th>3</th>\n",
       "      <td>3</td>\n",
       "      <td>48.0</td>\n",
       "      <td>70.0</td>\n",
       "      <td>1.005</td>\n",
       "      <td>4.0</td>\n",
       "      <td>0.0</td>\n",
       "      <td>normal</td>\n",
       "      <td>abnormal</td>\n",
       "      <td>present</td>\n",
       "      <td>notpresent</td>\n",
       "      <td>...</td>\n",
       "      <td>32</td>\n",
       "      <td>6700</td>\n",
       "      <td>3.9</td>\n",
       "      <td>yes</td>\n",
       "      <td>no</td>\n",
       "      <td>no</td>\n",
       "      <td>poor</td>\n",
       "      <td>yes</td>\n",
       "      <td>yes</td>\n",
       "      <td>ckd</td>\n",
       "    </tr>\n",
       "    <tr>\n",
       "      <th>4</th>\n",
       "      <td>4</td>\n",
       "      <td>51.0</td>\n",
       "      <td>80.0</td>\n",
       "      <td>1.010</td>\n",
       "      <td>2.0</td>\n",
       "      <td>0.0</td>\n",
       "      <td>normal</td>\n",
       "      <td>normal</td>\n",
       "      <td>notpresent</td>\n",
       "      <td>notpresent</td>\n",
       "      <td>...</td>\n",
       "      <td>35</td>\n",
       "      <td>7300</td>\n",
       "      <td>4.6</td>\n",
       "      <td>no</td>\n",
       "      <td>no</td>\n",
       "      <td>no</td>\n",
       "      <td>good</td>\n",
       "      <td>no</td>\n",
       "      <td>no</td>\n",
       "      <td>ckd</td>\n",
       "    </tr>\n",
       "  </tbody>\n",
       "</table>\n",
       "<p>5 rows × 26 columns</p>\n",
       "</div>"
      ],
      "text/plain": [
       "   id   age    bp     sg   al   su     rbc        pc         pcc          ba  \\\n",
       "0   0  48.0  80.0  1.020  1.0  0.0     NaN    normal  notpresent  notpresent   \n",
       "1   1   7.0  50.0  1.020  4.0  0.0     NaN    normal  notpresent  notpresent   \n",
       "2   2  62.0  80.0  1.010  2.0  3.0  normal    normal  notpresent  notpresent   \n",
       "3   3  48.0  70.0  1.005  4.0  0.0  normal  abnormal     present  notpresent   \n",
       "4   4  51.0  80.0  1.010  2.0  0.0  normal    normal  notpresent  notpresent   \n",
       "\n",
       "   ...  pcv    wc   rc  htn   dm  cad appet   pe  ane classification  \n",
       "0  ...   44  7800  5.2  yes  yes   no  good   no   no            ckd  \n",
       "1  ...   38  6000  NaN   no   no   no  good   no   no            ckd  \n",
       "2  ...   31  7500  NaN   no  yes   no  poor   no  yes            ckd  \n",
       "3  ...   32  6700  3.9  yes   no   no  poor  yes  yes            ckd  \n",
       "4  ...   35  7300  4.6   no   no   no  good   no   no            ckd  \n",
       "\n",
       "[5 rows x 26 columns]"
      ]
     },
     "execution_count": 37,
     "metadata": {},
     "output_type": "execute_result"
    }
   ],
   "source": [
    "import pandas as pd\n",
    "df = pd.read_csv(r'C:\\Users\\Amy Joanna\\Desktop\\DS\\DS\\kidney_disease.csv')\n",
    "df.head()"
   ]
  },
  {
   "cell_type": "code",
   "execution_count": 38,
   "metadata": {},
   "outputs": [
    {
     "data": {
      "text/plain": [
       "id                  0\n",
       "age                 9\n",
       "bp                 12\n",
       "sg                 47\n",
       "al                 46\n",
       "su                 49\n",
       "rbc               152\n",
       "pc                 65\n",
       "pcc                 4\n",
       "ba                  4\n",
       "bgr                44\n",
       "bu                 19\n",
       "sc                 17\n",
       "sod                87\n",
       "pot                88\n",
       "hemo               52\n",
       "pcv                70\n",
       "wc                105\n",
       "rc                130\n",
       "htn                 2\n",
       "dm                  2\n",
       "cad                 2\n",
       "appet               1\n",
       "pe                  1\n",
       "ane                 1\n",
       "classification      0\n",
       "dtype: int64"
      ]
     },
     "execution_count": 38,
     "metadata": {},
     "output_type": "execute_result"
    }
   ],
   "source": [
    "df.isnull().sum()\n"
   ]
  },
  {
   "cell_type": "code",
   "execution_count": 39,
   "metadata": {},
   "outputs": [
    {
     "name": "stderr",
     "output_type": "stream",
     "text": [
      "C:\\Users\\Amy Joanna\\AppData\\Local\\Temp\\ipykernel_17300\\4249034909.py:11: FutureWarning:\n",
      "\n",
      "A value is trying to be set on a copy of a DataFrame or Series through chained assignment using an inplace method.\n",
      "The behavior will change in pandas 3.0. This inplace method will never work because the intermediate object on which we are setting values always behaves as a copy.\n",
      "\n",
      "For example, when doing 'df[col].method(value, inplace=True)', try using 'df.method({col: value}, inplace=True)' or df[col] = df[col].method(value) instead, to perform the operation inplace on the original object.\n",
      "\n",
      "\n",
      "\n",
      "C:\\Users\\Amy Joanna\\AppData\\Local\\Temp\\ipykernel_17300\\4249034909.py:11: FutureWarning:\n",
      "\n",
      "A value is trying to be set on a copy of a DataFrame or Series through chained assignment using an inplace method.\n",
      "The behavior will change in pandas 3.0. This inplace method will never work because the intermediate object on which we are setting values always behaves as a copy.\n",
      "\n",
      "For example, when doing 'df[col].method(value, inplace=True)', try using 'df.method({col: value}, inplace=True)' or df[col] = df[col].method(value) instead, to perform the operation inplace on the original object.\n",
      "\n",
      "\n",
      "\n",
      "C:\\Users\\Amy Joanna\\AppData\\Local\\Temp\\ipykernel_17300\\4249034909.py:11: FutureWarning:\n",
      "\n",
      "A value is trying to be set on a copy of a DataFrame or Series through chained assignment using an inplace method.\n",
      "The behavior will change in pandas 3.0. This inplace method will never work because the intermediate object on which we are setting values always behaves as a copy.\n",
      "\n",
      "For example, when doing 'df[col].method(value, inplace=True)', try using 'df.method({col: value}, inplace=True)' or df[col] = df[col].method(value) instead, to perform the operation inplace on the original object.\n",
      "\n",
      "\n",
      "\n",
      "C:\\Users\\Amy Joanna\\AppData\\Local\\Temp\\ipykernel_17300\\4249034909.py:11: FutureWarning:\n",
      "\n",
      "A value is trying to be set on a copy of a DataFrame or Series through chained assignment using an inplace method.\n",
      "The behavior will change in pandas 3.0. This inplace method will never work because the intermediate object on which we are setting values always behaves as a copy.\n",
      "\n",
      "For example, when doing 'df[col].method(value, inplace=True)', try using 'df.method({col: value}, inplace=True)' or df[col] = df[col].method(value) instead, to perform the operation inplace on the original object.\n",
      "\n",
      "\n",
      "\n",
      "C:\\Users\\Amy Joanna\\AppData\\Local\\Temp\\ipykernel_17300\\4249034909.py:11: FutureWarning:\n",
      "\n",
      "A value is trying to be set on a copy of a DataFrame or Series through chained assignment using an inplace method.\n",
      "The behavior will change in pandas 3.0. This inplace method will never work because the intermediate object on which we are setting values always behaves as a copy.\n",
      "\n",
      "For example, when doing 'df[col].method(value, inplace=True)', try using 'df.method({col: value}, inplace=True)' or df[col] = df[col].method(value) instead, to perform the operation inplace on the original object.\n",
      "\n",
      "\n",
      "\n",
      "C:\\Users\\Amy Joanna\\AppData\\Local\\Temp\\ipykernel_17300\\4249034909.py:11: FutureWarning:\n",
      "\n",
      "A value is trying to be set on a copy of a DataFrame or Series through chained assignment using an inplace method.\n",
      "The behavior will change in pandas 3.0. This inplace method will never work because the intermediate object on which we are setting values always behaves as a copy.\n",
      "\n",
      "For example, when doing 'df[col].method(value, inplace=True)', try using 'df.method({col: value}, inplace=True)' or df[col] = df[col].method(value) instead, to perform the operation inplace on the original object.\n",
      "\n",
      "\n",
      "\n",
      "C:\\Users\\Amy Joanna\\AppData\\Local\\Temp\\ipykernel_17300\\4249034909.py:11: FutureWarning:\n",
      "\n",
      "A value is trying to be set on a copy of a DataFrame or Series through chained assignment using an inplace method.\n",
      "The behavior will change in pandas 3.0. This inplace method will never work because the intermediate object on which we are setting values always behaves as a copy.\n",
      "\n",
      "For example, when doing 'df[col].method(value, inplace=True)', try using 'df.method({col: value}, inplace=True)' or df[col] = df[col].method(value) instead, to perform the operation inplace on the original object.\n",
      "\n",
      "\n",
      "\n",
      "C:\\Users\\Amy Joanna\\AppData\\Local\\Temp\\ipykernel_17300\\4249034909.py:11: FutureWarning:\n",
      "\n",
      "A value is trying to be set on a copy of a DataFrame or Series through chained assignment using an inplace method.\n",
      "The behavior will change in pandas 3.0. This inplace method will never work because the intermediate object on which we are setting values always behaves as a copy.\n",
      "\n",
      "For example, when doing 'df[col].method(value, inplace=True)', try using 'df.method({col: value}, inplace=True)' or df[col] = df[col].method(value) instead, to perform the operation inplace on the original object.\n",
      "\n",
      "\n",
      "\n",
      "C:\\Users\\Amy Joanna\\AppData\\Local\\Temp\\ipykernel_17300\\4249034909.py:11: FutureWarning:\n",
      "\n",
      "A value is trying to be set on a copy of a DataFrame or Series through chained assignment using an inplace method.\n",
      "The behavior will change in pandas 3.0. This inplace method will never work because the intermediate object on which we are setting values always behaves as a copy.\n",
      "\n",
      "For example, when doing 'df[col].method(value, inplace=True)', try using 'df.method({col: value}, inplace=True)' or df[col] = df[col].method(value) instead, to perform the operation inplace on the original object.\n",
      "\n",
      "\n",
      "\n",
      "C:\\Users\\Amy Joanna\\AppData\\Local\\Temp\\ipykernel_17300\\4249034909.py:11: FutureWarning:\n",
      "\n",
      "A value is trying to be set on a copy of a DataFrame or Series through chained assignment using an inplace method.\n",
      "The behavior will change in pandas 3.0. This inplace method will never work because the intermediate object on which we are setting values always behaves as a copy.\n",
      "\n",
      "For example, when doing 'df[col].method(value, inplace=True)', try using 'df.method({col: value}, inplace=True)' or df[col] = df[col].method(value) instead, to perform the operation inplace on the original object.\n",
      "\n",
      "\n",
      "\n",
      "C:\\Users\\Amy Joanna\\AppData\\Local\\Temp\\ipykernel_17300\\4249034909.py:11: FutureWarning:\n",
      "\n",
      "A value is trying to be set on a copy of a DataFrame or Series through chained assignment using an inplace method.\n",
      "The behavior will change in pandas 3.0. This inplace method will never work because the intermediate object on which we are setting values always behaves as a copy.\n",
      "\n",
      "For example, when doing 'df[col].method(value, inplace=True)', try using 'df.method({col: value}, inplace=True)' or df[col] = df[col].method(value) instead, to perform the operation inplace on the original object.\n",
      "\n",
      "\n",
      "\n",
      "C:\\Users\\Amy Joanna\\AppData\\Local\\Temp\\ipykernel_17300\\4249034909.py:18: FutureWarning:\n",
      "\n",
      "A value is trying to be set on a copy of a DataFrame or Series through chained assignment using an inplace method.\n",
      "The behavior will change in pandas 3.0. This inplace method will never work because the intermediate object on which we are setting values always behaves as a copy.\n",
      "\n",
      "For example, when doing 'df[col].method(value, inplace=True)', try using 'df.method({col: value}, inplace=True)' or df[col] = df[col].method(value) instead, to perform the operation inplace on the original object.\n",
      "\n",
      "\n",
      "\n"
     ]
    }
   ],
   "source": [
    "import pandas as pd\n",
    "\n",
    "numeric_cols = [\"age\", \"sg\", \"bp\", \"al\", \"su\", \"bgr\", \"bu\", \"sc\", \"sod\", \"pot\", \"hemo\"]\n",
    "categorical_cols = [\"rbc\", \"pc\", \"pcc\", \"ba\", \"pcv\", \"wc\", \"rc\", \"htn\", \"dm\", \"cad\", \"appet\", \"pe\", \"ane\"]\n",
    "\n",
    "# Convert numeric columns to ensure correct type\n",
    "df[numeric_cols] = df[numeric_cols].apply(pd.to_numeric, errors=\"coerce\")\n",
    "\n",
    "# Fill numeric columns with median\n",
    "for col in numeric_cols:\n",
    "    df[col].fillna(df[col].median(), inplace=True)\n",
    "\n",
    "# Fill categorical columns with mode (checking for empty mode)\n",
    "for col in categorical_cols:\n",
    "    if df[col].dropna().empty:  # If all values are NaN, assign \"unknown\"\n",
    "        df[col] = \"unknown\"\n",
    "    else:\n",
    "        df[col].fillna(df[col].mode()[0], inplace=True)\n",
    "\n",
    "\n",
    "\n"
   ]
  },
  {
   "cell_type": "code",
   "execution_count": 40,
   "metadata": {},
   "outputs": [
    {
     "data": {
      "text/plain": [
       "id                0\n",
       "age               0\n",
       "bp                0\n",
       "sg                0\n",
       "al                0\n",
       "su                0\n",
       "rbc               0\n",
       "pc                0\n",
       "pcc               0\n",
       "ba                0\n",
       "bgr               0\n",
       "bu                0\n",
       "sc                0\n",
       "sod               0\n",
       "pot               0\n",
       "hemo              0\n",
       "pcv               0\n",
       "wc                0\n",
       "rc                0\n",
       "htn               0\n",
       "dm                0\n",
       "cad               0\n",
       "appet             0\n",
       "pe                0\n",
       "ane               0\n",
       "classification    0\n",
       "dtype: int64"
      ]
     },
     "execution_count": 40,
     "metadata": {},
     "output_type": "execute_result"
    }
   ],
   "source": [
    "df.isnull().sum()"
   ]
  },
  {
   "cell_type": "code",
   "execution_count": 41,
   "metadata": {},
   "outputs": [
    {
     "data": {
      "text/plain": [
       "id                0\n",
       "age               0\n",
       "bp                0\n",
       "sg                0\n",
       "al                0\n",
       "su                0\n",
       "rbc               0\n",
       "pc                0\n",
       "pcc               0\n",
       "ba                0\n",
       "bgr               0\n",
       "bu                0\n",
       "sc                0\n",
       "sod               0\n",
       "pot               0\n",
       "hemo              0\n",
       "pcv               0\n",
       "wc                0\n",
       "rc                0\n",
       "htn               0\n",
       "dm                0\n",
       "cad               0\n",
       "appet             0\n",
       "pe                0\n",
       "ane               0\n",
       "classification    0\n",
       "dtype: int64"
      ]
     },
     "execution_count": 41,
     "metadata": {},
     "output_type": "execute_result"
    }
   ],
   "source": [
    "df.isnull().sum()"
   ]
  },
  {
   "cell_type": "markdown",
   "metadata": {},
   "source": [
    "Binary Encoding for all the categorical columns beacuse every category has only two values"
   ]
  },
  {
   "cell_type": "code",
   "execution_count": 42,
   "metadata": {},
   "outputs": [
    {
     "name": "stdout",
     "output_type": "stream",
     "text": [
      "      id   age    bp     sg   al   su     rbc        pc         pcc  \\\n",
      "0      0  48.0  80.0  1.020  1.0  0.0  normal    normal  notpresent   \n",
      "1      1   7.0  50.0  1.020  4.0  0.0  normal    normal  notpresent   \n",
      "2      2  62.0  80.0  1.010  2.0  3.0  normal    normal  notpresent   \n",
      "3      3  48.0  70.0  1.005  4.0  0.0  normal  abnormal     present   \n",
      "4      4  51.0  80.0  1.010  2.0  0.0  normal    normal  notpresent   \n",
      "..   ...   ...   ...    ...  ...  ...     ...       ...         ...   \n",
      "395  395  55.0  80.0  1.020  0.0  0.0  normal    normal  notpresent   \n",
      "396  396  42.0  70.0  1.025  0.0  0.0  normal    normal  notpresent   \n",
      "397  397  12.0  80.0  1.020  0.0  0.0  normal    normal  notpresent   \n",
      "398  398  17.0  60.0  1.025  0.0  0.0  normal    normal  notpresent   \n",
      "399  399  58.0  80.0  1.025  0.0  0.0  normal    normal  notpresent   \n",
      "\n",
      "             ba  ...  pcv    wc   rc  htn   dm  cad appet   pe  ane  \\\n",
      "0    notpresent  ...   44  7800  5.2  yes  yes   no  good   no   no   \n",
      "1    notpresent  ...   38  6000  5.2   no   no   no  good   no   no   \n",
      "2    notpresent  ...   31  7500  5.2   no  yes   no  poor   no  yes   \n",
      "3    notpresent  ...   32  6700  3.9  yes   no   no  poor  yes  yes   \n",
      "4    notpresent  ...   35  7300  4.6   no   no   no  good   no   no   \n",
      "..          ...  ...  ...   ...  ...  ...  ...  ...   ...  ...  ...   \n",
      "395  notpresent  ...   47  6700  4.9   no   no   no  good   no   no   \n",
      "396  notpresent  ...   54  7800  6.2   no   no   no  good   no   no   \n",
      "397  notpresent  ...   49  6600  5.4   no   no   no  good   no   no   \n",
      "398  notpresent  ...   51  7200  5.9   no   no   no  good   no   no   \n",
      "399  notpresent  ...   53  6800  6.1   no   no   no  good   no   no   \n",
      "\n",
      "    classification  \n",
      "0              ckd  \n",
      "1              ckd  \n",
      "2              ckd  \n",
      "3              ckd  \n",
      "4              ckd  \n",
      "..             ...  \n",
      "395         notckd  \n",
      "396         notckd  \n",
      "397         notckd  \n",
      "398         notckd  \n",
      "399         notckd  \n",
      "\n",
      "[400 rows x 26 columns]\n",
      "      id   age    bp     sg   al   su  rbc  pc  pcc  ba  ...  pcv    wc   rc  \\\n",
      "0      0  48.0  80.0  1.020  1.0  0.0    1   1    0   0  ...   44  7800  5.2   \n",
      "1      1   7.0  50.0  1.020  4.0  0.0    1   1    0   0  ...   38  6000  5.2   \n",
      "2      2  62.0  80.0  1.010  2.0  3.0    1   1    0   0  ...   31  7500  5.2   \n",
      "3      3  48.0  70.0  1.005  4.0  0.0    1   0    1   0  ...   32  6700  3.9   \n",
      "4      4  51.0  80.0  1.010  2.0  0.0    1   1    0   0  ...   35  7300  4.6   \n",
      "..   ...   ...   ...    ...  ...  ...  ...  ..  ...  ..  ...  ...   ...  ...   \n",
      "395  395  55.0  80.0  1.020  0.0  0.0    1   1    0   0  ...   47  6700  4.9   \n",
      "396  396  42.0  70.0  1.025  0.0  0.0    1   1    0   0  ...   54  7800  6.2   \n",
      "397  397  12.0  80.0  1.020  0.0  0.0    1   1    0   0  ...   49  6600  5.4   \n",
      "398  398  17.0  60.0  1.025  0.0  0.0    1   1    0   0  ...   51  7200  5.9   \n",
      "399  399  58.0  80.0  1.025  0.0  0.0    1   1    0   0  ...   53  6800  6.1   \n",
      "\n",
      "     htn  dm  cad appet pe ane  classification  \n",
      "0      1   1    0     1  0   0               1  \n",
      "1      0   0    0     1  0   0               1  \n",
      "2      0   1    0     0  0   1               1  \n",
      "3      1   0    0     0  1   1               1  \n",
      "4      0   0    0     1  0   0               1  \n",
      "..   ...  ..  ...   ... ..  ..             ...  \n",
      "395    0   0    0     1  0   0               0  \n",
      "396    0   0    0     1  0   0               0  \n",
      "397    0   0    0     1  0   0               0  \n",
      "398    0   0    0     1  0   0               0  \n",
      "399    0   0    0     1  0   0               0  \n",
      "\n",
      "[400 rows x 26 columns]\n"
     ]
    }
   ],
   "source": [
    "import pandas as pd\n",
    "\n",
    "print(df)\n",
    "\n",
    "binary_mappings = {\n",
    "    \"yes\": 1, \"no\": 0,\n",
    "    \"present\": 1, \"notpresent\": 0,\n",
    "    \"normal\": 1, \"abnormal\": 0,\n",
    "    \"good\": 1, \"poor\": 0,\n",
    "    \"ckd\": 1, \"notckd\": 0\n",
    "}\n",
    "\n",
    "binary_columns = [\"htn\", \"dm\", \"cad\", \"pcc\", \"ba\", \"rbc\", \"pc\", \"appet\", \"pe\", \"ane\", \"classification\"]\n",
    "\n",
    "for col in binary_columns:\n",
    "    df[col] = df[col].astype(str).str.strip().str.lower()  \n",
    "    df[col] = df[col].map(binary_mappings)  \n",
    "    df[col] = df[col].fillna(0).astype(int)  \n",
    "\n",
    "print(df)"
   ]
  },
  {
   "cell_type": "code",
   "execution_count": 43,
   "metadata": {},
   "outputs": [
    {
     "data": {
      "text/html": [
       "<div>\n",
       "<style scoped>\n",
       "    .dataframe tbody tr th:only-of-type {\n",
       "        vertical-align: middle;\n",
       "    }\n",
       "\n",
       "    .dataframe tbody tr th {\n",
       "        vertical-align: top;\n",
       "    }\n",
       "\n",
       "    .dataframe thead th {\n",
       "        text-align: right;\n",
       "    }\n",
       "</style>\n",
       "<table border=\"1\" class=\"dataframe\">\n",
       "  <thead>\n",
       "    <tr style=\"text-align: right;\">\n",
       "      <th></th>\n",
       "      <th>id</th>\n",
       "      <th>age</th>\n",
       "      <th>bp</th>\n",
       "      <th>sg</th>\n",
       "      <th>al</th>\n",
       "      <th>su</th>\n",
       "      <th>rbc</th>\n",
       "      <th>pc</th>\n",
       "      <th>pcc</th>\n",
       "      <th>ba</th>\n",
       "      <th>...</th>\n",
       "      <th>sod</th>\n",
       "      <th>pot</th>\n",
       "      <th>hemo</th>\n",
       "      <th>htn</th>\n",
       "      <th>dm</th>\n",
       "      <th>cad</th>\n",
       "      <th>appet</th>\n",
       "      <th>pe</th>\n",
       "      <th>ane</th>\n",
       "      <th>classification</th>\n",
       "    </tr>\n",
       "  </thead>\n",
       "  <tbody>\n",
       "    <tr>\n",
       "      <th>count</th>\n",
       "      <td>400.000000</td>\n",
       "      <td>400.000000</td>\n",
       "      <td>400.000000</td>\n",
       "      <td>400.000000</td>\n",
       "      <td>400.00000</td>\n",
       "      <td>400.000000</td>\n",
       "      <td>400.000000</td>\n",
       "      <td>400.000000</td>\n",
       "      <td>400.000000</td>\n",
       "      <td>400.000000</td>\n",
       "      <td>...</td>\n",
       "      <td>400.000000</td>\n",
       "      <td>400.000000</td>\n",
       "      <td>400.00000</td>\n",
       "      <td>400.000000</td>\n",
       "      <td>400.00000</td>\n",
       "      <td>400.000000</td>\n",
       "      <td>400.000000</td>\n",
       "      <td>400.000000</td>\n",
       "      <td>400.000000</td>\n",
       "      <td>400.000000</td>\n",
       "    </tr>\n",
       "    <tr>\n",
       "      <th>mean</th>\n",
       "      <td>199.500000</td>\n",
       "      <td>51.562500</td>\n",
       "      <td>76.575000</td>\n",
       "      <td>1.017712</td>\n",
       "      <td>0.90000</td>\n",
       "      <td>0.395000</td>\n",
       "      <td>0.882500</td>\n",
       "      <td>0.810000</td>\n",
       "      <td>0.105000</td>\n",
       "      <td>0.055000</td>\n",
       "      <td>...</td>\n",
       "      <td>137.631250</td>\n",
       "      <td>4.577250</td>\n",
       "      <td>12.54250</td>\n",
       "      <td>0.367500</td>\n",
       "      <td>0.34250</td>\n",
       "      <td>0.085000</td>\n",
       "      <td>0.795000</td>\n",
       "      <td>0.190000</td>\n",
       "      <td>0.150000</td>\n",
       "      <td>0.625000</td>\n",
       "    </tr>\n",
       "    <tr>\n",
       "      <th>std</th>\n",
       "      <td>115.614301</td>\n",
       "      <td>16.982996</td>\n",
       "      <td>13.489785</td>\n",
       "      <td>0.005434</td>\n",
       "      <td>1.31313</td>\n",
       "      <td>1.040038</td>\n",
       "      <td>0.322418</td>\n",
       "      <td>0.392792</td>\n",
       "      <td>0.306937</td>\n",
       "      <td>0.228266</td>\n",
       "      <td>...</td>\n",
       "      <td>9.206332</td>\n",
       "      <td>2.821357</td>\n",
       "      <td>2.71649</td>\n",
       "      <td>0.482728</td>\n",
       "      <td>0.47514</td>\n",
       "      <td>0.279231</td>\n",
       "      <td>0.404207</td>\n",
       "      <td>0.392792</td>\n",
       "      <td>0.357519</td>\n",
       "      <td>0.484729</td>\n",
       "    </tr>\n",
       "    <tr>\n",
       "      <th>min</th>\n",
       "      <td>0.000000</td>\n",
       "      <td>2.000000</td>\n",
       "      <td>50.000000</td>\n",
       "      <td>1.005000</td>\n",
       "      <td>0.00000</td>\n",
       "      <td>0.000000</td>\n",
       "      <td>0.000000</td>\n",
       "      <td>0.000000</td>\n",
       "      <td>0.000000</td>\n",
       "      <td>0.000000</td>\n",
       "      <td>...</td>\n",
       "      <td>4.500000</td>\n",
       "      <td>2.500000</td>\n",
       "      <td>3.10000</td>\n",
       "      <td>0.000000</td>\n",
       "      <td>0.00000</td>\n",
       "      <td>0.000000</td>\n",
       "      <td>0.000000</td>\n",
       "      <td>0.000000</td>\n",
       "      <td>0.000000</td>\n",
       "      <td>0.000000</td>\n",
       "    </tr>\n",
       "    <tr>\n",
       "      <th>25%</th>\n",
       "      <td>99.750000</td>\n",
       "      <td>42.000000</td>\n",
       "      <td>70.000000</td>\n",
       "      <td>1.015000</td>\n",
       "      <td>0.00000</td>\n",
       "      <td>0.000000</td>\n",
       "      <td>1.000000</td>\n",
       "      <td>1.000000</td>\n",
       "      <td>0.000000</td>\n",
       "      <td>0.000000</td>\n",
       "      <td>...</td>\n",
       "      <td>135.000000</td>\n",
       "      <td>4.000000</td>\n",
       "      <td>10.87500</td>\n",
       "      <td>0.000000</td>\n",
       "      <td>0.00000</td>\n",
       "      <td>0.000000</td>\n",
       "      <td>1.000000</td>\n",
       "      <td>0.000000</td>\n",
       "      <td>0.000000</td>\n",
       "      <td>0.000000</td>\n",
       "    </tr>\n",
       "    <tr>\n",
       "      <th>50%</th>\n",
       "      <td>199.500000</td>\n",
       "      <td>55.000000</td>\n",
       "      <td>80.000000</td>\n",
       "      <td>1.020000</td>\n",
       "      <td>0.00000</td>\n",
       "      <td>0.000000</td>\n",
       "      <td>1.000000</td>\n",
       "      <td>1.000000</td>\n",
       "      <td>0.000000</td>\n",
       "      <td>0.000000</td>\n",
       "      <td>...</td>\n",
       "      <td>138.000000</td>\n",
       "      <td>4.400000</td>\n",
       "      <td>12.65000</td>\n",
       "      <td>0.000000</td>\n",
       "      <td>0.00000</td>\n",
       "      <td>0.000000</td>\n",
       "      <td>1.000000</td>\n",
       "      <td>0.000000</td>\n",
       "      <td>0.000000</td>\n",
       "      <td>1.000000</td>\n",
       "    </tr>\n",
       "    <tr>\n",
       "      <th>75%</th>\n",
       "      <td>299.250000</td>\n",
       "      <td>64.000000</td>\n",
       "      <td>80.000000</td>\n",
       "      <td>1.020000</td>\n",
       "      <td>2.00000</td>\n",
       "      <td>0.000000</td>\n",
       "      <td>1.000000</td>\n",
       "      <td>1.000000</td>\n",
       "      <td>0.000000</td>\n",
       "      <td>0.000000</td>\n",
       "      <td>...</td>\n",
       "      <td>141.000000</td>\n",
       "      <td>4.800000</td>\n",
       "      <td>14.62500</td>\n",
       "      <td>1.000000</td>\n",
       "      <td>1.00000</td>\n",
       "      <td>0.000000</td>\n",
       "      <td>1.000000</td>\n",
       "      <td>0.000000</td>\n",
       "      <td>0.000000</td>\n",
       "      <td>1.000000</td>\n",
       "    </tr>\n",
       "    <tr>\n",
       "      <th>max</th>\n",
       "      <td>399.000000</td>\n",
       "      <td>90.000000</td>\n",
       "      <td>180.000000</td>\n",
       "      <td>1.025000</td>\n",
       "      <td>5.00000</td>\n",
       "      <td>5.000000</td>\n",
       "      <td>1.000000</td>\n",
       "      <td>1.000000</td>\n",
       "      <td>1.000000</td>\n",
       "      <td>1.000000</td>\n",
       "      <td>...</td>\n",
       "      <td>163.000000</td>\n",
       "      <td>47.000000</td>\n",
       "      <td>17.80000</td>\n",
       "      <td>1.000000</td>\n",
       "      <td>1.00000</td>\n",
       "      <td>1.000000</td>\n",
       "      <td>1.000000</td>\n",
       "      <td>1.000000</td>\n",
       "      <td>1.000000</td>\n",
       "      <td>1.000000</td>\n",
       "    </tr>\n",
       "  </tbody>\n",
       "</table>\n",
       "<p>8 rows × 23 columns</p>\n",
       "</div>"
      ],
      "text/plain": [
       "               id         age          bp          sg         al          su  \\\n",
       "count  400.000000  400.000000  400.000000  400.000000  400.00000  400.000000   \n",
       "mean   199.500000   51.562500   76.575000    1.017712    0.90000    0.395000   \n",
       "std    115.614301   16.982996   13.489785    0.005434    1.31313    1.040038   \n",
       "min      0.000000    2.000000   50.000000    1.005000    0.00000    0.000000   \n",
       "25%     99.750000   42.000000   70.000000    1.015000    0.00000    0.000000   \n",
       "50%    199.500000   55.000000   80.000000    1.020000    0.00000    0.000000   \n",
       "75%    299.250000   64.000000   80.000000    1.020000    2.00000    0.000000   \n",
       "max    399.000000   90.000000  180.000000    1.025000    5.00000    5.000000   \n",
       "\n",
       "              rbc          pc         pcc          ba  ...         sod  \\\n",
       "count  400.000000  400.000000  400.000000  400.000000  ...  400.000000   \n",
       "mean     0.882500    0.810000    0.105000    0.055000  ...  137.631250   \n",
       "std      0.322418    0.392792    0.306937    0.228266  ...    9.206332   \n",
       "min      0.000000    0.000000    0.000000    0.000000  ...    4.500000   \n",
       "25%      1.000000    1.000000    0.000000    0.000000  ...  135.000000   \n",
       "50%      1.000000    1.000000    0.000000    0.000000  ...  138.000000   \n",
       "75%      1.000000    1.000000    0.000000    0.000000  ...  141.000000   \n",
       "max      1.000000    1.000000    1.000000    1.000000  ...  163.000000   \n",
       "\n",
       "              pot       hemo         htn         dm         cad       appet  \\\n",
       "count  400.000000  400.00000  400.000000  400.00000  400.000000  400.000000   \n",
       "mean     4.577250   12.54250    0.367500    0.34250    0.085000    0.795000   \n",
       "std      2.821357    2.71649    0.482728    0.47514    0.279231    0.404207   \n",
       "min      2.500000    3.10000    0.000000    0.00000    0.000000    0.000000   \n",
       "25%      4.000000   10.87500    0.000000    0.00000    0.000000    1.000000   \n",
       "50%      4.400000   12.65000    0.000000    0.00000    0.000000    1.000000   \n",
       "75%      4.800000   14.62500    1.000000    1.00000    0.000000    1.000000   \n",
       "max     47.000000   17.80000    1.000000    1.00000    1.000000    1.000000   \n",
       "\n",
       "               pe         ane  classification  \n",
       "count  400.000000  400.000000      400.000000  \n",
       "mean     0.190000    0.150000        0.625000  \n",
       "std      0.392792    0.357519        0.484729  \n",
       "min      0.000000    0.000000        0.000000  \n",
       "25%      0.000000    0.000000        0.000000  \n",
       "50%      0.000000    0.000000        1.000000  \n",
       "75%      0.000000    0.000000        1.000000  \n",
       "max      1.000000    1.000000        1.000000  \n",
       "\n",
       "[8 rows x 23 columns]"
      ]
     },
     "execution_count": 43,
     "metadata": {},
     "output_type": "execute_result"
    }
   ],
   "source": [
    "df.describe()"
   ]
  },
  {
   "cell_type": "markdown",
   "metadata": {},
   "source": [
    "Putting the Age column into various bins and encoding the same age group into numerical column "
   ]
  },
  {
   "cell_type": "code",
   "execution_count": 44,
   "metadata": {},
   "outputs": [
    {
     "name": "stdout",
     "output_type": "stream",
     "text": [
      "    age age_group  age_group_encoded\n",
      "0  48.0    Adults                  0\n",
      "1   7.0      Kids                  2\n",
      "2  62.0   Seniors                  3\n",
      "3  48.0    Adults                  0\n",
      "4  51.0    Adults                  0\n",
      "      id   age    bp     sg   al   su  rbc  pc  pcc  ba  ...   rc  htn  dm  \\\n",
      "0      0  48.0  80.0  1.020  1.0  0.0    1   1    0   0  ...  5.2    1   1   \n",
      "1      1   7.0  50.0  1.020  4.0  0.0    1   1    0   0  ...  5.2    0   0   \n",
      "2      2  62.0  80.0  1.010  2.0  3.0    1   1    0   0  ...  5.2    0   1   \n",
      "3      3  48.0  70.0  1.005  4.0  0.0    1   0    1   0  ...  3.9    1   0   \n",
      "4      4  51.0  80.0  1.010  2.0  0.0    1   1    0   0  ...  4.6    0   0   \n",
      "..   ...   ...   ...    ...  ...  ...  ...  ..  ...  ..  ...  ...  ...  ..   \n",
      "395  395  55.0  80.0  1.020  0.0  0.0    1   1    0   0  ...  4.9    0   0   \n",
      "396  396  42.0  70.0  1.025  0.0  0.0    1   1    0   0  ...  6.2    0   0   \n",
      "397  397  12.0  80.0  1.020  0.0  0.0    1   1    0   0  ...  5.4    0   0   \n",
      "398  398  17.0  60.0  1.025  0.0  0.0    1   1    0   0  ...  5.9    0   0   \n",
      "399  399  58.0  80.0  1.025  0.0  0.0    1   1    0   0  ...  6.1    0   0   \n",
      "\n",
      "     cad  appet  pe ane classification age_group  age_group_encoded  \n",
      "0      0      1   0   0              1    Adults                  0  \n",
      "1      0      1   0   0              1      Kids                  2  \n",
      "2      0      0   0   1              1   Seniors                  3  \n",
      "3      0      0   1   1              1    Adults                  0  \n",
      "4      0      1   0   0              1    Adults                  0  \n",
      "..   ...    ...  ..  ..            ...       ...                ...  \n",
      "395    0      1   0   0              0    Adults                  0  \n",
      "396    0      1   0   0              0    Adults                  0  \n",
      "397    0      1   0   0              0      Kids                  2  \n",
      "398    0      1   0   0              0      Teen                  4  \n",
      "399    0      1   0   0              0    Adults                  0  \n",
      "\n",
      "[400 rows x 28 columns]\n"
     ]
    }
   ],
   "source": [
    "from sklearn.preprocessing import LabelEncoder\n",
    "\n",
    "age_bins = [0, 2, 12, 19, 59, 90] \n",
    "age_labels = [\"Infants\", \"Kids\", \"Teen\", \"Adults\", \"Seniors\"]\n",
    "\n",
    "df[\"age_group\"] = pd.cut(df[\"age\"], bins=age_bins, labels=age_labels, include_lowest=True)\n",
    "\n",
    "label_encoder = LabelEncoder()\n",
    "df[\"age_group_encoded\"] = label_encoder.fit_transform(df[\"age_group\"])\n",
    "\n",
    "print(df[[\"age\", \"age_group\", \"age_group_encoded\"]].head())\n",
    "\n",
    "print(df)\n"
   ]
  },
  {
   "cell_type": "markdown",
   "metadata": {},
   "source": [
    "Dropping Age and Age group column "
   ]
  },
  {
   "cell_type": "code",
   "execution_count": 45,
   "metadata": {},
   "outputs": [],
   "source": [
    "df.drop(columns=[\"age\", \"age_group\"], inplace=True)\n"
   ]
  },
  {
   "cell_type": "code",
   "execution_count": 46,
   "metadata": {},
   "outputs": [
    {
     "name": "stdout",
     "output_type": "stream",
     "text": [
      "      id    bp     sg   al   su  rbc  pc  pcc  ba    bgr  ...    wc   rc  htn  \\\n",
      "0      0  80.0  1.020  1.0  0.0    1   1    0   0  121.0  ...  7800  5.2    1   \n",
      "1      1  50.0  1.020  4.0  0.0    1   1    0   0  121.0  ...  6000  5.2    0   \n",
      "2      2  80.0  1.010  2.0  3.0    1   1    0   0  423.0  ...  7500  5.2    0   \n",
      "3      3  70.0  1.005  4.0  0.0    1   0    1   0  117.0  ...  6700  3.9    1   \n",
      "4      4  80.0  1.010  2.0  0.0    1   1    0   0  106.0  ...  7300  4.6    0   \n",
      "..   ...   ...    ...  ...  ...  ...  ..  ...  ..    ...  ...   ...  ...  ...   \n",
      "395  395  80.0  1.020  0.0  0.0    1   1    0   0  140.0  ...  6700  4.9    0   \n",
      "396  396  70.0  1.025  0.0  0.0    1   1    0   0   75.0  ...  7800  6.2    0   \n",
      "397  397  80.0  1.020  0.0  0.0    1   1    0   0  100.0  ...  6600  5.4    0   \n",
      "398  398  60.0  1.025  0.0  0.0    1   1    0   0  114.0  ...  7200  5.9    0   \n",
      "399  399  80.0  1.025  0.0  0.0    1   1    0   0  131.0  ...  6800  6.1    0   \n",
      "\n",
      "     dm  cad appet pe ane  classification  age_group_encoded  \n",
      "0     1    0     1  0   0               1                  0  \n",
      "1     0    0     1  0   0               1                  2  \n",
      "2     1    0     0  0   1               1                  3  \n",
      "3     0    0     0  1   1               1                  0  \n",
      "4     0    0     1  0   0               1                  0  \n",
      "..   ..  ...   ... ..  ..             ...                ...  \n",
      "395   0    0     1  0   0               0                  0  \n",
      "396   0    0     1  0   0               0                  0  \n",
      "397   0    0     1  0   0               0                  2  \n",
      "398   0    0     1  0   0               0                  4  \n",
      "399   0    0     1  0   0               0                  0  \n",
      "\n",
      "[400 rows x 26 columns]\n"
     ]
    }
   ],
   "source": [
    "print(df)"
   ]
  },
  {
   "cell_type": "code",
   "execution_count": 47,
   "metadata": {},
   "outputs": [
    {
     "name": "stdout",
     "output_type": "stream",
     "text": [
      "<class 'pandas.core.frame.DataFrame'>\n",
      "RangeIndex: 400 entries, 0 to 399\n",
      "Data columns (total 26 columns):\n",
      " #   Column             Non-Null Count  Dtype  \n",
      "---  ------             --------------  -----  \n",
      " 0   id                 400 non-null    int64  \n",
      " 1   bp                 400 non-null    float64\n",
      " 2   sg                 400 non-null    float64\n",
      " 3   al                 400 non-null    float64\n",
      " 4   su                 400 non-null    float64\n",
      " 5   rbc                400 non-null    int64  \n",
      " 6   pc                 400 non-null    int64  \n",
      " 7   pcc                400 non-null    int64  \n",
      " 8   ba                 400 non-null    int64  \n",
      " 9   bgr                400 non-null    float64\n",
      " 10  bu                 400 non-null    float64\n",
      " 11  sc                 400 non-null    float64\n",
      " 12  sod                400 non-null    float64\n",
      " 13  pot                400 non-null    float64\n",
      " 14  hemo               400 non-null    float64\n",
      " 15  pcv                400 non-null    object \n",
      " 16  wc                 400 non-null    object \n",
      " 17  rc                 400 non-null    object \n",
      " 18  htn                400 non-null    int64  \n",
      " 19  dm                 400 non-null    int64  \n",
      " 20  cad                400 non-null    int64  \n",
      " 21  appet              400 non-null    int64  \n",
      " 22  pe                 400 non-null    int64  \n",
      " 23  ane                400 non-null    int64  \n",
      " 24  classification     400 non-null    int64  \n",
      " 25  age_group_encoded  400 non-null    int64  \n",
      "dtypes: float64(10), int64(13), object(3)\n",
      "memory usage: 81.4+ KB\n"
     ]
    }
   ],
   "source": [
    "df.info()"
   ]
  },
  {
   "cell_type": "markdown",
   "metadata": {},
   "source": [
    "Visualizing each column's distribution so that we can decide on which standardization and normalization to do"
   ]
  },
  {
   "cell_type": "code",
   "execution_count": 48,
   "metadata": {},
   "outputs": [
    {
     "data": {
      "application/vnd.plotly.v1+json": {
       "config": {
        "plotlyServerURL": "https://plot.ly"
       },
       "data": [
        {
         "name": "bp",
         "nbinsx": 30,
         "opacity": 0.75,
         "type": "histogram",
         "x": {
          "bdata": "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",
          "dtype": "f8"
         },
         "xaxis": "x",
         "yaxis": "y"
        },
        {
         "name": "sg",
         "nbinsx": 30,
         "opacity": 0.75,
         "type": "histogram",
         "x": {
          "bdata": "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",
          "dtype": "f8"
         },
         "xaxis": "x2",
         "yaxis": "y2"
        },
        {
         "name": "al",
         "nbinsx": 30,
         "opacity": 0.75,
         "type": "histogram",
         "x": {
          "bdata": "AAAAAAAA8D8AAAAAAAAQQAAAAAAAAABAAAAAAAAAEEAAAAAAAAAAQAAAAAAAAAhAAAAAAAAAAAAAAAAAAAAAQAAAAAAAAAhAAAAAAAAAAEAAAAAAAAAAQAAAAAAAAAhAAAAAAAAACEAAAAAAAAAAAAAAAAAAAAhAAAAAAAAACEAAAAAAAAAAQAAAAAAAAAAAAAAAAAAAAAAAAAAAAADwPwAAAAAAAABAAAAAAAAAAAAAAAAAAAAQQAAAAAAAAAAAAAAAAAAAEEAAAAAAAAAAAAAAAAAAAAAAAAAAAAAACEAAAAAAAADwPwAAAAAAAPA/AAAAAAAAAAAAAAAAAAAIQAAAAAAAAPA/AAAAAAAAAEAAAAAAAADwPwAAAAAAAABAAAAAAAAA8D8AAAAAAAAAAAAAAAAAAAhAAAAAAAAAAEAAAAAAAAAAQAAAAAAAAAAAAAAAAAAAAAAAAAAAAADwPwAAAAAAAAhAAAAAAAAACEAAAAAAAAAAAAAAAAAAAAhAAAAAAAAAAAAAAAAAAAAAQAAAAAAAAAAAAAAAAAAACEAAAAAAAAAAAAAAAAAAAAAAAAAAAAAAAEAAAAAAAAAIQAAAAAAAAAhAAAAAAAAAAAAAAAAAAAAAQAAAAAAAAAAAAAAAAAAA8D8AAAAAAADwPwAAAAAAAAhAAAAAAAAA8D8AAAAAAAAAAAAAAAAAAPA/AAAAAAAAAEAAAAAAAAAIQAAAAAAAAABAAAAAAAAAAAAAAAAAAAAAAAAAAAAAAPA/AAAAAAAACEAAAAAAAAAAQAAAAAAAAABAAAAAAAAA8D8AAAAAAAAQQAAAAAAAAPA/AAAAAAAAAAAAAAAAAADwPwAAAAAAAAAAAAAAAAAAAAAAAAAAAAAAAAAAAAAAAPA/AAAAAAAACEAAAAAAAAAAQAAAAAAAAAAAAAAAAAAA8D8AAAAAAAAQQAAAAAAAAAAAAAAAAAAAAEAAAAAAAAAQQAAAAAAAAAhAAAAAAAAACEAAAAAAAAAAAAAAAAAAAPA/AAAAAAAA8D8AAAAAAADwPwAAAAAAAAAAAAAAAAAAAAAAAAAAAAAQQAAAAAAAAABAAAAAAAAAAAAAAAAAAAAAQAAAAAAAAAAAAAAAAAAAAAAAAAAAAAAAAAAAAAAAAPA/AAAAAAAAAAAAAAAAAAAAAAAAAAAAAAAAAAAAAAAACEAAAAAAAAAIQAAAAAAAAAAAAAAAAAAACEAAAAAAAAAAAAAAAAAAABBAAAAAAAAAAAAAAAAAAAAIQAAAAAAAAAAAAAAAAAAA8D8AAAAAAAAIQAAAAAAAAAAAAAAAAAAAAEAAAAAAAAAAAAAAAAAAAAAAAAAAAAAAAAAAAAAAAAAQQAAAAAAAABBAAAAAAAAA8D8AAAAAAAAAQAAAAAAAAAAAAAAAAAAAAAAAAAAAAAAQQAAAAAAAAAAAAAAAAAAAAAAAAAAAAAAAAAAAAAAAAABAAAAAAAAA8D8AAAAAAAAAQAAAAAAAAAAAAAAAAAAA8D8AAAAAAAAAAAAAAAAAAPA/AAAAAAAAAEAAAAAAAAAUQAAAAAAAAPA/AAAAAAAACEAAAAAAAAAAAAAAAAAAAPA/AAAAAAAACEAAAAAAAAAAAAAAAAAAAAAAAAAAAAAAAEAAAAAAAAAQQAAAAAAAAAhAAAAAAAAAAEAAAAAAAAAIQAAAAAAAAAhAAAAAAAAA8D8AAAAAAAAAAAAAAAAAAAhAAAAAAAAAAAAAAAAAAAAAAAAAAAAAAAAAAAAAAAAAAAAAAAAAAAAAAAAAAAAAAAAAAAAAAAAAEEAAAAAAAAAAAAAAAAAAAABAAAAAAAAACEAAAAAAAADwPwAAAAAAAPA/AAAAAAAAAAAAAAAAAAAAAAAAAAAAABBAAAAAAAAAAEAAAAAAAAAAQAAAAAAAAABAAAAAAAAA8D8AAAAAAAAAQAAAAAAAAAAAAAAAAAAAAAAAAAAAAAAIQAAAAAAAAPA/AAAAAAAAEEAAAAAAAAAAQAAAAAAAAAAAAAAAAAAAEEAAAAAAAAAQQAAAAAAAAAhAAAAAAAAAAAAAAAAAAADwPwAAAAAAAABAAAAAAAAAAEAAAAAAAAAIQAAAAAAAAAAAAAAAAAAAEEAAAAAAAAAAAAAAAAAAAPA/AAAAAAAAAAAAAAAAAAAAAAAAAAAAAAAAAAAAAAAAEEAAAAAAAAAAAAAAAAAAAPA/AAAAAAAAAAAAAAAAAAAAAAAAAAAAAAAAAAAAAAAAEEAAAAAAAAAAAAAAAAAAAAhAAAAAAAAACEAAAAAAAAAAAAAAAAAAAAhAAAAAAAAAAAAAAAAAAADwPwAAAAAAAAAAAAAAAAAAAAAAAAAAAAAAAAAAAAAAAPA/AAAAAAAAAAAAAAAAAAAAAAAAAAAAAAAAAAAAAAAACEAAAAAAAAAQQAAAAAAAAAAAAAAAAAAAAAAAAAAAAAAIQAAAAAAAAABAAAAAAAAAAAAAAAAAAADwPwAAAAAAAABAAAAAAAAAAAAAAAAAAAAAQAAAAAAAAAAAAAAAAAAAAEAAAAAAAAAAAAAAAAAAAABAAAAAAAAA8D8AAAAAAADwPwAAAAAAABBAAAAAAAAAAEAAAAAAAAAIQAAAAAAAAAAAAAAAAAAACEAAAAAAAADwPwAAAAAAAPA/AAAAAAAAEEAAAAAAAAAAAAAAAAAAAAAAAAAAAAAAAAAAAAAAAAAAAAAAAAAAAAAAAAAAAAAAAAAAAAAAAAAAAAAAAAAAAAAAAAAAAAAAAAAAAAAAAAAAAAAAAAAAAAAAAAAAAAAAAAAAAAAAAAAAAAAAAAAAAAAAAAAAAAAAAAAAAAAAAAAAAAAAAAAAAAAAAAAAAAAAAAAAAAAAAAAAAAAAAAAAAAAAAAAAAAAAAAAAAAAAAAAAAAAAAAAAAAAAAAAAAAAAAAAAAAAAAAAAAAAAAAAAAAAAAAAAAAAAAAAAAAAAAAAAAAAAAAAAAAAAAAAAAAAAAAAAAAAAAAAAAAAAAAAAAAAAAAAAAAAAAAAAAAAAAAAAAAAAAAAAAAAAAAAAAAAAAAAAAAAAAAAAAAAAAAAAAAAAAAAAAAAAAAAAAAAAAAAAAAAAAAAAAAAAAAAAAAAAAAAAAAAAAAAAAAAAAAAAAAAAAAAAAAAAAAAAAAAAAAAAAAAAAAAAAAAAAAAAAAAAAAAAAAAAAAAAAAAAAAAAAAAAAAAAAAAAAAAAAAAAAAAAAAAAAAAAAAAAAAAAAAAAAAAAAAAAAAAAAAAAAAAAAAAAAAAAAAAAAAAAAAAAAAAAAAAAAAAAAAAAAAAAAAAAAAAAAAAAAAAAAAAAAAAAAAAAAAAAAAAAAAAAAAAAAAAAAAAAAAAAAAAAAAAAAAAAAAAAAAAAAAAAAAAAAAAAAAAAAAAAAAAAAAAAAAAAAAAAAAAAAAAAAAAAAAAAAAAAAAAAAAAAAAAAAAAAAAAAAAAAAAAAAAAAAAAAAAAAAAAAAAAAAAAAAAAAAAAAAAAAAAAAAAAAAAAAAAAAAAAAAAAAAAAAAAAAAAAAAAAAAAAAAAAAAAAAAAAAAAAAAAAAAAAAAAAAAAAAAAAAAAAAAAAAAAAAAAAAAAAAAAAAAAAAAAAAAAAAAAAAAAAAAAAAAAAAAAAAAAAAAAAAAAAAAAAAAAAAAAAAAAAAAAAAAAAAAAAAAAAAAAAAAAAAAAAAAAAAAAAAAAAAAAAAAAAAAAAAAAAAAAAAAAAAAAAAAAAAAAAAAAAAAAAAAAAAAAAAAAAAAAAAAAAAAAAAAAAAAAAAAAAAAAAAAAAAAAAAAAAAAAAAAAAAAAAAAAAAAAAAAAAAAAAAAAAAAAAAAAAAAAAAAAAAAAAAAAAAAAAAAAAAAAAAAAAAAAAAAAAAAAAAAAAAAAAAAAAAAAAAAAAAAAAAAAAAAAAAAAAAAAAAAAAAAAAAAAAAAAAAAAAAAAAAAAAAAAAAAAAAAAAAAAAAAAAAAAAAAAAAAAAAAAAAAAAAAAAAAAAAAAAAAAAAAAAAAAAAAAAAAAAAAAAAAAAAAAAAAAAAAAAAAAAAAAAAAAAAAAAAAAAAAAAAAAAAAAAAAAAAAAAAAAAAAAAAAAAAAAAAAAAAAAAAAAAAAAAAAAAAAAAAAAAAAAAAAAAAAAAAAAAAAAAAAAAAAAAAAAAAAAAAAAAAAAAAAAAAAAAAAAAAAAAAAAAAAAAAAAAAAAAAAAAAAAAAAAAAAAAAAAAAAAAAAAAAAAAAAAAAAAAAAAAAAAAAAAAAAAAAAAAAAAAAAAA=",
          "dtype": "f8"
         },
         "xaxis": "x3",
         "yaxis": "y3"
        },
        {
         "name": "su",
         "nbinsx": 30,
         "opacity": 0.75,
         "type": "histogram",
         "x": {
          "bdata": "AAAAAAAAAAAAAAAAAAAAAAAAAAAAAAhAAAAAAAAAAAAAAAAAAAAAAAAAAAAAAAAAAAAAAAAAAAAAAAAAAAAQQAAAAAAAAAAAAAAAAAAAAAAAAAAAAAAQQAAAAAAAAAAAAAAAAAAA8D8AAAAAAAAAAAAAAAAAAABAAAAAAAAAAAAAAAAAAAAAAAAAAAAAAAAAAAAAAAAACEAAAAAAAAAAAAAAAAAAAAAAAAAAAAAAAAAAAAAAAAAAAAAAAAAAAAAAAAAAAAAAAAAAAAAAAAAAAAAAAAAAAAAAAAAAAAAAEEAAAAAAAAAIQAAAAAAAAAAAAAAAAAAAAAAAAAAAAAAAAAAAAAAAAPA/AAAAAAAAAAAAAAAAAAAAAAAAAAAAAPA/AAAAAAAAAAAAAAAAAAAAAAAAAAAAAAAAAAAAAAAAAEAAAAAAAAAAAAAAAAAAAAAAAAAAAAAAAAAAAAAAAAAAAAAAAAAAAAAAAAAAAAAAAAAAAAAAAAAAAAAAAAAAAAAAAAAAAAAAAAAAAAAAAAAAAAAAAAAAAAAAAAAAAAAAAAAAAAAAAAAAAAAAAAAAABRAAAAAAAAAAEAAAAAAAAAAAAAAAAAAABBAAAAAAAAAAAAAAAAAAAAAAAAAAAAAAAAAAAAAAAAAAAAAAAAAAAAIQAAAAAAAAAAAAAAAAAAAAAAAAAAAAAAAAAAAAAAAAAAAAAAAAAAAAAAAAAAAAAAAAAAAAAAAAAAAAAAAAAAAEEAAAAAAAAAQQAAAAAAAAAAAAAAAAAAACEAAAAAAAAAAAAAAAAAAAAAAAAAAAAAAAAAAAAAAAAAAAAAAAAAAAAAAAAAAAAAAAAAAAAAAAAAAAAAAAAAAAAAAAAAAAAAAAAAAAAAAAAAAAAAAAAAAAAAAAAAAAAAAAAAAAAAAAAAAAAAAAAAAAAAAAAAAAAAAAAAAAAAAAAAAAAAAAAAAAAAAAAAAAAAAAEAAAAAAAADwPwAAAAAAAAAAAAAAAAAAAEAAAAAAAAAAAAAAAAAAAAAAAAAAAAAA8D8AAAAAAAAAAAAAAAAAAAAAAAAAAAAAEEAAAAAAAAAAAAAAAAAAAAAAAAAAAAAAAAAAAAAAAAAAAAAAAAAAAAAAAAAAAAAAAAAAAAAAAAAAAAAAAAAAABBAAAAAAAAAAAAAAAAAAAAAAAAAAAAAAAAAAAAAAAAACEAAAAAAAAAAAAAAAAAAAABAAAAAAAAAAAAAAAAAAAAAAAAAAAAAAAAAAAAAAAAAAAAAAAAAAAAAAAAAAAAAAAAAAAAAAAAACEAAAAAAAAAAAAAAAAAAAAAAAAAAAAAACEAAAAAAAAAAAAAAAAAAAAAAAAAAAAAAAAAAAAAAAAAAAAAAAAAAAAhAAAAAAAAAAAAAAAAAAAAAAAAAAAAAAAAAAAAAAAAAAAAAAAAAAAAAAAAAAAAAAAAAAAAAAAAAAEAAAAAAAAAAAAAAAAAAAAAAAAAAAAAAAAAAAAAAAAAAAAAAAAAAABBAAAAAAAAAAAAAAAAAAAAAAAAAAAAAABBAAAAAAAAAAAAAAAAAAAAAAAAAAAAAAAhAAAAAAAAA8D8AAAAAAAAAAAAAAAAAAAAAAAAAAAAAAAAAAAAAAAAAAAAAAAAAAAAAAAAAAAAA8D8AAAAAAAAIQAAAAAAAAAAAAAAAAAAAAAAAAAAAAAAAAAAAAAAAAABAAAAAAAAAAAAAAAAAAAAAAAAAAAAAAAAAAAAAAAAAAAAAAAAAAAAAAAAAAAAAAAAAAAAAAAAAAEAAAAAAAAAAAAAAAAAAAAAAAAAAAAAAEEAAAAAAAAAAQAAAAAAAABRAAAAAAAAAAAAAAAAAAAAAQAAAAAAAAAAAAAAAAAAAAAAAAAAAAAAAAAAAAAAAAAAAAAAAAAAA8D8AAAAAAAAAAAAAAAAAAAAAAAAAAAAAEEAAAAAAAAAAAAAAAAAAAAAAAAAAAAAAAAAAAAAAAAAAQAAAAAAAAAAAAAAAAAAAAAAAAAAAAAAAAAAAAAAAAAAAAAAAAAAA8D8AAAAAAAAAAAAAAAAAAAAAAAAAAAAAAAAAAAAAAAAAAAAAAAAAAAAAAAAAAAAA8D8AAAAAAAAAAAAAAAAAAAAAAAAAAAAAAEAAAAAAAAAAAAAAAAAAAAAAAAAAAAAAAAAAAAAAAAAAAAAAAAAAAAAAAAAAAAAAAEAAAAAAAAAAAAAAAAAAAAAAAAAAAAAAAAAAAAAAAAAAAAAAAAAAAAAAAAAAAAAAAEAAAAAAAAAAAAAAAAAAABBAAAAAAAAA8D8AAAAAAAAAAAAAAAAAAAAAAAAAAAAAAAAAAAAAAAAAAAAAAAAAAAAAAAAAAAAAAAAAAAAAAAAAAAAAAAAAAAAAAAAAAAAAAAAAAAAAAAAIQAAAAAAAAAAAAAAAAAAAFEAAAAAAAAAAQAAAAAAAAAAAAAAAAAAAAAAAAAAAAAAAAAAAAAAAAAAAAAAAAAAAAAAAAAAAAAAAAAAAAAAAAAAAAAAAAAAAAAAAAAAAAAAAAAAAAAAAAAAAAAAAAAAAAEAAAAAAAAAAAAAAAAAAAAAAAAAAAAAAAAAAAAAAAAAAAAAAAAAAAAhAAAAAAAAA8D8AAAAAAAAAQAAAAAAAAAAAAAAAAAAAAAAAAAAAAAAAAAAAAAAAAAhAAAAAAAAA8D8AAAAAAAAAAAAAAAAAAAAAAAAAAAAAAAAAAAAAAAAAAAAAAAAAAAAAAAAAAAAAAAAAAAAAAAAAAAAAAAAAAAAAAAAAAAAAAAAAAAAAAAAAAAAAAAAAAAAAAAAAAAAAAAAAAAAAAAAAAAAAAAAAAAAAAAAAAAAAAAAAAAAAAAAAAAAAAAAAAAAAAAAAAAAAAAAAAAAAAAAAAAAAAAAAAAAAAAAAAAAAAAAAAAAAAAAAAAAAAAAAAAAAAAAAAAAAAAAAAAAAAAAAAAAAAAAAAAAAAAAAAAAAAAAAAAAAAAAAAAAAAAAAAAAAAAAAAAAAAAAAAAAAAAAAAAAAAAAAAAAAAAAAAAAAAAAAAAAAAAAAAAAAAAAAAAAAAAAAAAAAAAAAAAAAAAAAAAAAAAAAAAAAAAAAAAAAAAAAAAAAAAAAAAAAAAAAAAAAAAAAAAAAAAAAAAAAAAAAAAAAAAAAAAAAAAAAAAAAAAAAAAAAAAAAAAAAAAAAAAAAAAAAAAAAAAAAAAAAAAAAAAAAAAAAAAAAAAAAAAAAAAAAAAAAAAAAAAAAAAAAAAAAAAAAAAAAAAAAAAAAAAAAAAAAAAAAAAAAAAAAAAAAAAAAAAAAAAAAAAAAAAAAAAAAAAAAAAAAAAAAAAAAAAAAAAAAAAAAAAAAAAAAAAAAAAAAAAAAAAAAAAAAAAAAAAAAAAAAAAAAAAAAAAAAAAAAAAAAAAAAAAAAAAAAAAAAAAAAAAAAAAAAAAAAAAAAAAAAAAAAAAAAAAAAAAAAAAAAAAAAAAAAAAAAAAAAAAAAAAAAAAAAAAAAAAAAAAAAAAAAAAAAAAAAAAAAAAAAAAAAAAAAAAAAAAAAAAAAAAAAAAAAAAAAAAAAAAAAAAAAAAAAAAAAAAAAAAAAAAAAAAAAAAAAAAAAAAAAAAAAAAAAAAAAAAAAAAAAAAAAAAAAAAAAAAAAAAAAAAAAAAAAAAAAAAAAAAAAAAAAAAAAAAAAAAAAAAAAAAAAAAAAAAAAAAAAAAAAAAAAAAAAAAAAAAAAAAAAAAAAAAAAAAAAAAAAAAAAAAAAAAAAAAAAAAAAAAAAAAAAAAAAAAAAAAAAAAAAAAAAAAAAAAAAAAAAAAAAAAAAAAAAAAAAAAAAAAAAAAAAAAAAAAAAAAAAAAAAAAAAAAAAAAAAAAAAAAAAAAAAAAAAAAAAAAAAAAAAAAAAAAAAAAAAAAAAAAAAAAAAAAAAAAAAAAAAAAAAAAAAAAAAAAAAAAAAAAAAAAAAAAAAAAAAAAAAAAAAAAAAAAAAAAAAAAAAAAAAAAAAAAAAAAAAAAAAAAAAAAAAAAAAAAAAAAAAAAAAAAAAAAAAAAAAAAAAAAAAAAAAAAAAAAAAAAAAAAAAAAAAAAAAAAAAAAAAAAAAAAAAAAAAAAAAAAAAAAAAAAAAAAAAAAAAAAAAAAAAAAAAAAAAAAAAAAAAAAAAAAAAAAAAAAAAAAAAAAAAAAAAAAAAAAAAAAAAAAAAAAAAAAAAAAAAAAAAAAAAAAAAAAAAAAAAAAAAAAAAAAAAAAAAAAAAAAAAAAAAAAAAAAAAAAAAAAAAAAAAAAAAAAAAAAAAAAAAAAAAAAA=",
          "dtype": "f8"
         },
         "xaxis": "x4",
         "yaxis": "y4"
        },
        {
         "name": "bgr",
         "nbinsx": 30,
         "opacity": 0.75,
         "type": "histogram",
         "x": {
          "bdata": "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",
          "dtype": "f8"
         },
         "xaxis": "x5",
         "yaxis": "y5"
        },
        {
         "name": "bu",
         "nbinsx": 30,
         "opacity": 0.75,
         "type": "histogram",
         "x": {
          "bdata": "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",
          "dtype": "f8"
         },
         "xaxis": "x6",
         "yaxis": "y6"
        },
        {
         "name": "sc",
         "nbinsx": 30,
         "opacity": 0.75,
         "type": "histogram",
         "x": {
          "bdata": "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",
          "dtype": "f8"
         },
         "xaxis": "x7",
         "yaxis": "y7"
        },
        {
         "name": "sod",
         "nbinsx": 30,
         "opacity": 0.75,
         "type": "histogram",
         "x": {
          "bdata": "AAAAAABAYUAAAAAAAEBhQAAAAAAAQGFAAAAAAADAW0AAAAAAAEBhQAAAAAAAwGFAAAAAAAAAWkAAAAAAAEBhQAAAAAAAQGFAAAAAAACAXEAAAAAAAEBhQAAAAAAAYGBAAAAAAABAYUAAAAAAAOBgQAAAAAAAQGBAAAAAAACgYUAAAAAAAEBhQAAAAAAAYGFAAAAAAADgYEAAAAAAAEBhQAAAAAAA4GBAAAAAAAAAEkAAAAAAAABhQAAAAAAAQGFAAAAAAAAgYEAAAAAAAKBhQAAAAAAAgGFAAAAAAABAYEAAAAAAAEBhQAAAAAAAQGFAAAAAAACAYEAAAAAAAKBhQAAAAAAAoGBAAAAAAABAYUAAAAAAAEBhQAAAAAAAQGFAAAAAAACgYEAAAAAAAKBhQAAAAAAAgGBAAAAAAAAAYUAAAAAAAEBhQAAAAAAAQGFAAAAAAABgYUAAAAAAAMBgQAAAAAAAwGBAAAAAAABAYEAAAAAAAMBhQAAAAAAAQGFAAAAAAABAX0AAAAAAAEBhQAAAAAAAwGFAAAAAAAAAYUAAAAAAAEBhQAAAAAAAQGFAAAAAAAAAYUAAAAAAAEBhQAAAAAAAYGBAAAAAAACAYEAAAAAAAEBhQAAAAAAAQGFAAAAAAABAYUAAAAAAAGBkQAAAAAAAQGFAAAAAAABgYEAAAAAAAEBhQAAAAAAAQGFAAAAAAABgYEAAAAAAAEBhQAAAAAAAQGFAAAAAAABAYUAAAAAAACBhQAAAAAAAoGFAAAAAAABAYUAAAAAAAIBgQAAAAAAAYGBAAAAAAABAYUAAAAAAAIBgQAAAAAAAIGFAAAAAAACgYUAAAAAAAEBhQAAAAAAAoGBAAAAAAAAAYEAAAAAAAIBhQAAAAAAAwGBAAAAAAADgYEAAAAAAAEBhQAAAAAAAQGFAAAAAAABAYUAAAAAAAEBhQAAAAAAAYGFAAAAAAADgYUAAAAAAAABhQAAAAAAAoGBAAAAAAACAYUAAAAAAACBhQAAAAAAAYGBAAAAAAABAYUAAAAAAAIBgQAAAAAAA4GBAAAAAAABgYUAAAAAAAKBgQAAAAAAAYGFAAAAAAACgYUAAAAAAAEBhQAAAAAAAQGFAAAAAAABgYUAAAAAAAMBfQAAAAAAAYGFAAAAAAACgYUAAAAAAAEBhQAAAAAAAwGFAAAAAAAAAYEAAAAAAAEBhQAAAAAAAQGFAAAAAAABAYUAAAAAAAEBhQAAAAAAAQGFAAAAAAABgYUAAAAAAAEBhQAAAAAAAQGFAAAAAAAAgYUAAAAAAACBhQAAAAAAAQGBAAAAAAABAYUAAAAAAAEBhQAAAAAAAYGBAAAAAAAAAYUAAAAAAAABhQAAAAAAAoGBAAAAAAADgYEAAAAAAAMBgQAAAAAAAQGFAAAAAAAAAYUAAAAAAAABhQAAAAAAAQGFAAAAAAACAYUAAAAAAAEBiQAAAAAAAwGBAAAAAAADAYUAAAAAAAIBgQAAAAAAAwGFAAAAAAAAgYUAAAAAAAOBgQAAAAAAA4GBAAAAAAAAAYUAAAAAAAIBfQAAAAAAAYGFAAAAAAABAYEAAAAAAAEBhQAAAAAAAQGFAAAAAAABAYUAAAAAAAKBhQAAAAAAAoGBAAAAAAACAYEAAAAAAAIBhQAAAAAAAQGFAAAAAAABAYUAAAAAAAABhQAAAAAAAgGBAAAAAAACAXkAAAAAAAGBiQAAAAAAAQGFAAAAAAAAAX0AAAAAAAIBhQAAAAAAAIGFAAAAAAABAYUAAAAAAAMBfQAAAAAAAQGFAAAAAAABAYUAAAAAAAEBhQAAAAAAAYGBAAAAAAADAXEAAAAAAAEBgQAAAAAAAIGJAAAAAAACgYUAAAAAAAEBcQAAAAAAAQF9AAAAAAABAYUAAAAAAAGBhQAAAAAAAQGFAAAAAAABAYUAAAAAAAABhQAAAAAAAgGFAAAAAAADgYEAAAAAAAKBgQAAAAAAAQGFAAAAAAADgYEAAAAAAAEBhQAAAAAAAwGFAAAAAAAAgYUAAAAAAAOBgQAAAAAAAwGBAAAAAAABAYUAAAAAAAEBcQAAAAAAAQGFAAAAAAABAYUAAAAAAAIBeQAAAAAAAAF9AAAAAAAAgYUAAAAAAAIBhQAAAAAAAgGFAAAAAAAAgYUAAAAAAAOBgQAAAAAAAwGFAAAAAAAAgYkAAAAAAAEBhQAAAAAAA4GBAAAAAAABAYUAAAAAAAEBhQAAAAAAAQGFAAAAAAADgYEAAAAAAAEBhQAAAAAAAgGBAAAAAAAAgYUAAAAAAAEBhQAAAAAAAQGFAAAAAAABAYUAAAAAAAKBhQAAAAAAAQGFAAAAAAABAYUAAAAAAAEBhQAAAAAAAQGFAAAAAAABAYUAAAAAAAABhQAAAAAAAQGFAAAAAAABgYEAAAAAAAIBhQAAAAAAAQGFAAAAAAABAYUAAAAAAAIBcQAAAAAAAQGBAAAAAAABAYUAAAAAAAEBhQAAAAAAAQGJAAAAAAABAYUAAAAAAAEBhQAAAAAAAAGFAAAAAAABAYUAAAAAAAMBfQAAAAAAAIGFAAAAAAABAYUAAAAAAAIBhQAAAAAAAAF5AAAAAAABAYUAAAAAAAOBgQAAAAAAA4GBAAAAAAAAAXkAAAAAAAIBhQAAAAAAAQGFAAAAAAAAAX0AAAAAAAOBgQAAAAAAAwGJAAAAAAABgYkAAAAAAAOBgQAAAAAAA4GBAAAAAAAAAYkAAAAAAAEBiQAAAAAAA4GBAAAAAAACAYUAAAAAAAOBgQAAAAAAAYGJAAAAAAABgYUAAAAAAAOBgQAAAAAAAIGFAAAAAAACAYUAAAAAAAMBiQAAAAAAA4GBAAAAAAABAYkAAAAAAAIBhQAAAAAAAwGFAAAAAAAAgYkAAAAAAAABiQAAAAAAA4GBAAAAAAACAYUAAAAAAAKBhQAAAAAAAYGFAAAAAAAAgYUAAAAAAAOBgQAAAAAAAwGFAAAAAAACAYUAAAAAAAABiQAAAAAAAYGJAAAAAAADgYEAAAAAAAEBhQAAAAAAAwGFAAAAAAADgYEAAAAAAACBiQAAAAAAAIGFAAAAAAADgYEAAAAAAAOBhQAAAAAAAQGJAAAAAAACAYUAAAAAAAGBhQAAAAAAAwGJAAAAAAADgYEAAAAAAAMBiQAAAAAAAgGFAAAAAAABAYkAAAAAAAOBgQAAAAAAAwGJAAAAAAACgYUAAAAAAAGBiQAAAAAAAIGJAAAAAAABAYUAAAAAAAOBgQAAAAAAAQGFAAAAAAACAYUAAAAAAAMBiQAAAAAAA4GBAAAAAAABgYUAAAAAAAMBhQAAAAAAAYGJAAAAAAADgYEAAAAAAAMBhQAAAAAAAIGJAAAAAAABAYUAAAAAAAOBgQAAAAAAAYGFAAAAAAAAgYUAAAAAAAOBgQAAAAAAAwGJAAAAAAAAAYkAAAAAAAIBhQAAAAAAA4GFAAAAAAADAYkAAAAAAAIBhQAAAAAAAoGFAAAAAAADAYkAAAAAAACBiQAAAAAAAQGJAAAAAAADgYEAAAAAAAGBiQAAAAAAAwGJAAAAAAADAYUAAAAAAAABhQAAAAAAAYGFAAAAAAABAYUAAAAAAAKBhQAAAAAAAYGJAAAAAAAAAYUAAAAAAAMBhQAAAAAAAwGJAAAAAAABAYUAAAAAAAOBgQAAAAAAAwGJAAAAAAABAYUAAAAAAAKBhQAAAAAAAAGJAAAAAAABgYkAAAAAAAMBiQAAAAAAAwGFAAAAAAABgYUAAAAAAAKBhQAAAAAAAwGJAAAAAAABgYkAAAAAAACBiQAAAAAAAAGJAAAAAAACAYUAAAAAAAEBhQAAAAAAAYGJAAAAAAADgYEAAAAAAAEBhQAAAAAAAAGJAAAAAAABAYUAAAAAAACBhQAAAAAAAIGJAAAAAAACgYUAAAAAAAGBhQAAAAAAAQGJAAAAAAAAAYkAAAAAAAGBhQAAAAAAAIGJAAAAAAADAYkAAAAAAAMBhQAAAAAAAQGJAAAAAAADgYUAAAAAAAGBiQAAAAAAAIGJAAAAAAACAYUAAAAAAAEBhQAAAAAAAYGFAAAAAAADAYUAAAAAAACBhQAAAAAAAoGFAAAAAAADAYkAAAAAAAEBiQAAAAAAAwGFAAAAAAAAAYUAAAAAAAABiQAAAAAAAgGFAAAAAAADgYEAAAAAAAMBhQAAAAAAAYGJAAAAAAACgYUAAAAAAAGBhQAAAAAAAwGJAAAAAAACgYUAAAAAAACBhQAAAAAAA4GBAAAAAAACgYUA=",
          "dtype": "f8"
         },
         "xaxis": "x8",
         "yaxis": "y8"
        },
        {
         "name": "pot",
         "nbinsx": 30,
         "opacity": 0.75,
         "type": "histogram",
         "x": {
          "bdata": "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",
          "dtype": "f8"
         },
         "xaxis": "x9",
         "yaxis": "y9"
        },
        {
         "name": "hemo",
         "nbinsx": 30,
         "opacity": 0.75,
         "type": "histogram",
         "x": {
          "bdata": "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",
          "dtype": "f8"
         },
         "xaxis": "x10",
         "yaxis": "y10"
        }
       ],
       "layout": {
        "annotations": [
         {
          "font": {
           "size": 16
          },
          "showarrow": false,
          "text": "bp",
          "x": 0.14444444444444446,
          "xanchor": "center",
          "xref": "paper",
          "y": 1,
          "yanchor": "bottom",
          "yref": "paper"
         },
         {
          "font": {
           "size": 16
          },
          "showarrow": false,
          "text": "sg",
          "x": 0.5,
          "xanchor": "center",
          "xref": "paper",
          "y": 1,
          "yanchor": "bottom",
          "yref": "paper"
         },
         {
          "font": {
           "size": 16
          },
          "showarrow": false,
          "text": "al",
          "x": 0.8555555555555556,
          "xanchor": "center",
          "xref": "paper",
          "y": 1,
          "yanchor": "bottom",
          "yref": "paper"
         },
         {
          "font": {
           "size": 16
          },
          "showarrow": false,
          "text": "su",
          "x": 0.14444444444444446,
          "xanchor": "center",
          "xref": "paper",
          "y": 0.71875,
          "yanchor": "bottom",
          "yref": "paper"
         },
         {
          "font": {
           "size": 16
          },
          "showarrow": false,
          "text": "bgr",
          "x": 0.5,
          "xanchor": "center",
          "xref": "paper",
          "y": 0.71875,
          "yanchor": "bottom",
          "yref": "paper"
         },
         {
          "font": {
           "size": 16
          },
          "showarrow": false,
          "text": "bu",
          "x": 0.8555555555555556,
          "xanchor": "center",
          "xref": "paper",
          "y": 0.71875,
          "yanchor": "bottom",
          "yref": "paper"
         },
         {
          "font": {
           "size": 16
          },
          "showarrow": false,
          "text": "sc",
          "x": 0.14444444444444446,
          "xanchor": "center",
          "xref": "paper",
          "y": 0.4375,
          "yanchor": "bottom",
          "yref": "paper"
         },
         {
          "font": {
           "size": 16
          },
          "showarrow": false,
          "text": "sod",
          "x": 0.5,
          "xanchor": "center",
          "xref": "paper",
          "y": 0.4375,
          "yanchor": "bottom",
          "yref": "paper"
         },
         {
          "font": {
           "size": 16
          },
          "showarrow": false,
          "text": "pot",
          "x": 0.8555555555555556,
          "xanchor": "center",
          "xref": "paper",
          "y": 0.4375,
          "yanchor": "bottom",
          "yref": "paper"
         },
         {
          "font": {
           "size": 16
          },
          "showarrow": false,
          "text": "hemo",
          "x": 0.14444444444444446,
          "xanchor": "center",
          "xref": "paper",
          "y": 0.15625,
          "yanchor": "bottom",
          "yref": "paper"
         }
        ],
        "height": 1200,
        "showlegend": false,
        "template": {
         "data": {
          "bar": [
           {
            "error_x": {
             "color": "#f2f5fa"
            },
            "error_y": {
             "color": "#f2f5fa"
            },
            "marker": {
             "line": {
              "color": "rgb(17,17,17)",
              "width": 0.5
             },
             "pattern": {
              "fillmode": "overlay",
              "size": 10,
              "solidity": 0.2
             }
            },
            "type": "bar"
           }
          ],
          "barpolar": [
           {
            "marker": {
             "line": {
              "color": "rgb(17,17,17)",
              "width": 0.5
             },
             "pattern": {
              "fillmode": "overlay",
              "size": 10,
              "solidity": 0.2
             }
            },
            "type": "barpolar"
           }
          ],
          "carpet": [
           {
            "aaxis": {
             "endlinecolor": "#A2B1C6",
             "gridcolor": "#506784",
             "linecolor": "#506784",
             "minorgridcolor": "#506784",
             "startlinecolor": "#A2B1C6"
            },
            "baxis": {
             "endlinecolor": "#A2B1C6",
             "gridcolor": "#506784",
             "linecolor": "#506784",
             "minorgridcolor": "#506784",
             "startlinecolor": "#A2B1C6"
            },
            "type": "carpet"
           }
          ],
          "choropleth": [
           {
            "colorbar": {
             "outlinewidth": 0,
             "ticks": ""
            },
            "type": "choropleth"
           }
          ],
          "contour": [
           {
            "colorbar": {
             "outlinewidth": 0,
             "ticks": ""
            },
            "colorscale": [
             [
              0,
              "#0d0887"
             ],
             [
              0.1111111111111111,
              "#46039f"
             ],
             [
              0.2222222222222222,
              "#7201a8"
             ],
             [
              0.3333333333333333,
              "#9c179e"
             ],
             [
              0.4444444444444444,
              "#bd3786"
             ],
             [
              0.5555555555555556,
              "#d8576b"
             ],
             [
              0.6666666666666666,
              "#ed7953"
             ],
             [
              0.7777777777777778,
              "#fb9f3a"
             ],
             [
              0.8888888888888888,
              "#fdca26"
             ],
             [
              1,
              "#f0f921"
             ]
            ],
            "type": "contour"
           }
          ],
          "contourcarpet": [
           {
            "colorbar": {
             "outlinewidth": 0,
             "ticks": ""
            },
            "type": "contourcarpet"
           }
          ],
          "heatmap": [
           {
            "colorbar": {
             "outlinewidth": 0,
             "ticks": ""
            },
            "colorscale": [
             [
              0,
              "#0d0887"
             ],
             [
              0.1111111111111111,
              "#46039f"
             ],
             [
              0.2222222222222222,
              "#7201a8"
             ],
             [
              0.3333333333333333,
              "#9c179e"
             ],
             [
              0.4444444444444444,
              "#bd3786"
             ],
             [
              0.5555555555555556,
              "#d8576b"
             ],
             [
              0.6666666666666666,
              "#ed7953"
             ],
             [
              0.7777777777777778,
              "#fb9f3a"
             ],
             [
              0.8888888888888888,
              "#fdca26"
             ],
             [
              1,
              "#f0f921"
             ]
            ],
            "type": "heatmap"
           }
          ],
          "histogram": [
           {
            "marker": {
             "pattern": {
              "fillmode": "overlay",
              "size": 10,
              "solidity": 0.2
             }
            },
            "type": "histogram"
           }
          ],
          "histogram2d": [
           {
            "colorbar": {
             "outlinewidth": 0,
             "ticks": ""
            },
            "colorscale": [
             [
              0,
              "#0d0887"
             ],
             [
              0.1111111111111111,
              "#46039f"
             ],
             [
              0.2222222222222222,
              "#7201a8"
             ],
             [
              0.3333333333333333,
              "#9c179e"
             ],
             [
              0.4444444444444444,
              "#bd3786"
             ],
             [
              0.5555555555555556,
              "#d8576b"
             ],
             [
              0.6666666666666666,
              "#ed7953"
             ],
             [
              0.7777777777777778,
              "#fb9f3a"
             ],
             [
              0.8888888888888888,
              "#fdca26"
             ],
             [
              1,
              "#f0f921"
             ]
            ],
            "type": "histogram2d"
           }
          ],
          "histogram2dcontour": [
           {
            "colorbar": {
             "outlinewidth": 0,
             "ticks": ""
            },
            "colorscale": [
             [
              0,
              "#0d0887"
             ],
             [
              0.1111111111111111,
              "#46039f"
             ],
             [
              0.2222222222222222,
              "#7201a8"
             ],
             [
              0.3333333333333333,
              "#9c179e"
             ],
             [
              0.4444444444444444,
              "#bd3786"
             ],
             [
              0.5555555555555556,
              "#d8576b"
             ],
             [
              0.6666666666666666,
              "#ed7953"
             ],
             [
              0.7777777777777778,
              "#fb9f3a"
             ],
             [
              0.8888888888888888,
              "#fdca26"
             ],
             [
              1,
              "#f0f921"
             ]
            ],
            "type": "histogram2dcontour"
           }
          ],
          "mesh3d": [
           {
            "colorbar": {
             "outlinewidth": 0,
             "ticks": ""
            },
            "type": "mesh3d"
           }
          ],
          "parcoords": [
           {
            "line": {
             "colorbar": {
              "outlinewidth": 0,
              "ticks": ""
             }
            },
            "type": "parcoords"
           }
          ],
          "pie": [
           {
            "automargin": true,
            "type": "pie"
           }
          ],
          "scatter": [
           {
            "marker": {
             "line": {
              "color": "#283442"
             }
            },
            "type": "scatter"
           }
          ],
          "scatter3d": [
           {
            "line": {
             "colorbar": {
              "outlinewidth": 0,
              "ticks": ""
             }
            },
            "marker": {
             "colorbar": {
              "outlinewidth": 0,
              "ticks": ""
             }
            },
            "type": "scatter3d"
           }
          ],
          "scattercarpet": [
           {
            "marker": {
             "colorbar": {
              "outlinewidth": 0,
              "ticks": ""
             }
            },
            "type": "scattercarpet"
           }
          ],
          "scattergeo": [
           {
            "marker": {
             "colorbar": {
              "outlinewidth": 0,
              "ticks": ""
             }
            },
            "type": "scattergeo"
           }
          ],
          "scattergl": [
           {
            "marker": {
             "line": {
              "color": "#283442"
             }
            },
            "type": "scattergl"
           }
          ],
          "scattermap": [
           {
            "marker": {
             "colorbar": {
              "outlinewidth": 0,
              "ticks": ""
             }
            },
            "type": "scattermap"
           }
          ],
          "scattermapbox": [
           {
            "marker": {
             "colorbar": {
              "outlinewidth": 0,
              "ticks": ""
             }
            },
            "type": "scattermapbox"
           }
          ],
          "scatterpolar": [
           {
            "marker": {
             "colorbar": {
              "outlinewidth": 0,
              "ticks": ""
             }
            },
            "type": "scatterpolar"
           }
          ],
          "scatterpolargl": [
           {
            "marker": {
             "colorbar": {
              "outlinewidth": 0,
              "ticks": ""
             }
            },
            "type": "scatterpolargl"
           }
          ],
          "scatterternary": [
           {
            "marker": {
             "colorbar": {
              "outlinewidth": 0,
              "ticks": ""
             }
            },
            "type": "scatterternary"
           }
          ],
          "surface": [
           {
            "colorbar": {
             "outlinewidth": 0,
             "ticks": ""
            },
            "colorscale": [
             [
              0,
              "#0d0887"
             ],
             [
              0.1111111111111111,
              "#46039f"
             ],
             [
              0.2222222222222222,
              "#7201a8"
             ],
             [
              0.3333333333333333,
              "#9c179e"
             ],
             [
              0.4444444444444444,
              "#bd3786"
             ],
             [
              0.5555555555555556,
              "#d8576b"
             ],
             [
              0.6666666666666666,
              "#ed7953"
             ],
             [
              0.7777777777777778,
              "#fb9f3a"
             ],
             [
              0.8888888888888888,
              "#fdca26"
             ],
             [
              1,
              "#f0f921"
             ]
            ],
            "type": "surface"
           }
          ],
          "table": [
           {
            "cells": {
             "fill": {
              "color": "#506784"
             },
             "line": {
              "color": "rgb(17,17,17)"
             }
            },
            "header": {
             "fill": {
              "color": "#2a3f5f"
             },
             "line": {
              "color": "rgb(17,17,17)"
             }
            },
            "type": "table"
           }
          ]
         },
         "layout": {
          "annotationdefaults": {
           "arrowcolor": "#f2f5fa",
           "arrowhead": 0,
           "arrowwidth": 1
          },
          "autotypenumbers": "strict",
          "coloraxis": {
           "colorbar": {
            "outlinewidth": 0,
            "ticks": ""
           }
          },
          "colorscale": {
           "diverging": [
            [
             0,
             "#8e0152"
            ],
            [
             0.1,
             "#c51b7d"
            ],
            [
             0.2,
             "#de77ae"
            ],
            [
             0.3,
             "#f1b6da"
            ],
            [
             0.4,
             "#fde0ef"
            ],
            [
             0.5,
             "#f7f7f7"
            ],
            [
             0.6,
             "#e6f5d0"
            ],
            [
             0.7,
             "#b8e186"
            ],
            [
             0.8,
             "#7fbc41"
            ],
            [
             0.9,
             "#4d9221"
            ],
            [
             1,
             "#276419"
            ]
           ],
           "sequential": [
            [
             0,
             "#0d0887"
            ],
            [
             0.1111111111111111,
             "#46039f"
            ],
            [
             0.2222222222222222,
             "#7201a8"
            ],
            [
             0.3333333333333333,
             "#9c179e"
            ],
            [
             0.4444444444444444,
             "#bd3786"
            ],
            [
             0.5555555555555556,
             "#d8576b"
            ],
            [
             0.6666666666666666,
             "#ed7953"
            ],
            [
             0.7777777777777778,
             "#fb9f3a"
            ],
            [
             0.8888888888888888,
             "#fdca26"
            ],
            [
             1,
             "#f0f921"
            ]
           ],
           "sequentialminus": [
            [
             0,
             "#0d0887"
            ],
            [
             0.1111111111111111,
             "#46039f"
            ],
            [
             0.2222222222222222,
             "#7201a8"
            ],
            [
             0.3333333333333333,
             "#9c179e"
            ],
            [
             0.4444444444444444,
             "#bd3786"
            ],
            [
             0.5555555555555556,
             "#d8576b"
            ],
            [
             0.6666666666666666,
             "#ed7953"
            ],
            [
             0.7777777777777778,
             "#fb9f3a"
            ],
            [
             0.8888888888888888,
             "#fdca26"
            ],
            [
             1,
             "#f0f921"
            ]
           ]
          },
          "colorway": [
           "#636efa",
           "#EF553B",
           "#00cc96",
           "#ab63fa",
           "#FFA15A",
           "#19d3f3",
           "#FF6692",
           "#B6E880",
           "#FF97FF",
           "#FECB52"
          ],
          "font": {
           "color": "#f2f5fa"
          },
          "geo": {
           "bgcolor": "rgb(17,17,17)",
           "lakecolor": "rgb(17,17,17)",
           "landcolor": "rgb(17,17,17)",
           "showlakes": true,
           "showland": true,
           "subunitcolor": "#506784"
          },
          "hoverlabel": {
           "align": "left"
          },
          "hovermode": "closest",
          "mapbox": {
           "style": "dark"
          },
          "paper_bgcolor": "rgb(17,17,17)",
          "plot_bgcolor": "rgb(17,17,17)",
          "polar": {
           "angularaxis": {
            "gridcolor": "#506784",
            "linecolor": "#506784",
            "ticks": ""
           },
           "bgcolor": "rgb(17,17,17)",
           "radialaxis": {
            "gridcolor": "#506784",
            "linecolor": "#506784",
            "ticks": ""
           }
          },
          "scene": {
           "xaxis": {
            "backgroundcolor": "rgb(17,17,17)",
            "gridcolor": "#506784",
            "gridwidth": 2,
            "linecolor": "#506784",
            "showbackground": true,
            "ticks": "",
            "zerolinecolor": "#C8D4E3"
           },
           "yaxis": {
            "backgroundcolor": "rgb(17,17,17)",
            "gridcolor": "#506784",
            "gridwidth": 2,
            "linecolor": "#506784",
            "showbackground": true,
            "ticks": "",
            "zerolinecolor": "#C8D4E3"
           },
           "zaxis": {
            "backgroundcolor": "rgb(17,17,17)",
            "gridcolor": "#506784",
            "gridwidth": 2,
            "linecolor": "#506784",
            "showbackground": true,
            "ticks": "",
            "zerolinecolor": "#C8D4E3"
           }
          },
          "shapedefaults": {
           "line": {
            "color": "#f2f5fa"
           }
          },
          "sliderdefaults": {
           "bgcolor": "#C8D4E3",
           "bordercolor": "rgb(17,17,17)",
           "borderwidth": 1,
           "tickwidth": 0
          },
          "ternary": {
           "aaxis": {
            "gridcolor": "#506784",
            "linecolor": "#506784",
            "ticks": ""
           },
           "baxis": {
            "gridcolor": "#506784",
            "linecolor": "#506784",
            "ticks": ""
           },
           "bgcolor": "rgb(17,17,17)",
           "caxis": {
            "gridcolor": "#506784",
            "linecolor": "#506784",
            "ticks": ""
           }
          },
          "title": {
           "x": 0.05
          },
          "updatemenudefaults": {
           "bgcolor": "#506784",
           "borderwidth": 0
          },
          "xaxis": {
           "automargin": true,
           "gridcolor": "#283442",
           "linecolor": "#506784",
           "ticks": "",
           "title": {
            "standoff": 15
           },
           "zerolinecolor": "#283442",
           "zerolinewidth": 2
          },
          "yaxis": {
           "automargin": true,
           "gridcolor": "#283442",
           "linecolor": "#506784",
           "ticks": "",
           "title": {
            "standoff": 15
           },
           "zerolinecolor": "#283442",
           "zerolinewidth": 2
          }
         }
        },
        "title": {
         "text": "Distribution of Numerical Features"
        },
        "width": 1000,
        "xaxis": {
         "anchor": "y",
         "domain": [
          0,
          0.2888888888888889
         ]
        },
        "xaxis10": {
         "anchor": "y10",
         "domain": [
          0,
          0.2888888888888889
         ]
        },
        "xaxis11": {
         "anchor": "y11",
         "domain": [
          0.35555555555555557,
          0.6444444444444445
         ]
        },
        "xaxis12": {
         "anchor": "y12",
         "domain": [
          0.7111111111111111,
          1
         ]
        },
        "xaxis2": {
         "anchor": "y2",
         "domain": [
          0.35555555555555557,
          0.6444444444444445
         ]
        },
        "xaxis3": {
         "anchor": "y3",
         "domain": [
          0.7111111111111111,
          1
         ]
        },
        "xaxis4": {
         "anchor": "y4",
         "domain": [
          0,
          0.2888888888888889
         ]
        },
        "xaxis5": {
         "anchor": "y5",
         "domain": [
          0.35555555555555557,
          0.6444444444444445
         ]
        },
        "xaxis6": {
         "anchor": "y6",
         "domain": [
          0.7111111111111111,
          1
         ]
        },
        "xaxis7": {
         "anchor": "y7",
         "domain": [
          0,
          0.2888888888888889
         ]
        },
        "xaxis8": {
         "anchor": "y8",
         "domain": [
          0.35555555555555557,
          0.6444444444444445
         ]
        },
        "xaxis9": {
         "anchor": "y9",
         "domain": [
          0.7111111111111111,
          1
         ]
        },
        "yaxis": {
         "anchor": "x",
         "domain": [
          0.84375,
          1
         ]
        },
        "yaxis10": {
         "anchor": "x10",
         "domain": [
          0,
          0.15625
         ]
        },
        "yaxis11": {
         "anchor": "x11",
         "domain": [
          0,
          0.15625
         ]
        },
        "yaxis12": {
         "anchor": "x12",
         "domain": [
          0,
          0.15625
         ]
        },
        "yaxis2": {
         "anchor": "x2",
         "domain": [
          0.84375,
          1
         ]
        },
        "yaxis3": {
         "anchor": "x3",
         "domain": [
          0.84375,
          1
         ]
        },
        "yaxis4": {
         "anchor": "x4",
         "domain": [
          0.5625,
          0.71875
         ]
        },
        "yaxis5": {
         "anchor": "x5",
         "domain": [
          0.5625,
          0.71875
         ]
        },
        "yaxis6": {
         "anchor": "x6",
         "domain": [
          0.5625,
          0.71875
         ]
        },
        "yaxis7": {
         "anchor": "x7",
         "domain": [
          0.28125,
          0.4375
         ]
        },
        "yaxis8": {
         "anchor": "x8",
         "domain": [
          0.28125,
          0.4375
         ]
        },
        "yaxis9": {
         "anchor": "x9",
         "domain": [
          0.28125,
          0.4375
         ]
        }
       }
      }
     },
     "metadata": {},
     "output_type": "display_data"
    }
   ],
   "source": [
    "import plotly.express as px\n",
    "import plotly.graph_objects as go\n",
    "from plotly.subplots import make_subplots\n",
    "\n",
    "numerical_columns = df.select_dtypes(include=['int64', 'float64']).columns.tolist()\n",
    "\n",
    "exclude_columns = [\"id\", \"htn\", \"dm\", \"cad\", \"pcc\", \"ba\", \"rbc\", \"pc\", \"appet\", \"pe\", \"ane\", \"classification\",'age_group_encoded']\n",
    "numerical_columns = [col for col in numerical_columns if col not in exclude_columns]\n",
    "\n",
    "num_cols = 3 \n",
    "num_rows = -(-len(numerical_columns) // num_cols) \n",
    "fig = make_subplots(rows=num_rows, cols=num_cols, subplot_titles=numerical_columns)\n",
    "\n",
    "for idx, col in enumerate(numerical_columns):\n",
    "    row = (idx // num_cols) + 1\n",
    "    col_num = (idx % num_cols) + 1\n",
    "    fig.add_trace(go.Histogram(x=df[col], name=col, nbinsx=30, opacity=0.75), row=row, col=col_num)\n",
    "\n",
    "fig.update_layout(\n",
    "    title_text=\"Distribution of Numerical Features\",\n",
    "    showlegend=False,\n",
    "    height=300 * num_rows,  \n",
    "    width=1000,\n",
    "    template=\"plotly_dark\"\n",
    ")\n",
    "\n",
    "fig.show()\n"
   ]
  },
  {
   "cell_type": "markdown",
   "metadata": {},
   "source": [
    "We use Standard Scaling for bp and hemo as they have a near-normal distribution, making Z-score normalization ideal.\n",
    "\n",
    "Min-Max Scaling is applied to sg, sod, and pot since they fall within small fixed ranges, so 0-1 scaling works best.\n",
    "\n",
    "For bgr, bu, sc, su, and al, we use Log Transformation + Standard Scaling to reduce skewness and normalize distributions."
   ]
  },
  {
   "cell_type": "code",
   "execution_count": 49,
   "metadata": {},
   "outputs": [
    {
     "name": "stdout",
     "output_type": "stream",
     "text": [
      "Scaling applied successfully!\n"
     ]
    },
    {
     "data": {
      "text/plain": [
       "id                   0\n",
       "bp                   0\n",
       "sg                   0\n",
       "al                   0\n",
       "su                   0\n",
       "rbc                  0\n",
       "pc                   0\n",
       "pcc                  0\n",
       "ba                   0\n",
       "bgr                  0\n",
       "bu                   0\n",
       "sc                   0\n",
       "sod                  0\n",
       "pot                  0\n",
       "hemo                 0\n",
       "pcv                  0\n",
       "wc                   0\n",
       "rc                   0\n",
       "htn                  0\n",
       "dm                   0\n",
       "cad                  0\n",
       "appet                0\n",
       "pe                   0\n",
       "ane                  0\n",
       "classification       0\n",
       "age_group_encoded    0\n",
       "dtype: int64"
      ]
     },
     "execution_count": 49,
     "metadata": {},
     "output_type": "execute_result"
    }
   ],
   "source": [
    "from sklearn.preprocessing import StandardScaler, MinMaxScaler\n",
    "import numpy as np\n",
    "\n",
    "standard_scaler = StandardScaler()\n",
    "minmax_scaler = MinMaxScaler()\n",
    "\n",
    "df[['bp', 'hemo']] = standard_scaler.fit_transform(df[['bp', 'hemo']])\n",
    "\n",
    "df[['sg', 'sod', 'pot']] = minmax_scaler.fit_transform(df[['sg', 'sod', 'pot']])\n",
    "\n",
    "skewed_features = ['bgr', 'bu', 'sc', 'su', 'al']\n",
    "df[skewed_features] = np.log1p(df[skewed_features]) \n",
    "df[skewed_features] = standard_scaler.fit_transform(df[skewed_features])  \n",
    "print(\"Scaling applied successfully!\")\n",
    "\n",
    "df.isnull().sum()"
   ]
  },
  {
   "cell_type": "markdown",
   "metadata": {},
   "source": [
    "Making some changes "
   ]
  },
  {
   "cell_type": "code",
   "execution_count": 50,
   "metadata": {},
   "outputs": [
    {
     "name": "stdout",
     "output_type": "stream",
     "text": [
      "id                     int64\n",
      "bp                   float64\n",
      "sg                   float64\n",
      "al                   float64\n",
      "su                   float64\n",
      "rbc                    int64\n",
      "pc                     int64\n",
      "pcc                    int64\n",
      "ba                     int64\n",
      "bgr                  float64\n",
      "bu                   float64\n",
      "sc                   float64\n",
      "sod                  float64\n",
      "pot                  float64\n",
      "hemo                 float64\n",
      "pcv                  float64\n",
      "wc                   float64\n",
      "rc                   float64\n",
      "htn                    int64\n",
      "dm                     int64\n",
      "cad                    int64\n",
      "appet                  int64\n",
      "pe                     int64\n",
      "ane                    int64\n",
      "classification         int64\n",
      "age_group_encoded      int64\n",
      "dtype: object\n",
      "id                   0\n",
      "bp                   0\n",
      "sg                   0\n",
      "al                   0\n",
      "su                   0\n",
      "rbc                  0\n",
      "pc                   0\n",
      "pcc                  0\n",
      "ba                   0\n",
      "bgr                  0\n",
      "bu                   0\n",
      "sc                   0\n",
      "sod                  0\n",
      "pot                  0\n",
      "hemo                 0\n",
      "pcv                  0\n",
      "wc                   0\n",
      "rc                   0\n",
      "htn                  0\n",
      "dm                   0\n",
      "cad                  0\n",
      "appet                0\n",
      "pe                   0\n",
      "ane                  0\n",
      "classification       0\n",
      "age_group_encoded    0\n",
      "dtype: int64\n"
     ]
    },
    {
     "name": "stderr",
     "output_type": "stream",
     "text": [
      "C:\\Users\\Amy Joanna\\AppData\\Local\\Temp\\ipykernel_17300\\1039869326.py:8: FutureWarning:\n",
      "\n",
      "A value is trying to be set on a copy of a DataFrame or Series through chained assignment using an inplace method.\n",
      "The behavior will change in pandas 3.0. This inplace method will never work because the intermediate object on which we are setting values always behaves as a copy.\n",
      "\n",
      "For example, when doing 'df[col].method(value, inplace=True)', try using 'df.method({col: value}, inplace=True)' or df[col] = df[col].method(value) instead, to perform the operation inplace on the original object.\n",
      "\n",
      "\n",
      "\n",
      "C:\\Users\\Amy Joanna\\AppData\\Local\\Temp\\ipykernel_17300\\1039869326.py:8: FutureWarning:\n",
      "\n",
      "A value is trying to be set on a copy of a DataFrame or Series through chained assignment using an inplace method.\n",
      "The behavior will change in pandas 3.0. This inplace method will never work because the intermediate object on which we are setting values always behaves as a copy.\n",
      "\n",
      "For example, when doing 'df[col].method(value, inplace=True)', try using 'df.method({col: value}, inplace=True)' or df[col] = df[col].method(value) instead, to perform the operation inplace on the original object.\n",
      "\n",
      "\n",
      "\n",
      "C:\\Users\\Amy Joanna\\AppData\\Local\\Temp\\ipykernel_17300\\1039869326.py:8: FutureWarning:\n",
      "\n",
      "A value is trying to be set on a copy of a DataFrame or Series through chained assignment using an inplace method.\n",
      "The behavior will change in pandas 3.0. This inplace method will never work because the intermediate object on which we are setting values always behaves as a copy.\n",
      "\n",
      "For example, when doing 'df[col].method(value, inplace=True)', try using 'df.method({col: value}, inplace=True)' or df[col] = df[col].method(value) instead, to perform the operation inplace on the original object.\n",
      "\n",
      "\n",
      "\n"
     ]
    }
   ],
   "source": [
    "import numpy as np\n",
    "import pandas as pd\n",
    "\n",
    "# Convert problematic columns\n",
    "for col in ['pcv', 'wc', 'rc']:\n",
    "    df[col] = df[col].replace(['nan', 'NaN', '?', ''], np.nan)  # Replace non-numeric placeholders with NaN\n",
    "    df[col] = pd.to_numeric(df[col], errors='coerce')  # Convert column to numeric (forcing non-numeric to NaN)\n",
    "    df[col].fillna(df[col].median(), inplace=True)  # Replace NaN with the median of the column\n",
    "    df[col] = df[col].astype(float)  # Ensure the column is float\n",
    "\n",
    "# Verify changes\n",
    "print(df.dtypes)  # Check if columns are now float\n",
    "print(df.isnull().sum())  # Confirm no missing values\n"
   ]
  },
  {
   "cell_type": "markdown",
   "metadata": {},
   "source": [
    "Splitting the data set for Training,Validating and Testing"
   ]
  },
  {
   "cell_type": "code",
   "execution_count": 51,
   "metadata": {},
   "outputs": [
    {
     "name": "stdout",
     "output_type": "stream",
     "text": [
      "Train set: (280, 25), Validation set: (60, 25), Test set: (60, 25)\n"
     ]
    }
   ],
   "source": [
    "from sklearn.model_selection import train_test_split\n",
    "\n",
    "X = df.drop(columns=['classification'])  \n",
    "y = df['classification']\n",
    "\n",
    "X_train, X_temp, y_train, y_temp = train_test_split(X, y, test_size=0.3, random_state=42, stratify=y)\n",
    "\n",
    "X_val, X_test, y_val, y_test = train_test_split(X_temp, y_temp, test_size=0.5, random_state=42, stratify=y_temp)\n",
    "\n",
    "# print(X_train.isnull().sum().sum()) \n",
    "# print(X_val.isnull().sum().sum())   \n",
    "# print(X_test.isnull().sum().sum()) \n",
    "\n",
    "print(f\"Train set: {X_train.shape}, Validation set: {X_val.shape}, Test set: {X_test.shape}\")\n"
   ]
  },
  {
   "cell_type": "code",
   "execution_count": 52,
   "metadata": {},
   "outputs": [
    {
     "name": "stdout",
     "output_type": "stream",
     "text": [
      "🔹 Random Forest Validation Results:\n",
      "              precision    recall  f1-score   support\n",
      "\n",
      "           0       1.00      1.00      1.00        22\n",
      "           1       1.00      1.00      1.00        38\n",
      "\n",
      "    accuracy                           1.00        60\n",
      "   macro avg       1.00      1.00      1.00        60\n",
      "weighted avg       1.00      1.00      1.00        60\n",
      "\n",
      "🔹 Random Forest Test Results:\n",
      "              precision    recall  f1-score   support\n",
      "\n",
      "           0       1.00      1.00      1.00        23\n",
      "           1       1.00      1.00      1.00        37\n",
      "\n",
      "    accuracy                           1.00        60\n",
      "   macro avg       1.00      1.00      1.00        60\n",
      "weighted avg       1.00      1.00      1.00        60\n",
      "\n",
      "Test Accuracy: 1.0\n"
     ]
    }
   ],
   "source": [
    "from sklearn.ensemble import RandomForestClassifier\n",
    "from sklearn.metrics import accuracy_score, classification_report\n",
    "from sklearn.feature_selection import SequentialFeatureSelector\n",
    "\n",
    "rf_model = RandomForestClassifier(n_estimators=100, random_state=42)\n",
    "\n",
    "# Apply Forward Feature Selection\n",
    "sfs = SequentialFeatureSelector(rf_model, n_features_to_select=10, direction='forward')\n",
    "X_train_selected = sfs.fit_transform(X_train, y_train)\n",
    "X_val_selected = sfs.transform(X_val)\n",
    "X_test_selected = sfs.transform(X_test)\n",
    "\n",
    "rf_model.fit(X_train_selected, y_train)\n",
    "\n",
    "y_val_pred_rf = rf_model.predict(X_val_selected)\n",
    "print(\"🔹 Random Forest Validation Results:\")\n",
    "print(classification_report(y_val, y_val_pred_rf))\n",
    "\n",
    "y_test_pred_rf = rf_model.predict(X_test_selected)\n",
    "print(\"🔹 Random Forest Test Results:\")\n",
    "print(classification_report(y_test, y_test_pred_rf))\n",
    "print(\"Test Accuracy:\", accuracy_score(y_test, y_test_pred_rf))\n"
   ]
  },
  {
   "cell_type": "code",
   "execution_count": 53,
   "metadata": {},
   "outputs": [
    {
     "name": "stdout",
     "output_type": "stream",
     "text": [
      "0\n",
      "0\n",
      "0\n"
     ]
    },
    {
     "name": "stderr",
     "output_type": "stream",
     "text": [
      "c:\\Users\\Amy Joanna\\AppData\\Local\\Programs\\Python\\Python313\\Lib\\site-packages\\sklearn\\linear_model\\_logistic.py:465: ConvergenceWarning:\n",
      "\n",
      "lbfgs failed to converge (status=1):\n",
      "STOP: TOTAL NO. OF ITERATIONS REACHED LIMIT.\n",
      "\n",
      "Increase the number of iterations (max_iter) or scale the data as shown in:\n",
      "    https://scikit-learn.org/stable/modules/preprocessing.html\n",
      "Please also refer to the documentation for alternative solver options:\n",
      "    https://scikit-learn.org/stable/modules/linear_model.html#logistic-regression\n",
      "\n",
      "c:\\Users\\Amy Joanna\\AppData\\Local\\Programs\\Python\\Python313\\Lib\\site-packages\\sklearn\\linear_model\\_logistic.py:465: ConvergenceWarning:\n",
      "\n",
      "lbfgs failed to converge (status=1):\n",
      "STOP: TOTAL NO. OF ITERATIONS REACHED LIMIT.\n",
      "\n",
      "Increase the number of iterations (max_iter) or scale the data as shown in:\n",
      "    https://scikit-learn.org/stable/modules/preprocessing.html\n",
      "Please also refer to the documentation for alternative solver options:\n",
      "    https://scikit-learn.org/stable/modules/linear_model.html#logistic-regression\n",
      "\n",
      "c:\\Users\\Amy Joanna\\AppData\\Local\\Programs\\Python\\Python313\\Lib\\site-packages\\sklearn\\linear_model\\_logistic.py:465: ConvergenceWarning:\n",
      "\n",
      "lbfgs failed to converge (status=1):\n",
      "STOP: TOTAL NO. OF ITERATIONS REACHED LIMIT.\n",
      "\n",
      "Increase the number of iterations (max_iter) or scale the data as shown in:\n",
      "    https://scikit-learn.org/stable/modules/preprocessing.html\n",
      "Please also refer to the documentation for alternative solver options:\n",
      "    https://scikit-learn.org/stable/modules/linear_model.html#logistic-regression\n",
      "\n",
      "c:\\Users\\Amy Joanna\\AppData\\Local\\Programs\\Python\\Python313\\Lib\\site-packages\\sklearn\\linear_model\\_logistic.py:465: ConvergenceWarning:\n",
      "\n",
      "lbfgs failed to converge (status=1):\n",
      "STOP: TOTAL NO. OF ITERATIONS REACHED LIMIT.\n",
      "\n",
      "Increase the number of iterations (max_iter) or scale the data as shown in:\n",
      "    https://scikit-learn.org/stable/modules/preprocessing.html\n",
      "Please also refer to the documentation for alternative solver options:\n",
      "    https://scikit-learn.org/stable/modules/linear_model.html#logistic-regression\n",
      "\n",
      "c:\\Users\\Amy Joanna\\AppData\\Local\\Programs\\Python\\Python313\\Lib\\site-packages\\sklearn\\linear_model\\_logistic.py:465: ConvergenceWarning:\n",
      "\n",
      "lbfgs failed to converge (status=1):\n",
      "STOP: TOTAL NO. OF ITERATIONS REACHED LIMIT.\n",
      "\n",
      "Increase the number of iterations (max_iter) or scale the data as shown in:\n",
      "    https://scikit-learn.org/stable/modules/preprocessing.html\n",
      "Please also refer to the documentation for alternative solver options:\n",
      "    https://scikit-learn.org/stable/modules/linear_model.html#logistic-regression\n",
      "\n",
      "c:\\Users\\Amy Joanna\\AppData\\Local\\Programs\\Python\\Python313\\Lib\\site-packages\\sklearn\\linear_model\\_logistic.py:465: ConvergenceWarning:\n",
      "\n",
      "lbfgs failed to converge (status=1):\n",
      "STOP: TOTAL NO. OF ITERATIONS REACHED LIMIT.\n",
      "\n",
      "Increase the number of iterations (max_iter) or scale the data as shown in:\n",
      "    https://scikit-learn.org/stable/modules/preprocessing.html\n",
      "Please also refer to the documentation for alternative solver options:\n",
      "    https://scikit-learn.org/stable/modules/linear_model.html#logistic-regression\n",
      "\n",
      "c:\\Users\\Amy Joanna\\AppData\\Local\\Programs\\Python\\Python313\\Lib\\site-packages\\sklearn\\linear_model\\_logistic.py:465: ConvergenceWarning:\n",
      "\n",
      "lbfgs failed to converge (status=1):\n",
      "STOP: TOTAL NO. OF ITERATIONS REACHED LIMIT.\n",
      "\n",
      "Increase the number of iterations (max_iter) or scale the data as shown in:\n",
      "    https://scikit-learn.org/stable/modules/preprocessing.html\n",
      "Please also refer to the documentation for alternative solver options:\n",
      "    https://scikit-learn.org/stable/modules/linear_model.html#logistic-regression\n",
      "\n"
     ]
    },
    {
     "name": "stdout",
     "output_type": "stream",
     "text": [
      "🔹 Logistic Regression Validation Results:\n",
      "              precision    recall  f1-score   support\n",
      "\n",
      "           0       1.00      1.00      1.00        22\n",
      "           1       1.00      1.00      1.00        38\n",
      "\n",
      "    accuracy                           1.00        60\n",
      "   macro avg       1.00      1.00      1.00        60\n",
      "weighted avg       1.00      1.00      1.00        60\n",
      "\n",
      "🔹 Logistic Regression Test Results:\n",
      "              precision    recall  f1-score   support\n",
      "\n",
      "           0       1.00      1.00      1.00        23\n",
      "           1       1.00      1.00      1.00        37\n",
      "\n",
      "    accuracy                           1.00        60\n",
      "   macro avg       1.00      1.00      1.00        60\n",
      "weighted avg       1.00      1.00      1.00        60\n",
      "\n",
      "Test Accuracy: 1.0\n"
     ]
    }
   ],
   "source": [
    "from sklearn.linear_model import LogisticRegression\n",
    "from sklearn.feature_selection import SequentialFeatureSelector\n",
    "from sklearn.metrics import accuracy_score, classification_report\n",
    "\n",
    "# Initialize Logistic Regression model\n",
    "lr_model = LogisticRegression(max_iter=1000, random_state=42)\n",
    "\n",
    "print(X_train.isnull().sum().sum())  # Total missing values in training set\n",
    "print(X_val.isnull().sum().sum())    # Total missing values in validation set\n",
    "print(X_test.isnull().sum().sum())   # Total missing values in test set\n",
    "\n",
    "\n",
    "# Apply Forward Feature Selection\n",
    "sfs = SequentialFeatureSelector(lr_model, n_features_to_select=10, direction='forward')\n",
    "X_train_selected = sfs.fit_transform(X_train, y_train)\n",
    "X_val_selected = sfs.transform(X_val)\n",
    "X_test_selected = sfs.transform(X_test)\n",
    "\n",
    "# Train Logistic Regression on selected features\n",
    "lr_model.fit(X_train_selected, y_train)\n",
    "\n",
    "#  Validate on Validation Set\n",
    "y_val_pred_lr = lr_model.predict(X_val_selected)\n",
    "print(\"🔹 Logistic Regression Validation Results:\")\n",
    "print(classification_report(y_val, y_val_pred_lr))\n",
    "\n",
    "#Test Set Evaluation\n",
    "y_test_pred_lr = lr_model.predict(X_test_selected)\n",
    "print(\"🔹 Logistic Regression Test Results:\")\n",
    "print(classification_report(y_test, y_test_pred_lr))\n",
    "print(\"Test Accuracy:\", accuracy_score(y_test, y_test_pred_lr))\n"
   ]
  },
  {
   "cell_type": "code",
   "execution_count": 54,
   "metadata": {},
   "outputs": [
    {
     "name": "stdout",
     "output_type": "stream",
     "text": [
      "🔹 Decision Tree Validation Results:\n",
      "              precision    recall  f1-score   support\n",
      "\n",
      "           0       1.00      1.00      1.00        22\n",
      "           1       1.00      1.00      1.00        38\n",
      "\n",
      "    accuracy                           1.00        60\n",
      "   macro avg       1.00      1.00      1.00        60\n",
      "weighted avg       1.00      1.00      1.00        60\n",
      "\n",
      "🔹 Decision Tree Test Results:\n",
      "              precision    recall  f1-score   support\n",
      "\n",
      "           0       1.00      1.00      1.00        23\n",
      "           1       1.00      1.00      1.00        37\n",
      "\n",
      "    accuracy                           1.00        60\n",
      "   macro avg       1.00      1.00      1.00        60\n",
      "weighted avg       1.00      1.00      1.00        60\n",
      "\n",
      "Test Accuracy: 1.0\n"
     ]
    }
   ],
   "source": [
    "from sklearn.tree import DecisionTreeClassifier\n",
    "from sklearn.metrics import accuracy_score, classification_report\n",
    "from sklearn.feature_selection import SequentialFeatureSelector\n",
    "\n",
    "# Initialize Decision Tree Model\n",
    "dt_model = DecisionTreeClassifier(random_state=42)\n",
    "\n",
    "# Apply Forward Feature Selection\n",
    "sfs = SequentialFeatureSelector(dt_model, n_features_to_select=10, direction='forward')\n",
    "X_train_selected = sfs.fit_transform(X_train, y_train)\n",
    "X_val_selected = sfs.transform(X_val)\n",
    "X_test_selected = sfs.transform(X_test)\n",
    "\n",
    "# Train Decision Tree Model\n",
    "dt_model.fit(X_train_selected, y_train)\n",
    "\n",
    "# Validate on Validation Set\n",
    "y_val_pred_dt = dt_model.predict(X_val_selected)\n",
    "print(\"🔹 Decision Tree Validation Results:\")\n",
    "print(classification_report(y_val, y_val_pred_dt))\n",
    "\n",
    "# Test Set Evaluation\n",
    "y_test_pred_dt = dt_model.predict(X_test_selected)\n",
    "print(\"🔹 Decision Tree Test Results:\")\n",
    "print(classification_report(y_test, y_test_pred_dt))\n",
    "print(\"Test Accuracy:\", accuracy_score(y_test, y_test_pred_dt))\n"
   ]
  }
 ],
 "metadata": {
  "kernelspec": {
   "display_name": "Python 3",
   "language": "python",
   "name": "python3"
  },
  "language_info": {
   "codemirror_mode": {
    "name": "ipython",
    "version": 3
   },
   "file_extension": ".py",
   "mimetype": "text/x-python",
   "name": "python",
   "nbconvert_exporter": "python",
   "pygments_lexer": "ipython3",
   "version": "3.13.2"
  }
 },
 "nbformat": 4,
 "nbformat_minor": 2
}
