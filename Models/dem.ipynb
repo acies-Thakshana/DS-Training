{
 "cells": [
  {
   "cell_type": "code",
   "execution_count": 2,
   "metadata": {},
   "outputs": [
    {
     "name": "stdout",
     "output_type": "stream",
     "text": [
      "Original Dataset:\n",
      "       A     B      C       D          E\n",
      "0   10.0   5.0    Red   100.0 2024-01-01\n",
      "1   20.0  15.0   Blue   200.0 2024-01-02\n",
      "2   30.0   NaN  Green   300.0 2024-01-03\n",
      "3    NaN  35.0    NaN   400.0        NaT\n",
      "4   50.0  45.0    Red   500.0 2024-01-05\n",
      "5   60.0  55.0  Green     NaN 2024-01-06\n",
      "6   70.0   NaN   Blue   700.0 2024-01-07\n",
      "7    NaN  75.0   Blue   800.0        NaT\n",
      "8   90.0  85.0    NaN   900.0 2024-01-09\n",
      "9  100.0  95.0    Red  1000.0 2024-01-10\n",
      "\n",
      "Dataset after Handling Missing Values:\n",
      "        A     B      C       D          E\n",
      "0   10.00   5.0    Red   100.0 2024-01-01\n",
      "1   20.00  15.0   Blue   200.0 2024-01-02\n",
      "2   30.00  50.0  Green   300.0 2024-01-03\n",
      "3   53.75  35.0   Blue   400.0 2024-01-03\n",
      "4   50.00  45.0    Red   500.0 2024-01-05\n",
      "5   60.00  55.0  Green   500.0 2024-01-06\n",
      "6   70.00  50.0   Blue   700.0 2024-01-07\n",
      "7   53.75  75.0   Blue   800.0 2024-01-07\n",
      "8   90.00  85.0   Blue   900.0 2024-01-09\n",
      "9  100.00  95.0    Red  1000.0 2024-01-10\n",
      "\n",
      "Min-Max Scaling:\n",
      "          A         B         D\n",
      "0  0.000000  0.000000  0.000000\n",
      "1  0.111111  0.111111  0.111111\n",
      "2  0.222222  0.500000  0.222222\n",
      "3  0.486111  0.333333  0.333333\n",
      "4  0.444444  0.444444  0.444444\n",
      "\n",
      "Standardization:\n",
      "          A         B         D\n",
      "0 -1.609642 -1.692137 -1.532813\n",
      "1 -1.241724 -1.324281 -1.184446\n",
      "2 -0.873806 -0.036786 -0.836080\n",
      "3  0.000000 -0.588570 -0.487713\n",
      "4 -0.137969 -0.220714 -0.139347\n"
     ]
    },
    {
     "name": "stderr",
     "output_type": "stream",
     "text": [
      "C:\\Users\\Nithish\\AppData\\Local\\Temp\\ipykernel_5668\\1733366934.py:28: FutureWarning: Series.fillna with 'method' is deprecated and will raise in a future version. Use obj.ffill() or obj.bfill() instead.\n",
      "  df['E'] = df['E'].fillna(method='ffill')  # Forward fill for time series\n"
     ]
    }
   ],
   "source": [
    "import pandas as pd\n",
    "import numpy as np\n",
    "from sklearn.impute import KNNImputer\n",
    "from sklearn.preprocessing import MinMaxScaler, StandardScaler\n",
    "\n",
    "# Creating a sample dataset\n",
    "data = {\n",
    "    'A': [10, 20, 30, np.nan, 50, 60, 70, np.nan, 90, 100],  # Continuous with missing values\n",
    "    'B': [5, 15, np.nan, 35, 45, 55, np.nan, 75, 85, 95],  # Continuous with missing values\n",
    "    'C': ['Red', 'Blue', 'Green', np.nan, 'Red', 'Green', 'Blue', 'Blue', np.nan, 'Red'],  # Categorical\n",
    "    'D': [100, 200, 300, 400, 500, np.nan, 700, 800, 900, 1000],  # Continuous with outlier\n",
    "    'E': pd.date_range(start='1/1/2024', periods=10, freq='D')  # Time series\n",
    "}\n",
    "\n",
    "df = pd.DataFrame(data)\n",
    "\n",
    "# Introduce missing values in the time series column\n",
    "df.loc[[3, 7], 'E'] = np.nan\n",
    "\n",
    "print(\"Original Dataset:\")\n",
    "print(df)\n",
    "\n",
    "# Handling Missing Values\n",
    "df['A'] = df['A'].fillna(df['A'].mean())  # Mean for continuous data\n",
    "df['B'] = df['B'].fillna(df['B'].median())  # Median for continuous data with outliers\n",
    "df['C'] = df['C'].fillna(df['C'].mode()[0])  # Mode for categorical data\n",
    "df['D'] = df['D'].fillna(df['D'].median())  # Median for continuous data with outliers\n",
    "df['E'] = df['E'].fillna(method='ffill')  # Forward fill for time series\n",
    "\n",
    "# KNN Imputation (reapplying after basic imputation)\n",
    "knn_imputer = KNNImputer(n_neighbors=3)\n",
    "numeric_cols = ['A', 'B', 'D']  # Only numerical columns for KNN\n",
    "df[numeric_cols] = knn_imputer.fit_transform(df[numeric_cols])\n",
    "\n",
    "print(\"\\nDataset after Handling Missing Values:\")\n",
    "print(df)\n",
    "\n",
    "# Feature Scaling (Excluding categorical & time columns)\n",
    "scalers = {\n",
    "    \"Min-Max Scaling\": MinMaxScaler(),\n",
    "    \"Standardization\": StandardScaler()\n",
    "}\n",
    "\n",
    "scaled_dfs = {}\n",
    "for key, scaler in scalers.items():\n",
    "    scaled_data = scaler.fit_transform(df[numeric_cols])  \n",
    "    scaled_dfs[key] = pd.DataFrame(scaled_data, columns=numeric_cols)\n",
    "    \n",
    "    print(f\"\\n{key}:\")\n",
    "    print(scaled_dfs[key].head())\n"
   ]
  }
 ],
 "metadata": {
  "kernelspec": {
   "display_name": "Python 3",
   "language": "python",
   "name": "python3"
  },
  "language_info": {
   "codemirror_mode": {
    "name": "ipython",
    "version": 3
   },
   "file_extension": ".py",
   "mimetype": "text/x-python",
   "name": "python",
   "nbconvert_exporter": "python",
   "pygments_lexer": "ipython3",
   "version": "3.13.2"
  }
 },
 "nbformat": 4,
 "nbformat_minor": 2
}
