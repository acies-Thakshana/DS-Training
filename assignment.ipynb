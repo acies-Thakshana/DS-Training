{
 "cells": [
  {
   "cell_type": "code",
   "execution_count": 1,
   "metadata": {},
   "outputs": [],
   "source": [
    "import pandas as pd\n",
    "import plotly.express as px"
   ]
  },
  {
   "cell_type": "code",
   "execution_count": 3,
   "metadata": {},
   "outputs": [],
   "source": [
    "data = pd.read_csv(r\"C:\\Users\\DYNABOOK\\Downloads\\superstore_sales.csv\")"
   ]
  },
  {
   "cell_type": "code",
   "execution_count": 17,
   "metadata": {},
   "outputs": [
    {
     "data": {
      "text/html": [
       "<div>\n",
       "<style scoped>\n",
       "    .dataframe tbody tr th:only-of-type {\n",
       "        vertical-align: middle;\n",
       "    }\n",
       "\n",
       "    .dataframe tbody tr th {\n",
       "        vertical-align: top;\n",
       "    }\n",
       "\n",
       "    .dataframe thead th {\n",
       "        text-align: right;\n",
       "    }\n",
       "</style>\n",
       "<table border=\"1\" class=\"dataframe\">\n",
       "  <thead>\n",
       "    <tr style=\"text-align: right;\">\n",
       "      <th></th>\n",
       "      <th>Order ID</th>\n",
       "      <th>Order Date</th>\n",
       "      <th>Ship Date</th>\n",
       "      <th>Customer ID</th>\n",
       "      <th>Customer Name</th>\n",
       "      <th>Segment</th>\n",
       "      <th>City</th>\n",
       "      <th>State</th>\n",
       "      <th>Region</th>\n",
       "      <th>Product Category</th>\n",
       "      <th>Sub-Category</th>\n",
       "      <th>Product Name</th>\n",
       "      <th>Sales</th>\n",
       "      <th>Quantity</th>\n",
       "      <th>Discount</th>\n",
       "      <th>Profit</th>\n",
       "    </tr>\n",
       "  </thead>\n",
       "  <tbody>\n",
       "  </tbody>\n",
       "</table>\n",
       "</div>"
      ],
      "text/plain": [
       "Empty DataFrame\n",
       "Columns: [Order ID, Order Date, Ship Date, Customer ID, Customer Name, Segment, City, State, Region, Product Category, Sub-Category, Product Name, Sales, Quantity, Discount, Profit]\n",
       "Index: []"
      ]
     },
     "execution_count": 17,
     "metadata": {},
     "output_type": "execute_result"
    }
   ],
   "source": [
    "data.head(0)\n",
    "\n"
   ]
  },
  {
   "cell_type": "code",
   "execution_count": 20,
   "metadata": {},
   "outputs": [
    {
     "data": {
      "text/plain": [
       "array(['Office Supplies', 'Technology', 'Furniture'], dtype=object)"
      ]
     },
     "execution_count": 20,
     "metadata": {},
     "output_type": "execute_result"
    }
   ],
   "source": [
    "data[\"Product Category\"].unique()\n",
    "\n"
   ]
  },
  {
   "cell_type": "code",
   "execution_count": 21,
   "metadata": {},
   "outputs": [
    {
     "data": {
      "text/plain": [
       "3"
      ]
     },
     "execution_count": 21,
     "metadata": {},
     "output_type": "execute_result"
    }
   ],
   "source": [
    "data[\"Product Category\"].nunique()"
   ]
  },
  {
   "cell_type": "code",
   "execution_count": 22,
   "metadata": {},
   "outputs": [
    {
     "data": {
      "text/plain": [
       "Product Category\n",
       "Furniture          74.088054\n",
       "Office Supplies    73.375824\n",
       "Technology         77.901131\n",
       "Name: Profit, dtype: float64"
      ]
     },
     "execution_count": 22,
     "metadata": {},
     "output_type": "execute_result"
    }
   ],
   "source": [
    "data.groupby(\"Product Category\")[\"Profit\"].mean()\n"
   ]
  },
  {
   "cell_type": "code",
   "execution_count": 23,
   "metadata": {},
   "outputs": [
    {
     "data": {
      "text/plain": [
       "Product Name\n",
       "Product 1000    9\n",
       "Product 1003    9\n",
       "Product 1019    9\n",
       "Product 1032    9\n",
       "Product 1035    9\n",
       "Name: Quantity, dtype: int64"
      ]
     },
     "execution_count": 23,
     "metadata": {},
     "output_type": "execute_result"
    }
   ],
   "source": [
    "data.groupby(\"Product Name\")[\"Quantity\"].sum().nlargest(5)\n"
   ]
  },
  {
   "cell_type": "code",
   "execution_count": 24,
   "metadata": {},
   "outputs": [
    {
     "data": {
      "text/plain": [
       "'TX'"
      ]
     },
     "execution_count": 24,
     "metadata": {},
     "output_type": "execute_result"
    }
   ],
   "source": [
    "data.groupby(\"State\")[\"Profit\"].sum().idxmax()\n"
   ]
  },
  {
   "cell_type": "code",
   "execution_count": 25,
   "metadata": {},
   "outputs": [
    {
     "data": {
      "text/plain": [
       "Sub-Category\n",
       "Accessories    1078\n",
       "Phones         1036\n",
       "Chairs          975\n",
       "Binders         970\n",
       "Tables          941\n",
       "Name: count, dtype: int64"
      ]
     },
     "execution_count": 25,
     "metadata": {},
     "output_type": "execute_result"
    }
   ],
   "source": [
    "data[\"Sub-Category\"].value_counts()\n"
   ]
  },
  {
   "cell_type": "code",
   "execution_count": 30,
   "metadata": {},
   "outputs": [
    {
     "data": {
      "text/html": [
       "<div>\n",
       "<style scoped>\n",
       "    .dataframe tbody tr th:only-of-type {\n",
       "        vertical-align: middle;\n",
       "    }\n",
       "\n",
       "    .dataframe tbody tr th {\n",
       "        vertical-align: top;\n",
       "    }\n",
       "\n",
       "    .dataframe thead th {\n",
       "        text-align: right;\n",
       "    }\n",
       "</style>\n",
       "<table border=\"1\" class=\"dataframe\">\n",
       "  <thead>\n",
       "    <tr style=\"text-align: right;\">\n",
       "      <th></th>\n",
       "      <th>Order ID</th>\n",
       "      <th>Order Date</th>\n",
       "      <th>Ship Date</th>\n",
       "      <th>Customer ID</th>\n",
       "      <th>Customer Name</th>\n",
       "      <th>Segment</th>\n",
       "      <th>City</th>\n",
       "      <th>State</th>\n",
       "      <th>Region</th>\n",
       "      <th>Product Category</th>\n",
       "      <th>Sub-Category</th>\n",
       "      <th>Product Name</th>\n",
       "      <th>Sales</th>\n",
       "      <th>Quantity</th>\n",
       "      <th>Discount</th>\n",
       "      <th>Profit</th>\n",
       "      <th>Profit Margin</th>\n",
       "    </tr>\n",
       "  </thead>\n",
       "  <tbody>\n",
       "  </tbody>\n",
       "</table>\n",
       "</div>"
      ],
      "text/plain": [
       "Empty DataFrame\n",
       "Columns: [Order ID, Order Date, Ship Date, Customer ID, Customer Name, Segment, City, State, Region, Product Category, Sub-Category, Product Name, Sales, Quantity, Discount, Profit, Profit Margin]\n",
       "Index: []"
      ]
     },
     "execution_count": 30,
     "metadata": {},
     "output_type": "execute_result"
    }
   ],
   "source": [
    "data[\"Profit Margin\"] = data[\"Profit\"] / data[\"Sales\"]\n",
    "data.head(0)"
   ]
  },
  {
   "cell_type": "code",
   "execution_count": 8,
   "metadata": {},
   "outputs": [
    {
     "data": {
      "text/html": [
       "<div>\n",
       "<style scoped>\n",
       "    .dataframe tbody tr th:only-of-type {\n",
       "        vertical-align: middle;\n",
       "    }\n",
       "\n",
       "    .dataframe tbody tr th {\n",
       "        vertical-align: top;\n",
       "    }\n",
       "\n",
       "    .dataframe thead th {\n",
       "        text-align: right;\n",
       "    }\n",
       "</style>\n",
       "<table border=\"1\" class=\"dataframe\">\n",
       "  <thead>\n",
       "    <tr style=\"text-align: right;\">\n",
       "      <th>Product Category</th>\n",
       "      <th>Furniture</th>\n",
       "      <th>Office Supplies</th>\n",
       "      <th>Technology</th>\n",
       "    </tr>\n",
       "    <tr>\n",
       "      <th>Order ID</th>\n",
       "      <th></th>\n",
       "      <th></th>\n",
       "      <th></th>\n",
       "    </tr>\n",
       "  </thead>\n",
       "  <tbody>\n",
       "    <tr>\n",
       "      <th>ORD10000</th>\n",
       "      <td>NaN</td>\n",
       "      <td>496.74</td>\n",
       "      <td>NaN</td>\n",
       "    </tr>\n",
       "    <tr>\n",
       "      <th>ORD10001</th>\n",
       "      <td>NaN</td>\n",
       "      <td>NaN</td>\n",
       "      <td>215.69</td>\n",
       "    </tr>\n",
       "    <tr>\n",
       "      <th>ORD10002</th>\n",
       "      <td>273.07</td>\n",
       "      <td>NaN</td>\n",
       "      <td>NaN</td>\n",
       "    </tr>\n",
       "    <tr>\n",
       "      <th>ORD10003</th>\n",
       "      <td>404.94</td>\n",
       "      <td>NaN</td>\n",
       "      <td>NaN</td>\n",
       "    </tr>\n",
       "    <tr>\n",
       "      <th>ORD10004</th>\n",
       "      <td>480.63</td>\n",
       "      <td>NaN</td>\n",
       "      <td>NaN</td>\n",
       "    </tr>\n",
       "    <tr>\n",
       "      <th>...</th>\n",
       "      <td>...</td>\n",
       "      <td>...</td>\n",
       "      <td>...</td>\n",
       "    </tr>\n",
       "    <tr>\n",
       "      <th>ORD14995</th>\n",
       "      <td>460.92</td>\n",
       "      <td>NaN</td>\n",
       "      <td>NaN</td>\n",
       "    </tr>\n",
       "    <tr>\n",
       "      <th>ORD14996</th>\n",
       "      <td>NaN</td>\n",
       "      <td>NaN</td>\n",
       "      <td>278.46</td>\n",
       "    </tr>\n",
       "    <tr>\n",
       "      <th>ORD14997</th>\n",
       "      <td>NaN</td>\n",
       "      <td>292.11</td>\n",
       "      <td>NaN</td>\n",
       "    </tr>\n",
       "    <tr>\n",
       "      <th>ORD14998</th>\n",
       "      <td>NaN</td>\n",
       "      <td>NaN</td>\n",
       "      <td>163.15</td>\n",
       "    </tr>\n",
       "    <tr>\n",
       "      <th>ORD14999</th>\n",
       "      <td>NaN</td>\n",
       "      <td>NaN</td>\n",
       "      <td>479.55</td>\n",
       "    </tr>\n",
       "  </tbody>\n",
       "</table>\n",
       "<p>5000 rows × 3 columns</p>\n",
       "</div>"
      ],
      "text/plain": [
       "Product Category  Furniture  Office Supplies  Technology\n",
       "Order ID                                                \n",
       "ORD10000                NaN           496.74         NaN\n",
       "ORD10001                NaN              NaN      215.69\n",
       "ORD10002             273.07              NaN         NaN\n",
       "ORD10003             404.94              NaN         NaN\n",
       "ORD10004             480.63              NaN         NaN\n",
       "...                     ...              ...         ...\n",
       "ORD14995             460.92              NaN         NaN\n",
       "ORD14996                NaN              NaN      278.46\n",
       "ORD14997                NaN           292.11         NaN\n",
       "ORD14998                NaN              NaN      163.15\n",
       "ORD14999                NaN              NaN      479.55\n",
       "\n",
       "[5000 rows x 3 columns]"
      ]
     },
     "execution_count": 8,
     "metadata": {},
     "output_type": "execute_result"
    }
   ],
   "source": [
    "pivoted = data.pivot(index=\"Order ID\", columns=\"Product Category\", values=\"Sales\")\n",
    "pivoted"
   ]
  },
  {
   "cell_type": "code",
   "execution_count": 9,
   "metadata": {},
   "outputs": [
    {
     "data": {
      "text/html": [
       "<div>\n",
       "<style scoped>\n",
       "    .dataframe tbody tr th:only-of-type {\n",
       "        vertical-align: middle;\n",
       "    }\n",
       "\n",
       "    .dataframe tbody tr th {\n",
       "        vertical-align: top;\n",
       "    }\n",
       "\n",
       "    .dataframe thead th {\n",
       "        text-align: right;\n",
       "    }\n",
       "</style>\n",
       "<table border=\"1\" class=\"dataframe\">\n",
       "  <thead>\n",
       "    <tr style=\"text-align: right;\">\n",
       "      <th>Product Category</th>\n",
       "      <th>Furniture</th>\n",
       "      <th>Office Supplies</th>\n",
       "      <th>Technology</th>\n",
       "    </tr>\n",
       "    <tr>\n",
       "      <th>Region</th>\n",
       "      <th></th>\n",
       "      <th></th>\n",
       "      <th></th>\n",
       "    </tr>\n",
       "  </thead>\n",
       "  <tbody>\n",
       "    <tr>\n",
       "      <th>Central</th>\n",
       "      <td>410</td>\n",
       "      <td>423</td>\n",
       "      <td>424</td>\n",
       "    </tr>\n",
       "    <tr>\n",
       "      <th>East</th>\n",
       "      <td>403</td>\n",
       "      <td>420</td>\n",
       "      <td>406</td>\n",
       "    </tr>\n",
       "    <tr>\n",
       "      <th>South</th>\n",
       "      <td>432</td>\n",
       "      <td>386</td>\n",
       "      <td>420</td>\n",
       "    </tr>\n",
       "    <tr>\n",
       "      <th>West</th>\n",
       "      <td>430</td>\n",
       "      <td>469</td>\n",
       "      <td>377</td>\n",
       "    </tr>\n",
       "  </tbody>\n",
       "</table>\n",
       "</div>"
      ],
      "text/plain": [
       "Product Category  Furniture  Office Supplies  Technology\n",
       "Region                                                  \n",
       "Central                 410              423         424\n",
       "East                    403              420         406\n",
       "South                   432              386         420\n",
       "West                    430              469         377"
      ]
     },
     "execution_count": 9,
     "metadata": {},
     "output_type": "execute_result"
    }
   ],
   "source": [
    "cross_tab = pd.crosstab(data[\"Region\"], data[\"Product Category\"])\n",
    "cross_tab "
   ]
  },
  {
   "cell_type": "code",
   "execution_count": 12,
   "metadata": {},
   "outputs": [
    {
     "data": {
      "text/html": [
       "<div>\n",
       "<style scoped>\n",
       "    .dataframe tbody tr th:only-of-type {\n",
       "        vertical-align: middle;\n",
       "    }\n",
       "\n",
       "    .dataframe tbody tr th {\n",
       "        vertical-align: top;\n",
       "    }\n",
       "\n",
       "    .dataframe thead th {\n",
       "        text-align: right;\n",
       "    }\n",
       "</style>\n",
       "<table border=\"1\" class=\"dataframe\">\n",
       "  <thead>\n",
       "    <tr style=\"text-align: right;\">\n",
       "      <th></th>\n",
       "      <th>Order ID</th>\n",
       "      <th>Customer ID</th>\n",
       "      <th>Sales</th>\n",
       "      <th>Customer Name</th>\n",
       "    </tr>\n",
       "  </thead>\n",
       "  <tbody>\n",
       "    <tr>\n",
       "      <th>0</th>\n",
       "      <td>ORD10000</td>\n",
       "      <td>CUST202</td>\n",
       "      <td>496.74</td>\n",
       "      <td>Customer 0</td>\n",
       "    </tr>\n",
       "    <tr>\n",
       "      <th>1</th>\n",
       "      <td>ORD10000</td>\n",
       "      <td>CUST202</td>\n",
       "      <td>496.74</td>\n",
       "      <td>Customer 525</td>\n",
       "    </tr>\n",
       "    <tr>\n",
       "      <th>2</th>\n",
       "      <td>ORD10000</td>\n",
       "      <td>CUST202</td>\n",
       "      <td>496.74</td>\n",
       "      <td>Customer 991</td>\n",
       "    </tr>\n",
       "    <tr>\n",
       "      <th>3</th>\n",
       "      <td>ORD10000</td>\n",
       "      <td>CUST202</td>\n",
       "      <td>496.74</td>\n",
       "      <td>Customer 2250</td>\n",
       "    </tr>\n",
       "    <tr>\n",
       "      <th>4</th>\n",
       "      <td>ORD10000</td>\n",
       "      <td>CUST202</td>\n",
       "      <td>496.74</td>\n",
       "      <td>Customer 4032</td>\n",
       "    </tr>\n",
       "    <tr>\n",
       "      <th>...</th>\n",
       "      <td>...</td>\n",
       "      <td>...</td>\n",
       "      <td>...</td>\n",
       "      <td>...</td>\n",
       "    </tr>\n",
       "    <tr>\n",
       "      <th>33461</th>\n",
       "      <td>ORD14998</td>\n",
       "      <td>CUST890</td>\n",
       "      <td>163.15</td>\n",
       "      <td>Customer 4998</td>\n",
       "    </tr>\n",
       "    <tr>\n",
       "      <th>33462</th>\n",
       "      <td>ORD14999</td>\n",
       "      <td>CUST973</td>\n",
       "      <td>479.55</td>\n",
       "      <td>Customer 1660</td>\n",
       "    </tr>\n",
       "    <tr>\n",
       "      <th>33463</th>\n",
       "      <td>ORD14999</td>\n",
       "      <td>CUST973</td>\n",
       "      <td>479.55</td>\n",
       "      <td>Customer 2297</td>\n",
       "    </tr>\n",
       "    <tr>\n",
       "      <th>33464</th>\n",
       "      <td>ORD14999</td>\n",
       "      <td>CUST973</td>\n",
       "      <td>479.55</td>\n",
       "      <td>Customer 3291</td>\n",
       "    </tr>\n",
       "    <tr>\n",
       "      <th>33465</th>\n",
       "      <td>ORD14999</td>\n",
       "      <td>CUST973</td>\n",
       "      <td>479.55</td>\n",
       "      <td>Customer 4999</td>\n",
       "    </tr>\n",
       "  </tbody>\n",
       "</table>\n",
       "<p>33466 rows × 4 columns</p>\n",
       "</div>"
      ],
      "text/plain": [
       "       Order ID Customer ID   Sales  Customer Name\n",
       "0      ORD10000     CUST202  496.74     Customer 0\n",
       "1      ORD10000     CUST202  496.74   Customer 525\n",
       "2      ORD10000     CUST202  496.74   Customer 991\n",
       "3      ORD10000     CUST202  496.74  Customer 2250\n",
       "4      ORD10000     CUST202  496.74  Customer 4032\n",
       "...         ...         ...     ...            ...\n",
       "33461  ORD14998     CUST890  163.15  Customer 4998\n",
       "33462  ORD14999     CUST973  479.55  Customer 1660\n",
       "33463  ORD14999     CUST973  479.55  Customer 2297\n",
       "33464  ORD14999     CUST973  479.55  Customer 3291\n",
       "33465  ORD14999     CUST973  479.55  Customer 4999\n",
       "\n",
       "[33466 rows x 4 columns]"
      ]
     },
     "execution_count": 12,
     "metadata": {},
     "output_type": "execute_result"
    }
   ],
   "source": [
    "df1 = data[[\"Order ID\", \"Customer ID\", \"Sales\"]]\n",
    "df2 = data[[\"Customer ID\", \"Customer Name\"]]\n",
    "merged = pd.merge(df1, df2, on=\"Customer ID\", how=\"inner\")\n",
    "merged"
   ]
  },
  {
   "cell_type": "markdown",
   "metadata": {},
   "source": [
    "merge without sort"
   ]
  },
  {
   "cell_type": "code",
   "execution_count": 14,
   "metadata": {},
   "outputs": [
    {
     "data": {
      "text/html": [
       "<div>\n",
       "<style scoped>\n",
       "    .dataframe tbody tr th:only-of-type {\n",
       "        vertical-align: middle;\n",
       "    }\n",
       "\n",
       "    .dataframe tbody tr th {\n",
       "        vertical-align: top;\n",
       "    }\n",
       "\n",
       "    .dataframe thead th {\n",
       "        text-align: right;\n",
       "    }\n",
       "</style>\n",
       "<table border=\"1\" class=\"dataframe\">\n",
       "  <thead>\n",
       "    <tr style=\"text-align: right;\">\n",
       "      <th></th>\n",
       "      <th>Order ID</th>\n",
       "      <th>Customer ID</th>\n",
       "      <th>Sales</th>\n",
       "      <th>Customer Name</th>\n",
       "    </tr>\n",
       "  </thead>\n",
       "  <tbody>\n",
       "    <tr>\n",
       "      <th>0</th>\n",
       "      <td>ORD10815</td>\n",
       "      <td>CUST100</td>\n",
       "      <td>136.78</td>\n",
       "      <td>Customer 815</td>\n",
       "    </tr>\n",
       "    <tr>\n",
       "      <th>1</th>\n",
       "      <td>ORD10815</td>\n",
       "      <td>CUST100</td>\n",
       "      <td>136.78</td>\n",
       "      <td>Customer 951</td>\n",
       "    </tr>\n",
       "    <tr>\n",
       "      <th>2</th>\n",
       "      <td>ORD10815</td>\n",
       "      <td>CUST100</td>\n",
       "      <td>136.78</td>\n",
       "      <td>Customer 1233</td>\n",
       "    </tr>\n",
       "    <tr>\n",
       "      <th>3</th>\n",
       "      <td>ORD10815</td>\n",
       "      <td>CUST100</td>\n",
       "      <td>136.78</td>\n",
       "      <td>Customer 1434</td>\n",
       "    </tr>\n",
       "    <tr>\n",
       "      <th>4</th>\n",
       "      <td>ORD10815</td>\n",
       "      <td>CUST100</td>\n",
       "      <td>136.78</td>\n",
       "      <td>Customer 2461</td>\n",
       "    </tr>\n",
       "    <tr>\n",
       "      <th>...</th>\n",
       "      <td>...</td>\n",
       "      <td>...</td>\n",
       "      <td>...</td>\n",
       "      <td>...</td>\n",
       "    </tr>\n",
       "    <tr>\n",
       "      <th>33461</th>\n",
       "      <td>ORD14235</td>\n",
       "      <td>CUST998</td>\n",
       "      <td>25.02</td>\n",
       "      <td>Customer 2775</td>\n",
       "    </tr>\n",
       "    <tr>\n",
       "      <th>33462</th>\n",
       "      <td>ORD14235</td>\n",
       "      <td>CUST998</td>\n",
       "      <td>25.02</td>\n",
       "      <td>Customer 2938</td>\n",
       "    </tr>\n",
       "    <tr>\n",
       "      <th>33463</th>\n",
       "      <td>ORD14235</td>\n",
       "      <td>CUST998</td>\n",
       "      <td>25.02</td>\n",
       "      <td>Customer 3615</td>\n",
       "    </tr>\n",
       "    <tr>\n",
       "      <th>33464</th>\n",
       "      <td>ORD14235</td>\n",
       "      <td>CUST998</td>\n",
       "      <td>25.02</td>\n",
       "      <td>Customer 3829</td>\n",
       "    </tr>\n",
       "    <tr>\n",
       "      <th>33465</th>\n",
       "      <td>ORD14235</td>\n",
       "      <td>CUST998</td>\n",
       "      <td>25.02</td>\n",
       "      <td>Customer 4235</td>\n",
       "    </tr>\n",
       "  </tbody>\n",
       "</table>\n",
       "<p>33466 rows × 4 columns</p>\n",
       "</div>"
      ],
      "text/plain": [
       "       Order ID Customer ID   Sales  Customer Name\n",
       "0      ORD10815     CUST100  136.78   Customer 815\n",
       "1      ORD10815     CUST100  136.78   Customer 951\n",
       "2      ORD10815     CUST100  136.78  Customer 1233\n",
       "3      ORD10815     CUST100  136.78  Customer 1434\n",
       "4      ORD10815     CUST100  136.78  Customer 2461\n",
       "...         ...         ...     ...            ...\n",
       "33461  ORD14235     CUST998   25.02  Customer 2775\n",
       "33462  ORD14235     CUST998   25.02  Customer 2938\n",
       "33463  ORD14235     CUST998   25.02  Customer 3615\n",
       "33464  ORD14235     CUST998   25.02  Customer 3829\n",
       "33465  ORD14235     CUST998   25.02  Customer 4235\n",
       "\n",
       "[33466 rows x 4 columns]"
      ]
     },
     "execution_count": 14,
     "metadata": {},
     "output_type": "execute_result"
    }
   ],
   "source": [
    "merged_ordered = pd.merge_ordered(df1, df2, on=\"Customer ID\")\n",
    "merged_ordered"
   ]
  },
  {
   "cell_type": "code",
   "execution_count": 15,
   "metadata": {},
   "outputs": [
    {
     "data": {
      "text/html": [
       "<div>\n",
       "<style scoped>\n",
       "    .dataframe tbody tr th:only-of-type {\n",
       "        vertical-align: middle;\n",
       "    }\n",
       "\n",
       "    .dataframe tbody tr th {\n",
       "        vertical-align: top;\n",
       "    }\n",
       "\n",
       "    .dataframe thead th {\n",
       "        text-align: right;\n",
       "    }\n",
       "</style>\n",
       "<table border=\"1\" class=\"dataframe\">\n",
       "  <thead>\n",
       "    <tr style=\"text-align: right;\">\n",
       "      <th></th>\n",
       "      <th>Furniture</th>\n",
       "      <th>Office Supplies</th>\n",
       "      <th>Technology</th>\n",
       "    </tr>\n",
       "  </thead>\n",
       "  <tbody>\n",
       "    <tr>\n",
       "      <th>0</th>\n",
       "      <td>False</td>\n",
       "      <td>True</td>\n",
       "      <td>False</td>\n",
       "    </tr>\n",
       "    <tr>\n",
       "      <th>1</th>\n",
       "      <td>False</td>\n",
       "      <td>False</td>\n",
       "      <td>True</td>\n",
       "    </tr>\n",
       "    <tr>\n",
       "      <th>2</th>\n",
       "      <td>True</td>\n",
       "      <td>False</td>\n",
       "      <td>False</td>\n",
       "    </tr>\n",
       "    <tr>\n",
       "      <th>3</th>\n",
       "      <td>True</td>\n",
       "      <td>False</td>\n",
       "      <td>False</td>\n",
       "    </tr>\n",
       "    <tr>\n",
       "      <th>4</th>\n",
       "      <td>True</td>\n",
       "      <td>False</td>\n",
       "      <td>False</td>\n",
       "    </tr>\n",
       "    <tr>\n",
       "      <th>...</th>\n",
       "      <td>...</td>\n",
       "      <td>...</td>\n",
       "      <td>...</td>\n",
       "    </tr>\n",
       "    <tr>\n",
       "      <th>4995</th>\n",
       "      <td>True</td>\n",
       "      <td>False</td>\n",
       "      <td>False</td>\n",
       "    </tr>\n",
       "    <tr>\n",
       "      <th>4996</th>\n",
       "      <td>False</td>\n",
       "      <td>False</td>\n",
       "      <td>True</td>\n",
       "    </tr>\n",
       "    <tr>\n",
       "      <th>4997</th>\n",
       "      <td>False</td>\n",
       "      <td>True</td>\n",
       "      <td>False</td>\n",
       "    </tr>\n",
       "    <tr>\n",
       "      <th>4998</th>\n",
       "      <td>False</td>\n",
       "      <td>False</td>\n",
       "      <td>True</td>\n",
       "    </tr>\n",
       "    <tr>\n",
       "      <th>4999</th>\n",
       "      <td>False</td>\n",
       "      <td>False</td>\n",
       "      <td>True</td>\n",
       "    </tr>\n",
       "  </tbody>\n",
       "</table>\n",
       "<p>5000 rows × 3 columns</p>\n",
       "</div>"
      ],
      "text/plain": [
       "      Furniture  Office Supplies  Technology\n",
       "0         False             True       False\n",
       "1         False            False        True\n",
       "2          True            False       False\n",
       "3          True            False       False\n",
       "4          True            False       False\n",
       "...         ...              ...         ...\n",
       "4995       True            False       False\n",
       "4996      False            False        True\n",
       "4997      False             True       False\n",
       "4998      False            False        True\n",
       "4999      False            False        True\n",
       "\n",
       "[5000 rows x 3 columns]"
      ]
     },
     "execution_count": 15,
     "metadata": {},
     "output_type": "execute_result"
    }
   ],
   "source": [
    "dummies = pd.get_dummies(data[\"Product Category\"])\n",
    "dummies"
   ]
  }
 ],
 "metadata": {
  "kernelspec": {
   "display_name": "Python 3",
   "language": "python",
   "name": "python3"
  },
  "language_info": {
   "codemirror_mode": {
    "name": "ipython",
    "version": 3
   },
   "file_extension": ".py",
   "mimetype": "text/x-python",
   "name": "python",
   "nbconvert_exporter": "python",
   "pygments_lexer": "ipython3",
   "version": "3.13.1"
  }
 },
 "nbformat": 4,
 "nbformat_minor": 2
}
