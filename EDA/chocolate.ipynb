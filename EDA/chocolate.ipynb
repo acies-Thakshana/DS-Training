{
 "cells": [
  {
   "cell_type": "code",
   "execution_count": 1,
   "metadata": {},
   "outputs": [],
   "source": [
    "import pandas as pd\n",
    "import plotly.express as px"
   ]
  },
  {
   "cell_type": "code",
   "execution_count": 5,
   "metadata": {},
   "outputs": [
    {
     "data": {
      "text/html": [
       "<div>\n",
       "<style scoped>\n",
       "    .dataframe tbody tr th:only-of-type {\n",
       "        vertical-align: middle;\n",
       "    }\n",
       "\n",
       "    .dataframe tbody tr th {\n",
       "        vertical-align: top;\n",
       "    }\n",
       "\n",
       "    .dataframe thead th {\n",
       "        text-align: right;\n",
       "    }\n",
       "</style>\n",
       "<table border=\"1\" class=\"dataframe\">\n",
       "  <thead>\n",
       "    <tr style=\"text-align: right;\">\n",
       "      <th></th>\n",
       "      <th>Sales Person</th>\n",
       "      <th>Country</th>\n",
       "      <th>Product</th>\n",
       "      <th>Date</th>\n",
       "      <th>Amount</th>\n",
       "      <th>Boxes Shipped</th>\n",
       "      <th>Month</th>\n",
       "    </tr>\n",
       "  </thead>\n",
       "  <tbody>\n",
       "    <tr>\n",
       "      <th>0</th>\n",
       "      <td>Jehu Rudeforth</td>\n",
       "      <td>UK</td>\n",
       "      <td>Mint Chip Choco</td>\n",
       "      <td>2022-01-04</td>\n",
       "      <td>5320</td>\n",
       "      <td>180</td>\n",
       "      <td>1</td>\n",
       "    </tr>\n",
       "    <tr>\n",
       "      <th>1</th>\n",
       "      <td>Van Tuxwell</td>\n",
       "      <td>India</td>\n",
       "      <td>85% Dark Bars</td>\n",
       "      <td>2022-08-01</td>\n",
       "      <td>7896</td>\n",
       "      <td>94</td>\n",
       "      <td>8</td>\n",
       "    </tr>\n",
       "    <tr>\n",
       "      <th>2</th>\n",
       "      <td>Gigi Bohling</td>\n",
       "      <td>India</td>\n",
       "      <td>Peanut Butter Cubes</td>\n",
       "      <td>2022-07-07</td>\n",
       "      <td>4501</td>\n",
       "      <td>91</td>\n",
       "      <td>7</td>\n",
       "    </tr>\n",
       "    <tr>\n",
       "      <th>3</th>\n",
       "      <td>Jan Morforth</td>\n",
       "      <td>Australia</td>\n",
       "      <td>Peanut Butter Cubes</td>\n",
       "      <td>2022-04-27</td>\n",
       "      <td>12726</td>\n",
       "      <td>342</td>\n",
       "      <td>4</td>\n",
       "    </tr>\n",
       "    <tr>\n",
       "      <th>4</th>\n",
       "      <td>Jehu Rudeforth</td>\n",
       "      <td>UK</td>\n",
       "      <td>Peanut Butter Cubes</td>\n",
       "      <td>2022-02-24</td>\n",
       "      <td>13685</td>\n",
       "      <td>184</td>\n",
       "      <td>2</td>\n",
       "    </tr>\n",
       "  </tbody>\n",
       "</table>\n",
       "</div>"
      ],
      "text/plain": [
       "     Sales Person    Country              Product       Date  Amount  \\\n",
       "0  Jehu Rudeforth         UK      Mint Chip Choco 2022-01-04    5320   \n",
       "1     Van Tuxwell      India        85% Dark Bars 2022-08-01    7896   \n",
       "2    Gigi Bohling      India  Peanut Butter Cubes 2022-07-07    4501   \n",
       "3    Jan Morforth  Australia  Peanut Butter Cubes 2022-04-27   12726   \n",
       "4  Jehu Rudeforth         UK  Peanut Butter Cubes 2022-02-24   13685   \n",
       "\n",
       "   Boxes Shipped  Month  \n",
       "0            180      1  \n",
       "1             94      8  \n",
       "2             91      7  \n",
       "3            342      4  \n",
       "4            184      2  "
      ]
     },
     "execution_count": 5,
     "metadata": {},
     "output_type": "execute_result"
    }
   ],
   "source": [
    "df=pd.read_excel(\"Chocolate Sales.xlsx\")\n",
    "df.head()"
   ]
  },
  {
   "cell_type": "code",
   "execution_count": 6,
   "metadata": {},
   "outputs": [
    {
     "name": "stdout",
     "output_type": "stream",
     "text": [
      "<class 'pandas.core.frame.DataFrame'>\n",
      "RangeIndex: 1094 entries, 0 to 1093\n",
      "Data columns (total 7 columns):\n",
      " #   Column         Non-Null Count  Dtype         \n",
      "---  ------         --------------  -----         \n",
      " 0   Sales Person   1094 non-null   object        \n",
      " 1   Country        1094 non-null   object        \n",
      " 2   Product        1094 non-null   object        \n",
      " 3   Date           1094 non-null   datetime64[ns]\n",
      " 4   Amount         1094 non-null   int64         \n",
      " 5   Boxes Shipped  1094 non-null   int64         \n",
      " 6   Month          1094 non-null   int64         \n",
      "dtypes: datetime64[ns](1), int64(3), object(3)\n",
      "memory usage: 60.0+ KB\n"
     ]
    }
   ],
   "source": [
    "df.info()"
   ]
  },
  {
   "cell_type": "code",
   "execution_count": 7,
   "metadata": {},
   "outputs": [
    {
     "data": {
      "text/html": [
       "<div>\n",
       "<style scoped>\n",
       "    .dataframe tbody tr th:only-of-type {\n",
       "        vertical-align: middle;\n",
       "    }\n",
       "\n",
       "    .dataframe tbody tr th {\n",
       "        vertical-align: top;\n",
       "    }\n",
       "\n",
       "    .dataframe thead th {\n",
       "        text-align: right;\n",
       "    }\n",
       "</style>\n",
       "<table border=\"1\" class=\"dataframe\">\n",
       "  <thead>\n",
       "    <tr style=\"text-align: right;\">\n",
       "      <th></th>\n",
       "      <th>Sales Person</th>\n",
       "      <th>Country</th>\n",
       "      <th>Product</th>\n",
       "      <th>Date</th>\n",
       "      <th>Amount</th>\n",
       "      <th>Boxes Shipped</th>\n",
       "      <th>Month</th>\n",
       "      <th>month_name</th>\n",
       "    </tr>\n",
       "  </thead>\n",
       "  <tbody>\n",
       "    <tr>\n",
       "      <th>0</th>\n",
       "      <td>Jehu Rudeforth</td>\n",
       "      <td>UK</td>\n",
       "      <td>Mint Chip Choco</td>\n",
       "      <td>2022-01-04</td>\n",
       "      <td>5320</td>\n",
       "      <td>180</td>\n",
       "      <td>1</td>\n",
       "      <td>January</td>\n",
       "    </tr>\n",
       "    <tr>\n",
       "      <th>1</th>\n",
       "      <td>Van Tuxwell</td>\n",
       "      <td>India</td>\n",
       "      <td>85% Dark Bars</td>\n",
       "      <td>2022-08-01</td>\n",
       "      <td>7896</td>\n",
       "      <td>94</td>\n",
       "      <td>8</td>\n",
       "      <td>August</td>\n",
       "    </tr>\n",
       "    <tr>\n",
       "      <th>2</th>\n",
       "      <td>Gigi Bohling</td>\n",
       "      <td>India</td>\n",
       "      <td>Peanut Butter Cubes</td>\n",
       "      <td>2022-07-07</td>\n",
       "      <td>4501</td>\n",
       "      <td>91</td>\n",
       "      <td>7</td>\n",
       "      <td>July</td>\n",
       "    </tr>\n",
       "    <tr>\n",
       "      <th>3</th>\n",
       "      <td>Jan Morforth</td>\n",
       "      <td>Australia</td>\n",
       "      <td>Peanut Butter Cubes</td>\n",
       "      <td>2022-04-27</td>\n",
       "      <td>12726</td>\n",
       "      <td>342</td>\n",
       "      <td>4</td>\n",
       "      <td>April</td>\n",
       "    </tr>\n",
       "    <tr>\n",
       "      <th>4</th>\n",
       "      <td>Jehu Rudeforth</td>\n",
       "      <td>UK</td>\n",
       "      <td>Peanut Butter Cubes</td>\n",
       "      <td>2022-02-24</td>\n",
       "      <td>13685</td>\n",
       "      <td>184</td>\n",
       "      <td>2</td>\n",
       "      <td>February</td>\n",
       "    </tr>\n",
       "  </tbody>\n",
       "</table>\n",
       "</div>"
      ],
      "text/plain": [
       "     Sales Person    Country              Product       Date  Amount  \\\n",
       "0  Jehu Rudeforth         UK      Mint Chip Choco 2022-01-04    5320   \n",
       "1     Van Tuxwell      India        85% Dark Bars 2022-08-01    7896   \n",
       "2    Gigi Bohling      India  Peanut Butter Cubes 2022-07-07    4501   \n",
       "3    Jan Morforth  Australia  Peanut Butter Cubes 2022-04-27   12726   \n",
       "4  Jehu Rudeforth         UK  Peanut Butter Cubes 2022-02-24   13685   \n",
       "\n",
       "   Boxes Shipped  Month month_name  \n",
       "0            180      1    January  \n",
       "1             94      8     August  \n",
       "2             91      7       July  \n",
       "3            342      4      April  \n",
       "4            184      2   February  "
      ]
     },
     "execution_count": 7,
     "metadata": {},
     "output_type": "execute_result"
    }
   ],
   "source": [
    "import calendar\n",
    "df[\"month_name\"] = df[\"Month\"].apply(lambda x: calendar.month_name[x])\n",
    "df.head()"
   ]
  },
  {
   "cell_type": "code",
   "execution_count": 12,
   "metadata": {},
   "outputs": [
    {
     "data": {
      "text/html": [
       "<div>\n",
       "<style scoped>\n",
       "    .dataframe tbody tr th:only-of-type {\n",
       "        vertical-align: middle;\n",
       "    }\n",
       "\n",
       "    .dataframe tbody tr th {\n",
       "        vertical-align: top;\n",
       "    }\n",
       "\n",
       "    .dataframe thead th {\n",
       "        text-align: right;\n",
       "    }\n",
       "</style>\n",
       "<table border=\"1\" class=\"dataframe\">\n",
       "  <thead>\n",
       "    <tr style=\"text-align: right;\">\n",
       "      <th></th>\n",
       "      <th>Sales Person</th>\n",
       "      <th>Country</th>\n",
       "      <th>Product</th>\n",
       "      <th>Date</th>\n",
       "      <th>Amount</th>\n",
       "      <th>Boxes Shipped</th>\n",
       "      <th>Month</th>\n",
       "      <th>month_name</th>\n",
       "      <th>year</th>\n",
       "    </tr>\n",
       "  </thead>\n",
       "  <tbody>\n",
       "    <tr>\n",
       "      <th>0</th>\n",
       "      <td>Jehu Rudeforth</td>\n",
       "      <td>UK</td>\n",
       "      <td>Mint Chip Choco</td>\n",
       "      <td>2022-01-04</td>\n",
       "      <td>5320</td>\n",
       "      <td>180</td>\n",
       "      <td>1</td>\n",
       "      <td>January</td>\n",
       "      <td>2022</td>\n",
       "    </tr>\n",
       "    <tr>\n",
       "      <th>1</th>\n",
       "      <td>Van Tuxwell</td>\n",
       "      <td>India</td>\n",
       "      <td>85% Dark Bars</td>\n",
       "      <td>2022-08-01</td>\n",
       "      <td>7896</td>\n",
       "      <td>94</td>\n",
       "      <td>8</td>\n",
       "      <td>August</td>\n",
       "      <td>2022</td>\n",
       "    </tr>\n",
       "    <tr>\n",
       "      <th>2</th>\n",
       "      <td>Gigi Bohling</td>\n",
       "      <td>India</td>\n",
       "      <td>Peanut Butter Cubes</td>\n",
       "      <td>2022-07-07</td>\n",
       "      <td>4501</td>\n",
       "      <td>91</td>\n",
       "      <td>7</td>\n",
       "      <td>July</td>\n",
       "      <td>2022</td>\n",
       "    </tr>\n",
       "    <tr>\n",
       "      <th>3</th>\n",
       "      <td>Jan Morforth</td>\n",
       "      <td>Australia</td>\n",
       "      <td>Peanut Butter Cubes</td>\n",
       "      <td>2022-04-27</td>\n",
       "      <td>12726</td>\n",
       "      <td>342</td>\n",
       "      <td>4</td>\n",
       "      <td>April</td>\n",
       "      <td>2022</td>\n",
       "    </tr>\n",
       "    <tr>\n",
       "      <th>4</th>\n",
       "      <td>Jehu Rudeforth</td>\n",
       "      <td>UK</td>\n",
       "      <td>Peanut Butter Cubes</td>\n",
       "      <td>2022-02-24</td>\n",
       "      <td>13685</td>\n",
       "      <td>184</td>\n",
       "      <td>2</td>\n",
       "      <td>February</td>\n",
       "      <td>2022</td>\n",
       "    </tr>\n",
       "    <tr>\n",
       "      <th>...</th>\n",
       "      <td>...</td>\n",
       "      <td>...</td>\n",
       "      <td>...</td>\n",
       "      <td>...</td>\n",
       "      <td>...</td>\n",
       "      <td>...</td>\n",
       "      <td>...</td>\n",
       "      <td>...</td>\n",
       "      <td>...</td>\n",
       "    </tr>\n",
       "    <tr>\n",
       "      <th>1089</th>\n",
       "      <td>Karlen McCaffrey</td>\n",
       "      <td>Australia</td>\n",
       "      <td>Spicy Special Slims</td>\n",
       "      <td>2022-05-17</td>\n",
       "      <td>4410</td>\n",
       "      <td>323</td>\n",
       "      <td>5</td>\n",
       "      <td>May</td>\n",
       "      <td>2022</td>\n",
       "    </tr>\n",
       "    <tr>\n",
       "      <th>1090</th>\n",
       "      <td>Jehu Rudeforth</td>\n",
       "      <td>USA</td>\n",
       "      <td>White Choc</td>\n",
       "      <td>2022-06-07</td>\n",
       "      <td>6559</td>\n",
       "      <td>119</td>\n",
       "      <td>6</td>\n",
       "      <td>June</td>\n",
       "      <td>2022</td>\n",
       "    </tr>\n",
       "    <tr>\n",
       "      <th>1091</th>\n",
       "      <td>Ches Bonnell</td>\n",
       "      <td>Canada</td>\n",
       "      <td>Organic Choco Syrup</td>\n",
       "      <td>2022-07-26</td>\n",
       "      <td>574</td>\n",
       "      <td>217</td>\n",
       "      <td>7</td>\n",
       "      <td>July</td>\n",
       "      <td>2022</td>\n",
       "    </tr>\n",
       "    <tr>\n",
       "      <th>1092</th>\n",
       "      <td>Dotty Strutley</td>\n",
       "      <td>India</td>\n",
       "      <td>Eclairs</td>\n",
       "      <td>2022-07-28</td>\n",
       "      <td>2086</td>\n",
       "      <td>384</td>\n",
       "      <td>7</td>\n",
       "      <td>July</td>\n",
       "      <td>2022</td>\n",
       "    </tr>\n",
       "    <tr>\n",
       "      <th>1093</th>\n",
       "      <td>Karlen McCaffrey</td>\n",
       "      <td>India</td>\n",
       "      <td>70% Dark Bites</td>\n",
       "      <td>2022-05-23</td>\n",
       "      <td>5075</td>\n",
       "      <td>344</td>\n",
       "      <td>5</td>\n",
       "      <td>May</td>\n",
       "      <td>2022</td>\n",
       "    </tr>\n",
       "  </tbody>\n",
       "</table>\n",
       "<p>1094 rows × 9 columns</p>\n",
       "</div>"
      ],
      "text/plain": [
       "          Sales Person    Country              Product       Date  Amount  \\\n",
       "0       Jehu Rudeforth         UK      Mint Chip Choco 2022-01-04    5320   \n",
       "1          Van Tuxwell      India        85% Dark Bars 2022-08-01    7896   \n",
       "2         Gigi Bohling      India  Peanut Butter Cubes 2022-07-07    4501   \n",
       "3         Jan Morforth  Australia  Peanut Butter Cubes 2022-04-27   12726   \n",
       "4       Jehu Rudeforth         UK  Peanut Butter Cubes 2022-02-24   13685   \n",
       "...                ...        ...                  ...        ...     ...   \n",
       "1089  Karlen McCaffrey  Australia  Spicy Special Slims 2022-05-17    4410   \n",
       "1090    Jehu Rudeforth        USA           White Choc 2022-06-07    6559   \n",
       "1091      Ches Bonnell     Canada  Organic Choco Syrup 2022-07-26     574   \n",
       "1092    Dotty Strutley      India              Eclairs 2022-07-28    2086   \n",
       "1093  Karlen McCaffrey      India       70% Dark Bites 2022-05-23    5075   \n",
       "\n",
       "      Boxes Shipped  Month month_name  year  \n",
       "0               180      1    January  2022  \n",
       "1                94      8     August  2022  \n",
       "2                91      7       July  2022  \n",
       "3               342      4      April  2022  \n",
       "4               184      2   February  2022  \n",
       "...             ...    ...        ...   ...  \n",
       "1089            323      5        May  2022  \n",
       "1090            119      6       June  2022  \n",
       "1091            217      7       July  2022  \n",
       "1092            384      7       July  2022  \n",
       "1093            344      5        May  2022  \n",
       "\n",
       "[1094 rows x 9 columns]"
      ]
     },
     "execution_count": 12,
     "metadata": {},
     "output_type": "execute_result"
    }
   ],
   "source": [
    "df['year'] = pd.DatetimeIndex(df[\"Date\"]).year\n",
    "df"
   ]
  },
  {
   "cell_type": "code",
   "execution_count": 26,
   "metadata": {},
   "outputs": [
    {
     "data": {
      "text/html": [
       "<div>\n",
       "<style scoped>\n",
       "    .dataframe tbody tr th:only-of-type {\n",
       "        vertical-align: middle;\n",
       "    }\n",
       "\n",
       "    .dataframe tbody tr th {\n",
       "        vertical-align: top;\n",
       "    }\n",
       "\n",
       "    .dataframe thead th {\n",
       "        text-align: right;\n",
       "    }\n",
       "</style>\n",
       "<table border=\"1\" class=\"dataframe\">\n",
       "  <thead>\n",
       "    <tr style=\"text-align: right;\">\n",
       "      <th></th>\n",
       "      <th>Product</th>\n",
       "      <th>Country</th>\n",
       "      <th>Amount</th>\n",
       "    </tr>\n",
       "  </thead>\n",
       "  <tbody>\n",
       "    <tr>\n",
       "      <th>0</th>\n",
       "      <td>50% Dark Bites</td>\n",
       "      <td>Australia</td>\n",
       "      <td>89222</td>\n",
       "    </tr>\n",
       "    <tr>\n",
       "      <th>1</th>\n",
       "      <td>50% Dark Bites</td>\n",
       "      <td>Canada</td>\n",
       "      <td>45115</td>\n",
       "    </tr>\n",
       "    <tr>\n",
       "      <th>2</th>\n",
       "      <td>50% Dark Bites</td>\n",
       "      <td>India</td>\n",
       "      <td>64547</td>\n",
       "    </tr>\n",
       "    <tr>\n",
       "      <th>3</th>\n",
       "      <td>50% Dark Bites</td>\n",
       "      <td>New Zealand</td>\n",
       "      <td>35294</td>\n",
       "    </tr>\n",
       "    <tr>\n",
       "      <th>4</th>\n",
       "      <td>50% Dark Bites</td>\n",
       "      <td>UK</td>\n",
       "      <td>50092</td>\n",
       "    </tr>\n",
       "  </tbody>\n",
       "</table>\n",
       "</div>"
      ],
      "text/plain": [
       "          Product      Country  Amount\n",
       "0  50% Dark Bites    Australia   89222\n",
       "1  50% Dark Bites       Canada   45115\n",
       "2  50% Dark Bites        India   64547\n",
       "3  50% Dark Bites  New Zealand   35294\n",
       "4  50% Dark Bites           UK   50092"
      ]
     },
     "execution_count": 26,
     "metadata": {},
     "output_type": "execute_result"
    }
   ],
   "source": [
    "df1=df.groupby([\"Product\",\"Country\"])[\"Amount\"].sum().reset_index()\n",
    "df1.head()"
   ]
  },
  {
   "cell_type": "code",
   "execution_count": 27,
   "metadata": {},
   "outputs": [
    {
     "data": {
      "application/vnd.plotly.v1+json": {
       "config": {
        "plotlyServerURL": "https://plot.ly"
       },
       "data": [
        {
         "alignmentgroup": "True",
         "hovertemplate": "Country=Australia<br>Product=%{x}<br>Amount=%{y}<extra></extra>",
         "legendgroup": "Australia",
         "marker": {
          "color": "#636efa",
          "pattern": {
           "shape": ""
          }
         },
         "name": "Australia",
         "offsetgroup": "Australia",
         "orientation": "v",
         "showlegend": true,
         "textposition": "auto",
         "type": "bar",
         "x": [
          "50% Dark Bites",
          "70% Dark Bites",
          "85% Dark Bars",
          "99% Dark & Pure",
          "After Nines",
          "Almond Choco",
          "Baker's Choco Chips",
          "Caramel Stuffed Bars",
          "Choco Coated Almonds",
          "Drinking Coco",
          "Eclairs",
          "Fruit & Nut Bars",
          "Manuka Honey Choco",
          "Milk Bars",
          "Mint Chip Choco",
          "Orange Choco",
          "Organic Choco Syrup",
          "Peanut Butter Cubes",
          "Raspberry Choco",
          "Smooth Sliky Salty",
          "Spicy Special Slims",
          "White Choc"
         ],
         "xaxis": "x",
         "y": [
          89222,
          39354,
          38479,
          54908,
          27769,
          46879,
          58303,
          39949,
          37345,
          52199,
          64323,
          53088,
          45969,
          61173,
          50701,
          59717,
          60445,
          41055,
          52829,
          45269,
          61005,
          57386
         ],
         "yaxis": "y"
        },
        {
         "alignmentgroup": "True",
         "hovertemplate": "Country=Canada<br>Product=%{x}<br>Amount=%{y}<extra></extra>",
         "legendgroup": "Canada",
         "marker": {
          "color": "#EF553B",
          "pattern": {
           "shape": ""
          }
         },
         "name": "Canada",
         "offsetgroup": "Canada",
         "orientation": "v",
         "showlegend": true,
         "textposition": "auto",
         "type": "bar",
         "x": [
          "50% Dark Bites",
          "70% Dark Bites",
          "85% Dark Bars",
          "99% Dark & Pure",
          "After Nines",
          "Almond Choco",
          "Baker's Choco Chips",
          "Caramel Stuffed Bars",
          "Choco Coated Almonds",
          "Drinking Coco",
          "Eclairs",
          "Fruit & Nut Bars",
          "Manuka Honey Choco",
          "Milk Bars",
          "Mint Chip Choco",
          "Orange Choco",
          "Organic Choco Syrup",
          "Peanut Butter Cubes",
          "Raspberry Choco",
          "Smooth Sliky Salty",
          "Spicy Special Slims",
          "White Choc"
         ],
         "xaxis": "x",
         "y": [
          45115,
          59024,
          37926,
          44198,
          41993,
          42028,
          36456,
          33376,
          57463,
          47964,
          24325,
          49924,
          50589,
          41727,
          15547,
          51156,
          36631,
          62181,
          12873,
          68257,
          58051,
          46095
         ],
         "yaxis": "y"
        },
        {
         "alignmentgroup": "True",
         "hovertemplate": "Country=India<br>Product=%{x}<br>Amount=%{y}<extra></extra>",
         "legendgroup": "India",
         "marker": {
          "color": "#00cc96",
          "pattern": {
           "shape": ""
          }
         },
         "name": "India",
         "offsetgroup": "India",
         "orientation": "v",
         "showlegend": true,
         "textposition": "auto",
         "type": "bar",
         "x": [
          "50% Dark Bites",
          "70% Dark Bites",
          "85% Dark Bars",
          "99% Dark & Pure",
          "After Nines",
          "Almond Choco",
          "Baker's Choco Chips",
          "Caramel Stuffed Bars",
          "Choco Coated Almonds",
          "Drinking Coco",
          "Eclairs",
          "Fruit & Nut Bars",
          "Manuka Honey Choco",
          "Milk Bars",
          "Mint Chip Choco",
          "Orange Choco",
          "Organic Choco Syrup",
          "Peanut Butter Cubes",
          "Raspberry Choco",
          "Smooth Sliky Salty",
          "Spicy Special Slims",
          "White Choc"
         ],
         "xaxis": "x",
         "y": [
          64547,
          34713,
          56630,
          41923,
          58758,
          50820,
          27510,
          35427,
          27958,
          45892,
          79009,
          18368,
          18760,
          24206,
          69153,
          23219,
          68075,
          76909,
          39501,
          76041,
          75495,
          32886
         ],
         "yaxis": "y"
        },
        {
         "alignmentgroup": "True",
         "hovertemplate": "Country=New Zealand<br>Product=%{x}<br>Amount=%{y}<extra></extra>",
         "legendgroup": "New Zealand",
         "marker": {
          "color": "#ab63fa",
          "pattern": {
           "shape": ""
          }
         },
         "name": "New Zealand",
         "offsetgroup": "New Zealand",
         "orientation": "v",
         "showlegend": true,
         "textposition": "auto",
         "type": "bar",
         "x": [
          "50% Dark Bites",
          "70% Dark Bites",
          "85% Dark Bars",
          "99% Dark & Pure",
          "After Nines",
          "Almond Choco",
          "Baker's Choco Chips",
          "Caramel Stuffed Bars",
          "Choco Coated Almonds",
          "Drinking Coco",
          "Eclairs",
          "Fruit & Nut Bars",
          "Manuka Honey Choco",
          "Milk Bars",
          "Mint Chip Choco",
          "Orange Choco",
          "Organic Choco Syrup",
          "Peanut Butter Cubes",
          "Raspberry Choco",
          "Smooth Sliky Salty",
          "Spicy Special Slims",
          "White Choc"
         ],
         "xaxis": "x",
         "y": [
          35294,
          37226,
          67550,
          31773,
          55699,
          29211,
          45906,
          34013,
          20888,
          31157,
          60319,
          47124,
          49889,
          36855,
          86709,
          30758,
          53074,
          31374,
          32592,
          39004,
          36127,
          57876
         ],
         "yaxis": "y"
        },
        {
         "alignmentgroup": "True",
         "hovertemplate": "Country=UK<br>Product=%{x}<br>Amount=%{y}<extra></extra>",
         "legendgroup": "UK",
         "marker": {
          "color": "#FFA15A",
          "pattern": {
           "shape": ""
          }
         },
         "name": "UK",
         "offsetgroup": "UK",
         "orientation": "v",
         "showlegend": true,
         "textposition": "auto",
         "type": "bar",
         "x": [
          "50% Dark Bites",
          "70% Dark Bites",
          "85% Dark Bars",
          "99% Dark & Pure",
          "After Nines",
          "Almond Choco",
          "Baker's Choco Chips",
          "Caramel Stuffed Bars",
          "Choco Coated Almonds",
          "Drinking Coco",
          "Eclairs",
          "Fruit & Nut Bars",
          "Manuka Honey Choco",
          "Milk Bars",
          "Mint Chip Choco",
          "Orange Choco",
          "Organic Choco Syrup",
          "Peanut Butter Cubes",
          "Raspberry Choco",
          "Smooth Sliky Salty",
          "Spicy Special Slims",
          "White Choc"
         ],
         "xaxis": "x",
         "y": [
          50092,
          20713,
          41447,
          79100,
          34524,
          59948,
          39018,
          51233,
          56091,
          41384,
          39277,
          42266,
          42602,
          57036,
          25536,
          42252,
          25284,
          79695,
          43421,
          75628,
          37562,
          67683
         ],
         "yaxis": "y"
        },
        {
         "alignmentgroup": "True",
         "hovertemplate": "Country=USA<br>Product=%{x}<br>Amount=%{y}<extra></extra>",
         "legendgroup": "USA",
         "marker": {
          "color": "#19d3f3",
          "pattern": {
           "shape": ""
          }
         },
         "name": "USA",
         "offsetgroup": "USA",
         "orientation": "v",
         "showlegend": true,
         "textposition": "auto",
         "type": "bar",
         "x": [
          "50% Dark Bites",
          "70% Dark Bites",
          "85% Dark Bars",
          "99% Dark & Pure",
          "After Nines",
          "Almond Choco",
          "Baker's Choco Chips",
          "Caramel Stuffed Bars",
          "Choco Coated Almonds",
          "Drinking Coco",
          "Eclairs",
          "Fruit & Nut Bars",
          "Manuka Honey Choco",
          "Milk Bars",
          "Mint Chip Choco",
          "Orange Choco",
          "Organic Choco Syrup",
          "Peanut Butter Cubes",
          "Raspberry Choco",
          "Smooth Sliky Salty",
          "Spicy Special Slims",
          "White Choc"
         ],
         "xaxis": "x",
         "y": [
          57442,
          20580,
          57197,
          47894,
          42588,
          48650,
          42420,
          37590,
          41741,
          38059,
          45192,
          48377,
          67732,
          48251,
          36323,
          49042,
          51191,
          33628,
          83524,
          45493,
          25214,
          67221
         ],
         "yaxis": "y"
        }
       ],
       "layout": {
        "barmode": "relative",
        "legend": {
         "title": {
          "text": "Country"
         },
         "tracegroupgap": 0
        },
        "margin": {
         "t": 60
        },
        "template": {
         "data": {
          "bar": [
           {
            "error_x": {
             "color": "#2a3f5f"
            },
            "error_y": {
             "color": "#2a3f5f"
            },
            "marker": {
             "line": {
              "color": "#E5ECF6",
              "width": 0.5
             },
             "pattern": {
              "fillmode": "overlay",
              "size": 10,
              "solidity": 0.2
             }
            },
            "type": "bar"
           }
          ],
          "barpolar": [
           {
            "marker": {
             "line": {
              "color": "#E5ECF6",
              "width": 0.5
             },
             "pattern": {
              "fillmode": "overlay",
              "size": 10,
              "solidity": 0.2
             }
            },
            "type": "barpolar"
           }
          ],
          "carpet": [
           {
            "aaxis": {
             "endlinecolor": "#2a3f5f",
             "gridcolor": "white",
             "linecolor": "white",
             "minorgridcolor": "white",
             "startlinecolor": "#2a3f5f"
            },
            "baxis": {
             "endlinecolor": "#2a3f5f",
             "gridcolor": "white",
             "linecolor": "white",
             "minorgridcolor": "white",
             "startlinecolor": "#2a3f5f"
            },
            "type": "carpet"
           }
          ],
          "choropleth": [
           {
            "colorbar": {
             "outlinewidth": 0,
             "ticks": ""
            },
            "type": "choropleth"
           }
          ],
          "contour": [
           {
            "colorbar": {
             "outlinewidth": 0,
             "ticks": ""
            },
            "colorscale": [
             [
              0,
              "#0d0887"
             ],
             [
              0.1111111111111111,
              "#46039f"
             ],
             [
              0.2222222222222222,
              "#7201a8"
             ],
             [
              0.3333333333333333,
              "#9c179e"
             ],
             [
              0.4444444444444444,
              "#bd3786"
             ],
             [
              0.5555555555555556,
              "#d8576b"
             ],
             [
              0.6666666666666666,
              "#ed7953"
             ],
             [
              0.7777777777777778,
              "#fb9f3a"
             ],
             [
              0.8888888888888888,
              "#fdca26"
             ],
             [
              1,
              "#f0f921"
             ]
            ],
            "type": "contour"
           }
          ],
          "contourcarpet": [
           {
            "colorbar": {
             "outlinewidth": 0,
             "ticks": ""
            },
            "type": "contourcarpet"
           }
          ],
          "heatmap": [
           {
            "colorbar": {
             "outlinewidth": 0,
             "ticks": ""
            },
            "colorscale": [
             [
              0,
              "#0d0887"
             ],
             [
              0.1111111111111111,
              "#46039f"
             ],
             [
              0.2222222222222222,
              "#7201a8"
             ],
             [
              0.3333333333333333,
              "#9c179e"
             ],
             [
              0.4444444444444444,
              "#bd3786"
             ],
             [
              0.5555555555555556,
              "#d8576b"
             ],
             [
              0.6666666666666666,
              "#ed7953"
             ],
             [
              0.7777777777777778,
              "#fb9f3a"
             ],
             [
              0.8888888888888888,
              "#fdca26"
             ],
             [
              1,
              "#f0f921"
             ]
            ],
            "type": "heatmap"
           }
          ],
          "heatmapgl": [
           {
            "colorbar": {
             "outlinewidth": 0,
             "ticks": ""
            },
            "colorscale": [
             [
              0,
              "#0d0887"
             ],
             [
              0.1111111111111111,
              "#46039f"
             ],
             [
              0.2222222222222222,
              "#7201a8"
             ],
             [
              0.3333333333333333,
              "#9c179e"
             ],
             [
              0.4444444444444444,
              "#bd3786"
             ],
             [
              0.5555555555555556,
              "#d8576b"
             ],
             [
              0.6666666666666666,
              "#ed7953"
             ],
             [
              0.7777777777777778,
              "#fb9f3a"
             ],
             [
              0.8888888888888888,
              "#fdca26"
             ],
             [
              1,
              "#f0f921"
             ]
            ],
            "type": "heatmapgl"
           }
          ],
          "histogram": [
           {
            "marker": {
             "pattern": {
              "fillmode": "overlay",
              "size": 10,
              "solidity": 0.2
             }
            },
            "type": "histogram"
           }
          ],
          "histogram2d": [
           {
            "colorbar": {
             "outlinewidth": 0,
             "ticks": ""
            },
            "colorscale": [
             [
              0,
              "#0d0887"
             ],
             [
              0.1111111111111111,
              "#46039f"
             ],
             [
              0.2222222222222222,
              "#7201a8"
             ],
             [
              0.3333333333333333,
              "#9c179e"
             ],
             [
              0.4444444444444444,
              "#bd3786"
             ],
             [
              0.5555555555555556,
              "#d8576b"
             ],
             [
              0.6666666666666666,
              "#ed7953"
             ],
             [
              0.7777777777777778,
              "#fb9f3a"
             ],
             [
              0.8888888888888888,
              "#fdca26"
             ],
             [
              1,
              "#f0f921"
             ]
            ],
            "type": "histogram2d"
           }
          ],
          "histogram2dcontour": [
           {
            "colorbar": {
             "outlinewidth": 0,
             "ticks": ""
            },
            "colorscale": [
             [
              0,
              "#0d0887"
             ],
             [
              0.1111111111111111,
              "#46039f"
             ],
             [
              0.2222222222222222,
              "#7201a8"
             ],
             [
              0.3333333333333333,
              "#9c179e"
             ],
             [
              0.4444444444444444,
              "#bd3786"
             ],
             [
              0.5555555555555556,
              "#d8576b"
             ],
             [
              0.6666666666666666,
              "#ed7953"
             ],
             [
              0.7777777777777778,
              "#fb9f3a"
             ],
             [
              0.8888888888888888,
              "#fdca26"
             ],
             [
              1,
              "#f0f921"
             ]
            ],
            "type": "histogram2dcontour"
           }
          ],
          "mesh3d": [
           {
            "colorbar": {
             "outlinewidth": 0,
             "ticks": ""
            },
            "type": "mesh3d"
           }
          ],
          "parcoords": [
           {
            "line": {
             "colorbar": {
              "outlinewidth": 0,
              "ticks": ""
             }
            },
            "type": "parcoords"
           }
          ],
          "pie": [
           {
            "automargin": true,
            "type": "pie"
           }
          ],
          "scatter": [
           {
            "fillpattern": {
             "fillmode": "overlay",
             "size": 10,
             "solidity": 0.2
            },
            "type": "scatter"
           }
          ],
          "scatter3d": [
           {
            "line": {
             "colorbar": {
              "outlinewidth": 0,
              "ticks": ""
             }
            },
            "marker": {
             "colorbar": {
              "outlinewidth": 0,
              "ticks": ""
             }
            },
            "type": "scatter3d"
           }
          ],
          "scattercarpet": [
           {
            "marker": {
             "colorbar": {
              "outlinewidth": 0,
              "ticks": ""
             }
            },
            "type": "scattercarpet"
           }
          ],
          "scattergeo": [
           {
            "marker": {
             "colorbar": {
              "outlinewidth": 0,
              "ticks": ""
             }
            },
            "type": "scattergeo"
           }
          ],
          "scattergl": [
           {
            "marker": {
             "colorbar": {
              "outlinewidth": 0,
              "ticks": ""
             }
            },
            "type": "scattergl"
           }
          ],
          "scattermapbox": [
           {
            "marker": {
             "colorbar": {
              "outlinewidth": 0,
              "ticks": ""
             }
            },
            "type": "scattermapbox"
           }
          ],
          "scatterpolar": [
           {
            "marker": {
             "colorbar": {
              "outlinewidth": 0,
              "ticks": ""
             }
            },
            "type": "scatterpolar"
           }
          ],
          "scatterpolargl": [
           {
            "marker": {
             "colorbar": {
              "outlinewidth": 0,
              "ticks": ""
             }
            },
            "type": "scatterpolargl"
           }
          ],
          "scatterternary": [
           {
            "marker": {
             "colorbar": {
              "outlinewidth": 0,
              "ticks": ""
             }
            },
            "type": "scatterternary"
           }
          ],
          "surface": [
           {
            "colorbar": {
             "outlinewidth": 0,
             "ticks": ""
            },
            "colorscale": [
             [
              0,
              "#0d0887"
             ],
             [
              0.1111111111111111,
              "#46039f"
             ],
             [
              0.2222222222222222,
              "#7201a8"
             ],
             [
              0.3333333333333333,
              "#9c179e"
             ],
             [
              0.4444444444444444,
              "#bd3786"
             ],
             [
              0.5555555555555556,
              "#d8576b"
             ],
             [
              0.6666666666666666,
              "#ed7953"
             ],
             [
              0.7777777777777778,
              "#fb9f3a"
             ],
             [
              0.8888888888888888,
              "#fdca26"
             ],
             [
              1,
              "#f0f921"
             ]
            ],
            "type": "surface"
           }
          ],
          "table": [
           {
            "cells": {
             "fill": {
              "color": "#EBF0F8"
             },
             "line": {
              "color": "white"
             }
            },
            "header": {
             "fill": {
              "color": "#C8D4E3"
             },
             "line": {
              "color": "white"
             }
            },
            "type": "table"
           }
          ]
         },
         "layout": {
          "annotationdefaults": {
           "arrowcolor": "#2a3f5f",
           "arrowhead": 0,
           "arrowwidth": 1
          },
          "autotypenumbers": "strict",
          "coloraxis": {
           "colorbar": {
            "outlinewidth": 0,
            "ticks": ""
           }
          },
          "colorscale": {
           "diverging": [
            [
             0,
             "#8e0152"
            ],
            [
             0.1,
             "#c51b7d"
            ],
            [
             0.2,
             "#de77ae"
            ],
            [
             0.3,
             "#f1b6da"
            ],
            [
             0.4,
             "#fde0ef"
            ],
            [
             0.5,
             "#f7f7f7"
            ],
            [
             0.6,
             "#e6f5d0"
            ],
            [
             0.7,
             "#b8e186"
            ],
            [
             0.8,
             "#7fbc41"
            ],
            [
             0.9,
             "#4d9221"
            ],
            [
             1,
             "#276419"
            ]
           ],
           "sequential": [
            [
             0,
             "#0d0887"
            ],
            [
             0.1111111111111111,
             "#46039f"
            ],
            [
             0.2222222222222222,
             "#7201a8"
            ],
            [
             0.3333333333333333,
             "#9c179e"
            ],
            [
             0.4444444444444444,
             "#bd3786"
            ],
            [
             0.5555555555555556,
             "#d8576b"
            ],
            [
             0.6666666666666666,
             "#ed7953"
            ],
            [
             0.7777777777777778,
             "#fb9f3a"
            ],
            [
             0.8888888888888888,
             "#fdca26"
            ],
            [
             1,
             "#f0f921"
            ]
           ],
           "sequentialminus": [
            [
             0,
             "#0d0887"
            ],
            [
             0.1111111111111111,
             "#46039f"
            ],
            [
             0.2222222222222222,
             "#7201a8"
            ],
            [
             0.3333333333333333,
             "#9c179e"
            ],
            [
             0.4444444444444444,
             "#bd3786"
            ],
            [
             0.5555555555555556,
             "#d8576b"
            ],
            [
             0.6666666666666666,
             "#ed7953"
            ],
            [
             0.7777777777777778,
             "#fb9f3a"
            ],
            [
             0.8888888888888888,
             "#fdca26"
            ],
            [
             1,
             "#f0f921"
            ]
           ]
          },
          "colorway": [
           "#636efa",
           "#EF553B",
           "#00cc96",
           "#ab63fa",
           "#FFA15A",
           "#19d3f3",
           "#FF6692",
           "#B6E880",
           "#FF97FF",
           "#FECB52"
          ],
          "font": {
           "color": "#2a3f5f"
          },
          "geo": {
           "bgcolor": "white",
           "lakecolor": "white",
           "landcolor": "#E5ECF6",
           "showlakes": true,
           "showland": true,
           "subunitcolor": "white"
          },
          "hoverlabel": {
           "align": "left"
          },
          "hovermode": "closest",
          "mapbox": {
           "style": "light"
          },
          "paper_bgcolor": "white",
          "plot_bgcolor": "#E5ECF6",
          "polar": {
           "angularaxis": {
            "gridcolor": "white",
            "linecolor": "white",
            "ticks": ""
           },
           "bgcolor": "#E5ECF6",
           "radialaxis": {
            "gridcolor": "white",
            "linecolor": "white",
            "ticks": ""
           }
          },
          "scene": {
           "xaxis": {
            "backgroundcolor": "#E5ECF6",
            "gridcolor": "white",
            "gridwidth": 2,
            "linecolor": "white",
            "showbackground": true,
            "ticks": "",
            "zerolinecolor": "white"
           },
           "yaxis": {
            "backgroundcolor": "#E5ECF6",
            "gridcolor": "white",
            "gridwidth": 2,
            "linecolor": "white",
            "showbackground": true,
            "ticks": "",
            "zerolinecolor": "white"
           },
           "zaxis": {
            "backgroundcolor": "#E5ECF6",
            "gridcolor": "white",
            "gridwidth": 2,
            "linecolor": "white",
            "showbackground": true,
            "ticks": "",
            "zerolinecolor": "white"
           }
          },
          "shapedefaults": {
           "line": {
            "color": "#2a3f5f"
           }
          },
          "ternary": {
           "aaxis": {
            "gridcolor": "white",
            "linecolor": "white",
            "ticks": ""
           },
           "baxis": {
            "gridcolor": "white",
            "linecolor": "white",
            "ticks": ""
           },
           "bgcolor": "#E5ECF6",
           "caxis": {
            "gridcolor": "white",
            "linecolor": "white",
            "ticks": ""
           }
          },
          "title": {
           "x": 0.05
          },
          "xaxis": {
           "automargin": true,
           "gridcolor": "white",
           "linecolor": "white",
           "ticks": "",
           "title": {
            "standoff": 15
           },
           "zerolinecolor": "white",
           "zerolinewidth": 2
          },
          "yaxis": {
           "automargin": true,
           "gridcolor": "white",
           "linecolor": "white",
           "ticks": "",
           "title": {
            "standoff": 15
           },
           "zerolinecolor": "white",
           "zerolinewidth": 2
          }
         }
        },
        "xaxis": {
         "anchor": "y",
         "domain": [
          0,
          1
         ],
         "title": {
          "text": "Product"
         }
        },
        "yaxis": {
         "anchor": "x",
         "domain": [
          0,
          1
         ],
         "title": {
          "text": "Amount"
         }
        }
       }
      }
     },
     "metadata": {},
     "output_type": "display_data"
    }
   ],
   "source": [
    "px.bar(df1,x=\"Product\",y=\"Amount\",color=\"Country\")"
   ]
  },
  {
   "cell_type": "code",
   "execution_count": 18,
   "metadata": {},
   "outputs": [],
   "source": [
    "df2=df.groupby(\"Country\")[\"Amount\"].sum().reset_index().sort_values(by=\"Amount\", ascending=False)\n"
   ]
  },
  {
   "cell_type": "code",
   "execution_count": 20,
   "metadata": {},
   "outputs": [
    {
     "data": {
      "application/vnd.plotly.v1+json": {
       "config": {
        "plotlyServerURL": "https://plot.ly"
       },
       "data": [
        {
         "domain": {
          "x": [
           0,
           1
          ],
          "y": [
           0,
           1
          ]
         },
         "hovertemplate": "Country=%{label}<br>Amount=%{value}<extra></extra>",
         "labels": [
          "Australia",
          "UK",
          "India",
          "USA",
          "Canada",
          "New Zealand"
         ],
         "legendgroup": "",
         "name": "",
         "showlegend": true,
         "type": "pie",
         "values": [
          1137367,
          1051792,
          1045800,
          1035349,
          962899,
          950418
         ]
        }
       ],
       "layout": {
        "legend": {
         "tracegroupgap": 0
        },
        "piecolorway": [
         "rgb(102,194,165)",
         "rgb(252,141,98)",
         "rgb(141,160,203)",
         "rgb(231,138,195)",
         "rgb(166,216,84)",
         "rgb(255,217,47)",
         "rgb(229,196,148)",
         "rgb(179,179,179)"
        ],
        "template": {
         "data": {
          "bar": [
           {
            "error_x": {
             "color": "#2a3f5f"
            },
            "error_y": {
             "color": "#2a3f5f"
            },
            "marker": {
             "line": {
              "color": "#E5ECF6",
              "width": 0.5
             },
             "pattern": {
              "fillmode": "overlay",
              "size": 10,
              "solidity": 0.2
             }
            },
            "type": "bar"
           }
          ],
          "barpolar": [
           {
            "marker": {
             "line": {
              "color": "#E5ECF6",
              "width": 0.5
             },
             "pattern": {
              "fillmode": "overlay",
              "size": 10,
              "solidity": 0.2
             }
            },
            "type": "barpolar"
           }
          ],
          "carpet": [
           {
            "aaxis": {
             "endlinecolor": "#2a3f5f",
             "gridcolor": "white",
             "linecolor": "white",
             "minorgridcolor": "white",
             "startlinecolor": "#2a3f5f"
            },
            "baxis": {
             "endlinecolor": "#2a3f5f",
             "gridcolor": "white",
             "linecolor": "white",
             "minorgridcolor": "white",
             "startlinecolor": "#2a3f5f"
            },
            "type": "carpet"
           }
          ],
          "choropleth": [
           {
            "colorbar": {
             "outlinewidth": 0,
             "ticks": ""
            },
            "type": "choropleth"
           }
          ],
          "contour": [
           {
            "colorbar": {
             "outlinewidth": 0,
             "ticks": ""
            },
            "colorscale": [
             [
              0,
              "#0d0887"
             ],
             [
              0.1111111111111111,
              "#46039f"
             ],
             [
              0.2222222222222222,
              "#7201a8"
             ],
             [
              0.3333333333333333,
              "#9c179e"
             ],
             [
              0.4444444444444444,
              "#bd3786"
             ],
             [
              0.5555555555555556,
              "#d8576b"
             ],
             [
              0.6666666666666666,
              "#ed7953"
             ],
             [
              0.7777777777777778,
              "#fb9f3a"
             ],
             [
              0.8888888888888888,
              "#fdca26"
             ],
             [
              1,
              "#f0f921"
             ]
            ],
            "type": "contour"
           }
          ],
          "contourcarpet": [
           {
            "colorbar": {
             "outlinewidth": 0,
             "ticks": ""
            },
            "type": "contourcarpet"
           }
          ],
          "heatmap": [
           {
            "colorbar": {
             "outlinewidth": 0,
             "ticks": ""
            },
            "colorscale": [
             [
              0,
              "#0d0887"
             ],
             [
              0.1111111111111111,
              "#46039f"
             ],
             [
              0.2222222222222222,
              "#7201a8"
             ],
             [
              0.3333333333333333,
              "#9c179e"
             ],
             [
              0.4444444444444444,
              "#bd3786"
             ],
             [
              0.5555555555555556,
              "#d8576b"
             ],
             [
              0.6666666666666666,
              "#ed7953"
             ],
             [
              0.7777777777777778,
              "#fb9f3a"
             ],
             [
              0.8888888888888888,
              "#fdca26"
             ],
             [
              1,
              "#f0f921"
             ]
            ],
            "type": "heatmap"
           }
          ],
          "heatmapgl": [
           {
            "colorbar": {
             "outlinewidth": 0,
             "ticks": ""
            },
            "colorscale": [
             [
              0,
              "#0d0887"
             ],
             [
              0.1111111111111111,
              "#46039f"
             ],
             [
              0.2222222222222222,
              "#7201a8"
             ],
             [
              0.3333333333333333,
              "#9c179e"
             ],
             [
              0.4444444444444444,
              "#bd3786"
             ],
             [
              0.5555555555555556,
              "#d8576b"
             ],
             [
              0.6666666666666666,
              "#ed7953"
             ],
             [
              0.7777777777777778,
              "#fb9f3a"
             ],
             [
              0.8888888888888888,
              "#fdca26"
             ],
             [
              1,
              "#f0f921"
             ]
            ],
            "type": "heatmapgl"
           }
          ],
          "histogram": [
           {
            "marker": {
             "pattern": {
              "fillmode": "overlay",
              "size": 10,
              "solidity": 0.2
             }
            },
            "type": "histogram"
           }
          ],
          "histogram2d": [
           {
            "colorbar": {
             "outlinewidth": 0,
             "ticks": ""
            },
            "colorscale": [
             [
              0,
              "#0d0887"
             ],
             [
              0.1111111111111111,
              "#46039f"
             ],
             [
              0.2222222222222222,
              "#7201a8"
             ],
             [
              0.3333333333333333,
              "#9c179e"
             ],
             [
              0.4444444444444444,
              "#bd3786"
             ],
             [
              0.5555555555555556,
              "#d8576b"
             ],
             [
              0.6666666666666666,
              "#ed7953"
             ],
             [
              0.7777777777777778,
              "#fb9f3a"
             ],
             [
              0.8888888888888888,
              "#fdca26"
             ],
             [
              1,
              "#f0f921"
             ]
            ],
            "type": "histogram2d"
           }
          ],
          "histogram2dcontour": [
           {
            "colorbar": {
             "outlinewidth": 0,
             "ticks": ""
            },
            "colorscale": [
             [
              0,
              "#0d0887"
             ],
             [
              0.1111111111111111,
              "#46039f"
             ],
             [
              0.2222222222222222,
              "#7201a8"
             ],
             [
              0.3333333333333333,
              "#9c179e"
             ],
             [
              0.4444444444444444,
              "#bd3786"
             ],
             [
              0.5555555555555556,
              "#d8576b"
             ],
             [
              0.6666666666666666,
              "#ed7953"
             ],
             [
              0.7777777777777778,
              "#fb9f3a"
             ],
             [
              0.8888888888888888,
              "#fdca26"
             ],
             [
              1,
              "#f0f921"
             ]
            ],
            "type": "histogram2dcontour"
           }
          ],
          "mesh3d": [
           {
            "colorbar": {
             "outlinewidth": 0,
             "ticks": ""
            },
            "type": "mesh3d"
           }
          ],
          "parcoords": [
           {
            "line": {
             "colorbar": {
              "outlinewidth": 0,
              "ticks": ""
             }
            },
            "type": "parcoords"
           }
          ],
          "pie": [
           {
            "automargin": true,
            "type": "pie"
           }
          ],
          "scatter": [
           {
            "fillpattern": {
             "fillmode": "overlay",
             "size": 10,
             "solidity": 0.2
            },
            "type": "scatter"
           }
          ],
          "scatter3d": [
           {
            "line": {
             "colorbar": {
              "outlinewidth": 0,
              "ticks": ""
             }
            },
            "marker": {
             "colorbar": {
              "outlinewidth": 0,
              "ticks": ""
             }
            },
            "type": "scatter3d"
           }
          ],
          "scattercarpet": [
           {
            "marker": {
             "colorbar": {
              "outlinewidth": 0,
              "ticks": ""
             }
            },
            "type": "scattercarpet"
           }
          ],
          "scattergeo": [
           {
            "marker": {
             "colorbar": {
              "outlinewidth": 0,
              "ticks": ""
             }
            },
            "type": "scattergeo"
           }
          ],
          "scattergl": [
           {
            "marker": {
             "colorbar": {
              "outlinewidth": 0,
              "ticks": ""
             }
            },
            "type": "scattergl"
           }
          ],
          "scattermapbox": [
           {
            "marker": {
             "colorbar": {
              "outlinewidth": 0,
              "ticks": ""
             }
            },
            "type": "scattermapbox"
           }
          ],
          "scatterpolar": [
           {
            "marker": {
             "colorbar": {
              "outlinewidth": 0,
              "ticks": ""
             }
            },
            "type": "scatterpolar"
           }
          ],
          "scatterpolargl": [
           {
            "marker": {
             "colorbar": {
              "outlinewidth": 0,
              "ticks": ""
             }
            },
            "type": "scatterpolargl"
           }
          ],
          "scatterternary": [
           {
            "marker": {
             "colorbar": {
              "outlinewidth": 0,
              "ticks": ""
             }
            },
            "type": "scatterternary"
           }
          ],
          "surface": [
           {
            "colorbar": {
             "outlinewidth": 0,
             "ticks": ""
            },
            "colorscale": [
             [
              0,
              "#0d0887"
             ],
             [
              0.1111111111111111,
              "#46039f"
             ],
             [
              0.2222222222222222,
              "#7201a8"
             ],
             [
              0.3333333333333333,
              "#9c179e"
             ],
             [
              0.4444444444444444,
              "#bd3786"
             ],
             [
              0.5555555555555556,
              "#d8576b"
             ],
             [
              0.6666666666666666,
              "#ed7953"
             ],
             [
              0.7777777777777778,
              "#fb9f3a"
             ],
             [
              0.8888888888888888,
              "#fdca26"
             ],
             [
              1,
              "#f0f921"
             ]
            ],
            "type": "surface"
           }
          ],
          "table": [
           {
            "cells": {
             "fill": {
              "color": "#EBF0F8"
             },
             "line": {
              "color": "white"
             }
            },
            "header": {
             "fill": {
              "color": "#C8D4E3"
             },
             "line": {
              "color": "white"
             }
            },
            "type": "table"
           }
          ]
         },
         "layout": {
          "annotationdefaults": {
           "arrowcolor": "#2a3f5f",
           "arrowhead": 0,
           "arrowwidth": 1
          },
          "autotypenumbers": "strict",
          "coloraxis": {
           "colorbar": {
            "outlinewidth": 0,
            "ticks": ""
           }
          },
          "colorscale": {
           "diverging": [
            [
             0,
             "#8e0152"
            ],
            [
             0.1,
             "#c51b7d"
            ],
            [
             0.2,
             "#de77ae"
            ],
            [
             0.3,
             "#f1b6da"
            ],
            [
             0.4,
             "#fde0ef"
            ],
            [
             0.5,
             "#f7f7f7"
            ],
            [
             0.6,
             "#e6f5d0"
            ],
            [
             0.7,
             "#b8e186"
            ],
            [
             0.8,
             "#7fbc41"
            ],
            [
             0.9,
             "#4d9221"
            ],
            [
             1,
             "#276419"
            ]
           ],
           "sequential": [
            [
             0,
             "#0d0887"
            ],
            [
             0.1111111111111111,
             "#46039f"
            ],
            [
             0.2222222222222222,
             "#7201a8"
            ],
            [
             0.3333333333333333,
             "#9c179e"
            ],
            [
             0.4444444444444444,
             "#bd3786"
            ],
            [
             0.5555555555555556,
             "#d8576b"
            ],
            [
             0.6666666666666666,
             "#ed7953"
            ],
            [
             0.7777777777777778,
             "#fb9f3a"
            ],
            [
             0.8888888888888888,
             "#fdca26"
            ],
            [
             1,
             "#f0f921"
            ]
           ],
           "sequentialminus": [
            [
             0,
             "#0d0887"
            ],
            [
             0.1111111111111111,
             "#46039f"
            ],
            [
             0.2222222222222222,
             "#7201a8"
            ],
            [
             0.3333333333333333,
             "#9c179e"
            ],
            [
             0.4444444444444444,
             "#bd3786"
            ],
            [
             0.5555555555555556,
             "#d8576b"
            ],
            [
             0.6666666666666666,
             "#ed7953"
            ],
            [
             0.7777777777777778,
             "#fb9f3a"
            ],
            [
             0.8888888888888888,
             "#fdca26"
            ],
            [
             1,
             "#f0f921"
            ]
           ]
          },
          "colorway": [
           "#636efa",
           "#EF553B",
           "#00cc96",
           "#ab63fa",
           "#FFA15A",
           "#19d3f3",
           "#FF6692",
           "#B6E880",
           "#FF97FF",
           "#FECB52"
          ],
          "font": {
           "color": "#2a3f5f"
          },
          "geo": {
           "bgcolor": "white",
           "lakecolor": "white",
           "landcolor": "#E5ECF6",
           "showlakes": true,
           "showland": true,
           "subunitcolor": "white"
          },
          "hoverlabel": {
           "align": "left"
          },
          "hovermode": "closest",
          "mapbox": {
           "style": "light"
          },
          "paper_bgcolor": "white",
          "plot_bgcolor": "#E5ECF6",
          "polar": {
           "angularaxis": {
            "gridcolor": "white",
            "linecolor": "white",
            "ticks": ""
           },
           "bgcolor": "#E5ECF6",
           "radialaxis": {
            "gridcolor": "white",
            "linecolor": "white",
            "ticks": ""
           }
          },
          "scene": {
           "xaxis": {
            "backgroundcolor": "#E5ECF6",
            "gridcolor": "white",
            "gridwidth": 2,
            "linecolor": "white",
            "showbackground": true,
            "ticks": "",
            "zerolinecolor": "white"
           },
           "yaxis": {
            "backgroundcolor": "#E5ECF6",
            "gridcolor": "white",
            "gridwidth": 2,
            "linecolor": "white",
            "showbackground": true,
            "ticks": "",
            "zerolinecolor": "white"
           },
           "zaxis": {
            "backgroundcolor": "#E5ECF6",
            "gridcolor": "white",
            "gridwidth": 2,
            "linecolor": "white",
            "showbackground": true,
            "ticks": "",
            "zerolinecolor": "white"
           }
          },
          "shapedefaults": {
           "line": {
            "color": "#2a3f5f"
           }
          },
          "ternary": {
           "aaxis": {
            "gridcolor": "white",
            "linecolor": "white",
            "ticks": ""
           },
           "baxis": {
            "gridcolor": "white",
            "linecolor": "white",
            "ticks": ""
           },
           "bgcolor": "#E5ECF6",
           "caxis": {
            "gridcolor": "white",
            "linecolor": "white",
            "ticks": ""
           }
          },
          "title": {
           "x": 0.05
          },
          "xaxis": {
           "automargin": true,
           "gridcolor": "white",
           "linecolor": "white",
           "ticks": "",
           "title": {
            "standoff": 15
           },
           "zerolinecolor": "white",
           "zerolinewidth": 2
          },
          "yaxis": {
           "automargin": true,
           "gridcolor": "white",
           "linecolor": "white",
           "ticks": "",
           "title": {
            "standoff": 15
           },
           "zerolinecolor": "white",
           "zerolinewidth": 2
          }
         }
        },
        "title": {
         "text": "Percentage Share of Amount by Country"
        }
       }
      }
     },
     "metadata": {},
     "output_type": "display_data"
    }
   ],
   "source": [
    "fig = px.pie(\n",
    "    df2, \n",
    "    values=\"Amount\", \n",
    "    names=\"Country\", \n",
    "    title=\"Percentage Share of Amount by Country\", \n",
    "    color_discrete_sequence=px.colors.qualitative.Set2\n",
    ")\n",
    "fig.show()"
   ]
  },
  {
   "cell_type": "code",
   "execution_count": 23,
   "metadata": {},
   "outputs": [
    {
     "data": {
      "text/html": [
       "<div>\n",
       "<style scoped>\n",
       "    .dataframe tbody tr th:only-of-type {\n",
       "        vertical-align: middle;\n",
       "    }\n",
       "\n",
       "    .dataframe tbody tr th {\n",
       "        vertical-align: top;\n",
       "    }\n",
       "\n",
       "    .dataframe thead th {\n",
       "        text-align: right;\n",
       "    }\n",
       "</style>\n",
       "<table border=\"1\" class=\"dataframe\">\n",
       "  <thead>\n",
       "    <tr style=\"text-align: right;\">\n",
       "      <th></th>\n",
       "      <th>year</th>\n",
       "      <th>Amount</th>\n",
       "    </tr>\n",
       "  </thead>\n",
       "  <tbody>\n",
       "    <tr>\n",
       "      <th>0</th>\n",
       "      <td>2022</td>\n",
       "      <td>6183625</td>\n",
       "    </tr>\n",
       "  </tbody>\n",
       "</table>\n",
       "</div>"
      ],
      "text/plain": [
       "   year   Amount\n",
       "0  2022  6183625"
      ]
     },
     "execution_count": 23,
     "metadata": {},
     "output_type": "execute_result"
    }
   ],
   "source": [
    "df3=df.groupby(\"year\")[\"Amount\"].sum().reset_index()\n",
    "df3.head()"
   ]
  },
  {
   "cell_type": "code",
   "execution_count": 31,
   "metadata": {},
   "outputs": [
    {
     "data": {
      "text/html": [
       "<div>\n",
       "<style scoped>\n",
       "    .dataframe tbody tr th:only-of-type {\n",
       "        vertical-align: middle;\n",
       "    }\n",
       "\n",
       "    .dataframe tbody tr th {\n",
       "        vertical-align: top;\n",
       "    }\n",
       "\n",
       "    .dataframe thead th {\n",
       "        text-align: right;\n",
       "    }\n",
       "</style>\n",
       "<table border=\"1\" class=\"dataframe\">\n",
       "  <thead>\n",
       "    <tr style=\"text-align: right;\">\n",
       "      <th></th>\n",
       "      <th>month_name</th>\n",
       "      <th>Amount</th>\n",
       "    </tr>\n",
       "  </thead>\n",
       "  <tbody>\n",
       "    <tr>\n",
       "      <th>0</th>\n",
       "      <td>April</td>\n",
       "      <td>674051</td>\n",
       "    </tr>\n",
       "    <tr>\n",
       "      <th>1</th>\n",
       "      <td>August</td>\n",
       "      <td>743148</td>\n",
       "    </tr>\n",
       "    <tr>\n",
       "      <th>2</th>\n",
       "      <td>February</td>\n",
       "      <td>699377</td>\n",
       "    </tr>\n",
       "    <tr>\n",
       "      <th>3</th>\n",
       "      <td>January</td>\n",
       "      <td>896105</td>\n",
       "    </tr>\n",
       "    <tr>\n",
       "      <th>4</th>\n",
       "      <td>July</td>\n",
       "      <td>803425</td>\n",
       "    </tr>\n",
       "    <tr>\n",
       "      <th>5</th>\n",
       "      <td>June</td>\n",
       "      <td>865144</td>\n",
       "    </tr>\n",
       "    <tr>\n",
       "      <th>6</th>\n",
       "      <td>March</td>\n",
       "      <td>749483</td>\n",
       "    </tr>\n",
       "    <tr>\n",
       "      <th>7</th>\n",
       "      <td>May</td>\n",
       "      <td>752892</td>\n",
       "    </tr>\n",
       "  </tbody>\n",
       "</table>\n",
       "</div>"
      ],
      "text/plain": [
       "  month_name  Amount\n",
       "0      April  674051\n",
       "1     August  743148\n",
       "2   February  699377\n",
       "3    January  896105\n",
       "4       July  803425\n",
       "5       June  865144\n",
       "6      March  749483\n",
       "7        May  752892"
      ]
     },
     "execution_count": 31,
     "metadata": {},
     "output_type": "execute_result"
    }
   ],
   "source": [
    "df4=df.groupby(\"month_name\")[\"Amount\"].sum().reset_index().sort_values(by=\"month_name\",ascending=True)\n",
    "df4"
   ]
  },
  {
   "cell_type": "code",
   "execution_count": 29,
   "metadata": {},
   "outputs": [
    {
     "data": {
      "application/vnd.plotly.v1+json": {
       "config": {
        "plotlyServerURL": "https://plot.ly"
       },
       "data": [
        {
         "hovertemplate": "month_name=%{x}<br>Amount=%{y}<extra></extra>",
         "legendgroup": "",
         "line": {
          "color": "#636efa",
          "dash": "solid"
         },
         "marker": {
          "symbol": "circle"
         },
         "mode": "lines",
         "name": "",
         "orientation": "v",
         "showlegend": false,
         "type": "scatter",
         "x": [
          "April",
          "August",
          "February",
          "January",
          "July",
          "June",
          "March",
          "May"
         ],
         "xaxis": "x",
         "y": [
          674051,
          743148,
          699377,
          896105,
          803425,
          865144,
          749483,
          752892
         ],
         "yaxis": "y"
        }
       ],
       "layout": {
        "legend": {
         "tracegroupgap": 0
        },
        "margin": {
         "t": 60
        },
        "template": {
         "data": {
          "bar": [
           {
            "error_x": {
             "color": "#2a3f5f"
            },
            "error_y": {
             "color": "#2a3f5f"
            },
            "marker": {
             "line": {
              "color": "#E5ECF6",
              "width": 0.5
             },
             "pattern": {
              "fillmode": "overlay",
              "size": 10,
              "solidity": 0.2
             }
            },
            "type": "bar"
           }
          ],
          "barpolar": [
           {
            "marker": {
             "line": {
              "color": "#E5ECF6",
              "width": 0.5
             },
             "pattern": {
              "fillmode": "overlay",
              "size": 10,
              "solidity": 0.2
             }
            },
            "type": "barpolar"
           }
          ],
          "carpet": [
           {
            "aaxis": {
             "endlinecolor": "#2a3f5f",
             "gridcolor": "white",
             "linecolor": "white",
             "minorgridcolor": "white",
             "startlinecolor": "#2a3f5f"
            },
            "baxis": {
             "endlinecolor": "#2a3f5f",
             "gridcolor": "white",
             "linecolor": "white",
             "minorgridcolor": "white",
             "startlinecolor": "#2a3f5f"
            },
            "type": "carpet"
           }
          ],
          "choropleth": [
           {
            "colorbar": {
             "outlinewidth": 0,
             "ticks": ""
            },
            "type": "choropleth"
           }
          ],
          "contour": [
           {
            "colorbar": {
             "outlinewidth": 0,
             "ticks": ""
            },
            "colorscale": [
             [
              0,
              "#0d0887"
             ],
             [
              0.1111111111111111,
              "#46039f"
             ],
             [
              0.2222222222222222,
              "#7201a8"
             ],
             [
              0.3333333333333333,
              "#9c179e"
             ],
             [
              0.4444444444444444,
              "#bd3786"
             ],
             [
              0.5555555555555556,
              "#d8576b"
             ],
             [
              0.6666666666666666,
              "#ed7953"
             ],
             [
              0.7777777777777778,
              "#fb9f3a"
             ],
             [
              0.8888888888888888,
              "#fdca26"
             ],
             [
              1,
              "#f0f921"
             ]
            ],
            "type": "contour"
           }
          ],
          "contourcarpet": [
           {
            "colorbar": {
             "outlinewidth": 0,
             "ticks": ""
            },
            "type": "contourcarpet"
           }
          ],
          "heatmap": [
           {
            "colorbar": {
             "outlinewidth": 0,
             "ticks": ""
            },
            "colorscale": [
             [
              0,
              "#0d0887"
             ],
             [
              0.1111111111111111,
              "#46039f"
             ],
             [
              0.2222222222222222,
              "#7201a8"
             ],
             [
              0.3333333333333333,
              "#9c179e"
             ],
             [
              0.4444444444444444,
              "#bd3786"
             ],
             [
              0.5555555555555556,
              "#d8576b"
             ],
             [
              0.6666666666666666,
              "#ed7953"
             ],
             [
              0.7777777777777778,
              "#fb9f3a"
             ],
             [
              0.8888888888888888,
              "#fdca26"
             ],
             [
              1,
              "#f0f921"
             ]
            ],
            "type": "heatmap"
           }
          ],
          "heatmapgl": [
           {
            "colorbar": {
             "outlinewidth": 0,
             "ticks": ""
            },
            "colorscale": [
             [
              0,
              "#0d0887"
             ],
             [
              0.1111111111111111,
              "#46039f"
             ],
             [
              0.2222222222222222,
              "#7201a8"
             ],
             [
              0.3333333333333333,
              "#9c179e"
             ],
             [
              0.4444444444444444,
              "#bd3786"
             ],
             [
              0.5555555555555556,
              "#d8576b"
             ],
             [
              0.6666666666666666,
              "#ed7953"
             ],
             [
              0.7777777777777778,
              "#fb9f3a"
             ],
             [
              0.8888888888888888,
              "#fdca26"
             ],
             [
              1,
              "#f0f921"
             ]
            ],
            "type": "heatmapgl"
           }
          ],
          "histogram": [
           {
            "marker": {
             "pattern": {
              "fillmode": "overlay",
              "size": 10,
              "solidity": 0.2
             }
            },
            "type": "histogram"
           }
          ],
          "histogram2d": [
           {
            "colorbar": {
             "outlinewidth": 0,
             "ticks": ""
            },
            "colorscale": [
             [
              0,
              "#0d0887"
             ],
             [
              0.1111111111111111,
              "#46039f"
             ],
             [
              0.2222222222222222,
              "#7201a8"
             ],
             [
              0.3333333333333333,
              "#9c179e"
             ],
             [
              0.4444444444444444,
              "#bd3786"
             ],
             [
              0.5555555555555556,
              "#d8576b"
             ],
             [
              0.6666666666666666,
              "#ed7953"
             ],
             [
              0.7777777777777778,
              "#fb9f3a"
             ],
             [
              0.8888888888888888,
              "#fdca26"
             ],
             [
              1,
              "#f0f921"
             ]
            ],
            "type": "histogram2d"
           }
          ],
          "histogram2dcontour": [
           {
            "colorbar": {
             "outlinewidth": 0,
             "ticks": ""
            },
            "colorscale": [
             [
              0,
              "#0d0887"
             ],
             [
              0.1111111111111111,
              "#46039f"
             ],
             [
              0.2222222222222222,
              "#7201a8"
             ],
             [
              0.3333333333333333,
              "#9c179e"
             ],
             [
              0.4444444444444444,
              "#bd3786"
             ],
             [
              0.5555555555555556,
              "#d8576b"
             ],
             [
              0.6666666666666666,
              "#ed7953"
             ],
             [
              0.7777777777777778,
              "#fb9f3a"
             ],
             [
              0.8888888888888888,
              "#fdca26"
             ],
             [
              1,
              "#f0f921"
             ]
            ],
            "type": "histogram2dcontour"
           }
          ],
          "mesh3d": [
           {
            "colorbar": {
             "outlinewidth": 0,
             "ticks": ""
            },
            "type": "mesh3d"
           }
          ],
          "parcoords": [
           {
            "line": {
             "colorbar": {
              "outlinewidth": 0,
              "ticks": ""
             }
            },
            "type": "parcoords"
           }
          ],
          "pie": [
           {
            "automargin": true,
            "type": "pie"
           }
          ],
          "scatter": [
           {
            "fillpattern": {
             "fillmode": "overlay",
             "size": 10,
             "solidity": 0.2
            },
            "type": "scatter"
           }
          ],
          "scatter3d": [
           {
            "line": {
             "colorbar": {
              "outlinewidth": 0,
              "ticks": ""
             }
            },
            "marker": {
             "colorbar": {
              "outlinewidth": 0,
              "ticks": ""
             }
            },
            "type": "scatter3d"
           }
          ],
          "scattercarpet": [
           {
            "marker": {
             "colorbar": {
              "outlinewidth": 0,
              "ticks": ""
             }
            },
            "type": "scattercarpet"
           }
          ],
          "scattergeo": [
           {
            "marker": {
             "colorbar": {
              "outlinewidth": 0,
              "ticks": ""
             }
            },
            "type": "scattergeo"
           }
          ],
          "scattergl": [
           {
            "marker": {
             "colorbar": {
              "outlinewidth": 0,
              "ticks": ""
             }
            },
            "type": "scattergl"
           }
          ],
          "scattermapbox": [
           {
            "marker": {
             "colorbar": {
              "outlinewidth": 0,
              "ticks": ""
             }
            },
            "type": "scattermapbox"
           }
          ],
          "scatterpolar": [
           {
            "marker": {
             "colorbar": {
              "outlinewidth": 0,
              "ticks": ""
             }
            },
            "type": "scatterpolar"
           }
          ],
          "scatterpolargl": [
           {
            "marker": {
             "colorbar": {
              "outlinewidth": 0,
              "ticks": ""
             }
            },
            "type": "scatterpolargl"
           }
          ],
          "scatterternary": [
           {
            "marker": {
             "colorbar": {
              "outlinewidth": 0,
              "ticks": ""
             }
            },
            "type": "scatterternary"
           }
          ],
          "surface": [
           {
            "colorbar": {
             "outlinewidth": 0,
             "ticks": ""
            },
            "colorscale": [
             [
              0,
              "#0d0887"
             ],
             [
              0.1111111111111111,
              "#46039f"
             ],
             [
              0.2222222222222222,
              "#7201a8"
             ],
             [
              0.3333333333333333,
              "#9c179e"
             ],
             [
              0.4444444444444444,
              "#bd3786"
             ],
             [
              0.5555555555555556,
              "#d8576b"
             ],
             [
              0.6666666666666666,
              "#ed7953"
             ],
             [
              0.7777777777777778,
              "#fb9f3a"
             ],
             [
              0.8888888888888888,
              "#fdca26"
             ],
             [
              1,
              "#f0f921"
             ]
            ],
            "type": "surface"
           }
          ],
          "table": [
           {
            "cells": {
             "fill": {
              "color": "#EBF0F8"
             },
             "line": {
              "color": "white"
             }
            },
            "header": {
             "fill": {
              "color": "#C8D4E3"
             },
             "line": {
              "color": "white"
             }
            },
            "type": "table"
           }
          ]
         },
         "layout": {
          "annotationdefaults": {
           "arrowcolor": "#2a3f5f",
           "arrowhead": 0,
           "arrowwidth": 1
          },
          "autotypenumbers": "strict",
          "coloraxis": {
           "colorbar": {
            "outlinewidth": 0,
            "ticks": ""
           }
          },
          "colorscale": {
           "diverging": [
            [
             0,
             "#8e0152"
            ],
            [
             0.1,
             "#c51b7d"
            ],
            [
             0.2,
             "#de77ae"
            ],
            [
             0.3,
             "#f1b6da"
            ],
            [
             0.4,
             "#fde0ef"
            ],
            [
             0.5,
             "#f7f7f7"
            ],
            [
             0.6,
             "#e6f5d0"
            ],
            [
             0.7,
             "#b8e186"
            ],
            [
             0.8,
             "#7fbc41"
            ],
            [
             0.9,
             "#4d9221"
            ],
            [
             1,
             "#276419"
            ]
           ],
           "sequential": [
            [
             0,
             "#0d0887"
            ],
            [
             0.1111111111111111,
             "#46039f"
            ],
            [
             0.2222222222222222,
             "#7201a8"
            ],
            [
             0.3333333333333333,
             "#9c179e"
            ],
            [
             0.4444444444444444,
             "#bd3786"
            ],
            [
             0.5555555555555556,
             "#d8576b"
            ],
            [
             0.6666666666666666,
             "#ed7953"
            ],
            [
             0.7777777777777778,
             "#fb9f3a"
            ],
            [
             0.8888888888888888,
             "#fdca26"
            ],
            [
             1,
             "#f0f921"
            ]
           ],
           "sequentialminus": [
            [
             0,
             "#0d0887"
            ],
            [
             0.1111111111111111,
             "#46039f"
            ],
            [
             0.2222222222222222,
             "#7201a8"
            ],
            [
             0.3333333333333333,
             "#9c179e"
            ],
            [
             0.4444444444444444,
             "#bd3786"
            ],
            [
             0.5555555555555556,
             "#d8576b"
            ],
            [
             0.6666666666666666,
             "#ed7953"
            ],
            [
             0.7777777777777778,
             "#fb9f3a"
            ],
            [
             0.8888888888888888,
             "#fdca26"
            ],
            [
             1,
             "#f0f921"
            ]
           ]
          },
          "colorway": [
           "#636efa",
           "#EF553B",
           "#00cc96",
           "#ab63fa",
           "#FFA15A",
           "#19d3f3",
           "#FF6692",
           "#B6E880",
           "#FF97FF",
           "#FECB52"
          ],
          "font": {
           "color": "#2a3f5f"
          },
          "geo": {
           "bgcolor": "white",
           "lakecolor": "white",
           "landcolor": "#E5ECF6",
           "showlakes": true,
           "showland": true,
           "subunitcolor": "white"
          },
          "hoverlabel": {
           "align": "left"
          },
          "hovermode": "closest",
          "mapbox": {
           "style": "light"
          },
          "paper_bgcolor": "white",
          "plot_bgcolor": "#E5ECF6",
          "polar": {
           "angularaxis": {
            "gridcolor": "white",
            "linecolor": "white",
            "ticks": ""
           },
           "bgcolor": "#E5ECF6",
           "radialaxis": {
            "gridcolor": "white",
            "linecolor": "white",
            "ticks": ""
           }
          },
          "scene": {
           "xaxis": {
            "backgroundcolor": "#E5ECF6",
            "gridcolor": "white",
            "gridwidth": 2,
            "linecolor": "white",
            "showbackground": true,
            "ticks": "",
            "zerolinecolor": "white"
           },
           "yaxis": {
            "backgroundcolor": "#E5ECF6",
            "gridcolor": "white",
            "gridwidth": 2,
            "linecolor": "white",
            "showbackground": true,
            "ticks": "",
            "zerolinecolor": "white"
           },
           "zaxis": {
            "backgroundcolor": "#E5ECF6",
            "gridcolor": "white",
            "gridwidth": 2,
            "linecolor": "white",
            "showbackground": true,
            "ticks": "",
            "zerolinecolor": "white"
           }
          },
          "shapedefaults": {
           "line": {
            "color": "#2a3f5f"
           }
          },
          "ternary": {
           "aaxis": {
            "gridcolor": "white",
            "linecolor": "white",
            "ticks": ""
           },
           "baxis": {
            "gridcolor": "white",
            "linecolor": "white",
            "ticks": ""
           },
           "bgcolor": "#E5ECF6",
           "caxis": {
            "gridcolor": "white",
            "linecolor": "white",
            "ticks": ""
           }
          },
          "title": {
           "x": 0.05
          },
          "xaxis": {
           "automargin": true,
           "gridcolor": "white",
           "linecolor": "white",
           "ticks": "",
           "title": {
            "standoff": 15
           },
           "zerolinecolor": "white",
           "zerolinewidth": 2
          },
          "yaxis": {
           "automargin": true,
           "gridcolor": "white",
           "linecolor": "white",
           "ticks": "",
           "title": {
            "standoff": 15
           },
           "zerolinecolor": "white",
           "zerolinewidth": 2
          }
         }
        },
        "xaxis": {
         "anchor": "y",
         "domain": [
          0,
          1
         ],
         "title": {
          "text": "month_name"
         }
        },
        "yaxis": {
         "anchor": "x",
         "domain": [
          0,
          1
         ],
         "title": {
          "text": "Amount"
         }
        }
       }
      }
     },
     "metadata": {},
     "output_type": "display_data"
    }
   ],
   "source": [
    "px.line(df4,x=\"month_name\",y=\"Amount\")"
   ]
  },
  {
   "cell_type": "code",
   "execution_count": 36,
   "metadata": {},
   "outputs": [
    {
     "data": {
      "application/vnd.plotly.v1+json": {
       "config": {
        "plotlyServerURL": "https://plot.ly"
       },
       "data": [
        {
         "alignmentgroup": "True",
         "hovertemplate": "Country=UK<br>Date=%{x}<br>Boxes Shipped=%{y}<extra></extra>",
         "legendgroup": "UK",
         "marker": {
          "color": "#636efa",
          "pattern": {
           "shape": ""
          }
         },
         "name": "UK",
         "offsetgroup": "UK",
         "orientation": "v",
         "showlegend": true,
         "textposition": "auto",
         "type": "bar",
         "x": [
          "2022-01-04T00:00:00",
          "2022-02-24T00:00:00",
          "2022-01-25T00:00:00",
          "2022-01-13T00:00:00",
          "2022-06-08T00:00:00",
          "2022-03-14T00:00:00",
          "2022-06-29T00:00:00",
          "2022-06-30T00:00:00",
          "2022-08-24T00:00:00",
          "2022-01-10T00:00:00",
          "2022-08-26T00:00:00",
          "2022-01-31T00:00:00",
          "2022-03-24T00:00:00",
          "2022-06-29T00:00:00",
          "2022-08-25T00:00:00",
          "2022-01-19T00:00:00",
          "2022-01-25T00:00:00",
          "2022-07-28T00:00:00",
          "2022-07-25T00:00:00",
          "2022-07-11T00:00:00",
          "2022-03-31T00:00:00",
          "2022-01-25T00:00:00",
          "2022-03-29T00:00:00",
          "2022-07-19T00:00:00",
          "2022-04-12T00:00:00",
          "2022-02-07T00:00:00",
          "2022-03-17T00:00:00",
          "2022-01-03T00:00:00",
          "2022-01-03T00:00:00",
          "2022-01-28T00:00:00",
          "2022-03-02T00:00:00",
          "2022-08-03T00:00:00",
          "2022-06-30T00:00:00",
          "2022-04-27T00:00:00",
          "2022-05-13T00:00:00",
          "2022-03-16T00:00:00",
          "2022-08-22T00:00:00",
          "2022-06-10T00:00:00",
          "2022-04-15T00:00:00",
          "2022-04-14T00:00:00",
          "2022-05-18T00:00:00",
          "2022-06-20T00:00:00",
          "2022-05-04T00:00:00",
          "2022-04-22T00:00:00",
          "2022-06-27T00:00:00",
          "2022-04-15T00:00:00",
          "2022-07-05T00:00:00",
          "2022-05-11T00:00:00",
          "2022-02-07T00:00:00",
          "2022-04-08T00:00:00",
          "2022-08-01T00:00:00",
          "2022-02-01T00:00:00",
          "2022-04-06T00:00:00",
          "2022-06-24T00:00:00",
          "2022-07-18T00:00:00",
          "2022-05-30T00:00:00",
          "2022-06-21T00:00:00",
          "2022-06-08T00:00:00",
          "2022-02-21T00:00:00",
          "2022-04-04T00:00:00",
          "2022-01-13T00:00:00",
          "2022-07-18T00:00:00",
          "2022-04-13T00:00:00",
          "2022-01-10T00:00:00",
          "2022-01-14T00:00:00",
          "2022-07-11T00:00:00",
          "2022-06-06T00:00:00",
          "2022-06-29T00:00:00",
          "2022-03-04T00:00:00",
          "2022-05-23T00:00:00",
          "2022-05-16T00:00:00",
          "2022-01-03T00:00:00",
          "2022-05-16T00:00:00",
          "2022-06-29T00:00:00",
          "2022-05-17T00:00:00",
          "2022-07-21T00:00:00",
          "2022-03-08T00:00:00",
          "2022-06-30T00:00:00",
          "2022-07-07T00:00:00",
          "2022-04-15T00:00:00",
          "2022-03-24T00:00:00",
          "2022-01-26T00:00:00",
          "2022-01-13T00:00:00",
          "2022-03-07T00:00:00",
          "2022-07-12T00:00:00",
          "2022-06-10T00:00:00",
          "2022-05-24T00:00:00",
          "2022-08-10T00:00:00",
          "2022-05-16T00:00:00",
          "2022-03-07T00:00:00",
          "2022-03-04T00:00:00",
          "2022-05-03T00:00:00",
          "2022-02-11T00:00:00",
          "2022-05-25T00:00:00",
          "2022-04-27T00:00:00",
          "2022-06-02T00:00:00",
          "2022-01-05T00:00:00",
          "2022-02-17T00:00:00",
          "2022-08-11T00:00:00",
          "2022-01-17T00:00:00",
          "2022-08-24T00:00:00",
          "2022-06-07T00:00:00",
          "2022-06-22T00:00:00",
          "2022-05-24T00:00:00",
          "2022-01-13T00:00:00",
          "2022-06-29T00:00:00",
          "2022-06-15T00:00:00",
          "2022-05-12T00:00:00",
          "2022-07-25T00:00:00",
          "2022-06-14T00:00:00",
          "2022-08-26T00:00:00",
          "2022-01-10T00:00:00",
          "2022-04-04T00:00:00",
          "2022-04-12T00:00:00",
          "2022-06-07T00:00:00",
          "2022-06-28T00:00:00",
          "2022-03-24T00:00:00",
          "2022-04-22T00:00:00",
          "2022-08-30T00:00:00",
          "2022-05-31T00:00:00",
          "2022-04-08T00:00:00",
          "2022-05-17T00:00:00",
          "2022-08-17T00:00:00",
          "2022-06-30T00:00:00",
          "2022-05-27T00:00:00",
          "2022-07-11T00:00:00",
          "2022-06-23T00:00:00",
          "2022-06-29T00:00:00",
          "2022-06-27T00:00:00",
          "2022-04-06T00:00:00",
          "2022-05-26T00:00:00",
          "2022-08-02T00:00:00",
          "2022-01-12T00:00:00",
          "2022-04-29T00:00:00",
          "2022-02-16T00:00:00",
          "2022-06-23T00:00:00",
          "2022-01-28T00:00:00",
          "2022-07-14T00:00:00",
          "2022-04-15T00:00:00",
          "2022-08-03T00:00:00",
          "2022-05-20T00:00:00",
          "2022-02-03T00:00:00",
          "2022-06-30T00:00:00",
          "2022-03-22T00:00:00",
          "2022-07-07T00:00:00",
          "2022-03-16T00:00:00",
          "2022-08-12T00:00:00",
          "2022-06-28T00:00:00",
          "2022-06-15T00:00:00",
          "2022-07-12T00:00:00",
          "2022-02-21T00:00:00",
          "2022-06-27T00:00:00",
          "2022-08-18T00:00:00",
          "2022-08-26T00:00:00",
          "2022-08-03T00:00:00",
          "2022-03-01T00:00:00",
          "2022-01-27T00:00:00",
          "2022-05-25T00:00:00",
          "2022-04-20T00:00:00",
          "2022-05-30T00:00:00",
          "2022-03-04T00:00:00",
          "2022-02-16T00:00:00",
          "2022-01-21T00:00:00",
          "2022-01-27T00:00:00",
          "2022-02-16T00:00:00",
          "2022-04-26T00:00:00",
          "2022-02-09T00:00:00",
          "2022-06-06T00:00:00",
          "2022-08-10T00:00:00",
          "2022-03-02T00:00:00",
          "2022-07-05T00:00:00",
          "2022-02-07T00:00:00",
          "2022-07-06T00:00:00",
          "2022-03-29T00:00:00",
          "2022-07-19T00:00:00",
          "2022-08-12T00:00:00",
          "2022-03-11T00:00:00",
          "2022-05-13T00:00:00"
         ],
         "xaxis": "x",
         "y": [
          180,
          184,
          176,
          62,
          172,
          113,
          150,
          133,
          314,
          9,
          214,
          137,
          270,
          482,
          42,
          175,
          57,
          96,
          90,
          110,
          178,
          196,
          175,
          112,
          167,
          389,
          41,
          187,
          282,
          65,
          43,
          265,
          76,
          54,
          88,
          79,
          69,
          154,
          433,
          258,
          55,
          216,
          76,
          185,
          46,
          145,
          72,
          86,
          158,
          209,
          3,
          73,
          86,
          136,
          69,
          395,
          81,
          554,
          99,
          136,
          145,
          104,
          164,
          284,
          118,
          134,
          12,
          2,
          84,
          65,
          100,
          226,
          409,
          191,
          232,
          163,
          142,
          42,
          316,
          260,
          284,
          45,
          194,
          407,
          52,
          179,
          134,
          121,
          97,
          84,
          69,
          227,
          293,
          125,
          70,
          300,
          189,
          252,
          344,
          275,
          113,
          275,
          47,
          212,
          121,
          284,
          201,
          101,
          66,
          124,
          341,
          30,
          351,
          356,
          236,
          103,
          20,
          155,
          252,
          313,
          323,
          166,
          171,
          157,
          100,
          223,
          228,
          109,
          164,
          310,
          317,
          468,
          293,
          135,
          239,
          94,
          194,
          216,
          237,
          123,
          67,
          438,
          135,
          148,
          64,
          181,
          114,
          12,
          43,
          174,
          67,
          286,
          212,
          65,
          133,
          165,
          133,
          58,
          23,
          27,
          149,
          200,
          176,
          224,
          68,
          142,
          271,
          204,
          235,
          430,
          380,
          106,
          157,
          28,
          126,
          85,
          251,
          229
         ],
         "yaxis": "y"
        },
        {
         "alignmentgroup": "True",
         "hovertemplate": "Country=India<br>Date=%{x}<br>Boxes Shipped=%{y}<extra></extra>",
         "legendgroup": "India",
         "marker": {
          "color": "#EF553B",
          "pattern": {
           "shape": ""
          }
         },
         "name": "India",
         "offsetgroup": "India",
         "orientation": "v",
         "showlegend": true,
         "textposition": "auto",
         "type": "bar",
         "x": [
          "2022-08-01T00:00:00",
          "2022-07-07T00:00:00",
          "2022-06-06T00:00:00",
          "2022-01-26T00:00:00",
          "2022-07-04T00:00:00",
          "2022-02-23T00:00:00",
          "2022-06-10T00:00:00",
          "2022-07-07T00:00:00",
          "2022-07-19T00:00:00",
          "2022-07-06T00:00:00",
          "2022-05-27T00:00:00",
          "2022-07-04T00:00:00",
          "2022-07-08T00:00:00",
          "2022-07-07T00:00:00",
          "2022-04-19T00:00:00",
          "2022-06-07T00:00:00",
          "2022-04-12T00:00:00",
          "2022-07-06T00:00:00",
          "2022-03-16T00:00:00",
          "2022-04-14T00:00:00",
          "2022-03-11T00:00:00",
          "2022-05-16T00:00:00",
          "2022-08-10T00:00:00",
          "2022-01-05T00:00:00",
          "2022-03-14T00:00:00",
          "2022-02-07T00:00:00",
          "2022-03-16T00:00:00",
          "2022-06-20T00:00:00",
          "2022-02-11T00:00:00",
          "2022-01-07T00:00:00",
          "2022-01-10T00:00:00",
          "2022-02-22T00:00:00",
          "2022-05-31T00:00:00",
          "2022-08-18T00:00:00",
          "2022-01-04T00:00:00",
          "2022-07-15T00:00:00",
          "2022-07-05T00:00:00",
          "2022-07-27T00:00:00",
          "2022-06-27T00:00:00",
          "2022-04-29T00:00:00",
          "2022-07-15T00:00:00",
          "2022-07-05T00:00:00",
          "2022-06-01T00:00:00",
          "2022-07-11T00:00:00",
          "2022-03-08T00:00:00",
          "2022-05-09T00:00:00",
          "2022-01-26T00:00:00",
          "2022-06-27T00:00:00",
          "2022-08-03T00:00:00",
          "2022-04-21T00:00:00",
          "2022-05-04T00:00:00",
          "2022-07-15T00:00:00",
          "2022-06-23T00:00:00",
          "2022-01-13T00:00:00",
          "2022-05-25T00:00:00",
          "2022-04-13T00:00:00",
          "2022-01-13T00:00:00",
          "2022-06-20T00:00:00",
          "2022-06-22T00:00:00",
          "2022-02-25T00:00:00",
          "2022-05-06T00:00:00",
          "2022-05-02T00:00:00",
          "2022-01-04T00:00:00",
          "2022-02-25T00:00:00",
          "2022-08-09T00:00:00",
          "2022-01-28T00:00:00",
          "2022-08-31T00:00:00",
          "2022-02-24T00:00:00",
          "2022-06-21T00:00:00",
          "2022-04-15T00:00:00",
          "2022-03-07T00:00:00",
          "2022-08-15T00:00:00",
          "2022-05-12T00:00:00",
          "2022-04-11T00:00:00",
          "2022-06-16T00:00:00",
          "2022-08-25T00:00:00",
          "2022-05-30T00:00:00",
          "2022-05-31T00:00:00",
          "2022-05-13T00:00:00",
          "2022-06-30T00:00:00",
          "2022-07-28T00:00:00",
          "2022-08-24T00:00:00",
          "2022-02-24T00:00:00",
          "2022-03-02T00:00:00",
          "2022-04-13T00:00:00",
          "2022-05-13T00:00:00",
          "2022-01-27T00:00:00",
          "2022-08-12T00:00:00",
          "2022-03-02T00:00:00",
          "2022-07-07T00:00:00",
          "2022-01-18T00:00:00",
          "2022-08-03T00:00:00",
          "2022-06-14T00:00:00",
          "2022-04-19T00:00:00",
          "2022-05-30T00:00:00",
          "2022-08-12T00:00:00",
          "2022-06-06T00:00:00",
          "2022-01-31T00:00:00",
          "2022-02-01T00:00:00",
          "2022-03-30T00:00:00",
          "2022-04-04T00:00:00",
          "2022-02-11T00:00:00",
          "2022-01-18T00:00:00",
          "2022-08-08T00:00:00",
          "2022-03-23T00:00:00",
          "2022-01-04T00:00:00",
          "2022-02-22T00:00:00",
          "2022-03-15T00:00:00",
          "2022-01-24T00:00:00",
          "2022-08-22T00:00:00",
          "2022-04-05T00:00:00",
          "2022-04-15T00:00:00",
          "2022-05-23T00:00:00",
          "2022-05-04T00:00:00",
          "2022-05-23T00:00:00",
          "2022-07-04T00:00:00",
          "2022-01-17T00:00:00",
          "2022-08-22T00:00:00",
          "2022-04-05T00:00:00",
          "2022-06-15T00:00:00",
          "2022-04-21T00:00:00",
          "2022-08-01T00:00:00",
          "2022-03-18T00:00:00",
          "2022-08-02T00:00:00",
          "2022-03-18T00:00:00",
          "2022-07-04T00:00:00",
          "2022-06-06T00:00:00",
          "2022-07-04T00:00:00",
          "2022-03-02T00:00:00",
          "2022-08-09T00:00:00",
          "2022-07-29T00:00:00",
          "2022-05-27T00:00:00",
          "2022-01-28T00:00:00",
          "2022-01-13T00:00:00",
          "2022-06-03T00:00:00",
          "2022-04-12T00:00:00",
          "2022-07-21T00:00:00",
          "2022-05-09T00:00:00",
          "2022-04-14T00:00:00",
          "2022-01-27T00:00:00",
          "2022-07-22T00:00:00",
          "2022-07-05T00:00:00",
          "2022-06-09T00:00:00",
          "2022-05-16T00:00:00",
          "2022-04-13T00:00:00",
          "2022-08-22T00:00:00",
          "2022-05-06T00:00:00",
          "2022-03-14T00:00:00",
          "2022-02-16T00:00:00",
          "2022-02-25T00:00:00",
          "2022-08-04T00:00:00",
          "2022-06-28T00:00:00",
          "2022-06-16T00:00:00",
          "2022-04-15T00:00:00",
          "2022-07-29T00:00:00",
          "2022-01-26T00:00:00",
          "2022-06-08T00:00:00",
          "2022-07-26T00:00:00",
          "2022-04-14T00:00:00",
          "2022-02-09T00:00:00",
          "2022-07-04T00:00:00",
          "2022-04-13T00:00:00",
          "2022-06-27T00:00:00",
          "2022-06-30T00:00:00",
          "2022-08-30T00:00:00",
          "2022-02-16T00:00:00",
          "2022-02-14T00:00:00",
          "2022-06-23T00:00:00",
          "2022-01-12T00:00:00",
          "2022-03-03T00:00:00",
          "2022-07-28T00:00:00",
          "2022-05-30T00:00:00",
          "2022-06-15T00:00:00",
          "2022-04-14T00:00:00",
          "2022-08-08T00:00:00",
          "2022-02-16T00:00:00",
          "2022-07-21T00:00:00",
          "2022-05-31T00:00:00",
          "2022-01-17T00:00:00",
          "2022-03-22T00:00:00",
          "2022-03-14T00:00:00",
          "2022-05-24T00:00:00",
          "2022-07-28T00:00:00",
          "2022-05-23T00:00:00"
         ],
         "xaxis": "x",
         "y": [
          94,
          91,
          38,
          321,
          581,
          142,
          303,
          176,
          179,
          149,
          11,
          411,
          56,
          9,
          80,
          138,
          520,
          94,
          125,
          46,
          22,
          174,
          140,
          27,
          149,
          108,
          81,
          447,
          21,
          520,
          146,
          159,
          233,
          141,
          134,
          46,
          135,
          99,
          19,
          61,
          277,
          44,
          146,
          179,
          99,
          157,
          38,
          149,
          18,
          96,
          55,
          184,
          311,
          218,
          418,
          151,
          96,
          134,
          112,
          242,
          81,
          91,
          178,
          100,
          83,
          142,
          137,
          261,
          68,
          107,
          142,
          330,
          73,
          4,
          45,
          322,
          543,
          139,
          129,
          22,
          120,
          71,
          127,
          70,
          114,
          170,
          208,
          134,
          204,
          9,
          402,
          89,
          390,
          135,
          164,
          204,
          74,
          15,
          8,
          83,
          226,
          145,
          134,
          67,
          138,
          99,
          251,
          44,
          301,
          33,
          201,
          323,
          170,
          51,
          187,
          153,
          232,
          51,
          78,
          56,
          171,
          79,
          524,
          207,
          129,
          342,
          106,
          234,
          2,
          205,
          24,
          26,
          33,
          276,
          160,
          46,
          130,
          5,
          413,
          216,
          157,
          130,
          147,
          84,
          172,
          233,
          167,
          168,
          256,
          76,
          262,
          244,
          254,
          313,
          109,
          85,
          88,
          213,
          446,
          58,
          296,
          73,
          207,
          40,
          100,
          73,
          363,
          20,
          465,
          96,
          202,
          421,
          154,
          239,
          163,
          96,
          106,
          11,
          68,
          173,
          12,
          96,
          384,
          344
         ],
         "yaxis": "y"
        },
        {
         "alignmentgroup": "True",
         "hovertemplate": "Country=Australia<br>Date=%{x}<br>Boxes Shipped=%{y}<extra></extra>",
         "legendgroup": "Australia",
         "marker": {
          "color": "#00cc96",
          "pattern": {
           "shape": ""
          }
         },
         "name": "Australia",
         "offsetgroup": "Australia",
         "orientation": "v",
         "showlegend": true,
         "textposition": "auto",
         "type": "bar",
         "x": [
          "2022-04-27T00:00:00",
          "2022-03-24T00:00:00",
          "2022-07-04T00:00:00",
          "2022-01-26T00:00:00",
          "2022-06-27T00:00:00",
          "2022-02-28T00:00:00",
          "2022-05-11T00:00:00",
          "2022-05-19T00:00:00",
          "2022-02-14T00:00:00",
          "2022-06-06T00:00:00",
          "2022-07-19T00:00:00",
          "2022-06-30T00:00:00",
          "2022-06-02T00:00:00",
          "2022-06-28T00:00:00",
          "2022-05-16T00:00:00",
          "2022-04-14T00:00:00",
          "2022-08-10T00:00:00",
          "2022-08-23T00:00:00",
          "2022-02-07T00:00:00",
          "2022-03-07T00:00:00",
          "2022-04-05T00:00:00",
          "2022-07-07T00:00:00",
          "2022-06-20T00:00:00",
          "2022-03-14T00:00:00",
          "2022-01-05T00:00:00",
          "2022-04-06T00:00:00",
          "2022-06-15T00:00:00",
          "2022-02-21T00:00:00",
          "2022-03-23T00:00:00",
          "2022-06-28T00:00:00",
          "2022-07-28T00:00:00",
          "2022-01-12T00:00:00",
          "2022-07-05T00:00:00",
          "2022-01-04T00:00:00",
          "2022-01-31T00:00:00",
          "2022-04-29T00:00:00",
          "2022-07-12T00:00:00",
          "2022-07-29T00:00:00",
          "2022-03-02T00:00:00",
          "2022-01-14T00:00:00",
          "2022-03-23T00:00:00",
          "2022-07-04T00:00:00",
          "2022-04-01T00:00:00",
          "2022-06-28T00:00:00",
          "2022-05-27T00:00:00",
          "2022-07-27T00:00:00",
          "2022-02-21T00:00:00",
          "2022-01-05T00:00:00",
          "2022-05-25T00:00:00",
          "2022-05-25T00:00:00",
          "2022-07-04T00:00:00",
          "2022-01-12T00:00:00",
          "2022-03-25T00:00:00",
          "2022-03-15T00:00:00",
          "2022-06-20T00:00:00",
          "2022-05-12T00:00:00",
          "2022-07-25T00:00:00",
          "2022-01-25T00:00:00",
          "2022-08-04T00:00:00",
          "2022-01-03T00:00:00",
          "2022-03-07T00:00:00",
          "2022-07-27T00:00:00",
          "2022-06-27T00:00:00",
          "2022-01-26T00:00:00",
          "2022-06-15T00:00:00",
          "2022-07-08T00:00:00",
          "2022-08-19T00:00:00",
          "2022-04-08T00:00:00",
          "2022-08-26T00:00:00",
          "2022-05-11T00:00:00",
          "2022-08-01T00:00:00",
          "2022-07-27T00:00:00",
          "2022-03-22T00:00:00",
          "2022-03-02T00:00:00",
          "2022-03-17T00:00:00",
          "2022-05-17T00:00:00",
          "2022-07-13T00:00:00",
          "2022-06-16T00:00:00",
          "2022-06-24T00:00:00",
          "2022-05-02T00:00:00",
          "2022-01-07T00:00:00",
          "2022-01-14T00:00:00",
          "2022-08-01T00:00:00",
          "2022-05-05T00:00:00",
          "2022-06-24T00:00:00",
          "2022-01-18T00:00:00",
          "2022-05-16T00:00:00",
          "2022-07-04T00:00:00",
          "2022-03-17T00:00:00",
          "2022-02-15T00:00:00",
          "2022-05-10T00:00:00",
          "2022-06-23T00:00:00",
          "2022-01-26T00:00:00",
          "2022-02-17T00:00:00",
          "2022-06-14T00:00:00",
          "2022-01-25T00:00:00",
          "2022-06-24T00:00:00",
          "2022-06-21T00:00:00",
          "2022-08-23T00:00:00",
          "2022-03-03T00:00:00",
          "2022-01-14T00:00:00",
          "2022-07-08T00:00:00",
          "2022-04-20T00:00:00",
          "2022-03-04T00:00:00",
          "2022-02-08T00:00:00",
          "2022-06-20T00:00:00",
          "2022-05-02T00:00:00",
          "2022-08-22T00:00:00",
          "2022-08-11T00:00:00",
          "2022-03-02T00:00:00",
          "2022-07-27T00:00:00",
          "2022-08-23T00:00:00",
          "2022-06-30T00:00:00",
          "2022-01-17T00:00:00",
          "2022-02-22T00:00:00",
          "2022-04-29T00:00:00",
          "2022-04-05T00:00:00",
          "2022-08-24T00:00:00",
          "2022-06-09T00:00:00",
          "2022-08-03T00:00:00",
          "2022-06-29T00:00:00",
          "2022-04-22T00:00:00",
          "2022-06-07T00:00:00",
          "2022-02-25T00:00:00",
          "2022-02-22T00:00:00",
          "2022-01-17T00:00:00",
          "2022-06-09T00:00:00",
          "2022-05-12T00:00:00",
          "2022-06-29T00:00:00",
          "2022-01-25T00:00:00",
          "2022-07-27T00:00:00",
          "2022-01-28T00:00:00",
          "2022-07-05T00:00:00",
          "2022-06-30T00:00:00",
          "2022-05-11T00:00:00",
          "2022-01-17T00:00:00",
          "2022-05-09T00:00:00",
          "2022-05-30T00:00:00",
          "2022-01-13T00:00:00",
          "2022-05-17T00:00:00",
          "2022-03-25T00:00:00",
          "2022-04-15T00:00:00",
          "2022-08-03T00:00:00",
          "2022-01-17T00:00:00",
          "2022-07-29T00:00:00",
          "2022-03-30T00:00:00",
          "2022-03-18T00:00:00",
          "2022-08-17T00:00:00",
          "2022-03-18T00:00:00",
          "2022-08-26T00:00:00",
          "2022-06-07T00:00:00",
          "2022-02-10T00:00:00",
          "2022-05-16T00:00:00",
          "2022-07-13T00:00:00",
          "2022-02-24T00:00:00",
          "2022-05-13T00:00:00",
          "2022-03-30T00:00:00",
          "2022-08-11T00:00:00",
          "2022-02-18T00:00:00",
          "2022-01-19T00:00:00",
          "2022-08-02T00:00:00",
          "2022-04-12T00:00:00",
          "2022-08-09T00:00:00",
          "2022-04-25T00:00:00",
          "2022-08-01T00:00:00",
          "2022-08-22T00:00:00",
          "2022-05-30T00:00:00",
          "2022-08-18T00:00:00",
          "2022-01-13T00:00:00",
          "2022-01-07T00:00:00",
          "2022-05-11T00:00:00",
          "2022-05-06T00:00:00",
          "2022-02-14T00:00:00",
          "2022-07-13T00:00:00",
          "2022-05-27T00:00:00",
          "2022-04-13T00:00:00",
          "2022-01-10T00:00:00",
          "2022-07-08T00:00:00",
          "2022-04-08T00:00:00",
          "2022-07-13T00:00:00",
          "2022-01-26T00:00:00",
          "2022-01-25T00:00:00",
          "2022-08-23T00:00:00",
          "2022-03-09T00:00:00",
          "2022-02-08T00:00:00",
          "2022-08-25T00:00:00",
          "2022-03-14T00:00:00",
          "2022-04-26T00:00:00",
          "2022-01-26T00:00:00",
          "2022-02-11T00:00:00",
          "2022-07-15T00:00:00",
          "2022-01-11T00:00:00",
          "2022-01-04T00:00:00",
          "2022-02-14T00:00:00",
          "2022-04-25T00:00:00",
          "2022-05-04T00:00:00",
          "2022-07-04T00:00:00",
          "2022-08-18T00:00:00",
          "2022-04-08T00:00:00",
          "2022-01-13T00:00:00",
          "2022-03-21T00:00:00",
          "2022-04-15T00:00:00",
          "2022-07-05T00:00:00",
          "2022-08-19T00:00:00",
          "2022-05-17T00:00:00"
         ],
         "xaxis": "x",
         "y": [
          342,
          73,
          102,
          356,
          88,
          115,
          94,
          14,
          18,
          23,
          135,
          55,
          227,
          48,
          174,
          11,
          14,
          311,
          108,
          408,
          420,
          111,
          6,
          31,
          92,
          283,
          21,
          396,
          547,
          188,
          387,
          264,
          128,
          212,
          18,
          477,
          136,
          104,
          202,
          418,
          26,
          370,
          12,
          311,
          26,
          32,
          92,
          48,
          62,
          390,
          122,
          125,
          286,
          92,
          87,
          252,
          6,
          424,
          109,
          170,
          275,
          139,
          166,
          3,
          102,
          128,
          52,
          72,
          53,
          87,
          125,
          156,
          40,
          288,
          72,
          59,
          75,
          329,
          38,
          16,
          84,
          195,
          25,
          252,
          74,
          101,
          54,
          31,
          169,
          223,
          41,
          275,
          105,
          120,
          182,
          467,
          317,
          254,
          233,
          118,
          65,
          151,
          148,
          384,
          223,
          85,
          153,
          51,
          67,
          116,
          41,
          178,
          34,
          91,
          392,
          432,
          236,
          168,
          89,
          131,
          287,
          258,
          56,
          198,
          103,
          162,
          286,
          102,
          232,
          154,
          52,
          53,
          50,
          27,
          220,
          128,
          256,
          243,
          101,
          159,
          55,
          398,
          114,
          708,
          55,
          303,
          92,
          117,
          29,
          128,
          68,
          44,
          457,
          137,
          125,
          91,
          377,
          105,
          24,
          259,
          78,
          136,
          109,
          175,
          154,
          222,
          350,
          105,
          384,
          33,
          32,
          151,
          140,
          194,
          100,
          284,
          104,
          80,
          306,
          88,
          76,
          119,
          57,
          156,
          158,
          22,
          68,
          26,
          168,
          109,
          264,
          421,
          46,
          47,
          27,
          60,
          76,
          235,
          167,
          295,
          102,
          260,
          93,
          205,
          323
         ],
         "yaxis": "y"
        },
        {
         "alignmentgroup": "True",
         "hovertemplate": "Country=New Zealand<br>Date=%{x}<br>Boxes Shipped=%{y}<extra></extra>",
         "legendgroup": "New Zealand",
         "marker": {
          "color": "#ab63fa",
          "pattern": {
           "shape": ""
          }
         },
         "name": "New Zealand",
         "offsetgroup": "New Zealand",
         "orientation": "v",
         "showlegend": true,
         "textposition": "auto",
         "type": "bar",
         "x": [
          "2022-04-20T00:00:00",
          "2022-07-28T00:00:00",
          "2022-08-03T00:00:00",
          "2022-07-05T00:00:00",
          "2022-06-15T00:00:00",
          "2022-05-24T00:00:00",
          "2022-07-07T00:00:00",
          "2022-02-14T00:00:00",
          "2022-03-11T00:00:00",
          "2022-06-20T00:00:00",
          "2022-08-01T00:00:00",
          "2022-05-25T00:00:00",
          "2022-04-01T00:00:00",
          "2022-08-02T00:00:00",
          "2022-03-09T00:00:00",
          "2022-03-24T00:00:00",
          "2022-04-04T00:00:00",
          "2022-08-02T00:00:00",
          "2022-06-28T00:00:00",
          "2022-06-07T00:00:00",
          "2022-01-18T00:00:00",
          "2022-05-20T00:00:00",
          "2022-04-13T00:00:00",
          "2022-03-02T00:00:00",
          "2022-01-27T00:00:00",
          "2022-07-29T00:00:00",
          "2022-06-14T00:00:00",
          "2022-06-13T00:00:00",
          "2022-08-03T00:00:00",
          "2022-02-25T00:00:00",
          "2022-07-01T00:00:00",
          "2022-07-01T00:00:00",
          "2022-08-17T00:00:00",
          "2022-05-23T00:00:00",
          "2022-04-05T00:00:00",
          "2022-06-14T00:00:00",
          "2022-08-19T00:00:00",
          "2022-01-14T00:00:00",
          "2022-01-13T00:00:00",
          "2022-08-30T00:00:00",
          "2022-07-07T00:00:00",
          "2022-03-02T00:00:00",
          "2022-03-04T00:00:00",
          "2022-06-28T00:00:00",
          "2022-02-07T00:00:00",
          "2022-01-11T00:00:00",
          "2022-05-18T00:00:00",
          "2022-01-04T00:00:00",
          "2022-05-09T00:00:00",
          "2022-07-11T00:00:00",
          "2022-03-15T00:00:00",
          "2022-04-25T00:00:00",
          "2022-02-22T00:00:00",
          "2022-08-24T00:00:00",
          "2022-05-06T00:00:00",
          "2022-07-12T00:00:00",
          "2022-06-10T00:00:00",
          "2022-01-31T00:00:00",
          "2022-03-04T00:00:00",
          "2022-04-19T00:00:00",
          "2022-02-01T00:00:00",
          "2022-03-16T00:00:00",
          "2022-06-30T00:00:00",
          "2022-06-15T00:00:00",
          "2022-05-13T00:00:00",
          "2022-07-15T00:00:00",
          "2022-01-25T00:00:00",
          "2022-01-10T00:00:00",
          "2022-04-26T00:00:00",
          "2022-06-27T00:00:00",
          "2022-03-28T00:00:00",
          "2022-02-21T00:00:00",
          "2022-05-19T00:00:00",
          "2022-08-25T00:00:00",
          "2022-06-14T00:00:00",
          "2022-04-14T00:00:00",
          "2022-02-17T00:00:00",
          "2022-03-10T00:00:00",
          "2022-05-30T00:00:00",
          "2022-06-09T00:00:00",
          "2022-01-31T00:00:00",
          "2022-06-15T00:00:00",
          "2022-06-17T00:00:00",
          "2022-01-28T00:00:00",
          "2022-03-28T00:00:00",
          "2022-01-18T00:00:00",
          "2022-01-17T00:00:00",
          "2022-02-15T00:00:00",
          "2022-01-05T00:00:00",
          "2022-04-05T00:00:00",
          "2022-01-12T00:00:00",
          "2022-01-26T00:00:00",
          "2022-01-18T00:00:00",
          "2022-03-02T00:00:00",
          "2022-08-09T00:00:00",
          "2022-08-11T00:00:00",
          "2022-02-24T00:00:00",
          "2022-06-28T00:00:00",
          "2022-06-23T00:00:00",
          "2022-02-11T00:00:00",
          "2022-08-04T00:00:00",
          "2022-06-14T00:00:00",
          "2022-08-09T00:00:00",
          "2022-07-28T00:00:00",
          "2022-08-24T00:00:00",
          "2022-06-06T00:00:00",
          "2022-05-24T00:00:00",
          "2022-03-11T00:00:00",
          "2022-03-11T00:00:00",
          "2022-04-05T00:00:00",
          "2022-07-11T00:00:00",
          "2022-07-21T00:00:00",
          "2022-06-23T00:00:00",
          "2022-04-04T00:00:00",
          "2022-03-11T00:00:00",
          "2022-07-08T00:00:00",
          "2022-06-23T00:00:00",
          "2022-02-07T00:00:00",
          "2022-01-18T00:00:00",
          "2022-06-10T00:00:00",
          "2022-04-08T00:00:00",
          "2022-02-22T00:00:00",
          "2022-02-01T00:00:00",
          "2022-06-03T00:00:00",
          "2022-02-23T00:00:00",
          "2022-05-09T00:00:00",
          "2022-06-06T00:00:00",
          "2022-01-31T00:00:00",
          "2022-06-30T00:00:00",
          "2022-01-10T00:00:00",
          "2022-04-14T00:00:00",
          "2022-03-24T00:00:00",
          "2022-04-04T00:00:00",
          "2022-01-17T00:00:00",
          "2022-05-16T00:00:00",
          "2022-03-01T00:00:00",
          "2022-03-02T00:00:00",
          "2022-03-22T00:00:00",
          "2022-02-10T00:00:00",
          "2022-06-15T00:00:00",
          "2022-04-12T00:00:00",
          "2022-07-07T00:00:00",
          "2022-03-11T00:00:00",
          "2022-01-12T00:00:00",
          "2022-04-22T00:00:00",
          "2022-01-04T00:00:00",
          "2022-02-16T00:00:00",
          "2022-01-21T00:00:00",
          "2022-03-25T00:00:00",
          "2022-05-12T00:00:00",
          "2022-01-25T00:00:00",
          "2022-01-20T00:00:00",
          "2022-02-16T00:00:00",
          "2022-07-11T00:00:00",
          "2022-04-13T00:00:00",
          "2022-08-22T00:00:00",
          "2022-08-26T00:00:00",
          "2022-06-29T00:00:00",
          "2022-03-15T00:00:00",
          "2022-01-27T00:00:00",
          "2022-07-11T00:00:00",
          "2022-08-01T00:00:00",
          "2022-02-14T00:00:00",
          "2022-04-18T00:00:00",
          "2022-02-01T00:00:00",
          "2022-08-04T00:00:00",
          "2022-04-05T00:00:00",
          "2022-05-18T00:00:00",
          "2022-06-07T00:00:00",
          "2022-08-08T00:00:00",
          "2022-05-04T00:00:00",
          "2022-03-29T00:00:00",
          "2022-05-24T00:00:00"
         ],
         "xaxis": "x",
         "y": [
          59,
          156,
          173,
          151,
          301,
          121,
          72,
          18,
          241,
          265,
          181,
          10,
          97,
          40,
          44,
          7,
          121,
          117,
          272,
          45,
          27,
          14,
          11,
          116,
          475,
          66,
          42,
          190,
          144,
          246,
          256,
          37,
          126,
          157,
          417,
          57,
          242,
          315,
          127,
          22,
          60,
          202,
          273,
          183,
          135,
          197,
          415,
          348,
          211,
          234,
          144,
          47,
          215,
          280,
          177,
          24,
          40,
          227,
          39,
          84,
          151,
          140,
          285,
          60,
          281,
          85,
          24,
          469,
          147,
          103,
          31,
          145,
          59,
          4,
          42,
          73,
          270,
          111,
          149,
          97,
          107,
          321,
          347,
          333,
          67,
          229,
          88,
          211,
          129,
          189,
          187,
          265,
          21,
          207,
          176,
          65,
          239,
          55,
          350,
          84,
          7,
          88,
          145,
          271,
          52,
          106,
          226,
          89,
          277,
          30,
          98,
          62,
          308,
          137,
          22,
          50,
          110,
          51,
          31,
          419,
          106,
          93,
          23,
          13,
          30,
          203,
          100,
          277,
          42,
          97,
          275,
          38,
          49,
          313,
          307,
          182,
          61,
          24,
          91,
          130,
          518,
          92,
          4,
          518,
          59,
          229,
          236,
          181,
          84,
          187,
          169,
          48,
          131,
          10,
          150,
          51,
          42,
          64,
          434,
          85,
          299,
          62,
          352,
          183,
          417,
          146,
          158,
          188,
          60,
          55,
          228,
          403,
          195
         ],
         "yaxis": "y"
        },
        {
         "alignmentgroup": "True",
         "hovertemplate": "Country=USA<br>Date=%{x}<br>Boxes Shipped=%{y}<extra></extra>",
         "legendgroup": "USA",
         "marker": {
          "color": "#FFA15A",
          "pattern": {
           "shape": ""
          }
         },
         "name": "USA",
         "offsetgroup": "USA",
         "orientation": "v",
         "showlegend": true,
         "textposition": "auto",
         "type": "bar",
         "x": [
          "2022-03-10T00:00:00",
          "2022-04-05T00:00:00",
          "2022-02-17T00:00:00",
          "2022-05-30T00:00:00",
          "2022-07-07T00:00:00",
          "2022-07-22T00:00:00",
          "2022-06-02T00:00:00",
          "2022-04-15T00:00:00",
          "2022-02-16T00:00:00",
          "2022-01-13T00:00:00",
          "2022-04-19T00:00:00",
          "2022-07-22T00:00:00",
          "2022-03-02T00:00:00",
          "2022-02-11T00:00:00",
          "2022-01-27T00:00:00",
          "2022-08-18T00:00:00",
          "2022-06-30T00:00:00",
          "2022-05-12T00:00:00",
          "2022-07-26T00:00:00",
          "2022-06-15T00:00:00",
          "2022-04-08T00:00:00",
          "2022-07-15T00:00:00",
          "2022-03-28T00:00:00",
          "2022-02-25T00:00:00",
          "2022-02-16T00:00:00",
          "2022-04-25T00:00:00",
          "2022-04-12T00:00:00",
          "2022-04-05T00:00:00",
          "2022-01-28T00:00:00",
          "2022-07-28T00:00:00",
          "2022-01-21T00:00:00",
          "2022-08-10T00:00:00",
          "2022-06-30T00:00:00",
          "2022-05-12T00:00:00",
          "2022-06-02T00:00:00",
          "2022-03-15T00:00:00",
          "2022-03-18T00:00:00",
          "2022-03-02T00:00:00",
          "2022-08-08T00:00:00",
          "2022-07-04T00:00:00",
          "2022-04-13T00:00:00",
          "2022-08-03T00:00:00",
          "2022-06-10T00:00:00",
          "2022-01-18T00:00:00",
          "2022-05-11T00:00:00",
          "2022-04-14T00:00:00",
          "2022-03-07T00:00:00",
          "2022-01-27T00:00:00",
          "2022-05-11T00:00:00",
          "2022-03-22T00:00:00",
          "2022-05-04T00:00:00",
          "2022-08-18T00:00:00",
          "2022-07-21T00:00:00",
          "2022-02-23T00:00:00",
          "2022-07-11T00:00:00",
          "2022-07-26T00:00:00",
          "2022-06-09T00:00:00",
          "2022-07-21T00:00:00",
          "2022-02-14T00:00:00",
          "2022-01-28T00:00:00",
          "2022-04-15T00:00:00",
          "2022-03-24T00:00:00",
          "2022-06-29T00:00:00",
          "2022-05-24T00:00:00",
          "2022-03-15T00:00:00",
          "2022-05-03T00:00:00",
          "2022-06-14T00:00:00",
          "2022-05-25T00:00:00",
          "2022-07-28T00:00:00",
          "2022-05-25T00:00:00",
          "2022-01-28T00:00:00",
          "2022-04-19T00:00:00",
          "2022-01-18T00:00:00",
          "2022-02-11T00:00:00",
          "2022-06-15T00:00:00",
          "2022-05-10T00:00:00",
          "2022-07-28T00:00:00",
          "2022-02-25T00:00:00",
          "2022-06-29T00:00:00",
          "2022-02-15T00:00:00",
          "2022-05-04T00:00:00",
          "2022-05-23T00:00:00",
          "2022-02-21T00:00:00",
          "2022-02-03T00:00:00",
          "2022-05-31T00:00:00",
          "2022-02-28T00:00:00",
          "2022-01-14T00:00:00",
          "2022-07-13T00:00:00",
          "2022-03-09T00:00:00",
          "2022-08-25T00:00:00",
          "2022-03-11T00:00:00",
          "2022-05-20T00:00:00",
          "2022-07-07T00:00:00",
          "2022-06-20T00:00:00",
          "2022-08-23T00:00:00",
          "2022-04-25T00:00:00",
          "2022-05-16T00:00:00",
          "2022-07-25T00:00:00",
          "2022-05-12T00:00:00",
          "2022-05-09T00:00:00",
          "2022-05-02T00:00:00",
          "2022-08-09T00:00:00",
          "2022-02-01T00:00:00",
          "2022-06-23T00:00:00",
          "2022-07-07T00:00:00",
          "2022-08-18T00:00:00",
          "2022-01-26T00:00:00",
          "2022-04-29T00:00:00",
          "2022-03-04T00:00:00",
          "2022-08-12T00:00:00",
          "2022-08-22T00:00:00",
          "2022-02-11T00:00:00",
          "2022-03-23T00:00:00",
          "2022-03-21T00:00:00",
          "2022-01-04T00:00:00",
          "2022-08-10T00:00:00",
          "2022-04-18T00:00:00",
          "2022-08-22T00:00:00",
          "2022-07-22T00:00:00",
          "2022-08-24T00:00:00",
          "2022-02-17T00:00:00",
          "2022-07-05T00:00:00",
          "2022-07-15T00:00:00",
          "2022-02-03T00:00:00",
          "2022-06-27T00:00:00",
          "2022-03-11T00:00:00",
          "2022-07-13T00:00:00",
          "2022-02-07T00:00:00",
          "2022-06-06T00:00:00",
          "2022-05-23T00:00:00",
          "2022-04-25T00:00:00",
          "2022-05-23T00:00:00",
          "2022-07-27T00:00:00",
          "2022-08-16T00:00:00",
          "2022-01-04T00:00:00",
          "2022-02-21T00:00:00",
          "2022-05-25T00:00:00",
          "2022-07-18T00:00:00",
          "2022-07-25T00:00:00",
          "2022-05-09T00:00:00",
          "2022-01-18T00:00:00",
          "2022-08-22T00:00:00",
          "2022-02-21T00:00:00",
          "2022-07-28T00:00:00",
          "2022-03-04T00:00:00",
          "2022-01-27T00:00:00",
          "2022-08-15T00:00:00",
          "2022-06-30T00:00:00",
          "2022-04-14T00:00:00",
          "2022-04-28T00:00:00",
          "2022-07-21T00:00:00",
          "2022-06-14T00:00:00",
          "2022-05-05T00:00:00",
          "2022-05-16T00:00:00",
          "2022-08-15T00:00:00",
          "2022-06-14T00:00:00",
          "2022-06-27T00:00:00",
          "2022-08-11T00:00:00",
          "2022-05-31T00:00:00",
          "2022-05-19T00:00:00",
          "2022-04-25T00:00:00",
          "2022-06-10T00:00:00",
          "2022-06-16T00:00:00",
          "2022-03-29T00:00:00",
          "2022-03-11T00:00:00",
          "2022-04-13T00:00:00",
          "2022-06-13T00:00:00",
          "2022-01-03T00:00:00",
          "2022-08-24T00:00:00",
          "2022-02-07T00:00:00",
          "2022-06-15T00:00:00",
          "2022-07-11T00:00:00",
          "2022-06-22T00:00:00",
          "2022-06-07T00:00:00",
          "2022-03-15T00:00:00",
          "2022-01-14T00:00:00",
          "2022-05-12T00:00:00",
          "2022-01-12T00:00:00",
          "2022-06-07T00:00:00"
         ],
         "xaxis": "x",
         "y": [
          11,
          140,
          157,
          163,
          112,
          315,
          16,
          354,
          188,
          160,
          83,
          102,
          103,
          244,
          181,
          24,
          21,
          401,
          264,
          106,
          180,
          359,
          296,
          167,
          87,
          30,
          101,
          82,
          46,
          6,
          54,
          210,
          84,
          100,
          249,
          430,
          200,
          56,
          54,
          96,
          59,
          27,
          69,
          65,
          122,
          117,
          22,
          7,
          108,
          51,
          318,
          238,
          122,
          107,
          264,
          160,
          58,
          152,
          21,
          368,
          76,
          352,
          146,
          112,
          139,
          42,
          24,
          138,
          352,
          150,
          147,
          13,
          257,
          341,
          58,
          138,
          14,
          137,
          223,
          53,
          213,
          5,
          248,
          138,
          102,
          37,
          227,
          60,
          93,
          47,
          22,
          18,
          154,
          73,
          334,
          155,
          138,
          353,
          60,
          5,
          46,
          320,
          67,
          301,
          130,
          339,
          9,
          69,
          158,
          120,
          10,
          316,
          223,
          179,
          219,
          321,
          131,
          140,
          126,
          296,
          145,
          235,
          93,
          78,
          361,
          134,
          276,
          142,
          6,
          151,
          508,
          18,
          212,
          126,
          92,
          111,
          90,
          126,
          86,
          75,
          87,
          8,
          155,
          170,
          133,
          233,
          125,
          135,
          21,
          27,
          157,
          79,
          163,
          252,
          261,
          98,
          115,
          271,
          24,
          141,
          78,
          392,
          133,
          299,
          44,
          235,
          175,
          46,
          2,
          417,
          350,
          464,
          259,
          132,
          77,
          196,
          91,
          194,
          119
         ],
         "yaxis": "y"
        },
        {
         "alignmentgroup": "True",
         "hovertemplate": "Country=Canada<br>Date=%{x}<br>Boxes Shipped=%{y}<extra></extra>",
         "legendgroup": "Canada",
         "marker": {
          "color": "#19d3f3",
          "pattern": {
           "shape": ""
          }
         },
         "name": "Canada",
         "offsetgroup": "Canada",
         "orientation": "v",
         "showlegend": true,
         "textposition": "auto",
         "type": "bar",
         "x": [
          "2022-01-13T00:00:00",
          "2022-02-14T00:00:00",
          "2022-02-16T00:00:00",
          "2022-02-09T00:00:00",
          "2022-05-11T00:00:00",
          "2022-07-11T00:00:00",
          "2022-08-22T00:00:00",
          "2022-03-24T00:00:00",
          "2022-07-15T00:00:00",
          "2022-05-18T00:00:00",
          "2022-05-26T00:00:00",
          "2022-07-13T00:00:00",
          "2022-01-10T00:00:00",
          "2022-01-03T00:00:00",
          "2022-07-15T00:00:00",
          "2022-03-04T00:00:00",
          "2022-01-24T00:00:00",
          "2022-01-28T00:00:00",
          "2022-01-13T00:00:00",
          "2022-06-16T00:00:00",
          "2022-08-15T00:00:00",
          "2022-08-01T00:00:00",
          "2022-07-11T00:00:00",
          "2022-01-19T00:00:00",
          "2022-02-21T00:00:00",
          "2022-06-27T00:00:00",
          "2022-07-04T00:00:00",
          "2022-06-07T00:00:00",
          "2022-04-20T00:00:00",
          "2022-04-20T00:00:00",
          "2022-07-15T00:00:00",
          "2022-08-22T00:00:00",
          "2022-04-13T00:00:00",
          "2022-01-11T00:00:00",
          "2022-03-04T00:00:00",
          "2022-07-15T00:00:00",
          "2022-08-10T00:00:00",
          "2022-08-03T00:00:00",
          "2022-03-15T00:00:00",
          "2022-01-10T00:00:00",
          "2022-02-17T00:00:00",
          "2022-07-19T00:00:00",
          "2022-06-23T00:00:00",
          "2022-03-22T00:00:00",
          "2022-07-07T00:00:00",
          "2022-01-13T00:00:00",
          "2022-04-04T00:00:00",
          "2022-08-02T00:00:00",
          "2022-03-21T00:00:00",
          "2022-03-24T00:00:00",
          "2022-06-24T00:00:00",
          "2022-02-08T00:00:00",
          "2022-02-24T00:00:00",
          "2022-02-28T00:00:00",
          "2022-01-03T00:00:00",
          "2022-08-05T00:00:00",
          "2022-02-09T00:00:00",
          "2022-03-23T00:00:00",
          "2022-08-01T00:00:00",
          "2022-01-28T00:00:00",
          "2022-07-01T00:00:00",
          "2022-08-01T00:00:00",
          "2022-01-04T00:00:00",
          "2022-07-05T00:00:00",
          "2022-08-01T00:00:00",
          "2022-06-16T00:00:00",
          "2022-08-12T00:00:00",
          "2022-01-17T00:00:00",
          "2022-05-09T00:00:00",
          "2022-03-07T00:00:00",
          "2022-07-07T00:00:00",
          "2022-08-09T00:00:00",
          "2022-04-01T00:00:00",
          "2022-07-27T00:00:00",
          "2022-02-01T00:00:00",
          "2022-03-03T00:00:00",
          "2022-08-02T00:00:00",
          "2022-01-18T00:00:00",
          "2022-04-22T00:00:00",
          "2022-07-25T00:00:00",
          "2022-01-19T00:00:00",
          "2022-02-17T00:00:00",
          "2022-03-17T00:00:00",
          "2022-08-24T00:00:00",
          "2022-07-04T00:00:00",
          "2022-02-10T00:00:00",
          "2022-04-08T00:00:00",
          "2022-07-06T00:00:00",
          "2022-08-11T00:00:00",
          "2022-06-14T00:00:00",
          "2022-03-17T00:00:00",
          "2022-08-04T00:00:00",
          "2022-07-13T00:00:00",
          "2022-08-18T00:00:00",
          "2022-01-04T00:00:00",
          "2022-07-21T00:00:00",
          "2022-07-08T00:00:00",
          "2022-06-23T00:00:00",
          "2022-04-06T00:00:00",
          "2022-06-24T00:00:00",
          "2022-03-07T00:00:00",
          "2022-02-22T00:00:00",
          "2022-07-12T00:00:00",
          "2022-03-08T00:00:00",
          "2022-07-11T00:00:00",
          "2022-08-24T00:00:00",
          "2022-07-28T00:00:00",
          "2022-04-08T00:00:00",
          "2022-05-10T00:00:00",
          "2022-05-12T00:00:00",
          "2022-03-17T00:00:00",
          "2022-06-14T00:00:00",
          "2022-01-31T00:00:00",
          "2022-08-19T00:00:00",
          "2022-06-24T00:00:00",
          "2022-06-20T00:00:00",
          "2022-02-14T00:00:00",
          "2022-08-25T00:00:00",
          "2022-05-18T00:00:00",
          "2022-02-14T00:00:00",
          "2022-03-16T00:00:00",
          "2022-01-31T00:00:00",
          "2022-03-10T00:00:00",
          "2022-01-14T00:00:00",
          "2022-05-13T00:00:00",
          "2022-02-03T00:00:00",
          "2022-03-29T00:00:00",
          "2022-03-21T00:00:00",
          "2022-07-20T00:00:00",
          "2022-01-25T00:00:00",
          "2022-01-17T00:00:00",
          "2022-06-02T00:00:00",
          "2022-02-23T00:00:00",
          "2022-08-11T00:00:00",
          "2022-04-18T00:00:00",
          "2022-05-19T00:00:00",
          "2022-08-15T00:00:00",
          "2022-01-13T00:00:00",
          "2022-02-17T00:00:00",
          "2022-06-24T00:00:00",
          "2022-04-05T00:00:00",
          "2022-07-05T00:00:00",
          "2022-05-11T00:00:00",
          "2022-06-07T00:00:00",
          "2022-06-02T00:00:00",
          "2022-03-02T00:00:00",
          "2022-06-30T00:00:00",
          "2022-08-08T00:00:00",
          "2022-01-14T00:00:00",
          "2022-03-02T00:00:00",
          "2022-02-14T00:00:00",
          "2022-06-10T00:00:00",
          "2022-07-05T00:00:00",
          "2022-05-12T00:00:00",
          "2022-04-05T00:00:00",
          "2022-03-03T00:00:00",
          "2022-08-22T00:00:00",
          "2022-03-29T00:00:00",
          "2022-04-08T00:00:00",
          "2022-06-15T00:00:00",
          "2022-02-16T00:00:00",
          "2022-06-02T00:00:00",
          "2022-05-02T00:00:00",
          "2022-03-08T00:00:00",
          "2022-05-06T00:00:00",
          "2022-02-16T00:00:00",
          "2022-05-17T00:00:00",
          "2022-04-26T00:00:00",
          "2022-05-19T00:00:00",
          "2022-01-10T00:00:00",
          "2022-04-05T00:00:00",
          "2022-04-27T00:00:00",
          "2022-08-12T00:00:00",
          "2022-01-28T00:00:00",
          "2022-07-26T00:00:00"
         ],
         "xaxis": "x",
         "y": [
          286,
          42,
          250,
          186,
          70,
          241,
          102,
          70,
          24,
          416,
          302,
          32,
          82,
          348,
          65,
          101,
          141,
          47,
          27,
          118,
          50,
          403,
          138,
          184,
          12,
          72,
          176,
          78,
          424,
          358,
          173,
          406,
          125,
          95,
          100,
          312,
          216,
          238,
          45,
          172,
          259,
          303,
          126,
          3,
          28,
          118,
          195,
          47,
          371,
          203,
          409,
          309,
          46,
          370,
          336,
          183,
          85,
          178,
          101,
          178,
          410,
          12,
          204,
          74,
          90,
          208,
          159,
          233,
          224,
          112,
          7,
          182,
          211,
          151,
          49,
          72,
          114,
          135,
          111,
          199,
          301,
          101,
          479,
          269,
          277,
          116,
          44,
          82,
          125,
          45,
          130,
          200,
          172,
          7,
          23,
          488,
          79,
          512,
          31,
          282,
          11,
          22,
          200,
          88,
          4,
          185,
          30,
          289,
          109,
          58,
          118,
          103,
          7,
          296,
          597,
          149,
          305,
          249,
          164,
          29,
          121,
          285,
          205,
          425,
          495,
          170,
          1,
          98,
          294,
          136,
          237,
          16,
          614,
          15,
          247,
          63,
          408,
          198,
          54,
          137,
          12,
          113,
          249,
          167,
          166,
          142,
          18,
          181,
          158,
          304,
          180,
          539,
          118,
          35,
          200,
          264,
          172,
          81,
          15,
          709,
          45,
          77,
          156,
          91,
          203,
          319,
          312,
          82,
          591,
          24,
          268,
          338,
          73,
          75,
          217
         ],
         "yaxis": "y"
        }
       ],
       "layout": {
        "barmode": "relative",
        "legend": {
         "title": {
          "text": "Country"
         },
         "tracegroupgap": 0
        },
        "margin": {
         "t": 60
        },
        "template": {
         "data": {
          "bar": [
           {
            "error_x": {
             "color": "#2a3f5f"
            },
            "error_y": {
             "color": "#2a3f5f"
            },
            "marker": {
             "line": {
              "color": "#E5ECF6",
              "width": 0.5
             },
             "pattern": {
              "fillmode": "overlay",
              "size": 10,
              "solidity": 0.2
             }
            },
            "type": "bar"
           }
          ],
          "barpolar": [
           {
            "marker": {
             "line": {
              "color": "#E5ECF6",
              "width": 0.5
             },
             "pattern": {
              "fillmode": "overlay",
              "size": 10,
              "solidity": 0.2
             }
            },
            "type": "barpolar"
           }
          ],
          "carpet": [
           {
            "aaxis": {
             "endlinecolor": "#2a3f5f",
             "gridcolor": "white",
             "linecolor": "white",
             "minorgridcolor": "white",
             "startlinecolor": "#2a3f5f"
            },
            "baxis": {
             "endlinecolor": "#2a3f5f",
             "gridcolor": "white",
             "linecolor": "white",
             "minorgridcolor": "white",
             "startlinecolor": "#2a3f5f"
            },
            "type": "carpet"
           }
          ],
          "choropleth": [
           {
            "colorbar": {
             "outlinewidth": 0,
             "ticks": ""
            },
            "type": "choropleth"
           }
          ],
          "contour": [
           {
            "colorbar": {
             "outlinewidth": 0,
             "ticks": ""
            },
            "colorscale": [
             [
              0,
              "#0d0887"
             ],
             [
              0.1111111111111111,
              "#46039f"
             ],
             [
              0.2222222222222222,
              "#7201a8"
             ],
             [
              0.3333333333333333,
              "#9c179e"
             ],
             [
              0.4444444444444444,
              "#bd3786"
             ],
             [
              0.5555555555555556,
              "#d8576b"
             ],
             [
              0.6666666666666666,
              "#ed7953"
             ],
             [
              0.7777777777777778,
              "#fb9f3a"
             ],
             [
              0.8888888888888888,
              "#fdca26"
             ],
             [
              1,
              "#f0f921"
             ]
            ],
            "type": "contour"
           }
          ],
          "contourcarpet": [
           {
            "colorbar": {
             "outlinewidth": 0,
             "ticks": ""
            },
            "type": "contourcarpet"
           }
          ],
          "heatmap": [
           {
            "colorbar": {
             "outlinewidth": 0,
             "ticks": ""
            },
            "colorscale": [
             [
              0,
              "#0d0887"
             ],
             [
              0.1111111111111111,
              "#46039f"
             ],
             [
              0.2222222222222222,
              "#7201a8"
             ],
             [
              0.3333333333333333,
              "#9c179e"
             ],
             [
              0.4444444444444444,
              "#bd3786"
             ],
             [
              0.5555555555555556,
              "#d8576b"
             ],
             [
              0.6666666666666666,
              "#ed7953"
             ],
             [
              0.7777777777777778,
              "#fb9f3a"
             ],
             [
              0.8888888888888888,
              "#fdca26"
             ],
             [
              1,
              "#f0f921"
             ]
            ],
            "type": "heatmap"
           }
          ],
          "heatmapgl": [
           {
            "colorbar": {
             "outlinewidth": 0,
             "ticks": ""
            },
            "colorscale": [
             [
              0,
              "#0d0887"
             ],
             [
              0.1111111111111111,
              "#46039f"
             ],
             [
              0.2222222222222222,
              "#7201a8"
             ],
             [
              0.3333333333333333,
              "#9c179e"
             ],
             [
              0.4444444444444444,
              "#bd3786"
             ],
             [
              0.5555555555555556,
              "#d8576b"
             ],
             [
              0.6666666666666666,
              "#ed7953"
             ],
             [
              0.7777777777777778,
              "#fb9f3a"
             ],
             [
              0.8888888888888888,
              "#fdca26"
             ],
             [
              1,
              "#f0f921"
             ]
            ],
            "type": "heatmapgl"
           }
          ],
          "histogram": [
           {
            "marker": {
             "pattern": {
              "fillmode": "overlay",
              "size": 10,
              "solidity": 0.2
             }
            },
            "type": "histogram"
           }
          ],
          "histogram2d": [
           {
            "colorbar": {
             "outlinewidth": 0,
             "ticks": ""
            },
            "colorscale": [
             [
              0,
              "#0d0887"
             ],
             [
              0.1111111111111111,
              "#46039f"
             ],
             [
              0.2222222222222222,
              "#7201a8"
             ],
             [
              0.3333333333333333,
              "#9c179e"
             ],
             [
              0.4444444444444444,
              "#bd3786"
             ],
             [
              0.5555555555555556,
              "#d8576b"
             ],
             [
              0.6666666666666666,
              "#ed7953"
             ],
             [
              0.7777777777777778,
              "#fb9f3a"
             ],
             [
              0.8888888888888888,
              "#fdca26"
             ],
             [
              1,
              "#f0f921"
             ]
            ],
            "type": "histogram2d"
           }
          ],
          "histogram2dcontour": [
           {
            "colorbar": {
             "outlinewidth": 0,
             "ticks": ""
            },
            "colorscale": [
             [
              0,
              "#0d0887"
             ],
             [
              0.1111111111111111,
              "#46039f"
             ],
             [
              0.2222222222222222,
              "#7201a8"
             ],
             [
              0.3333333333333333,
              "#9c179e"
             ],
             [
              0.4444444444444444,
              "#bd3786"
             ],
             [
              0.5555555555555556,
              "#d8576b"
             ],
             [
              0.6666666666666666,
              "#ed7953"
             ],
             [
              0.7777777777777778,
              "#fb9f3a"
             ],
             [
              0.8888888888888888,
              "#fdca26"
             ],
             [
              1,
              "#f0f921"
             ]
            ],
            "type": "histogram2dcontour"
           }
          ],
          "mesh3d": [
           {
            "colorbar": {
             "outlinewidth": 0,
             "ticks": ""
            },
            "type": "mesh3d"
           }
          ],
          "parcoords": [
           {
            "line": {
             "colorbar": {
              "outlinewidth": 0,
              "ticks": ""
             }
            },
            "type": "parcoords"
           }
          ],
          "pie": [
           {
            "automargin": true,
            "type": "pie"
           }
          ],
          "scatter": [
           {
            "fillpattern": {
             "fillmode": "overlay",
             "size": 10,
             "solidity": 0.2
            },
            "type": "scatter"
           }
          ],
          "scatter3d": [
           {
            "line": {
             "colorbar": {
              "outlinewidth": 0,
              "ticks": ""
             }
            },
            "marker": {
             "colorbar": {
              "outlinewidth": 0,
              "ticks": ""
             }
            },
            "type": "scatter3d"
           }
          ],
          "scattercarpet": [
           {
            "marker": {
             "colorbar": {
              "outlinewidth": 0,
              "ticks": ""
             }
            },
            "type": "scattercarpet"
           }
          ],
          "scattergeo": [
           {
            "marker": {
             "colorbar": {
              "outlinewidth": 0,
              "ticks": ""
             }
            },
            "type": "scattergeo"
           }
          ],
          "scattergl": [
           {
            "marker": {
             "colorbar": {
              "outlinewidth": 0,
              "ticks": ""
             }
            },
            "type": "scattergl"
           }
          ],
          "scattermapbox": [
           {
            "marker": {
             "colorbar": {
              "outlinewidth": 0,
              "ticks": ""
             }
            },
            "type": "scattermapbox"
           }
          ],
          "scatterpolar": [
           {
            "marker": {
             "colorbar": {
              "outlinewidth": 0,
              "ticks": ""
             }
            },
            "type": "scatterpolar"
           }
          ],
          "scatterpolargl": [
           {
            "marker": {
             "colorbar": {
              "outlinewidth": 0,
              "ticks": ""
             }
            },
            "type": "scatterpolargl"
           }
          ],
          "scatterternary": [
           {
            "marker": {
             "colorbar": {
              "outlinewidth": 0,
              "ticks": ""
             }
            },
            "type": "scatterternary"
           }
          ],
          "surface": [
           {
            "colorbar": {
             "outlinewidth": 0,
             "ticks": ""
            },
            "colorscale": [
             [
              0,
              "#0d0887"
             ],
             [
              0.1111111111111111,
              "#46039f"
             ],
             [
              0.2222222222222222,
              "#7201a8"
             ],
             [
              0.3333333333333333,
              "#9c179e"
             ],
             [
              0.4444444444444444,
              "#bd3786"
             ],
             [
              0.5555555555555556,
              "#d8576b"
             ],
             [
              0.6666666666666666,
              "#ed7953"
             ],
             [
              0.7777777777777778,
              "#fb9f3a"
             ],
             [
              0.8888888888888888,
              "#fdca26"
             ],
             [
              1,
              "#f0f921"
             ]
            ],
            "type": "surface"
           }
          ],
          "table": [
           {
            "cells": {
             "fill": {
              "color": "#EBF0F8"
             },
             "line": {
              "color": "white"
             }
            },
            "header": {
             "fill": {
              "color": "#C8D4E3"
             },
             "line": {
              "color": "white"
             }
            },
            "type": "table"
           }
          ]
         },
         "layout": {
          "annotationdefaults": {
           "arrowcolor": "#2a3f5f",
           "arrowhead": 0,
           "arrowwidth": 1
          },
          "autotypenumbers": "strict",
          "coloraxis": {
           "colorbar": {
            "outlinewidth": 0,
            "ticks": ""
           }
          },
          "colorscale": {
           "diverging": [
            [
             0,
             "#8e0152"
            ],
            [
             0.1,
             "#c51b7d"
            ],
            [
             0.2,
             "#de77ae"
            ],
            [
             0.3,
             "#f1b6da"
            ],
            [
             0.4,
             "#fde0ef"
            ],
            [
             0.5,
             "#f7f7f7"
            ],
            [
             0.6,
             "#e6f5d0"
            ],
            [
             0.7,
             "#b8e186"
            ],
            [
             0.8,
             "#7fbc41"
            ],
            [
             0.9,
             "#4d9221"
            ],
            [
             1,
             "#276419"
            ]
           ],
           "sequential": [
            [
             0,
             "#0d0887"
            ],
            [
             0.1111111111111111,
             "#46039f"
            ],
            [
             0.2222222222222222,
             "#7201a8"
            ],
            [
             0.3333333333333333,
             "#9c179e"
            ],
            [
             0.4444444444444444,
             "#bd3786"
            ],
            [
             0.5555555555555556,
             "#d8576b"
            ],
            [
             0.6666666666666666,
             "#ed7953"
            ],
            [
             0.7777777777777778,
             "#fb9f3a"
            ],
            [
             0.8888888888888888,
             "#fdca26"
            ],
            [
             1,
             "#f0f921"
            ]
           ],
           "sequentialminus": [
            [
             0,
             "#0d0887"
            ],
            [
             0.1111111111111111,
             "#46039f"
            ],
            [
             0.2222222222222222,
             "#7201a8"
            ],
            [
             0.3333333333333333,
             "#9c179e"
            ],
            [
             0.4444444444444444,
             "#bd3786"
            ],
            [
             0.5555555555555556,
             "#d8576b"
            ],
            [
             0.6666666666666666,
             "#ed7953"
            ],
            [
             0.7777777777777778,
             "#fb9f3a"
            ],
            [
             0.8888888888888888,
             "#fdca26"
            ],
            [
             1,
             "#f0f921"
            ]
           ]
          },
          "colorway": [
           "#636efa",
           "#EF553B",
           "#00cc96",
           "#ab63fa",
           "#FFA15A",
           "#19d3f3",
           "#FF6692",
           "#B6E880",
           "#FF97FF",
           "#FECB52"
          ],
          "font": {
           "color": "#2a3f5f"
          },
          "geo": {
           "bgcolor": "white",
           "lakecolor": "white",
           "landcolor": "#E5ECF6",
           "showlakes": true,
           "showland": true,
           "subunitcolor": "white"
          },
          "hoverlabel": {
           "align": "left"
          },
          "hovermode": "closest",
          "mapbox": {
           "style": "light"
          },
          "paper_bgcolor": "white",
          "plot_bgcolor": "#E5ECF6",
          "polar": {
           "angularaxis": {
            "gridcolor": "white",
            "linecolor": "white",
            "ticks": ""
           },
           "bgcolor": "#E5ECF6",
           "radialaxis": {
            "gridcolor": "white",
            "linecolor": "white",
            "ticks": ""
           }
          },
          "scene": {
           "xaxis": {
            "backgroundcolor": "#E5ECF6",
            "gridcolor": "white",
            "gridwidth": 2,
            "linecolor": "white",
            "showbackground": true,
            "ticks": "",
            "zerolinecolor": "white"
           },
           "yaxis": {
            "backgroundcolor": "#E5ECF6",
            "gridcolor": "white",
            "gridwidth": 2,
            "linecolor": "white",
            "showbackground": true,
            "ticks": "",
            "zerolinecolor": "white"
           },
           "zaxis": {
            "backgroundcolor": "#E5ECF6",
            "gridcolor": "white",
            "gridwidth": 2,
            "linecolor": "white",
            "showbackground": true,
            "ticks": "",
            "zerolinecolor": "white"
           }
          },
          "shapedefaults": {
           "line": {
            "color": "#2a3f5f"
           }
          },
          "ternary": {
           "aaxis": {
            "gridcolor": "white",
            "linecolor": "white",
            "ticks": ""
           },
           "baxis": {
            "gridcolor": "white",
            "linecolor": "white",
            "ticks": ""
           },
           "bgcolor": "#E5ECF6",
           "caxis": {
            "gridcolor": "white",
            "linecolor": "white",
            "ticks": ""
           }
          },
          "title": {
           "x": 0.05
          },
          "xaxis": {
           "automargin": true,
           "gridcolor": "white",
           "linecolor": "white",
           "ticks": "",
           "title": {
            "standoff": 15
           },
           "zerolinecolor": "white",
           "zerolinewidth": 2
          },
          "yaxis": {
           "automargin": true,
           "gridcolor": "white",
           "linecolor": "white",
           "ticks": "",
           "title": {
            "standoff": 15
           },
           "zerolinecolor": "white",
           "zerolinewidth": 2
          }
         }
        },
        "xaxis": {
         "anchor": "y",
         "domain": [
          0,
          1
         ],
         "title": {
          "text": "Date"
         }
        },
        "yaxis": {
         "anchor": "x",
         "domain": [
          0,
          1
         ],
         "title": {
          "text": "Boxes Shipped"
         }
        }
       }
      }
     },
     "metadata": {},
     "output_type": "display_data"
    }
   ],
   "source": [
    "fig1= px.bar(df,x=\"Date\",y=\"Boxes Shipped\",color=\"Country\")\n",
    "fig1.show()"
   ]
  },
  {
   "cell_type": "code",
   "execution_count": null,
   "metadata": {},
   "outputs": [],
   "source": []
  }
 ],
 "metadata": {
  "kernelspec": {
   "display_name": "base",
   "language": "python",
   "name": "python3"
  },
  "language_info": {
   "codemirror_mode": {
    "name": "ipython",
    "version": 3
   },
   "file_extension": ".py",
   "mimetype": "text/x-python",
   "name": "python",
   "nbconvert_exporter": "python",
   "pygments_lexer": "ipython3",
   "version": "3.12.7"
  }
 },
 "nbformat": 4,
 "nbformat_minor": 2
}
