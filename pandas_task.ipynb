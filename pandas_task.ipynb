{
  "nbformat": 4,
  "nbformat_minor": 0,
  "metadata": {
    "colab": {
      "provenance": [],
      "collapsed_sections": [
        "kMiftLLNIwqZ",
        "utLt-qjxQu6z",
        "mWwUwtJsUrAM",
        "Y3y2Oa4BWdIG",
        "UaobcgJlZXCa",
        "-iQV85mXbKRG",
        "uUeMYcvsbXqL",
        "hPU1aOnUeLfk",
        "5hxGaqS4fKII",
        "2bB43TAFhBwT"
      ]
    },
    "kernelspec": {
      "name": "python3",
      "display_name": "Python 3"
    },
    "language_info": {
      "name": "python"
    }
  },
  "cells": [
    {
      "cell_type": "markdown",
      "source": [
        "# **IMPORTING PANDAS AND LOADING DATASET**"
      ],
      "metadata": {
        "id": "mBreZ5IBIkSw"
      }
    },
    {
      "cell_type": "code",
      "source": [
        "import pandas as pd\n",
        "df = pd.read_csv(\"/content/Mobiles Dataset (2025).csv\", encoding=\"ISO-8859-1\")"
      ],
      "metadata": {
        "id": "FbD0cJjZItoi"
      },
      "execution_count": null,
      "outputs": []
    },
    {
      "cell_type": "markdown",
      "source": [
        "# New Section"
      ],
      "metadata": {
        "id": "0BKOgtRZH9uy"
      }
    },
    {
      "cell_type": "markdown",
      "source": [
        "## **BASIC PANDAS FUCNTION**"
      ],
      "metadata": {
        "id": "kMiftLLNIwqZ"
      }
    },
    {
      "cell_type": "code",
      "source": [
        "#  df.head()\n",
        "#  df.tail()\n",
        "#  df.info()\n",
        "# df.describe()\n",
        "# df.shape\n",
        "# df.columns\n",
        "# df.dtypes\n",
        "# df.nunique()\n",
        "# df.isnull().sum()\n",
        "# df.duplicated()\n"
      ],
      "metadata": {
        "id": "MQhOgGKhI9-E"
      },
      "execution_count": null,
      "outputs": []
    },
    {
      "cell_type": "markdown",
      "source": [
        "# **Data selection**"
      ],
      "metadata": {
        "id": "utLt-qjxQu6z"
      }
    },
    {
      "cell_type": "code",
      "source": [
        "# df['Model Name']\n",
        "# df[['Company Name','Model Name']]\n",
        "# df.iloc[0]\n",
        "# df.loc[df['Company Name']=='Apple']\n",
        "# df[(df['Company Name']=='Apple') & (df['Launched Year']>=2021)]\n",
        "# df.at[0,'Company Name']\n",
        "# df.iat[0, 1]\n",
        "# df.sample(5)\n",
        "df.sample(frac=0.2)\n",
        "\n"
      ],
      "metadata": {
        "id": "5Yt4EQyWQ0l-"
      },
      "execution_count": null,
      "outputs": []
    },
    {
      "cell_type": "markdown",
      "source": [
        "## **Sorting and ordering**"
      ],
      "metadata": {
        "id": "mWwUwtJsUrAM"
      }
    },
    {
      "cell_type": "code",
      "source": [
        "# df.sort_values(by='Launched Year',ascending=False)\n",
        "# df.sort_values(by=['Company Name','Launched Year'],ascending=[True,False])\n",
        "# df.nlargest(5,'Launched Year')\n",
        "# df.nsmallest(2,'Launched Year')\n",
        "# df.rank()\n",
        "# df.sort_index()\n"
      ],
      "metadata": {
        "id": "VWeYGwXvU34T"
      },
      "execution_count": null,
      "outputs": []
    },
    {
      "cell_type": "markdown",
      "source": [
        "# **Aggregation and stat**"
      ],
      "metadata": {
        "id": "Y3y2Oa4BWdIG"
      }
    },
    {
      "cell_type": "code",
      "source": [
        "# df.sum()\n",
        "# df['Launched Year'].mean()\n",
        "# df['Launched Year'].median()\n",
        "# df['Launched Year'].mode()\n",
        "# df['Launched Year'].min()\n",
        "# df['Launched Year'].max()\n",
        "# df['Launched Year'].std()\n",
        "# df['Launched Year'].var()\n",
        "df['Launched Year'].count()"
      ],
      "metadata": {
        "colab": {
          "base_uri": "https://localhost:8080/"
        },
        "id": "rYlXvJnWXVgE",
        "outputId": "54d818da-7771-4fc5-f1cd-9b90e22d7dc7"
      },
      "execution_count": null,
      "outputs": [
        {
          "output_type": "execute_result",
          "data": {
            "text/plain": [
              "930"
            ]
          },
          "metadata": {},
          "execution_count": 66
        }
      ]
    },
    {
      "cell_type": "markdown",
      "source": [
        "## **Data tranformation**"
      ],
      "metadata": {
        "id": "UaobcgJlZXCa"
      }
    },
    {
      "cell_type": "code",
      "source": [
        "# df['Launched Year']=df['Launched Year']-2\n",
        "# print(df['Launched Year'])\n",
        "# df['Company Name'].replace({'Apple':'Apple_company'})\n",
        "# df.drop_duplicates()\n",
        "df.drop('RAM',axis=1)\n"
      ],
      "metadata": {
        "id": "oxvHpWvtZsgz"
      },
      "execution_count": null,
      "outputs": []
    },
    {
      "cell_type": "markdown",
      "source": [
        "## **Filling missing data**"
      ],
      "metadata": {
        "id": "-iQV85mXbKRG"
      }
    },
    {
      "cell_type": "code",
      "source": [
        "# df.fillna(0)\n",
        "df.dropna()"
      ],
      "metadata": {
        "id": "Hx21MhwfbPLX"
      },
      "execution_count": null,
      "outputs": []
    },
    {
      "cell_type": "markdown",
      "source": [
        "# **Data exporting**"
      ],
      "metadata": {
        "id": "uUeMYcvsbXqL"
      }
    },
    {
      "cell_type": "code",
      "source": [
        "# df.to_csv('phone_file.csv',index=False)\n",
        "# df.to_excel('phone_file.xlsx',index=False)\n",
        "df.to_json('phone_file.json')"
      ],
      "metadata": {
        "id": "LKY-DiWUbbiZ"
      },
      "execution_count": null,
      "outputs": []
    },
    {
      "cell_type": "markdown",
      "source": [
        "# **pivot table**"
      ],
      "metadata": {
        "id": "hPU1aOnUeLfk"
      }
    },
    {
      "cell_type": "code",
      "source": [
        "# df.pivot_table(index='Company Name',values='Launched Year',aggfunc='median')\n",
        "pd.crosstab(df['Company Name'],df['Launched Year'])"
      ],
      "metadata": {
        "id": "PHHXKppoeOLs"
      },
      "execution_count": null,
      "outputs": []
    },
    {
      "cell_type": "markdown",
      "source": [
        "# **String operation**"
      ],
      "metadata": {
        "id": "5hxGaqS4fKII"
      }
    },
    {
      "cell_type": "code",
      "source": [
        "# df['Company Name'].str.upper()\n",
        "# df['Company Name'].str.lower()\n",
        "# df['Company Name'].str.startswith('L')\n",
        "# df['Company Name'].str.endswith('e')\n",
        "# df['Company Name'].str.contains('ple')\n",
        "# df['Company Name'].str.replace('Apple','orange')\n",
        "# df['Company Name'].str.split(' ')\n",
        "df['Company Name'].str.len()"
      ],
      "metadata": {
        "colab": {
          "base_uri": "https://localhost:8080/",
          "height": 458
        },
        "id": "8Kc5u4SOfNsG",
        "outputId": "c0fc1440-0448-4dd9-ab28-e24b020af6d2"
      },
      "execution_count": null,
      "outputs": [
        {
          "output_type": "execute_result",
          "data": {
            "text/plain": [
              "0      5\n",
              "1      5\n",
              "2      5\n",
              "3      5\n",
              "4      5\n",
              "      ..\n",
              "925    4\n",
              "926    4\n",
              "927    7\n",
              "928    7\n",
              "929    7\n",
              "Name: Company Name, Length: 930, dtype: int64"
            ],
            "text/html": [
              "<div>\n",
              "<style scoped>\n",
              "    .dataframe tbody tr th:only-of-type {\n",
              "        vertical-align: middle;\n",
              "    }\n",
              "\n",
              "    .dataframe tbody tr th {\n",
              "        vertical-align: top;\n",
              "    }\n",
              "\n",
              "    .dataframe thead th {\n",
              "        text-align: right;\n",
              "    }\n",
              "</style>\n",
              "<table border=\"1\" class=\"dataframe\">\n",
              "  <thead>\n",
              "    <tr style=\"text-align: right;\">\n",
              "      <th></th>\n",
              "      <th>Company Name</th>\n",
              "    </tr>\n",
              "  </thead>\n",
              "  <tbody>\n",
              "    <tr>\n",
              "      <th>0</th>\n",
              "      <td>5</td>\n",
              "    </tr>\n",
              "    <tr>\n",
              "      <th>1</th>\n",
              "      <td>5</td>\n",
              "    </tr>\n",
              "    <tr>\n",
              "      <th>2</th>\n",
              "      <td>5</td>\n",
              "    </tr>\n",
              "    <tr>\n",
              "      <th>3</th>\n",
              "      <td>5</td>\n",
              "    </tr>\n",
              "    <tr>\n",
              "      <th>4</th>\n",
              "      <td>5</td>\n",
              "    </tr>\n",
              "    <tr>\n",
              "      <th>...</th>\n",
              "      <td>...</td>\n",
              "    </tr>\n",
              "    <tr>\n",
              "      <th>925</th>\n",
              "      <td>4</td>\n",
              "    </tr>\n",
              "    <tr>\n",
              "      <th>926</th>\n",
              "      <td>4</td>\n",
              "    </tr>\n",
              "    <tr>\n",
              "      <th>927</th>\n",
              "      <td>7</td>\n",
              "    </tr>\n",
              "    <tr>\n",
              "      <th>928</th>\n",
              "      <td>7</td>\n",
              "    </tr>\n",
              "    <tr>\n",
              "      <th>929</th>\n",
              "      <td>7</td>\n",
              "    </tr>\n",
              "  </tbody>\n",
              "</table>\n",
              "<p>930 rows × 1 columns</p>\n",
              "</div><br><label><b>dtype:</b> int64</label>"
            ]
          },
          "metadata": {},
          "execution_count": 99
        }
      ]
    },
    {
      "cell_type": "markdown",
      "source": [],
      "metadata": {
        "id": "RHCDiqrdglph"
      }
    },
    {
      "cell_type": "markdown",
      "source": [
        "# **HANDLE MISSING DATA**"
      ],
      "metadata": {
        "id": "jF6mjB9GgnH_"
      }
    },
    {
      "cell_type": "code",
      "source": [
        "# df.fillna(0)\n",
        "# df.fillna(df.mean(), inplace=True)\n",
        "# df.dropna()\n",
        "df.interpolate()"
      ],
      "metadata": {
        "id": "bYTW-Avogv7C"
      },
      "execution_count": null,
      "outputs": []
    },
    {
      "cell_type": "markdown",
      "source": [
        "## **joining**"
      ],
      "metadata": {
        "id": "2bB43TAFhBwT"
      }
    },
    {
      "cell_type": "code",
      "source": [
        "# df_part1 = df[[\"Company Name\", \"Model Name\", \"RAM\", \"Battery Capacity\"]]\n",
        "# df_part2 = df[[\"Model Name\", \"Launched Price (Pakistan)\", \"Launched Year\"]]\n",
        "\n",
        "# df_joined = df_part1.set_index(\"Model Name\").join(df_part2.set_index(\"Model Name\"))\n",
        "\n",
        "df_joined\n"
      ],
      "metadata": {
        "colab": {
          "base_uri": "https://localhost:8080/",
          "height": 455
        },
        "id": "_KpwWnUkhFlQ",
        "outputId": "ad827fa5-7418-4a2d-c538-b0224bdf42eb"
      },
      "execution_count": null,
      "outputs": [
        {
          "output_type": "execute_result",
          "data": {
            "text/plain": [
              "                     Company Name   RAM Battery Capacity  \\\n",
              "Model Name                                                 \n",
              "iPhone 16 128GB             Apple   6GB         3,600mAh   \n",
              "iPhone 16 256GB             Apple   6GB         3,600mAh   \n",
              "iPhone 16 512GB             Apple   6GB         3,600mAh   \n",
              "iPhone 16 Plus 128GB        Apple   6GB         4,200mAh   \n",
              "iPhone 16 Plus 256GB        Apple   6GB         4,200mAh   \n",
              "...                           ...   ...              ...   \n",
              "Pad 5G 128GB                 Poco   8GB        10,000mAh   \n",
              "Pad 5G 256GB                 Poco   8GB        10,000mAh   \n",
              "Galaxy Z Fold6 256GB      Samsung  12GB          4400mAh   \n",
              "Galaxy Z Fold6 512GB      Samsung  12GB          4400mAh   \n",
              "Galaxy Z Fold6 1TB        Samsung  12GB          4400mAh   \n",
              "\n",
              "                     Launched Price (Pakistan)  Launched Year  \n",
              "Model Name                                                     \n",
              "iPhone 16 128GB                    PKR 224,999           2022  \n",
              "iPhone 16 256GB                    PKR 234,999           2022  \n",
              "iPhone 16 512GB                    PKR 244,999           2022  \n",
              "iPhone 16 Plus 128GB               PKR 249,999           2022  \n",
              "iPhone 16 Plus 256GB               PKR 259,999           2022  \n",
              "...                                        ...            ...  \n",
              "Pad 5G 128GB                        PKR 66,220           2022  \n",
              "Pad 5G 256GB                        PKR 71,220           2022  \n",
              "Galaxy Z Fold6 256GB               PKR 604,999           2022  \n",
              "Galaxy Z Fold6 512GB               PKR 544,999           2022  \n",
              "Galaxy Z Fold6 1TB               Not available           2022  \n",
              "\n",
              "[978 rows x 5 columns]"
            ],
            "text/html": [
              "\n",
              "  <div id=\"df-3c85753d-4c4a-4bee-8b88-76af253c1373\" class=\"colab-df-container\">\n",
              "    <div>\n",
              "<style scoped>\n",
              "    .dataframe tbody tr th:only-of-type {\n",
              "        vertical-align: middle;\n",
              "    }\n",
              "\n",
              "    .dataframe tbody tr th {\n",
              "        vertical-align: top;\n",
              "    }\n",
              "\n",
              "    .dataframe thead th {\n",
              "        text-align: right;\n",
              "    }\n",
              "</style>\n",
              "<table border=\"1\" class=\"dataframe\">\n",
              "  <thead>\n",
              "    <tr style=\"text-align: right;\">\n",
              "      <th></th>\n",
              "      <th>Company Name</th>\n",
              "      <th>RAM</th>\n",
              "      <th>Battery Capacity</th>\n",
              "      <th>Launched Price (Pakistan)</th>\n",
              "      <th>Launched Year</th>\n",
              "    </tr>\n",
              "    <tr>\n",
              "      <th>Model Name</th>\n",
              "      <th></th>\n",
              "      <th></th>\n",
              "      <th></th>\n",
              "      <th></th>\n",
              "      <th></th>\n",
              "    </tr>\n",
              "  </thead>\n",
              "  <tbody>\n",
              "    <tr>\n",
              "      <th>iPhone 16 128GB</th>\n",
              "      <td>Apple</td>\n",
              "      <td>6GB</td>\n",
              "      <td>3,600mAh</td>\n",
              "      <td>PKR 224,999</td>\n",
              "      <td>2022</td>\n",
              "    </tr>\n",
              "    <tr>\n",
              "      <th>iPhone 16 256GB</th>\n",
              "      <td>Apple</td>\n",
              "      <td>6GB</td>\n",
              "      <td>3,600mAh</td>\n",
              "      <td>PKR 234,999</td>\n",
              "      <td>2022</td>\n",
              "    </tr>\n",
              "    <tr>\n",
              "      <th>iPhone 16 512GB</th>\n",
              "      <td>Apple</td>\n",
              "      <td>6GB</td>\n",
              "      <td>3,600mAh</td>\n",
              "      <td>PKR 244,999</td>\n",
              "      <td>2022</td>\n",
              "    </tr>\n",
              "    <tr>\n",
              "      <th>iPhone 16 Plus 128GB</th>\n",
              "      <td>Apple</td>\n",
              "      <td>6GB</td>\n",
              "      <td>4,200mAh</td>\n",
              "      <td>PKR 249,999</td>\n",
              "      <td>2022</td>\n",
              "    </tr>\n",
              "    <tr>\n",
              "      <th>iPhone 16 Plus 256GB</th>\n",
              "      <td>Apple</td>\n",
              "      <td>6GB</td>\n",
              "      <td>4,200mAh</td>\n",
              "      <td>PKR 259,999</td>\n",
              "      <td>2022</td>\n",
              "    </tr>\n",
              "    <tr>\n",
              "      <th>...</th>\n",
              "      <td>...</td>\n",
              "      <td>...</td>\n",
              "      <td>...</td>\n",
              "      <td>...</td>\n",
              "      <td>...</td>\n",
              "    </tr>\n",
              "    <tr>\n",
              "      <th>Pad 5G 128GB</th>\n",
              "      <td>Poco</td>\n",
              "      <td>8GB</td>\n",
              "      <td>10,000mAh</td>\n",
              "      <td>PKR 66,220</td>\n",
              "      <td>2022</td>\n",
              "    </tr>\n",
              "    <tr>\n",
              "      <th>Pad 5G 256GB</th>\n",
              "      <td>Poco</td>\n",
              "      <td>8GB</td>\n",
              "      <td>10,000mAh</td>\n",
              "      <td>PKR 71,220</td>\n",
              "      <td>2022</td>\n",
              "    </tr>\n",
              "    <tr>\n",
              "      <th>Galaxy Z Fold6 256GB</th>\n",
              "      <td>Samsung</td>\n",
              "      <td>12GB</td>\n",
              "      <td>4400mAh</td>\n",
              "      <td>PKR 604,999</td>\n",
              "      <td>2022</td>\n",
              "    </tr>\n",
              "    <tr>\n",
              "      <th>Galaxy Z Fold6 512GB</th>\n",
              "      <td>Samsung</td>\n",
              "      <td>12GB</td>\n",
              "      <td>4400mAh</td>\n",
              "      <td>PKR 544,999</td>\n",
              "      <td>2022</td>\n",
              "    </tr>\n",
              "    <tr>\n",
              "      <th>Galaxy Z Fold6 1TB</th>\n",
              "      <td>Samsung</td>\n",
              "      <td>12GB</td>\n",
              "      <td>4400mAh</td>\n",
              "      <td>Not available</td>\n",
              "      <td>2022</td>\n",
              "    </tr>\n",
              "  </tbody>\n",
              "</table>\n",
              "<p>978 rows × 5 columns</p>\n",
              "</div>\n",
              "    <div class=\"colab-df-buttons\">\n",
              "\n",
              "  <div class=\"colab-df-container\">\n",
              "    <button class=\"colab-df-convert\" onclick=\"convertToInteractive('df-3c85753d-4c4a-4bee-8b88-76af253c1373')\"\n",
              "            title=\"Convert this dataframe to an interactive table.\"\n",
              "            style=\"display:none;\">\n",
              "\n",
              "  <svg xmlns=\"http://www.w3.org/2000/svg\" height=\"24px\" viewBox=\"0 -960 960 960\">\n",
              "    <path d=\"M120-120v-720h720v720H120Zm60-500h600v-160H180v160Zm220 220h160v-160H400v160Zm0 220h160v-160H400v160ZM180-400h160v-160H180v160Zm440 0h160v-160H620v160ZM180-180h160v-160H180v160Zm440 0h160v-160H620v160Z\"/>\n",
              "  </svg>\n",
              "    </button>\n",
              "\n",
              "  <style>\n",
              "    .colab-df-container {\n",
              "      display:flex;\n",
              "      gap: 12px;\n",
              "    }\n",
              "\n",
              "    .colab-df-convert {\n",
              "      background-color: #E8F0FE;\n",
              "      border: none;\n",
              "      border-radius: 50%;\n",
              "      cursor: pointer;\n",
              "      display: none;\n",
              "      fill: #1967D2;\n",
              "      height: 32px;\n",
              "      padding: 0 0 0 0;\n",
              "      width: 32px;\n",
              "    }\n",
              "\n",
              "    .colab-df-convert:hover {\n",
              "      background-color: #E2EBFA;\n",
              "      box-shadow: 0px 1px 2px rgba(60, 64, 67, 0.3), 0px 1px 3px 1px rgba(60, 64, 67, 0.15);\n",
              "      fill: #174EA6;\n",
              "    }\n",
              "\n",
              "    .colab-df-buttons div {\n",
              "      margin-bottom: 4px;\n",
              "    }\n",
              "\n",
              "    [theme=dark] .colab-df-convert {\n",
              "      background-color: #3B4455;\n",
              "      fill: #D2E3FC;\n",
              "    }\n",
              "\n",
              "    [theme=dark] .colab-df-convert:hover {\n",
              "      background-color: #434B5C;\n",
              "      box-shadow: 0px 1px 3px 1px rgba(0, 0, 0, 0.15);\n",
              "      filter: drop-shadow(0px 1px 2px rgba(0, 0, 0, 0.3));\n",
              "      fill: #FFFFFF;\n",
              "    }\n",
              "  </style>\n",
              "\n",
              "    <script>\n",
              "      const buttonEl =\n",
              "        document.querySelector('#df-3c85753d-4c4a-4bee-8b88-76af253c1373 button.colab-df-convert');\n",
              "      buttonEl.style.display =\n",
              "        google.colab.kernel.accessAllowed ? 'block' : 'none';\n",
              "\n",
              "      async function convertToInteractive(key) {\n",
              "        const element = document.querySelector('#df-3c85753d-4c4a-4bee-8b88-76af253c1373');\n",
              "        const dataTable =\n",
              "          await google.colab.kernel.invokeFunction('convertToInteractive',\n",
              "                                                    [key], {});\n",
              "        if (!dataTable) return;\n",
              "\n",
              "        const docLinkHtml = 'Like what you see? Visit the ' +\n",
              "          '<a target=\"_blank\" href=https://colab.research.google.com/notebooks/data_table.ipynb>data table notebook</a>'\n",
              "          + ' to learn more about interactive tables.';\n",
              "        element.innerHTML = '';\n",
              "        dataTable['output_type'] = 'display_data';\n",
              "        await google.colab.output.renderOutput(dataTable, element);\n",
              "        const docLink = document.createElement('div');\n",
              "        docLink.innerHTML = docLinkHtml;\n",
              "        element.appendChild(docLink);\n",
              "      }\n",
              "    </script>\n",
              "  </div>\n",
              "\n",
              "\n",
              "<div id=\"df-136770b0-6fa0-47bf-aa23-428583756094\">\n",
              "  <button class=\"colab-df-quickchart\" onclick=\"quickchart('df-136770b0-6fa0-47bf-aa23-428583756094')\"\n",
              "            title=\"Suggest charts\"\n",
              "            style=\"display:none;\">\n",
              "\n",
              "<svg xmlns=\"http://www.w3.org/2000/svg\" height=\"24px\"viewBox=\"0 0 24 24\"\n",
              "     width=\"24px\">\n",
              "    <g>\n",
              "        <path d=\"M19 3H5c-1.1 0-2 .9-2 2v14c0 1.1.9 2 2 2h14c1.1 0 2-.9 2-2V5c0-1.1-.9-2-2-2zM9 17H7v-7h2v7zm4 0h-2V7h2v10zm4 0h-2v-4h2v4z\"/>\n",
              "    </g>\n",
              "</svg>\n",
              "  </button>\n",
              "\n",
              "<style>\n",
              "  .colab-df-quickchart {\n",
              "      --bg-color: #E8F0FE;\n",
              "      --fill-color: #1967D2;\n",
              "      --hover-bg-color: #E2EBFA;\n",
              "      --hover-fill-color: #174EA6;\n",
              "      --disabled-fill-color: #AAA;\n",
              "      --disabled-bg-color: #DDD;\n",
              "  }\n",
              "\n",
              "  [theme=dark] .colab-df-quickchart {\n",
              "      --bg-color: #3B4455;\n",
              "      --fill-color: #D2E3FC;\n",
              "      --hover-bg-color: #434B5C;\n",
              "      --hover-fill-color: #FFFFFF;\n",
              "      --disabled-bg-color: #3B4455;\n",
              "      --disabled-fill-color: #666;\n",
              "  }\n",
              "\n",
              "  .colab-df-quickchart {\n",
              "    background-color: var(--bg-color);\n",
              "    border: none;\n",
              "    border-radius: 50%;\n",
              "    cursor: pointer;\n",
              "    display: none;\n",
              "    fill: var(--fill-color);\n",
              "    height: 32px;\n",
              "    padding: 0;\n",
              "    width: 32px;\n",
              "  }\n",
              "\n",
              "  .colab-df-quickchart:hover {\n",
              "    background-color: var(--hover-bg-color);\n",
              "    box-shadow: 0 1px 2px rgba(60, 64, 67, 0.3), 0 1px 3px 1px rgba(60, 64, 67, 0.15);\n",
              "    fill: var(--button-hover-fill-color);\n",
              "  }\n",
              "\n",
              "  .colab-df-quickchart-complete:disabled,\n",
              "  .colab-df-quickchart-complete:disabled:hover {\n",
              "    background-color: var(--disabled-bg-color);\n",
              "    fill: var(--disabled-fill-color);\n",
              "    box-shadow: none;\n",
              "  }\n",
              "\n",
              "  .colab-df-spinner {\n",
              "    border: 2px solid var(--fill-color);\n",
              "    border-color: transparent;\n",
              "    border-bottom-color: var(--fill-color);\n",
              "    animation:\n",
              "      spin 1s steps(1) infinite;\n",
              "  }\n",
              "\n",
              "  @keyframes spin {\n",
              "    0% {\n",
              "      border-color: transparent;\n",
              "      border-bottom-color: var(--fill-color);\n",
              "      border-left-color: var(--fill-color);\n",
              "    }\n",
              "    20% {\n",
              "      border-color: transparent;\n",
              "      border-left-color: var(--fill-color);\n",
              "      border-top-color: var(--fill-color);\n",
              "    }\n",
              "    30% {\n",
              "      border-color: transparent;\n",
              "      border-left-color: var(--fill-color);\n",
              "      border-top-color: var(--fill-color);\n",
              "      border-right-color: var(--fill-color);\n",
              "    }\n",
              "    40% {\n",
              "      border-color: transparent;\n",
              "      border-right-color: var(--fill-color);\n",
              "      border-top-color: var(--fill-color);\n",
              "    }\n",
              "    60% {\n",
              "      border-color: transparent;\n",
              "      border-right-color: var(--fill-color);\n",
              "    }\n",
              "    80% {\n",
              "      border-color: transparent;\n",
              "      border-right-color: var(--fill-color);\n",
              "      border-bottom-color: var(--fill-color);\n",
              "    }\n",
              "    90% {\n",
              "      border-color: transparent;\n",
              "      border-bottom-color: var(--fill-color);\n",
              "    }\n",
              "  }\n",
              "</style>\n",
              "\n",
              "  <script>\n",
              "    async function quickchart(key) {\n",
              "      const quickchartButtonEl =\n",
              "        document.querySelector('#' + key + ' button');\n",
              "      quickchartButtonEl.disabled = true;  // To prevent multiple clicks.\n",
              "      quickchartButtonEl.classList.add('colab-df-spinner');\n",
              "      try {\n",
              "        const charts = await google.colab.kernel.invokeFunction(\n",
              "            'suggestCharts', [key], {});\n",
              "      } catch (error) {\n",
              "        console.error('Error during call to suggestCharts:', error);\n",
              "      }\n",
              "      quickchartButtonEl.classList.remove('colab-df-spinner');\n",
              "      quickchartButtonEl.classList.add('colab-df-quickchart-complete');\n",
              "    }\n",
              "    (() => {\n",
              "      let quickchartButtonEl =\n",
              "        document.querySelector('#df-136770b0-6fa0-47bf-aa23-428583756094 button');\n",
              "      quickchartButtonEl.style.display =\n",
              "        google.colab.kernel.accessAllowed ? 'block' : 'none';\n",
              "    })();\n",
              "  </script>\n",
              "</div>\n",
              "\n",
              "  <div id=\"id_02f68bbf-459f-458b-8d01-f61d1483538b\">\n",
              "    <style>\n",
              "      .colab-df-generate {\n",
              "        background-color: #E8F0FE;\n",
              "        border: none;\n",
              "        border-radius: 50%;\n",
              "        cursor: pointer;\n",
              "        display: none;\n",
              "        fill: #1967D2;\n",
              "        height: 32px;\n",
              "        padding: 0 0 0 0;\n",
              "        width: 32px;\n",
              "      }\n",
              "\n",
              "      .colab-df-generate:hover {\n",
              "        background-color: #E2EBFA;\n",
              "        box-shadow: 0px 1px 2px rgba(60, 64, 67, 0.3), 0px 1px 3px 1px rgba(60, 64, 67, 0.15);\n",
              "        fill: #174EA6;\n",
              "      }\n",
              "\n",
              "      [theme=dark] .colab-df-generate {\n",
              "        background-color: #3B4455;\n",
              "        fill: #D2E3FC;\n",
              "      }\n",
              "\n",
              "      [theme=dark] .colab-df-generate:hover {\n",
              "        background-color: #434B5C;\n",
              "        box-shadow: 0px 1px 3px 1px rgba(0, 0, 0, 0.15);\n",
              "        filter: drop-shadow(0px 1px 2px rgba(0, 0, 0, 0.3));\n",
              "        fill: #FFFFFF;\n",
              "      }\n",
              "    </style>\n",
              "    <button class=\"colab-df-generate\" onclick=\"generateWithVariable('df_joined')\"\n",
              "            title=\"Generate code using this dataframe.\"\n",
              "            style=\"display:none;\">\n",
              "\n",
              "  <svg xmlns=\"http://www.w3.org/2000/svg\" height=\"24px\"viewBox=\"0 0 24 24\"\n",
              "       width=\"24px\">\n",
              "    <path d=\"M7,19H8.4L18.45,9,17,7.55,7,17.6ZM5,21V16.75L18.45,3.32a2,2,0,0,1,2.83,0l1.4,1.43a1.91,1.91,0,0,1,.58,1.4,1.91,1.91,0,0,1-.58,1.4L9.25,21ZM18.45,9,17,7.55Zm-12,3A5.31,5.31,0,0,0,4.9,8.1,5.31,5.31,0,0,0,1,6.5,5.31,5.31,0,0,0,4.9,4.9,5.31,5.31,0,0,0,6.5,1,5.31,5.31,0,0,0,8.1,4.9,5.31,5.31,0,0,0,12,6.5,5.46,5.46,0,0,0,6.5,12Z\"/>\n",
              "  </svg>\n",
              "    </button>\n",
              "    <script>\n",
              "      (() => {\n",
              "      const buttonEl =\n",
              "        document.querySelector('#id_02f68bbf-459f-458b-8d01-f61d1483538b button.colab-df-generate');\n",
              "      buttonEl.style.display =\n",
              "        google.colab.kernel.accessAllowed ? 'block' : 'none';\n",
              "\n",
              "      buttonEl.onclick = () => {\n",
              "        google.colab.notebook.generateWithVariable('df_joined');\n",
              "      }\n",
              "      })();\n",
              "    </script>\n",
              "  </div>\n",
              "\n",
              "    </div>\n",
              "  </div>\n"
            ],
            "application/vnd.google.colaboratory.intrinsic+json": {
              "type": "dataframe",
              "variable_name": "df_joined",
              "summary": "{\n  \"name\": \"df_joined\",\n  \"rows\": 978,\n  \"fields\": [\n    {\n      \"column\": \"Model Name\",\n      \"properties\": {\n        \"dtype\": \"string\",\n        \"num_unique_values\": 908,\n        \"samples\": [\n          \"Pad X8a Kids Edition\",\n          \"GT 6 512GB\",\n          \"A3 128GB\"\n        ],\n        \"semantic_type\": \"\",\n        \"description\": \"\"\n      }\n    },\n    {\n      \"column\": \"Company Name\",\n      \"properties\": {\n        \"dtype\": \"category\",\n        \"num_unique_values\": 19,\n        \"samples\": [\n          \"Apple\",\n          \"Oppo\",\n          \"Nokia\"\n        ],\n        \"semantic_type\": \"\",\n        \"description\": \"\"\n      }\n    },\n    {\n      \"column\": \"RAM\",\n      \"properties\": {\n        \"dtype\": \"category\",\n        \"num_unique_values\": 11,\n        \"samples\": [\n          \"2GB\",\n          \"6GB\",\n          \"1GB\"\n        ],\n        \"semantic_type\": \"\",\n        \"description\": \"\"\n      }\n    },\n    {\n      \"column\": \"Battery Capacity\",\n      \"properties\": {\n        \"dtype\": \"category\",\n        \"num_unique_values\": 147,\n        \"samples\": [\n          \"4,410mAh\",\n          \"7600mAh\",\n          \"7,250mAh\"\n        ],\n        \"semantic_type\": \"\",\n        \"description\": \"\"\n      }\n    },\n    {\n      \"column\": \"Launched Price (Pakistan)\",\n      \"properties\": {\n        \"dtype\": \"category\",\n        \"num_unique_values\": 157,\n        \"samples\": [\n          \"PKR 56,999\",\n          \"PKR 350,000\",\n          \"PKR 38,999\"\n        ],\n        \"semantic_type\": \"\",\n        \"description\": \"\"\n      }\n    },\n    {\n      \"column\": \"Launched Year\",\n      \"properties\": {\n        \"dtype\": \"number\",\n        \"std\": 1,\n        \"min\": 2012,\n        \"max\": 2023,\n        \"num_unique_values\": 11,\n        \"samples\": [\n          2017,\n          2022,\n          2012\n        ],\n        \"semantic_type\": \"\",\n        \"description\": \"\"\n      }\n    }\n  ]\n}"
            }
          },
          "metadata": {},
          "execution_count": 104
        }
      ]
    }
  ]
}