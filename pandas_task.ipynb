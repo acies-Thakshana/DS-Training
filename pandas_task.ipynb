{
 "cells": [
  {
   "cell_type": "markdown",
   "metadata": {},
   "source": [
    "#reading the dataset "
   ]
  },
  {
   "cell_type": "code",
   "execution_count": 24,
   "metadata": {},
   "outputs": [],
   "source": [
    "import pandas as pd \n",
    "sales_df=pd.read_csv(r\"C:\\Users\\HP\\Downloads\\superstore_sales.csv\")"
   ]
  },
  {
   "cell_type": "code",
   "execution_count": 25,
   "metadata": {},
   "outputs": [
    {
     "data": {
      "text/html": [
       "<div>\n",
       "<style scoped>\n",
       "    .dataframe tbody tr th:only-of-type {\n",
       "        vertical-align: middle;\n",
       "    }\n",
       "\n",
       "    .dataframe tbody tr th {\n",
       "        vertical-align: top;\n",
       "    }\n",
       "\n",
       "    .dataframe thead th {\n",
       "        text-align: right;\n",
       "    }\n",
       "</style>\n",
       "<table border=\"1\" class=\"dataframe\">\n",
       "  <thead>\n",
       "    <tr style=\"text-align: right;\">\n",
       "      <th></th>\n",
       "      <th>Order ID</th>\n",
       "      <th>Order Date</th>\n",
       "      <th>Ship Date</th>\n",
       "      <th>Customer ID</th>\n",
       "      <th>Customer Name</th>\n",
       "      <th>Segment</th>\n",
       "      <th>City</th>\n",
       "      <th>State</th>\n",
       "      <th>Region</th>\n",
       "      <th>Product Category</th>\n",
       "      <th>Sub-Category</th>\n",
       "      <th>Product Name</th>\n",
       "      <th>Sales</th>\n",
       "      <th>Quantity</th>\n",
       "      <th>Discount</th>\n",
       "      <th>Profit</th>\n",
       "    </tr>\n",
       "  </thead>\n",
       "  <tbody>\n",
       "    <tr>\n",
       "      <th>0</th>\n",
       "      <td>ORD10000</td>\n",
       "      <td>2023-01-01 00:00:00</td>\n",
       "      <td>2023-01-03 00:00:00</td>\n",
       "      <td>CUST202</td>\n",
       "      <td>Customer 0</td>\n",
       "      <td>Home Office</td>\n",
       "      <td>New York</td>\n",
       "      <td>TX</td>\n",
       "      <td>East</td>\n",
       "      <td>Office Supplies</td>\n",
       "      <td>Chairs</td>\n",
       "      <td>Product 0</td>\n",
       "      <td>496.74</td>\n",
       "      <td>1</td>\n",
       "      <td>0.21</td>\n",
       "      <td>29.81</td>\n",
       "    </tr>\n",
       "    <tr>\n",
       "      <th>1</th>\n",
       "      <td>ORD10001</td>\n",
       "      <td>2023-01-01 01:00:00</td>\n",
       "      <td>2023-01-03 01:00:00</td>\n",
       "      <td>CUST535</td>\n",
       "      <td>Customer 1</td>\n",
       "      <td>Corporate</td>\n",
       "      <td>Chicago</td>\n",
       "      <td>TX</td>\n",
       "      <td>East</td>\n",
       "      <td>Technology</td>\n",
       "      <td>Tables</td>\n",
       "      <td>Product 1</td>\n",
       "      <td>215.69</td>\n",
       "      <td>1</td>\n",
       "      <td>0.36</td>\n",
       "      <td>28.81</td>\n",
       "    </tr>\n",
       "    <tr>\n",
       "      <th>2</th>\n",
       "      <td>ORD10002</td>\n",
       "      <td>2023-01-01 02:00:00</td>\n",
       "      <td>2023-01-03 02:00:00</td>\n",
       "      <td>CUST960</td>\n",
       "      <td>Customer 2</td>\n",
       "      <td>Consumer</td>\n",
       "      <td>Chicago</td>\n",
       "      <td>TX</td>\n",
       "      <td>West</td>\n",
       "      <td>Furniture</td>\n",
       "      <td>Binders</td>\n",
       "      <td>Product 2</td>\n",
       "      <td>273.07</td>\n",
       "      <td>9</td>\n",
       "      <td>0.45</td>\n",
       "      <td>-22.71</td>\n",
       "    </tr>\n",
       "    <tr>\n",
       "      <th>3</th>\n",
       "      <td>ORD10003</td>\n",
       "      <td>2023-01-01 03:00:00</td>\n",
       "      <td>2023-01-03 03:00:00</td>\n",
       "      <td>CUST370</td>\n",
       "      <td>Customer 3</td>\n",
       "      <td>Consumer</td>\n",
       "      <td>Los Angeles</td>\n",
       "      <td>NY</td>\n",
       "      <td>South</td>\n",
       "      <td>Furniture</td>\n",
       "      <td>Binders</td>\n",
       "      <td>Product 3</td>\n",
       "      <td>404.94</td>\n",
       "      <td>8</td>\n",
       "      <td>0.42</td>\n",
       "      <td>132.39</td>\n",
       "    </tr>\n",
       "    <tr>\n",
       "      <th>4</th>\n",
       "      <td>ORD10004</td>\n",
       "      <td>2023-01-01 04:00:00</td>\n",
       "      <td>2023-01-03 04:00:00</td>\n",
       "      <td>CUST206</td>\n",
       "      <td>Customer 4</td>\n",
       "      <td>Consumer</td>\n",
       "      <td>San Francisco</td>\n",
       "      <td>IL</td>\n",
       "      <td>East</td>\n",
       "      <td>Furniture</td>\n",
       "      <td>Chairs</td>\n",
       "      <td>Product 4</td>\n",
       "      <td>480.63</td>\n",
       "      <td>9</td>\n",
       "      <td>0.26</td>\n",
       "      <td>-15.96</td>\n",
       "    </tr>\n",
       "  </tbody>\n",
       "</table>\n",
       "</div>"
      ],
      "text/plain": [
       "   Order ID           Order Date            Ship Date Customer ID  \\\n",
       "0  ORD10000  2023-01-01 00:00:00  2023-01-03 00:00:00     CUST202   \n",
       "1  ORD10001  2023-01-01 01:00:00  2023-01-03 01:00:00     CUST535   \n",
       "2  ORD10002  2023-01-01 02:00:00  2023-01-03 02:00:00     CUST960   \n",
       "3  ORD10003  2023-01-01 03:00:00  2023-01-03 03:00:00     CUST370   \n",
       "4  ORD10004  2023-01-01 04:00:00  2023-01-03 04:00:00     CUST206   \n",
       "\n",
       "  Customer Name      Segment           City State Region Product Category  \\\n",
       "0    Customer 0  Home Office       New York    TX   East  Office Supplies   \n",
       "1    Customer 1    Corporate        Chicago    TX   East       Technology   \n",
       "2    Customer 2     Consumer        Chicago    TX   West        Furniture   \n",
       "3    Customer 3     Consumer    Los Angeles    NY  South        Furniture   \n",
       "4    Customer 4     Consumer  San Francisco    IL   East        Furniture   \n",
       "\n",
       "  Sub-Category Product Name   Sales  Quantity  Discount  Profit  \n",
       "0       Chairs    Product 0  496.74         1      0.21   29.81  \n",
       "1       Tables    Product 1  215.69         1      0.36   28.81  \n",
       "2      Binders    Product 2  273.07         9      0.45  -22.71  \n",
       "3      Binders    Product 3  404.94         8      0.42  132.39  \n",
       "4       Chairs    Product 4  480.63         9      0.26  -15.96  "
      ]
     },
     "execution_count": 25,
     "metadata": {},
     "output_type": "execute_result"
    }
   ],
   "source": [
    "sales_df.head()"
   ]
  },
  {
   "cell_type": "code",
   "execution_count": 26,
   "metadata": {},
   "outputs": [
    {
     "data": {
      "text/html": [
       "<div>\n",
       "<style scoped>\n",
       "    .dataframe tbody tr th:only-of-type {\n",
       "        vertical-align: middle;\n",
       "    }\n",
       "\n",
       "    .dataframe tbody tr th {\n",
       "        vertical-align: top;\n",
       "    }\n",
       "\n",
       "    .dataframe thead th {\n",
       "        text-align: right;\n",
       "    }\n",
       "</style>\n",
       "<table border=\"1\" class=\"dataframe\">\n",
       "  <thead>\n",
       "    <tr style=\"text-align: right;\">\n",
       "      <th></th>\n",
       "      <th>Order ID</th>\n",
       "      <th>Order Date</th>\n",
       "      <th>Ship Date</th>\n",
       "      <th>Customer ID</th>\n",
       "      <th>Customer Name</th>\n",
       "      <th>Segment</th>\n",
       "      <th>City</th>\n",
       "      <th>State</th>\n",
       "      <th>Region</th>\n",
       "      <th>Product Category</th>\n",
       "      <th>Sub-Category</th>\n",
       "      <th>Product Name</th>\n",
       "      <th>Sales</th>\n",
       "      <th>Quantity</th>\n",
       "      <th>Discount</th>\n",
       "      <th>Profit</th>\n",
       "    </tr>\n",
       "  </thead>\n",
       "  <tbody>\n",
       "    <tr>\n",
       "      <th>4995</th>\n",
       "      <td>ORD14995</td>\n",
       "      <td>2023-07-28 03:00:00</td>\n",
       "      <td>2023-07-30 03:00:00</td>\n",
       "      <td>CUST504</td>\n",
       "      <td>Customer 4995</td>\n",
       "      <td>Consumer</td>\n",
       "      <td>Los Angeles</td>\n",
       "      <td>CA</td>\n",
       "      <td>East</td>\n",
       "      <td>Furniture</td>\n",
       "      <td>Accessories</td>\n",
       "      <td>Product 4995</td>\n",
       "      <td>460.92</td>\n",
       "      <td>4</td>\n",
       "      <td>0.41</td>\n",
       "      <td>87.12</td>\n",
       "    </tr>\n",
       "    <tr>\n",
       "      <th>4996</th>\n",
       "      <td>ORD14996</td>\n",
       "      <td>2023-07-28 04:00:00</td>\n",
       "      <td>2023-07-30 04:00:00</td>\n",
       "      <td>CUST561</td>\n",
       "      <td>Customer 4996</td>\n",
       "      <td>Home Office</td>\n",
       "      <td>San Francisco</td>\n",
       "      <td>TX</td>\n",
       "      <td>West</td>\n",
       "      <td>Technology</td>\n",
       "      <td>Phones</td>\n",
       "      <td>Product 4996</td>\n",
       "      <td>278.46</td>\n",
       "      <td>6</td>\n",
       "      <td>0.47</td>\n",
       "      <td>174.69</td>\n",
       "    </tr>\n",
       "    <tr>\n",
       "      <th>4997</th>\n",
       "      <td>ORD14997</td>\n",
       "      <td>2023-07-28 05:00:00</td>\n",
       "      <td>2023-07-30 05:00:00</td>\n",
       "      <td>CUST231</td>\n",
       "      <td>Customer 4997</td>\n",
       "      <td>Corporate</td>\n",
       "      <td>New York</td>\n",
       "      <td>CA</td>\n",
       "      <td>South</td>\n",
       "      <td>Office Supplies</td>\n",
       "      <td>Phones</td>\n",
       "      <td>Product 4997</td>\n",
       "      <td>292.11</td>\n",
       "      <td>9</td>\n",
       "      <td>0.40</td>\n",
       "      <td>122.06</td>\n",
       "    </tr>\n",
       "    <tr>\n",
       "      <th>4998</th>\n",
       "      <td>ORD14998</td>\n",
       "      <td>2023-07-28 06:00:00</td>\n",
       "      <td>2023-07-30 06:00:00</td>\n",
       "      <td>CUST890</td>\n",
       "      <td>Customer 4998</td>\n",
       "      <td>Corporate</td>\n",
       "      <td>Houston</td>\n",
       "      <td>CA</td>\n",
       "      <td>West</td>\n",
       "      <td>Technology</td>\n",
       "      <td>Accessories</td>\n",
       "      <td>Product 4998</td>\n",
       "      <td>163.15</td>\n",
       "      <td>3</td>\n",
       "      <td>0.44</td>\n",
       "      <td>-16.05</td>\n",
       "    </tr>\n",
       "    <tr>\n",
       "      <th>4999</th>\n",
       "      <td>ORD14999</td>\n",
       "      <td>2023-07-28 07:00:00</td>\n",
       "      <td>2023-07-30 07:00:00</td>\n",
       "      <td>CUST973</td>\n",
       "      <td>Customer 4999</td>\n",
       "      <td>Corporate</td>\n",
       "      <td>Los Angeles</td>\n",
       "      <td>TX</td>\n",
       "      <td>Central</td>\n",
       "      <td>Technology</td>\n",
       "      <td>Binders</td>\n",
       "      <td>Product 4999</td>\n",
       "      <td>479.55</td>\n",
       "      <td>4</td>\n",
       "      <td>0.10</td>\n",
       "      <td>-20.98</td>\n",
       "    </tr>\n",
       "  </tbody>\n",
       "</table>\n",
       "</div>"
      ],
      "text/plain": [
       "      Order ID           Order Date            Ship Date Customer ID  \\\n",
       "4995  ORD14995  2023-07-28 03:00:00  2023-07-30 03:00:00     CUST504   \n",
       "4996  ORD14996  2023-07-28 04:00:00  2023-07-30 04:00:00     CUST561   \n",
       "4997  ORD14997  2023-07-28 05:00:00  2023-07-30 05:00:00     CUST231   \n",
       "4998  ORD14998  2023-07-28 06:00:00  2023-07-30 06:00:00     CUST890   \n",
       "4999  ORD14999  2023-07-28 07:00:00  2023-07-30 07:00:00     CUST973   \n",
       "\n",
       "      Customer Name      Segment           City State   Region  \\\n",
       "4995  Customer 4995     Consumer    Los Angeles    CA     East   \n",
       "4996  Customer 4996  Home Office  San Francisco    TX     West   \n",
       "4997  Customer 4997    Corporate       New York    CA    South   \n",
       "4998  Customer 4998    Corporate        Houston    CA     West   \n",
       "4999  Customer 4999    Corporate    Los Angeles    TX  Central   \n",
       "\n",
       "     Product Category Sub-Category  Product Name   Sales  Quantity  Discount  \\\n",
       "4995        Furniture  Accessories  Product 4995  460.92         4      0.41   \n",
       "4996       Technology       Phones  Product 4996  278.46         6      0.47   \n",
       "4997  Office Supplies       Phones  Product 4997  292.11         9      0.40   \n",
       "4998       Technology  Accessories  Product 4998  163.15         3      0.44   \n",
       "4999       Technology      Binders  Product 4999  479.55         4      0.10   \n",
       "\n",
       "      Profit  \n",
       "4995   87.12  \n",
       "4996  174.69  \n",
       "4997  122.06  \n",
       "4998  -16.05  \n",
       "4999  -20.98  "
      ]
     },
     "execution_count": 26,
     "metadata": {},
     "output_type": "execute_result"
    }
   ],
   "source": [
    "sales_df.tail()"
   ]
  },
  {
   "cell_type": "code",
   "execution_count": 27,
   "metadata": {},
   "outputs": [
    {
     "data": {
      "text/plain": [
       "(5000, 16)"
      ]
     },
     "execution_count": 27,
     "metadata": {},
     "output_type": "execute_result"
    }
   ],
   "source": [
    "sales_df.shape"
   ]
  },
  {
   "cell_type": "code",
   "execution_count": 28,
   "metadata": {},
   "outputs": [
    {
     "data": {
      "text/plain": [
       "<bound method DataFrame.info of       Order ID           Order Date            Ship Date Customer ID  \\\n",
       "0     ORD10000  2023-01-01 00:00:00  2023-01-03 00:00:00     CUST202   \n",
       "1     ORD10001  2023-01-01 01:00:00  2023-01-03 01:00:00     CUST535   \n",
       "2     ORD10002  2023-01-01 02:00:00  2023-01-03 02:00:00     CUST960   \n",
       "3     ORD10003  2023-01-01 03:00:00  2023-01-03 03:00:00     CUST370   \n",
       "4     ORD10004  2023-01-01 04:00:00  2023-01-03 04:00:00     CUST206   \n",
       "...        ...                  ...                  ...         ...   \n",
       "4995  ORD14995  2023-07-28 03:00:00  2023-07-30 03:00:00     CUST504   \n",
       "4996  ORD14996  2023-07-28 04:00:00  2023-07-30 04:00:00     CUST561   \n",
       "4997  ORD14997  2023-07-28 05:00:00  2023-07-30 05:00:00     CUST231   \n",
       "4998  ORD14998  2023-07-28 06:00:00  2023-07-30 06:00:00     CUST890   \n",
       "4999  ORD14999  2023-07-28 07:00:00  2023-07-30 07:00:00     CUST973   \n",
       "\n",
       "      Customer Name      Segment           City State   Region  \\\n",
       "0        Customer 0  Home Office       New York    TX     East   \n",
       "1        Customer 1    Corporate        Chicago    TX     East   \n",
       "2        Customer 2     Consumer        Chicago    TX     West   \n",
       "3        Customer 3     Consumer    Los Angeles    NY    South   \n",
       "4        Customer 4     Consumer  San Francisco    IL     East   \n",
       "...             ...          ...            ...   ...      ...   \n",
       "4995  Customer 4995     Consumer    Los Angeles    CA     East   \n",
       "4996  Customer 4996  Home Office  San Francisco    TX     West   \n",
       "4997  Customer 4997    Corporate       New York    CA    South   \n",
       "4998  Customer 4998    Corporate        Houston    CA     West   \n",
       "4999  Customer 4999    Corporate    Los Angeles    TX  Central   \n",
       "\n",
       "     Product Category Sub-Category  Product Name   Sales  Quantity  Discount  \\\n",
       "0     Office Supplies       Chairs     Product 0  496.74         1      0.21   \n",
       "1          Technology       Tables     Product 1  215.69         1      0.36   \n",
       "2           Furniture      Binders     Product 2  273.07         9      0.45   \n",
       "3           Furniture      Binders     Product 3  404.94         8      0.42   \n",
       "4           Furniture       Chairs     Product 4  480.63         9      0.26   \n",
       "...               ...          ...           ...     ...       ...       ...   \n",
       "4995        Furniture  Accessories  Product 4995  460.92         4      0.41   \n",
       "4996       Technology       Phones  Product 4996  278.46         6      0.47   \n",
       "4997  Office Supplies       Phones  Product 4997  292.11         9      0.40   \n",
       "4998       Technology  Accessories  Product 4998  163.15         3      0.44   \n",
       "4999       Technology      Binders  Product 4999  479.55         4      0.10   \n",
       "\n",
       "      Profit  \n",
       "0      29.81  \n",
       "1      28.81  \n",
       "2     -22.71  \n",
       "3     132.39  \n",
       "4     -15.96  \n",
       "...      ...  \n",
       "4995   87.12  \n",
       "4996  174.69  \n",
       "4997  122.06  \n",
       "4998  -16.05  \n",
       "4999  -20.98  \n",
       "\n",
       "[5000 rows x 16 columns]>"
      ]
     },
     "execution_count": 28,
     "metadata": {},
     "output_type": "execute_result"
    }
   ],
   "source": [
    "sales_df.info"
   ]
  },
  {
   "cell_type": "code",
   "execution_count": 29,
   "metadata": {},
   "outputs": [
    {
     "data": {
      "text/plain": [
       "Order ID            0\n",
       "Order Date          0\n",
       "Ship Date           0\n",
       "Customer ID         0\n",
       "Customer Name       0\n",
       "Segment             0\n",
       "City                0\n",
       "State               0\n",
       "Region              0\n",
       "Product Category    0\n",
       "Sub-Category        0\n",
       "Product Name        0\n",
       "Sales               0\n",
       "Quantity            0\n",
       "Discount            0\n",
       "Profit              0\n",
       "dtype: int64"
      ]
     },
     "execution_count": 29,
     "metadata": {},
     "output_type": "execute_result"
    }
   ],
   "source": [
    "sales_df.isnull().sum()"
   ]
  },
  {
   "cell_type": "code",
   "execution_count": 31,
   "metadata": {},
   "outputs": [
    {
     "data": {
      "text/html": [
       "<div>\n",
       "<style scoped>\n",
       "    .dataframe tbody tr th:only-of-type {\n",
       "        vertical-align: middle;\n",
       "    }\n",
       "\n",
       "    .dataframe tbody tr th {\n",
       "        vertical-align: top;\n",
       "    }\n",
       "\n",
       "    .dataframe thead th {\n",
       "        text-align: right;\n",
       "    }\n",
       "</style>\n",
       "<table border=\"1\" class=\"dataframe\">\n",
       "  <thead>\n",
       "    <tr style=\"text-align: right;\">\n",
       "      <th></th>\n",
       "      <th>Order ID</th>\n",
       "      <th>Order Date</th>\n",
       "      <th>Ship Date</th>\n",
       "      <th>Customer ID</th>\n",
       "      <th>Customer Name</th>\n",
       "      <th>Segment</th>\n",
       "      <th>City</th>\n",
       "      <th>State</th>\n",
       "      <th>Region</th>\n",
       "      <th>Product Category</th>\n",
       "      <th>Sub-Category</th>\n",
       "      <th>Product Name</th>\n",
       "      <th>Sales</th>\n",
       "      <th>Quantity</th>\n",
       "      <th>Discount</th>\n",
       "      <th>Profit</th>\n",
       "    </tr>\n",
       "  </thead>\n",
       "  <tbody>\n",
       "  </tbody>\n",
       "</table>\n",
       "</div>"
      ],
      "text/plain": [
       "Empty DataFrame\n",
       "Columns: [Order ID, Order Date, Ship Date, Customer ID, Customer Name, Segment, City, State, Region, Product Category, Sub-Category, Product Name, Sales, Quantity, Discount, Profit]\n",
       "Index: []"
      ]
     },
     "execution_count": 31,
     "metadata": {},
     "output_type": "execute_result"
    }
   ],
   "source": [
    "sales_df[sales_df.duplicated(keep='first')]"
   ]
  },
  {
   "cell_type": "code",
   "execution_count": null,
   "metadata": {},
   "outputs": [
    {
     "name": "stdout",
     "output_type": "stream",
     "text": [
      "0\n"
     ]
    }
   ],
   "source": [
    "print(sales_df.duplicated().sum())\n"
   ]
  },
  {
   "cell_type": "markdown",
   "metadata": {},
   "source": [
    "Data types of every column"
   ]
  },
  {
   "cell_type": "code",
   "execution_count": 33,
   "metadata": {},
   "outputs": [
    {
     "data": {
      "text/plain": [
       "Order ID             object\n",
       "Order Date           object\n",
       "Ship Date            object\n",
       "Customer ID          object\n",
       "Customer Name        object\n",
       "Segment              object\n",
       "City                 object\n",
       "State                object\n",
       "Region               object\n",
       "Product Category     object\n",
       "Sub-Category         object\n",
       "Product Name         object\n",
       "Sales               float64\n",
       "Quantity              int64\n",
       "Discount            float64\n",
       "Profit              float64\n",
       "dtype: object"
      ]
     },
     "execution_count": 33,
     "metadata": {},
     "output_type": "execute_result"
    }
   ],
   "source": [
    "sales_df.dtypes"
   ]
  },
  {
   "cell_type": "markdown",
   "metadata": {},
   "source": [
    "Converting all the date colums into date format"
   ]
  },
  {
   "cell_type": "code",
   "execution_count": 34,
   "metadata": {},
   "outputs": [],
   "source": [
    "sales_df['Order Date']=pd.to_datetime(sales_df['Order Date'])\n",
    "sales_df['Ship Date']=pd.to_datetime(sales_df['Ship Date'])"
   ]
  },
  {
   "cell_type": "code",
   "execution_count": 38,
   "metadata": {},
   "outputs": [],
   "source": [
    "#create separate columns for month,year and quarter\n",
    "sales_df['month']=sales_df['Order Date'].dt.month\n",
    "sales_df['quarter']=sales_df['Order Date'].dt.to_period('Q')\n",
    "sales_df['year']=sales_df['Order Date'].dt.year"
   ]
  },
  {
   "cell_type": "code",
   "execution_count": 41,
   "metadata": {},
   "outputs": [
    {
     "name": "stdout",
     "output_type": "stream",
     "text": [
      "   month      Sales\n",
      "0      1  182717.07\n",
      "1      2  174166.42\n",
      "2      3  195344.15\n",
      "3      4  180518.76\n",
      "4      5  187779.84\n",
      "5      6  182705.37\n",
      "6      7  170098.06\n",
      "   year       Sales\n",
      "0  2023  1273329.67\n",
      "  quarter      Sales\n",
      "0  2023Q1  552227.64\n",
      "1  2023Q2  551003.97\n",
      "2  2023Q3  170098.06\n"
     ]
    }
   ],
   "source": [
    "#analyse sales trend\n",
    "mon_sales=sales_df.groupby('month')['Sales'].sum().reset_index()\n",
    "print(mon_sales)\n",
    "year_sales=sales_df.groupby('year')['Sales'].sum().reset_index()\n",
    "print(year_sales)\n",
    "quarter_sales=sales_df.groupby('quarter')['Sales'].sum().reset_index()\n",
    "print(quarter_sales)"
   ]
  },
  {
   "cell_type": "code",
   "execution_count": 44,
   "metadata": {},
   "outputs": [
    {
     "data": {
      "image/png": "[encoded data removed]",
      "text/plain": [
       "<Figure size 1000x500 with 1 Axes>"
      ]
     },
     "metadata": {},
     "output_type": "display_data"
    }
   ],
   "source": [
    "import matplotlib.pyplot as plt\n",
    "\n",
    "plt.figure(figsize=(10,5))\n",
    "plt.plot(mon_sales['month'].astype(str), mon_sales['Sales'], marker='o', linestyle='-')\n",
    "plt.xticks(rotation=45)\n",
    "plt.xlabel(\"Month\")\n",
    "plt.ylabel(\"Total Sales\")\n",
    "plt.title(\"Monthly Sales Trend\")\n",
    "plt.show()\n"
   ]
  },
  {
   "cell_type": "code",
   "execution_count": null,
   "metadata": {},
   "outputs": [
    {
     "name": "stdout",
     "output_type": "stream",
     "text": [
      "City\n",
      "Houston          33584.76\n",
      "Los Angeles      35956.72\n",
      "New York         40262.49\n",
      "Chicago          42393.33\n",
      "San Francisco    43146.85\n",
      "Name: Sales, dtype: float64\n"
     ]
    }
   ],
   "source": [
    "#analyzing which city doesnt perform well in march\n",
    "march_sales = sales_df[sales_df['Order Date'].dt.month == 3].groupby(sales_df['City'])['Sales'].sum().sort_values()\n",
    "print(march_sales)\n"
   ]
  },
  {
   "cell_type": "code",
   "execution_count": null,
   "metadata": {},
   "outputs": [
    {
     "name": "stdout",
     "output_type": "stream",
     "text": [
      "Product Category\n",
      "Furniture          81925.88\n",
      "Technology         86639.94\n",
      "Office Supplies    87038.46\n",
      "Name: Sales, dtype: float64\n"
     ]
    }
   ],
   "source": [
    "#analyzing which is performing bad and good in houston\n",
    "houston_category_sales = sales_df[sales_df['City'] == 'Houston'].groupby('Product Category')['Sales'].sum().sort_values()\n",
    "print(houston_category_sales)\n"
   ]
  },
  {
   "cell_type": "code",
   "execution_count": null,
   "metadata": {},
   "outputs": [
    {
     "name": "stdout",
     "output_type": "stream",
     "text": [
      "Discount\n",
      "0.19     306.49\n",
      "0.26     383.50\n",
      "0.23     388.20\n",
      "0.14     530.39\n",
      "0.06     562.73\n",
      "0.02     700.86\n",
      "0.40     727.52\n",
      "0.47     786.05\n",
      "0.17     858.34\n",
      "0.03     878.55\n",
      "0.33     887.26\n",
      "0.32     926.50\n",
      "0.22     943.87\n",
      "0.30     967.63\n",
      "0.18    1011.46\n",
      "0.37    1089.03\n",
      "0.00    1287.65\n",
      "0.35    1294.17\n",
      "0.29    1301.66\n",
      "0.24    1348.96\n",
      "0.21    1392.66\n",
      "0.28    1614.57\n",
      "0.48    1616.97\n",
      "0.31    1627.35\n",
      "0.43    1628.84\n",
      "0.27    1709.22\n",
      "0.10    1736.87\n",
      "0.08    1741.16\n",
      "0.12    1795.10\n",
      "0.41    1820.62\n",
      "0.45    1861.80\n",
      "0.44    1863.10\n",
      "0.38    1930.44\n",
      "0.39    1979.95\n",
      "0.50    1998.99\n",
      "0.11    2023.33\n",
      "0.49    2063.65\n",
      "0.20    2144.29\n",
      "0.42    2181.52\n",
      "0.04    2197.38\n",
      "0.15    2205.33\n",
      "0.01    2208.58\n",
      "0.25    2291.01\n",
      "0.05    2429.57\n",
      "0.16    2434.89\n",
      "0.09    2508.82\n",
      "0.46    2542.96\n",
      "0.36    2591.15\n",
      "0.07    2663.34\n",
      "0.13    2731.25\n",
      "0.34    3210.35\n",
      "Name: Sales, dtype: float64\n"
     ]
    }
   ],
   "source": [
    "#nalysing whether discounts has any impact on sales in houston\n",
    "houston_discount_sales = sales_df[\n",
    "    (sales_df['City'] == 'Houston') & (sales_df['Product Category'] == 'Furniture')\n",
    "].groupby('Discount')['Sales'].sum().sort_values()\n",
    "\n",
    "print(houston_discount_sales)\n"
   ]
  },
  {
   "cell_type": "code",
   "execution_count": null,
   "metadata": {},
   "outputs": [
    {
     "name": "stdout",
     "output_type": "stream",
     "text": [
      "Segment\n",
      "Consumer       70667.62\n",
      "Home Office    85940.17\n",
      "Corporate      98996.49\n",
      "Name: Sales, dtype: float64\n"
     ]
    }
   ],
   "source": [
    "#analysing which segment has the lowest Sales\n",
    "houston_segment_sales = sales_df[sales_df['City'] == 'Houston'].groupby('Segment')['Sales'].sum().sort_values()\n",
    "print(houston_segment_sales)\n"
   ]
  },
  {
   "cell_type": "code",
   "execution_count": 58,
   "metadata": {},
   "outputs": [
    {
     "name": "stdout",
     "output_type": "stream",
     "text": [
      "Shipping Time\n",
      "2    255604.28\n",
      "Name: Sales, dtype: float64\n"
     ]
    }
   ],
   "source": [
    "sales_df['Shipping Time'] = (sales_df['Ship Date'] - sales_df['Order Date']).dt.days\n",
    "houston_shipping = sales_df[sales_df['City'] == 'Houston'].groupby('Shipping Time')['Sales'].sum().sort_index()\n",
    "print(houston_shipping)\n"
   ]
  },
  {
   "cell_type": "code",
   "execution_count": 63,
   "metadata": {},
   "outputs": [
    {
     "data": {
      "text/html": [
       "<div>\n",
       "<style scoped>\n",
       "    .dataframe tbody tr th:only-of-type {\n",
       "        vertical-align: middle;\n",
       "    }\n",
       "\n",
       "    .dataframe tbody tr th {\n",
       "        vertical-align: top;\n",
       "    }\n",
       "\n",
       "    .dataframe thead th {\n",
       "        text-align: right;\n",
       "    }\n",
       "</style>\n",
       "<table border=\"1\" class=\"dataframe\">\n",
       "  <thead>\n",
       "    <tr style=\"text-align: right;\">\n",
       "      <th></th>\n",
       "      <th>Order ID</th>\n",
       "      <th>Order Date</th>\n",
       "      <th>Ship Date</th>\n",
       "      <th>Customer ID</th>\n",
       "      <th>Customer Name</th>\n",
       "      <th>Segment</th>\n",
       "      <th>City</th>\n",
       "      <th>State</th>\n",
       "      <th>Region</th>\n",
       "      <th>Product Category</th>\n",
       "      <th>Sub-Category</th>\n",
       "      <th>Product Name</th>\n",
       "      <th>Sales</th>\n",
       "      <th>Quantity</th>\n",
       "      <th>Discount</th>\n",
       "      <th>Profit</th>\n",
       "      <th>month</th>\n",
       "      <th>quarter</th>\n",
       "      <th>year</th>\n",
       "      <th>Shipping Time</th>\n",
       "    </tr>\n",
       "  </thead>\n",
       "  <tbody>\n",
       "    <tr>\n",
       "      <th>0</th>\n",
       "      <td>ORD10000</td>\n",
       "      <td>2023-01-01 00:00:00</td>\n",
       "      <td>2023-01-03 00:00:00</td>\n",
       "      <td>CUST202</td>\n",
       "      <td>Customer 0</td>\n",
       "      <td>Home Office</td>\n",
       "      <td>New York</td>\n",
       "      <td>TX</td>\n",
       "      <td>East</td>\n",
       "      <td>Office Supplies</td>\n",
       "      <td>Chairs</td>\n",
       "      <td>Product 0</td>\n",
       "      <td>496.74</td>\n",
       "      <td>1</td>\n",
       "      <td>0.21</td>\n",
       "      <td>29.81</td>\n",
       "      <td>1</td>\n",
       "      <td>2023Q1</td>\n",
       "      <td>2023</td>\n",
       "      <td>2</td>\n",
       "    </tr>\n",
       "    <tr>\n",
       "      <th>1</th>\n",
       "      <td>ORD10001</td>\n",
       "      <td>2023-01-01 01:00:00</td>\n",
       "      <td>2023-01-03 01:00:00</td>\n",
       "      <td>CUST535</td>\n",
       "      <td>Customer 1</td>\n",
       "      <td>Corporate</td>\n",
       "      <td>Chicago</td>\n",
       "      <td>TX</td>\n",
       "      <td>East</td>\n",
       "      <td>Technology</td>\n",
       "      <td>Tables</td>\n",
       "      <td>Product 1</td>\n",
       "      <td>215.69</td>\n",
       "      <td>1</td>\n",
       "      <td>0.36</td>\n",
       "      <td>28.81</td>\n",
       "      <td>1</td>\n",
       "      <td>2023Q1</td>\n",
       "      <td>2023</td>\n",
       "      <td>2</td>\n",
       "    </tr>\n",
       "    <tr>\n",
       "      <th>2</th>\n",
       "      <td>ORD10002</td>\n",
       "      <td>2023-01-01 02:00:00</td>\n",
       "      <td>2023-01-03 02:00:00</td>\n",
       "      <td>CUST960</td>\n",
       "      <td>Customer 2</td>\n",
       "      <td>Consumer</td>\n",
       "      <td>Chicago</td>\n",
       "      <td>TX</td>\n",
       "      <td>West</td>\n",
       "      <td>Furniture</td>\n",
       "      <td>Binders</td>\n",
       "      <td>Product 2</td>\n",
       "      <td>273.07</td>\n",
       "      <td>9</td>\n",
       "      <td>0.45</td>\n",
       "      <td>-22.71</td>\n",
       "      <td>1</td>\n",
       "      <td>2023Q1</td>\n",
       "      <td>2023</td>\n",
       "      <td>2</td>\n",
       "    </tr>\n",
       "    <tr>\n",
       "      <th>3</th>\n",
       "      <td>ORD10003</td>\n",
       "      <td>2023-01-01 03:00:00</td>\n",
       "      <td>2023-01-03 03:00:00</td>\n",
       "      <td>CUST370</td>\n",
       "      <td>Customer 3</td>\n",
       "      <td>Consumer</td>\n",
       "      <td>Los Angeles</td>\n",
       "      <td>NY</td>\n",
       "      <td>South</td>\n",
       "      <td>Furniture</td>\n",
       "      <td>Binders</td>\n",
       "      <td>Product 3</td>\n",
       "      <td>404.94</td>\n",
       "      <td>8</td>\n",
       "      <td>0.42</td>\n",
       "      <td>132.39</td>\n",
       "      <td>1</td>\n",
       "      <td>2023Q1</td>\n",
       "      <td>2023</td>\n",
       "      <td>2</td>\n",
       "    </tr>\n",
       "    <tr>\n",
       "      <th>4</th>\n",
       "      <td>ORD10004</td>\n",
       "      <td>2023-01-01 04:00:00</td>\n",
       "      <td>2023-01-03 04:00:00</td>\n",
       "      <td>CUST206</td>\n",
       "      <td>Customer 4</td>\n",
       "      <td>Consumer</td>\n",
       "      <td>San Francisco</td>\n",
       "      <td>IL</td>\n",
       "      <td>East</td>\n",
       "      <td>Furniture</td>\n",
       "      <td>Chairs</td>\n",
       "      <td>Product 4</td>\n",
       "      <td>480.63</td>\n",
       "      <td>9</td>\n",
       "      <td>0.26</td>\n",
       "      <td>-15.96</td>\n",
       "      <td>1</td>\n",
       "      <td>2023Q1</td>\n",
       "      <td>2023</td>\n",
       "      <td>2</td>\n",
       "    </tr>\n",
       "    <tr>\n",
       "      <th>...</th>\n",
       "      <td>...</td>\n",
       "      <td>...</td>\n",
       "      <td>...</td>\n",
       "      <td>...</td>\n",
       "      <td>...</td>\n",
       "      <td>...</td>\n",
       "      <td>...</td>\n",
       "      <td>...</td>\n",
       "      <td>...</td>\n",
       "      <td>...</td>\n",
       "      <td>...</td>\n",
       "      <td>...</td>\n",
       "      <td>...</td>\n",
       "      <td>...</td>\n",
       "      <td>...</td>\n",
       "      <td>...</td>\n",
       "      <td>...</td>\n",
       "      <td>...</td>\n",
       "      <td>...</td>\n",
       "      <td>...</td>\n",
       "    </tr>\n",
       "    <tr>\n",
       "      <th>4995</th>\n",
       "      <td>ORD14995</td>\n",
       "      <td>2023-07-28 03:00:00</td>\n",
       "      <td>2023-07-30 03:00:00</td>\n",
       "      <td>CUST504</td>\n",
       "      <td>Customer 4995</td>\n",
       "      <td>Consumer</td>\n",
       "      <td>Los Angeles</td>\n",
       "      <td>CA</td>\n",
       "      <td>East</td>\n",
       "      <td>Furniture</td>\n",
       "      <td>Accessories</td>\n",
       "      <td>Product 4995</td>\n",
       "      <td>460.92</td>\n",
       "      <td>4</td>\n",
       "      <td>0.41</td>\n",
       "      <td>87.12</td>\n",
       "      <td>7</td>\n",
       "      <td>2023Q3</td>\n",
       "      <td>2023</td>\n",
       "      <td>2</td>\n",
       "    </tr>\n",
       "    <tr>\n",
       "      <th>4996</th>\n",
       "      <td>ORD14996</td>\n",
       "      <td>2023-07-28 04:00:00</td>\n",
       "      <td>2023-07-30 04:00:00</td>\n",
       "      <td>CUST561</td>\n",
       "      <td>Customer 4996</td>\n",
       "      <td>Home Office</td>\n",
       "      <td>San Francisco</td>\n",
       "      <td>TX</td>\n",
       "      <td>West</td>\n",
       "      <td>Technology</td>\n",
       "      <td>Phones</td>\n",
       "      <td>Product 4996</td>\n",
       "      <td>278.46</td>\n",
       "      <td>6</td>\n",
       "      <td>0.47</td>\n",
       "      <td>174.69</td>\n",
       "      <td>7</td>\n",
       "      <td>2023Q3</td>\n",
       "      <td>2023</td>\n",
       "      <td>2</td>\n",
       "    </tr>\n",
       "    <tr>\n",
       "      <th>4997</th>\n",
       "      <td>ORD14997</td>\n",
       "      <td>2023-07-28 05:00:00</td>\n",
       "      <td>2023-07-30 05:00:00</td>\n",
       "      <td>CUST231</td>\n",
       "      <td>Customer 4997</td>\n",
       "      <td>Corporate</td>\n",
       "      <td>New York</td>\n",
       "      <td>CA</td>\n",
       "      <td>South</td>\n",
       "      <td>Office Supplies</td>\n",
       "      <td>Phones</td>\n",
       "      <td>Product 4997</td>\n",
       "      <td>292.11</td>\n",
       "      <td>9</td>\n",
       "      <td>0.40</td>\n",
       "      <td>122.06</td>\n",
       "      <td>7</td>\n",
       "      <td>2023Q3</td>\n",
       "      <td>2023</td>\n",
       "      <td>2</td>\n",
       "    </tr>\n",
       "    <tr>\n",
       "      <th>4998</th>\n",
       "      <td>ORD14998</td>\n",
       "      <td>2023-07-28 06:00:00</td>\n",
       "      <td>2023-07-30 06:00:00</td>\n",
       "      <td>CUST890</td>\n",
       "      <td>Customer 4998</td>\n",
       "      <td>Corporate</td>\n",
       "      <td>Houston</td>\n",
       "      <td>CA</td>\n",
       "      <td>West</td>\n",
       "      <td>Technology</td>\n",
       "      <td>Accessories</td>\n",
       "      <td>Product 4998</td>\n",
       "      <td>163.15</td>\n",
       "      <td>3</td>\n",
       "      <td>0.44</td>\n",
       "      <td>-16.05</td>\n",
       "      <td>7</td>\n",
       "      <td>2023Q3</td>\n",
       "      <td>2023</td>\n",
       "      <td>2</td>\n",
       "    </tr>\n",
       "    <tr>\n",
       "      <th>4999</th>\n",
       "      <td>ORD14999</td>\n",
       "      <td>2023-07-28 07:00:00</td>\n",
       "      <td>2023-07-30 07:00:00</td>\n",
       "      <td>CUST973</td>\n",
       "      <td>Customer 4999</td>\n",
       "      <td>Corporate</td>\n",
       "      <td>Los Angeles</td>\n",
       "      <td>TX</td>\n",
       "      <td>Central</td>\n",
       "      <td>Technology</td>\n",
       "      <td>Binders</td>\n",
       "      <td>Product 4999</td>\n",
       "      <td>479.55</td>\n",
       "      <td>4</td>\n",
       "      <td>0.10</td>\n",
       "      <td>-20.98</td>\n",
       "      <td>7</td>\n",
       "      <td>2023Q3</td>\n",
       "      <td>2023</td>\n",
       "      <td>2</td>\n",
       "    </tr>\n",
       "  </tbody>\n",
       "</table>\n",
       "<p>5000 rows × 20 columns</p>\n",
       "</div>"
      ],
      "text/plain": [
       "      Order ID          Order Date           Ship Date Customer ID  \\\n",
       "0     ORD10000 2023-01-01 00:00:00 2023-01-03 00:00:00     CUST202   \n",
       "1     ORD10001 2023-01-01 01:00:00 2023-01-03 01:00:00     CUST535   \n",
       "2     ORD10002 2023-01-01 02:00:00 2023-01-03 02:00:00     CUST960   \n",
       "3     ORD10003 2023-01-01 03:00:00 2023-01-03 03:00:00     CUST370   \n",
       "4     ORD10004 2023-01-01 04:00:00 2023-01-03 04:00:00     CUST206   \n",
       "...        ...                 ...                 ...         ...   \n",
       "4995  ORD14995 2023-07-28 03:00:00 2023-07-30 03:00:00     CUST504   \n",
       "4996  ORD14996 2023-07-28 04:00:00 2023-07-30 04:00:00     CUST561   \n",
       "4997  ORD14997 2023-07-28 05:00:00 2023-07-30 05:00:00     CUST231   \n",
       "4998  ORD14998 2023-07-28 06:00:00 2023-07-30 06:00:00     CUST890   \n",
       "4999  ORD14999 2023-07-28 07:00:00 2023-07-30 07:00:00     CUST973   \n",
       "\n",
       "      Customer Name      Segment           City State   Region  \\\n",
       "0        Customer 0  Home Office       New York    TX     East   \n",
       "1        Customer 1    Corporate        Chicago    TX     East   \n",
       "2        Customer 2     Consumer        Chicago    TX     West   \n",
       "3        Customer 3     Consumer    Los Angeles    NY    South   \n",
       "4        Customer 4     Consumer  San Francisco    IL     East   \n",
       "...             ...          ...            ...   ...      ...   \n",
       "4995  Customer 4995     Consumer    Los Angeles    CA     East   \n",
       "4996  Customer 4996  Home Office  San Francisco    TX     West   \n",
       "4997  Customer 4997    Corporate       New York    CA    South   \n",
       "4998  Customer 4998    Corporate        Houston    CA     West   \n",
       "4999  Customer 4999    Corporate    Los Angeles    TX  Central   \n",
       "\n",
       "     Product Category Sub-Category  Product Name   Sales  Quantity  Discount  \\\n",
       "0     Office Supplies       Chairs     Product 0  496.74         1      0.21   \n",
       "1          Technology       Tables     Product 1  215.69         1      0.36   \n",
       "2           Furniture      Binders     Product 2  273.07         9      0.45   \n",
       "3           Furniture      Binders     Product 3  404.94         8      0.42   \n",
       "4           Furniture       Chairs     Product 4  480.63         9      0.26   \n",
       "...               ...          ...           ...     ...       ...       ...   \n",
       "4995        Furniture  Accessories  Product 4995  460.92         4      0.41   \n",
       "4996       Technology       Phones  Product 4996  278.46         6      0.47   \n",
       "4997  Office Supplies       Phones  Product 4997  292.11         9      0.40   \n",
       "4998       Technology  Accessories  Product 4998  163.15         3      0.44   \n",
       "4999       Technology      Binders  Product 4999  479.55         4      0.10   \n",
       "\n",
       "      Profit  month quarter  year  Shipping Time  \n",
       "0      29.81      1  2023Q1  2023              2  \n",
       "1      28.81      1  2023Q1  2023              2  \n",
       "2     -22.71      1  2023Q1  2023              2  \n",
       "3     132.39      1  2023Q1  2023              2  \n",
       "4     -15.96      1  2023Q1  2023              2  \n",
       "...      ...    ...     ...   ...            ...  \n",
       "4995   87.12      7  2023Q3  2023              2  \n",
       "4996  174.69      7  2023Q3  2023              2  \n",
       "4997  122.06      7  2023Q3  2023              2  \n",
       "4998  -16.05      7  2023Q3  2023              2  \n",
       "4999  -20.98      7  2023Q3  2023              2  \n",
       "\n",
       "[5000 rows x 20 columns]"
      ]
     },
     "execution_count": 63,
     "metadata": {},
     "output_type": "execute_result"
    }
   ],
   "source": [
    "sales_df[sales_df.duplicated(subset=['Region', 'Product Category'], keep=False)]\n"
   ]
  },
  {
   "cell_type": "code",
   "execution_count": null,
   "metadata": {},
   "outputs": [
    {
     "name": "stdout",
     "output_type": "stream",
     "text": [
      "Product Category  Furniture  Office Supplies  Technology\n",
      "Region                                                  \n",
      "Central           105059.24        110195.19   105028.99\n",
      "East              107657.20        108143.51   106555.17\n",
      "South             106857.25         97447.40   106603.96\n",
      "West              111150.41        115885.64    92745.71\n"
     ]
    }
   ],
   "source": [
    "#Creating a pivot table for region wise\n",
    "sales_df_pivot_table = sales_df.pivot_table(index='Region', columns='Product Category', values='Sales', aggfunc='sum')\n",
    "print(sales_df_pivot_table)"
   ]
  },
  {
   "cell_type": "code",
   "execution_count": null,
   "metadata": {},
   "outputs": [
    {
     "name": "stdout",
     "output_type": "stream",
     "text": [
      "Min Sales: 92745.71\n",
      "Max Sales: 115885.64\n"
     ]
    }
   ],
   "source": [
    "#finding minmum and maximum sales by region\n",
    "min_value = sales_df_pivot_table.min().min()  \n",
    "max_value = sales_df_pivot_table.max().max()\n",
    "print(\"Min Sales:\", min_value)\n",
    "print(\"Max Sales:\", max_value)"
   ]
  },
  {
   "cell_type": "code",
   "execution_count": 71,
   "metadata": {},
   "outputs": [],
   "source": [
    "#Adding Minimum and Maximum sales per Product Category and region\n",
    "sales_df_pivot_table.loc['Min Sales'] =sales_df_pivot_table.min()  \n",
    "sales_df_pivot_table.loc['Max Sales'] = sales_df_pivot_table.max()  \n",
    "sales_df_pivot_table['Min Sales'] = sales_df_pivot_table.min(axis=1)  \n",
    "sales_df_pivot_table['Max Sales'] = sales_df_pivot_table.max(axis=1)  \n"
   ]
  },
  {
   "cell_type": "code",
   "execution_count": 72,
   "metadata": {},
   "outputs": [
    {
     "name": "stdout",
     "output_type": "stream",
     "text": [
      "Product Category  Furniture  Office Supplies  Technology  Min Sales  Max Sales\n",
      "Region                                                                        \n",
      "Central           105059.24        110195.19   105028.99  105028.99  110195.19\n",
      "East              107657.20        108143.51   106555.17  106555.17  108143.51\n",
      "South             106857.25         97447.40   106603.96   97447.40  106857.25\n",
      "West              111150.41        115885.64    92745.71   92745.71  115885.64\n",
      "Min Sales         105059.24         97447.40    92745.71   92745.71  105059.24\n",
      "Max Sales         111150.41        115885.64   106603.96  106603.96  115885.64\n"
     ]
    }
   ],
   "source": [
    "print(sales_df_pivot_table)"
   ]
  },
  {
   "cell_type": "code",
   "execution_count": 79,
   "metadata": {},
   "outputs": [
    {
     "name": "stdout",
     "output_type": "stream",
     "text": [
      "     Product Category  rank_column\n",
      "2022        Furniture          1.0\n",
      "1636        Furniture          2.0\n",
      "4575        Furniture          3.0\n",
      "3968        Furniture          4.0\n",
      "694         Furniture          5.0\n",
      "...               ...          ...\n",
      "335        Technology       1575.0\n",
      "2390       Technology       1576.0\n",
      "679        Technology       1577.0\n",
      "3324       Technology       1577.0\n",
      "4171       Technology       1578.0\n",
      "\n",
      "[5000 rows x 2 columns]\n"
     ]
    }
   ],
   "source": [
    "sales_df['rank_column'] = sales_df.groupby('Product Category')['Profit'].rank(ascending=False, method='dense')\n",
    "sales_df = sales_df.sort_values(['Product Category', 'rank_column'])\n",
    "print(sales_df[['Product Category','rank_column']])\n"
   ]
  },
  {
   "cell_type": "code",
   "execution_count": 80,
   "metadata": {},
   "outputs": [
    {
     "name": "stdout",
     "output_type": "stream",
     "text": [
      "  Product Category  Category Rank\n",
      "0        Furniture            3.0\n",
      "1  Office Supplies            2.0\n",
      "2       Technology            1.0\n"
     ]
    }
   ],
   "source": [
    "\n",
    "category_profit = sales_df.groupby('Product Category')['Profit'].sum().reset_index()\n",
    "category_profit['Category Rank'] = category_profit['Profit'].rank(ascending=False, method='dense')\n",
    "print(category_profit[['Product Category', 'Category Rank']])\n"
   ]
  },
  {
   "cell_type": "code",
   "execution_count": 81,
   "metadata": {},
   "outputs": [],
   "source": [
    "sales_with_category_rank = sales_df.merge(category_profit[['Product Category', 'Category Rank']], on='Product Category', how='left')"
   ]
  },
  {
   "cell_type": "code",
   "execution_count": 85,
   "metadata": {},
   "outputs": [
    {
     "name": "stdout",
     "output_type": "stream",
     "text": [
      "  Sub-Category  rank_by_sub_category\n",
      "0  Accessories                   1.0\n",
      "1      Binders                   5.0\n",
      "2       Chairs                   3.0\n",
      "3       Phones                   2.0\n",
      "4       Tables                   4.0\n"
     ]
    }
   ],
   "source": [
    "sub_category_profit=sales_with_category_rank.groupby('Sub-Category')['Profit'].sum().reset_index()\n",
    "sub_category_profit['rank_by_sub_category']=sub_category_profit['Profit'].rank(ascending=False,method='dense')\n",
    "print(sub_category_profit[['Sub-Category','rank_by_sub_category']])"
   ]
  },
  {
   "cell_type": "code",
   "execution_count": null,
   "metadata": {},
   "outputs": [
    {
     "name": "stdout",
     "output_type": "stream",
     "text": [
      "   month      Sales  Previous_sales  Sales Change\n",
      "0      1  182717.07             NaN           NaN\n",
      "1      2  174166.42       182717.07      -8550.65\n",
      "2      3  195344.15       174166.42      21177.73\n",
      "3      4  180518.76       195344.15     -14825.39\n",
      "4      5  187779.84       180518.76       7261.08\n",
      "5      6  182705.37       187779.84      -5074.47\n",
      "6      7  170098.06       182705.37     -12607.31\n"
     ]
    }
   ],
   "source": [
    "#month wise sales difference\n",
    "mon_sales['Previous_sales']=mon_sales['Sales'].shift(1)\n",
    "mon_sales['Sales Change'] = mon_sales['Sales'] - mon_sales['Previous_sales']\n",
    "print(mon_sales)"
   ]
  },
  {
   "cell_type": "code",
   "execution_count": null,
   "metadata": {},
   "outputs": [],
   "source": []
  }
 ],
 "metadata": {
  "kernelspec": {
   "display_name": "Python 3",
   "language": "python",
   "name": "python3"
  },
  "language_info": {
   "codemirror_mode": {
    "name": "ipython",
    "version": 3
   },
   "file_extension": ".py",
   "mimetype": "text/x-python",
   "name": "python",
   "nbconvert_exporter": "python",
   "pygments_lexer": "ipython3",
   "version": "3.10.11"
  }
 },
 "nbformat": 4,
 "nbformat_minor": 2
}
