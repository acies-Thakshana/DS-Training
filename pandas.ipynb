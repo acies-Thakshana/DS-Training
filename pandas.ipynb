{
 "cells": [
  {
   "cell_type": "code",
   "execution_count": 1,
   "metadata": {},
   "outputs": [],
   "source": [
    "import pandas as pd\n",
    "import numpy as np"
   ]
  },
  {
   "cell_type": "code",
   "execution_count": 2,
   "metadata": {},
   "outputs": [
    {
     "name": "stdout",
     "output_type": "stream",
     "text": [
      "    ID     Name  Age  Salary Department Joining_Date  Remote_Work  \\\n",
      "0  101    Alice   25   50000         HR   2015-03-15         True   \n",
      "1  102      Bob   30   60000         IT   2018-07-23        False   \n",
      "2  103  Charlie   35   70000    Finance   2012-09-18        False   \n",
      "3  104    David   40   80000  Marketing   2019-11-30         True   \n",
      "4  105      Eva   45   90000         IT   2020-01-10         True   \n",
      "\n",
      "   Performance_Score   Bonus  Projects_Completed  \n",
      "0                4.5  3000.0                  12  \n",
      "1                3.8  4000.0                   9  \n",
      "2                NaN     NaN                  15  \n",
      "3                4.2  5000.0                   8  \n",
      "4                4.8  4500.0                  11  \n"
     ]
    }
   ],
   "source": [
    "data = {\n",
    "    'ID': [101, 102, 103, 104, 105],\n",
    "    'Name': ['Alice', 'Bob', 'Charlie', 'David', 'Eva'],\n",
    "    'Age': [25, 30, 35, 40, 45],\n",
    "    'Salary': [50000, 60000, 70000, 80000, 90000],\n",
    "    'Department': ['HR', 'IT', 'Finance', 'Marketing', 'IT'],\n",
    "    'Joining_Date': pd.to_datetime(['2015-03-15', '2018-07-23', '2012-09-18', '2019-11-30', '2020-01-10']),\n",
    "    'Remote_Work': [True, False, False, True, True],\n",
    "    'Performance_Score': [4.5, 3.8, np.nan, 4.2, 4.8],\n",
    "    'Bonus': [3000, 4000, np.nan, 5000, 4500],\n",
    "    'Projects_Completed': [12, 9, 15, 8, 11]\n",
    "}\n",
    "\n",
    "df = pd.DataFrame(data)\n",
    "print(df)"
   ]
  },
  {
   "cell_type": "code",
   "execution_count": 3,
   "metadata": {},
   "outputs": [
    {
     "name": "stdout",
     "output_type": "stream",
     "text": [
      "<class 'pandas.core.frame.DataFrame'>\n",
      "RangeIndex: 5 entries, 0 to 4\n",
      "Data columns (total 10 columns):\n",
      " #   Column              Non-Null Count  Dtype         \n",
      "---  ------              --------------  -----         \n",
      " 0   ID                  5 non-null      int64         \n",
      " 1   Name                5 non-null      object        \n",
      " 2   Age                 5 non-null      int64         \n",
      " 3   Salary              5 non-null      int64         \n",
      " 4   Department          5 non-null      object        \n",
      " 5   Joining_Date        5 non-null      datetime64[ns]\n",
      " 6   Remote_Work         5 non-null      bool          \n",
      " 7   Performance_Score   4 non-null      float64       \n",
      " 8   Bonus               4 non-null      float64       \n",
      " 9   Projects_Completed  5 non-null      int64         \n",
      "dtypes: bool(1), datetime64[ns](1), float64(2), int64(4), object(2)\n",
      "memory usage: 493.0+ bytes\n"
     ]
    }
   ],
   "source": [
    "df.info()"
   ]
  },
  {
   "cell_type": "code",
   "execution_count": 4,
   "metadata": {},
   "outputs": [
    {
     "data": {
      "text/html": [
       "<div>\n",
       "<style scoped>\n",
       "    .dataframe tbody tr th:only-of-type {\n",
       "        vertical-align: middle;\n",
       "    }\n",
       "\n",
       "    .dataframe tbody tr th {\n",
       "        vertical-align: top;\n",
       "    }\n",
       "\n",
       "    .dataframe thead th {\n",
       "        text-align: right;\n",
       "    }\n",
       "</style>\n",
       "<table border=\"1\" class=\"dataframe\">\n",
       "  <thead>\n",
       "    <tr style=\"text-align: right;\">\n",
       "      <th></th>\n",
       "      <th>ID</th>\n",
       "      <th>Age</th>\n",
       "      <th>Salary</th>\n",
       "      <th>Joining_Date</th>\n",
       "      <th>Performance_Score</th>\n",
       "      <th>Bonus</th>\n",
       "      <th>Projects_Completed</th>\n",
       "    </tr>\n",
       "  </thead>\n",
       "  <tbody>\n",
       "    <tr>\n",
       "      <th>count</th>\n",
       "      <td>5.000000</td>\n",
       "      <td>5.000000</td>\n",
       "      <td>5.000000</td>\n",
       "      <td>5</td>\n",
       "      <td>4.0000</td>\n",
       "      <td>4.000000</td>\n",
       "      <td>5.000000</td>\n",
       "    </tr>\n",
       "    <tr>\n",
       "      <th>mean</th>\n",
       "      <td>103.000000</td>\n",
       "      <td>35.000000</td>\n",
       "      <td>70000.000000</td>\n",
       "      <td>2017-04-13 04:48:00</td>\n",
       "      <td>4.3250</td>\n",
       "      <td>4125.000000</td>\n",
       "      <td>11.000000</td>\n",
       "    </tr>\n",
       "    <tr>\n",
       "      <th>min</th>\n",
       "      <td>101.000000</td>\n",
       "      <td>25.000000</td>\n",
       "      <td>50000.000000</td>\n",
       "      <td>2012-09-18 00:00:00</td>\n",
       "      <td>3.8000</td>\n",
       "      <td>3000.000000</td>\n",
       "      <td>8.000000</td>\n",
       "    </tr>\n",
       "    <tr>\n",
       "      <th>25%</th>\n",
       "      <td>102.000000</td>\n",
       "      <td>30.000000</td>\n",
       "      <td>60000.000000</td>\n",
       "      <td>2015-03-15 00:00:00</td>\n",
       "      <td>4.1000</td>\n",
       "      <td>3750.000000</td>\n",
       "      <td>9.000000</td>\n",
       "    </tr>\n",
       "    <tr>\n",
       "      <th>50%</th>\n",
       "      <td>103.000000</td>\n",
       "      <td>35.000000</td>\n",
       "      <td>70000.000000</td>\n",
       "      <td>2018-07-23 00:00:00</td>\n",
       "      <td>4.3500</td>\n",
       "      <td>4250.000000</td>\n",
       "      <td>11.000000</td>\n",
       "    </tr>\n",
       "    <tr>\n",
       "      <th>75%</th>\n",
       "      <td>104.000000</td>\n",
       "      <td>40.000000</td>\n",
       "      <td>80000.000000</td>\n",
       "      <td>2019-11-30 00:00:00</td>\n",
       "      <td>4.5750</td>\n",
       "      <td>4625.000000</td>\n",
       "      <td>12.000000</td>\n",
       "    </tr>\n",
       "    <tr>\n",
       "      <th>max</th>\n",
       "      <td>105.000000</td>\n",
       "      <td>45.000000</td>\n",
       "      <td>90000.000000</td>\n",
       "      <td>2020-01-10 00:00:00</td>\n",
       "      <td>4.8000</td>\n",
       "      <td>5000.000000</td>\n",
       "      <td>15.000000</td>\n",
       "    </tr>\n",
       "    <tr>\n",
       "      <th>std</th>\n",
       "      <td>1.581139</td>\n",
       "      <td>7.905694</td>\n",
       "      <td>15811.388301</td>\n",
       "      <td>NaN</td>\n",
       "      <td>0.4272</td>\n",
       "      <td>853.912564</td>\n",
       "      <td>2.738613</td>\n",
       "    </tr>\n",
       "  </tbody>\n",
       "</table>\n",
       "</div>"
      ],
      "text/plain": [
       "               ID        Age        Salary         Joining_Date  \\\n",
       "count    5.000000   5.000000      5.000000                    5   \n",
       "mean   103.000000  35.000000  70000.000000  2017-04-13 04:48:00   \n",
       "min    101.000000  25.000000  50000.000000  2012-09-18 00:00:00   \n",
       "25%    102.000000  30.000000  60000.000000  2015-03-15 00:00:00   \n",
       "50%    103.000000  35.000000  70000.000000  2018-07-23 00:00:00   \n",
       "75%    104.000000  40.000000  80000.000000  2019-11-30 00:00:00   \n",
       "max    105.000000  45.000000  90000.000000  2020-01-10 00:00:00   \n",
       "std      1.581139   7.905694  15811.388301                  NaN   \n",
       "\n",
       "       Performance_Score        Bonus  Projects_Completed  \n",
       "count             4.0000     4.000000            5.000000  \n",
       "mean              4.3250  4125.000000           11.000000  \n",
       "min               3.8000  3000.000000            8.000000  \n",
       "25%               4.1000  3750.000000            9.000000  \n",
       "50%               4.3500  4250.000000           11.000000  \n",
       "75%               4.5750  4625.000000           12.000000  \n",
       "max               4.8000  5000.000000           15.000000  \n",
       "std               0.4272   853.912564            2.738613  "
      ]
     },
     "execution_count": 4,
     "metadata": {},
     "output_type": "execute_result"
    }
   ],
   "source": [
    "df.describe()"
   ]
  },
  {
   "cell_type": "code",
   "execution_count": 5,
   "metadata": {},
   "outputs": [
    {
     "data": {
      "text/plain": [
       "(5, 10)"
      ]
     },
     "execution_count": 5,
     "metadata": {},
     "output_type": "execute_result"
    }
   ],
   "source": [
    "df.shape"
   ]
  },
  {
   "cell_type": "code",
   "execution_count": 6,
   "metadata": {},
   "outputs": [
    {
     "data": {
      "text/plain": [
       "[RangeIndex(start=0, stop=5, step=1),\n",
       " Index(['ID', 'Name', 'Age', 'Salary', 'Department', 'Joining_Date',\n",
       "        'Remote_Work', 'Performance_Score', 'Bonus', 'Projects_Completed'],\n",
       "       dtype='object')]"
      ]
     },
     "execution_count": 6,
     "metadata": {},
     "output_type": "execute_result"
    }
   ],
   "source": [
    "df.axes"
   ]
  },
  {
   "cell_type": "code",
   "execution_count": 23,
   "metadata": {},
   "outputs": [
    {
     "data": {
      "text/html": [
       "<div>\n",
       "<style scoped>\n",
       "    .dataframe tbody tr th:only-of-type {\n",
       "        vertical-align: middle;\n",
       "    }\n",
       "\n",
       "    .dataframe tbody tr th {\n",
       "        vertical-align: top;\n",
       "    }\n",
       "\n",
       "    .dataframe thead th {\n",
       "        text-align: right;\n",
       "    }\n",
       "</style>\n",
       "<table border=\"1\" class=\"dataframe\">\n",
       "  <thead>\n",
       "    <tr style=\"text-align: right;\">\n",
       "      <th></th>\n",
       "      <th>ID</th>\n",
       "      <th>Name</th>\n",
       "      <th>Age</th>\n",
       "      <th>Salary</th>\n",
       "      <th>Department</th>\n",
       "      <th>Joining_Date</th>\n",
       "      <th>Remote_Work</th>\n",
       "      <th>Performance_Score</th>\n",
       "      <th>Bonus</th>\n",
       "      <th>Projects_Completed</th>\n",
       "    </tr>\n",
       "  </thead>\n",
       "  <tbody>\n",
       "    <tr>\n",
       "      <th>0</th>\n",
       "      <td>101</td>\n",
       "      <td>Alice</td>\n",
       "      <td>25</td>\n",
       "      <td>50000</td>\n",
       "      <td>HR</td>\n",
       "      <td>2015-03-15</td>\n",
       "      <td>True</td>\n",
       "      <td>4.5</td>\n",
       "      <td>3000.0</td>\n",
       "      <td>12</td>\n",
       "    </tr>\n",
       "    <tr>\n",
       "      <th>1</th>\n",
       "      <td>102</td>\n",
       "      <td>Bob</td>\n",
       "      <td>30</td>\n",
       "      <td>60000</td>\n",
       "      <td>IT</td>\n",
       "      <td>2018-07-23</td>\n",
       "      <td>False</td>\n",
       "      <td>3.8</td>\n",
       "      <td>4000.0</td>\n",
       "      <td>9</td>\n",
       "    </tr>\n",
       "    <tr>\n",
       "      <th>2</th>\n",
       "      <td>103</td>\n",
       "      <td>Charlie</td>\n",
       "      <td>35</td>\n",
       "      <td>70000</td>\n",
       "      <td>Finance</td>\n",
       "      <td>2012-09-18</td>\n",
       "      <td>False</td>\n",
       "      <td>NaN</td>\n",
       "      <td>NaN</td>\n",
       "      <td>15</td>\n",
       "    </tr>\n",
       "    <tr>\n",
       "      <th>3</th>\n",
       "      <td>104</td>\n",
       "      <td>David</td>\n",
       "      <td>40</td>\n",
       "      <td>80000</td>\n",
       "      <td>Marketing</td>\n",
       "      <td>2019-11-30</td>\n",
       "      <td>True</td>\n",
       "      <td>4.2</td>\n",
       "      <td>5000.0</td>\n",
       "      <td>8</td>\n",
       "    </tr>\n",
       "    <tr>\n",
       "      <th>4</th>\n",
       "      <td>105</td>\n",
       "      <td>Eva</td>\n",
       "      <td>45</td>\n",
       "      <td>90000</td>\n",
       "      <td>IT</td>\n",
       "      <td>2020-01-10</td>\n",
       "      <td>True</td>\n",
       "      <td>4.8</td>\n",
       "      <td>4500.0</td>\n",
       "      <td>11</td>\n",
       "    </tr>\n",
       "  </tbody>\n",
       "</table>\n",
       "</div>"
      ],
      "text/plain": [
       "    ID     Name  Age  Salary Department Joining_Date  Remote_Work  \\\n",
       "0  101    Alice   25   50000         HR   2015-03-15         True   \n",
       "1  102      Bob   30   60000         IT   2018-07-23        False   \n",
       "2  103  Charlie   35   70000    Finance   2012-09-18        False   \n",
       "3  104    David   40   80000  Marketing   2019-11-30         True   \n",
       "4  105      Eva   45   90000         IT   2020-01-10         True   \n",
       "\n",
       "   Performance_Score   Bonus  Projects_Completed  \n",
       "0                4.5  3000.0                  12  \n",
       "1                3.8  4000.0                   9  \n",
       "2                NaN     NaN                  15  \n",
       "3                4.2  5000.0                   8  \n",
       "4                4.8  4500.0                  11  "
      ]
     },
     "execution_count": 23,
     "metadata": {},
     "output_type": "execute_result"
    }
   ],
   "source": [
    "df.head()"
   ]
  },
  {
   "cell_type": "code",
   "execution_count": 24,
   "metadata": {},
   "outputs": [
    {
     "data": {
      "text/html": [
       "<div>\n",
       "<style scoped>\n",
       "    .dataframe tbody tr th:only-of-type {\n",
       "        vertical-align: middle;\n",
       "    }\n",
       "\n",
       "    .dataframe tbody tr th {\n",
       "        vertical-align: top;\n",
       "    }\n",
       "\n",
       "    .dataframe thead th {\n",
       "        text-align: right;\n",
       "    }\n",
       "</style>\n",
       "<table border=\"1\" class=\"dataframe\">\n",
       "  <thead>\n",
       "    <tr style=\"text-align: right;\">\n",
       "      <th></th>\n",
       "      <th>ID</th>\n",
       "      <th>Name</th>\n",
       "      <th>Age</th>\n",
       "      <th>Salary</th>\n",
       "      <th>Department</th>\n",
       "      <th>Joining_Date</th>\n",
       "      <th>Remote_Work</th>\n",
       "      <th>Performance_Score</th>\n",
       "      <th>Bonus</th>\n",
       "      <th>Projects_Completed</th>\n",
       "    </tr>\n",
       "  </thead>\n",
       "  <tbody>\n",
       "    <tr>\n",
       "      <th>0</th>\n",
       "      <td>101</td>\n",
       "      <td>Alice</td>\n",
       "      <td>25</td>\n",
       "      <td>50000</td>\n",
       "      <td>HR</td>\n",
       "      <td>2015-03-15</td>\n",
       "      <td>True</td>\n",
       "      <td>4.5</td>\n",
       "      <td>3000.0</td>\n",
       "      <td>12</td>\n",
       "    </tr>\n",
       "    <tr>\n",
       "      <th>1</th>\n",
       "      <td>102</td>\n",
       "      <td>Bob</td>\n",
       "      <td>30</td>\n",
       "      <td>60000</td>\n",
       "      <td>IT</td>\n",
       "      <td>2018-07-23</td>\n",
       "      <td>False</td>\n",
       "      <td>3.8</td>\n",
       "      <td>4000.0</td>\n",
       "      <td>9</td>\n",
       "    </tr>\n",
       "    <tr>\n",
       "      <th>2</th>\n",
       "      <td>103</td>\n",
       "      <td>Charlie</td>\n",
       "      <td>35</td>\n",
       "      <td>70000</td>\n",
       "      <td>Finance</td>\n",
       "      <td>2012-09-18</td>\n",
       "      <td>False</td>\n",
       "      <td>NaN</td>\n",
       "      <td>NaN</td>\n",
       "      <td>15</td>\n",
       "    </tr>\n",
       "    <tr>\n",
       "      <th>3</th>\n",
       "      <td>104</td>\n",
       "      <td>David</td>\n",
       "      <td>40</td>\n",
       "      <td>80000</td>\n",
       "      <td>Marketing</td>\n",
       "      <td>2019-11-30</td>\n",
       "      <td>True</td>\n",
       "      <td>4.2</td>\n",
       "      <td>5000.0</td>\n",
       "      <td>8</td>\n",
       "    </tr>\n",
       "    <tr>\n",
       "      <th>4</th>\n",
       "      <td>105</td>\n",
       "      <td>Eva</td>\n",
       "      <td>45</td>\n",
       "      <td>90000</td>\n",
       "      <td>IT</td>\n",
       "      <td>2020-01-10</td>\n",
       "      <td>True</td>\n",
       "      <td>4.8</td>\n",
       "      <td>4500.0</td>\n",
       "      <td>11</td>\n",
       "    </tr>\n",
       "  </tbody>\n",
       "</table>\n",
       "</div>"
      ],
      "text/plain": [
       "    ID     Name  Age  Salary Department Joining_Date  Remote_Work  \\\n",
       "0  101    Alice   25   50000         HR   2015-03-15         True   \n",
       "1  102      Bob   30   60000         IT   2018-07-23        False   \n",
       "2  103  Charlie   35   70000    Finance   2012-09-18        False   \n",
       "3  104    David   40   80000  Marketing   2019-11-30         True   \n",
       "4  105      Eva   45   90000         IT   2020-01-10         True   \n",
       "\n",
       "   Performance_Score   Bonus  Projects_Completed  \n",
       "0                4.5  3000.0                  12  \n",
       "1                3.8  4000.0                   9  \n",
       "2                NaN     NaN                  15  \n",
       "3                4.2  5000.0                   8  \n",
       "4                4.8  4500.0                  11  "
      ]
     },
     "execution_count": 24,
     "metadata": {},
     "output_type": "execute_result"
    }
   ],
   "source": [
    "df.tail()"
   ]
  },
  {
   "cell_type": "code",
   "execution_count": 10,
   "metadata": {},
   "outputs": [
    {
     "name": "stdout",
     "output_type": "stream",
     "text": [
      "0      Alice\n",
      "1        Bob\n",
      "2    Charlie\n",
      "3      David\n",
      "4        Eva\n",
      "Name: Name, dtype: object\n",
      "0    25\n",
      "1    30\n",
      "2    35\n",
      "3    40\n",
      "4    45\n",
      "Name: Age, dtype: int64\n"
     ]
    }
   ],
   "source": [
    "print(df.loc[:,'Name'])\n",
    "print(df.iloc[:,2])"
   ]
  },
  {
   "cell_type": "code",
   "execution_count": 21,
   "metadata": {},
   "outputs": [
    {
     "data": {
      "text/plain": [
       "Department\n",
       "Finance      1\n",
       "HR           1\n",
       "IT           2\n",
       "Marketing    1\n",
       "dtype: int64"
      ]
     },
     "execution_count": 21,
     "metadata": {},
     "output_type": "execute_result"
    }
   ],
   "source": [
    "value1 = df.groupby('Department').size()\n",
    "value1"
   ]
  },
  {
   "cell_type": "code",
   "execution_count": null,
   "metadata": {},
   "outputs": [
    {
     "data": {
      "text/html": [
       "<div>\n",
       "<style scoped>\n",
       "    .dataframe tbody tr th:only-of-type {\n",
       "        vertical-align: middle;\n",
       "    }\n",
       "\n",
       "    .dataframe tbody tr th {\n",
       "        vertical-align: top;\n",
       "    }\n",
       "\n",
       "    .dataframe thead th {\n",
       "        text-align: right;\n",
       "    }\n",
       "</style>\n",
       "<table border=\"1\" class=\"dataframe\">\n",
       "  <thead>\n",
       "    <tr style=\"text-align: right;\">\n",
       "      <th></th>\n",
       "      <th>ID</th>\n",
       "      <th>Name</th>\n",
       "      <th>Age</th>\n",
       "      <th>Salary</th>\n",
       "      <th>Joining_Date</th>\n",
       "      <th>Remote_Work</th>\n",
       "      <th>Performance_Score</th>\n",
       "      <th>Bonus</th>\n",
       "      <th>Projects_Completed</th>\n",
       "    </tr>\n",
       "    <tr>\n",
       "      <th>Department</th>\n",
       "      <th></th>\n",
       "      <th></th>\n",
       "      <th></th>\n",
       "      <th></th>\n",
       "      <th></th>\n",
       "      <th></th>\n",
       "      <th></th>\n",
       "      <th></th>\n",
       "      <th></th>\n",
       "    </tr>\n",
       "  </thead>\n",
       "  <tbody>\n",
       "    <tr>\n",
       "      <th>Finance</th>\n",
       "      <td>1</td>\n",
       "      <td>1</td>\n",
       "      <td>1</td>\n",
       "      <td>1</td>\n",
       "      <td>1</td>\n",
       "      <td>1</td>\n",
       "      <td>0</td>\n",
       "      <td>0</td>\n",
       "      <td>1</td>\n",
       "    </tr>\n",
       "    <tr>\n",
       "      <th>HR</th>\n",
       "      <td>1</td>\n",
       "      <td>1</td>\n",
       "      <td>1</td>\n",
       "      <td>1</td>\n",
       "      <td>1</td>\n",
       "      <td>1</td>\n",
       "      <td>1</td>\n",
       "      <td>1</td>\n",
       "      <td>1</td>\n",
       "    </tr>\n",
       "    <tr>\n",
       "      <th>IT</th>\n",
       "      <td>2</td>\n",
       "      <td>2</td>\n",
       "      <td>2</td>\n",
       "      <td>2</td>\n",
       "      <td>2</td>\n",
       "      <td>2</td>\n",
       "      <td>2</td>\n",
       "      <td>2</td>\n",
       "      <td>2</td>\n",
       "    </tr>\n",
       "    <tr>\n",
       "      <th>Marketing</th>\n",
       "      <td>1</td>\n",
       "      <td>1</td>\n",
       "      <td>1</td>\n",
       "      <td>1</td>\n",
       "      <td>1</td>\n",
       "      <td>1</td>\n",
       "      <td>1</td>\n",
       "      <td>1</td>\n",
       "      <td>1</td>\n",
       "    </tr>\n",
       "  </tbody>\n",
       "</table>\n",
       "</div>"
      ],
      "text/plain": [
       "            ID  Name  Age  Salary  Joining_Date  Remote_Work  \\\n",
       "Department                                                     \n",
       "Finance      1     1    1       1             1            1   \n",
       "HR           1     1    1       1             1            1   \n",
       "IT           2     2    2       2             2            2   \n",
       "Marketing    1     1    1       1             1            1   \n",
       "\n",
       "            Performance_Score  Bonus  Projects_Completed  \n",
       "Department                                                \n",
       "Finance                     0      0                   1  \n",
       "HR                          1      1                   1  \n",
       "IT                          2      2                   2  \n",
       "Marketing                   1      1                   1  "
      ]
     },
     "execution_count": 22,
     "metadata": {},
     "output_type": "execute_result"
    }
   ],
   "source": [
    "value2 = df.groupby('Department').count()\n",
    "value2"
   ]
  },
  {
   "cell_type": "code",
   "execution_count": 25,
   "metadata": {},
   "outputs": [
    {
     "data": {
      "text/plain": [
       "Department\n",
       "IT           2\n",
       "HR           1\n",
       "Finance      1\n",
       "Marketing    1\n",
       "Name: count, dtype: int64"
      ]
     },
     "execution_count": 25,
     "metadata": {},
     "output_type": "execute_result"
    }
   ],
   "source": [
    "df['Department'].value_counts()"
   ]
  },
  {
   "cell_type": "code",
   "execution_count": 27,
   "metadata": {},
   "outputs": [
    {
     "data": {
      "text/plain": [
       "0      Alice\n",
       "1        Bob\n",
       "2    Charlie\n",
       "3      David\n",
       "4        Eva\n",
       "Name: Name, dtype: object"
      ]
     },
     "execution_count": 27,
     "metadata": {},
     "output_type": "execute_result"
    }
   ],
   "source": [
    "df['Name'].sort_values()"
   ]
  },
  {
   "cell_type": "code",
   "execution_count": 33,
   "metadata": {},
   "outputs": [
    {
     "data": {
      "text/plain": [
       "0    False\n",
       "1    False\n",
       "2     True\n",
       "3    False\n",
       "4    False\n",
       "Name: Bonus, dtype: bool"
      ]
     },
     "execution_count": 33,
     "metadata": {},
     "output_type": "execute_result"
    }
   ],
   "source": [
    "df['Bonus'].isna()"
   ]
  },
  {
   "cell_type": "code",
   "execution_count": 31,
   "metadata": {},
   "outputs": [
    {
     "data": {
      "text/html": [
       "<div>\n",
       "<style scoped>\n",
       "    .dataframe tbody tr th:only-of-type {\n",
       "        vertical-align: middle;\n",
       "    }\n",
       "\n",
       "    .dataframe tbody tr th {\n",
       "        vertical-align: top;\n",
       "    }\n",
       "\n",
       "    .dataframe thead th {\n",
       "        text-align: right;\n",
       "    }\n",
       "</style>\n",
       "<table border=\"1\" class=\"dataframe\">\n",
       "  <thead>\n",
       "    <tr style=\"text-align: right;\">\n",
       "      <th></th>\n",
       "      <th>sum</th>\n",
       "      <th>min</th>\n",
       "    </tr>\n",
       "    <tr>\n",
       "      <th>Department</th>\n",
       "      <th></th>\n",
       "      <th></th>\n",
       "    </tr>\n",
       "  </thead>\n",
       "  <tbody>\n",
       "    <tr>\n",
       "      <th>Finance</th>\n",
       "      <td>70000</td>\n",
       "      <td>70000</td>\n",
       "    </tr>\n",
       "    <tr>\n",
       "      <th>HR</th>\n",
       "      <td>50000</td>\n",
       "      <td>50000</td>\n",
       "    </tr>\n",
       "    <tr>\n",
       "      <th>IT</th>\n",
       "      <td>150000</td>\n",
       "      <td>60000</td>\n",
       "    </tr>\n",
       "    <tr>\n",
       "      <th>Marketing</th>\n",
       "      <td>80000</td>\n",
       "      <td>80000</td>\n",
       "    </tr>\n",
       "  </tbody>\n",
       "</table>\n",
       "</div>"
      ],
      "text/plain": [
       "               sum    min\n",
       "Department               \n",
       "Finance      70000  70000\n",
       "HR           50000  50000\n",
       "IT          150000  60000\n",
       "Marketing    80000  80000"
      ]
     },
     "execution_count": 31,
     "metadata": {},
     "output_type": "execute_result"
    }
   ],
   "source": [
    "df.groupby('Department')['Salary'].agg(['sum','min'])"
   ]
  },
  {
   "cell_type": "code",
   "execution_count": 37,
   "metadata": {},
   "outputs": [
    {
     "data": {
      "text/html": [
       "<div>\n",
       "<style scoped>\n",
       "    .dataframe tbody tr th:only-of-type {\n",
       "        vertical-align: middle;\n",
       "    }\n",
       "\n",
       "    .dataframe tbody tr th {\n",
       "        vertical-align: top;\n",
       "    }\n",
       "\n",
       "    .dataframe thead th {\n",
       "        text-align: right;\n",
       "    }\n",
       "</style>\n",
       "<table border=\"1\" class=\"dataframe\">\n",
       "  <thead>\n",
       "    <tr style=\"text-align: right;\">\n",
       "      <th></th>\n",
       "      <th>Name</th>\n",
       "      <th>Age</th>\n",
       "      <th>Salary</th>\n",
       "      <th>Department</th>\n",
       "    </tr>\n",
       "  </thead>\n",
       "  <tbody>\n",
       "    <tr>\n",
       "      <th>0</th>\n",
       "      <td>Alice</td>\n",
       "      <td>25</td>\n",
       "      <td>50000</td>\n",
       "      <td>HR</td>\n",
       "    </tr>\n",
       "  </tbody>\n",
       "</table>\n",
       "</div>"
      ],
      "text/plain": [
       "    Name  Age  Salary Department\n",
       "0  Alice   25   50000         HR"
      ]
     },
     "execution_count": 37,
     "metadata": {},
     "output_type": "execute_result"
    }
   ],
   "source": [
    "a = df.query('ID == 101')[['Name','Age','Salary','Department']]\n",
    "a"
   ]
  }
 ],
 "metadata": {
  "kernelspec": {
   "display_name": "Python 3",
   "language": "python",
   "name": "python3"
  },
  "language_info": {
   "codemirror_mode": {
    "name": "ipython",
    "version": 3
   },
   "file_extension": ".py",
   "mimetype": "text/x-python",
   "name": "python",
   "nbconvert_exporter": "python",
   "pygments_lexer": "ipython3",
   "version": "3.10.11"
  }
 },
 "nbformat": 4,
 "nbformat_minor": 2
}
